{
 "cells": [
  {
   "cell_type": "markdown",
   "source": [
    "# Soil Heat Tutorial"
   ],
   "metadata": {}
  },
  {
   "cell_type": "markdown",
   "source": [
    "This tutorial shows how to use CliMA code to solve the heat\n",
    "equation in soil.\n",
    "For background on the heat equation in general,\n",
    "and how to solve it using CliMA code, please see the\n",
    "[`heat_equation.jl`](../../Heat/heat_equation.md)\n",
    "tutorial."
   ],
   "metadata": {}
  },
  {
   "cell_type": "markdown",
   "source": [
    "The version of the heat equation we are solving here assumes no\n",
    "sources or sinks and no diffusion of liquid water. It takes the form"
   ],
   "metadata": {}
  },
  {
   "cell_type": "markdown",
   "source": [
    "``\n",
    "\\frac{∂ ρe_{int}}{∂ t} + ∇ ⋅ (-κ(θ_l, θ_i; ν, ...) ∇T) = 0\n",
    "``"
   ],
   "metadata": {}
  },
  {
   "cell_type": "markdown",
   "source": [
    "Here `ρe_int` is the volumetric internal energy of the soil (J/m^3),\n",
    "`T` is the temperature of the soil (K), and `κ` is the thermal conductivity\n",
    "(W/m/K). `κ` is in turn a function of the soil composition, expressed\n",
    "in terms of the volumetric liquid water fraction `θ_l`, the volumetric\n",
    "ice fraction `θ_i`, and the soil type, represented by parameters `ν, ...`. Specifying\n",
    "a soil type requires specifying the fraction of soil solids in different\n",
    "components, and specifying a porosity. The temperature `T` and\n",
    "volumetric internal energy `ρe_int` are related as"
   ],
   "metadata": {}
  },
  {
   "cell_type": "markdown",
   "source": [
    "``\n",
    "ρe_int = ρc_s (θ_l, θ_i; ν, ...) (T - T_0) - θ_i ρ_i LH_{f0}\n",
    "``\n",
    "\n",
    "where `ρc_s` is the volumetric heat capacity of the soil (J/m^3/K),\n",
    "`T_0` is the freezing temeprature of water, `ρ_i` is the density of\n",
    "ice (kg/m^3), and `LH_f0` is the latent heat of fusion at `T_0`."
   ],
   "metadata": {}
  },
  {
   "cell_type": "markdown",
   "source": [
    "In this example, we will use a [`PrescribedWaterModel`](@ref\n",
    "ClimateMachine.Land.PrescribedWaterModel). This option allows\n",
    "the user to specify a function for the spatial and temporal\n",
    "behavior of `θ_i` and `θ_l`; it does not solve Richard's equation\n",
    "for the evolution of moisture. Please see the tutorials\n",
    "in the `Soil/Coupled/` folder or the `Soil/Water/`\n",
    "folder for information on solving\n",
    "Richard's equation, either coupled or uncoupled from the heat equation."
   ],
   "metadata": {}
  },
  {
   "cell_type": "markdown",
   "source": [
    "# Import necessary modules"
   ],
   "metadata": {}
  },
  {
   "cell_type": "markdown",
   "source": [
    "External (non - CliMA) modules"
   ],
   "metadata": {}
  },
  {
   "outputs": [],
   "cell_type": "code",
   "source": [
    "using MPI\n",
    "using OrderedCollections\n",
    "using StaticArrays\n",
    "using Statistics\n",
    "using Dierckx\n",
    "using Plots\n",
    "using DelimitedFiles"
   ],
   "metadata": {},
   "execution_count": 1
  },
  {
   "cell_type": "markdown",
   "source": [
    "CliMA Parameters"
   ],
   "metadata": {}
  },
  {
   "outputs": [],
   "cell_type": "code",
   "source": [
    "using CLIMAParameters\n",
    "using CLIMAParameters.Planet: ρ_cloud_liq, ρ_cloud_ice, cp_l, cp_i, T_0, LH_f0\n",
    "using CLIMAParameters.Atmos.Microphysics: K_therm"
   ],
   "metadata": {},
   "execution_count": 2
  },
  {
   "cell_type": "markdown",
   "source": [
    "ClimateMachine modules"
   ],
   "metadata": {}
  },
  {
   "outputs": [],
   "cell_type": "code",
   "source": [
    "using ClimateMachine\n",
    "using ClimateMachine.Land\n",
    "using ClimateMachine.Land.SoilWaterParameterizations\n",
    "using ClimateMachine.Land.SoilHeatParameterizations\n",
    "using ClimateMachine.Mesh.Topologies\n",
    "using ClimateMachine.Mesh.Grids\n",
    "using ClimateMachine.DGMethods\n",
    "using ClimateMachine.DGMethods.NumericalFluxes\n",
    "using ClimateMachine.DGMethods: BalanceLaw, LocalGeometry\n",
    "using ClimateMachine.MPIStateArrays\n",
    "using ClimateMachine.GenericCallbacks\n",
    "using ClimateMachine.ODESolvers\n",
    "using ClimateMachine.VariableTemplates\n",
    "using ClimateMachine.SingleStackUtils\n",
    "using ClimateMachine.BalanceLaws:\n",
    "    BalanceLaw, Prognostic, Auxiliary, Gradient, GradientFlux, vars_state\n",
    "import ClimateMachine.DGMethods: calculate_dt\n",
    "using ClimateMachine.ArtifactWrappers"
   ],
   "metadata": {},
   "execution_count": 3
  },
  {
   "cell_type": "markdown",
   "source": [
    "# Preliminary set-up"
   ],
   "metadata": {}
  },
  {
   "cell_type": "markdown",
   "source": [
    "Get the parameter set, which holds constants used across CliMA models."
   ],
   "metadata": {}
  },
  {
   "outputs": [
    {
     "output_type": "execute_result",
     "data": {
      "text/plain": "Main.##353.EarthParameterSet()"
     },
     "metadata": {},
     "execution_count": 4
    }
   ],
   "cell_type": "code",
   "source": [
    "struct EarthParameterSet <: AbstractEarthParameterSet end\n",
    "const param_set = EarthParameterSet()"
   ],
   "metadata": {},
   "execution_count": 4
  },
  {
   "cell_type": "markdown",
   "source": [
    "Initialize and pick a floating point precision."
   ],
   "metadata": {}
  },
  {
   "outputs": [
    {
     "output_type": "execute_result",
     "data": {
      "text/plain": "Float32"
     },
     "metadata": {},
     "execution_count": 5
    }
   ],
   "cell_type": "code",
   "source": [
    "ClimateMachine.init()\n",
    "FT = Float32"
   ],
   "metadata": {},
   "execution_count": 5
  },
  {
   "cell_type": "markdown",
   "source": [
    "Load a function that will create an interpolation of the\n",
    "simulation output, to be used in plotting:"
   ],
   "metadata": {}
  },
  {
   "outputs": [
    {
     "output_type": "execute_result",
     "data": {
      "text/plain": "interpolate_variables (generic function with 1 method)"
     },
     "metadata": {},
     "execution_count": 6
    }
   ],
   "cell_type": "code",
   "source": [
    "const clima_dir = dirname(dirname(pathof(ClimateMachine)));\n",
    "include(joinpath(\n",
    "    clima_dir,\n",
    "    \"tutorials\",\n",
    "    \"Land\",\n",
    "    \"Soil\",\n",
    "    \"interpolation_helper.jl\",\n",
    "))"
   ],
   "metadata": {},
   "execution_count": 6
  },
  {
   "cell_type": "markdown",
   "source": [
    "# Determine soil parameters"
   ],
   "metadata": {}
  },
  {
   "cell_type": "markdown",
   "source": [
    "Below are the soil component fractions for various soil\n",
    "texture classes,  from Cosby et al. (1984) [1, 5].\n",
    "Note that these fractions are volumetric fractions, relative\n",
    "to other soil solids, i.e. not including pore space. These are denoted `ν_ss_i`: an\n",
    "important distinction is that the CliMA\n",
    "Land Documentation reserves the symbol `ν_i` to denote the volumetric fraction\n",
    "of a soil component `i` relative to the soil, including pore space, such that\n",
    "the sum over `i`, of `ν_i`, is equal to `1-porosity`."
   ],
   "metadata": {}
  },
  {
   "cell_type": "markdown",
   "source": [
    "index: type"
   ],
   "metadata": {}
  },
  {
   "cell_type": "markdown",
   "source": [
    " 1: sand"
   ],
   "metadata": {}
  },
  {
   "cell_type": "markdown",
   "source": [
    " 2: loamy sand"
   ],
   "metadata": {}
  },
  {
   "cell_type": "markdown",
   "source": [
    " 3: sandy loam"
   ],
   "metadata": {}
  },
  {
   "cell_type": "markdown",
   "source": [
    " 4: silty loam"
   ],
   "metadata": {}
  },
  {
   "cell_type": "markdown",
   "source": [
    " 5: loam"
   ],
   "metadata": {}
  },
  {
   "cell_type": "markdown",
   "source": [
    " 6: sandy clay loam"
   ],
   "metadata": {}
  },
  {
   "cell_type": "markdown",
   "source": [
    " 7  silty clay loam"
   ],
   "metadata": {}
  },
  {
   "cell_type": "markdown",
   "source": [
    " 8: clay loam"
   ],
   "metadata": {}
  },
  {
   "cell_type": "markdown",
   "source": [
    " 9: sandy clay"
   ],
   "metadata": {}
  },
  {
   "cell_type": "markdown",
   "source": [
    "10: silty clay"
   ],
   "metadata": {}
  },
  {
   "cell_type": "markdown",
   "source": [
    "11: clay"
   ],
   "metadata": {}
  },
  {
   "outputs": [
    {
     "output_type": "execute_result",
     "data": {
      "text/plain": "11-element Array{Float32,1}:\n 0.395\n 0.41\n 0.435\n 0.485\n 0.451\n 0.42\n 0.477\n 0.476\n 0.426\n 0.492\n 0.482"
     },
     "metadata": {},
     "execution_count": 7
    }
   ],
   "cell_type": "code",
   "source": [
    "ν_ss_silt_array =\n",
    "    FT.(\n",
    "        [5.0, 12.0, 32.0, 70.0, 39.0, 15.0, 56.0, 34.0, 6.0, 47.0, 20.0] ./\n",
    "        100.0,\n",
    "    )\n",
    "ν_ss_quartz_array =\n",
    "    FT.(\n",
    "        [92.0, 82.0, 58.0, 17.0, 43.0, 58.0, 10.0, 32.0, 52.0, 6.0, 22.0] ./\n",
    "        100.0,\n",
    "    )\n",
    "ν_ss_clay_array =\n",
    "    FT.(\n",
    "        [3.0, 6.0, 10.0, 13.0, 18.0, 27.0, 34.0, 34.0, 42.0, 47.0, 58.0] ./\n",
    "        100.0,\n",
    "    )\n",
    "porosity_array =\n",
    "    FT.([\n",
    "        0.395,\n",
    "        0.410,\n",
    "        0.435,\n",
    "        0.485,\n",
    "        0.451,\n",
    "        0.420,\n",
    "        0.477,\n",
    "        0.476,\n",
    "        0.426,\n",
    "        0.492,\n",
    "        0.482,\n",
    "    ])"
   ],
   "metadata": {},
   "execution_count": 7
  },
  {
   "cell_type": "markdown",
   "source": [
    "Here we choose the soil type to be sandy.\n",
    "The soil column in uniform in space and time."
   ],
   "metadata": {}
  },
  {
   "outputs": [
    {
     "output_type": "execute_result",
     "data": {
      "text/plain": "0.395f0"
     },
     "metadata": {},
     "execution_count": 8
    }
   ],
   "cell_type": "code",
   "source": [
    "soil_type_index = 1\n",
    "ν_ss_minerals =\n",
    "    ν_ss_clay_array[soil_type_index] + ν_ss_silt_array[soil_type_index]\n",
    "ν_ss_quartz = ν_ss_quartz_array[soil_type_index]\n",
    "porosity = porosity_array[soil_type_index]"
   ],
   "metadata": {},
   "execution_count": 8
  },
  {
   "cell_type": "markdown",
   "source": [
    "This tutorial additionally compares the output of a ClimateMachine simulation with that\n",
    "of Supplemental Program 2, Chapter 5, of Bonan (2019) [1].\n",
    " We found this useful as it\n",
    "allows us compare results from our code against a published version."
   ],
   "metadata": {}
  },
  {
   "cell_type": "markdown",
   "source": [
    "The simulation code of [1] employs a formalism for the thermal\n",
    "conductivity `κ` based on Johansen, 1975, [2]. It assumes\n",
    "no organic matter, and only requires the volumetric\n",
    "fraction of soil solids for quartz and other minerals.\n",
    "ClimateMachine employs the formalism of Balland and Arp (2005)[3],\n",
    "which requires the\n",
    "fraction of soil solids for quartz, gravel,\n",
    "organic matter, and other minerals. Dai (2019)[4] found\n",
    "model [3] to better match\n",
    "measured soil properties across a range of soil types."
   ],
   "metadata": {}
  },
  {
   "cell_type": "markdown",
   "source": [
    "To compare the output of the two simulations, we set the organic\n",
    "matter content and gravel content to zero in the CliMA model.\n",
    "The remaining soil components (quartz and other minerals) match between\n",
    "the two. We also run the simulation for relatively wet soil\n",
    "(water content at 80% of porosity). Under these conditions,\n",
    "the two formulations for `κ`, though taking different functional forms,\n",
    "agree well on the value of `κ`.\n",
    "The differences between models are important\n",
    "for soil with organic material and for soil that is relatively dry."
   ],
   "metadata": {}
  },
  {
   "outputs": [
    {
     "output_type": "execute_result",
     "data": {
      "text/plain": "0.0f0"
     },
     "metadata": {},
     "execution_count": 9
    }
   ],
   "cell_type": "code",
   "source": [
    "ν_ss_om = FT(0.0)\n",
    "ν_ss_gravel = FT(0.0)"
   ],
   "metadata": {},
   "execution_count": 9
  },
  {
   "cell_type": "markdown",
   "source": [
    "We next calculate\n",
    "the thermal conductivity `κ` of the soil. This requires\n",
    "several other constants:"
   ],
   "metadata": {}
  },
  {
   "outputs": [
    {
     "output_type": "execute_result",
     "data": {
      "text/plain": "2.29f0"
     },
     "metadata": {},
     "execution_count": 10
    }
   ],
   "cell_type": "code",
   "source": [
    "κ_quartz = FT(7.7) # W/m/K\n",
    "κ_minerals = FT(2.5) # W/m/K\n",
    "κ_om = FT(0.25) # W/m/K\n",
    "κ_liq = FT(0.57) # W/m/K\n",
    "κ_ice = FT(2.29) # W/m/K"
   ],
   "metadata": {},
   "execution_count": 10
  },
  {
   "cell_type": "markdown",
   "source": [
    "The thermal conductivity of air is a constant parameter used across ClimateMachine,\n",
    "so we will get it from that parameter set."
   ],
   "metadata": {}
  },
  {
   "outputs": [
    {
     "output_type": "execute_result",
     "data": {
      "text/plain": "0.024f0"
     },
     "metadata": {},
     "execution_count": 11
    }
   ],
   "cell_type": "code",
   "source": [
    "κ_air = FT(K_therm(param_set)) # W/m/K"
   ],
   "metadata": {},
   "execution_count": 11
  },
  {
   "cell_type": "markdown",
   "source": [
    "The particle density of soil solids in moisture-free soil\n",
    "is taken as a constant, across soil types, as in [1].\n",
    "This is a good estimate for organic material free soil. The user is referred to\n",
    "[3] for a more general expression."
   ],
   "metadata": {}
  },
  {
   "outputs": [
    {
     "output_type": "execute_result",
     "data": {
      "text/plain": "2.6076639f0"
     },
     "metadata": {},
     "execution_count": 12
    }
   ],
   "cell_type": "code",
   "source": [
    "ρp = FT(2700) # kg/m^3\n",
    "κ_solid =\n",
    "    k_solid(ν_ss_om, ν_ss_quartz, ν_ss_minerals, κ_quartz, κ_minerals, κ_om)\n",
    "κ_dry = k_dry(κ_solid, porosity, κ_air, ρp)\n",
    "κ_sat_frozen = ksat_frozen(κ_solid, porosity, κ_ice)\n",
    "κ_sat_unfrozen = ksat_unfrozen(κ_solid, porosity, κ_liq)"
   ],
   "metadata": {},
   "execution_count": 12
  },
  {
   "cell_type": "markdown",
   "source": [
    "The volumetric specific heat of dry soil is chosen so as to match Bonan's simulation.\n",
    "The user could instead compute this as:\n",
    "``ρc_{ds} = (1-porosity) \\sum_i ν_{ss_i} ρcν_i``\n",
    "where `i` ranges over soil components, `ν_ss_i` is the volumetric fraction of\n",
    "soil component `i`, relative to the soil solids, and `ρcν_i` is the volumetric heat\n",
    "capacity of that component."
   ],
   "metadata": {}
  },
  {
   "outputs": [
    {
     "output_type": "execute_result",
     "data": {
      "text/plain": "ClimateMachine.Land.SoilParamFunctions{Float32}(0.395f0, NaN32, NaN32, 0.0f0, 0.0f0, 0.92f0, 1.16523f6, 0.55057514f0, 2.6076639f0, 4.5166464f0, 0.24f0, 18.1f0)"
     },
     "metadata": {},
     "execution_count": 13
    }
   ],
   "cell_type": "code",
   "source": [
    "ρc_ds = FT((1 - porosity) * 1.926e06) # J/m^3/K\n",
    "\n",
    "soil_param_functions = SoilParamFunctions{FT}(\n",
    "    porosity = porosity,\n",
    "    ν_ss_gravel = ν_ss_gravel,\n",
    "    ν_ss_om = ν_ss_om,\n",
    "    ν_ss_quartz = ν_ss_quartz,\n",
    "    ρc_ds = ρc_ds,\n",
    "    κ_dry = κ_dry,\n",
    "    κ_sat_unfrozen = κ_sat_unfrozen,\n",
    "    κ_sat_frozen = κ_sat_frozen,\n",
    "    a = 0.24, # used in the Kersten number [3]\n",
    "    b = 18.1, # used in the Kersten number [3]\n",
    ")"
   ],
   "metadata": {},
   "execution_count": 13
  },
  {
   "cell_type": "markdown",
   "source": [
    "# Initial and Boundary conditions\n",
    "We will be using a [`PrescribedWaterModel`](@ref\n",
    "ClimateMachine.Land.PrescribedWaterModel), where the user supplies the augmented\n",
    "liquid fraction and ice fraction as functions of space and time. Since we are not\n",
    "implementing phase changes, it makes sense to either have entirely liquid or\n",
    "frozen water. This tutorial shows liquid water."
   ],
   "metadata": {}
  },
  {
   "cell_type": "markdown",
   "source": [
    "Because the two models for thermal conductivity agree well for wetter soil, we'll\n",
    "choose that here. However, the user could also explore how they differ by choosing\n",
    "drier soil."
   ],
   "metadata": {}
  },
  {
   "cell_type": "markdown",
   "source": [
    "Please note that if the user uses a mix of liquid and frozen water, that they must\n",
    "ensure that the total water content does not exceed porosity."
   ],
   "metadata": {}
  },
  {
   "outputs": [
    {
     "output_type": "execute_result",
     "data": {
      "text/plain": "0.0f0"
     },
     "metadata": {},
     "execution_count": 14
    }
   ],
   "cell_type": "code",
   "source": [
    "prescribed_augmented_liquid_fraction = FT(porosity * 0.8)\n",
    "prescribed_volumetric_ice_fraction = FT(0.0)"
   ],
   "metadata": {},
   "execution_count": 14
  },
  {
   "cell_type": "markdown",
   "source": [
    "Choose boundary and initial conditions for heat that will not lead to freezing of water:"
   ],
   "metadata": {}
  },
  {
   "outputs": [
    {
     "output_type": "execute_result",
     "data": {
      "text/plain": "#5 (generic function with 1 method)"
     },
     "metadata": {},
     "execution_count": 15
    }
   ],
   "cell_type": "code",
   "source": [
    "heat_surface_state = (aux, t) -> eltype(aux)(288.15)\n",
    "heat_bottom_flux = (aux, t) -> eltype(aux)(0.0)\n",
    "T_init = (aux) -> eltype(aux)(275.15)"
   ],
   "metadata": {},
   "execution_count": 15
  },
  {
   "cell_type": "markdown",
   "source": [
    "We also need to define a function `init_soil!`, which\n",
    "initializes all of the prognostic variables (here, we\n",
    "only have `ρe_int`, the volumetric internal energy).\n",
    "The initialization is based on user-specified\n",
    "initial conditions. Note that the user provides initial\n",
    "conditions for heat based on the temperature - `init_soil!` also\n",
    "converts between `T` and `ρe_int`."
   ],
   "metadata": {}
  },
  {
   "outputs": [
    {
     "output_type": "execute_result",
     "data": {
      "text/plain": "init_soil! (generic function with 1 method)"
     },
     "metadata": {},
     "execution_count": 16
    }
   ],
   "cell_type": "code",
   "source": [
    "function init_soil!(land, state, aux, coordinates, time)\n",
    "    ϑ_l, θ_i = get_water_content(land.soil.water, aux, state, time)\n",
    "    θ_l = volumetric_liquid_fraction(ϑ_l, land.soil.param_functions.porosity)\n",
    "    ρc_ds = land.soil.param_functions.ρc_ds\n",
    "    ρc_s = volumetric_heat_capacity(θ_l, θ_i, ρc_ds, land.param_set)\n",
    "\n",
    "    state.soil.heat.ρe_int = volumetric_internal_energy(\n",
    "        θ_i,\n",
    "        ρc_s,\n",
    "        land.soil.heat.initialT(aux),\n",
    "        land.param_set,\n",
    "    )\n",
    "end"
   ],
   "metadata": {},
   "execution_count": 16
  },
  {
   "cell_type": "markdown",
   "source": [
    "# Create the soil model structure"
   ],
   "metadata": {}
  },
  {
   "outputs": [
    {
     "output_type": "execute_result",
     "data": {
      "text/plain": "ClimateMachine.Land.LandModel{Main.##353.EarthParameterSet,ClimateMachine.Land.SoilModel{ClimateMachine.Land.SoilParamFunctions{Float32},ClimateMachine.Land.PrescribedWaterModel{Main.##353.var\"#7#9\",Main.##353.var\"#8#10\"},ClimateMachine.Land.SoilHeatModel{Float32,Main.##353.var\"#5#6\",ClimateMachine.Land.Dirichlet{Main.##353.var\"#1#2\",Nothing},ClimateMachine.Land.Neumann{Nothing,Main.##353.var\"#3#4\"}}},Tuple{},typeof(Main.##353.init_soil!)}(Main.##353.EarthParameterSet(), ClimateMachine.Land.SoilModel{ClimateMachine.Land.SoilParamFunctions{Float32},ClimateMachine.Land.PrescribedWaterModel{Main.##353.var\"#7#9\",Main.##353.var\"#8#10\"},ClimateMachine.Land.SoilHeatModel{Float32,Main.##353.var\"#5#6\",ClimateMachine.Land.Dirichlet{Main.##353.var\"#1#2\",Nothing},ClimateMachine.Land.Neumann{Nothing,Main.##353.var\"#3#4\"}}}(ClimateMachine.Land.SoilParamFunctions{Float32}(0.395f0, NaN32, NaN32, 0.0f0, 0.0f0, 0.92f0, 1.16523f6, 0.55057514f0, 2.6076639f0, 4.5166464f0, 0.24f0, 18.1f0), ClimateMachine.Land.PrescribedWaterModel{Main.##353.var\"#7#9\",Main.##353.var\"#8#10\"}(Main.##353.var\"#7#9\"(), Main.##353.var\"#8#10\"()), ClimateMachine.Land.SoilHeatModel{Float32,Main.##353.var\"#5#6\",ClimateMachine.Land.Dirichlet{Main.##353.var\"#1#2\",Nothing},ClimateMachine.Land.Neumann{Nothing,Main.##353.var\"#3#4\"}}(Main.##353.var\"#5#6\"(), ClimateMachine.Land.Dirichlet{Main.##353.var\"#1#2\",Nothing}(Main.##353.var\"#1#2\"(), nothing), ClimateMachine.Land.Neumann{Nothing,Main.##353.var\"#3#4\"}(nothing, Main.##353.var\"#3#4\"()))), (), Main.##353.init_soil!)"
     },
     "metadata": {},
     "execution_count": 17
    }
   ],
   "cell_type": "code",
   "source": [
    "soil_water_model = PrescribedWaterModel(\n",
    "    (aux, t) -> prescribed_augmented_liquid_fraction,\n",
    "    (aux, t) -> prescribed_volumetric_ice_fraction,\n",
    ")\n",
    "\n",
    "soil_heat_model = SoilHeatModel(\n",
    "    FT;\n",
    "    initialT = T_init,\n",
    "    dirichlet_bc = Dirichlet(\n",
    "        surface_state = heat_surface_state,\n",
    "        bottom_state = nothing,\n",
    "    ),\n",
    "    neumann_bc = Neumann(\n",
    "        surface_flux = nothing,\n",
    "        bottom_flux = heat_bottom_flux,\n",
    "    ),\n",
    ")\n",
    "\n",
    "m_soil = SoilModel(soil_param_functions, soil_water_model, soil_heat_model)\n",
    "sources = ()\n",
    "m = LandModel(\n",
    "    param_set,\n",
    "    m_soil;\n",
    "    source = sources,\n",
    "    init_state_prognostic = init_soil!,\n",
    ")"
   ],
   "metadata": {},
   "execution_count": 17
  },
  {
   "cell_type": "markdown",
   "source": [
    "# Specify the numerical details\n",
    "These include the resolution, domain boundaries, integration time,\n",
    "Courant number, and ODE solver."
   ],
   "metadata": {}
  },
  {
   "outputs": [
    {
     "name": "stdout",
     "output_type": "stream",
     "text": [
      "┌ Info: Model composition\n",
      "│     param_set = Main.##353.EarthParameterSet()\n",
      "│     soil = ClimateMachine.Land.SoilModel{ClimateMachine.Land.SoilParamFunctions{Float32},ClimateMachine.Land.PrescribedWaterModel{Main.##353.var\"#7#9\",Main.##353.var\"#8#10\"},ClimateMachine.Land.SoilHeatModel{Float32,Main.##353.var\"#5#6\",ClimateMachine.Land.Dirichlet{Main.##353.var\"#1#2\",Nothing},ClimateMachine.Land.Neumann{Nothing,Main.##353.var\"#3#4\"}}}(ClimateMachine.Land.SoilParamFunctions{Float32}(0.395f0, NaN32, NaN32, 0.0f0, 0.0f0, 0.92f0, 1.16523f6, 0.55057514f0, 2.6076639f0, 4.5166464f0, 0.24f0, 18.1f0), ClimateMachine.Land.PrescribedWaterModel{Main.##353.var\"#7#9\",Main.##353.var\"#8#10\"}(Main.##353.var\"#7#9\"(), Main.##353.var\"#8#10\"()), ClimateMachine.Land.SoilHeatModel{Float32,Main.##353.var\"#5#6\",ClimateMachine.Land.Dirichlet{Main.##353.var\"#1#2\",Nothing},ClimateMachine.Land.Neumann{Nothing,Main.##353.var\"#3#4\"}}(Main.##353.var\"#5#6\"(), ClimateMachine.Land.Dirichlet{Main.##353.var\"#1#2\",Nothing}(Main.##353.var\"#1#2\"(), nothing), ClimateMachine.Land.Neumann{Nothing,Main.##353.var\"#3#4\"}(nothing, Main.##353.var\"#3#4\"())))\n",
      "│     source = ()\n",
      "│     init_state_prognostic = init_soil!\n",
      "└ @ ClimateMachine /home/runner/work/ClimateMachine.jl/ClimateMachine.jl/src/Driver/driver_configs.jl:102\n",
      "┌ Info: Establishing single stack configuration for LandModel\n",
      "│     precision        = Float32\n",
      "│     polynomial order = 1\n",
      "│     domain_min       = 0.00 m x0.00 m x-1.00 m\n",
      "│     domain_max       = 1.00 m x1.00 m x0.00 m\n",
      "│     #vert elems      = 100\n",
      "│     MPI ranks        = 1\n",
      "│     min(Δ_horz)      = 1.00 m\n",
      "│     min(Δ_vert)      = 0.01 m\n",
      "└ @ ClimateMachine /home/runner/work/ClimateMachine.jl/ClimateMachine.jl/src/Driver/driver_configs.jl:385\n"
     ]
    },
    {
     "output_type": "execute_result",
     "data": {
      "text/plain": "ClimateMachine.DriverConfiguration{Float32}(ClimateMachine.ConfigTypes.SingleStackConfigType(), \"LandModel\", 1, Array, ExplicitSolverType(ClimateMachine.ODESolvers.LSRK54CarpenterKennedy), Main.##353.EarthParameterSet(), ClimateMachine.Land.LandModel{Main.##353.EarthParameterSet,ClimateMachine.Land.SoilModel{ClimateMachine.Land.SoilParamFunctions{Float32},ClimateMachine.Land.PrescribedWaterModel{Main.##353.var\"#7#9\",Main.##353.var\"#8#10\"},ClimateMachine.Land.SoilHeatModel{Float32,Main.##353.var\"#5#6\",ClimateMachine.Land.Dirichlet{Main.##353.var\"#1#2\",Nothing},ClimateMachine.Land.Neumann{Nothing,Main.##353.var\"#3#4\"}}},Tuple{},typeof(Main.##353.init_soil!)}(Main.##353.EarthParameterSet(), ClimateMachine.Land.SoilModel{ClimateMachine.Land.SoilParamFunctions{Float32},ClimateMachine.Land.PrescribedWaterModel{Main.##353.var\"#7#9\",Main.##353.var\"#8#10\"},ClimateMachine.Land.SoilHeatModel{Float32,Main.##353.var\"#5#6\",ClimateMachine.Land.Dirichlet{Main.##353.var\"#1#2\",Nothing},ClimateMachine.Land.Neumann{Nothing,Main.##353.var\"#3#4\"}}}(ClimateMachine.Land.SoilParamFunctions{Float32}(0.395f0, NaN32, NaN32, 0.0f0, 0.0f0, 0.92f0, 1.16523f6, 0.55057514f0, 2.6076639f0, 4.5166464f0, 0.24f0, 18.1f0), ClimateMachine.Land.PrescribedWaterModel{Main.##353.var\"#7#9\",Main.##353.var\"#8#10\"}(Main.##353.var\"#7#9\"(), Main.##353.var\"#8#10\"()), ClimateMachine.Land.SoilHeatModel{Float32,Main.##353.var\"#5#6\",ClimateMachine.Land.Dirichlet{Main.##353.var\"#1#2\",Nothing},ClimateMachine.Land.Neumann{Nothing,Main.##353.var\"#3#4\"}}(Main.##353.var\"#5#6\"(), ClimateMachine.Land.Dirichlet{Main.##353.var\"#1#2\",Nothing}(Main.##353.var\"#1#2\"(), nothing), ClimateMachine.Land.Neumann{Nothing,Main.##353.var\"#3#4\"}(nothing, Main.##353.var\"#3#4\"()))), (), Main.##353.init_soil!), MPI.Comm(1140850688), ClimateMachine.Mesh.Grids.DiscontinuousSpectralElementGrid{Float32,3,1,8,Array,Array{Float32,1},Array{Float32,2},Array{Float32,3},Array{Float32,4},Array{Int64,1},Array{Int64,2},Array{Int64,3},ClimateMachine.Mesh.Topologies.StackedBrickTopology{3,Float32}}(ClimateMachine.Mesh.Topologies.StackedBrickTopology{3,Float32}(ClimateMachine.Mesh.Topologies.BoxElementTopology{3,Float32}(MPI.Comm(1140850688), 1:100, 1:100, 101:100, , Int64[], , [1, 2, 3, 4, 5, 6, 7, 8, 9, 10  …  91, 92, 93, 94, 95, 96, 97, 98, 99, 100], Int64[], Float32[0.0 1.0 … 0.0 1.0; 0.0 0.0 … 1.0 1.0; -1.0 -1.0 … -0.99 -0.99]\n\nFloat32[0.0 1.0 … 0.0 1.0; 0.0 0.0 … 1.0 1.0; -0.99 -0.99 … -0.98 -0.98]\n\nFloat32[0.0 1.0 … 0.0 1.0; 0.0 0.0 … 1.0 1.0; -0.98 -0.98 … -0.97 -0.97]\n\n...\n\nFloat32[0.0 1.0 … 0.0 1.0; 0.0 0.0 … 1.0 1.0; -0.03 -0.03 … -0.02 -0.02]\n\nFloat32[0.0 1.0 … 0.0 1.0; 0.0 0.0 … 1.0 1.0; -0.02 -0.02 … -0.01 -0.01]\n\nFloat32[0.0 1.0 … 0.0 1.0; 0.0 0.0 … 1.0 1.0; -0.01 -0.01 … 0.0 0.0], [1 2 … 99 100; 1 2 … 99 100; … ; 1 1 … 98 99; 2 3 … 100 100], [2 2 … 2 2; 1 1 … 1 1; … ; 5 6 … 6 6; 5 5 … 5 6], [1 1 … 1 1; 1 1 … 1 1; … ; 1 1 … 1 1; 1 1 … 1 1], [0 0 … 0 0; 0 0 … 0 0; … ; 1 0 … 0 0; 0 0 … 0 2], Int64[], UnitRange{Int64}[], UnitRange{Int64}[], Int64[], true), 100), Float32[2.0 0.0 … -1.0 0.004999981; 2.000006 0.0 … -1.0 0.004999995; … ; 2.000012 0.0 … -0.99000007 0.004999995; 2.000006 0.0 … -0.99000007 0.0049999803]\n\nFloat32[1.9999942 0.0 … -0.99 0.004999966; 2.000006 0.0 … -0.99 0.004999995; … ; 2.000006 0.0 … -0.9800001 0.004999995; 1.9999942 0.0 … -0.9800001 0.004999966]\n\nFloat32[1.9999942 0.0 … -0.98 0.004999966; 2.000006 0.0 … -0.98 0.004999995; … ; 2.000006 0.0 … -0.9700001 0.004999995; 1.9999942 0.0 … -0.9700001 0.004999966]\n\n...\n\nFloat32[2.0 0.0 … -0.03 0.0049999994; 2.0000002 0.0 … -0.03 0.0050000004; … ; 2.0000005 0.0 … -0.020000001 0.005000001; 1.9999998 0.0 … -0.020000001 0.0049999985]\n\nFloat32[1.9999999 0.0 … -0.02 0.004999999; 2.0000002 0.0 … -0.02 0.005; … ; 1.9999999 0.0 … -0.010000001 0.0049999994; 1.9999998 0.0 … -0.010000001 0.004999999]\n\nFloat32[2.0 0.0 … -0.01 0.005; 2.0 0.0 … -0.01 0.005; … ; 2.0 0.0 … -2.9802322f-10 0.005; 1.9999998 0.0 … -2.9802324f-10 0.004999999], Float32[-1.0 -1.0 -1.0 -1.0; -0.0 -0.0 -0.0 -0.0; … ; 0.002499997 0.002499997 0.002499997 0.002499997; 800.00104 800.00586 800.00104 800.00586]\n\nFloat32[1.0 1.0 1.0 1.0; 0.0 0.0 0.0 0.0; … ; 0.0024999895 0.0024999895 0.0024999895 0.0024999895; 800.00586 800.00586 800.00586 800.00586]\n\nFloat32[-0.0 -0.0 -0.0 -0.0; -1.0 -1.0 -1.0 -1.0; … ; 0.0024999897 0.0024999895 0.0024999897 0.0024999895; 800.00104 800.00586 800.00104 800.00586]\n\nFloat32[0.0 0.0 0.0 0.0; 1.0 1.0 1.0 1.0; … ; 0.002499982 0.002499982 0.002499982 0.002499982; 800.00586 800.00586 800.00586 800.00586]\n\nFloat32[-0.0 -0.0 -0.0 -0.0; -0.0 -0.0 -0.0 -0.0; … ; 0.24999994 0.24999994 0.24999994 0.24999994; 800.00104 800.00586 800.00586 800.00586]\n\nFloat32[2.9802322f-8 2.9802322f-8 2.9802322f-8 2.9802322f-8; 2.9802322f-8 2.9802322f-8 2.9802322f-8 2.9802322f-8; … ; 0.24999994 0.24999994 0.24999994 0.24999994; 800.00104 800.00586 800.00586 800.00586]\n\nFloat32[-1.0 -1.0 -1.0 -1.0; -0.0 -0.0 -0.0 -0.0; … ; 0.0024999897 0.0024999895 0.0024999897 0.0024999895; 800.00104 800.00586 800.00104 800.00586]\n\nFloat32[1.0 1.0 1.0 1.0; 0.0 0.0 0.0 0.0; … ; 0.0024999895 0.0024999897 0.0024999895 0.0024999897; 800.00586 800.00104 800.00586 800.00104]\n\nFloat32[-0.0 -0.0 -0.0 -0.0; -1.0 -1.0 -1.0 -1.0; … ; 0.0024999897 0.0024999895 0.0024999897 0.0024999895; 800.00104 800.00586 800.00104 800.00586]\n\nFloat32[0.0 0.0 0.0 0.0; 1.0 1.0 1.0 1.0; … ; 0.0024999895 0.0024999897 0.0024999895 0.0024999897; 800.00586 800.00104 800.00586 800.00104]\n\nFloat32[-2.9802322f-8 -2.9802322f-8 -2.9802322f-8 -2.9802322f-8; -2.9802322f-8 -2.9802322f-8 -2.9802322f-8 -2.9802322f-8; … ; 0.24999994 0.24999994 0.24999994 0.24999994; 800.00104 800.00586 800.00586 800.00104]\n\nFloat32[2.9802322f-8 2.9802322f-8 2.9802322f-8 2.9802322f-8; 2.9802322f-8 2.9802322f-8 2.9802322f-8 2.9802322f-8; … ; 0.24999994 0.24999994 0.24999994 0.24999994; 800.00104 800.00586 800.00586 800.00104]\n\nFloat32[-1.0 -1.0 -1.0 -1.0; -0.0 -0.0 -0.0 -0.0; … ; 0.0024999897 0.0024999895 0.0024999897 0.0024999895; 800.00104 800.00586 800.00104 800.00586]\n\nFloat32[1.0 1.0 1.0 1.0; 0.0 0.0 0.0 0.0; … ; 0.0024999895 0.0024999897 0.0024999895 0.0024999897; 800.00586 800.00104 800.00586 800.00104]\n\nFloat32[-0.0 -0.0 -0.0 -0.0; -1.0 -1.0 -1.0 -1.0; … ; 0.0024999897 0.0024999895 0.0024999897 0.0024999895; 800.00104 800.00586 800.00104 800.00586]\n\nFloat32[0.0 0.0 0.0 0.0; 1.0 1.0 1.0 1.0; … ; 0.0024999895 0.0024999897 0.0024999895 0.0024999897; 800.00586 800.00104 800.00586 800.00104]\n\nFloat32[-2.9802322f-8 -2.9802322f-8 -2.9802322f-8 -2.9802322f-8; -2.9802322f-8 -2.9802322f-8 -2.9802322f-8 -2.9802322f-8; … ; 0.24999994 0.24999994 0.24999994 0.24999994; 800.00104 800.00586 800.00586 800.00104]\n\nFloat32[2.9802322f-8 2.9802322f-8 2.9802322f-8 2.9802322f-8; 2.9802322f-8 2.9802322f-8 2.9802322f-8 2.9802322f-8; … ; 0.24999994 0.24999994 0.24999994 0.24999994; 800.00104 800.00586 800.00586 800.00104]\n\n...\n\nFloat32[-1.0 -1.0 -1.0 -1.0; -0.0 -0.0 -0.0 -0.0; … ; 0.0024999992 0.0024999995 0.0024999992 0.0024999995; 800.0003 800.0005 800.0003 800.0005]\n\nFloat32[1.0 1.0 1.0 1.0; 0.0 0.0 0.0 0.0; … ; 0.002499999 0.002499999 0.002499999 0.002499999; 800.0005 800.0003 800.0005 800.0003]\n\nFloat32[-0.0 -0.0 -0.0 -0.0; -1.0 -1.0 -1.0 -1.0; … ; 0.002499999 0.002499999 0.002499999 0.002499999; 800.0003 800.0005 800.0003 800.0005]\n\nFloat32[0.0 0.0 0.0 0.0; 1.0 1.0 1.0 1.0; … ; 0.002499999 0.002499999 0.002499999 0.002499999; 800.0005 800.0003 800.0005 800.0003]\n\nFloat32[-9.313226f-10 -9.313226f-10 -9.313226f-10 -9.313226f-10; -9.313226f-10 -9.313226f-10 -9.313226f-10 -9.313226f-10; … ; 0.24999994 0.24999994 0.24999994 0.24999994; 800.0003 800.0005 800.0005 800.0003]\n\nFloat32[9.313226f-10 9.313226f-10 9.313226f-10 9.313226f-10; 9.313226f-10 9.313226f-10 9.313226f-10 9.313226f-10; … ; 0.24999994 0.24999994 0.24999994 0.24999994; 800.0003 800.0005 800.0005 800.0003]\n\nFloat32[-1.0 -1.0 -1.0 -1.0; -0.0 -0.0 -0.0 -0.0; … ; 0.0024999988 0.0024999988 0.0024999988 0.0024999988; 800.00037 800.00037 800.00037 800.00037]\n\nFloat32[1.0 1.0 1.0 1.0; 0.0 0.0 0.0 0.0; … ; 0.0024999992 0.0024999992 0.0024999992 0.0024999992; 800.00037 800.00024 800.00037 800.00024]\n\nFloat32[-0.0 -0.0 -0.0 -0.0; -1.0 -1.0 -1.0 -1.0; … ; 0.002499999 0.002499999 0.002499999 0.002499999; 800.00037 800.00037 800.00037 800.00037]\n\nFloat32[0.0 0.0 0.0 0.0; 1.0 1.0 1.0 1.0; … ; 0.0024999992 0.0024999992 0.0024999992 0.0024999992; 800.00037 800.00024 800.00037 800.00024]\n\nFloat32[-9.313226f-10 -9.313226f-10 -9.313226f-10 -9.313226f-10; -9.313226f-10 -9.313226f-10 -9.313226f-10 -9.313226f-10; … ; 0.24999994 0.24999994 0.24999994 0.24999994; 800.00037 800.00037 800.00037 800.00024]\n\nFloat32[0.0 0.0 0.0 0.0; 0.0 0.0 0.0 0.0; … ; 0.24999994 0.24999994 0.24999994 0.24999994; 800.00037 800.00037 800.00037 800.00024]\n\nFloat32[-1.0 -1.0 -1.0 -1.0; -0.0 -0.0 -0.0 -0.0; … ; 0.0024999992 0.0024999992 0.0024999992 0.0024999992; 800.0003 800.0003 800.0003 800.0003]\n\nFloat32[1.0 1.0 1.0 1.0; -1.3877788f-15 -1.3877788f-15 -1.3877788f-15 -1.3877788f-15; … ; 0.0024999992 0.0024999992 0.0024999992 0.0024999992; 800.0003 800.00024 800.0003 800.00024]\n\nFloat32[-0.0 -0.0 -0.0 -0.0; -1.0 -1.0 -1.0 -1.0; … ; 0.0024999992 0.0024999992 0.0024999992 0.0024999992; 800.0003 800.0003 800.0003 800.0003]\n\nFloat32[0.0 0.0 0.0 0.0; 1.0 1.0 1.0 1.0; … ; 0.0024999992 0.0024999992 0.0024999992 0.0024999992; 800.0003 800.00024 800.0003 800.00024]\n\nFloat32[-4.656613f-10 -4.656613f-10 -4.656613f-10 -4.656613f-10; -4.656613f-10 -4.656613f-10 -4.656613f-10 -4.656613f-10; … ; 0.24999994 0.24999994 0.24999994 0.24999994; 800.0003 800.0003 800.0003 800.00024]\n\nFloat32[1.3877788f-17 1.3877788f-17 1.3877788f-17 1.3877788f-17; 1.3877788f-17 1.3877788f-17 1.3877788f-17 1.3877788f-17; … ; 0.24999994 0.24999994 0.24999994 0.24999994; 800.0003 800.0003 800.0003 800.00024], [0 0 … 0 0; 0 0 … 0 0; … ; 1 0 … 0 0; 0 0 … 0 2], [1 2 … 1 5; 3 4 … 2 6; 5 6 … 3 7; 7 8 … 4 8]\n\n[9 10 … 9 13; 11 12 … 10 14; 13 14 … 11 15; 15 16 … 12 16]\n\n[17 18 … 17 21; 19 20 … 18 22; 21 22 … 19 23; 23 24 … 20 24]\n\n...\n\n[777 778 … 777 781; 779 780 … 778 782; 781 782 … 779 783; 783 784 … 780 784]\n\n[785 786 … 785 789; 787 788 … 786 790; 789 790 … 787 791; 791 792 … 788 792]\n\n[793 794 … 793 797; 795 796 … 794 798; 797 798 … 795 799; 799 800 … 796 800], [2 1 … 1 9; 4 3 … 2 10; 6 5 … 3 11; 8 7 … 4 12]\n\n[10 9 … 5 17; 12 11 … 6 18; 14 13 … 7 19; 16 15 … 8 20]\n\n[18 17 … 13 25; 20 19 … 14 26; 22 21 … 15 27; 24 23 … 16 28]\n\n...\n\n[778 777 … 773 785; 780 779 … 774 786; 782 781 … 775 787; 784 783 … 776 788]\n\n[786 785 … 781 793; 788 787 … 782 794; 790 789 … 783 795; 792 791 … 784 796]\n\n[794 793 … 789 797; 796 795 … 790 798; 798 797 … 791 799; 800 799 … 792 800], Int64[], Int64[], UnitRange{Int64}[], UnitRange{Int64}[], [1, 2, 3, 4, 5, 6, 7, 8, 9, 10  …  91, 92, 93, 94, 95, 96, 97, 98, 99, 100], Int64[], Bool[1, 1, 1, 1, 1, 1, 1, 1, 1, 1  …  1, 1, 1, 1, 1, 1, 1, 1, 1, 1], Float32[0.9999999, 0.9999999], Float32[-0.5 0.5; -0.5 0.5], Float32[0.0 0.0; 0.9999999 0.9999999]), ClimateMachine.DGMethods.NumericalFluxes.CentralNumericalFluxFirstOrder(), ClimateMachine.DGMethods.NumericalFluxes.CentralNumericalFluxSecondOrder(), ClimateMachine.DGMethods.NumericalFluxes.CentralNumericalFluxGradient(), ClimateMachine.SingleStackSpecificInfo())"
     },
     "metadata": {},
     "execution_count": 18
    }
   ],
   "cell_type": "code",
   "source": [
    "N_poly = 1\n",
    "nelem_vert = 100\n",
    "\n",
    "zmax = FT(0)\n",
    "zmin = FT(-1)\n",
    "\n",
    "driver_config = ClimateMachine.SingleStackConfiguration(\n",
    "    \"LandModel\",\n",
    "    N_poly,\n",
    "    nelem_vert,\n",
    "    zmax,\n",
    "    param_set,\n",
    "    m;\n",
    "    zmin = zmin,\n",
    "    numerical_flux_first_order = CentralNumericalFluxFirstOrder(),\n",
    ")"
   ],
   "metadata": {},
   "execution_count": 18
  },
  {
   "cell_type": "markdown",
   "source": [
    "In this tutorial, we determine a timestep based on a Courant number (\n",
    "also called a Fourier number in the context of the heat equation).\n",
    "In short, we can use the parameters of the model (`κ` and `ρc_s`),\n",
    "along with with the size of\n",
    "elements of the grid used for discretizing the PDE, to estimate\n",
    "a natural timescale for heat transfer across a grid cell.\n",
    "Because we are using an explicit ODE solver, the timestep should\n",
    "be a fraction of this in order to resolve the dynamics."
   ],
   "metadata": {}
  },
  {
   "cell_type": "markdown",
   "source": [
    "This allows us to automate, to a certain extent, choosing a value for\n",
    "the timestep, even as we switch between soil types."
   ],
   "metadata": {}
  },
  {
   "outputs": [
    {
     "name": "stdout",
     "output_type": "stream",
     "text": [
      "┌ Info: Initializing LandModel\n",
      "└ @ ClimateMachine /home/runner/work/ClimateMachine.jl/ClimateMachine.jl/src/Driver/solver_configs.jl:161\n"
     ]
    },
    {
     "output_type": "execute_result",
     "data": {
      "text/plain": "ClimateMachine.SolverConfiguration{Float32}(\"LandModel\", MPI.Comm(1140850688), Main.##353.EarthParameterSet(), ClimateMachine.DGMethods.DGModel{ClimateMachine.Land.LandModel{Main.##353.EarthParameterSet,ClimateMachine.Land.SoilModel{ClimateMachine.Land.SoilParamFunctions{Float32},ClimateMachine.Land.PrescribedWaterModel{Main.##353.var\"#7#9\",Main.##353.var\"#8#10\"},ClimateMachine.Land.SoilHeatModel{Float32,Main.##353.var\"#5#6\",ClimateMachine.Land.Dirichlet{Main.##353.var\"#1#2\",Nothing},ClimateMachine.Land.Neumann{Nothing,Main.##353.var\"#3#4\"}}},Tuple{},typeof(Main.##353.init_soil!)},ClimateMachine.Mesh.Grids.DiscontinuousSpectralElementGrid{Float32,3,1,8,Array,Array{Float32,1},Array{Float32,2},Array{Float32,3},Array{Float32,4},Array{Int64,1},Array{Int64,2},Array{Int64,3},ClimateMachine.Mesh.Topologies.StackedBrickTopology{3,Float32}},ClimateMachine.DGMethods.NumericalFluxes.CentralNumericalFluxFirstOrder,ClimateMachine.DGMethods.NumericalFluxes.CentralNumericalFluxSecondOrder,ClimateMachine.DGMethods.NumericalFluxes.CentralNumericalFluxGradient,ClimateMachine.MPIStateArrays.MPIStateArray{Float32,NamedTuple{(:z, :soil),Tuple{Float32,NamedTuple{(:water, :heat),Tuple{NamedTuple{(),Tuple{}},NamedTuple{(:T,),Tuple{Float32}}}}}},Array{Float32,3},Array{Int64,1},SubArray{Float32,3,Array{Float32,3},Tuple{Base.Slice{Base.OneTo{Int64}},Base.Slice{Base.OneTo{Int64}},UnitRange{Int64}},true},ClimateMachine.MPIStateArrays.CMBuffers.CMBuffer{Float32,Array{Float32,2},Nothing}},ClimateMachine.MPIStateArrays.MPIStateArray{Float32,NamedTuple{(:soil,),Tuple{NamedTuple{(:water, :heat),Tuple{NamedTuple{(),Tuple{}},NamedTuple{(:κ∇T,),Tuple{StaticArrays.SArray{Tuple{3},Float32,1,3}}}}}}},Array{Float32,3},Array{Int64,1},SubArray{Float32,3,Array{Float32,3},Tuple{Base.Slice{Base.OneTo{Int64}},Base.Slice{Base.OneTo{Int64}},UnitRange{Int64}},true},ClimateMachine.MPIStateArrays.CMBuffers.CMBuffer{Float32,Array{Float32,2},Nothing}},Tuple{ClimateMachine.MPIStateArrays.MPIStateArray{Float32,NamedTuple{(),Tuple{}},Array{Float32,3},Array{Int64,1},SubArray{Float32,3,Array{Float32,3},Tuple{Base.Slice{Base.OneTo{Int64}},Base.Slice{Base.OneTo{Int64}},UnitRange{Int64}},true},ClimateMachine.MPIStateArrays.CMBuffers.CMBuffer{Float32,Array{Float32,2},Nothing}},ClimateMachine.MPIStateArrays.MPIStateArray{Float32,NamedTuple{(),Tuple{}},Array{Float32,3},Array{Int64,1},SubArray{Float32,3,Array{Float32,3},Tuple{Base.Slice{Base.OneTo{Int64}},Base.Slice{Base.OneTo{Int64}},UnitRange{Int64}},true},ClimateMachine.MPIStateArrays.CMBuffers.CMBuffer{Float32,Array{Float32,2},Nothing}}},ClimateMachine.Mesh.Grids.VerticalDirection,ClimateMachine.Mesh.Grids.VerticalDirection,Nothing}(ClimateMachine.Land.LandModel{Main.##353.EarthParameterSet,ClimateMachine.Land.SoilModel{ClimateMachine.Land.SoilParamFunctions{Float32},ClimateMachine.Land.PrescribedWaterModel{Main.##353.var\"#7#9\",Main.##353.var\"#8#10\"},ClimateMachine.Land.SoilHeatModel{Float32,Main.##353.var\"#5#6\",ClimateMachine.Land.Dirichlet{Main.##353.var\"#1#2\",Nothing},ClimateMachine.Land.Neumann{Nothing,Main.##353.var\"#3#4\"}}},Tuple{},typeof(Main.##353.init_soil!)}(Main.##353.EarthParameterSet(), ClimateMachine.Land.SoilModel{ClimateMachine.Land.SoilParamFunctions{Float32},ClimateMachine.Land.PrescribedWaterModel{Main.##353.var\"#7#9\",Main.##353.var\"#8#10\"},ClimateMachine.Land.SoilHeatModel{Float32,Main.##353.var\"#5#6\",ClimateMachine.Land.Dirichlet{Main.##353.var\"#1#2\",Nothing},ClimateMachine.Land.Neumann{Nothing,Main.##353.var\"#3#4\"}}}(ClimateMachine.Land.SoilParamFunctions{Float32}(0.395f0, NaN32, NaN32, 0.0f0, 0.0f0, 0.92f0, 1.16523f6, 0.55057514f0, 2.6076639f0, 4.5166464f0, 0.24f0, 18.1f0), ClimateMachine.Land.PrescribedWaterModel{Main.##353.var\"#7#9\",Main.##353.var\"#8#10\"}(Main.##353.var\"#7#9\"(), Main.##353.var\"#8#10\"()), ClimateMachine.Land.SoilHeatModel{Float32,Main.##353.var\"#5#6\",ClimateMachine.Land.Dirichlet{Main.##353.var\"#1#2\",Nothing},ClimateMachine.Land.Neumann{Nothing,Main.##353.var\"#3#4\"}}(Main.##353.var\"#5#6\"(), ClimateMachine.Land.Dirichlet{Main.##353.var\"#1#2\",Nothing}(Main.##353.var\"#1#2\"(), nothing), ClimateMachine.Land.Neumann{Nothing,Main.##353.var\"#3#4\"}(nothing, Main.##353.var\"#3#4\"()))), (), Main.##353.init_soil!), ClimateMachine.Mesh.Grids.DiscontinuousSpectralElementGrid{Float32,3,1,8,Array,Array{Float32,1},Array{Float32,2},Array{Float32,3},Array{Float32,4},Array{Int64,1},Array{Int64,2},Array{Int64,3},ClimateMachine.Mesh.Topologies.StackedBrickTopology{3,Float32}}(ClimateMachine.Mesh.Topologies.StackedBrickTopology{3,Float32}(ClimateMachine.Mesh.Topologies.BoxElementTopology{3,Float32}(MPI.Comm(1140850688), 1:100, 1:100, 101:100, , Int64[], , [1, 2, 3, 4, 5, 6, 7, 8, 9, 10  …  91, 92, 93, 94, 95, 96, 97, 98, 99, 100], Int64[], Float32[0.0 1.0 … 0.0 1.0; 0.0 0.0 … 1.0 1.0; -1.0 -1.0 … -0.99 -0.99]\n\nFloat32[0.0 1.0 … 0.0 1.0; 0.0 0.0 … 1.0 1.0; -0.99 -0.99 … -0.98 -0.98]\n\nFloat32[0.0 1.0 … 0.0 1.0; 0.0 0.0 … 1.0 1.0; -0.98 -0.98 … -0.97 -0.97]\n\n...\n\nFloat32[0.0 1.0 … 0.0 1.0; 0.0 0.0 … 1.0 1.0; -0.03 -0.03 … -0.02 -0.02]\n\nFloat32[0.0 1.0 … 0.0 1.0; 0.0 0.0 … 1.0 1.0; -0.02 -0.02 … -0.01 -0.01]\n\nFloat32[0.0 1.0 … 0.0 1.0; 0.0 0.0 … 1.0 1.0; -0.01 -0.01 … 0.0 0.0], [1 2 … 99 100; 1 2 … 99 100; … ; 1 1 … 98 99; 2 3 … 100 100], [2 2 … 2 2; 1 1 … 1 1; … ; 5 6 … 6 6; 5 5 … 5 6], [1 1 … 1 1; 1 1 … 1 1; … ; 1 1 … 1 1; 1 1 … 1 1], [0 0 … 0 0; 0 0 … 0 0; … ; 1 0 … 0 0; 0 0 … 0 2], Int64[], UnitRange{Int64}[], UnitRange{Int64}[], Int64[], true), 100), Float32[2.0 0.0 … -1.0 0.004999981; 2.000006 0.0 … -1.0 0.004999995; … ; 2.000012 0.0 … -0.99000007 0.004999995; 2.000006 0.0 … -0.99000007 0.0049999803]\n\nFloat32[1.9999942 0.0 … -0.99 0.004999966; 2.000006 0.0 … -0.99 0.004999995; … ; 2.000006 0.0 … -0.9800001 0.004999995; 1.9999942 0.0 … -0.9800001 0.004999966]\n\nFloat32[1.9999942 0.0 … -0.98 0.004999966; 2.000006 0.0 … -0.98 0.004999995; … ; 2.000006 0.0 … -0.9700001 0.004999995; 1.9999942 0.0 … -0.9700001 0.004999966]\n\n...\n\nFloat32[2.0 0.0 … -0.03 0.0049999994; 2.0000002 0.0 … -0.03 0.0050000004; … ; 2.0000005 0.0 … -0.020000001 0.005000001; 1.9999998 0.0 … -0.020000001 0.0049999985]\n\nFloat32[1.9999999 0.0 … -0.02 0.004999999; 2.0000002 0.0 … -0.02 0.005; … ; 1.9999999 0.0 … -0.010000001 0.0049999994; 1.9999998 0.0 … -0.010000001 0.004999999]\n\nFloat32[2.0 0.0 … -0.01 0.005; 2.0 0.0 … -0.01 0.005; … ; 2.0 0.0 … -2.9802322f-10 0.005; 1.9999998 0.0 … -2.9802324f-10 0.004999999], Float32[-1.0 -1.0 -1.0 -1.0; -0.0 -0.0 -0.0 -0.0; … ; 0.002499997 0.002499997 0.002499997 0.002499997; 800.00104 800.00586 800.00104 800.00586]\n\nFloat32[1.0 1.0 1.0 1.0; 0.0 0.0 0.0 0.0; … ; 0.0024999895 0.0024999895 0.0024999895 0.0024999895; 800.00586 800.00586 800.00586 800.00586]\n\nFloat32[-0.0 -0.0 -0.0 -0.0; -1.0 -1.0 -1.0 -1.0; … ; 0.0024999897 0.0024999895 0.0024999897 0.0024999895; 800.00104 800.00586 800.00104 800.00586]\n\nFloat32[0.0 0.0 0.0 0.0; 1.0 1.0 1.0 1.0; … ; 0.002499982 0.002499982 0.002499982 0.002499982; 800.00586 800.00586 800.00586 800.00586]\n\nFloat32[-0.0 -0.0 -0.0 -0.0; -0.0 -0.0 -0.0 -0.0; … ; 0.24999994 0.24999994 0.24999994 0.24999994; 800.00104 800.00586 800.00586 800.00586]\n\nFloat32[2.9802322f-8 2.9802322f-8 2.9802322f-8 2.9802322f-8; 2.9802322f-8 2.9802322f-8 2.9802322f-8 2.9802322f-8; … ; 0.24999994 0.24999994 0.24999994 0.24999994; 800.00104 800.00586 800.00586 800.00586]\n\nFloat32[-1.0 -1.0 -1.0 -1.0; -0.0 -0.0 -0.0 -0.0; … ; 0.0024999897 0.0024999895 0.0024999897 0.0024999895; 800.00104 800.00586 800.00104 800.00586]\n\nFloat32[1.0 1.0 1.0 1.0; 0.0 0.0 0.0 0.0; … ; 0.0024999895 0.0024999897 0.0024999895 0.0024999897; 800.00586 800.00104 800.00586 800.00104]\n\nFloat32[-0.0 -0.0 -0.0 -0.0; -1.0 -1.0 -1.0 -1.0; … ; 0.0024999897 0.0024999895 0.0024999897 0.0024999895; 800.00104 800.00586 800.00104 800.00586]\n\nFloat32[0.0 0.0 0.0 0.0; 1.0 1.0 1.0 1.0; … ; 0.0024999895 0.0024999897 0.0024999895 0.0024999897; 800.00586 800.00104 800.00586 800.00104]\n\nFloat32[-2.9802322f-8 -2.9802322f-8 -2.9802322f-8 -2.9802322f-8; -2.9802322f-8 -2.9802322f-8 -2.9802322f-8 -2.9802322f-8; … ; 0.24999994 0.24999994 0.24999994 0.24999994; 800.00104 800.00586 800.00586 800.00104]\n\nFloat32[2.9802322f-8 2.9802322f-8 2.9802322f-8 2.9802322f-8; 2.9802322f-8 2.9802322f-8 2.9802322f-8 2.9802322f-8; … ; 0.24999994 0.24999994 0.24999994 0.24999994; 800.00104 800.00586 800.00586 800.00104]\n\nFloat32[-1.0 -1.0 -1.0 -1.0; -0.0 -0.0 -0.0 -0.0; … ; 0.0024999897 0.0024999895 0.0024999897 0.0024999895; 800.00104 800.00586 800.00104 800.00586]\n\nFloat32[1.0 1.0 1.0 1.0; 0.0 0.0 0.0 0.0; … ; 0.0024999895 0.0024999897 0.0024999895 0.0024999897; 800.00586 800.00104 800.00586 800.00104]\n\nFloat32[-0.0 -0.0 -0.0 -0.0; -1.0 -1.0 -1.0 -1.0; … ; 0.0024999897 0.0024999895 0.0024999897 0.0024999895; 800.00104 800.00586 800.00104 800.00586]\n\nFloat32[0.0 0.0 0.0 0.0; 1.0 1.0 1.0 1.0; … ; 0.0024999895 0.0024999897 0.0024999895 0.0024999897; 800.00586 800.00104 800.00586 800.00104]\n\nFloat32[-2.9802322f-8 -2.9802322f-8 -2.9802322f-8 -2.9802322f-8; -2.9802322f-8 -2.9802322f-8 -2.9802322f-8 -2.9802322f-8; … ; 0.24999994 0.24999994 0.24999994 0.24999994; 800.00104 800.00586 800.00586 800.00104]\n\nFloat32[2.9802322f-8 2.9802322f-8 2.9802322f-8 2.9802322f-8; 2.9802322f-8 2.9802322f-8 2.9802322f-8 2.9802322f-8; … ; 0.24999994 0.24999994 0.24999994 0.24999994; 800.00104 800.00586 800.00586 800.00104]\n\n...\n\nFloat32[-1.0 -1.0 -1.0 -1.0; -0.0 -0.0 -0.0 -0.0; … ; 0.0024999992 0.0024999995 0.0024999992 0.0024999995; 800.0003 800.0005 800.0003 800.0005]\n\nFloat32[1.0 1.0 1.0 1.0; 0.0 0.0 0.0 0.0; … ; 0.002499999 0.002499999 0.002499999 0.002499999; 800.0005 800.0003 800.0005 800.0003]\n\nFloat32[-0.0 -0.0 -0.0 -0.0; -1.0 -1.0 -1.0 -1.0; … ; 0.002499999 0.002499999 0.002499999 0.002499999; 800.0003 800.0005 800.0003 800.0005]\n\nFloat32[0.0 0.0 0.0 0.0; 1.0 1.0 1.0 1.0; … ; 0.002499999 0.002499999 0.002499999 0.002499999; 800.0005 800.0003 800.0005 800.0003]\n\nFloat32[-9.313226f-10 -9.313226f-10 -9.313226f-10 -9.313226f-10; -9.313226f-10 -9.313226f-10 -9.313226f-10 -9.313226f-10; … ; 0.24999994 0.24999994 0.24999994 0.24999994; 800.0003 800.0005 800.0005 800.0003]\n\nFloat32[9.313226f-10 9.313226f-10 9.313226f-10 9.313226f-10; 9.313226f-10 9.313226f-10 9.313226f-10 9.313226f-10; … ; 0.24999994 0.24999994 0.24999994 0.24999994; 800.0003 800.0005 800.0005 800.0003]\n\nFloat32[-1.0 -1.0 -1.0 -1.0; -0.0 -0.0 -0.0 -0.0; … ; 0.0024999988 0.0024999988 0.0024999988 0.0024999988; 800.00037 800.00037 800.00037 800.00037]\n\nFloat32[1.0 1.0 1.0 1.0; 0.0 0.0 0.0 0.0; … ; 0.0024999992 0.0024999992 0.0024999992 0.0024999992; 800.00037 800.00024 800.00037 800.00024]\n\nFloat32[-0.0 -0.0 -0.0 -0.0; -1.0 -1.0 -1.0 -1.0; … ; 0.002499999 0.002499999 0.002499999 0.002499999; 800.00037 800.00037 800.00037 800.00037]\n\nFloat32[0.0 0.0 0.0 0.0; 1.0 1.0 1.0 1.0; … ; 0.0024999992 0.0024999992 0.0024999992 0.0024999992; 800.00037 800.00024 800.00037 800.00024]\n\nFloat32[-9.313226f-10 -9.313226f-10 -9.313226f-10 -9.313226f-10; -9.313226f-10 -9.313226f-10 -9.313226f-10 -9.313226f-10; … ; 0.24999994 0.24999994 0.24999994 0.24999994; 800.00037 800.00037 800.00037 800.00024]\n\nFloat32[0.0 0.0 0.0 0.0; 0.0 0.0 0.0 0.0; … ; 0.24999994 0.24999994 0.24999994 0.24999994; 800.00037 800.00037 800.00037 800.00024]\n\nFloat32[-1.0 -1.0 -1.0 -1.0; -0.0 -0.0 -0.0 -0.0; … ; 0.0024999992 0.0024999992 0.0024999992 0.0024999992; 800.0003 800.0003 800.0003 800.0003]\n\nFloat32[1.0 1.0 1.0 1.0; -1.3877788f-15 -1.3877788f-15 -1.3877788f-15 -1.3877788f-15; … ; 0.0024999992 0.0024999992 0.0024999992 0.0024999992; 800.0003 800.00024 800.0003 800.00024]\n\nFloat32[-0.0 -0.0 -0.0 -0.0; -1.0 -1.0 -1.0 -1.0; … ; 0.0024999992 0.0024999992 0.0024999992 0.0024999992; 800.0003 800.0003 800.0003 800.0003]\n\nFloat32[0.0 0.0 0.0 0.0; 1.0 1.0 1.0 1.0; … ; 0.0024999992 0.0024999992 0.0024999992 0.0024999992; 800.0003 800.00024 800.0003 800.00024]\n\nFloat32[-4.656613f-10 -4.656613f-10 -4.656613f-10 -4.656613f-10; -4.656613f-10 -4.656613f-10 -4.656613f-10 -4.656613f-10; … ; 0.24999994 0.24999994 0.24999994 0.24999994; 800.0003 800.0003 800.0003 800.00024]\n\nFloat32[1.3877788f-17 1.3877788f-17 1.3877788f-17 1.3877788f-17; 1.3877788f-17 1.3877788f-17 1.3877788f-17 1.3877788f-17; … ; 0.24999994 0.24999994 0.24999994 0.24999994; 800.0003 800.0003 800.0003 800.00024], [0 0 … 0 0; 0 0 … 0 0; … ; 1 0 … 0 0; 0 0 … 0 2], [1 2 … 1 5; 3 4 … 2 6; 5 6 … 3 7; 7 8 … 4 8]\n\n[9 10 … 9 13; 11 12 … 10 14; 13 14 … 11 15; 15 16 … 12 16]\n\n[17 18 … 17 21; 19 20 … 18 22; 21 22 … 19 23; 23 24 … 20 24]\n\n...\n\n[777 778 … 777 781; 779 780 … 778 782; 781 782 … 779 783; 783 784 … 780 784]\n\n[785 786 … 785 789; 787 788 … 786 790; 789 790 … 787 791; 791 792 … 788 792]\n\n[793 794 … 793 797; 795 796 … 794 798; 797 798 … 795 799; 799 800 … 796 800], [2 1 … 1 9; 4 3 … 2 10; 6 5 … 3 11; 8 7 … 4 12]\n\n[10 9 … 5 17; 12 11 … 6 18; 14 13 … 7 19; 16 15 … 8 20]\n\n[18 17 … 13 25; 20 19 … 14 26; 22 21 … 15 27; 24 23 … 16 28]\n\n...\n\n[778 777 … 773 785; 780 779 … 774 786; 782 781 … 775 787; 784 783 … 776 788]\n\n[786 785 … 781 793; 788 787 … 782 794; 790 789 … 783 795; 792 791 … 784 796]\n\n[794 793 … 789 797; 796 795 … 790 798; 798 797 … 791 799; 800 799 … 792 800], Int64[], Int64[], UnitRange{Int64}[], UnitRange{Int64}[], [1, 2, 3, 4, 5, 6, 7, 8, 9, 10  …  91, 92, 93, 94, 95, 96, 97, 98, 99, 100], Int64[], Bool[1, 1, 1, 1, 1, 1, 1, 1, 1, 1  …  1, 1, 1, 1, 1, 1, 1, 1, 1, 1], Float32[0.9999999, 0.9999999], Float32[-0.5 0.5; -0.5 0.5], Float32[0.0 0.0; 0.9999999 0.9999999]), ClimateMachine.DGMethods.NumericalFluxes.CentralNumericalFluxFirstOrder(), ClimateMachine.DGMethods.NumericalFluxes.CentralNumericalFluxSecondOrder(), ClimateMachine.DGMethods.NumericalFluxes.CentralNumericalFluxGradient(), Float32[-1.0 275.15; -1.0 275.15; … ; -0.99000007 275.15; -0.99000007 275.15]\n\nFloat32[-0.99 275.15; -0.99 275.15; … ; -0.9800001 275.15; -0.9800001 275.15]\n\nFloat32[-0.98 275.15; -0.98 275.15; … ; -0.9700001 275.15; -0.9700001 275.15]\n\n...\n\nFloat32[-0.03 275.15; -0.03 275.15; … ; -0.020000001 275.15; -0.020000001 275.15]\n\nFloat32[-0.02 275.15; -0.02 275.15; … ; -0.010000001 275.15; -0.010000001 275.15]\n\nFloat32[-0.01 275.15; -0.01 275.15; … ; -2.9802322f-10 275.15; -2.9802324f-10 275.15], Float32[1.0f-45 0.0 0.0; 0.0 0.0 0.0; … ; 0.0 1.0f-45 0.0; 0.0 0.0 0.0]\n\nFloat32[9.1835f-41 0.0 2.5876194f-34; 2.152f-42 0.0 0.0; … ; 0.0 0.0 3.0f-45; 0.0 0.0 6.0f-45]\n\nFloat32[2.5878706f-34 1.0f-45 2.5876488f-34; 0.0 0.0 0.0; … ; 3.9f-44 0.0 0.0; 1.0f-45 0.0 1.0f-45]\n\n...\n\nFloat32[5.587f-42 2.94f-43 5.68f-42; 5.65f-42 5.661f-42 5.677f-42; … ; 2.93f-43 5.675f-42 5.696f-42; 5.66f-42 5.678f-42 5.699f-42]\n\nFloat32[5.7f-42 5.716f-42 5.726f-42; 5.698f-42 5.717f-42 5.664f-42; … ; 5.716f-42 5.709f-42 5.731f-42; 5.716f-42 5.723f-42 5.733f-42]\n\nFloat32[5.736f-42 2.0f-44 5.769f-42; 3.05f-43 6.0f-45 5.769f-42; … ; 5.737f-42 5.755f-42 5.762f-42; 2.0f-44 5.769f-42 5.762f-42], (, ), ClimateMachine.Mesh.Grids.VerticalDirection(), ClimateMachine.Mesh.Grids.VerticalDirection(), nothing), Float32[4.9479635f6; 4.9479635f6; … ; 4.9479635f6; 4.9479635f6]\n\nFloat32[4.9479635f6; 4.9479635f6; … ; 4.9479635f6; 4.9479635f6]\n\nFloat32[4.9479635f6; 4.9479635f6; … ; 4.9479635f6; 4.9479635f6]\n\n...\n\nFloat32[4.9479635f6; 4.9479635f6; … ; 4.9479635f6; 4.9479635f6]\n\nFloat32[4.9479635f6; 4.9479635f6; … ; 4.9479635f6; 4.9479635f6]\n\nFloat32[4.9479635f6; 4.9479635f6; … ; 4.9479635f6; 4.9479635f6], 0.0f0, 10800.0f0, 23.893805f0, false, 452, (), ClimateMachine.ODESolvers.LowStorageRungeKutta2N{Float32,Float32,ClimateMachine.MPIStateArrays.MPIStateArray{Float32,NamedTuple{(:soil,),Tuple{NamedTuple{(:water, :heat),Tuple{NamedTuple{(),Tuple{}},NamedTuple{(:ρe_int,),Tuple{Float32}}}}}},Array{Float32,3},Array{Int64,1},SubArray{Float32,3,Array{Float32,3},Tuple{Base.Slice{Base.OneTo{Int64}},Base.Slice{Base.OneTo{Int64}},UnitRange{Int64}},true},ClimateMachine.MPIStateArrays.CMBuffers.CMBuffer{Float32,Array{Float32,2},Nothing}},5}(23.893805f0, 0.0f0, 0, ClimateMachine.DGMethods.DGModel{ClimateMachine.Land.LandModel{Main.##353.EarthParameterSet,ClimateMachine.Land.SoilModel{ClimateMachine.Land.SoilParamFunctions{Float32},ClimateMachine.Land.PrescribedWaterModel{Main.##353.var\"#7#9\",Main.##353.var\"#8#10\"},ClimateMachine.Land.SoilHeatModel{Float32,Main.##353.var\"#5#6\",ClimateMachine.Land.Dirichlet{Main.##353.var\"#1#2\",Nothing},ClimateMachine.Land.Neumann{Nothing,Main.##353.var\"#3#4\"}}},Tuple{},typeof(Main.##353.init_soil!)},ClimateMachine.Mesh.Grids.DiscontinuousSpectralElementGrid{Float32,3,1,8,Array,Array{Float32,1},Array{Float32,2},Array{Float32,3},Array{Float32,4},Array{Int64,1},Array{Int64,2},Array{Int64,3},ClimateMachine.Mesh.Topologies.StackedBrickTopology{3,Float32}},ClimateMachine.DGMethods.NumericalFluxes.CentralNumericalFluxFirstOrder,ClimateMachine.DGMethods.NumericalFluxes.CentralNumericalFluxSecondOrder,ClimateMachine.DGMethods.NumericalFluxes.CentralNumericalFluxGradient,ClimateMachine.MPIStateArrays.MPIStateArray{Float32,NamedTuple{(:z, :soil),Tuple{Float32,NamedTuple{(:water, :heat),Tuple{NamedTuple{(),Tuple{}},NamedTuple{(:T,),Tuple{Float32}}}}}},Array{Float32,3},Array{Int64,1},SubArray{Float32,3,Array{Float32,3},Tuple{Base.Slice{Base.OneTo{Int64}},Base.Slice{Base.OneTo{Int64}},UnitRange{Int64}},true},ClimateMachine.MPIStateArrays.CMBuffers.CMBuffer{Float32,Array{Float32,2},Nothing}},ClimateMachine.MPIStateArrays.MPIStateArray{Float32,NamedTuple{(:soil,),Tuple{NamedTuple{(:water, :heat),Tuple{NamedTuple{(),Tuple{}},NamedTuple{(:κ∇T,),Tuple{StaticArrays.SArray{Tuple{3},Float32,1,3}}}}}}},Array{Float32,3},Array{Int64,1},SubArray{Float32,3,Array{Float32,3},Tuple{Base.Slice{Base.OneTo{Int64}},Base.Slice{Base.OneTo{Int64}},UnitRange{Int64}},true},ClimateMachine.MPIStateArrays.CMBuffers.CMBuffer{Float32,Array{Float32,2},Nothing}},Tuple{ClimateMachine.MPIStateArrays.MPIStateArray{Float32,NamedTuple{(),Tuple{}},Array{Float32,3},Array{Int64,1},SubArray{Float32,3,Array{Float32,3},Tuple{Base.Slice{Base.OneTo{Int64}},Base.Slice{Base.OneTo{Int64}},UnitRange{Int64}},true},ClimateMachine.MPIStateArrays.CMBuffers.CMBuffer{Float32,Array{Float32,2},Nothing}},ClimateMachine.MPIStateArrays.MPIStateArray{Float32,NamedTuple{(),Tuple{}},Array{Float32,3},Array{Int64,1},SubArray{Float32,3,Array{Float32,3},Tuple{Base.Slice{Base.OneTo{Int64}},Base.Slice{Base.OneTo{Int64}},UnitRange{Int64}},true},ClimateMachine.MPIStateArrays.CMBuffers.CMBuffer{Float32,Array{Float32,2},Nothing}}},ClimateMachine.Mesh.Grids.VerticalDirection,ClimateMachine.Mesh.Grids.VerticalDirection,Nothing}(ClimateMachine.Land.LandModel{Main.##353.EarthParameterSet,ClimateMachine.Land.SoilModel{ClimateMachine.Land.SoilParamFunctions{Float32},ClimateMachine.Land.PrescribedWaterModel{Main.##353.var\"#7#9\",Main.##353.var\"#8#10\"},ClimateMachine.Land.SoilHeatModel{Float32,Main.##353.var\"#5#6\",ClimateMachine.Land.Dirichlet{Main.##353.var\"#1#2\",Nothing},ClimateMachine.Land.Neumann{Nothing,Main.##353.var\"#3#4\"}}},Tuple{},typeof(Main.##353.init_soil!)}(Main.##353.EarthParameterSet(), ClimateMachine.Land.SoilModel{ClimateMachine.Land.SoilParamFunctions{Float32},ClimateMachine.Land.PrescribedWaterModel{Main.##353.var\"#7#9\",Main.##353.var\"#8#10\"},ClimateMachine.Land.SoilHeatModel{Float32,Main.##353.var\"#5#6\",ClimateMachine.Land.Dirichlet{Main.##353.var\"#1#2\",Nothing},ClimateMachine.Land.Neumann{Nothing,Main.##353.var\"#3#4\"}}}(ClimateMachine.Land.SoilParamFunctions{Float32}(0.395f0, NaN32, NaN32, 0.0f0, 0.0f0, 0.92f0, 1.16523f6, 0.55057514f0, 2.6076639f0, 4.5166464f0, 0.24f0, 18.1f0), ClimateMachine.Land.PrescribedWaterModel{Main.##353.var\"#7#9\",Main.##353.var\"#8#10\"}(Main.##353.var\"#7#9\"(), Main.##353.var\"#8#10\"()), ClimateMachine.Land.SoilHeatModel{Float32,Main.##353.var\"#5#6\",ClimateMachine.Land.Dirichlet{Main.##353.var\"#1#2\",Nothing},ClimateMachine.Land.Neumann{Nothing,Main.##353.var\"#3#4\"}}(Main.##353.var\"#5#6\"(), ClimateMachine.Land.Dirichlet{Main.##353.var\"#1#2\",Nothing}(Main.##353.var\"#1#2\"(), nothing), ClimateMachine.Land.Neumann{Nothing,Main.##353.var\"#3#4\"}(nothing, Main.##353.var\"#3#4\"()))), (), Main.##353.init_soil!), ClimateMachine.Mesh.Grids.DiscontinuousSpectralElementGrid{Float32,3,1,8,Array,Array{Float32,1},Array{Float32,2},Array{Float32,3},Array{Float32,4},Array{Int64,1},Array{Int64,2},Array{Int64,3},ClimateMachine.Mesh.Topologies.StackedBrickTopology{3,Float32}}(ClimateMachine.Mesh.Topologies.StackedBrickTopology{3,Float32}(ClimateMachine.Mesh.Topologies.BoxElementTopology{3,Float32}(MPI.Comm(1140850688), 1:100, 1:100, 101:100, , Int64[], , [1, 2, 3, 4, 5, 6, 7, 8, 9, 10  …  91, 92, 93, 94, 95, 96, 97, 98, 99, 100], Int64[], Float32[0.0 1.0 … 0.0 1.0; 0.0 0.0 … 1.0 1.0; -1.0 -1.0 … -0.99 -0.99]\n\nFloat32[0.0 1.0 … 0.0 1.0; 0.0 0.0 … 1.0 1.0; -0.99 -0.99 … -0.98 -0.98]\n\nFloat32[0.0 1.0 … 0.0 1.0; 0.0 0.0 … 1.0 1.0; -0.98 -0.98 … -0.97 -0.97]\n\n...\n\nFloat32[0.0 1.0 … 0.0 1.0; 0.0 0.0 … 1.0 1.0; -0.03 -0.03 … -0.02 -0.02]\n\nFloat32[0.0 1.0 … 0.0 1.0; 0.0 0.0 … 1.0 1.0; -0.02 -0.02 … -0.01 -0.01]\n\nFloat32[0.0 1.0 … 0.0 1.0; 0.0 0.0 … 1.0 1.0; -0.01 -0.01 … 0.0 0.0], [1 2 … 99 100; 1 2 … 99 100; … ; 1 1 … 98 99; 2 3 … 100 100], [2 2 … 2 2; 1 1 … 1 1; … ; 5 6 … 6 6; 5 5 … 5 6], [1 1 … 1 1; 1 1 … 1 1; … ; 1 1 … 1 1; 1 1 … 1 1], [0 0 … 0 0; 0 0 … 0 0; … ; 1 0 … 0 0; 0 0 … 0 2], Int64[], UnitRange{Int64}[], UnitRange{Int64}[], Int64[], true), 100), Float32[2.0 0.0 … -1.0 0.004999981; 2.000006 0.0 … -1.0 0.004999995; … ; 2.000012 0.0 … -0.99000007 0.004999995; 2.000006 0.0 … -0.99000007 0.0049999803]\n\nFloat32[1.9999942 0.0 … -0.99 0.004999966; 2.000006 0.0 … -0.99 0.004999995; … ; 2.000006 0.0 … -0.9800001 0.004999995; 1.9999942 0.0 … -0.9800001 0.004999966]\n\nFloat32[1.9999942 0.0 … -0.98 0.004999966; 2.000006 0.0 … -0.98 0.004999995; … ; 2.000006 0.0 … -0.9700001 0.004999995; 1.9999942 0.0 … -0.9700001 0.004999966]\n\n...\n\nFloat32[2.0 0.0 … -0.03 0.0049999994; 2.0000002 0.0 … -0.03 0.0050000004; … ; 2.0000005 0.0 … -0.020000001 0.005000001; 1.9999998 0.0 … -0.020000001 0.0049999985]\n\nFloat32[1.9999999 0.0 … -0.02 0.004999999; 2.0000002 0.0 … -0.02 0.005; … ; 1.9999999 0.0 … -0.010000001 0.0049999994; 1.9999998 0.0 … -0.010000001 0.004999999]\n\nFloat32[2.0 0.0 … -0.01 0.005; 2.0 0.0 … -0.01 0.005; … ; 2.0 0.0 … -2.9802322f-10 0.005; 1.9999998 0.0 … -2.9802324f-10 0.004999999], Float32[-1.0 -1.0 -1.0 -1.0; -0.0 -0.0 -0.0 -0.0; … ; 0.002499997 0.002499997 0.002499997 0.002499997; 800.00104 800.00586 800.00104 800.00586]\n\nFloat32[1.0 1.0 1.0 1.0; 0.0 0.0 0.0 0.0; … ; 0.0024999895 0.0024999895 0.0024999895 0.0024999895; 800.00586 800.00586 800.00586 800.00586]\n\nFloat32[-0.0 -0.0 -0.0 -0.0; -1.0 -1.0 -1.0 -1.0; … ; 0.0024999897 0.0024999895 0.0024999897 0.0024999895; 800.00104 800.00586 800.00104 800.00586]\n\nFloat32[0.0 0.0 0.0 0.0; 1.0 1.0 1.0 1.0; … ; 0.002499982 0.002499982 0.002499982 0.002499982; 800.00586 800.00586 800.00586 800.00586]\n\nFloat32[-0.0 -0.0 -0.0 -0.0; -0.0 -0.0 -0.0 -0.0; … ; 0.24999994 0.24999994 0.24999994 0.24999994; 800.00104 800.00586 800.00586 800.00586]\n\nFloat32[2.9802322f-8 2.9802322f-8 2.9802322f-8 2.9802322f-8; 2.9802322f-8 2.9802322f-8 2.9802322f-8 2.9802322f-8; … ; 0.24999994 0.24999994 0.24999994 0.24999994; 800.00104 800.00586 800.00586 800.00586]\n\nFloat32[-1.0 -1.0 -1.0 -1.0; -0.0 -0.0 -0.0 -0.0; … ; 0.0024999897 0.0024999895 0.0024999897 0.0024999895; 800.00104 800.00586 800.00104 800.00586]\n\nFloat32[1.0 1.0 1.0 1.0; 0.0 0.0 0.0 0.0; … ; 0.0024999895 0.0024999897 0.0024999895 0.0024999897; 800.00586 800.00104 800.00586 800.00104]\n\nFloat32[-0.0 -0.0 -0.0 -0.0; -1.0 -1.0 -1.0 -1.0; … ; 0.0024999897 0.0024999895 0.0024999897 0.0024999895; 800.00104 800.00586 800.00104 800.00586]\n\nFloat32[0.0 0.0 0.0 0.0; 1.0 1.0 1.0 1.0; … ; 0.0024999895 0.0024999897 0.0024999895 0.0024999897; 800.00586 800.00104 800.00586 800.00104]\n\nFloat32[-2.9802322f-8 -2.9802322f-8 -2.9802322f-8 -2.9802322f-8; -2.9802322f-8 -2.9802322f-8 -2.9802322f-8 -2.9802322f-8; … ; 0.24999994 0.24999994 0.24999994 0.24999994; 800.00104 800.00586 800.00586 800.00104]\n\nFloat32[2.9802322f-8 2.9802322f-8 2.9802322f-8 2.9802322f-8; 2.9802322f-8 2.9802322f-8 2.9802322f-8 2.9802322f-8; … ; 0.24999994 0.24999994 0.24999994 0.24999994; 800.00104 800.00586 800.00586 800.00104]\n\nFloat32[-1.0 -1.0 -1.0 -1.0; -0.0 -0.0 -0.0 -0.0; … ; 0.0024999897 0.0024999895 0.0024999897 0.0024999895; 800.00104 800.00586 800.00104 800.00586]\n\nFloat32[1.0 1.0 1.0 1.0; 0.0 0.0 0.0 0.0; … ; 0.0024999895 0.0024999897 0.0024999895 0.0024999897; 800.00586 800.00104 800.00586 800.00104]\n\nFloat32[-0.0 -0.0 -0.0 -0.0; -1.0 -1.0 -1.0 -1.0; … ; 0.0024999897 0.0024999895 0.0024999897 0.0024999895; 800.00104 800.00586 800.00104 800.00586]\n\nFloat32[0.0 0.0 0.0 0.0; 1.0 1.0 1.0 1.0; … ; 0.0024999895 0.0024999897 0.0024999895 0.0024999897; 800.00586 800.00104 800.00586 800.00104]\n\nFloat32[-2.9802322f-8 -2.9802322f-8 -2.9802322f-8 -2.9802322f-8; -2.9802322f-8 -2.9802322f-8 -2.9802322f-8 -2.9802322f-8; … ; 0.24999994 0.24999994 0.24999994 0.24999994; 800.00104 800.00586 800.00586 800.00104]\n\nFloat32[2.9802322f-8 2.9802322f-8 2.9802322f-8 2.9802322f-8; 2.9802322f-8 2.9802322f-8 2.9802322f-8 2.9802322f-8; … ; 0.24999994 0.24999994 0.24999994 0.24999994; 800.00104 800.00586 800.00586 800.00104]\n\n...\n\nFloat32[-1.0 -1.0 -1.0 -1.0; -0.0 -0.0 -0.0 -0.0; … ; 0.0024999992 0.0024999995 0.0024999992 0.0024999995; 800.0003 800.0005 800.0003 800.0005]\n\nFloat32[1.0 1.0 1.0 1.0; 0.0 0.0 0.0 0.0; … ; 0.002499999 0.002499999 0.002499999 0.002499999; 800.0005 800.0003 800.0005 800.0003]\n\nFloat32[-0.0 -0.0 -0.0 -0.0; -1.0 -1.0 -1.0 -1.0; … ; 0.002499999 0.002499999 0.002499999 0.002499999; 800.0003 800.0005 800.0003 800.0005]\n\nFloat32[0.0 0.0 0.0 0.0; 1.0 1.0 1.0 1.0; … ; 0.002499999 0.002499999 0.002499999 0.002499999; 800.0005 800.0003 800.0005 800.0003]\n\nFloat32[-9.313226f-10 -9.313226f-10 -9.313226f-10 -9.313226f-10; -9.313226f-10 -9.313226f-10 -9.313226f-10 -9.313226f-10; … ; 0.24999994 0.24999994 0.24999994 0.24999994; 800.0003 800.0005 800.0005 800.0003]\n\nFloat32[9.313226f-10 9.313226f-10 9.313226f-10 9.313226f-10; 9.313226f-10 9.313226f-10 9.313226f-10 9.313226f-10; … ; 0.24999994 0.24999994 0.24999994 0.24999994; 800.0003 800.0005 800.0005 800.0003]\n\nFloat32[-1.0 -1.0 -1.0 -1.0; -0.0 -0.0 -0.0 -0.0; … ; 0.0024999988 0.0024999988 0.0024999988 0.0024999988; 800.00037 800.00037 800.00037 800.00037]\n\nFloat32[1.0 1.0 1.0 1.0; 0.0 0.0 0.0 0.0; … ; 0.0024999992 0.0024999992 0.0024999992 0.0024999992; 800.00037 800.00024 800.00037 800.00024]\n\nFloat32[-0.0 -0.0 -0.0 -0.0; -1.0 -1.0 -1.0 -1.0; … ; 0.002499999 0.002499999 0.002499999 0.002499999; 800.00037 800.00037 800.00037 800.00037]\n\nFloat32[0.0 0.0 0.0 0.0; 1.0 1.0 1.0 1.0; … ; 0.0024999992 0.0024999992 0.0024999992 0.0024999992; 800.00037 800.00024 800.00037 800.00024]\n\nFloat32[-9.313226f-10 -9.313226f-10 -9.313226f-10 -9.313226f-10; -9.313226f-10 -9.313226f-10 -9.313226f-10 -9.313226f-10; … ; 0.24999994 0.24999994 0.24999994 0.24999994; 800.00037 800.00037 800.00037 800.00024]\n\nFloat32[0.0 0.0 0.0 0.0; 0.0 0.0 0.0 0.0; … ; 0.24999994 0.24999994 0.24999994 0.24999994; 800.00037 800.00037 800.00037 800.00024]\n\nFloat32[-1.0 -1.0 -1.0 -1.0; -0.0 -0.0 -0.0 -0.0; … ; 0.0024999992 0.0024999992 0.0024999992 0.0024999992; 800.0003 800.0003 800.0003 800.0003]\n\nFloat32[1.0 1.0 1.0 1.0; -1.3877788f-15 -1.3877788f-15 -1.3877788f-15 -1.3877788f-15; … ; 0.0024999992 0.0024999992 0.0024999992 0.0024999992; 800.0003 800.00024 800.0003 800.00024]\n\nFloat32[-0.0 -0.0 -0.0 -0.0; -1.0 -1.0 -1.0 -1.0; … ; 0.0024999992 0.0024999992 0.0024999992 0.0024999992; 800.0003 800.0003 800.0003 800.0003]\n\nFloat32[0.0 0.0 0.0 0.0; 1.0 1.0 1.0 1.0; … ; 0.0024999992 0.0024999992 0.0024999992 0.0024999992; 800.0003 800.00024 800.0003 800.00024]\n\nFloat32[-4.656613f-10 -4.656613f-10 -4.656613f-10 -4.656613f-10; -4.656613f-10 -4.656613f-10 -4.656613f-10 -4.656613f-10; … ; 0.24999994 0.24999994 0.24999994 0.24999994; 800.0003 800.0003 800.0003 800.00024]\n\nFloat32[1.3877788f-17 1.3877788f-17 1.3877788f-17 1.3877788f-17; 1.3877788f-17 1.3877788f-17 1.3877788f-17 1.3877788f-17; … ; 0.24999994 0.24999994 0.24999994 0.24999994; 800.0003 800.0003 800.0003 800.00024], [0 0 … 0 0; 0 0 … 0 0; … ; 1 0 … 0 0; 0 0 … 0 2], [1 2 … 1 5; 3 4 … 2 6; 5 6 … 3 7; 7 8 … 4 8]\n\n[9 10 … 9 13; 11 12 … 10 14; 13 14 … 11 15; 15 16 … 12 16]\n\n[17 18 … 17 21; 19 20 … 18 22; 21 22 … 19 23; 23 24 … 20 24]\n\n...\n\n[777 778 … 777 781; 779 780 … 778 782; 781 782 … 779 783; 783 784 … 780 784]\n\n[785 786 … 785 789; 787 788 … 786 790; 789 790 … 787 791; 791 792 … 788 792]\n\n[793 794 … 793 797; 795 796 … 794 798; 797 798 … 795 799; 799 800 … 796 800], [2 1 … 1 9; 4 3 … 2 10; 6 5 … 3 11; 8 7 … 4 12]\n\n[10 9 … 5 17; 12 11 … 6 18; 14 13 … 7 19; 16 15 … 8 20]\n\n[18 17 … 13 25; 20 19 … 14 26; 22 21 … 15 27; 24 23 … 16 28]\n\n...\n\n[778 777 … 773 785; 780 779 … 774 786; 782 781 … 775 787; 784 783 … 776 788]\n\n[786 785 … 781 793; 788 787 … 782 794; 790 789 … 783 795; 792 791 … 784 796]\n\n[794 793 … 789 797; 796 795 … 790 798; 798 797 … 791 799; 800 799 … 792 800], Int64[], Int64[], UnitRange{Int64}[], UnitRange{Int64}[], [1, 2, 3, 4, 5, 6, 7, 8, 9, 10  …  91, 92, 93, 94, 95, 96, 97, 98, 99, 100], Int64[], Bool[1, 1, 1, 1, 1, 1, 1, 1, 1, 1  …  1, 1, 1, 1, 1, 1, 1, 1, 1, 1], Float32[0.9999999, 0.9999999], Float32[-0.5 0.5; -0.5 0.5], Float32[0.0 0.0; 0.9999999 0.9999999]), ClimateMachine.DGMethods.NumericalFluxes.CentralNumericalFluxFirstOrder(), ClimateMachine.DGMethods.NumericalFluxes.CentralNumericalFluxSecondOrder(), ClimateMachine.DGMethods.NumericalFluxes.CentralNumericalFluxGradient(), Float32[-1.0 275.15; -1.0 275.15; … ; -0.99000007 275.15; -0.99000007 275.15]\n\nFloat32[-0.99 275.15; -0.99 275.15; … ; -0.9800001 275.15; -0.9800001 275.15]\n\nFloat32[-0.98 275.15; -0.98 275.15; … ; -0.9700001 275.15; -0.9700001 275.15]\n\n...\n\nFloat32[-0.03 275.15; -0.03 275.15; … ; -0.020000001 275.15; -0.020000001 275.15]\n\nFloat32[-0.02 275.15; -0.02 275.15; … ; -0.010000001 275.15; -0.010000001 275.15]\n\nFloat32[-0.01 275.15; -0.01 275.15; … ; -2.9802322f-10 275.15; -2.9802324f-10 275.15], Float32[1.0f-45 0.0 0.0; 0.0 0.0 0.0; … ; 0.0 1.0f-45 0.0; 0.0 0.0 0.0]\n\nFloat32[9.1835f-41 0.0 2.5876194f-34; 2.152f-42 0.0 0.0; … ; 0.0 0.0 3.0f-45; 0.0 0.0 6.0f-45]\n\nFloat32[2.5878706f-34 1.0f-45 2.5876488f-34; 0.0 0.0 0.0; … ; 3.9f-44 0.0 0.0; 1.0f-45 0.0 1.0f-45]\n\n...\n\nFloat32[5.587f-42 2.94f-43 5.68f-42; 5.65f-42 5.661f-42 5.677f-42; … ; 2.93f-43 5.675f-42 5.696f-42; 5.66f-42 5.678f-42 5.699f-42]\n\nFloat32[5.7f-42 5.716f-42 5.726f-42; 5.698f-42 5.717f-42 5.664f-42; … ; 5.716f-42 5.709f-42 5.731f-42; 5.716f-42 5.723f-42 5.733f-42]\n\nFloat32[5.736f-42 2.0f-44 5.769f-42; 3.05f-43 6.0f-45 5.769f-42; … ; 5.737f-42 5.755f-42 5.762f-42; 2.0f-44 5.769f-42 5.762f-42], (, ), ClimateMachine.Mesh.Grids.VerticalDirection(), ClimateMachine.Mesh.Grids.VerticalDirection(), nothing), Float32[0.0; 0.0; … ; 0.0; 0.0]\n\nFloat32[0.0; 0.0; … ; 0.0; 0.0]\n\nFloat32[0.0; 0.0; … ; 0.0; 0.0]\n\n...\n\nFloat32[0.0; 0.0; … ; 0.0; 0.0]\n\nFloat32[0.0; 0.0; … ; 0.0; 0.0]\n\nFloat32[0.0; 0.0; … ; 0.0; 0.0], (0.0f0, -0.4178905f0, -1.1921518f0, -1.6977847f0, -1.5141834f0), (0.14965902f0, 0.3792103f0, 0.8229551f0, 0.69945043f0, 0.15305725f0), (0.0f0, 0.14965902f0, 0.37040097f0, 0.62225574f0, 0.9582821f0)))"
     },
     "metadata": {},
     "execution_count": 19
    }
   ],
   "cell_type": "code",
   "source": [
    "function calculate_dt(dg, model::LandModel, Q, Courant_number, t, direction)\n",
    "    Δt = one(eltype(Q))\n",
    "    CFL = DGMethods.courant(diffusive_courant, dg, model, Q, Δt, t, direction)\n",
    "    return Courant_number / CFL\n",
    "end\n",
    "\n",
    "function diffusive_courant(\n",
    "    m::LandModel,\n",
    "    state::Vars,\n",
    "    aux::Vars,\n",
    "    diffusive::Vars,\n",
    "    Δx,\n",
    "    Δt,\n",
    "    t,\n",
    "    direction,\n",
    ")\n",
    "    soil = m.soil\n",
    "    ϑ_l, θ_i = get_water_content(soil.water, aux, state, t)\n",
    "    θ_l = volumetric_liquid_fraction(ϑ_l, soil.param_functions.porosity)\n",
    "    κ_dry = soil.param_functions.κ_dry\n",
    "    S_r = relative_saturation(θ_l, θ_i, soil.param_functions.porosity)\n",
    "    kersten = kersten_number(θ_i, S_r, soil.param_functions)\n",
    "    κ_sat = saturated_thermal_conductivity(\n",
    "        θ_l,\n",
    "        θ_i,\n",
    "        soil.param_functions.κ_sat_unfrozen,\n",
    "        soil.param_functions.κ_sat_frozen,\n",
    "    )\n",
    "    κ = thermal_conductivity(κ_dry, kersten, κ_sat)\n",
    "    ρc_ds = soil.param_functions.ρc_ds\n",
    "    ρc_s = volumetric_heat_capacity(θ_l, θ_i, ρc_ds, m.param_set)\n",
    "    return Δt * κ / (Δx * Δx * ρc_ds)\n",
    "end\n",
    "\n",
    "\n",
    "t0 = FT(0)\n",
    "timeend = FT(60 * 60 * 3)\n",
    "Courant_number = FT(0.5) # much bigger than this breaks\n",
    "\n",
    "solver_config = ClimateMachine.SolverConfiguration(\n",
    "    t0,\n",
    "    timeend,\n",
    "    driver_config;\n",
    "    Courant_number = Courant_number,\n",
    "    CFL_direction = VerticalDirection(),\n",
    ")"
   ],
   "metadata": {},
   "execution_count": 19
  },
  {
   "cell_type": "markdown",
   "source": [
    "# Run the integration"
   ],
   "metadata": {}
  },
  {
   "outputs": [
    {
     "name": "stdout",
     "output_type": "stream",
     "text": [
      "┌ Info: Starting LandModel\n",
      "│     dt              = 2.38938e+01\n",
      "│     timeend         = 10800.00\n",
      "│     number of steps = 452\n",
      "│     norm(Q)         = 4.9479710000000000e+06\n",
      "└ @ ClimateMachine /home/runner/work/ClimateMachine.jl/ClimateMachine.jl/src/Driver/Driver.jl:636\n",
      "┌ Info: Finished\n",
      "│     norm(Q)            = 1.1510868000000000e+07\n",
      "│     norm(Q) / norm(Q₀) = 2.3263814449310303e+00\n",
      "│     norm(Q) - norm(Q₀) = 6.5628970000000000e+06\n",
      "└ @ ClimateMachine /home/runner/work/ClimateMachine.jl/ClimateMachine.jl/src/Driver/Driver.jl:674\n"
     ]
    },
    {
     "output_type": "execute_result",
     "data": {
      "text/plain": "2.3263814f0"
     },
     "metadata": {},
     "execution_count": 20
    }
   ],
   "cell_type": "code",
   "source": [
    "ClimateMachine.invoke!(solver_config)"
   ],
   "metadata": {},
   "execution_count": 20
  },
  {
   "cell_type": "markdown",
   "source": [
    "# Plot results and comparison data from [1]\n",
    "We can pull out the z and T values on the DG grid, but these will be\n",
    "multi-valued at boundaries. We'll create an additional cartesian grid\n",
    ", create an interpolation of the\n",
    "DG output, and evaluate on this second grid.\n",
    "T and z are in aux:"
   ],
   "metadata": {}
  },
  {
   "outputs": [
    {
     "output_type": "execute_result",
     "data": {
      "text/plain": "8×2×100 ClimateMachine.MPIStateArrays.MPIStateArray{Float32,NamedTuple{(:z, :soil),Tuple{Float32,NamedTuple{(:water, :heat),Tuple{NamedTuple{(),Tuple{}},NamedTuple{(:T,),Tuple{Float32}}}}}},Array{Float32,3},Array{Int64,1},SubArray{Float32,3,Array{Float32,3},Tuple{Base.Slice{Base.OneTo{Int64}},Base.Slice{Base.OneTo{Int64}},UnitRange{Int64}},true},ClimateMachine.MPIStateArrays.CMBuffers.CMBuffer{Float32,Array{Float32,2},Nothing}}:\n[:, :, 1] =\n -1.0   275.15\n -1.0   275.15\n -1.0   275.15\n -1.0   275.15\n -0.99  275.15\n -0.99  275.15\n -0.99  275.15\n -0.99  275.15\n\n[:, :, 2] =\n -0.99  275.15\n -0.99  275.15\n -0.99  275.15\n -0.99  275.15\n -0.98  275.15\n -0.98  275.15\n -0.98  275.15\n -0.98  275.15\n\n[:, :, 3] =\n -0.98  275.15\n -0.98  275.15\n -0.98  275.15\n -0.98  275.15\n -0.97  275.15\n -0.97  275.15\n -0.97  275.15\n -0.97  275.15\n\n...\n\n[:, :, 98] =\n -0.03  286.374\n -0.03  286.374\n -0.03  286.374\n -0.03  286.374\n -0.02  286.374\n -0.02  286.374\n -0.02  286.374\n -0.02  286.374\n\n[:, :, 99] =\n -0.02  287.081\n -0.02  287.081\n -0.02  287.081\n -0.02  287.081\n -0.01  287.081\n -0.01  287.081\n -0.01  287.081\n -0.01  287.081\n\n[:, :, 100] =\n -0.01         287.793\n -0.01         287.793\n -0.01         287.793\n -0.01         287.793\n -2.98023f-10  287.793\n -2.98023f-10  287.793\n -2.98023f-10  287.793\n -2.98023f-10  287.793"
     },
     "metadata": {},
     "execution_count": 21
    }
   ],
   "cell_type": "code",
   "source": [
    "aux = solver_config.dg.state_auxiliary"
   ],
   "metadata": {},
   "execution_count": 21
  },
  {
   "cell_type": "markdown",
   "source": [
    "Specify interpolation grid:"
   ],
   "metadata": {}
  },
  {
   "outputs": [
    {
     "output_type": "execute_result",
     "data": {
      "text/plain": "ClimateMachine.Mesh.Interpolation.InterpolationBrick{Float32,Int64,Array{Float32,1},Array{Float32,1},Array{Int64,1},Array{Float32,2},Array{UInt8,2},Array{UInt16,1},Array{Int32,1}}(100, 51, 51, 1, Float32[0.0 0.0 -1.0; 1.0 1.0 0.0], Float32[0.0], Float32[0.0], Float32[-1.0, -0.98, -0.96, -0.94, -0.92, -0.9, -0.88, -0.86, -0.84, -0.82  …  -0.18, -0.16, -0.14, -0.12, -0.1, -0.08, -0.06, -0.04, -0.02, 0.0], Float32[-1.0, -1.0, -1.0, -1.0, -1.0, -1.0, -1.0, -1.0, -1.0, -1.0  …  -1.0, -1.0, -1.0, -1.0, -1.0, -1.0, -1.0, -1.0, -1.0, -1.0], Float32[-1.0, -1.0, -1.0, -1.0, -1.0, -1.0, -1.0, -1.0, -1.0, -1.0  …  -1.0, -1.0, -1.0, -1.0, -1.0, -1.0, -1.0, -1.0, -1.0, -1.0], Float32[-1.0, 1.0, 1.0, 1.0, 1.0, 1.0, 1.0, 1.0, 1.0, 1.0  …  1.0, 1.0, 1.0, 1.0, 1.0, 1.0, 1.0, 1.0, 1.0, 1.0], UInt8[0x01 0x01 … 0x01 0x01; 0x01 0x01 … 0x01 0x01; 0x01 0x02 … 0x02 0x02], Float32[1.0, 1.0, 1.0, 1.0, 1.0, 1.0, 1.0, 1.0, 1.0, 1.0  …  1.0, 1.0, 1.0, 1.0, 1.0, 1.0, 1.0, 1.0, 1.0, 1.0], UInt16[0x0001, 0x0001, 0x0001, 0x0001, 0x0001, 0x0001, 0x0001, 0x0001, 0x0001, 0x0001  …  0x0001, 0x0001, 0x0001, 0x0001, 0x0001, 0x0001, 0x0001, 0x0001, 0x0001, 0x0001], UInt16[0x0001, 0x0001, 0x0001, 0x0001, 0x0001, 0x0001, 0x0001, 0x0001, 0x0001, 0x0001  …  0x0001, 0x0001, 0x0001, 0x0001, 0x0001, 0x0001, 0x0001, 0x0001, 0x0001, 0x0001], UInt16[0x0001, 0x0002, 0x0003, 0x0004, 0x0005, 0x0006, 0x0007, 0x0008, 0x0009, 0x000a  …  0x002a, 0x002b, 0x002c, 0x002d, 0x002e, 0x002f, 0x0030, 0x0031, 0x0032, 0x0033], [0, 1, 2, 2, 3, 3, 4, 4, 5, 5  …  46, 47, 47, 48, 48, 49, 49, 50, 50, 51], Float32[-1.0, 0.99999994], Float32[0.9999999, 0.9999999], Float32[-0.5, 0.5], Int32[51], UInt16[0x0001, 0x0001, 0x0001, 0x0001, 0x0001, 0x0001, 0x0001, 0x0001, 0x0001, 0x0001  …  0x0001, 0x0001, 0x0001, 0x0001, 0x0001, 0x0001, 0x0001, 0x0001, 0x0001, 0x0001], UInt16[0x0001, 0x0001, 0x0001, 0x0001, 0x0001, 0x0001, 0x0001, 0x0001, 0x0001, 0x0001  …  0x0001, 0x0001, 0x0001, 0x0001, 0x0001, 0x0001, 0x0001, 0x0001, 0x0001, 0x0001], UInt16[0x0001, 0x0002, 0x0003, 0x0004, 0x0005, 0x0006, 0x0007, 0x0008, 0x0009, 0x000a  …  0x002a, 0x002b, 0x002c, 0x002d, 0x002e, 0x002f, 0x0030, 0x0031, 0x0032, 0x0033])"
     },
     "metadata": {},
     "execution_count": 22
    }
   ],
   "cell_type": "code",
   "source": [
    "zres = FT(0.02)\n",
    "boundaries = [\n",
    "    FT(0) FT(0) zmin\n",
    "    FT(1) FT(1) zmax\n",
    "]\n",
    "resolution = (FT(2), FT(2), zres)\n",
    "thegrid = solver_config.dg.grid\n",
    "intrp_brck = create_interpolation_grid(boundaries, resolution, thegrid)"
   ],
   "metadata": {},
   "execution_count": 22
  },
  {
   "cell_type": "markdown",
   "source": [
    "Smooth output, and look at T vs z:"
   ],
   "metadata": {}
  },
  {
   "outputs": [],
   "cell_type": "code",
   "source": [
    "iaux = interpolate_variables([(aux)], intrp_brck)\n",
    "iaux = iaux[1]\n",
    "z_ind = varsindex(vars_state(m, Auxiliary(), FT), :z)\n",
    "iz = Array(iaux[:, z_ind, :][:])\n",
    "z = Array(aux[:, z_ind, :][:])\n",
    "T_ind = varsindex(vars_state(m, Auxiliary(), FT), :soil, :heat, :T)\n",
    "iT = Array(iaux[:, T_ind, :][:])\n",
    "\n",
    "plot(\n",
    "    iT,\n",
    "    iz,\n",
    "    label = \"ClimateMachine\",\n",
    "    ylabel = \"z (m)\",\n",
    "    xlabel = \"T (K)\",\n",
    "    title = \"Heat transfer in sand\",\n",
    ")\n",
    "plot!(T_init.(z), z, label = \"Initial condition\")\n",
    "filename = \"bonan_heat_data.csv\"\n",
    "const clima_dir = dirname(dirname(pathof(ClimateMachine)));\n",
    "bonan_dataset = ArtifactWrapper(\n",
    "    joinpath(clima_dir, \"tutorials\", \"Land\", \"Soil\", \"Artifacts.toml\"),\n",
    "    \"bonan_soil_heat\",\n",
    "    ArtifactFile[ArtifactFile(\n",
    "        url = \"https://caltech.box.com/shared/static/99vm8q8tlyoulext6c35lnd3355tx6bu.csv\",\n",
    "        filename = filename,\n",
    "    ),],\n",
    ")\n",
    "bonan_dataset_path = get_data_folder(bonan_dataset)\n",
    "data = joinpath(bonan_dataset_path, filename)\n",
    "ds_bonan = readdlm(data, ',')\n",
    "bonan_T = reverse(ds_bonan[:, 2])\n",
    "bonan_z = reverse(ds_bonan[:, 1])\n",
    "bonan_T_continuous = Spline1D(bonan_z, bonan_T)\n",
    "bonan_at_clima_z = bonan_T_continuous.(z)\n",
    "plot!(bonan_at_clima_z, z, label = \"Bonan simulation\")\n",
    "plot!(legend = :bottomleft)\n",
    "savefig(\"thermal_conductivity_comparison.png\")"
   ],
   "metadata": {},
   "execution_count": 23
  },
  {
   "cell_type": "markdown",
   "source": [
    "![](thermal_conductivity_comparison.png)"
   ],
   "metadata": {}
  },
  {
   "cell_type": "markdown",
   "source": [
    "The plot shows that the temperature at the top of the\n",
    "soil is gradually increasing. This is because the surface\n",
    "temperature is held fixed at a value larger than\n",
    "the initial temperature. If we ran this for longer,\n",
    "we would see that the bottom of the domain would also\n",
    "increase in temperature because there is no heat\n",
    "leaving the bottom (due to zero heat flux specified in\n",
    "the boundary condition)."
   ],
   "metadata": {}
  },
  {
   "cell_type": "markdown",
   "source": [
    "# References\n",
    "[1] Bonan, G. Climate Change and Terrestrial Ecosystem Modeling (2019),\n",
    "Cambridge University Press"
   ],
   "metadata": {}
  },
  {
   "cell_type": "markdown",
   "source": [
    "[2] Johansen, O. 1975. Thermal conductivity of soils. Ph.D. thesis,\n",
    "Trondheim, Norway. Cold Regions Research and Engineering Laboratory\n",
    "Draft Translation 637, 1977, ADA 044002."
   ],
   "metadata": {}
  },
  {
   "cell_type": "markdown",
   "source": [
    "[3] Balland, V., and P. A. Arp (2005), Modeling soil thermal\n",
    "conductivities over a wide range of conditions, J. Env. Eng. Sci., 4, 549–558."
   ],
   "metadata": {}
  },
  {
   "cell_type": "markdown",
   "source": [
    "[4] Dai, Y., N. W. amd Hua Yuan, S. Zhang, W. Shangguan, S. Liu, X. Lu,\n",
    "and Y. Xin (2019a), Evaluation of soil thermal conductivity schemes for\n",
    "use in land surface modeling, J. Adv. Model. Earth Sys., 11, 3454–3473."
   ],
   "metadata": {}
  },
  {
   "cell_type": "markdown",
   "source": [
    "[5] Cosby, B. J., Hornberger, G. M., Clapp, R. B., and Ginn, T. R. (1984).\n",
    "A statistical exploration of the relationships of soil moisture\n",
    "characteristics to the physical properties of soils. Water Resources\n",
    "Research, 20, 682–690."
   ],
   "metadata": {}
  },
  {
   "cell_type": "markdown",
   "source": [
    "---\n",
    "\n",
    "*This notebook was generated using [Literate.jl](https://github.com/fredrikekre/Literate.jl).*"
   ],
   "metadata": {}
  }
 ],
 "nbformat_minor": 3,
 "metadata": {
  "language_info": {
   "file_extension": ".jl",
   "mimetype": "application/julia",
   "name": "julia",
   "version": "1.4.2"
  },
  "kernelspec": {
   "name": "julia-1.4",
   "display_name": "Julia 1.4.2",
   "language": "julia"
  }
 },
 "nbformat": 4
}
