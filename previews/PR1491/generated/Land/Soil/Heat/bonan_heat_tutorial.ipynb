{
 "cells": [
  {
   "cell_type": "markdown",
   "source": [
    "# Soil Heat Tutorial"
   ],
   "metadata": {}
  },
  {
   "cell_type": "markdown",
   "source": [
    "This tutorial shows how to use CliMA code to solve the heat\n",
    "equation in soil.\n",
    "For background on the heat equation in general,\n",
    "and how to solve it using CliMA code, please see the\n",
    "[`heat_equation.jl`](../../Heat/heat_equation.md)\n",
    "tutorial."
   ],
   "metadata": {}
  },
  {
   "cell_type": "markdown",
   "source": [
    "The version of the heat equation we are solving here assumes no\n",
    "sources or sinks and no diffusion of liquid water. It takes the form\n",
    "``\n",
    "\\frac{∂ ρe_int}{∂ t} + ∇ ⋅ (-κ(θ_l, θ_i; ν, ...) ∇T) = 0\n",
    "``"
   ],
   "metadata": {}
  },
  {
   "cell_type": "markdown",
   "source": [
    "Here `ρe_int` is the volumetric internal energy of the soil (J/m^3),\n",
    "`T` is the temperature of the soil (K), and `κ` is the thermal conductivity\n",
    "(W/m/K). `κ` is in turn a function of the soil composition, expressed\n",
    "in terms of the volumetric liquid water fraction `θ_l`, the volumetric\n",
    "ice fraction `θ_i`, and the soil type, represented by parameters `ν, ...`. Specifying\n",
    "a soil type requires specifying the fraction of soil solids in different\n",
    "components, and specifying a porosity. The temperature `T` and\n",
    "volumetric internal energy `ρe_int` are related as\n",
    "``\n",
    "ρe_int = ρc_s (θ_l, θ_i; ν, ...) (T - T_0) - θ_i ρ_i LH_f0\n",
    "``\n",
    "\n",
    "where `ρc_s` is the volumetric heat capacity of the soil (J/m^3/K),\n",
    "`T_0` is the freezing temeprature of water, `ρ_i` is the density of\n",
    "ice (kg/m^3), and `LH_f0` is the latent heat of fusion at `T_0`."
   ],
   "metadata": {}
  },
  {
   "cell_type": "markdown",
   "source": [
    "In this example, we will use a [`PrescribedWaterModel`](@ref\n",
    "ClimateMachine.Land.PrescribedWaterModel). This option allows\n",
    "the user to specify a function for the spatial and temporal\n",
    "behavior of `θ_i` and `θ_l`; it does not solve Richard's equation\n",
    "for the evolution of moisture. Please see the tutorials\n",
    "in the `Coupled/` or `Water/` folder for information on solving\n",
    "Richard's equation, either coupled or uncoupled from the heat equation."
   ],
   "metadata": {}
  },
  {
   "cell_type": "markdown",
   "source": [
    "# Import necessary modules"
   ],
   "metadata": {}
  },
  {
   "cell_type": "markdown",
   "source": [
    "External (non - CliMA) modules"
   ],
   "metadata": {}
  },
  {
   "outputs": [],
   "cell_type": "code",
   "source": [
    "using MPI\n",
    "using OrderedCollections\n",
    "using StaticArrays\n",
    "using Statistics\n",
    "using Dierckx\n",
    "using Plots\n",
    "using DelimitedFiles"
   ],
   "metadata": {},
   "execution_count": 1
  },
  {
   "cell_type": "markdown",
   "source": [
    "CliMA Parameters"
   ],
   "metadata": {}
  },
  {
   "outputs": [],
   "cell_type": "code",
   "source": [
    "using CLIMAParameters\n",
    "using CLIMAParameters.Planet: ρ_cloud_liq, ρ_cloud_ice, cp_l, cp_i, T_0, LH_f0\n",
    "using CLIMAParameters.Atmos.Microphysics: K_therm"
   ],
   "metadata": {},
   "execution_count": 2
  },
  {
   "cell_type": "markdown",
   "source": [
    "ClimateMachine modules"
   ],
   "metadata": {}
  },
  {
   "outputs": [],
   "cell_type": "code",
   "source": [
    "using ClimateMachine\n",
    "using ClimateMachine.Land\n",
    "using ClimateMachine.Land.SoilWaterParameterizations\n",
    "using ClimateMachine.Land.SoilHeatParameterizations\n",
    "using ClimateMachine.Mesh.Topologies\n",
    "using ClimateMachine.Mesh.Grids\n",
    "using ClimateMachine.DGMethods\n",
    "using ClimateMachine.DGMethods.NumericalFluxes\n",
    "using ClimateMachine.DGMethods: BalanceLaw, LocalGeometry\n",
    "using ClimateMachine.MPIStateArrays\n",
    "using ClimateMachine.GenericCallbacks\n",
    "using ClimateMachine.ODESolvers\n",
    "using ClimateMachine.VariableTemplates\n",
    "using ClimateMachine.SingleStackUtils\n",
    "using ClimateMachine.BalanceLaws:\n",
    "    BalanceLaw, Prognostic, Auxiliary, Gradient, GradientFlux, vars_state\n",
    "import ClimateMachine.DGMethods: calculate_dt\n",
    "using ClimateMachine.ArtifactWrappers"
   ],
   "metadata": {},
   "execution_count": 3
  },
  {
   "cell_type": "markdown",
   "source": [
    "# Preliminary set-up"
   ],
   "metadata": {}
  },
  {
   "cell_type": "markdown",
   "source": [
    "Get the parameter set, which holds constants used across CliMA models."
   ],
   "metadata": {}
  },
  {
   "outputs": [
    {
     "output_type": "execute_result",
     "data": {
      "text/plain": "Main.##348.EarthParameterSet()"
     },
     "metadata": {},
     "execution_count": 4
    }
   ],
   "cell_type": "code",
   "source": [
    "struct EarthParameterSet <: AbstractEarthParameterSet end\n",
    "const param_set = EarthParameterSet()"
   ],
   "metadata": {},
   "execution_count": 4
  },
  {
   "cell_type": "markdown",
   "source": [
    "Initialize and pick a floating point precision."
   ],
   "metadata": {}
  },
  {
   "outputs": [],
   "cell_type": "code",
   "source": [
    "ClimateMachine.init()\n",
    "FT = Float32\n",
    "\n",
    "const clima_dir = dirname(dirname(pathof(ClimateMachine)));"
   ],
   "metadata": {},
   "execution_count": 5
  },
  {
   "cell_type": "markdown",
   "source": [
    "Load a function that will interpolate output of simulation"
   ],
   "metadata": {}
  },
  {
   "outputs": [],
   "cell_type": "code",
   "source": [
    "include(joinpath(\n",
    "    clima_dir,\n",
    "    \"tutorials\",\n",
    "    \"Land\",\n",
    "    \"Soil\",\n",
    "    \"interpolation_helper.jl\",\n",
    "));"
   ],
   "metadata": {},
   "execution_count": 6
  },
  {
   "cell_type": "markdown",
   "source": [
    "# Determine soil parameters"
   ],
   "metadata": {}
  },
  {
   "cell_type": "markdown",
   "source": [
    "This tutorial also compares the output of a ClimateMachine simulation with that\n",
    "of Supplemental Program 2, Chapter 5, of Bonan (2019) [1].\n",
    " We found this useful as it\n",
    "allows us compare results from our code against a published version."
   ],
   "metadata": {}
  },
  {
   "cell_type": "markdown",
   "source": [
    "The simulation code of [1] employs a formalism for the thermal\n",
    "conductivity `κ` based on Johansen, 1975, [2]. It assumes\n",
    "no organic matter, and only requires the volumetric\n",
    "fraction of soil solids for quartz and other minerals.\n",
    "ClimateMachine employs the formalism of Balland and Arp (2005)[3],\n",
    "which requires the\n",
    "fraction of soil solids for quartz, gravel,\n",
    "organic matter, and other minerals. Dai (2019)[4] found\n",
    "model [3] to better match\n",
    "measured soil properties across a range of soil types."
   ],
   "metadata": {}
  },
  {
   "cell_type": "markdown",
   "source": [
    "To compare the output of the two simulations, we set the organic\n",
    "matter content and gravel content to zero in the CliMA model.\n",
    "The remaining soil components (quartz and other minerals) match between\n",
    "the two. We also run the simulation for relatively wet soil\n",
    "(water content at 80% of porosity). Under these conditions,\n",
    "the two formulations for `κ`, though taking different functional forms,\n",
    "agree well on the value of `κ`.\n",
    "The differences between models are important\n",
    "for soil with organic material and for soil that is relatively dry."
   ],
   "metadata": {}
  },
  {
   "cell_type": "markdown",
   "source": [
    "Below are the soil component fractions for various soil\n",
    "texture classes,  from Cosby et al. (1984) [1, 5].\n",
    "Note that these fractions are volumetric fractions, relative\n",
    "to other soil solids, i.e. not including pore space. These are denoted `ν_ss_i`: an\n",
    "important distinction is that the CliMA\n",
    "Land Documentation reserves the symbol `ν_i` to denote the volumetric fraction\n",
    "of a soil component `i` relative to the soil, including pore space, such that\n",
    "the sum over `i`, of `ν_i`, is equal to `1-porosity`."
   ],
   "metadata": {}
  },
  {
   "cell_type": "markdown",
   "source": [
    "index: type"
   ],
   "metadata": {}
  },
  {
   "cell_type": "markdown",
   "source": [
    " 1: sand"
   ],
   "metadata": {}
  },
  {
   "cell_type": "markdown",
   "source": [
    " 2: loamy sand"
   ],
   "metadata": {}
  },
  {
   "cell_type": "markdown",
   "source": [
    " 3: sandy loam"
   ],
   "metadata": {}
  },
  {
   "cell_type": "markdown",
   "source": [
    " 4: silty loam"
   ],
   "metadata": {}
  },
  {
   "cell_type": "markdown",
   "source": [
    " 5: loam"
   ],
   "metadata": {}
  },
  {
   "cell_type": "markdown",
   "source": [
    " 6: sandy clay loam"
   ],
   "metadata": {}
  },
  {
   "cell_type": "markdown",
   "source": [
    " 7  silty clay loam"
   ],
   "metadata": {}
  },
  {
   "cell_type": "markdown",
   "source": [
    " 8: clay loam"
   ],
   "metadata": {}
  },
  {
   "cell_type": "markdown",
   "source": [
    " 9: sandy clay"
   ],
   "metadata": {}
  },
  {
   "cell_type": "markdown",
   "source": [
    "10: silty clay"
   ],
   "metadata": {}
  },
  {
   "cell_type": "markdown",
   "source": [
    "11: clay"
   ],
   "metadata": {}
  },
  {
   "outputs": [
    {
     "output_type": "execute_result",
     "data": {
      "text/plain": "11-element Array{Float32,1}:\n 0.395\n 0.41\n 0.435\n 0.485\n 0.451\n 0.42\n 0.477\n 0.476\n 0.426\n 0.492\n 0.482"
     },
     "metadata": {},
     "execution_count": 7
    }
   ],
   "cell_type": "code",
   "source": [
    "ν_ss_silt_array =\n",
    "    FT.(\n",
    "        [5.0, 12.0, 32.0, 70.0, 39.0, 15.0, 56.0, 34.0, 6.0, 47.0, 20.0] ./\n",
    "        100.0,\n",
    "    )\n",
    "ν_ss_quartz_array =\n",
    "    FT.(\n",
    "        [92.0, 82.0, 58.0, 17.0, 43.0, 58.0, 10.0, 32.0, 52.0, 6.0, 22.0] ./\n",
    "        100.0,\n",
    "    )\n",
    "ν_ss_clay_array =\n",
    "    FT.(\n",
    "        [3.0, 6.0, 10.0, 13.0, 18.0, 27.0, 34.0, 34.0, 42.0, 47.0, 58.0] ./\n",
    "        100.0,\n",
    "    )\n",
    "porosity_array =\n",
    "    FT.([\n",
    "        0.395,\n",
    "        0.410,\n",
    "        0.435,\n",
    "        0.485,\n",
    "        0.451,\n",
    "        0.420,\n",
    "        0.477,\n",
    "        0.476,\n",
    "        0.426,\n",
    "        0.492,\n",
    "        0.482,\n",
    "    ])"
   ],
   "metadata": {},
   "execution_count": 7
  },
  {
   "cell_type": "markdown",
   "source": [
    "Here we choose the soil type to be sandy.\n",
    "The soil column in uniform in space and time."
   ],
   "metadata": {}
  },
  {
   "outputs": [
    {
     "output_type": "execute_result",
     "data": {
      "text/plain": "0.395f0"
     },
     "metadata": {},
     "execution_count": 8
    }
   ],
   "cell_type": "code",
   "source": [
    "soil_type_index = 1\n",
    "ν_ss_minerals =\n",
    "    ν_ss_clay_array[soil_type_index] + ν_ss_silt_array[soil_type_index]\n",
    "ν_ss_quartz = ν_ss_quartz_array[soil_type_index]\n",
    "porosity = porosity_array[soil_type_index]"
   ],
   "metadata": {},
   "execution_count": 8
  },
  {
   "cell_type": "markdown",
   "source": [
    "To match the formulation for `κ` [2] used in [1]:"
   ],
   "metadata": {}
  },
  {
   "outputs": [
    {
     "output_type": "execute_result",
     "data": {
      "text/plain": "0.0f0"
     },
     "metadata": {},
     "execution_count": 9
    }
   ],
   "cell_type": "code",
   "source": [
    "ν_ss_om = FT(0.0)\n",
    "ν_ss_gravel = FT(0.0)"
   ],
   "metadata": {},
   "execution_count": 9
  },
  {
   "cell_type": "markdown",
   "source": [
    "Now that we've chosen our soil type, we can calculate\n",
    "the thermal conductivity `κ` of the soil. This requires\n",
    "several other constants:"
   ],
   "metadata": {}
  },
  {
   "outputs": [
    {
     "output_type": "execute_result",
     "data": {
      "text/plain": "2.29f0"
     },
     "metadata": {},
     "execution_count": 10
    }
   ],
   "cell_type": "code",
   "source": [
    "κ_quartz = FT(7.7) # W/m/K\n",
    "κ_minerals = FT(2.5) # W/m/K\n",
    "κ_om = FT(0.25) # W/m/K\n",
    "κ_liq = FT(0.57) # W/m/K\n",
    "κ_ice = FT(2.29) # W/m/K"
   ],
   "metadata": {},
   "execution_count": 10
  },
  {
   "cell_type": "markdown",
   "source": [
    "The thermal conductivity of air is a constant parameter used across ClimateMachine,\n",
    "so we will get it from that parameter set."
   ],
   "metadata": {}
  },
  {
   "outputs": [
    {
     "output_type": "execute_result",
     "data": {
      "text/plain": "7.03731f0"
     },
     "metadata": {},
     "execution_count": 11
    }
   ],
   "cell_type": "code",
   "source": [
    "κ_air = FT(K_therm(param_set)) # W/m/K\n",
    "\n",
    "κ_solid =\n",
    "    k_solid(ν_ss_om, ν_ss_quartz, ν_ss_minerals, κ_quartz, κ_minerals, κ_om)"
   ],
   "metadata": {},
   "execution_count": 11
  },
  {
   "cell_type": "markdown",
   "source": [
    "The particle density of soil solids in moisture-free soil\n",
    "is taken as a constant, across soil types, as in [1].\n",
    "This is a good estimate for organic material free soil. The user is referred to\n",
    "[3] for a more general expression."
   ],
   "metadata": {}
  },
  {
   "outputs": [
    {
     "output_type": "execute_result",
     "data": {
      "text/plain": "2.6076639f0"
     },
     "metadata": {},
     "execution_count": 12
    }
   ],
   "cell_type": "code",
   "source": [
    "ρp = FT(2700) # kg/m^3\n",
    "κ_dry = k_dry(κ_solid, porosity, κ_air, ρp)\n",
    "κ_sat_frozen = ksat_frozen(κ_solid, porosity, κ_ice)\n",
    "κ_sat_unfrozen = ksat_unfrozen(κ_solid, porosity, κ_liq)"
   ],
   "metadata": {},
   "execution_count": 12
  },
  {
   "cell_type": "markdown",
   "source": [
    "The volumetric specific heat of dry soil is chosen so as to match Bonan's simulation.\n",
    "The user could instead compute this as:\n",
    "``ρc_{ds} = (1-porosity) \\sum_i ν_ss_i ρcν_i``\n",
    "where `i` ranges over soil components, `ν_ss_i` is the volumetric fraction of\n",
    "soil component `i`, relative to the soil solids, and `ρcν_i` is the volumetric heat\n",
    "capacity of that component."
   ],
   "metadata": {}
  },
  {
   "outputs": [
    {
     "output_type": "execute_result",
     "data": {
      "text/plain": "ClimateMachine.Land.SoilParamFunctions{Float32}(0.395f0, NaN32, NaN32, 0.0f0, 0.0f0, 0.92f0, 1.16523f6, 0.55057514f0, 2.6076639f0, 4.5166464f0, 0.24f0, 18.1f0)"
     },
     "metadata": {},
     "execution_count": 13
    }
   ],
   "cell_type": "code",
   "source": [
    "ρc_ds = FT((1 - porosity) * 1.926e06) # J/m^3/K\n",
    "\n",
    "soil_param_functions = SoilParamFunctions{FT}(\n",
    "    porosity = porosity,\n",
    "    ν_ss_gravel = ν_ss_gravel,\n",
    "    ν_ss_om = ν_ss_om,\n",
    "    ν_ss_quartz = ν_ss_quartz,\n",
    "    ρc_ds = ρc_ds,\n",
    "    κ_dry = κ_dry,\n",
    "    κ_sat_unfrozen = κ_sat_unfrozen,\n",
    "    κ_sat_frozen = κ_sat_frozen,\n",
    "    a = 0.24, # used in the Kersten number [3]\n",
    "    b = 18.1, # used in the Kersten number [3]\n",
    ")"
   ],
   "metadata": {},
   "execution_count": 13
  },
  {
   "cell_type": "markdown",
   "source": [
    "# Initial and Boundary conditions\n",
    "We will be using a `PrescribedWaterModel`, where the user supplies the augmented\n",
    "liquid fraction and ice fraction as functions of space and time. Since we are not\n",
    "implementing phase changes, it makes sense to either have entirely liquid or\n",
    "frozen water. This tutorial shows liquid water."
   ],
   "metadata": {}
  },
  {
   "cell_type": "markdown",
   "source": [
    "Because the two models for thermal conductivity agree well for wetter soil, we'll\n",
    "choose that here. However, the user could also explore how they differ by choosing\n",
    "drier soil."
   ],
   "metadata": {}
  },
  {
   "cell_type": "markdown",
   "source": [
    "Please note that if the user uses a mix of liquid and frozen water, that they must\n",
    "ensure that the total water content does not exceed porosity."
   ],
   "metadata": {}
  },
  {
   "outputs": [
    {
     "output_type": "execute_result",
     "data": {
      "text/plain": "0.0f0"
     },
     "metadata": {},
     "execution_count": 14
    }
   ],
   "cell_type": "code",
   "source": [
    "prescribed_augmented_liquid_fraction = FT(porosity * 0.8)\n",
    "prescribed_volumetric_ice_fraction = FT(0.0)"
   ],
   "metadata": {},
   "execution_count": 14
  },
  {
   "cell_type": "markdown",
   "source": [
    "Choose boundary conditions for heat that will not lead to freezing of water:"
   ],
   "metadata": {}
  },
  {
   "outputs": [
    {
     "output_type": "execute_result",
     "data": {
      "text/plain": "#5 (generic function with 1 method)"
     },
     "metadata": {},
     "execution_count": 15
    }
   ],
   "cell_type": "code",
   "source": [
    "heat_surface_state = (aux, t) -> eltype(aux)(288.15)\n",
    "heat_bottom_flux = (aux, t) -> eltype(aux)(0.0)\n",
    "T_init = (aux) -> eltype(aux)(275.15)"
   ],
   "metadata": {},
   "execution_count": 15
  },
  {
   "cell_type": "markdown",
   "source": [
    "We also need to define a function `init_soil!`, which\n",
    "initializes all of the prognostic variables (here, we\n",
    "only have `ρe_int`, the volumetric internal energy).\n",
    "The initialization is based on user-specified\n",
    "initial conditions. Note that the user provides initial\n",
    "conditions for heat based on the temperature - `init_soil!` also\n",
    "converts between `T` and `ρe_int`."
   ],
   "metadata": {}
  },
  {
   "outputs": [
    {
     "output_type": "execute_result",
     "data": {
      "text/plain": "init_soil! (generic function with 1 method)"
     },
     "metadata": {},
     "execution_count": 16
    }
   ],
   "cell_type": "code",
   "source": [
    "function init_soil!(land, state, aux, coordinates, time)\n",
    "    ϑ_l, θ_i = get_water_content(land.soil.water, aux, state, time)\n",
    "    θ_l = volumetric_liquid_fraction(ϑ_l, land.soil.param_functions.porosity)\n",
    "    ρc_ds = land.soil.param_functions.ρc_ds\n",
    "    ρc_s = volumetric_heat_capacity(θ_l, θ_i, ρc_ds, land.param_set)\n",
    "\n",
    "    state.soil.heat.ρe_int = volumetric_internal_energy(\n",
    "        θ_i,\n",
    "        ρc_s,\n",
    "        land.soil.heat.initialT(aux),\n",
    "        land.param_set,\n",
    "    )\n",
    "end"
   ],
   "metadata": {},
   "execution_count": 16
  },
  {
   "cell_type": "markdown",
   "source": [
    "# Create the soil model structure"
   ],
   "metadata": {}
  },
  {
   "outputs": [
    {
     "output_type": "execute_result",
     "data": {
      "text/plain": "ClimateMachine.Land.LandModel{Main.##348.EarthParameterSet,ClimateMachine.Land.SoilModel{ClimateMachine.Land.SoilParamFunctions{Float32},ClimateMachine.Land.PrescribedWaterModel{Main.##348.var\"#7#9\",Main.##348.var\"#8#10\"},ClimateMachine.Land.SoilHeatModel{Float32,Main.##348.var\"#5#6\",ClimateMachine.Land.Dirichlet{Main.##348.var\"#1#2\",Nothing},ClimateMachine.Land.Neumann{Nothing,Main.##348.var\"#3#4\"}}},Tuple{},typeof(Main.##348.init_soil!)}(Main.##348.EarthParameterSet(), ClimateMachine.Land.SoilModel{ClimateMachine.Land.SoilParamFunctions{Float32},ClimateMachine.Land.PrescribedWaterModel{Main.##348.var\"#7#9\",Main.##348.var\"#8#10\"},ClimateMachine.Land.SoilHeatModel{Float32,Main.##348.var\"#5#6\",ClimateMachine.Land.Dirichlet{Main.##348.var\"#1#2\",Nothing},ClimateMachine.Land.Neumann{Nothing,Main.##348.var\"#3#4\"}}}(ClimateMachine.Land.SoilParamFunctions{Float32}(0.395f0, NaN32, NaN32, 0.0f0, 0.0f0, 0.92f0, 1.16523f6, 0.55057514f0, 2.6076639f0, 4.5166464f0, 0.24f0, 18.1f0), ClimateMachine.Land.PrescribedWaterModel{Main.##348.var\"#7#9\",Main.##348.var\"#8#10\"}(Main.##348.var\"#7#9\"(), Main.##348.var\"#8#10\"()), ClimateMachine.Land.SoilHeatModel{Float32,Main.##348.var\"#5#6\",ClimateMachine.Land.Dirichlet{Main.##348.var\"#1#2\",Nothing},ClimateMachine.Land.Neumann{Nothing,Main.##348.var\"#3#4\"}}(Main.##348.var\"#5#6\"(), ClimateMachine.Land.Dirichlet{Main.##348.var\"#1#2\",Nothing}(Main.##348.var\"#1#2\"(), nothing), ClimateMachine.Land.Neumann{Nothing,Main.##348.var\"#3#4\"}(nothing, Main.##348.var\"#3#4\"()))), (), Main.##348.init_soil!)"
     },
     "metadata": {},
     "execution_count": 17
    }
   ],
   "cell_type": "code",
   "source": [
    "soil_water_model = PrescribedWaterModel(\n",
    "    (aux, t) -> prescribed_augmented_liquid_fraction,\n",
    "    (aux, t) -> prescribed_volumetric_ice_fraction,\n",
    ")\n",
    "\n",
    "soil_heat_model = SoilHeatModel(\n",
    "    FT;\n",
    "    initialT = T_init,\n",
    "    dirichlet_bc = Dirichlet(\n",
    "        surface_state = heat_surface_state,\n",
    "        bottom_state = nothing,\n",
    "    ),\n",
    "    neumann_bc = Neumann(\n",
    "        surface_flux = nothing,\n",
    "        bottom_flux = heat_bottom_flux,\n",
    "    ),\n",
    ")\n",
    "\n",
    "m_soil = SoilModel(soil_param_functions, soil_water_model, soil_heat_model)\n",
    "sources = ()\n",
    "m = LandModel(\n",
    "    param_set,\n",
    "    m_soil;\n",
    "    source = sources,\n",
    "    init_state_prognostic = init_soil!,\n",
    ")"
   ],
   "metadata": {},
   "execution_count": 17
  },
  {
   "cell_type": "markdown",
   "source": [
    "# Specify the numerical details\n",
    "These include the resolution, domain boundaries, integration time,\n",
    "Courant number, and ODE solver."
   ],
   "metadata": {}
  },
  {
   "outputs": [
    {
     "name": "stdout",
     "output_type": "stream",
     "text": [
      "┌ Info: Model composition\n",
      "│     param_set = Main.##348.EarthParameterSet()\n",
      "│     soil = ClimateMachine.Land.SoilModel{ClimateMachine.Land.SoilParamFunctions{Float32},ClimateMachine.Land.PrescribedWaterModel{Main.##348.var\"#7#9\",Main.##348.var\"#8#10\"},ClimateMachine.Land.SoilHeatModel{Float32,Main.##348.var\"#5#6\",ClimateMachine.Land.Dirichlet{Main.##348.var\"#1#2\",Nothing},ClimateMachine.Land.Neumann{Nothing,Main.##348.var\"#3#4\"}}}(ClimateMachine.Land.SoilParamFunctions{Float32}(0.395f0, NaN32, NaN32, 0.0f0, 0.0f0, 0.92f0, 1.16523f6, 0.55057514f0, 2.6076639f0, 4.5166464f0, 0.24f0, 18.1f0), ClimateMachine.Land.PrescribedWaterModel{Main.##348.var\"#7#9\",Main.##348.var\"#8#10\"}(Main.##348.var\"#7#9\"(), Main.##348.var\"#8#10\"()), ClimateMachine.Land.SoilHeatModel{Float32,Main.##348.var\"#5#6\",ClimateMachine.Land.Dirichlet{Main.##348.var\"#1#2\",Nothing},ClimateMachine.Land.Neumann{Nothing,Main.##348.var\"#3#4\"}}(Main.##348.var\"#5#6\"(), ClimateMachine.Land.Dirichlet{Main.##348.var\"#1#2\",Nothing}(Main.##348.var\"#1#2\"(), nothing), ClimateMachine.Land.Neumann{Nothing,Main.##348.var\"#3#4\"}(nothing, Main.##348.var\"#3#4\"())))\n",
      "│     source = ()\n",
      "│     init_state_prognostic = init_soil!\n",
      "└ @ ClimateMachine /home/runner/work/ClimateMachine.jl/ClimateMachine.jl/src/Driver/driver_configs.jl:102\n",
      "┌ Info: Establishing single stack configuration for LandModel\n",
      "│     precision        = Float32\n",
      "│     polynomial order = 1\n",
      "│     domain_min       = 0.00 m x0.00 m x-1.00 m\n",
      "│     domain_max       = 1.00 m x1.00 m x0.00 m\n",
      "│     #vert elems      = 100\n",
      "│     MPI ranks        = 1\n",
      "│     min(Δ_horz)      = 1.00 m\n",
      "│     min(Δ_vert)      = 0.01 m\n",
      "└ @ ClimateMachine /home/runner/work/ClimateMachine.jl/ClimateMachine.jl/src/Driver/driver_configs.jl:385\n"
     ]
    },
    {
     "output_type": "execute_result",
     "data": {
      "text/plain": "ClimateMachine.DriverConfiguration{Float32}(ClimateMachine.ConfigTypes.SingleStackConfigType(), \"LandModel\", 1, Array, ExplicitSolverType(ClimateMachine.ODESolvers.LSRK54CarpenterKennedy), Main.##348.EarthParameterSet(), ClimateMachine.Land.LandModel{Main.##348.EarthParameterSet,ClimateMachine.Land.SoilModel{ClimateMachine.Land.SoilParamFunctions{Float32},ClimateMachine.Land.PrescribedWaterModel{Main.##348.var\"#7#9\",Main.##348.var\"#8#10\"},ClimateMachine.Land.SoilHeatModel{Float32,Main.##348.var\"#5#6\",ClimateMachine.Land.Dirichlet{Main.##348.var\"#1#2\",Nothing},ClimateMachine.Land.Neumann{Nothing,Main.##348.var\"#3#4\"}}},Tuple{},typeof(Main.##348.init_soil!)}(Main.##348.EarthParameterSet(), ClimateMachine.Land.SoilModel{ClimateMachine.Land.SoilParamFunctions{Float32},ClimateMachine.Land.PrescribedWaterModel{Main.##348.var\"#7#9\",Main.##348.var\"#8#10\"},ClimateMachine.Land.SoilHeatModel{Float32,Main.##348.var\"#5#6\",ClimateMachine.Land.Dirichlet{Main.##348.var\"#1#2\",Nothing},ClimateMachine.Land.Neumann{Nothing,Main.##348.var\"#3#4\"}}}(ClimateMachine.Land.SoilParamFunctions{Float32}(0.395f0, NaN32, NaN32, 0.0f0, 0.0f0, 0.92f0, 1.16523f6, 0.55057514f0, 2.6076639f0, 4.5166464f0, 0.24f0, 18.1f0), ClimateMachine.Land.PrescribedWaterModel{Main.##348.var\"#7#9\",Main.##348.var\"#8#10\"}(Main.##348.var\"#7#9\"(), Main.##348.var\"#8#10\"()), ClimateMachine.Land.SoilHeatModel{Float32,Main.##348.var\"#5#6\",ClimateMachine.Land.Dirichlet{Main.##348.var\"#1#2\",Nothing},ClimateMachine.Land.Neumann{Nothing,Main.##348.var\"#3#4\"}}(Main.##348.var\"#5#6\"(), ClimateMachine.Land.Dirichlet{Main.##348.var\"#1#2\",Nothing}(Main.##348.var\"#1#2\"(), nothing), ClimateMachine.Land.Neumann{Nothing,Main.##348.var\"#3#4\"}(nothing, Main.##348.var\"#3#4\"()))), (), Main.##348.init_soil!), MPI.Comm(1140850688), ClimateMachine.Mesh.Grids.DiscontinuousSpectralElementGrid{Float32,3,1,8,Array,Array{Float32,1},Array{Float32,2},Array{Float32,3},Array{Float32,4},Array{Int64,1},Array{Int64,2},Array{Int64,3},ClimateMachine.Mesh.Topologies.StackedBrickTopology{3,Float32}}(ClimateMachine.Mesh.Topologies.StackedBrickTopology{3,Float32}(ClimateMachine.Mesh.Topologies.BoxElementTopology{3,Float32}(MPI.Comm(1140850688), 1:100, 1:100, 101:100, , Int64[], , [1, 2, 3, 4, 5, 6, 7, 8, 9, 10  …  91, 92, 93, 94, 95, 96, 97, 98, 99, 100], Int64[], Float32[0.0 1.0 … 0.0 1.0; 0.0 0.0 … 1.0 1.0; -1.0 -1.0 … -0.99 -0.99]\n\nFloat32[0.0 1.0 … 0.0 1.0; 0.0 0.0 … 1.0 1.0; -0.99 -0.99 … -0.98 -0.98]\n\nFloat32[0.0 1.0 … 0.0 1.0; 0.0 0.0 … 1.0 1.0; -0.98 -0.98 … -0.97 -0.97]\n\n...\n\nFloat32[0.0 1.0 … 0.0 1.0; 0.0 0.0 … 1.0 1.0; -0.03 -0.03 … -0.02 -0.02]\n\nFloat32[0.0 1.0 … 0.0 1.0; 0.0 0.0 … 1.0 1.0; -0.02 -0.02 … -0.01 -0.01]\n\nFloat32[0.0 1.0 … 0.0 1.0; 0.0 0.0 … 1.0 1.0; -0.01 -0.01 … 0.0 0.0], [1 2 … 99 100; 1 2 … 99 100; … ; 1 1 … 98 99; 2 3 … 100 100], [2 2 … 2 2; 1 1 … 1 1; … ; 5 6 … 6 6; 5 5 … 5 6], [1 1 … 1 1; 1 1 … 1 1; … ; 1 1 … 1 1; 1 1 … 1 1], [0 0 … 0 0; 0 0 … 0 0; … ; 1 0 … 0 0; 0 0 … 0 2], Int64[], UnitRange{Int64}[], UnitRange{Int64}[], Int64[], true), 100), Float32[2.0 0.0 … -1.0 0.004999981; 2.000006 0.0 … -1.0 0.004999995; … ; 2.000012 0.0 … -0.99000007 0.004999995; 2.000006 0.0 … -0.99000007 0.0049999803]\n\nFloat32[1.9999942 0.0 … -0.99 0.004999966; 2.000006 0.0 … -0.99 0.004999995; … ; 2.000006 0.0 … -0.9800001 0.004999995; 1.9999942 0.0 … -0.9800001 0.004999966]\n\nFloat32[1.9999942 0.0 … -0.98 0.004999966; 2.000006 0.0 … -0.98 0.004999995; … ; 2.000006 0.0 … -0.9700001 0.004999995; 1.9999942 0.0 … -0.9700001 0.004999966]\n\n...\n\nFloat32[2.0 0.0 … -0.03 0.0049999994; 2.0000002 0.0 … -0.03 0.0050000004; … ; 2.0000005 0.0 … -0.020000001 0.005000001; 1.9999998 0.0 … -0.020000001 0.0049999985]\n\nFloat32[1.9999999 0.0 … -0.02 0.004999999; 2.0000002 0.0 … -0.02 0.005; … ; 1.9999999 0.0 … -0.010000001 0.0049999994; 1.9999998 0.0 … -0.010000001 0.004999999]\n\nFloat32[2.0 0.0 … -0.01 0.005; 2.0 0.0 … -0.01 0.005; … ; 2.0 0.0 … -2.9802322f-10 0.005; 1.9999998 0.0 … -2.9802324f-10 0.004999999], Float32[-1.0 -1.0 -1.0 -1.0; -0.0 -0.0 -0.0 -0.0; … ; 0.002499997 0.002499997 0.002499997 0.002499997; 800.00104 800.00586 800.00104 800.00586]\n\nFloat32[1.0 1.0 1.0 1.0; 0.0 0.0 0.0 0.0; … ; 0.0024999895 0.0024999895 0.0024999895 0.0024999895; 800.00586 800.00586 800.00586 800.00586]\n\nFloat32[-0.0 -0.0 -0.0 -0.0; -1.0 -1.0 -1.0 -1.0; … ; 0.0024999897 0.0024999895 0.0024999897 0.0024999895; 800.00104 800.00586 800.00104 800.00586]\n\nFloat32[0.0 0.0 0.0 0.0; 1.0 1.0 1.0 1.0; … ; 0.002499982 0.002499982 0.002499982 0.002499982; 800.00586 800.00586 800.00586 800.00586]\n\nFloat32[-0.0 -0.0 -0.0 -0.0; -0.0 -0.0 -0.0 -0.0; … ; 0.24999994 0.24999994 0.24999994 0.24999994; 800.00104 800.00586 800.00586 800.00586]\n\nFloat32[2.9802322f-8 2.9802322f-8 2.9802322f-8 2.9802322f-8; 2.9802322f-8 2.9802322f-8 2.9802322f-8 2.9802322f-8; … ; 0.24999994 0.24999994 0.24999994 0.24999994; 800.00104 800.00586 800.00586 800.00586]\n\nFloat32[-1.0 -1.0 -1.0 -1.0; -0.0 -0.0 -0.0 -0.0; … ; 0.0024999897 0.0024999895 0.0024999897 0.0024999895; 800.00104 800.00586 800.00104 800.00586]\n\nFloat32[1.0 1.0 1.0 1.0; 0.0 0.0 0.0 0.0; … ; 0.0024999895 0.0024999897 0.0024999895 0.0024999897; 800.00586 800.00104 800.00586 800.00104]\n\nFloat32[-0.0 -0.0 -0.0 -0.0; -1.0 -1.0 -1.0 -1.0; … ; 0.0024999897 0.0024999895 0.0024999897 0.0024999895; 800.00104 800.00586 800.00104 800.00586]\n\nFloat32[0.0 0.0 0.0 0.0; 1.0 1.0 1.0 1.0; … ; 0.0024999895 0.0024999897 0.0024999895 0.0024999897; 800.00586 800.00104 800.00586 800.00104]\n\nFloat32[-2.9802322f-8 -2.9802322f-8 -2.9802322f-8 -2.9802322f-8; -2.9802322f-8 -2.9802322f-8 -2.9802322f-8 -2.9802322f-8; … ; 0.24999994 0.24999994 0.24999994 0.24999994; 800.00104 800.00586 800.00586 800.00104]\n\nFloat32[2.9802322f-8 2.9802322f-8 2.9802322f-8 2.9802322f-8; 2.9802322f-8 2.9802322f-8 2.9802322f-8 2.9802322f-8; … ; 0.24999994 0.24999994 0.24999994 0.24999994; 800.00104 800.00586 800.00586 800.00104]\n\nFloat32[-1.0 -1.0 -1.0 -1.0; -0.0 -0.0 -0.0 -0.0; … ; 0.0024999897 0.0024999895 0.0024999897 0.0024999895; 800.00104 800.00586 800.00104 800.00586]\n\nFloat32[1.0 1.0 1.0 1.0; 0.0 0.0 0.0 0.0; … ; 0.0024999895 0.0024999897 0.0024999895 0.0024999897; 800.00586 800.00104 800.00586 800.00104]\n\nFloat32[-0.0 -0.0 -0.0 -0.0; -1.0 -1.0 -1.0 -1.0; … ; 0.0024999897 0.0024999895 0.0024999897 0.0024999895; 800.00104 800.00586 800.00104 800.00586]\n\nFloat32[0.0 0.0 0.0 0.0; 1.0 1.0 1.0 1.0; … ; 0.0024999895 0.0024999897 0.0024999895 0.0024999897; 800.00586 800.00104 800.00586 800.00104]\n\nFloat32[-2.9802322f-8 -2.9802322f-8 -2.9802322f-8 -2.9802322f-8; -2.9802322f-8 -2.9802322f-8 -2.9802322f-8 -2.9802322f-8; … ; 0.24999994 0.24999994 0.24999994 0.24999994; 800.00104 800.00586 800.00586 800.00104]\n\nFloat32[2.9802322f-8 2.9802322f-8 2.9802322f-8 2.9802322f-8; 2.9802322f-8 2.9802322f-8 2.9802322f-8 2.9802322f-8; … ; 0.24999994 0.24999994 0.24999994 0.24999994; 800.00104 800.00586 800.00586 800.00104]\n\n...\n\nFloat32[-1.0 -1.0 -1.0 -1.0; -0.0 -0.0 -0.0 -0.0; … ; 0.0024999992 0.0024999995 0.0024999992 0.0024999995; 800.0003 800.0005 800.0003 800.0005]\n\nFloat32[1.0 1.0 1.0 1.0; 0.0 0.0 0.0 0.0; … ; 0.002499999 0.002499999 0.002499999 0.002499999; 800.0005 800.0003 800.0005 800.0003]\n\nFloat32[-0.0 -0.0 -0.0 -0.0; -1.0 -1.0 -1.0 -1.0; … ; 0.002499999 0.002499999 0.002499999 0.002499999; 800.0003 800.0005 800.0003 800.0005]\n\nFloat32[0.0 0.0 0.0 0.0; 1.0 1.0 1.0 1.0; … ; 0.002499999 0.002499999 0.002499999 0.002499999; 800.0005 800.0003 800.0005 800.0003]\n\nFloat32[-9.313226f-10 -9.313226f-10 -9.313226f-10 -9.313226f-10; -9.313226f-10 -9.313226f-10 -9.313226f-10 -9.313226f-10; … ; 0.24999994 0.24999994 0.24999994 0.24999994; 800.0003 800.0005 800.0005 800.0003]\n\nFloat32[9.313226f-10 9.313226f-10 9.313226f-10 9.313226f-10; 9.313226f-10 9.313226f-10 9.313226f-10 9.313226f-10; … ; 0.24999994 0.24999994 0.24999994 0.24999994; 800.0003 800.0005 800.0005 800.0003]\n\nFloat32[-1.0 -1.0 -1.0 -1.0; -0.0 -0.0 -0.0 -0.0; … ; 0.0024999988 0.0024999988 0.0024999988 0.0024999988; 800.00037 800.00037 800.00037 800.00037]\n\nFloat32[1.0 1.0 1.0 1.0; 0.0 0.0 0.0 0.0; … ; 0.0024999992 0.0024999992 0.0024999992 0.0024999992; 800.00037 800.00024 800.00037 800.00024]\n\nFloat32[-0.0 -0.0 -0.0 -0.0; -1.0 -1.0 -1.0 -1.0; … ; 0.002499999 0.002499999 0.002499999 0.002499999; 800.00037 800.00037 800.00037 800.00037]\n\nFloat32[0.0 0.0 0.0 0.0; 1.0 1.0 1.0 1.0; … ; 0.0024999992 0.0024999992 0.0024999992 0.0024999992; 800.00037 800.00024 800.00037 800.00024]\n\nFloat32[-9.313226f-10 -9.313226f-10 -9.313226f-10 -9.313226f-10; -9.313226f-10 -9.313226f-10 -9.313226f-10 -9.313226f-10; … ; 0.24999994 0.24999994 0.24999994 0.24999994; 800.00037 800.00037 800.00037 800.00024]\n\nFloat32[0.0 0.0 0.0 0.0; 0.0 0.0 0.0 0.0; … ; 0.24999994 0.24999994 0.24999994 0.24999994; 800.00037 800.00037 800.00037 800.00024]\n\nFloat32[-1.0 -1.0 -1.0 -1.0; -0.0 -0.0 -0.0 -0.0; … ; 0.0024999992 0.0024999992 0.0024999992 0.0024999992; 800.0003 800.0003 800.0003 800.0003]\n\nFloat32[1.0 1.0 1.0 1.0; -1.3877788f-15 -1.3877788f-15 -1.3877788f-15 -1.3877788f-15; … ; 0.0024999992 0.0024999992 0.0024999992 0.0024999992; 800.0003 800.00024 800.0003 800.00024]\n\nFloat32[-0.0 -0.0 -0.0 -0.0; -1.0 -1.0 -1.0 -1.0; … ; 0.0024999992 0.0024999992 0.0024999992 0.0024999992; 800.0003 800.0003 800.0003 800.0003]\n\nFloat32[0.0 0.0 0.0 0.0; 1.0 1.0 1.0 1.0; … ; 0.0024999992 0.0024999992 0.0024999992 0.0024999992; 800.0003 800.00024 800.0003 800.00024]\n\nFloat32[-4.656613f-10 -4.656613f-10 -4.656613f-10 -4.656613f-10; -4.656613f-10 -4.656613f-10 -4.656613f-10 -4.656613f-10; … ; 0.24999994 0.24999994 0.24999994 0.24999994; 800.0003 800.0003 800.0003 800.00024]\n\nFloat32[1.3877788f-17 1.3877788f-17 1.3877788f-17 1.3877788f-17; 1.3877788f-17 1.3877788f-17 1.3877788f-17 1.3877788f-17; … ; 0.24999994 0.24999994 0.24999994 0.24999994; 800.0003 800.0003 800.0003 800.00024], [0 0 … 0 0; 0 0 … 0 0; … ; 1 0 … 0 0; 0 0 … 0 2], [1 2 … 1 5; 3 4 … 2 6; 5 6 … 3 7; 7 8 … 4 8]\n\n[9 10 … 9 13; 11 12 … 10 14; 13 14 … 11 15; 15 16 … 12 16]\n\n[17 18 … 17 21; 19 20 … 18 22; 21 22 … 19 23; 23 24 … 20 24]\n\n...\n\n[777 778 … 777 781; 779 780 … 778 782; 781 782 … 779 783; 783 784 … 780 784]\n\n[785 786 … 785 789; 787 788 … 786 790; 789 790 … 787 791; 791 792 … 788 792]\n\n[793 794 … 793 797; 795 796 … 794 798; 797 798 … 795 799; 799 800 … 796 800], [2 1 … 1 9; 4 3 … 2 10; 6 5 … 3 11; 8 7 … 4 12]\n\n[10 9 … 5 17; 12 11 … 6 18; 14 13 … 7 19; 16 15 … 8 20]\n\n[18 17 … 13 25; 20 19 … 14 26; 22 21 … 15 27; 24 23 … 16 28]\n\n...\n\n[778 777 … 773 785; 780 779 … 774 786; 782 781 … 775 787; 784 783 … 776 788]\n\n[786 785 … 781 793; 788 787 … 782 794; 790 789 … 783 795; 792 791 … 784 796]\n\n[794 793 … 789 797; 796 795 … 790 798; 798 797 … 791 799; 800 799 … 792 800], Int64[], Int64[], UnitRange{Int64}[], UnitRange{Int64}[], [1, 2, 3, 4, 5, 6, 7, 8, 9, 10  …  91, 92, 93, 94, 95, 96, 97, 98, 99, 100], Int64[], Bool[1, 1, 1, 1, 1, 1, 1, 1, 1, 1  …  1, 1, 1, 1, 1, 1, 1, 1, 1, 1], Float32[0.9999999, 0.9999999], Float32[-0.5 0.5; -0.5 0.5], Float32[0.0 0.0; 0.9999999 0.9999999]), ClimateMachine.DGMethods.NumericalFluxes.CentralNumericalFluxFirstOrder(), ClimateMachine.DGMethods.NumericalFluxes.CentralNumericalFluxSecondOrder(), ClimateMachine.DGMethods.NumericalFluxes.CentralNumericalFluxGradient(), ClimateMachine.SingleStackSpecificInfo())"
     },
     "metadata": {},
     "execution_count": 18
    }
   ],
   "cell_type": "code",
   "source": [
    "N_poly = 1\n",
    "nelem_vert = 100\n",
    "\n",
    "zmax = FT(0)\n",
    "zmin = FT(-1)\n",
    "\n",
    "driver_config = ClimateMachine.SingleStackConfiguration(\n",
    "    \"LandModel\",\n",
    "    N_poly,\n",
    "    nelem_vert,\n",
    "    zmax,\n",
    "    param_set,\n",
    "    m;\n",
    "    zmin = zmin,\n",
    "    numerical_flux_first_order = CentralNumericalFluxFirstOrder(),\n",
    ")"
   ],
   "metadata": {},
   "execution_count": 18
  },
  {
   "cell_type": "markdown",
   "source": [
    "In this tutorial, we determine a timestep based on a Courant number (\n",
    "also called a Fourier number in the context of the heat equation).\n",
    "In short, we can use the parameters of the model (`κ` and `ρc_s`),\n",
    "along with with the size of\n",
    "elements of the grid used for discretizing the PDE, to estimate\n",
    "a natural timescale for heat transfer across a grid cell.\n",
    "Because we are using an explicit ODE solver, the timestep should\n",
    "be a fraction of this in order to resolve the dynamics."
   ],
   "metadata": {}
  },
  {
   "cell_type": "markdown",
   "source": [
    "This allows us to automate, to a certain extent, choosing a value for\n",
    "the timestep, even as we switch between soil types."
   ],
   "metadata": {}
  },
  {
   "outputs": [
    {
     "name": "stdout",
     "output_type": "stream",
     "text": [
      "┌ Info: Initializing LandModel\n",
      "└ @ ClimateMachine /home/runner/work/ClimateMachine.jl/ClimateMachine.jl/src/Driver/solver_configs.jl:161\n"
     ]
    },
    {
     "output_type": "execute_result",
     "data": {
      "text/plain": "ClimateMachine.SolverConfiguration{Float32}(\"LandModel\", MPI.Comm(1140850688), Main.##348.EarthParameterSet(), ClimateMachine.DGMethods.DGModel{ClimateMachine.Land.LandModel{Main.##348.EarthParameterSet,ClimateMachine.Land.SoilModel{ClimateMachine.Land.SoilParamFunctions{Float32},ClimateMachine.Land.PrescribedWaterModel{Main.##348.var\"#7#9\",Main.##348.var\"#8#10\"},ClimateMachine.Land.SoilHeatModel{Float32,Main.##348.var\"#5#6\",ClimateMachine.Land.Dirichlet{Main.##348.var\"#1#2\",Nothing},ClimateMachine.Land.Neumann{Nothing,Main.##348.var\"#3#4\"}}},Tuple{},typeof(Main.##348.init_soil!)},ClimateMachine.Mesh.Grids.DiscontinuousSpectralElementGrid{Float32,3,1,8,Array,Array{Float32,1},Array{Float32,2},Array{Float32,3},Array{Float32,4},Array{Int64,1},Array{Int64,2},Array{Int64,3},ClimateMachine.Mesh.Topologies.StackedBrickTopology{3,Float32}},ClimateMachine.DGMethods.NumericalFluxes.CentralNumericalFluxFirstOrder,ClimateMachine.DGMethods.NumericalFluxes.CentralNumericalFluxSecondOrder,ClimateMachine.DGMethods.NumericalFluxes.CentralNumericalFluxGradient,ClimateMachine.MPIStateArrays.MPIStateArray{Float32,NamedTuple{(:z, :soil),Tuple{Float32,NamedTuple{(:water, :heat),Tuple{NamedTuple{(),Tuple{}},NamedTuple{(:T,),Tuple{Float32}}}}}},Array{Float32,3},Array{Int64,1},SubArray{Float32,3,Array{Float32,3},Tuple{Base.Slice{Base.OneTo{Int64}},Base.Slice{Base.OneTo{Int64}},UnitRange{Int64}},true},ClimateMachine.MPIStateArrays.CMBuffers.CMBuffer{Float32,Array{Float32,2},Nothing}},ClimateMachine.MPIStateArrays.MPIStateArray{Float32,NamedTuple{(:soil,),Tuple{NamedTuple{(:water, :heat),Tuple{NamedTuple{(),Tuple{}},NamedTuple{(:κ∇T,),Tuple{StaticArrays.SArray{Tuple{3},Float32,1,3}}}}}}},Array{Float32,3},Array{Int64,1},SubArray{Float32,3,Array{Float32,3},Tuple{Base.Slice{Base.OneTo{Int64}},Base.Slice{Base.OneTo{Int64}},UnitRange{Int64}},true},ClimateMachine.MPIStateArrays.CMBuffers.CMBuffer{Float32,Array{Float32,2},Nothing}},Tuple{ClimateMachine.MPIStateArrays.MPIStateArray{Float32,NamedTuple{(),Tuple{}},Array{Float32,3},Array{Int64,1},SubArray{Float32,3,Array{Float32,3},Tuple{Base.Slice{Base.OneTo{Int64}},Base.Slice{Base.OneTo{Int64}},UnitRange{Int64}},true},ClimateMachine.MPIStateArrays.CMBuffers.CMBuffer{Float32,Array{Float32,2},Nothing}},ClimateMachine.MPIStateArrays.MPIStateArray{Float32,NamedTuple{(),Tuple{}},Array{Float32,3},Array{Int64,1},SubArray{Float32,3,Array{Float32,3},Tuple{Base.Slice{Base.OneTo{Int64}},Base.Slice{Base.OneTo{Int64}},UnitRange{Int64}},true},ClimateMachine.MPIStateArrays.CMBuffers.CMBuffer{Float32,Array{Float32,2},Nothing}}},ClimateMachine.Mesh.Grids.VerticalDirection,ClimateMachine.Mesh.Grids.VerticalDirection,Nothing}(ClimateMachine.Land.LandModel{Main.##348.EarthParameterSet,ClimateMachine.Land.SoilModel{ClimateMachine.Land.SoilParamFunctions{Float32},ClimateMachine.Land.PrescribedWaterModel{Main.##348.var\"#7#9\",Main.##348.var\"#8#10\"},ClimateMachine.Land.SoilHeatModel{Float32,Main.##348.var\"#5#6\",ClimateMachine.Land.Dirichlet{Main.##348.var\"#1#2\",Nothing},ClimateMachine.Land.Neumann{Nothing,Main.##348.var\"#3#4\"}}},Tuple{},typeof(Main.##348.init_soil!)}(Main.##348.EarthParameterSet(), ClimateMachine.Land.SoilModel{ClimateMachine.Land.SoilParamFunctions{Float32},ClimateMachine.Land.PrescribedWaterModel{Main.##348.var\"#7#9\",Main.##348.var\"#8#10\"},ClimateMachine.Land.SoilHeatModel{Float32,Main.##348.var\"#5#6\",ClimateMachine.Land.Dirichlet{Main.##348.var\"#1#2\",Nothing},ClimateMachine.Land.Neumann{Nothing,Main.##348.var\"#3#4\"}}}(ClimateMachine.Land.SoilParamFunctions{Float32}(0.395f0, NaN32, NaN32, 0.0f0, 0.0f0, 0.92f0, 1.16523f6, 0.55057514f0, 2.6076639f0, 4.5166464f0, 0.24f0, 18.1f0), ClimateMachine.Land.PrescribedWaterModel{Main.##348.var\"#7#9\",Main.##348.var\"#8#10\"}(Main.##348.var\"#7#9\"(), Main.##348.var\"#8#10\"()), ClimateMachine.Land.SoilHeatModel{Float32,Main.##348.var\"#5#6\",ClimateMachine.Land.Dirichlet{Main.##348.var\"#1#2\",Nothing},ClimateMachine.Land.Neumann{Nothing,Main.##348.var\"#3#4\"}}(Main.##348.var\"#5#6\"(), ClimateMachine.Land.Dirichlet{Main.##348.var\"#1#2\",Nothing}(Main.##348.var\"#1#2\"(), nothing), ClimateMachine.Land.Neumann{Nothing,Main.##348.var\"#3#4\"}(nothing, Main.##348.var\"#3#4\"()))), (), Main.##348.init_soil!), ClimateMachine.Mesh.Grids.DiscontinuousSpectralElementGrid{Float32,3,1,8,Array,Array{Float32,1},Array{Float32,2},Array{Float32,3},Array{Float32,4},Array{Int64,1},Array{Int64,2},Array{Int64,3},ClimateMachine.Mesh.Topologies.StackedBrickTopology{3,Float32}}(ClimateMachine.Mesh.Topologies.StackedBrickTopology{3,Float32}(ClimateMachine.Mesh.Topologies.BoxElementTopology{3,Float32}(MPI.Comm(1140850688), 1:100, 1:100, 101:100, , Int64[], , [1, 2, 3, 4, 5, 6, 7, 8, 9, 10  …  91, 92, 93, 94, 95, 96, 97, 98, 99, 100], Int64[], Float32[0.0 1.0 … 0.0 1.0; 0.0 0.0 … 1.0 1.0; -1.0 -1.0 … -0.99 -0.99]\n\nFloat32[0.0 1.0 … 0.0 1.0; 0.0 0.0 … 1.0 1.0; -0.99 -0.99 … -0.98 -0.98]\n\nFloat32[0.0 1.0 … 0.0 1.0; 0.0 0.0 … 1.0 1.0; -0.98 -0.98 … -0.97 -0.97]\n\n...\n\nFloat32[0.0 1.0 … 0.0 1.0; 0.0 0.0 … 1.0 1.0; -0.03 -0.03 … -0.02 -0.02]\n\nFloat32[0.0 1.0 … 0.0 1.0; 0.0 0.0 … 1.0 1.0; -0.02 -0.02 … -0.01 -0.01]\n\nFloat32[0.0 1.0 … 0.0 1.0; 0.0 0.0 … 1.0 1.0; -0.01 -0.01 … 0.0 0.0], [1 2 … 99 100; 1 2 … 99 100; … ; 1 1 … 98 99; 2 3 … 100 100], [2 2 … 2 2; 1 1 … 1 1; … ; 5 6 … 6 6; 5 5 … 5 6], [1 1 … 1 1; 1 1 … 1 1; … ; 1 1 … 1 1; 1 1 … 1 1], [0 0 … 0 0; 0 0 … 0 0; … ; 1 0 … 0 0; 0 0 … 0 2], Int64[], UnitRange{Int64}[], UnitRange{Int64}[], Int64[], true), 100), Float32[2.0 0.0 … -1.0 0.004999981; 2.000006 0.0 … -1.0 0.004999995; … ; 2.000012 0.0 … -0.99000007 0.004999995; 2.000006 0.0 … -0.99000007 0.0049999803]\n\nFloat32[1.9999942 0.0 … -0.99 0.004999966; 2.000006 0.0 … -0.99 0.004999995; … ; 2.000006 0.0 … -0.9800001 0.004999995; 1.9999942 0.0 … -0.9800001 0.004999966]\n\nFloat32[1.9999942 0.0 … -0.98 0.004999966; 2.000006 0.0 … -0.98 0.004999995; … ; 2.000006 0.0 … -0.9700001 0.004999995; 1.9999942 0.0 … -0.9700001 0.004999966]\n\n...\n\nFloat32[2.0 0.0 … -0.03 0.0049999994; 2.0000002 0.0 … -0.03 0.0050000004; … ; 2.0000005 0.0 … -0.020000001 0.005000001; 1.9999998 0.0 … -0.020000001 0.0049999985]\n\nFloat32[1.9999999 0.0 … -0.02 0.004999999; 2.0000002 0.0 … -0.02 0.005; … ; 1.9999999 0.0 … -0.010000001 0.0049999994; 1.9999998 0.0 … -0.010000001 0.004999999]\n\nFloat32[2.0 0.0 … -0.01 0.005; 2.0 0.0 … -0.01 0.005; … ; 2.0 0.0 … -2.9802322f-10 0.005; 1.9999998 0.0 … -2.9802324f-10 0.004999999], Float32[-1.0 -1.0 -1.0 -1.0; -0.0 -0.0 -0.0 -0.0; … ; 0.002499997 0.002499997 0.002499997 0.002499997; 800.00104 800.00586 800.00104 800.00586]\n\nFloat32[1.0 1.0 1.0 1.0; 0.0 0.0 0.0 0.0; … ; 0.0024999895 0.0024999895 0.0024999895 0.0024999895; 800.00586 800.00586 800.00586 800.00586]\n\nFloat32[-0.0 -0.0 -0.0 -0.0; -1.0 -1.0 -1.0 -1.0; … ; 0.0024999897 0.0024999895 0.0024999897 0.0024999895; 800.00104 800.00586 800.00104 800.00586]\n\nFloat32[0.0 0.0 0.0 0.0; 1.0 1.0 1.0 1.0; … ; 0.002499982 0.002499982 0.002499982 0.002499982; 800.00586 800.00586 800.00586 800.00586]\n\nFloat32[-0.0 -0.0 -0.0 -0.0; -0.0 -0.0 -0.0 -0.0; … ; 0.24999994 0.24999994 0.24999994 0.24999994; 800.00104 800.00586 800.00586 800.00586]\n\nFloat32[2.9802322f-8 2.9802322f-8 2.9802322f-8 2.9802322f-8; 2.9802322f-8 2.9802322f-8 2.9802322f-8 2.9802322f-8; … ; 0.24999994 0.24999994 0.24999994 0.24999994; 800.00104 800.00586 800.00586 800.00586]\n\nFloat32[-1.0 -1.0 -1.0 -1.0; -0.0 -0.0 -0.0 -0.0; … ; 0.0024999897 0.0024999895 0.0024999897 0.0024999895; 800.00104 800.00586 800.00104 800.00586]\n\nFloat32[1.0 1.0 1.0 1.0; 0.0 0.0 0.0 0.0; … ; 0.0024999895 0.0024999897 0.0024999895 0.0024999897; 800.00586 800.00104 800.00586 800.00104]\n\nFloat32[-0.0 -0.0 -0.0 -0.0; -1.0 -1.0 -1.0 -1.0; … ; 0.0024999897 0.0024999895 0.0024999897 0.0024999895; 800.00104 800.00586 800.00104 800.00586]\n\nFloat32[0.0 0.0 0.0 0.0; 1.0 1.0 1.0 1.0; … ; 0.0024999895 0.0024999897 0.0024999895 0.0024999897; 800.00586 800.00104 800.00586 800.00104]\n\nFloat32[-2.9802322f-8 -2.9802322f-8 -2.9802322f-8 -2.9802322f-8; -2.9802322f-8 -2.9802322f-8 -2.9802322f-8 -2.9802322f-8; … ; 0.24999994 0.24999994 0.24999994 0.24999994; 800.00104 800.00586 800.00586 800.00104]\n\nFloat32[2.9802322f-8 2.9802322f-8 2.9802322f-8 2.9802322f-8; 2.9802322f-8 2.9802322f-8 2.9802322f-8 2.9802322f-8; … ; 0.24999994 0.24999994 0.24999994 0.24999994; 800.00104 800.00586 800.00586 800.00104]\n\nFloat32[-1.0 -1.0 -1.0 -1.0; -0.0 -0.0 -0.0 -0.0; … ; 0.0024999897 0.0024999895 0.0024999897 0.0024999895; 800.00104 800.00586 800.00104 800.00586]\n\nFloat32[1.0 1.0 1.0 1.0; 0.0 0.0 0.0 0.0; … ; 0.0024999895 0.0024999897 0.0024999895 0.0024999897; 800.00586 800.00104 800.00586 800.00104]\n\nFloat32[-0.0 -0.0 -0.0 -0.0; -1.0 -1.0 -1.0 -1.0; … ; 0.0024999897 0.0024999895 0.0024999897 0.0024999895; 800.00104 800.00586 800.00104 800.00586]\n\nFloat32[0.0 0.0 0.0 0.0; 1.0 1.0 1.0 1.0; … ; 0.0024999895 0.0024999897 0.0024999895 0.0024999897; 800.00586 800.00104 800.00586 800.00104]\n\nFloat32[-2.9802322f-8 -2.9802322f-8 -2.9802322f-8 -2.9802322f-8; -2.9802322f-8 -2.9802322f-8 -2.9802322f-8 -2.9802322f-8; … ; 0.24999994 0.24999994 0.24999994 0.24999994; 800.00104 800.00586 800.00586 800.00104]\n\nFloat32[2.9802322f-8 2.9802322f-8 2.9802322f-8 2.9802322f-8; 2.9802322f-8 2.9802322f-8 2.9802322f-8 2.9802322f-8; … ; 0.24999994 0.24999994 0.24999994 0.24999994; 800.00104 800.00586 800.00586 800.00104]\n\n...\n\nFloat32[-1.0 -1.0 -1.0 -1.0; -0.0 -0.0 -0.0 -0.0; … ; 0.0024999992 0.0024999995 0.0024999992 0.0024999995; 800.0003 800.0005 800.0003 800.0005]\n\nFloat32[1.0 1.0 1.0 1.0; 0.0 0.0 0.0 0.0; … ; 0.002499999 0.002499999 0.002499999 0.002499999; 800.0005 800.0003 800.0005 800.0003]\n\nFloat32[-0.0 -0.0 -0.0 -0.0; -1.0 -1.0 -1.0 -1.0; … ; 0.002499999 0.002499999 0.002499999 0.002499999; 800.0003 800.0005 800.0003 800.0005]\n\nFloat32[0.0 0.0 0.0 0.0; 1.0 1.0 1.0 1.0; … ; 0.002499999 0.002499999 0.002499999 0.002499999; 800.0005 800.0003 800.0005 800.0003]\n\nFloat32[-9.313226f-10 -9.313226f-10 -9.313226f-10 -9.313226f-10; -9.313226f-10 -9.313226f-10 -9.313226f-10 -9.313226f-10; … ; 0.24999994 0.24999994 0.24999994 0.24999994; 800.0003 800.0005 800.0005 800.0003]\n\nFloat32[9.313226f-10 9.313226f-10 9.313226f-10 9.313226f-10; 9.313226f-10 9.313226f-10 9.313226f-10 9.313226f-10; … ; 0.24999994 0.24999994 0.24999994 0.24999994; 800.0003 800.0005 800.0005 800.0003]\n\nFloat32[-1.0 -1.0 -1.0 -1.0; -0.0 -0.0 -0.0 -0.0; … ; 0.0024999988 0.0024999988 0.0024999988 0.0024999988; 800.00037 800.00037 800.00037 800.00037]\n\nFloat32[1.0 1.0 1.0 1.0; 0.0 0.0 0.0 0.0; … ; 0.0024999992 0.0024999992 0.0024999992 0.0024999992; 800.00037 800.00024 800.00037 800.00024]\n\nFloat32[-0.0 -0.0 -0.0 -0.0; -1.0 -1.0 -1.0 -1.0; … ; 0.002499999 0.002499999 0.002499999 0.002499999; 800.00037 800.00037 800.00037 800.00037]\n\nFloat32[0.0 0.0 0.0 0.0; 1.0 1.0 1.0 1.0; … ; 0.0024999992 0.0024999992 0.0024999992 0.0024999992; 800.00037 800.00024 800.00037 800.00024]\n\nFloat32[-9.313226f-10 -9.313226f-10 -9.313226f-10 -9.313226f-10; -9.313226f-10 -9.313226f-10 -9.313226f-10 -9.313226f-10; … ; 0.24999994 0.24999994 0.24999994 0.24999994; 800.00037 800.00037 800.00037 800.00024]\n\nFloat32[0.0 0.0 0.0 0.0; 0.0 0.0 0.0 0.0; … ; 0.24999994 0.24999994 0.24999994 0.24999994; 800.00037 800.00037 800.00037 800.00024]\n\nFloat32[-1.0 -1.0 -1.0 -1.0; -0.0 -0.0 -0.0 -0.0; … ; 0.0024999992 0.0024999992 0.0024999992 0.0024999992; 800.0003 800.0003 800.0003 800.0003]\n\nFloat32[1.0 1.0 1.0 1.0; -1.3877788f-15 -1.3877788f-15 -1.3877788f-15 -1.3877788f-15; … ; 0.0024999992 0.0024999992 0.0024999992 0.0024999992; 800.0003 800.00024 800.0003 800.00024]\n\nFloat32[-0.0 -0.0 -0.0 -0.0; -1.0 -1.0 -1.0 -1.0; … ; 0.0024999992 0.0024999992 0.0024999992 0.0024999992; 800.0003 800.0003 800.0003 800.0003]\n\nFloat32[0.0 0.0 0.0 0.0; 1.0 1.0 1.0 1.0; … ; 0.0024999992 0.0024999992 0.0024999992 0.0024999992; 800.0003 800.00024 800.0003 800.00024]\n\nFloat32[-4.656613f-10 -4.656613f-10 -4.656613f-10 -4.656613f-10; -4.656613f-10 -4.656613f-10 -4.656613f-10 -4.656613f-10; … ; 0.24999994 0.24999994 0.24999994 0.24999994; 800.0003 800.0003 800.0003 800.00024]\n\nFloat32[1.3877788f-17 1.3877788f-17 1.3877788f-17 1.3877788f-17; 1.3877788f-17 1.3877788f-17 1.3877788f-17 1.3877788f-17; … ; 0.24999994 0.24999994 0.24999994 0.24999994; 800.0003 800.0003 800.0003 800.00024], [0 0 … 0 0; 0 0 … 0 0; … ; 1 0 … 0 0; 0 0 … 0 2], [1 2 … 1 5; 3 4 … 2 6; 5 6 … 3 7; 7 8 … 4 8]\n\n[9 10 … 9 13; 11 12 … 10 14; 13 14 … 11 15; 15 16 … 12 16]\n\n[17 18 … 17 21; 19 20 … 18 22; 21 22 … 19 23; 23 24 … 20 24]\n\n...\n\n[777 778 … 777 781; 779 780 … 778 782; 781 782 … 779 783; 783 784 … 780 784]\n\n[785 786 … 785 789; 787 788 … 786 790; 789 790 … 787 791; 791 792 … 788 792]\n\n[793 794 … 793 797; 795 796 … 794 798; 797 798 … 795 799; 799 800 … 796 800], [2 1 … 1 9; 4 3 … 2 10; 6 5 … 3 11; 8 7 … 4 12]\n\n[10 9 … 5 17; 12 11 … 6 18; 14 13 … 7 19; 16 15 … 8 20]\n\n[18 17 … 13 25; 20 19 … 14 26; 22 21 … 15 27; 24 23 … 16 28]\n\n...\n\n[778 777 … 773 785; 780 779 … 774 786; 782 781 … 775 787; 784 783 … 776 788]\n\n[786 785 … 781 793; 788 787 … 782 794; 790 789 … 783 795; 792 791 … 784 796]\n\n[794 793 … 789 797; 796 795 … 790 798; 798 797 … 791 799; 800 799 … 792 800], Int64[], Int64[], UnitRange{Int64}[], UnitRange{Int64}[], [1, 2, 3, 4, 5, 6, 7, 8, 9, 10  …  91, 92, 93, 94, 95, 96, 97, 98, 99, 100], Int64[], Bool[1, 1, 1, 1, 1, 1, 1, 1, 1, 1  …  1, 1, 1, 1, 1, 1, 1, 1, 1, 1], Float32[0.9999999, 0.9999999], Float32[-0.5 0.5; -0.5 0.5], Float32[0.0 0.0; 0.9999999 0.9999999]), ClimateMachine.DGMethods.NumericalFluxes.CentralNumericalFluxFirstOrder(), ClimateMachine.DGMethods.NumericalFluxes.CentralNumericalFluxSecondOrder(), ClimateMachine.DGMethods.NumericalFluxes.CentralNumericalFluxGradient(), Float32[-1.0 275.15; -1.0 275.15; … ; -0.99000007 275.15; -0.99000007 275.15]\n\nFloat32[-0.99 275.15; -0.99 275.15; … ; -0.9800001 275.15; -0.9800001 275.15]\n\nFloat32[-0.98 275.15; -0.98 275.15; … ; -0.9700001 275.15; -0.9700001 275.15]\n\n...\n\nFloat32[-0.03 275.15; -0.03 275.15; … ; -0.020000001 275.15; -0.020000001 275.15]\n\nFloat32[-0.02 275.15; -0.02 275.15; … ; -0.010000001 275.15; -0.010000001 275.15]\n\nFloat32[-0.01 275.15; -0.01 275.15; … ; -2.9802322f-10 275.15; -2.9802324f-10 275.15], Float32[1.426962f-34 0.0 0.0; 0.0 0.0 0.0; … ; 0.0 8.330019f-36 4.023901f-34; 0.0 0.0 0.0]\n\nFloat32[2.8292827f-34 8.6434283f-35 7.1348466f-35; 0.0 0.0 0.0; … ; 8.643419f-35 7.1348466f-35 1.1103306f-34; 0.0 0.0 0.0]\n\nFloat32[1.462382f-34 1.3223613f-34 3.967848f-34; 0.0 0.0 0.0; … ; 1.3223613f-34 1.3204245f-34 4.0239945f-34; 0.0 0.0 0.0]\n\n...\n\nFloat32[1.0f-45 -6.0f-43 4.675777f-36; 6.0f-45 0.0027209052 0.0; … ; 1.4219075f-34 5.674329f29 1.9f-43; 0.0 4.5803f-41 2.0f-43]\n\nFloat32[3.14f-43 8.1001755f-35 -3.59f-43; 0.0 0.0 0.002016129; … ; 3.1727144f-35 8.1001755f-35 4.0283053f-34; 0.0 0.0 0.0]\n\nFloat32[4.6757885f-36 1.0f-45 1.3043965f-34; 0.0 6.0f-45 0.0; … ; 4.0282465f-34 1.0f-45 0.0; 0.0 3.0f-45 0.0], (, ), ClimateMachine.Mesh.Grids.VerticalDirection(), ClimateMachine.Mesh.Grids.VerticalDirection(), nothing), Float32[4.9479635f6; 4.9479635f6; … ; 4.9479635f6; 4.9479635f6]\n\nFloat32[4.9479635f6; 4.9479635f6; … ; 4.9479635f6; 4.9479635f6]\n\nFloat32[4.9479635f6; 4.9479635f6; … ; 4.9479635f6; 4.9479635f6]\n\n...\n\nFloat32[4.9479635f6; 4.9479635f6; … ; 4.9479635f6; 4.9479635f6]\n\nFloat32[4.9479635f6; 4.9479635f6; … ; 4.9479635f6; 4.9479635f6]\n\nFloat32[4.9479635f6; 4.9479635f6; … ; 4.9479635f6; 4.9479635f6], 0.0f0, 10800.0f0, 23.893805f0, false, 452, (), ClimateMachine.ODESolvers.LowStorageRungeKutta2N{Float32,Float32,ClimateMachine.MPIStateArrays.MPIStateArray{Float32,NamedTuple{(:soil,),Tuple{NamedTuple{(:water, :heat),Tuple{NamedTuple{(),Tuple{}},NamedTuple{(:ρe_int,),Tuple{Float32}}}}}},Array{Float32,3},Array{Int64,1},SubArray{Float32,3,Array{Float32,3},Tuple{Base.Slice{Base.OneTo{Int64}},Base.Slice{Base.OneTo{Int64}},UnitRange{Int64}},true},ClimateMachine.MPIStateArrays.CMBuffers.CMBuffer{Float32,Array{Float32,2},Nothing}},5}(23.893805f0, 0.0f0, 0, ClimateMachine.DGMethods.DGModel{ClimateMachine.Land.LandModel{Main.##348.EarthParameterSet,ClimateMachine.Land.SoilModel{ClimateMachine.Land.SoilParamFunctions{Float32},ClimateMachine.Land.PrescribedWaterModel{Main.##348.var\"#7#9\",Main.##348.var\"#8#10\"},ClimateMachine.Land.SoilHeatModel{Float32,Main.##348.var\"#5#6\",ClimateMachine.Land.Dirichlet{Main.##348.var\"#1#2\",Nothing},ClimateMachine.Land.Neumann{Nothing,Main.##348.var\"#3#4\"}}},Tuple{},typeof(Main.##348.init_soil!)},ClimateMachine.Mesh.Grids.DiscontinuousSpectralElementGrid{Float32,3,1,8,Array,Array{Float32,1},Array{Float32,2},Array{Float32,3},Array{Float32,4},Array{Int64,1},Array{Int64,2},Array{Int64,3},ClimateMachine.Mesh.Topologies.StackedBrickTopology{3,Float32}},ClimateMachine.DGMethods.NumericalFluxes.CentralNumericalFluxFirstOrder,ClimateMachine.DGMethods.NumericalFluxes.CentralNumericalFluxSecondOrder,ClimateMachine.DGMethods.NumericalFluxes.CentralNumericalFluxGradient,ClimateMachine.MPIStateArrays.MPIStateArray{Float32,NamedTuple{(:z, :soil),Tuple{Float32,NamedTuple{(:water, :heat),Tuple{NamedTuple{(),Tuple{}},NamedTuple{(:T,),Tuple{Float32}}}}}},Array{Float32,3},Array{Int64,1},SubArray{Float32,3,Array{Float32,3},Tuple{Base.Slice{Base.OneTo{Int64}},Base.Slice{Base.OneTo{Int64}},UnitRange{Int64}},true},ClimateMachine.MPIStateArrays.CMBuffers.CMBuffer{Float32,Array{Float32,2},Nothing}},ClimateMachine.MPIStateArrays.MPIStateArray{Float32,NamedTuple{(:soil,),Tuple{NamedTuple{(:water, :heat),Tuple{NamedTuple{(),Tuple{}},NamedTuple{(:κ∇T,),Tuple{StaticArrays.SArray{Tuple{3},Float32,1,3}}}}}}},Array{Float32,3},Array{Int64,1},SubArray{Float32,3,Array{Float32,3},Tuple{Base.Slice{Base.OneTo{Int64}},Base.Slice{Base.OneTo{Int64}},UnitRange{Int64}},true},ClimateMachine.MPIStateArrays.CMBuffers.CMBuffer{Float32,Array{Float32,2},Nothing}},Tuple{ClimateMachine.MPIStateArrays.MPIStateArray{Float32,NamedTuple{(),Tuple{}},Array{Float32,3},Array{Int64,1},SubArray{Float32,3,Array{Float32,3},Tuple{Base.Slice{Base.OneTo{Int64}},Base.Slice{Base.OneTo{Int64}},UnitRange{Int64}},true},ClimateMachine.MPIStateArrays.CMBuffers.CMBuffer{Float32,Array{Float32,2},Nothing}},ClimateMachine.MPIStateArrays.MPIStateArray{Float32,NamedTuple{(),Tuple{}},Array{Float32,3},Array{Int64,1},SubArray{Float32,3,Array{Float32,3},Tuple{Base.Slice{Base.OneTo{Int64}},Base.Slice{Base.OneTo{Int64}},UnitRange{Int64}},true},ClimateMachine.MPIStateArrays.CMBuffers.CMBuffer{Float32,Array{Float32,2},Nothing}}},ClimateMachine.Mesh.Grids.VerticalDirection,ClimateMachine.Mesh.Grids.VerticalDirection,Nothing}(ClimateMachine.Land.LandModel{Main.##348.EarthParameterSet,ClimateMachine.Land.SoilModel{ClimateMachine.Land.SoilParamFunctions{Float32},ClimateMachine.Land.PrescribedWaterModel{Main.##348.var\"#7#9\",Main.##348.var\"#8#10\"},ClimateMachine.Land.SoilHeatModel{Float32,Main.##348.var\"#5#6\",ClimateMachine.Land.Dirichlet{Main.##348.var\"#1#2\",Nothing},ClimateMachine.Land.Neumann{Nothing,Main.##348.var\"#3#4\"}}},Tuple{},typeof(Main.##348.init_soil!)}(Main.##348.EarthParameterSet(), ClimateMachine.Land.SoilModel{ClimateMachine.Land.SoilParamFunctions{Float32},ClimateMachine.Land.PrescribedWaterModel{Main.##348.var\"#7#9\",Main.##348.var\"#8#10\"},ClimateMachine.Land.SoilHeatModel{Float32,Main.##348.var\"#5#6\",ClimateMachine.Land.Dirichlet{Main.##348.var\"#1#2\",Nothing},ClimateMachine.Land.Neumann{Nothing,Main.##348.var\"#3#4\"}}}(ClimateMachine.Land.SoilParamFunctions{Float32}(0.395f0, NaN32, NaN32, 0.0f0, 0.0f0, 0.92f0, 1.16523f6, 0.55057514f0, 2.6076639f0, 4.5166464f0, 0.24f0, 18.1f0), ClimateMachine.Land.PrescribedWaterModel{Main.##348.var\"#7#9\",Main.##348.var\"#8#10\"}(Main.##348.var\"#7#9\"(), Main.##348.var\"#8#10\"()), ClimateMachine.Land.SoilHeatModel{Float32,Main.##348.var\"#5#6\",ClimateMachine.Land.Dirichlet{Main.##348.var\"#1#2\",Nothing},ClimateMachine.Land.Neumann{Nothing,Main.##348.var\"#3#4\"}}(Main.##348.var\"#5#6\"(), ClimateMachine.Land.Dirichlet{Main.##348.var\"#1#2\",Nothing}(Main.##348.var\"#1#2\"(), nothing), ClimateMachine.Land.Neumann{Nothing,Main.##348.var\"#3#4\"}(nothing, Main.##348.var\"#3#4\"()))), (), Main.##348.init_soil!), ClimateMachine.Mesh.Grids.DiscontinuousSpectralElementGrid{Float32,3,1,8,Array,Array{Float32,1},Array{Float32,2},Array{Float32,3},Array{Float32,4},Array{Int64,1},Array{Int64,2},Array{Int64,3},ClimateMachine.Mesh.Topologies.StackedBrickTopology{3,Float32}}(ClimateMachine.Mesh.Topologies.StackedBrickTopology{3,Float32}(ClimateMachine.Mesh.Topologies.BoxElementTopology{3,Float32}(MPI.Comm(1140850688), 1:100, 1:100, 101:100, , Int64[], , [1, 2, 3, 4, 5, 6, 7, 8, 9, 10  …  91, 92, 93, 94, 95, 96, 97, 98, 99, 100], Int64[], Float32[0.0 1.0 … 0.0 1.0; 0.0 0.0 … 1.0 1.0; -1.0 -1.0 … -0.99 -0.99]\n\nFloat32[0.0 1.0 … 0.0 1.0; 0.0 0.0 … 1.0 1.0; -0.99 -0.99 … -0.98 -0.98]\n\nFloat32[0.0 1.0 … 0.0 1.0; 0.0 0.0 … 1.0 1.0; -0.98 -0.98 … -0.97 -0.97]\n\n...\n\nFloat32[0.0 1.0 … 0.0 1.0; 0.0 0.0 … 1.0 1.0; -0.03 -0.03 … -0.02 -0.02]\n\nFloat32[0.0 1.0 … 0.0 1.0; 0.0 0.0 … 1.0 1.0; -0.02 -0.02 … -0.01 -0.01]\n\nFloat32[0.0 1.0 … 0.0 1.0; 0.0 0.0 … 1.0 1.0; -0.01 -0.01 … 0.0 0.0], [1 2 … 99 100; 1 2 … 99 100; … ; 1 1 … 98 99; 2 3 … 100 100], [2 2 … 2 2; 1 1 … 1 1; … ; 5 6 … 6 6; 5 5 … 5 6], [1 1 … 1 1; 1 1 … 1 1; … ; 1 1 … 1 1; 1 1 … 1 1], [0 0 … 0 0; 0 0 … 0 0; … ; 1 0 … 0 0; 0 0 … 0 2], Int64[], UnitRange{Int64}[], UnitRange{Int64}[], Int64[], true), 100), Float32[2.0 0.0 … -1.0 0.004999981; 2.000006 0.0 … -1.0 0.004999995; … ; 2.000012 0.0 … -0.99000007 0.004999995; 2.000006 0.0 … -0.99000007 0.0049999803]\n\nFloat32[1.9999942 0.0 … -0.99 0.004999966; 2.000006 0.0 … -0.99 0.004999995; … ; 2.000006 0.0 … -0.9800001 0.004999995; 1.9999942 0.0 … -0.9800001 0.004999966]\n\nFloat32[1.9999942 0.0 … -0.98 0.004999966; 2.000006 0.0 … -0.98 0.004999995; … ; 2.000006 0.0 … -0.9700001 0.004999995; 1.9999942 0.0 … -0.9700001 0.004999966]\n\n...\n\nFloat32[2.0 0.0 … -0.03 0.0049999994; 2.0000002 0.0 … -0.03 0.0050000004; … ; 2.0000005 0.0 … -0.020000001 0.005000001; 1.9999998 0.0 … -0.020000001 0.0049999985]\n\nFloat32[1.9999999 0.0 … -0.02 0.004999999; 2.0000002 0.0 … -0.02 0.005; … ; 1.9999999 0.0 … -0.010000001 0.0049999994; 1.9999998 0.0 … -0.010000001 0.004999999]\n\nFloat32[2.0 0.0 … -0.01 0.005; 2.0 0.0 … -0.01 0.005; … ; 2.0 0.0 … -2.9802322f-10 0.005; 1.9999998 0.0 … -2.9802324f-10 0.004999999], Float32[-1.0 -1.0 -1.0 -1.0; -0.0 -0.0 -0.0 -0.0; … ; 0.002499997 0.002499997 0.002499997 0.002499997; 800.00104 800.00586 800.00104 800.00586]\n\nFloat32[1.0 1.0 1.0 1.0; 0.0 0.0 0.0 0.0; … ; 0.0024999895 0.0024999895 0.0024999895 0.0024999895; 800.00586 800.00586 800.00586 800.00586]\n\nFloat32[-0.0 -0.0 -0.0 -0.0; -1.0 -1.0 -1.0 -1.0; … ; 0.0024999897 0.0024999895 0.0024999897 0.0024999895; 800.00104 800.00586 800.00104 800.00586]\n\nFloat32[0.0 0.0 0.0 0.0; 1.0 1.0 1.0 1.0; … ; 0.002499982 0.002499982 0.002499982 0.002499982; 800.00586 800.00586 800.00586 800.00586]\n\nFloat32[-0.0 -0.0 -0.0 -0.0; -0.0 -0.0 -0.0 -0.0; … ; 0.24999994 0.24999994 0.24999994 0.24999994; 800.00104 800.00586 800.00586 800.00586]\n\nFloat32[2.9802322f-8 2.9802322f-8 2.9802322f-8 2.9802322f-8; 2.9802322f-8 2.9802322f-8 2.9802322f-8 2.9802322f-8; … ; 0.24999994 0.24999994 0.24999994 0.24999994; 800.00104 800.00586 800.00586 800.00586]\n\nFloat32[-1.0 -1.0 -1.0 -1.0; -0.0 -0.0 -0.0 -0.0; … ; 0.0024999897 0.0024999895 0.0024999897 0.0024999895; 800.00104 800.00586 800.00104 800.00586]\n\nFloat32[1.0 1.0 1.0 1.0; 0.0 0.0 0.0 0.0; … ; 0.0024999895 0.0024999897 0.0024999895 0.0024999897; 800.00586 800.00104 800.00586 800.00104]\n\nFloat32[-0.0 -0.0 -0.0 -0.0; -1.0 -1.0 -1.0 -1.0; … ; 0.0024999897 0.0024999895 0.0024999897 0.0024999895; 800.00104 800.00586 800.00104 800.00586]\n\nFloat32[0.0 0.0 0.0 0.0; 1.0 1.0 1.0 1.0; … ; 0.0024999895 0.0024999897 0.0024999895 0.0024999897; 800.00586 800.00104 800.00586 800.00104]\n\nFloat32[-2.9802322f-8 -2.9802322f-8 -2.9802322f-8 -2.9802322f-8; -2.9802322f-8 -2.9802322f-8 -2.9802322f-8 -2.9802322f-8; … ; 0.24999994 0.24999994 0.24999994 0.24999994; 800.00104 800.00586 800.00586 800.00104]\n\nFloat32[2.9802322f-8 2.9802322f-8 2.9802322f-8 2.9802322f-8; 2.9802322f-8 2.9802322f-8 2.9802322f-8 2.9802322f-8; … ; 0.24999994 0.24999994 0.24999994 0.24999994; 800.00104 800.00586 800.00586 800.00104]\n\nFloat32[-1.0 -1.0 -1.0 -1.0; -0.0 -0.0 -0.0 -0.0; … ; 0.0024999897 0.0024999895 0.0024999897 0.0024999895; 800.00104 800.00586 800.00104 800.00586]\n\nFloat32[1.0 1.0 1.0 1.0; 0.0 0.0 0.0 0.0; … ; 0.0024999895 0.0024999897 0.0024999895 0.0024999897; 800.00586 800.00104 800.00586 800.00104]\n\nFloat32[-0.0 -0.0 -0.0 -0.0; -1.0 -1.0 -1.0 -1.0; … ; 0.0024999897 0.0024999895 0.0024999897 0.0024999895; 800.00104 800.00586 800.00104 800.00586]\n\nFloat32[0.0 0.0 0.0 0.0; 1.0 1.0 1.0 1.0; … ; 0.0024999895 0.0024999897 0.0024999895 0.0024999897; 800.00586 800.00104 800.00586 800.00104]\n\nFloat32[-2.9802322f-8 -2.9802322f-8 -2.9802322f-8 -2.9802322f-8; -2.9802322f-8 -2.9802322f-8 -2.9802322f-8 -2.9802322f-8; … ; 0.24999994 0.24999994 0.24999994 0.24999994; 800.00104 800.00586 800.00586 800.00104]\n\nFloat32[2.9802322f-8 2.9802322f-8 2.9802322f-8 2.9802322f-8; 2.9802322f-8 2.9802322f-8 2.9802322f-8 2.9802322f-8; … ; 0.24999994 0.24999994 0.24999994 0.24999994; 800.00104 800.00586 800.00586 800.00104]\n\n...\n\nFloat32[-1.0 -1.0 -1.0 -1.0; -0.0 -0.0 -0.0 -0.0; … ; 0.0024999992 0.0024999995 0.0024999992 0.0024999995; 800.0003 800.0005 800.0003 800.0005]\n\nFloat32[1.0 1.0 1.0 1.0; 0.0 0.0 0.0 0.0; … ; 0.002499999 0.002499999 0.002499999 0.002499999; 800.0005 800.0003 800.0005 800.0003]\n\nFloat32[-0.0 -0.0 -0.0 -0.0; -1.0 -1.0 -1.0 -1.0; … ; 0.002499999 0.002499999 0.002499999 0.002499999; 800.0003 800.0005 800.0003 800.0005]\n\nFloat32[0.0 0.0 0.0 0.0; 1.0 1.0 1.0 1.0; … ; 0.002499999 0.002499999 0.002499999 0.002499999; 800.0005 800.0003 800.0005 800.0003]\n\nFloat32[-9.313226f-10 -9.313226f-10 -9.313226f-10 -9.313226f-10; -9.313226f-10 -9.313226f-10 -9.313226f-10 -9.313226f-10; … ; 0.24999994 0.24999994 0.24999994 0.24999994; 800.0003 800.0005 800.0005 800.0003]\n\nFloat32[9.313226f-10 9.313226f-10 9.313226f-10 9.313226f-10; 9.313226f-10 9.313226f-10 9.313226f-10 9.313226f-10; … ; 0.24999994 0.24999994 0.24999994 0.24999994; 800.0003 800.0005 800.0005 800.0003]\n\nFloat32[-1.0 -1.0 -1.0 -1.0; -0.0 -0.0 -0.0 -0.0; … ; 0.0024999988 0.0024999988 0.0024999988 0.0024999988; 800.00037 800.00037 800.00037 800.00037]\n\nFloat32[1.0 1.0 1.0 1.0; 0.0 0.0 0.0 0.0; … ; 0.0024999992 0.0024999992 0.0024999992 0.0024999992; 800.00037 800.00024 800.00037 800.00024]\n\nFloat32[-0.0 -0.0 -0.0 -0.0; -1.0 -1.0 -1.0 -1.0; … ; 0.002499999 0.002499999 0.002499999 0.002499999; 800.00037 800.00037 800.00037 800.00037]\n\nFloat32[0.0 0.0 0.0 0.0; 1.0 1.0 1.0 1.0; … ; 0.0024999992 0.0024999992 0.0024999992 0.0024999992; 800.00037 800.00024 800.00037 800.00024]\n\nFloat32[-9.313226f-10 -9.313226f-10 -9.313226f-10 -9.313226f-10; -9.313226f-10 -9.313226f-10 -9.313226f-10 -9.313226f-10; … ; 0.24999994 0.24999994 0.24999994 0.24999994; 800.00037 800.00037 800.00037 800.00024]\n\nFloat32[0.0 0.0 0.0 0.0; 0.0 0.0 0.0 0.0; … ; 0.24999994 0.24999994 0.24999994 0.24999994; 800.00037 800.00037 800.00037 800.00024]\n\nFloat32[-1.0 -1.0 -1.0 -1.0; -0.0 -0.0 -0.0 -0.0; … ; 0.0024999992 0.0024999992 0.0024999992 0.0024999992; 800.0003 800.0003 800.0003 800.0003]\n\nFloat32[1.0 1.0 1.0 1.0; -1.3877788f-15 -1.3877788f-15 -1.3877788f-15 -1.3877788f-15; … ; 0.0024999992 0.0024999992 0.0024999992 0.0024999992; 800.0003 800.00024 800.0003 800.00024]\n\nFloat32[-0.0 -0.0 -0.0 -0.0; -1.0 -1.0 -1.0 -1.0; … ; 0.0024999992 0.0024999992 0.0024999992 0.0024999992; 800.0003 800.0003 800.0003 800.0003]\n\nFloat32[0.0 0.0 0.0 0.0; 1.0 1.0 1.0 1.0; … ; 0.0024999992 0.0024999992 0.0024999992 0.0024999992; 800.0003 800.00024 800.0003 800.00024]\n\nFloat32[-4.656613f-10 -4.656613f-10 -4.656613f-10 -4.656613f-10; -4.656613f-10 -4.656613f-10 -4.656613f-10 -4.656613f-10; … ; 0.24999994 0.24999994 0.24999994 0.24999994; 800.0003 800.0003 800.0003 800.00024]\n\nFloat32[1.3877788f-17 1.3877788f-17 1.3877788f-17 1.3877788f-17; 1.3877788f-17 1.3877788f-17 1.3877788f-17 1.3877788f-17; … ; 0.24999994 0.24999994 0.24999994 0.24999994; 800.0003 800.0003 800.0003 800.00024], [0 0 … 0 0; 0 0 … 0 0; … ; 1 0 … 0 0; 0 0 … 0 2], [1 2 … 1 5; 3 4 … 2 6; 5 6 … 3 7; 7 8 … 4 8]\n\n[9 10 … 9 13; 11 12 … 10 14; 13 14 … 11 15; 15 16 … 12 16]\n\n[17 18 … 17 21; 19 20 … 18 22; 21 22 … 19 23; 23 24 … 20 24]\n\n...\n\n[777 778 … 777 781; 779 780 … 778 782; 781 782 … 779 783; 783 784 … 780 784]\n\n[785 786 … 785 789; 787 788 … 786 790; 789 790 … 787 791; 791 792 … 788 792]\n\n[793 794 … 793 797; 795 796 … 794 798; 797 798 … 795 799; 799 800 … 796 800], [2 1 … 1 9; 4 3 … 2 10; 6 5 … 3 11; 8 7 … 4 12]\n\n[10 9 … 5 17; 12 11 … 6 18; 14 13 … 7 19; 16 15 … 8 20]\n\n[18 17 … 13 25; 20 19 … 14 26; 22 21 … 15 27; 24 23 … 16 28]\n\n...\n\n[778 777 … 773 785; 780 779 … 774 786; 782 781 … 775 787; 784 783 … 776 788]\n\n[786 785 … 781 793; 788 787 … 782 794; 790 789 … 783 795; 792 791 … 784 796]\n\n[794 793 … 789 797; 796 795 … 790 798; 798 797 … 791 799; 800 799 … 792 800], Int64[], Int64[], UnitRange{Int64}[], UnitRange{Int64}[], [1, 2, 3, 4, 5, 6, 7, 8, 9, 10  …  91, 92, 93, 94, 95, 96, 97, 98, 99, 100], Int64[], Bool[1, 1, 1, 1, 1, 1, 1, 1, 1, 1  …  1, 1, 1, 1, 1, 1, 1, 1, 1, 1], Float32[0.9999999, 0.9999999], Float32[-0.5 0.5; -0.5 0.5], Float32[0.0 0.0; 0.9999999 0.9999999]), ClimateMachine.DGMethods.NumericalFluxes.CentralNumericalFluxFirstOrder(), ClimateMachine.DGMethods.NumericalFluxes.CentralNumericalFluxSecondOrder(), ClimateMachine.DGMethods.NumericalFluxes.CentralNumericalFluxGradient(), Float32[-1.0 275.15; -1.0 275.15; … ; -0.99000007 275.15; -0.99000007 275.15]\n\nFloat32[-0.99 275.15; -0.99 275.15; … ; -0.9800001 275.15; -0.9800001 275.15]\n\nFloat32[-0.98 275.15; -0.98 275.15; … ; -0.9700001 275.15; -0.9700001 275.15]\n\n...\n\nFloat32[-0.03 275.15; -0.03 275.15; … ; -0.020000001 275.15; -0.020000001 275.15]\n\nFloat32[-0.02 275.15; -0.02 275.15; … ; -0.010000001 275.15; -0.010000001 275.15]\n\nFloat32[-0.01 275.15; -0.01 275.15; … ; -2.9802322f-10 275.15; -2.9802324f-10 275.15], Float32[1.426962f-34 0.0 0.0; 0.0 0.0 0.0; … ; 0.0 8.330019f-36 4.023901f-34; 0.0 0.0 0.0]\n\nFloat32[2.8292827f-34 8.6434283f-35 7.1348466f-35; 0.0 0.0 0.0; … ; 8.643419f-35 7.1348466f-35 1.1103306f-34; 0.0 0.0 0.0]\n\nFloat32[1.462382f-34 1.3223613f-34 3.967848f-34; 0.0 0.0 0.0; … ; 1.3223613f-34 1.3204245f-34 4.0239945f-34; 0.0 0.0 0.0]\n\n...\n\nFloat32[1.0f-45 -6.0f-43 4.675777f-36; 6.0f-45 0.0027209052 0.0; … ; 1.4219075f-34 5.674329f29 1.9f-43; 0.0 4.5803f-41 2.0f-43]\n\nFloat32[3.14f-43 8.1001755f-35 -3.59f-43; 0.0 0.0 0.002016129; … ; 3.1727144f-35 8.1001755f-35 4.0283053f-34; 0.0 0.0 0.0]\n\nFloat32[4.6757885f-36 1.0f-45 1.3043965f-34; 0.0 6.0f-45 0.0; … ; 4.0282465f-34 1.0f-45 0.0; 0.0 3.0f-45 0.0], (, ), ClimateMachine.Mesh.Grids.VerticalDirection(), ClimateMachine.Mesh.Grids.VerticalDirection(), nothing), Float32[0.0; 0.0; … ; 0.0; 0.0]\n\nFloat32[0.0; 0.0; … ; 0.0; 0.0]\n\nFloat32[0.0; 0.0; … ; 0.0; 0.0]\n\n...\n\nFloat32[0.0; 0.0; … ; 0.0; 0.0]\n\nFloat32[0.0; 0.0; … ; 0.0; 0.0]\n\nFloat32[0.0; 0.0; … ; 0.0; 0.0], (0.0f0, -0.4178905f0, -1.1921518f0, -1.6977847f0, -1.5141834f0), (0.14965902f0, 0.3792103f0, 0.8229551f0, 0.69945043f0, 0.15305725f0), (0.0f0, 0.14965902f0, 0.37040097f0, 0.62225574f0, 0.9582821f0)))"
     },
     "metadata": {},
     "execution_count": 19
    }
   ],
   "cell_type": "code",
   "source": [
    "function calculate_dt(dg, model::LandModel, Q, Courant_number, t, direction)\n",
    "    Δt = one(eltype(Q))\n",
    "    CFL = DGMethods.courant(diffusive_courant, dg, model, Q, Δt, t, direction)\n",
    "    return Courant_number / CFL\n",
    "end\n",
    "\n",
    "function diffusive_courant(\n",
    "    m::LandModel,\n",
    "    state::Vars,\n",
    "    aux::Vars,\n",
    "    diffusive::Vars,\n",
    "    Δx,\n",
    "    Δt,\n",
    "    t,\n",
    "    direction,\n",
    ")\n",
    "    soil = m.soil\n",
    "    ϑ_l, θ_i = get_water_content(soil.water, aux, state, t)\n",
    "    θ_l = volumetric_liquid_fraction(ϑ_l, soil.param_functions.porosity)\n",
    "    κ_dry = soil.param_functions.κ_dry\n",
    "    S_r = relative_saturation(θ_l, θ_i, soil.param_functions.porosity)\n",
    "    kersten = kersten_number(θ_i, S_r, soil.param_functions)\n",
    "    κ_sat = saturated_thermal_conductivity(\n",
    "        θ_l,\n",
    "        θ_i,\n",
    "        soil.param_functions.κ_sat_unfrozen,\n",
    "        soil.param_functions.κ_sat_frozen,\n",
    "    )\n",
    "    κ = thermal_conductivity(κ_dry, kersten, κ_sat)\n",
    "    ρc_ds = soil.param_functions.ρc_ds\n",
    "    ρc_s = volumetric_heat_capacity(θ_l, θ_i, ρc_ds, m.param_set)\n",
    "    return Δt * κ / (Δx * Δx * ρc_ds)\n",
    "end\n",
    "\n",
    "\n",
    "t0 = FT(0)\n",
    "timeend = FT(60 * 60 * 3)\n",
    "Courant_number = FT(0.5) # much bigger than this breaks\n",
    "\n",
    "solver_config = ClimateMachine.SolverConfiguration(\n",
    "    t0,\n",
    "    timeend,\n",
    "    driver_config;\n",
    "    Courant_number = Courant_number,\n",
    "    CFL_direction = VerticalDirection(),\n",
    ")"
   ],
   "metadata": {},
   "execution_count": 19
  },
  {
   "cell_type": "markdown",
   "source": [
    "# Run the integration"
   ],
   "metadata": {}
  },
  {
   "outputs": [
    {
     "name": "stdout",
     "output_type": "stream",
     "text": [
      "┌ Info: Starting LandModel\n",
      "│     dt              = 2.38938e+01\n",
      "│     timeend         = 10800.00\n",
      "│     number of steps = 452\n",
      "│     norm(Q)         = 4.9479710000000000e+06\n",
      "└ @ ClimateMachine /home/runner/work/ClimateMachine.jl/ClimateMachine.jl/src/Driver/Driver.jl:636\n",
      "┌ Info: Finished\n",
      "│     norm(Q)            = 1.1510868000000000e+07\n",
      "│     norm(Q) / norm(Q₀) = 2.3263814449310303e+00\n",
      "│     norm(Q) - norm(Q₀) = 6.5628970000000000e+06\n",
      "└ @ ClimateMachine /home/runner/work/ClimateMachine.jl/ClimateMachine.jl/src/Driver/Driver.jl:674\n"
     ]
    },
    {
     "output_type": "execute_result",
     "data": {
      "text/plain": "2.3263814f0"
     },
     "metadata": {},
     "execution_count": 20
    }
   ],
   "cell_type": "code",
   "source": [
    "ClimateMachine.invoke!(solver_config)"
   ],
   "metadata": {},
   "execution_count": 20
  },
  {
   "cell_type": "markdown",
   "source": [
    "# Plot results\n",
    "Pull out the z and T values on the grid, but interpolate.\n",
    "The solution from DG is discontinuous at boundaries of elements.\n",
    "The `interpolate_output` function smooths over these."
   ],
   "metadata": {}
  },
  {
   "outputs": [
    {
     "output_type": "execute_result",
     "data": {
      "text/plain": "0.02"
     },
     "metadata": {},
     "execution_count": 21
    }
   ],
   "cell_type": "code",
   "source": [
    "zres = 0.02"
   ],
   "metadata": {},
   "execution_count": 21
  },
  {
   "cell_type": "markdown",
   "source": [
    "T and z are in aux:"
   ],
   "metadata": {}
  },
  {
   "outputs": [
    {
     "output_type": "execute_result",
     "data": {
      "text/plain": "8×2×100 ClimateMachine.MPIStateArrays.MPIStateArray{Float32,NamedTuple{(:z, :soil),Tuple{Float32,NamedTuple{(:water, :heat),Tuple{NamedTuple{(),Tuple{}},NamedTuple{(:T,),Tuple{Float32}}}}}},Array{Float32,3},Array{Int64,1},SubArray{Float32,3,Array{Float32,3},Tuple{Base.Slice{Base.OneTo{Int64}},Base.Slice{Base.OneTo{Int64}},UnitRange{Int64}},true},ClimateMachine.MPIStateArrays.CMBuffers.CMBuffer{Float32,Array{Float32,2},Nothing}}:\n[:, :, 1] =\n -1.0   275.15\n -1.0   275.15\n -1.0   275.15\n -1.0   275.15\n -0.99  275.15\n -0.99  275.15\n -0.99  275.15\n -0.99  275.15\n\n[:, :, 2] =\n -0.99  275.15\n -0.99  275.15\n -0.99  275.15\n -0.99  275.15\n -0.98  275.15\n -0.98  275.15\n -0.98  275.15\n -0.98  275.15\n\n[:, :, 3] =\n -0.98  275.15\n -0.98  275.15\n -0.98  275.15\n -0.98  275.15\n -0.97  275.15\n -0.97  275.15\n -0.97  275.15\n -0.97  275.15\n\n...\n\n[:, :, 98] =\n -0.03  286.374\n -0.03  286.374\n -0.03  286.374\n -0.03  286.374\n -0.02  286.374\n -0.02  286.374\n -0.02  286.374\n -0.02  286.374\n\n[:, :, 99] =\n -0.02  287.081\n -0.02  287.081\n -0.02  287.081\n -0.02  287.081\n -0.01  287.081\n -0.01  287.081\n -0.01  287.081\n -0.01  287.081\n\n[:, :, 100] =\n -0.01         287.793\n -0.01         287.793\n -0.01         287.793\n -0.01         287.793\n -2.98023f-10  287.793\n -2.98023f-10  287.793\n -2.98023f-10  287.793\n -2.98023f-10  287.793"
     },
     "metadata": {},
     "execution_count": 22
    }
   ],
   "cell_type": "code",
   "source": [
    "aux = solver_config.dg.state_auxiliary"
   ],
   "metadata": {},
   "execution_count": 22
  },
  {
   "cell_type": "markdown",
   "source": [
    "ρe_int is stored in the state:"
   ],
   "metadata": {}
  },
  {
   "outputs": [
    {
     "output_type": "execute_result",
     "data": {
      "text/plain": "8×1×100 ClimateMachine.MPIStateArrays.MPIStateArray{Float32,NamedTuple{(:soil,),Tuple{NamedTuple{(:water, :heat),Tuple{NamedTuple{(),Tuple{}},NamedTuple{(:ρe_int,),Tuple{Float32}}}}}},Array{Float32,3},Array{Int64,1},SubArray{Float32,3,Array{Float32,3},Tuple{Base.Slice{Base.OneTo{Int64}},Base.Slice{Base.OneTo{Int64}},UnitRange{Int64}},true},ClimateMachine.MPIStateArrays.CMBuffers.CMBuffer{Float32,Array{Float32,2},Nothing}}:\n[:, :, 1] =\n 4.9480085f6\n 4.948033f6\n 4.948033f6\n 4.947999f6\n 4.948008f6\n 4.9480035f6\n 4.9480035f6\n 4.948f6\n\n[:, :, 2] =\n 4.9479795f6\n 4.9479755f6\n 4.9479755f6\n 4.94802f6\n 4.947991f6\n 4.948021f6\n 4.948021f6\n 4.9480065f6\n\n[:, :, 3] =\n 4.948004f6\n 4.9480265f6\n 4.9480265f6\n 4.948015f6\n 4.948003f6\n 4.947985f6\n 4.947985f6\n 4.9479585f6\n\n...\n\n[:, :, 98] =\n 3.2856162f7\n 3.2856168f7\n 3.2856168f7\n 3.285617f7\n 3.2856312f7\n 3.2856308f7\n 3.2856308f7\n 3.2856306f7\n\n[:, :, 99] =\n 3.4613944f7\n 3.4613956f7\n 3.4613956f7\n 3.4613936f7\n 3.4614016f7\n 3.4613988f7\n 3.4613988f7\n 3.4614016f7\n\n[:, :, 100] =\n 3.638423f7\n 3.638419f7\n 3.638419f7\n 3.63842f7\n 3.6384348f7\n 3.638434f7\n 3.638434f7\n 3.638432f7"
     },
     "metadata": {},
     "execution_count": 23
    }
   ],
   "cell_type": "code",
   "source": [
    "Q = solver_config.Q"
   ],
   "metadata": {},
   "execution_count": 23
  },
  {
   "cell_type": "markdown",
   "source": [
    "gradients that might be interesting to look at are stored here:"
   ],
   "metadata": {}
  },
  {
   "outputs": [
    {
     "output_type": "execute_result",
     "data": {
      "text/plain": "8×3×100 ClimateMachine.MPIStateArrays.MPIStateArray{Float32,NamedTuple{(:soil,),Tuple{NamedTuple{(:water, :heat),Tuple{NamedTuple{(),Tuple{}},NamedTuple{(:κ∇T,),Tuple{StaticArrays.SArray{Tuple{3},Float32,1,3}}}}}}},Array{Float32,3},Array{Int64,1},SubArray{Float32,3,Array{Float32,3},Tuple{Base.Slice{Base.OneTo{Int64}},Base.Slice{Base.OneTo{Int64}},UnitRange{Int64}},true},ClimateMachine.MPIStateArrays.CMBuffers.CMBuffer{Float32,Array{Float32,2},Nothing}}:\n[:, :, 1] =\n  0.0           0.0           0.00742949\n  0.0           0.0          -0.00742953\n  0.0           0.0          -0.00742953\n  0.0           0.0           0.00742953\n  2.21416f-10   2.21416f-10   0.00742949\n -2.21417f-10  -2.21417f-10  -0.00742953\n -2.21417f-10  -2.21417f-10  -0.00742953\n  2.21417f-10   2.21417f-10   0.00742953\n\n[:, :, 2] =\n -7.27597f-10  -7.27597f-10  -0.0244141\n  2.21417f-10   2.21417f-10   0.00742953\n  2.21417f-10   2.21417f-10   0.00742953\n -2.21416f-10  -2.21416f-10  -0.00742949\n  0.0           0.0           0.0\n  2.21417f-10   2.21417f-10   0.00742953\n  2.21417f-10   2.21417f-10   0.00742953\n  5.06181f-10   5.06181f-10   0.0169846\n\n[:, :, 3] =\n  2.21416f-10   2.21416f-10   0.00742949\n -7.90341f-11  -7.90341f-11  -0.00265195\n -7.90341f-11  -7.90341f-11  -0.00265195\n -2.21416f-10  -2.21416f-10  -0.00742949\n  2.21416f-10   2.21416f-10   0.00742949\n -8.06635f-10  -8.06635f-10  -0.0270662\n -8.06635f-10  -8.06635f-10  -0.0270662\n -2.21416f-10  -2.21416f-10  -0.00742949\n\n...\n\n[:, :, 98] =\n 1.58409f-7  1.58409f-7  170.091\n 1.58414f-7  1.58414f-7  170.095\n 1.58414f-7  1.58414f-7  170.095\n 1.58414f-7  1.58414f-7  170.095\n 1.60308f-7  1.60308f-7  172.129\n 1.60301f-7  1.60301f-7  172.122\n 1.60301f-7  1.60301f-7  172.122\n 1.60301f-7  1.60301f-7  172.122\n\n[:, :, 99] =\n 1.60276f-7  1.60276f-7  172.095\n 1.6028f-7   1.6028f-7   172.1\n 1.6028f-7   1.6028f-7   172.1\n 1.60287f-7  1.60287f-7  172.107\n 0.0         0.0         173.34\n 0.0         0.0         173.332\n 0.0         0.0         173.332\n 0.0         0.0         173.328\n\n[:, :, 100] =\n 8.07303f-8   8.07303f-8   173.367\n 8.07189f-8   8.07189f-8   173.343\n 8.07189f-8   8.07189f-8   173.343\n 8.07189f-8   8.07189f-8   173.343\n 2.41103f-15  2.41103f-15  173.733\n 2.4112f-15   2.4112f-15   173.745\n 2.4112f-15   2.4112f-15   173.745\n 2.4112f-15   2.4112f-15   173.745"
     },
     "metadata": {},
     "execution_count": 24
    }
   ],
   "cell_type": "code",
   "source": [
    "grads = solver_config.dg.state_gradient_flux"
   ],
   "metadata": {},
   "execution_count": 24
  },
  {
   "cell_type": "markdown",
   "source": [
    "Smooth output, and look at T vs z:"
   ],
   "metadata": {}
  },
  {
   "outputs": [
    {
     "output_type": "execute_result",
     "data": {
      "text/plain": "Plot{Plots.GRBackend() n=2}",
      "image/png": "[encoded data removed]",
      "text/html": [
       "<?xml version=\"1.0\" encoding=\"utf-8\"?>\n",
       "<svg xmlns=\"http://www.w3.org/2000/svg\" xmlns:xlink=\"http://www.w3.org/1999/xlink\" width=\"600\" height=\"400\" viewBox=\"0 0 2400 1600\">\n",
       "<defs>\n",
       "  <clipPath id=\"clip060\">\n",
       "    <rect x=\"0\" y=\"0\" width=\"2400\" height=\"1600\"/>\n",
       "  </clipPath>\n",
       "</defs>\n",
       "<path clip-path=\"url(#clip060)\" d=\"\n",
       "M0 1600 L2400 1600 L2400 0 L0 0  Z\n",
       "  \" fill=\"#ffffff\" fill-rule=\"evenodd\" fill-opacity=\"1\"/>\n",
       "<defs>\n",
       "  <clipPath id=\"clip061\">\n",
       "    <rect x=\"480\" y=\"0\" width=\"1681\" height=\"1600\"/>\n",
       "  </clipPath>\n",
       "</defs>\n",
       "<path clip-path=\"url(#clip060)\" d=\"\n",
       "M252.736 1423.18 L2352.76 1423.18 L2352.76 123.472 L252.736 123.472  Z\n",
       "  \" fill=\"#ffffff\" fill-rule=\"evenodd\" fill-opacity=\"1\"/>\n",
       "<defs>\n",
       "  <clipPath id=\"clip062\">\n",
       "    <rect x=\"252\" y=\"123\" width=\"2101\" height=\"1301\"/>\n",
       "  </clipPath>\n",
       "</defs>\n",
       "<polyline clip-path=\"url(#clip062)\" style=\"stroke:#000000; stroke-width:2; stroke-opacity:0.1; fill:none\" points=\"\n",
       "  445.369,1423.18 445.369,123.472 \n",
       "  \"/>\n",
       "<polyline clip-path=\"url(#clip062)\" style=\"stroke:#000000; stroke-width:2; stroke-opacity:0.1; fill:none\" points=\"\n",
       "  758.761,1423.18 758.761,123.472 \n",
       "  \"/>\n",
       "<polyline clip-path=\"url(#clip062)\" style=\"stroke:#000000; stroke-width:2; stroke-opacity:0.1; fill:none\" points=\"\n",
       "  1072.15,1423.18 1072.15,123.472 \n",
       "  \"/>\n",
       "<polyline clip-path=\"url(#clip062)\" style=\"stroke:#000000; stroke-width:2; stroke-opacity:0.1; fill:none\" points=\"\n",
       "  1385.55,1423.18 1385.55,123.472 \n",
       "  \"/>\n",
       "<polyline clip-path=\"url(#clip062)\" style=\"stroke:#000000; stroke-width:2; stroke-opacity:0.1; fill:none\" points=\"\n",
       "  1698.94,1423.18 1698.94,123.472 \n",
       "  \"/>\n",
       "<polyline clip-path=\"url(#clip062)\" style=\"stroke:#000000; stroke-width:2; stroke-opacity:0.1; fill:none\" points=\"\n",
       "  2012.33,1423.18 2012.33,123.472 \n",
       "  \"/>\n",
       "<polyline clip-path=\"url(#clip062)\" style=\"stroke:#000000; stroke-width:2; stroke-opacity:0.1; fill:none\" points=\"\n",
       "  2325.72,1423.18 2325.72,123.472 \n",
       "  \"/>\n",
       "<polyline clip-path=\"url(#clip062)\" style=\"stroke:#000000; stroke-width:2; stroke-opacity:0.1; fill:none\" points=\"\n",
       "  252.736,1386.4 2352.76,1386.4 \n",
       "  \"/>\n",
       "<polyline clip-path=\"url(#clip062)\" style=\"stroke:#000000; stroke-width:2; stroke-opacity:0.1; fill:none\" points=\"\n",
       "  252.736,1079.86 2352.76,1079.86 \n",
       "  \"/>\n",
       "<polyline clip-path=\"url(#clip062)\" style=\"stroke:#000000; stroke-width:2; stroke-opacity:0.1; fill:none\" points=\"\n",
       "  252.736,773.326 2352.76,773.326 \n",
       "  \"/>\n",
       "<polyline clip-path=\"url(#clip062)\" style=\"stroke:#000000; stroke-width:2; stroke-opacity:0.1; fill:none\" points=\"\n",
       "  252.736,466.791 2352.76,466.791 \n",
       "  \"/>\n",
       "<polyline clip-path=\"url(#clip062)\" style=\"stroke:#000000; stroke-width:2; stroke-opacity:0.1; fill:none\" points=\"\n",
       "  252.736,160.256 2352.76,160.256 \n",
       "  \"/>\n",
       "<polyline clip-path=\"url(#clip060)\" style=\"stroke:#000000; stroke-width:4; stroke-opacity:1; fill:none\" points=\"\n",
       "  252.736,1423.18 2352.76,1423.18 \n",
       "  \"/>\n",
       "<polyline clip-path=\"url(#clip060)\" style=\"stroke:#000000; stroke-width:4; stroke-opacity:1; fill:none\" points=\"\n",
       "  252.736,1423.18 252.736,123.472 \n",
       "  \"/>\n",
       "<polyline clip-path=\"url(#clip060)\" style=\"stroke:#000000; stroke-width:4; stroke-opacity:1; fill:none\" points=\"\n",
       "  445.369,1423.18 445.369,1407.58 \n",
       "  \"/>\n",
       "<polyline clip-path=\"url(#clip060)\" style=\"stroke:#000000; stroke-width:4; stroke-opacity:1; fill:none\" points=\"\n",
       "  758.761,1423.18 758.761,1407.58 \n",
       "  \"/>\n",
       "<polyline clip-path=\"url(#clip060)\" style=\"stroke:#000000; stroke-width:4; stroke-opacity:1; fill:none\" points=\"\n",
       "  1072.15,1423.18 1072.15,1407.58 \n",
       "  \"/>\n",
       "<polyline clip-path=\"url(#clip060)\" style=\"stroke:#000000; stroke-width:4; stroke-opacity:1; fill:none\" points=\"\n",
       "  1385.55,1423.18 1385.55,1407.58 \n",
       "  \"/>\n",
       "<polyline clip-path=\"url(#clip060)\" style=\"stroke:#000000; stroke-width:4; stroke-opacity:1; fill:none\" points=\"\n",
       "  1698.94,1423.18 1698.94,1407.58 \n",
       "  \"/>\n",
       "<polyline clip-path=\"url(#clip060)\" style=\"stroke:#000000; stroke-width:4; stroke-opacity:1; fill:none\" points=\"\n",
       "  2012.33,1423.18 2012.33,1407.58 \n",
       "  \"/>\n",
       "<polyline clip-path=\"url(#clip060)\" style=\"stroke:#000000; stroke-width:4; stroke-opacity:1; fill:none\" points=\"\n",
       "  2325.72,1423.18 2325.72,1407.58 \n",
       "  \"/>\n",
       "<polyline clip-path=\"url(#clip060)\" style=\"stroke:#000000; stroke-width:4; stroke-opacity:1; fill:none\" points=\"\n",
       "  252.736,1386.4 277.937,1386.4 \n",
       "  \"/>\n",
       "<polyline clip-path=\"url(#clip060)\" style=\"stroke:#000000; stroke-width:4; stroke-opacity:1; fill:none\" points=\"\n",
       "  252.736,1079.86 277.937,1079.86 \n",
       "  \"/>\n",
       "<polyline clip-path=\"url(#clip060)\" style=\"stroke:#000000; stroke-width:4; stroke-opacity:1; fill:none\" points=\"\n",
       "  252.736,773.326 277.937,773.326 \n",
       "  \"/>\n",
       "<polyline clip-path=\"url(#clip060)\" style=\"stroke:#000000; stroke-width:4; stroke-opacity:1; fill:none\" points=\"\n",
       "  252.736,466.791 277.937,466.791 \n",
       "  \"/>\n",
       "<polyline clip-path=\"url(#clip060)\" style=\"stroke:#000000; stroke-width:4; stroke-opacity:1; fill:none\" points=\"\n",
       "  252.736,160.256 277.937,160.256 \n",
       "  \"/>\n",
       "<path clip-path=\"url(#clip060)\" d=\"M 0 0 M413.378 1472.72 L429.697 1472.72 L429.697 1476.65 L407.753 1476.65 L407.753 1472.72 Q410.415 1469.96 414.998 1465.33 Q419.605 1460.68 420.785 1459.34 Q423.031 1456.81 423.91 1455.08 Q424.813 1453.32 424.813 1451.63 Q424.813 1448.87 422.869 1447.14 Q420.947 1445.4 417.846 1445.4 Q415.647 1445.4 413.193 1446.17 Q410.762 1446.93 407.985 1448.48 L407.985 1443.76 Q410.809 1442.62 413.262 1442.05 Q415.716 1441.47 417.753 1441.47 Q423.123 1441.47 426.318 1444.15 Q429.512 1446.84 429.512 1451.33 Q429.512 1453.46 428.702 1455.38 Q427.915 1457.28 425.808 1459.87 Q425.23 1460.54 422.128 1463.76 Q419.026 1466.95 413.378 1472.72 Z\" fill=\"#000000\" fill-rule=\"evenodd\" fill-opacity=\"1\" /><path clip-path=\"url(#clip060)\" d=\"M 0 0 M433.586 1442.09 L455.808 1442.09 L455.808 1444.08 L443.262 1476.65 L438.378 1476.65 L450.183 1446.03 L433.586 1446.03 L433.586 1442.09 Z\" fill=\"#000000\" fill-rule=\"evenodd\" fill-opacity=\"1\" /><path clip-path=\"url(#clip060)\" d=\"M 0 0 M471.456 1457.51 Q468.308 1457.51 466.456 1459.66 Q464.628 1461.81 464.628 1465.56 Q464.628 1469.29 466.456 1471.47 Q468.308 1473.62 471.456 1473.62 Q474.605 1473.62 476.433 1471.47 Q478.285 1469.29 478.285 1465.56 Q478.285 1461.81 476.433 1459.66 Q474.605 1457.51 471.456 1457.51 M480.739 1442.86 L480.739 1447.11 Q478.979 1446.28 477.174 1445.84 Q475.392 1445.4 473.632 1445.4 Q469.003 1445.4 466.549 1448.53 Q464.118 1451.65 463.771 1457.97 Q465.137 1455.96 467.197 1454.89 Q469.257 1453.8 471.734 1453.8 Q476.942 1453.8 479.952 1456.98 Q482.984 1460.12 482.984 1465.56 Q482.984 1470.89 479.836 1474.11 Q476.688 1477.32 471.456 1477.32 Q465.461 1477.32 462.29 1472.74 Q459.118 1468.13 459.118 1459.41 Q459.118 1451.21 463.007 1446.35 Q466.896 1441.47 473.447 1441.47 Q475.206 1441.47 476.989 1441.81 Q478.794 1442.16 480.739 1442.86 Z\" fill=\"#000000\" fill-rule=\"evenodd\" fill-opacity=\"1\" /><path clip-path=\"url(#clip060)\" d=\"M 0 0 M726.898 1472.72 L743.217 1472.72 L743.217 1476.65 L721.273 1476.65 L721.273 1472.72 Q723.935 1469.96 728.518 1465.33 Q733.125 1460.68 734.305 1459.34 Q736.551 1456.81 737.43 1455.08 Q738.333 1453.32 738.333 1451.63 Q738.333 1448.87 736.389 1447.14 Q734.467 1445.4 731.365 1445.4 Q729.166 1445.4 726.713 1446.17 Q724.282 1446.93 721.504 1448.48 L721.504 1443.76 Q724.328 1442.62 726.782 1442.05 Q729.236 1441.47 731.273 1441.47 Q736.643 1441.47 739.838 1444.15 Q743.032 1446.84 743.032 1451.33 Q743.032 1453.46 742.222 1455.38 Q741.435 1457.28 739.328 1459.87 Q738.75 1460.54 735.648 1463.76 Q732.546 1466.95 726.898 1472.72 Z\" fill=\"#000000\" fill-rule=\"evenodd\" fill-opacity=\"1\" /><path clip-path=\"url(#clip060)\" d=\"M 0 0 M747.106 1442.09 L769.328 1442.09 L769.328 1444.08 L756.782 1476.65 L751.898 1476.65 L763.703 1446.03 L747.106 1446.03 L747.106 1442.09 Z\" fill=\"#000000\" fill-rule=\"evenodd\" fill-opacity=\"1\" /><path clip-path=\"url(#clip060)\" d=\"M 0 0 M784.398 1460.24 Q781.064 1460.24 779.143 1462.02 Q777.245 1463.8 777.245 1466.93 Q777.245 1470.05 779.143 1471.84 Q781.064 1473.62 784.398 1473.62 Q787.731 1473.62 789.652 1471.84 Q791.573 1470.03 791.573 1466.93 Q791.573 1463.8 789.652 1462.02 Q787.754 1460.24 784.398 1460.24 M779.722 1458.25 Q776.712 1457.51 775.023 1455.45 Q773.356 1453.39 773.356 1450.43 Q773.356 1446.28 776.296 1443.87 Q779.259 1441.47 784.398 1441.47 Q789.56 1441.47 792.499 1443.87 Q795.439 1446.28 795.439 1450.43 Q795.439 1453.39 793.749 1455.45 Q792.083 1457.51 789.097 1458.25 Q792.476 1459.04 794.351 1461.33 Q796.249 1463.62 796.249 1466.93 Q796.249 1471.95 793.171 1474.64 Q790.115 1477.32 784.398 1477.32 Q778.68 1477.32 775.601 1474.64 Q772.546 1471.95 772.546 1466.93 Q772.546 1463.62 774.444 1461.33 Q776.342 1459.04 779.722 1458.25 M778.009 1450.86 Q778.009 1453.55 779.675 1455.05 Q781.365 1456.56 784.398 1456.56 Q787.407 1456.56 789.097 1455.05 Q790.81 1453.55 790.81 1450.86 Q790.81 1448.18 789.097 1446.68 Q787.407 1445.17 784.398 1445.17 Q781.365 1445.17 779.675 1446.68 Q778.009 1448.18 778.009 1450.86 Z\" fill=\"#000000\" fill-rule=\"evenodd\" fill-opacity=\"1\" /><path clip-path=\"url(#clip060)\" d=\"M 0 0 M1039.84 1472.72 L1056.16 1472.72 L1056.16 1476.65 L1034.21 1476.65 L1034.21 1472.72 Q1036.88 1469.96 1041.46 1465.33 Q1046.07 1460.68 1047.25 1459.34 Q1049.49 1456.81 1050.37 1455.08 Q1051.27 1453.32 1051.27 1451.63 Q1051.27 1448.87 1049.33 1447.14 Q1047.41 1445.4 1044.31 1445.4 Q1042.11 1445.4 1039.65 1446.17 Q1037.22 1446.93 1034.45 1448.48 L1034.45 1443.76 Q1037.27 1442.62 1039.72 1442.05 Q1042.18 1441.47 1044.21 1441.47 Q1049.58 1441.47 1052.78 1444.15 Q1055.97 1446.84 1055.97 1451.33 Q1055.97 1453.46 1055.16 1455.38 Q1054.38 1457.28 1052.27 1459.87 Q1051.69 1460.54 1048.59 1463.76 Q1045.49 1466.95 1039.84 1472.72 Z\" fill=\"#000000\" fill-rule=\"evenodd\" fill-opacity=\"1\" /><path clip-path=\"url(#clip060)\" d=\"M 0 0 M1071.23 1460.24 Q1067.89 1460.24 1065.97 1462.02 Q1064.08 1463.8 1064.08 1466.93 Q1064.08 1470.05 1065.97 1471.84 Q1067.89 1473.62 1071.23 1473.62 Q1074.56 1473.62 1076.48 1471.84 Q1078.4 1470.03 1078.4 1466.93 Q1078.4 1463.8 1076.48 1462.02 Q1074.58 1460.24 1071.23 1460.24 M1066.55 1458.25 Q1063.54 1457.51 1061.85 1455.45 Q1060.19 1453.39 1060.19 1450.43 Q1060.19 1446.28 1063.13 1443.87 Q1066.09 1441.47 1071.23 1441.47 Q1076.39 1441.47 1079.33 1443.87 Q1082.27 1446.28 1082.27 1450.43 Q1082.27 1453.39 1080.58 1455.45 Q1078.91 1457.51 1075.93 1458.25 Q1079.31 1459.04 1081.18 1461.33 Q1083.08 1463.62 1083.08 1466.93 Q1083.08 1471.95 1080 1474.64 Q1076.95 1477.32 1071.23 1477.32 Q1065.51 1477.32 1062.43 1474.64 Q1059.38 1471.95 1059.38 1466.93 Q1059.38 1463.62 1061.27 1461.33 Q1063.17 1459.04 1066.55 1458.25 M1064.84 1450.86 Q1064.84 1453.55 1066.51 1455.05 Q1068.2 1456.56 1071.23 1456.56 Q1074.24 1456.56 1075.93 1455.05 Q1077.64 1453.55 1077.64 1450.86 Q1077.64 1448.18 1075.93 1446.68 Q1074.24 1445.17 1071.23 1445.17 Q1068.2 1445.17 1066.51 1446.68 Q1064.84 1448.18 1064.84 1450.86 Z\" fill=\"#000000\" fill-rule=\"evenodd\" fill-opacity=\"1\" /><path clip-path=\"url(#clip060)\" d=\"M 0 0 M1098.15 1445.17 Q1094.54 1445.17 1092.71 1448.74 Q1090.9 1452.28 1090.9 1459.41 Q1090.9 1466.51 1092.71 1470.08 Q1094.54 1473.62 1098.15 1473.62 Q1101.78 1473.62 1103.59 1470.08 Q1105.42 1466.51 1105.42 1459.41 Q1105.42 1452.28 1103.59 1448.74 Q1101.78 1445.17 1098.15 1445.17 M1098.15 1441.47 Q1103.96 1441.47 1107.01 1446.07 Q1110.09 1450.66 1110.09 1459.41 Q1110.09 1468.13 1107.01 1472.74 Q1103.96 1477.32 1098.15 1477.32 Q1092.34 1477.32 1089.26 1472.74 Q1086.2 1468.13 1086.2 1459.41 Q1086.2 1450.66 1089.26 1446.07 Q1092.34 1441.47 1098.15 1441.47 Z\" fill=\"#000000\" fill-rule=\"evenodd\" fill-opacity=\"1\" /><path clip-path=\"url(#clip060)\" d=\"M 0 0 M1354.03 1472.72 L1370.35 1472.72 L1370.35 1476.65 L1348.41 1476.65 L1348.41 1472.72 Q1351.07 1469.96 1355.65 1465.33 Q1360.26 1460.68 1361.44 1459.34 Q1363.68 1456.81 1364.56 1455.08 Q1365.47 1453.32 1365.47 1451.63 Q1365.47 1448.87 1363.52 1447.14 Q1361.6 1445.4 1358.5 1445.4 Q1356.3 1445.4 1353.85 1446.17 Q1351.41 1446.93 1348.64 1448.48 L1348.64 1443.76 Q1351.46 1442.62 1353.91 1442.05 Q1356.37 1441.47 1358.41 1441.47 Q1363.78 1441.47 1366.97 1444.15 Q1370.16 1446.84 1370.16 1451.33 Q1370.16 1453.46 1369.35 1455.38 Q1368.57 1457.28 1366.46 1459.87 Q1365.88 1460.54 1362.78 1463.76 Q1359.68 1466.95 1354.03 1472.72 Z\" fill=\"#000000\" fill-rule=\"evenodd\" fill-opacity=\"1\" /><path clip-path=\"url(#clip060)\" d=\"M 0 0 M1385.42 1460.24 Q1382.09 1460.24 1380.16 1462.02 Q1378.27 1463.8 1378.27 1466.93 Q1378.27 1470.05 1380.16 1471.84 Q1382.09 1473.62 1385.42 1473.62 Q1388.75 1473.62 1390.67 1471.84 Q1392.59 1470.03 1392.59 1466.93 Q1392.59 1463.8 1390.67 1462.02 Q1388.78 1460.24 1385.42 1460.24 M1380.74 1458.25 Q1377.73 1457.51 1376.04 1455.45 Q1374.38 1453.39 1374.38 1450.43 Q1374.38 1446.28 1377.32 1443.87 Q1380.28 1441.47 1385.42 1441.47 Q1390.58 1441.47 1393.52 1443.87 Q1396.46 1446.28 1396.46 1450.43 Q1396.46 1453.39 1394.77 1455.45 Q1393.1 1457.51 1390.12 1458.25 Q1393.5 1459.04 1395.37 1461.33 Q1397.27 1463.62 1397.27 1466.93 Q1397.27 1471.95 1394.19 1474.64 Q1391.14 1477.32 1385.42 1477.32 Q1379.7 1477.32 1376.62 1474.64 Q1373.57 1471.95 1373.57 1466.93 Q1373.57 1463.62 1375.47 1461.33 Q1377.36 1459.04 1380.74 1458.25 M1379.03 1450.86 Q1379.03 1453.55 1380.7 1455.05 Q1382.39 1456.56 1385.42 1456.56 Q1388.43 1456.56 1390.12 1455.05 Q1391.83 1453.55 1391.83 1450.86 Q1391.83 1448.18 1390.12 1446.68 Q1388.43 1445.17 1385.42 1445.17 Q1382.39 1445.17 1380.7 1446.68 Q1379.03 1448.18 1379.03 1450.86 Z\" fill=\"#000000\" fill-rule=\"evenodd\" fill-opacity=\"1\" /><path clip-path=\"url(#clip060)\" d=\"M 0 0 M1406.37 1472.72 L1422.69 1472.72 L1422.69 1476.65 L1400.74 1476.65 L1400.74 1472.72 Q1403.41 1469.96 1407.99 1465.33 Q1412.59 1460.68 1413.78 1459.34 Q1416.02 1456.81 1416.9 1455.08 Q1417.8 1453.32 1417.8 1451.63 Q1417.8 1448.87 1415.86 1447.14 Q1413.94 1445.4 1410.84 1445.4 Q1408.64 1445.4 1406.18 1446.17 Q1403.75 1446.93 1400.97 1448.48 L1400.97 1443.76 Q1403.8 1442.62 1406.25 1442.05 Q1408.71 1441.47 1410.74 1441.47 Q1416.11 1441.47 1419.31 1444.15 Q1422.5 1446.84 1422.5 1451.33 Q1422.5 1453.46 1421.69 1455.38 Q1420.9 1457.28 1418.8 1459.87 Q1418.22 1460.54 1415.12 1463.76 Q1412.02 1466.95 1406.37 1472.72 Z\" fill=\"#000000\" fill-rule=\"evenodd\" fill-opacity=\"1\" /><path clip-path=\"url(#clip060)\" d=\"M 0 0 M1666.38 1472.72 L1682.7 1472.72 L1682.7 1476.65 L1660.76 1476.65 L1660.76 1472.72 Q1663.42 1469.96 1668 1465.33 Q1672.61 1460.68 1673.79 1459.34 Q1676.03 1456.81 1676.91 1455.08 Q1677.82 1453.32 1677.82 1451.63 Q1677.82 1448.87 1675.87 1447.14 Q1673.95 1445.4 1670.85 1445.4 Q1668.65 1445.4 1666.2 1446.17 Q1663.77 1446.93 1660.99 1448.48 L1660.99 1443.76 Q1663.81 1442.62 1666.27 1442.05 Q1668.72 1441.47 1670.76 1441.47 Q1676.13 1441.47 1679.32 1444.15 Q1682.52 1446.84 1682.52 1451.33 Q1682.52 1453.46 1681.71 1455.38 Q1680.92 1457.28 1678.81 1459.87 Q1678.23 1460.54 1675.13 1463.76 Q1672.03 1466.95 1666.38 1472.72 Z\" fill=\"#000000\" fill-rule=\"evenodd\" fill-opacity=\"1\" /><path clip-path=\"url(#clip060)\" d=\"M 0 0 M1697.77 1460.24 Q1694.44 1460.24 1692.52 1462.02 Q1690.62 1463.8 1690.62 1466.93 Q1690.62 1470.05 1692.52 1471.84 Q1694.44 1473.62 1697.77 1473.62 Q1701.1 1473.62 1703.02 1471.84 Q1704.95 1470.03 1704.95 1466.93 Q1704.95 1463.8 1703.02 1462.02 Q1701.13 1460.24 1697.77 1460.24 M1693.09 1458.25 Q1690.08 1457.51 1688.4 1455.45 Q1686.73 1453.39 1686.73 1450.43 Q1686.73 1446.28 1689.67 1443.87 Q1692.63 1441.47 1697.77 1441.47 Q1702.93 1441.47 1705.87 1443.87 Q1708.81 1446.28 1708.81 1450.43 Q1708.81 1453.39 1707.12 1455.45 Q1705.46 1457.51 1702.47 1458.25 Q1705.85 1459.04 1707.72 1461.33 Q1709.62 1463.62 1709.62 1466.93 Q1709.62 1471.95 1706.54 1474.64 Q1703.49 1477.32 1697.77 1477.32 Q1692.05 1477.32 1688.97 1474.64 Q1685.92 1471.95 1685.92 1466.93 Q1685.92 1463.62 1687.82 1461.33 Q1689.71 1459.04 1693.09 1458.25 M1691.38 1450.86 Q1691.38 1453.55 1693.05 1455.05 Q1694.74 1456.56 1697.77 1456.56 Q1700.78 1456.56 1702.47 1455.05 Q1704.18 1453.55 1704.18 1450.86 Q1704.18 1448.18 1702.47 1446.68 Q1700.78 1445.17 1697.77 1445.17 Q1694.74 1445.17 1693.05 1446.68 Q1691.38 1448.18 1691.38 1450.86 Z\" fill=\"#000000\" fill-rule=\"evenodd\" fill-opacity=\"1\" /><path clip-path=\"url(#clip060)\" d=\"M 0 0 M1727.54 1446.17 L1715.73 1464.61 L1727.54 1464.61 L1727.54 1446.17 M1726.31 1442.09 L1732.19 1442.09 L1732.19 1464.61 L1737.12 1464.61 L1737.12 1468.5 L1732.19 1468.5 L1732.19 1476.65 L1727.54 1476.65 L1727.54 1468.5 L1711.94 1468.5 L1711.94 1463.99 L1726.31 1442.09 Z\" fill=\"#000000\" fill-rule=\"evenodd\" fill-opacity=\"1\" /><path clip-path=\"url(#clip060)\" d=\"M 0 0 M1979.94 1472.72 L1996.26 1472.72 L1996.26 1476.65 L1974.31 1476.65 L1974.31 1472.72 Q1976.97 1469.96 1981.56 1465.33 Q1986.16 1460.68 1987.34 1459.34 Q1989.59 1456.81 1990.47 1455.08 Q1991.37 1453.32 1991.37 1451.63 Q1991.37 1448.87 1989.43 1447.14 Q1987.51 1445.4 1984.4 1445.4 Q1982.2 1445.4 1979.75 1446.17 Q1977.32 1446.93 1974.54 1448.48 L1974.54 1443.76 Q1977.37 1442.62 1979.82 1442.05 Q1982.27 1441.47 1984.31 1441.47 Q1989.68 1441.47 1992.88 1444.15 Q1996.07 1446.84 1996.07 1451.33 Q1996.07 1453.46 1995.26 1455.38 Q1994.47 1457.28 1992.37 1459.87 Q1991.79 1460.54 1988.69 1463.76 Q1985.58 1466.95 1979.94 1472.72 Z\" fill=\"#000000\" fill-rule=\"evenodd\" fill-opacity=\"1\" /><path clip-path=\"url(#clip060)\" d=\"M 0 0 M2011.32 1460.24 Q2007.99 1460.24 2006.07 1462.02 Q2004.17 1463.8 2004.17 1466.93 Q2004.17 1470.05 2006.07 1471.84 Q2007.99 1473.62 2011.32 1473.62 Q2014.66 1473.62 2016.58 1471.84 Q2018.5 1470.03 2018.5 1466.93 Q2018.5 1463.8 2016.58 1462.02 Q2014.68 1460.24 2011.32 1460.24 M2006.65 1458.25 Q2003.64 1457.51 2001.95 1455.45 Q2000.28 1453.39 2000.28 1450.43 Q2000.28 1446.28 2003.22 1443.87 Q2006.19 1441.47 2011.32 1441.47 Q2016.49 1441.47 2019.43 1443.87 Q2022.37 1446.28 2022.37 1450.43 Q2022.37 1453.39 2020.68 1455.45 Q2019.01 1457.51 2016.02 1458.25 Q2019.4 1459.04 2021.28 1461.33 Q2023.18 1463.62 2023.18 1466.93 Q2023.18 1471.95 2020.1 1474.64 Q2017.04 1477.32 2011.32 1477.32 Q2005.61 1477.32 2002.53 1474.64 Q1999.47 1471.95 1999.47 1466.93 Q1999.47 1463.62 2001.37 1461.33 Q2003.27 1459.04 2006.65 1458.25 M2004.94 1450.86 Q2004.94 1453.55 2006.6 1455.05 Q2008.29 1456.56 2011.32 1456.56 Q2014.33 1456.56 2016.02 1455.05 Q2017.74 1453.55 2017.74 1450.86 Q2017.74 1448.18 2016.02 1446.68 Q2014.33 1445.17 2011.32 1445.17 Q2008.29 1445.17 2006.6 1446.68 Q2004.94 1448.18 2004.94 1450.86 Z\" fill=\"#000000\" fill-rule=\"evenodd\" fill-opacity=\"1\" /><path clip-path=\"url(#clip060)\" d=\"M 0 0 M2038.82 1457.51 Q2035.68 1457.51 2033.82 1459.66 Q2032 1461.81 2032 1465.56 Q2032 1469.29 2033.82 1471.47 Q2035.68 1473.62 2038.82 1473.62 Q2041.97 1473.62 2043.8 1471.47 Q2045.65 1469.29 2045.65 1465.56 Q2045.65 1461.81 2043.8 1459.66 Q2041.97 1457.51 2038.82 1457.51 M2048.11 1442.86 L2048.11 1447.11 Q2046.35 1446.28 2044.54 1445.84 Q2042.76 1445.4 2041 1445.4 Q2036.37 1445.4 2033.92 1448.53 Q2031.49 1451.65 2031.14 1457.97 Q2032.51 1455.96 2034.57 1454.89 Q2036.63 1453.8 2039.1 1453.8 Q2044.31 1453.8 2047.32 1456.98 Q2050.35 1460.12 2050.35 1465.56 Q2050.35 1470.89 2047.2 1474.11 Q2044.06 1477.32 2038.82 1477.32 Q2032.83 1477.32 2029.66 1472.74 Q2026.49 1468.13 2026.49 1459.41 Q2026.49 1451.21 2030.38 1446.35 Q2034.26 1441.47 2040.82 1441.47 Q2042.57 1441.47 2044.36 1441.81 Q2046.16 1442.16 2048.11 1442.86 Z\" fill=\"#000000\" fill-rule=\"evenodd\" fill-opacity=\"1\" /><path clip-path=\"url(#clip060)\" d=\"M 0 0 M2293.46 1472.72 L2309.78 1472.72 L2309.78 1476.65 L2287.83 1476.65 L2287.83 1472.72 Q2290.49 1469.96 2295.08 1465.33 Q2299.68 1460.68 2300.86 1459.34 Q2303.11 1456.81 2303.99 1455.08 Q2304.89 1453.32 2304.89 1451.63 Q2304.89 1448.87 2302.95 1447.14 Q2301.03 1445.4 2297.92 1445.4 Q2295.72 1445.4 2293.27 1446.17 Q2290.84 1446.93 2288.06 1448.48 L2288.06 1443.76 Q2290.89 1442.62 2293.34 1442.05 Q2295.79 1441.47 2297.83 1441.47 Q2303.2 1441.47 2306.4 1444.15 Q2309.59 1446.84 2309.59 1451.33 Q2309.59 1453.46 2308.78 1455.38 Q2307.99 1457.28 2305.89 1459.87 Q2305.31 1460.54 2302.21 1463.76 Q2299.1 1466.95 2293.46 1472.72 Z\" fill=\"#000000\" fill-rule=\"evenodd\" fill-opacity=\"1\" /><path clip-path=\"url(#clip060)\" d=\"M 0 0 M2324.84 1460.24 Q2321.51 1460.24 2319.59 1462.02 Q2317.69 1463.8 2317.69 1466.93 Q2317.69 1470.05 2319.59 1471.84 Q2321.51 1473.62 2324.84 1473.62 Q2328.18 1473.62 2330.1 1471.84 Q2332.02 1470.03 2332.02 1466.93 Q2332.02 1463.8 2330.1 1462.02 Q2328.2 1460.24 2324.84 1460.24 M2320.17 1458.25 Q2317.16 1457.51 2315.47 1455.45 Q2313.8 1453.39 2313.8 1450.43 Q2313.8 1446.28 2316.74 1443.87 Q2319.71 1441.47 2324.84 1441.47 Q2330.01 1441.47 2332.95 1443.87 Q2335.89 1446.28 2335.89 1450.43 Q2335.89 1453.39 2334.2 1455.45 Q2332.53 1457.51 2329.54 1458.25 Q2332.92 1459.04 2334.8 1461.33 Q2336.7 1463.62 2336.7 1466.93 Q2336.7 1471.95 2333.62 1474.64 Q2330.56 1477.32 2324.84 1477.32 Q2319.13 1477.32 2316.05 1474.64 Q2312.99 1471.95 2312.99 1466.93 Q2312.99 1463.62 2314.89 1461.33 Q2316.79 1459.04 2320.17 1458.25 M2318.46 1450.86 Q2318.46 1453.55 2320.12 1455.05 Q2321.81 1456.56 2324.84 1456.56 Q2327.85 1456.56 2329.54 1455.05 Q2331.26 1453.55 2331.26 1450.86 Q2331.26 1448.18 2329.54 1446.68 Q2327.85 1445.17 2324.84 1445.17 Q2321.81 1445.17 2320.12 1446.68 Q2318.46 1448.18 2318.46 1450.86 Z\" fill=\"#000000\" fill-rule=\"evenodd\" fill-opacity=\"1\" /><path clip-path=\"url(#clip060)\" d=\"M 0 0 M2351.77 1460.24 Q2348.43 1460.24 2346.51 1462.02 Q2344.61 1463.8 2344.61 1466.93 Q2344.61 1470.05 2346.51 1471.84 Q2348.43 1473.62 2351.77 1473.62 Q2355.1 1473.62 2357.02 1471.84 Q2358.94 1470.03 2358.94 1466.93 Q2358.94 1463.8 2357.02 1462.02 Q2355.12 1460.24 2351.77 1460.24 M2347.09 1458.25 Q2344.08 1457.51 2342.39 1455.45 Q2340.72 1453.39 2340.72 1450.43 Q2340.72 1446.28 2343.66 1443.87 Q2346.63 1441.47 2351.77 1441.47 Q2356.93 1441.47 2359.87 1443.87 Q2362.81 1446.28 2362.81 1450.43 Q2362.81 1453.39 2361.12 1455.45 Q2359.45 1457.51 2356.46 1458.25 Q2359.84 1459.04 2361.72 1461.33 Q2363.62 1463.62 2363.62 1466.93 Q2363.62 1471.95 2360.54 1474.64 Q2357.48 1477.32 2351.77 1477.32 Q2346.05 1477.32 2342.97 1474.64 Q2339.91 1471.95 2339.91 1466.93 Q2339.91 1463.62 2341.81 1461.33 Q2343.71 1459.04 2347.09 1458.25 M2345.38 1450.86 Q2345.38 1453.55 2347.04 1455.05 Q2348.73 1456.56 2351.77 1456.56 Q2354.77 1456.56 2356.46 1455.05 Q2358.18 1453.55 2358.18 1450.86 Q2358.18 1448.18 2356.46 1446.68 Q2354.77 1445.17 2351.77 1445.17 Q2348.73 1445.17 2347.04 1446.68 Q2345.38 1448.18 2345.38 1450.86 Z\" fill=\"#000000\" fill-rule=\"evenodd\" fill-opacity=\"1\" /><path clip-path=\"url(#clip060)\" d=\"M 0 0 M126.492 1388.79 L138.968 1388.79 L138.968 1392.59 L126.492 1392.59 L126.492 1388.79 Z\" fill=\"#000000\" fill-rule=\"evenodd\" fill-opacity=\"1\" /><path clip-path=\"url(#clip060)\" d=\"M 0 0 M144.848 1399.74 L152.487 1399.74 L152.487 1373.37 L144.177 1375.04 L144.177 1370.78 L152.441 1369.12 L157.116 1369.12 L157.116 1399.74 L164.755 1399.74 L164.755 1403.68 L144.848 1403.68 L144.848 1399.74 Z\" fill=\"#000000\" fill-rule=\"evenodd\" fill-opacity=\"1\" /><path clip-path=\"url(#clip060)\" d=\"M 0 0 M169.825 1397.8 L174.709 1397.8 L174.709 1403.68 L169.825 1403.68 L169.825 1397.8 Z\" fill=\"#000000\" fill-rule=\"evenodd\" fill-opacity=\"1\" /><path clip-path=\"url(#clip060)\" d=\"M 0 0 M189.778 1372.19 Q186.167 1372.19 184.339 1375.76 Q182.533 1379.3 182.533 1386.43 Q182.533 1393.54 184.339 1397.1 Q186.167 1400.64 189.778 1400.64 Q193.413 1400.64 195.218 1397.1 Q197.047 1393.54 197.047 1386.43 Q197.047 1379.3 195.218 1375.76 Q193.413 1372.19 189.778 1372.19 M189.778 1368.49 Q195.588 1368.49 198.644 1373.1 Q201.723 1377.68 201.723 1386.43 Q201.723 1395.16 198.644 1399.76 Q195.588 1404.35 189.778 1404.35 Q183.968 1404.35 180.889 1399.76 Q177.834 1395.16 177.834 1386.43 Q177.834 1377.68 180.889 1373.1 Q183.968 1368.49 189.778 1368.49 Z\" fill=\"#000000\" fill-rule=\"evenodd\" fill-opacity=\"1\" /><path clip-path=\"url(#clip060)\" d=\"M 0 0 M216.792 1372.19 Q213.181 1372.19 211.352 1375.76 Q209.547 1379.3 209.547 1386.43 Q209.547 1393.54 211.352 1397.1 Q213.181 1400.64 216.792 1400.64 Q220.426 1400.64 222.232 1397.1 Q224.061 1393.54 224.061 1386.43 Q224.061 1379.3 222.232 1375.76 Q220.426 1372.19 216.792 1372.19 M216.792 1368.49 Q222.602 1368.49 225.658 1373.1 Q228.736 1377.68 228.736 1386.43 Q228.736 1395.16 225.658 1399.76 Q222.602 1404.35 216.792 1404.35 Q210.982 1404.35 207.903 1399.76 Q204.848 1395.16 204.848 1386.43 Q204.848 1377.68 207.903 1373.1 Q210.982 1368.49 216.792 1368.49 Z\" fill=\"#000000\" fill-rule=\"evenodd\" fill-opacity=\"1\" /><path clip-path=\"url(#clip060)\" d=\"M 0 0 M127.163 1082.26 L139.64 1082.26 L139.64 1086.05 L127.163 1086.05 L127.163 1082.26 Z\" fill=\"#000000\" fill-rule=\"evenodd\" fill-opacity=\"1\" /><path clip-path=\"url(#clip060)\" d=\"M 0 0 M154.709 1065.66 Q151.098 1065.66 149.269 1069.22 Q147.464 1072.77 147.464 1079.9 Q147.464 1087 149.269 1090.57 Q151.098 1094.11 154.709 1094.11 Q158.343 1094.11 160.149 1090.57 Q161.978 1087 161.978 1079.9 Q161.978 1072.77 160.149 1069.22 Q158.343 1065.66 154.709 1065.66 M154.709 1061.96 Q160.519 1061.96 163.575 1066.56 Q166.653 1071.15 166.653 1079.9 Q166.653 1088.62 163.575 1093.23 Q160.519 1097.81 154.709 1097.81 Q148.899 1097.81 145.82 1093.23 Q142.765 1088.62 142.765 1079.9 Q142.765 1071.15 145.82 1066.56 Q148.899 1061.96 154.709 1061.96 Z\" fill=\"#000000\" fill-rule=\"evenodd\" fill-opacity=\"1\" /><path clip-path=\"url(#clip060)\" d=\"M 0 0 M171.723 1091.26 L176.607 1091.26 L176.607 1097.14 L171.723 1097.14 L171.723 1091.26 Z\" fill=\"#000000\" fill-rule=\"evenodd\" fill-opacity=\"1\" /><path clip-path=\"url(#clip060)\" d=\"M 0 0 M180.496 1062.58 L202.718 1062.58 L202.718 1064.57 L190.172 1097.14 L185.288 1097.14 L197.093 1066.52 L180.496 1066.52 L180.496 1062.58 Z\" fill=\"#000000\" fill-rule=\"evenodd\" fill-opacity=\"1\" /><path clip-path=\"url(#clip060)\" d=\"M 0 0 M207.834 1062.58 L226.19 1062.58 L226.19 1066.52 L212.116 1066.52 L212.116 1074.99 Q213.135 1074.64 214.153 1074.48 Q215.172 1074.29 216.19 1074.29 Q221.977 1074.29 225.357 1077.47 Q228.736 1080.64 228.736 1086.05 Q228.736 1091.63 225.264 1094.73 Q221.792 1097.81 215.473 1097.81 Q213.297 1097.81 211.028 1097.44 Q208.783 1097.07 206.375 1096.33 L206.375 1091.63 Q208.459 1092.77 210.681 1093.32 Q212.903 1093.88 215.38 1093.88 Q219.385 1093.88 221.723 1091.77 Q224.061 1089.66 224.061 1086.05 Q224.061 1082.44 221.723 1080.34 Q219.385 1078.23 215.38 1078.23 Q213.505 1078.23 211.63 1078.65 Q209.778 1079.06 207.834 1079.94 L207.834 1062.58 Z\" fill=\"#000000\" fill-rule=\"evenodd\" fill-opacity=\"1\" /><path clip-path=\"url(#clip060)\" d=\"M 0 0 M126.26 775.722 L138.737 775.722 L138.737 779.518 L126.26 779.518 L126.26 775.722 Z\" fill=\"#000000\" fill-rule=\"evenodd\" fill-opacity=\"1\" /><path clip-path=\"url(#clip060)\" d=\"M 0 0 M153.806 759.125 Q150.195 759.125 148.367 762.689 Q146.561 766.231 146.561 773.361 Q146.561 780.467 148.367 784.032 Q150.195 787.574 153.806 787.574 Q157.441 787.574 159.246 784.032 Q161.075 780.467 161.075 773.361 Q161.075 766.231 159.246 762.689 Q157.441 759.125 153.806 759.125 M153.806 755.421 Q159.616 755.421 162.672 760.027 Q165.751 764.611 165.751 773.361 Q165.751 782.088 162.672 786.694 Q159.616 791.277 153.806 791.277 Q147.996 791.277 144.917 786.694 Q141.862 782.088 141.862 773.361 Q141.862 764.611 144.917 760.027 Q147.996 755.421 153.806 755.421 Z\" fill=\"#000000\" fill-rule=\"evenodd\" fill-opacity=\"1\" /><path clip-path=\"url(#clip060)\" d=\"M 0 0 M170.82 784.726 L175.704 784.726 L175.704 790.606 L170.82 790.606 L170.82 784.726 Z\" fill=\"#000000\" fill-rule=\"evenodd\" fill-opacity=\"1\" /><path clip-path=\"url(#clip060)\" d=\"M 0 0 M180.82 756.046 L199.176 756.046 L199.176 759.981 L185.102 759.981 L185.102 768.453 Q186.121 768.106 187.139 767.944 Q188.158 767.759 189.176 767.759 Q194.963 767.759 198.343 770.93 Q201.723 774.101 201.723 779.518 Q201.723 785.097 198.251 788.199 Q194.778 791.277 188.459 791.277 Q186.283 791.277 184.014 790.907 Q181.769 790.537 179.362 789.796 L179.362 785.097 Q181.445 786.231 183.667 786.787 Q185.889 787.342 188.366 787.342 Q192.371 787.342 194.709 785.236 Q197.047 783.129 197.047 779.518 Q197.047 775.907 194.709 773.801 Q192.371 771.694 188.366 771.694 Q186.491 771.694 184.616 772.111 Q182.764 772.527 180.82 773.407 L180.82 756.046 Z\" fill=\"#000000\" fill-rule=\"evenodd\" fill-opacity=\"1\" /><path clip-path=\"url(#clip060)\" d=\"M 0 0 M216.792 759.125 Q213.181 759.125 211.352 762.689 Q209.547 766.231 209.547 773.361 Q209.547 780.467 211.352 784.032 Q213.181 787.574 216.792 787.574 Q220.426 787.574 222.232 784.032 Q224.061 780.467 224.061 773.361 Q224.061 766.231 222.232 762.689 Q220.426 759.125 216.792 759.125 M216.792 755.421 Q222.602 755.421 225.658 760.027 Q228.736 764.611 228.736 773.361 Q228.736 782.088 225.658 786.694 Q222.602 791.277 216.792 791.277 Q210.982 791.277 207.903 786.694 Q204.848 782.088 204.848 773.361 Q204.848 764.611 207.903 760.027 Q210.982 755.421 216.792 755.421 Z\" fill=\"#000000\" fill-rule=\"evenodd\" fill-opacity=\"1\" /><path clip-path=\"url(#clip060)\" d=\"M 0 0 M127.857 469.187 L140.334 469.187 L140.334 472.983 L127.857 472.983 L127.857 469.187 Z\" fill=\"#000000\" fill-rule=\"evenodd\" fill-opacity=\"1\" /><path clip-path=\"url(#clip060)\" d=\"M 0 0 M155.404 452.59 Q151.792 452.59 149.964 456.155 Q148.158 459.696 148.158 466.826 Q148.158 473.932 149.964 477.497 Q151.792 481.039 155.404 481.039 Q159.038 481.039 160.843 477.497 Q162.672 473.932 162.672 466.826 Q162.672 459.696 160.843 456.155 Q159.038 452.59 155.404 452.59 M155.404 448.886 Q161.214 448.886 164.269 453.493 Q167.348 458.076 167.348 466.826 Q167.348 475.553 164.269 480.159 Q161.214 484.742 155.404 484.742 Q149.593 484.742 146.515 480.159 Q143.459 475.553 143.459 466.826 Q143.459 458.076 146.515 453.493 Q149.593 448.886 155.404 448.886 Z\" fill=\"#000000\" fill-rule=\"evenodd\" fill-opacity=\"1\" /><path clip-path=\"url(#clip060)\" d=\"M 0 0 M172.417 478.192 L177.302 478.192 L177.302 484.071 L172.417 484.071 L172.417 478.192 Z\" fill=\"#000000\" fill-rule=\"evenodd\" fill-opacity=\"1\" /><path clip-path=\"url(#clip060)\" d=\"M 0 0 M186.399 480.136 L202.718 480.136 L202.718 484.071 L180.774 484.071 L180.774 480.136 Q183.436 477.381 188.019 472.752 Q192.626 468.099 193.806 466.756 Q196.051 464.233 196.931 462.497 Q197.834 460.738 197.834 459.048 Q197.834 456.294 195.889 454.557 Q193.968 452.821 190.866 452.821 Q188.667 452.821 186.214 453.585 Q183.783 454.349 181.005 455.9 L181.005 451.178 Q183.829 450.044 186.283 449.465 Q188.737 448.886 190.774 448.886 Q196.144 448.886 199.338 451.571 Q202.533 454.256 202.533 458.747 Q202.533 460.877 201.723 462.798 Q200.936 464.696 198.829 467.289 Q198.251 467.96 195.149 471.178 Q192.047 474.372 186.399 480.136 Z\" fill=\"#000000\" fill-rule=\"evenodd\" fill-opacity=\"1\" /><path clip-path=\"url(#clip060)\" d=\"M 0 0 M207.834 449.511 L226.19 449.511 L226.19 453.446 L212.116 453.446 L212.116 461.918 Q213.135 461.571 214.153 461.409 Q215.172 461.224 216.19 461.224 Q221.977 461.224 225.357 464.395 Q228.736 467.567 228.736 472.983 Q228.736 478.562 225.264 481.664 Q221.792 484.742 215.473 484.742 Q213.297 484.742 211.028 484.372 Q208.783 484.002 206.375 483.261 L206.375 478.562 Q208.459 479.696 210.681 480.252 Q212.903 480.807 215.38 480.807 Q219.385 480.807 221.723 478.701 Q224.061 476.594 224.061 472.983 Q224.061 469.372 221.723 467.266 Q219.385 465.159 215.38 465.159 Q213.505 465.159 211.63 465.576 Q209.778 465.993 207.834 466.872 L207.834 449.511 Z\" fill=\"#000000\" fill-rule=\"evenodd\" fill-opacity=\"1\" /><path clip-path=\"url(#clip060)\" d=\"M 0 0 M152.811 146.055 Q149.2 146.055 147.371 149.62 Q145.566 153.161 145.566 160.291 Q145.566 167.397 147.371 170.962 Q149.2 174.504 152.811 174.504 Q156.445 174.504 158.251 170.962 Q160.079 167.397 160.079 160.291 Q160.079 153.161 158.251 149.62 Q156.445 146.055 152.811 146.055 M152.811 142.351 Q158.621 142.351 161.677 146.958 Q164.755 151.541 164.755 160.291 Q164.755 169.018 161.677 173.624 Q158.621 178.208 152.811 178.208 Q147.001 178.208 143.922 173.624 Q140.867 169.018 140.867 160.291 Q140.867 151.541 143.922 146.958 Q147.001 142.351 152.811 142.351 Z\" fill=\"#000000\" fill-rule=\"evenodd\" fill-opacity=\"1\" /><path clip-path=\"url(#clip060)\" d=\"M 0 0 M169.825 171.657 L174.709 171.657 L174.709 177.536 L169.825 177.536 L169.825 171.657 Z\" fill=\"#000000\" fill-rule=\"evenodd\" fill-opacity=\"1\" /><path clip-path=\"url(#clip060)\" d=\"M 0 0 M189.778 146.055 Q186.167 146.055 184.339 149.62 Q182.533 153.161 182.533 160.291 Q182.533 167.397 184.339 170.962 Q186.167 174.504 189.778 174.504 Q193.413 174.504 195.218 170.962 Q197.047 167.397 197.047 160.291 Q197.047 153.161 195.218 149.62 Q193.413 146.055 189.778 146.055 M189.778 142.351 Q195.588 142.351 198.644 146.958 Q201.723 151.541 201.723 160.291 Q201.723 169.018 198.644 173.624 Q195.588 178.208 189.778 178.208 Q183.968 178.208 180.889 173.624 Q177.834 169.018 177.834 160.291 Q177.834 151.541 180.889 146.958 Q183.968 142.351 189.778 142.351 Z\" fill=\"#000000\" fill-rule=\"evenodd\" fill-opacity=\"1\" /><path clip-path=\"url(#clip060)\" d=\"M 0 0 M216.792 146.055 Q213.181 146.055 211.352 149.62 Q209.547 153.161 209.547 160.291 Q209.547 167.397 211.352 170.962 Q213.181 174.504 216.792 174.504 Q220.426 174.504 222.232 170.962 Q224.061 167.397 224.061 160.291 Q224.061 153.161 222.232 149.62 Q220.426 146.055 216.792 146.055 M216.792 142.351 Q222.602 142.351 225.658 146.958 Q228.736 151.541 228.736 160.291 Q228.736 169.018 225.658 173.624 Q222.602 178.208 216.792 178.208 Q210.982 178.208 207.903 173.624 Q204.848 169.018 204.848 160.291 Q204.848 151.541 207.903 146.958 Q210.982 142.351 216.792 142.351 Z\" fill=\"#000000\" fill-rule=\"evenodd\" fill-opacity=\"1\" /><path clip-path=\"url(#clip060)\" d=\"M 0 0 M910.841 12.096 L919.024 12.096 L919.024 36.8875 L948.758 36.8875 L948.758 12.096 L956.941 12.096 L956.941 72.576 L948.758 72.576 L948.758 43.7741 L919.024 43.7741 L919.024 72.576 L910.841 72.576 L910.841 12.096 Z\" fill=\"#000000\" fill-rule=\"evenodd\" fill-opacity=\"1\" /><path clip-path=\"url(#clip060)\" d=\"M 0 0 M1003.57 48.0275 L1003.57 51.6733 L969.296 51.6733 Q969.782 59.3701 973.914 63.421 Q978.086 67.4314 985.5 67.4314 Q989.794 67.4314 993.804 66.3781 Q997.855 65.3249 1001.82 63.2184 L1001.82 70.267 Q997.814 71.9684 993.601 72.8596 Q989.388 73.7508 985.054 73.7508 Q974.198 73.7508 967.838 67.4314 Q961.518 61.1119 961.518 50.3365 Q961.518 39.1965 967.514 32.6746 Q973.549 26.1121 983.758 26.1121 Q992.913 26.1121 998.219 32.0264 Q1003.57 37.9003 1003.57 48.0275 M996.113 45.84 Q996.032 39.7232 992.67 36.0774 Q989.348 32.4315 983.839 32.4315 Q977.6 32.4315 973.833 35.9558 Q970.106 39.4801 969.539 45.8805 L996.113 45.84 Z\" fill=\"#000000\" fill-rule=\"evenodd\" fill-opacity=\"1\" /><path clip-path=\"url(#clip060)\" d=\"M 0 0 M1032 49.7694 Q1022.97 49.7694 1019.49 51.8354 Q1016 53.9013 1016 58.8839 Q1016 62.8538 1018.6 65.2034 Q1021.23 67.5124 1025.73 67.5124 Q1031.92 67.5124 1035.65 63.1374 Q1039.42 58.7219 1039.42 51.4303 L1039.42 49.7694 L1032 49.7694 M1046.87 46.6907 L1046.87 72.576 L1039.42 72.576 L1039.42 65.6895 Q1036.87 69.8214 1033.06 71.8063 Q1029.25 73.7508 1023.74 73.7508 Q1016.77 73.7508 1012.64 69.8619 Q1008.55 65.9325 1008.55 59.3701 Q1008.55 51.7138 1013.65 47.825 Q1018.8 43.9361 1028.97 43.9361 L1039.42 43.9361 L1039.42 43.2069 Q1039.42 38.0623 1036.01 35.2672 Q1032.65 32.4315 1026.54 32.4315 Q1022.65 32.4315 1018.96 33.3632 Q1015.27 34.295 1011.87 36.1584 L1011.87 29.2718 Q1015.96 27.692 1019.81 26.9223 Q1023.66 26.1121 1027.3 26.1121 Q1037.15 26.1121 1042.01 31.2163 Q1046.87 36.3204 1046.87 46.6907 Z\" fill=\"#000000\" fill-rule=\"evenodd\" fill-opacity=\"1\" /><path clip-path=\"url(#clip060)\" d=\"M 0 0 M1062.06 14.324 L1062.06 27.2059 L1077.41 27.2059 L1077.41 32.9987 L1062.06 32.9987 L1062.06 57.6282 Q1062.06 63.1779 1063.56 64.7578 Q1065.1 66.3376 1069.76 66.3376 L1077.41 66.3376 L1077.41 72.576 L1069.76 72.576 Q1061.13 72.576 1057.85 69.3758 Q1054.57 66.1351 1054.57 57.6282 L1054.57 32.9987 L1049.1 32.9987 L1049.1 27.2059 L1054.57 27.2059 L1054.57 14.324 L1062.06 14.324 Z\" fill=\"#000000\" fill-rule=\"evenodd\" fill-opacity=\"1\" /><path clip-path=\"url(#clip060)\" d=\"M 0 0 M1118.98 14.324 L1118.98 27.2059 L1134.33 27.2059 L1134.33 32.9987 L1118.98 32.9987 L1118.98 57.6282 Q1118.98 63.1779 1120.48 64.7578 Q1122.02 66.3376 1126.67 66.3376 L1134.33 66.3376 L1134.33 72.576 L1126.67 72.576 Q1118.05 72.576 1114.76 69.3758 Q1111.48 66.1351 1111.48 57.6282 L1111.48 32.9987 L1106.01 32.9987 L1106.01 27.2059 L1111.48 27.2059 L1111.48 14.324 L1118.98 14.324 Z\" fill=\"#000000\" fill-rule=\"evenodd\" fill-opacity=\"1\" /><path clip-path=\"url(#clip060)\" d=\"M 0 0 M1168.44 34.1734 Q1167.18 33.4443 1165.68 33.1202 Q1164.23 32.7556 1162.44 32.7556 Q1156.12 32.7556 1152.72 36.8875 Q1149.36 40.9789 1149.36 48.6757 L1149.36 72.576 L1141.86 72.576 L1141.86 27.2059 L1149.36 27.2059 L1149.36 34.2544 Q1151.71 30.1225 1155.48 28.1376 Q1159.24 26.1121 1164.63 26.1121 Q1165.4 26.1121 1166.33 26.2337 Q1167.26 26.3147 1168.4 26.5172 L1168.44 34.1734 Z\" fill=\"#000000\" fill-rule=\"evenodd\" fill-opacity=\"1\" /><path clip-path=\"url(#clip060)\" d=\"M 0 0 M1196.88 49.7694 Q1187.84 49.7694 1184.36 51.8354 Q1180.87 53.9013 1180.87 58.8839 Q1180.87 62.8538 1183.47 65.2034 Q1186.1 67.5124 1190.6 67.5124 Q1196.79 67.5124 1200.52 63.1374 Q1204.29 58.7219 1204.29 51.4303 L1204.29 49.7694 L1196.88 49.7694 M1211.74 46.6907 L1211.74 72.576 L1204.29 72.576 L1204.29 65.6895 Q1201.74 69.8214 1197.93 71.8063 Q1194.12 73.7508 1188.61 73.7508 Q1181.64 73.7508 1177.51 69.8619 Q1173.42 65.9325 1173.42 59.3701 Q1173.42 51.7138 1178.53 47.825 Q1183.67 43.9361 1193.84 43.9361 L1204.29 43.9361 L1204.29 43.2069 Q1204.29 38.0623 1200.89 35.2672 Q1197.52 32.4315 1191.41 32.4315 Q1187.52 32.4315 1183.83 33.3632 Q1180.15 34.295 1176.74 36.1584 L1176.74 29.2718 Q1180.83 27.692 1184.68 26.9223 Q1188.53 26.1121 1192.18 26.1121 Q1202.02 26.1121 1206.88 31.2163 Q1211.74 36.3204 1211.74 46.6907 Z\" fill=\"#000000\" fill-rule=\"evenodd\" fill-opacity=\"1\" /><path clip-path=\"url(#clip060)\" d=\"M 0 0 M1257.27 45.1919 L1257.27 72.576 L1249.82 72.576 L1249.82 45.4349 Q1249.82 38.994 1247.31 35.7938 Q1244.8 32.5936 1239.77 32.5936 Q1233.74 32.5936 1230.26 36.4419 Q1226.77 40.2903 1226.77 46.9338 L1226.77 72.576 L1219.28 72.576 L1219.28 27.2059 L1226.77 27.2059 L1226.77 34.2544 Q1229.45 30.163 1233.05 28.1376 Q1236.7 26.1121 1241.44 26.1121 Q1249.25 26.1121 1253.26 30.9732 Q1257.27 35.7938 1257.27 45.1919 Z\" fill=\"#000000\" fill-rule=\"evenodd\" fill-opacity=\"1\" /><path clip-path=\"url(#clip060)\" d=\"M 0 0 M1294.02 28.5427 L1294.02 35.5912 Q1290.86 33.9709 1287.45 33.1607 Q1284.05 32.3505 1280.41 32.3505 Q1274.86 32.3505 1272.06 34.0519 Q1269.31 35.7533 1269.31 39.156 Q1269.31 41.7486 1271.29 43.2475 Q1273.28 44.7058 1279.27 46.0426 L1281.82 46.6097 Q1289.76 48.3111 1293.08 51.4303 Q1296.45 54.509 1296.45 60.0587 Q1296.45 66.3781 1291.42 70.0644 Q1286.44 73.7508 1277.69 73.7508 Q1274.05 73.7508 1270.08 73.0216 Q1266.15 72.3329 1261.77 70.9151 L1261.77 63.2184 Q1265.9 65.3654 1269.91 66.4591 Q1273.92 67.5124 1277.85 67.5124 Q1283.12 67.5124 1285.96 65.73 Q1288.79 63.9071 1288.79 60.6258 Q1288.79 57.5877 1286.72 55.9673 Q1284.7 54.3469 1277.77 52.8481 L1275.18 52.2405 Q1268.25 50.7821 1265.17 47.7845 Q1262.1 44.7463 1262.1 39.4801 Q1262.1 33.0797 1266.63 29.5959 Q1271.17 26.1121 1279.51 26.1121 Q1283.65 26.1121 1287.29 26.7198 Q1290.94 27.3274 1294.02 28.5427 Z\" fill=\"#000000\" fill-rule=\"evenodd\" fill-opacity=\"1\" /><path clip-path=\"url(#clip060)\" d=\"M 0 0 M1327.23 9.54393 L1327.23 15.7418 L1320.1 15.7418 Q1316.09 15.7418 1314.51 17.3622 Q1312.97 18.9825 1312.97 23.1955 L1312.97 27.2059 L1325.25 27.2059 L1325.25 32.9987 L1312.97 32.9987 L1312.97 72.576 L1305.48 72.576 L1305.48 32.9987 L1298.35 32.9987 L1298.35 27.2059 L1305.48 27.2059 L1305.48 24.0462 Q1305.48 16.471 1309 13.0277 Q1312.53 9.54393 1320.19 9.54393 L1327.23 9.54393 Z\" fill=\"#000000\" fill-rule=\"evenodd\" fill-opacity=\"1\" /><path clip-path=\"url(#clip060)\" d=\"M 0 0 M1373.86 48.0275 L1373.86 51.6733 L1339.59 51.6733 Q1340.08 59.3701 1344.21 63.421 Q1348.38 67.4314 1355.79 67.4314 Q1360.09 67.4314 1364.1 66.3781 Q1368.15 65.3249 1372.12 63.2184 L1372.12 70.267 Q1368.11 71.9684 1363.89 72.8596 Q1359.68 73.7508 1355.35 73.7508 Q1344.49 73.7508 1338.13 67.4314 Q1331.81 61.1119 1331.81 50.3365 Q1331.81 39.1965 1337.81 32.6746 Q1343.84 26.1121 1354.05 26.1121 Q1363.21 26.1121 1368.51 32.0264 Q1373.86 37.9003 1373.86 48.0275 M1366.41 45.84 Q1366.33 39.7232 1362.96 36.0774 Q1359.64 32.4315 1354.13 32.4315 Q1347.89 32.4315 1344.13 35.9558 Q1340.4 39.4801 1339.83 45.8805 L1366.41 45.84 Z\" fill=\"#000000\" fill-rule=\"evenodd\" fill-opacity=\"1\" /><path clip-path=\"url(#clip060)\" d=\"M 0 0 M1407.97 34.1734 Q1406.71 33.4443 1405.21 33.1202 Q1403.76 32.7556 1401.97 32.7556 Q1395.65 32.7556 1392.25 36.8875 Q1388.89 40.9789 1388.89 48.6757 L1388.89 72.576 L1381.39 72.576 L1381.39 27.2059 L1388.89 27.2059 L1388.89 34.2544 Q1391.24 30.1225 1395.01 28.1376 Q1398.77 26.1121 1404.16 26.1121 Q1404.93 26.1121 1405.86 26.2337 Q1406.79 26.3147 1407.93 26.5172 L1407.97 34.1734 Z\" fill=\"#000000\" fill-rule=\"evenodd\" fill-opacity=\"1\" /><path clip-path=\"url(#clip060)\" d=\"M 0 0 M1442.16 27.2059 L1449.61 27.2059 L1449.61 72.576 L1442.16 72.576 L1442.16 27.2059 M1442.16 9.54393 L1449.61 9.54393 L1449.61 18.9825 L1442.16 18.9825 L1442.16 9.54393 Z\" fill=\"#000000\" fill-rule=\"evenodd\" fill-opacity=\"1\" /><path clip-path=\"url(#clip060)\" d=\"M 0 0 M1495.14 45.1919 L1495.14 72.576 L1487.69 72.576 L1487.69 45.4349 Q1487.69 38.994 1485.18 35.7938 Q1482.67 32.5936 1477.64 32.5936 Q1471.61 32.5936 1468.12 36.4419 Q1464.64 40.2903 1464.64 46.9338 L1464.64 72.576 L1457.15 72.576 L1457.15 27.2059 L1464.64 27.2059 L1464.64 34.2544 Q1467.31 30.163 1470.92 28.1376 Q1474.57 26.1121 1479.3 26.1121 Q1487.12 26.1121 1491.13 30.9732 Q1495.14 35.7938 1495.14 45.1919 Z\" fill=\"#000000\" fill-rule=\"evenodd\" fill-opacity=\"1\" /><path clip-path=\"url(#clip060)\" d=\"M 0 0 M1558.26 28.5427 L1558.26 35.5912 Q1555.1 33.9709 1551.69 33.1607 Q1548.29 32.3505 1544.65 32.3505 Q1539.1 32.3505 1536.3 34.0519 Q1533.55 35.7533 1533.55 39.156 Q1533.55 41.7486 1535.53 43.2475 Q1537.52 44.7058 1543.51 46.0426 L1546.06 46.6097 Q1554 48.3111 1557.33 51.4303 Q1560.69 54.509 1560.69 60.0587 Q1560.69 66.3781 1555.66 70.0644 Q1550.68 73.7508 1541.93 73.7508 Q1538.29 73.7508 1534.32 73.0216 Q1530.39 72.3329 1526.01 70.9151 L1526.01 63.2184 Q1530.14 65.3654 1534.15 66.4591 Q1538.16 67.5124 1542.09 67.5124 Q1547.36 67.5124 1550.2 65.73 Q1553.03 63.9071 1553.03 60.6258 Q1553.03 57.5877 1550.97 55.9673 Q1548.94 54.3469 1542.01 52.8481 L1539.42 52.2405 Q1532.49 50.7821 1529.41 47.7845 Q1526.34 44.7463 1526.34 39.4801 Q1526.34 33.0797 1530.87 29.5959 Q1535.41 26.1121 1543.75 26.1121 Q1547.89 26.1121 1551.53 26.7198 Q1555.18 27.3274 1558.26 28.5427 Z\" fill=\"#000000\" fill-rule=\"evenodd\" fill-opacity=\"1\" /><path clip-path=\"url(#clip060)\" d=\"M 0 0 M1589.12 49.7694 Q1580.09 49.7694 1576.61 51.8354 Q1573.12 53.9013 1573.12 58.8839 Q1573.12 62.8538 1575.72 65.2034 Q1578.35 67.5124 1582.85 67.5124 Q1589.04 67.5124 1592.77 63.1374 Q1596.54 58.7219 1596.54 51.4303 L1596.54 49.7694 L1589.12 49.7694 M1603.99 46.6907 L1603.99 72.576 L1596.54 72.576 L1596.54 65.6895 Q1593.99 69.8214 1590.18 71.8063 Q1586.37 73.7508 1580.86 73.7508 Q1573.89 73.7508 1569.76 69.8619 Q1565.67 65.9325 1565.67 59.3701 Q1565.67 51.7138 1570.77 47.825 Q1575.92 43.9361 1586.09 43.9361 L1596.54 43.9361 L1596.54 43.2069 Q1596.54 38.0623 1593.14 35.2672 Q1589.77 32.4315 1583.66 32.4315 Q1579.77 32.4315 1576.08 33.3632 Q1572.39 34.295 1568.99 36.1584 L1568.99 29.2718 Q1573.08 27.692 1576.93 26.9223 Q1580.78 26.1121 1584.43 26.1121 Q1594.27 26.1121 1599.13 31.2163 Q1603.99 36.3204 1603.99 46.6907 Z\" fill=\"#000000\" fill-rule=\"evenodd\" fill-opacity=\"1\" /><path clip-path=\"url(#clip060)\" d=\"M 0 0 M1649.52 45.1919 L1649.52 72.576 L1642.07 72.576 L1642.07 45.4349 Q1642.07 38.994 1639.56 35.7938 Q1637.05 32.5936 1632.02 32.5936 Q1625.99 32.5936 1622.5 36.4419 Q1619.02 40.2903 1619.02 46.9338 L1619.02 72.576 L1611.53 72.576 L1611.53 27.2059 L1619.02 27.2059 L1619.02 34.2544 Q1621.69 30.163 1625.3 28.1376 Q1628.95 26.1121 1633.68 26.1121 Q1641.5 26.1121 1645.51 30.9732 Q1649.52 35.7938 1649.52 45.1919 Z\" fill=\"#000000\" fill-rule=\"evenodd\" fill-opacity=\"1\" /><path clip-path=\"url(#clip060)\" d=\"M 0 0 M1687.2 34.0924 L1687.2 9.54393 L1694.65 9.54393 L1694.65 72.576 L1687.2 72.576 L1687.2 65.7705 Q1684.85 69.8214 1681.24 71.8063 Q1677.68 73.7508 1672.65 73.7508 Q1664.43 73.7508 1659.25 67.1883 Q1654.1 60.6258 1654.1 49.9314 Q1654.1 39.2371 1659.25 32.6746 Q1664.43 26.1121 1672.65 26.1121 Q1677.68 26.1121 1681.24 28.0971 Q1684.85 30.0415 1687.2 34.0924 M1661.8 49.9314 Q1661.8 58.1548 1665.16 62.8538 Q1668.56 67.5124 1674.48 67.5124 Q1680.39 67.5124 1683.79 62.8538 Q1687.2 58.1548 1687.2 49.9314 Q1687.2 41.7081 1683.79 37.0496 Q1680.39 32.3505 1674.48 32.3505 Q1668.56 32.3505 1665.16 37.0496 Q1661.8 41.7081 1661.8 49.9314 Z\" fill=\"#000000\" fill-rule=\"evenodd\" fill-opacity=\"1\" /><path clip-path=\"url(#clip060)\" d=\"M 0 0 M1230.21 1508.52 L1270.41 1508.52 L1270.41 1513.93 L1253.54 1513.93 L1253.54 1556.04 L1247.08 1556.04 L1247.08 1513.93 L1230.21 1513.93 L1230.21 1508.52 Z\" fill=\"#000000\" fill-rule=\"evenodd\" fill-opacity=\"1\" /><path clip-path=\"url(#clip060)\" d=\"M 0 0 M1311.34 1506.58 Q1307.07 1513.9 1305.01 1521.06 Q1302.94 1528.23 1302.94 1535.58 Q1302.94 1542.93 1305.01 1550.16 Q1307.11 1557.35 1311.34 1564.64 L1306.25 1564.64 Q1301.47 1557.16 1299.09 1549.93 Q1296.73 1542.71 1296.73 1535.58 Q1296.73 1528.48 1299.09 1521.29 Q1301.44 1514.09 1306.25 1506.58 L1311.34 1506.58 Z\" fill=\"#000000\" fill-rule=\"evenodd\" fill-opacity=\"1\" /><path clip-path=\"url(#clip060)\" d=\"M 0 0 M1317.74 1508.52 L1324.17 1508.52 L1324.17 1528.61 L1345.49 1508.52 L1353.77 1508.52 L1330.18 1530.68 L1355.45 1556.04 L1346.99 1556.04 L1324.17 1533.16 L1324.17 1556.04 L1317.74 1556.04 L1317.74 1508.52 Z\" fill=\"#000000\" fill-rule=\"evenodd\" fill-opacity=\"1\" /><path clip-path=\"url(#clip060)\" d=\"M 0 0 M1360.67 1506.58 L1365.77 1506.58 Q1370.54 1514.09 1372.9 1521.29 Q1375.28 1528.48 1375.28 1535.58 Q1375.28 1542.71 1372.9 1549.93 Q1370.54 1557.16 1365.77 1564.64 L1360.67 1564.64 Q1364.91 1557.35 1366.98 1550.16 Q1369.08 1542.93 1369.08 1535.58 Q1369.08 1528.23 1366.98 1521.06 Q1364.91 1513.9 1360.67 1506.58 Z\" fill=\"#000000\" fill-rule=\"evenodd\" fill-opacity=\"1\" /><path clip-path=\"url(#clip060)\" d=\"M 0 0 M52.3562 846.197 L52.3562 818.379 L57.7034 818.379 L83.3254 840.405 L83.3254 818.379 L88.0042 818.379 L88.0042 846.993 L82.657 846.993 L57.035 824.968 L57.035 846.197 L52.3562 846.197 Z\" fill=\"#000000\" fill-rule=\"evenodd\" fill-opacity=\"1\" /><path clip-path=\"url(#clip060)\" d=\"M 0 0 M38.5426 777.448 Q45.8632 781.713 53.0246 783.782 Q60.186 785.851 67.5384 785.851 Q74.8908 785.851 82.1159 783.782 Q89.3091 781.681 96.5979 777.448 L96.5979 782.54 Q89.1182 787.315 81.8931 789.702 Q74.668 792.057 67.5384 792.057 Q60.4406 792.057 53.2474 789.702 Q46.0542 787.346 38.5426 782.54 L38.5426 777.448 Z\" fill=\"#000000\" fill-rule=\"evenodd\" fill-opacity=\"1\" /><path clip-path=\"url(#clip060)\" d=\"M 0 0 M59.1993 743.55 Q55.2526 741.354 53.3747 738.299 Q51.4968 735.243 51.4968 731.105 Q51.4968 725.535 55.4117 722.512 Q59.2948 719.488 66.4881 719.488 L88.0042 719.488 L88.0042 725.376 L66.679 725.376 Q61.5546 725.376 59.072 727.191 Q56.5894 729.005 56.5894 732.729 Q56.5894 737.28 59.6131 739.922 Q62.6368 742.564 67.8567 742.564 L88.0042 742.564 L88.0042 748.452 L66.679 748.452 Q61.5228 748.452 59.072 750.266 Q56.5894 752.08 56.5894 755.868 Q56.5894 760.356 59.6449 762.998 Q62.6686 765.639 67.8567 765.639 L88.0042 765.639 L88.0042 771.528 L52.3562 771.528 L52.3562 765.639 L57.8944 765.639 Q54.616 763.634 53.0564 760.833 Q51.4968 758.032 51.4968 754.181 Q51.4968 750.298 53.4702 747.593 Q55.4436 744.855 59.1993 743.55 Z\" fill=\"#000000\" fill-rule=\"evenodd\" fill-opacity=\"1\" /><path clip-path=\"url(#clip060)\" d=\"M 0 0 M38.5426 714.268 L38.5426 709.176 Q46.0542 704.401 53.2474 702.046 Q60.4406 699.659 67.5384 699.659 Q74.668 699.659 81.8931 702.046 Q89.1182 704.401 96.5979 709.176 L96.5979 714.268 Q89.3091 710.035 82.1159 707.966 Q74.8908 705.865 67.5384 705.865 Q60.186 705.865 53.0246 707.966 Q45.8632 710.035 38.5426 714.268 Z\" fill=\"#000000\" fill-rule=\"evenodd\" fill-opacity=\"1\" /><polyline clip-path=\"url(#clip062)\" style=\"stroke:#009af9; stroke-width:4; stroke-opacity:1; fill:none\" points=\"\n",
       "  312.176,1386.4 312.176,1361.87 312.171,1337.35 312.181,1312.83 312.181,1288.3 312.176,1263.78 312.181,1239.26 312.176,1214.74 312.176,1190.21 312.176,1165.69 \n",
       "  312.181,1141.17 312.176,1116.64 312.176,1092.12 312.176,1067.6 312.176,1043.08 312.176,1018.55 312.181,994.031 312.195,969.508 312.2,944.985 312.214,920.463 \n",
       "  312.243,895.94 312.3,871.417 312.396,846.894 312.554,822.372 312.817,797.849 313.252,773.326 313.945,748.803 315.031,724.28 316.733,699.758 319.306,675.235 \n",
       "  323.146,650.712 328.774,626.189 336.846,601.666 348.242,577.144 364.027,552.621 385.455,528.098 414.042,503.575 451.451,479.053 499.501,454.53 560.06,430.007 \n",
       "  634.97,405.484 725.899,380.961 834.211,356.439 960.824,331.916 1106.04,307.393 1269.51,282.87 1450.06,258.347 1645.72,233.825 1853.82,209.302 2070.97,184.779 \n",
       "  2293.32,160.256 \n",
       "  \"/>\n",
       "<polyline clip-path=\"url(#clip062)\" style=\"stroke:#e26f46; stroke-width:4; stroke-opacity:1; fill:none\" points=\"\n",
       "  312.176,1386.4 312.176,1386.4 312.176,1374.13 312.176,1374.13 312.176,1374.13 \n",
       "  312.176,1374.13 312.176,1361.87 312.176,1361.87 312.176,1361.87 312.176,1361.87 \n",
       "  312.176,1349.61 312.176,1349.61 312.176,1349.61 312.176,1349.61 312.176,1337.35 312.176,1337.35 \n",
       "  312.176,1337.35 312.176,1337.35 312.176,1325.09 312.176,1325.09 \n",
       "  312.176,1325.09 312.176,1325.09 312.176,1312.83 312.176,1312.83 312.176,1312.83 \n",
       "  312.176,1312.83 312.176,1300.57 312.176,1300.57 312.176,1300.57 312.176,1300.57 \n",
       "  312.176,1288.3 312.176,1288.3 312.176,1288.3 312.176,1288.3 312.176,1276.04 312.176,1276.04 \n",
       "  312.176,1276.04 312.176,1276.04 312.176,1263.78 312.176,1263.78 \n",
       "  312.176,1263.78 312.176,1263.78 312.176,1251.52 312.176,1251.52 312.176,1251.52 \n",
       "  312.176,1251.52 312.176,1239.26 312.176,1239.26 312.176,1239.26 312.176,1239.26 \n",
       "  312.176,1227 312.176,1227 312.176,1227 312.176,1227 312.176,1214.74 312.176,1214.74 \n",
       "  312.176,1214.74 312.176,1214.74 312.176,1202.47 312.176,1202.47 \n",
       "  312.176,1202.47 312.176,1202.47 312.176,1190.21 312.176,1190.21 312.176,1190.21 \n",
       "  312.176,1190.21 312.176,1177.95 312.176,1177.95 312.176,1177.95 312.176,1177.95 \n",
       "  312.176,1165.69 312.176,1165.69 312.176,1165.69 312.176,1165.69 312.176,1153.43 312.176,1153.43 \n",
       "  312.176,1153.43 312.176,1153.43 312.176,1141.17 312.176,1141.17 \n",
       "  312.176,1141.17 312.176,1141.17 312.176,1128.91 312.176,1128.91 312.176,1128.91 \n",
       "  312.176,1128.91 312.176,1116.64 312.176,1116.65 312.176,1116.64 312.176,1116.65 \n",
       "  312.176,1104.38 312.176,1104.38 312.176,1104.38 312.176,1104.38 312.176,1092.12 312.176,1092.12 \n",
       "  312.176,1092.12 312.176,1092.12 312.176,1079.86 312.176,1079.86 \n",
       "  312.176,1079.86 312.176,1079.86 312.176,1067.6 312.176,1067.6 312.176,1067.6 \n",
       "  312.176,1067.6 312.176,1055.34 312.176,1055.34 312.176,1055.34 312.176,1055.34 \n",
       "  312.176,1043.08 312.176,1043.08 312.176,1043.08 312.176,1043.08 312.176,1030.82 312.176,1030.82 \n",
       "  312.176,1030.82 312.176,1030.82 312.176,1018.55 312.176,1018.55 \n",
       "  312.176,1018.55 312.176,1018.55 312.176,1006.29 312.176,1006.29 312.176,1006.29 \n",
       "  312.176,1006.29 312.176,994.031 312.176,994.031 312.176,994.031 312.176,994.031 \n",
       "  312.176,981.77 312.176,981.77 312.176,981.77 312.176,981.77 312.176,969.508 312.176,969.508 \n",
       "  312.176,969.508 312.176,969.508 312.176,957.247 312.176,957.247 \n",
       "  312.176,957.247 312.176,957.247 312.176,944.985 312.176,944.986 312.176,944.985 \n",
       "  312.176,944.986 312.176,932.724 312.176,932.724 312.176,932.724 312.176,932.724 \n",
       "  312.176,920.463 312.176,920.463 312.176,920.463 312.176,920.463 312.176,908.201 312.176,908.201 \n",
       "  312.176,908.201 312.176,908.201 312.176,895.94 312.176,895.94 \n",
       "  312.176,895.94 312.176,895.94 312.176,883.678 312.176,883.679 312.176,883.678 \n",
       "  312.176,883.679 312.176,871.417 312.176,871.417 312.176,871.417 312.176,871.417 \n",
       "  312.176,859.156 312.176,859.156 312.176,859.156 312.176,859.156 312.176,846.894 312.176,846.894 \n",
       "  312.176,846.894 312.176,846.894 312.176,834.633 312.176,834.633 \n",
       "  312.176,834.633 312.176,834.633 312.176,822.372 312.176,822.372 312.176,822.372 \n",
       "  312.176,822.372 312.176,810.11 312.176,810.11 312.176,810.11 312.176,810.11 \n",
       "  312.176,797.849 312.176,797.849 312.176,797.849 312.176,797.849 312.176,785.587 312.176,785.587 \n",
       "  312.176,785.587 312.176,785.587 312.176,773.326 312.176,773.326 \n",
       "  312.176,773.326 312.176,761.065 312.176,761.065 312.176,761.065 \n",
       "  312.176,761.065 312.176,748.803 312.176,748.803 312.176,748.803 312.176,748.803 \n",
       "  312.176,736.542 312.176,736.542 312.176,736.542 312.176,736.542 312.176,724.28 312.176,724.28 \n",
       "  312.176,724.28 312.176,724.28 312.176,712.019 312.176,712.019 \n",
       "  312.176,712.019 312.176,712.019 312.176,699.758 312.176,699.758 312.176,699.758 \n",
       "  312.176,699.758 312.176,687.496 312.176,687.496 312.176,687.496 312.176,687.496 \n",
       "  312.176,675.235 312.176,675.235 312.176,675.235 312.176,675.235 312.176,662.973 312.176,662.973 \n",
       "  312.176,662.973 312.176,662.973 312.176,650.712 312.176,650.712 \n",
       "  312.176,650.712 312.176,650.712 312.176,638.451 312.176,638.451 312.176,638.451 \n",
       "  312.176,638.451 312.176,626.189 312.176,626.189 312.176,626.189 312.176,626.189 \n",
       "  312.176,613.928 312.176,613.928 312.176,613.928 312.176,613.928 312.176,601.666 312.176,601.667 \n",
       "  312.176,601.666 312.176,601.667 312.176,589.405 312.176,589.405 \n",
       "  312.176,589.405 312.176,589.405 312.176,577.144 312.176,577.144 312.176,577.144 \n",
       "  312.176,577.144 312.176,564.882 312.176,564.882 312.176,564.882 312.176,564.882 \n",
       "  312.176,552.621 312.176,552.621 312.176,552.621 312.176,552.621 312.176,540.36 312.176,540.36 \n",
       "  312.176,540.36 312.176,540.36 312.176,528.098 312.176,528.098 \n",
       "  312.176,528.098 312.176,528.098 312.176,515.837 312.176,515.837 312.176,515.837 \n",
       "  312.176,515.837 312.176,503.575 312.176,503.575 312.176,503.575 312.176,503.575 \n",
       "  312.176,491.314 312.176,491.314 312.176,491.314 312.176,491.314 312.176,479.053 312.176,479.053 \n",
       "  312.176,479.053 312.176,479.053 312.176,466.791 312.176,466.791 \n",
       "  312.176,466.791 312.176,454.53 312.176,454.53 \n",
       "  312.176,454.53 312.176,442.268 312.176,442.268 312.176,442.268 312.176,442.268 \n",
       "  312.176,430.007 312.176,430.007 312.176,430.007 312.176,430.007 312.176,417.746 312.176,417.746 \n",
       "  312.176,417.746 312.176,417.746 312.176,405.484 312.176,405.484 \n",
       "  312.176,405.484 312.176,405.484 312.176,393.223 312.176,393.223 312.176,393.223 \n",
       "  312.176,393.223 312.176,380.961 312.176,380.961 312.176,380.961 312.176,380.961 \n",
       "  312.176,368.7 312.176,368.7 312.176,368.7 312.176,368.7 312.176,356.439 312.176,356.439 \n",
       "  312.176,356.439 312.176,356.439 312.176,344.177 312.176,344.177 \n",
       "  312.176,344.177 312.176,344.177 312.176,331.916 312.176,331.916 312.176,331.916 \n",
       "  312.176,331.916 312.176,319.654 312.176,319.654 312.176,319.654 312.176,319.654 \n",
       "  312.176,307.393 312.176,307.393 312.176,307.393 312.176,295.132 312.176,295.132 \n",
       "  312.176,295.132 312.176,295.132 312.176,282.87 312.176,282.87 \n",
       "  312.176,282.87 312.176,282.87 312.176,270.609 312.176,270.609 312.176,270.609 \n",
       "  312.176,270.609 312.176,258.347 312.176,258.347 312.176,258.347 312.176,258.347 \n",
       "  312.176,246.086 312.176,246.086 312.176,246.086 312.176,246.086 312.176,233.825 \n",
       "  312.176,233.825 312.176,233.825 312.176,233.825 312.176,221.563 312.176,221.563 \n",
       "  312.176,221.563 312.176,221.563 312.176,209.302 312.176,209.302 312.176,209.302 \n",
       "  312.176,209.302 312.176,197.04 312.176,197.04 312.176,197.04 312.176,197.04 \n",
       "  312.176,184.779 312.176,184.779 312.176,184.779 312.176,184.779 312.176,172.518 \n",
       "  312.176,172.518 312.176,172.518 312.176,160.256 \n",
       "  \n",
       "  \"/>\n",
       "<path clip-path=\"url(#clip060)\" d=\"\n",
       "M1721.55 348.236 L2282.76 348.236 L2282.76 166.796 L1721.55 166.796  Z\n",
       "  \" fill=\"#ffffff\" fill-rule=\"evenodd\" fill-opacity=\"1\"/>\n",
       "<polyline clip-path=\"url(#clip060)\" style=\"stroke:#000000; stroke-width:4; stroke-opacity:1; fill:none\" points=\"\n",
       "  1721.55,348.236 2282.76,348.236 2282.76,166.796 1721.55,166.796 1721.55,348.236 \n",
       "  \"/>\n",
       "<polyline clip-path=\"url(#clip060)\" style=\"stroke:#009af9; stroke-width:4; stroke-opacity:1; fill:none\" points=\"\n",
       "  1744.88,227.276 1884.89,227.276 \n",
       "  \"/>\n",
       "<path clip-path=\"url(#clip060)\" d=\"M 0 0 M1936.09 212.658 L1936.09 217.588 Q1933.73 215.389 1931.04 214.301 Q1928.38 213.213 1925.37 213.213 Q1919.45 213.213 1916.3 216.848 Q1913.15 220.459 1913.15 227.31 Q1913.15 234.139 1916.3 237.773 Q1919.45 241.384 1925.37 241.384 Q1928.38 241.384 1931.04 240.296 Q1933.73 239.209 1936.09 237.009 L1936.09 241.894 Q1933.64 243.56 1930.88 244.394 Q1928.15 245.227 1925.09 245.227 Q1917.25 245.227 1912.73 240.435 Q1908.22 235.621 1908.22 227.31 Q1908.22 218.977 1912.73 214.186 Q1917.25 209.371 1925.09 209.371 Q1928.2 209.371 1930.93 210.204 Q1933.68 211.014 1936.09 212.658 Z\" fill=\"#000000\" fill-rule=\"evenodd\" fill-opacity=\"1\" /><path clip-path=\"url(#clip060)\" d=\"M 0 0 M1940.56 208.537 L1944.82 208.537 L1944.82 244.556 L1940.56 244.556 L1940.56 208.537 Z\" fill=\"#000000\" fill-rule=\"evenodd\" fill-opacity=\"1\" /><path clip-path=\"url(#clip060)\" d=\"M 0 0 M1949.28 218.63 L1953.54 218.63 L1953.54 244.556 L1949.28 244.556 L1949.28 218.63 M1949.28 208.537 L1953.54 208.537 L1953.54 213.931 L1949.28 213.931 L1949.28 208.537 Z\" fill=\"#000000\" fill-rule=\"evenodd\" fill-opacity=\"1\" /><path clip-path=\"url(#clip060)\" d=\"M 0 0 M1978.2 223.607 Q1979.79 220.736 1982.02 219.371 Q1984.24 218.005 1987.25 218.005 Q1991.3 218.005 1993.5 220.852 Q1995.7 223.676 1995.7 228.908 L1995.7 244.556 L1991.41 244.556 L1991.41 229.047 Q1991.41 225.32 1990.09 223.514 Q1988.77 221.709 1986.07 221.709 Q1982.76 221.709 1980.83 223.908 Q1978.91 226.107 1978.91 229.903 L1978.91 244.556 L1974.63 244.556 L1974.63 229.047 Q1974.63 225.297 1973.31 223.514 Q1971.99 221.709 1969.24 221.709 Q1965.97 221.709 1964.05 223.931 Q1962.13 226.13 1962.13 229.903 L1962.13 244.556 L1957.85 244.556 L1957.85 218.63 L1962.13 218.63 L1962.13 222.658 Q1963.59 220.273 1965.63 219.139 Q1967.66 218.005 1970.46 218.005 Q1973.29 218.005 1975.26 219.44 Q1977.25 220.875 1978.2 223.607 Z\" fill=\"#000000\" fill-rule=\"evenodd\" fill-opacity=\"1\" /><path clip-path=\"url(#clip060)\" d=\"M 0 0 M2011.95 231.523 Q2006.78 231.523 2004.79 232.704 Q2002.8 233.884 2002.8 236.732 Q2002.8 239 2004.28 240.343 Q2005.79 241.662 2008.36 241.662 Q2011.9 241.662 2014.03 239.162 Q2016.18 236.639 2016.18 232.472 L2016.18 231.523 L2011.95 231.523 M2020.44 229.764 L2020.44 244.556 L2016.18 244.556 L2016.18 240.621 Q2014.72 242.982 2012.55 244.116 Q2010.37 245.227 2007.22 245.227 Q2003.24 245.227 2000.88 243.005 Q1998.54 240.759 1998.54 237.009 Q1998.54 232.634 2001.46 230.412 Q2004.4 228.19 2010.21 228.19 L2016.18 228.19 L2016.18 227.773 Q2016.18 224.834 2014.24 223.236 Q2012.32 221.616 2008.82 221.616 Q2006.6 221.616 2004.49 222.148 Q2002.39 222.681 2000.44 223.746 L2000.44 219.81 Q2002.78 218.908 2004.98 218.468 Q2007.18 218.005 2009.26 218.005 Q2014.89 218.005 2017.66 220.922 Q2020.44 223.838 2020.44 229.764 Z\" fill=\"#000000\" fill-rule=\"evenodd\" fill-opacity=\"1\" /><path clip-path=\"url(#clip060)\" d=\"M 0 0 M2029.12 211.269 L2029.12 218.63 L2037.89 218.63 L2037.89 221.94 L2029.12 221.94 L2029.12 236.014 Q2029.12 239.185 2029.98 240.088 Q2030.86 240.991 2033.52 240.991 L2037.89 240.991 L2037.89 244.556 L2033.52 244.556 Q2028.59 244.556 2026.71 242.727 Q2024.84 240.875 2024.84 236.014 L2024.84 221.94 L2021.71 221.94 L2021.71 218.63 L2024.84 218.63 L2024.84 211.269 L2029.12 211.269 Z\" fill=\"#000000\" fill-rule=\"evenodd\" fill-opacity=\"1\" /><path clip-path=\"url(#clip060)\" d=\"M 0 0 M2064.54 230.528 L2064.54 232.611 L2044.95 232.611 Q2045.23 237.009 2047.59 239.324 Q2049.98 241.616 2054.21 241.616 Q2056.67 241.616 2058.96 241.014 Q2061.27 240.412 2063.54 239.209 L2063.54 243.236 Q2061.25 244.208 2058.84 244.718 Q2056.44 245.227 2053.96 245.227 Q2047.76 245.227 2044.12 241.616 Q2040.51 238.005 2040.51 231.847 Q2040.51 225.482 2043.94 221.755 Q2047.39 218.005 2053.22 218.005 Q2058.45 218.005 2061.48 221.385 Q2064.54 224.741 2064.54 230.528 M2060.28 229.278 Q2060.23 225.783 2058.31 223.699 Q2056.41 221.616 2053.27 221.616 Q2049.7 221.616 2047.55 223.63 Q2045.42 225.644 2045.09 229.301 L2060.28 229.278 Z\" fill=\"#000000\" fill-rule=\"evenodd\" fill-opacity=\"1\" /><path clip-path=\"url(#clip060)\" d=\"M 0 0 M2069.19 209.996 L2076.16 209.996 L2084.98 233.514 L2093.84 209.996 L2100.81 209.996 L2100.81 244.556 L2096.25 244.556 L2096.25 214.209 L2087.34 237.912 L2082.64 237.912 L2073.73 214.209 L2073.73 244.556 L2069.19 244.556 L2069.19 209.996 Z\" fill=\"#000000\" fill-rule=\"evenodd\" fill-opacity=\"1\" /><path clip-path=\"url(#clip060)\" d=\"M 0 0 M2117.06 231.523 Q2111.9 231.523 2109.91 232.704 Q2107.92 233.884 2107.92 236.732 Q2107.92 239 2109.4 240.343 Q2110.9 241.662 2113.47 241.662 Q2117.01 241.662 2119.14 239.162 Q2121.3 236.639 2121.3 232.472 L2121.3 231.523 L2117.06 231.523 M2125.56 229.764 L2125.56 244.556 L2121.3 244.556 L2121.3 240.621 Q2119.84 242.982 2117.66 244.116 Q2115.49 245.227 2112.34 245.227 Q2108.36 245.227 2106 243.005 Q2103.66 240.759 2103.66 237.009 Q2103.66 232.634 2106.57 230.412 Q2109.51 228.19 2115.32 228.19 L2121.3 228.19 L2121.3 227.773 Q2121.3 224.834 2119.35 223.236 Q2117.43 221.616 2113.94 221.616 Q2111.71 221.616 2109.61 222.148 Q2107.5 222.681 2105.56 223.746 L2105.56 219.81 Q2107.89 218.908 2110.09 218.468 Q2112.29 218.005 2114.38 218.005 Q2120 218.005 2122.78 220.922 Q2125.56 223.838 2125.56 229.764 Z\" fill=\"#000000\" fill-rule=\"evenodd\" fill-opacity=\"1\" /><path clip-path=\"url(#clip060)\" d=\"M 0 0 M2148.68 219.625 L2148.68 223.607 Q2146.88 222.611 2145.05 222.125 Q2143.24 221.616 2141.39 221.616 Q2137.25 221.616 2134.95 224.255 Q2132.66 226.871 2132.66 231.616 Q2132.66 236.361 2134.95 239 Q2137.25 241.616 2141.39 241.616 Q2143.24 241.616 2145.05 241.13 Q2146.88 240.621 2148.68 239.625 L2148.68 243.56 Q2146.9 244.394 2144.98 244.81 Q2143.08 245.227 2140.93 245.227 Q2135.07 245.227 2131.62 241.546 Q2128.17 237.866 2128.17 231.616 Q2128.17 225.273 2131.64 221.639 Q2135.14 218.005 2141.2 218.005 Q2143.17 218.005 2145.05 218.422 Q2146.92 218.815 2148.68 219.625 Z\" fill=\"#000000\" fill-rule=\"evenodd\" fill-opacity=\"1\" /><path clip-path=\"url(#clip060)\" d=\"M 0 0 M2174.7 228.908 L2174.7 244.556 L2170.44 244.556 L2170.44 229.047 Q2170.44 225.366 2169.01 223.537 Q2167.57 221.709 2164.7 221.709 Q2161.25 221.709 2159.26 223.908 Q2157.27 226.107 2157.27 229.903 L2157.27 244.556 L2152.99 244.556 L2152.99 208.537 L2157.27 208.537 L2157.27 222.658 Q2158.8 220.32 2160.86 219.162 Q2162.94 218.005 2165.65 218.005 Q2170.12 218.005 2172.41 220.783 Q2174.7 223.537 2174.7 228.908 Z\" fill=\"#000000\" fill-rule=\"evenodd\" fill-opacity=\"1\" /><path clip-path=\"url(#clip060)\" d=\"M 0 0 M2179.17 218.63 L2183.43 218.63 L2183.43 244.556 L2179.17 244.556 L2179.17 218.63 M2179.17 208.537 L2183.43 208.537 L2183.43 213.931 L2179.17 213.931 L2179.17 208.537 Z\" fill=\"#000000\" fill-rule=\"evenodd\" fill-opacity=\"1\" /><path clip-path=\"url(#clip060)\" d=\"M 0 0 M2209.44 228.908 L2209.44 244.556 L2205.19 244.556 L2205.19 229.047 Q2205.19 225.366 2203.75 223.537 Q2202.32 221.709 2199.44 221.709 Q2196 221.709 2194.01 223.908 Q2192.01 226.107 2192.01 229.903 L2192.01 244.556 L2187.73 244.556 L2187.73 218.63 L2192.01 218.63 L2192.01 222.658 Q2193.54 220.32 2195.6 219.162 Q2197.69 218.005 2200.39 218.005 Q2204.86 218.005 2207.15 220.783 Q2209.44 223.537 2209.44 228.908 Z\" fill=\"#000000\" fill-rule=\"evenodd\" fill-opacity=\"1\" /><path clip-path=\"url(#clip060)\" d=\"M 0 0 M2236.09 230.528 L2236.09 232.611 L2216.5 232.611 Q2216.78 237.009 2219.14 239.324 Q2221.53 241.616 2225.76 241.616 Q2228.22 241.616 2230.51 241.014 Q2232.82 240.412 2235.09 239.209 L2235.09 243.236 Q2232.8 244.208 2230.39 244.718 Q2227.99 245.227 2225.51 245.227 Q2219.31 245.227 2215.67 241.616 Q2212.06 238.005 2212.06 231.847 Q2212.06 225.482 2215.49 221.755 Q2218.94 218.005 2224.77 218.005 Q2230 218.005 2233.03 221.385 Q2236.09 224.741 2236.09 230.528 M2231.83 229.278 Q2231.78 225.783 2229.86 223.699 Q2227.96 221.616 2224.82 221.616 Q2221.25 221.616 2219.1 223.63 Q2216.97 225.644 2216.64 229.301 L2231.83 229.278 Z\" fill=\"#000000\" fill-rule=\"evenodd\" fill-opacity=\"1\" /><polyline clip-path=\"url(#clip060)\" style=\"stroke:#e26f46; stroke-width:4; stroke-opacity:1; fill:none\" points=\"\n",
       "  1744.88,287.756 1884.89,287.756 \n",
       "  \"/>\n",
       "<path clip-path=\"url(#clip060)\" d=\"M 0 0 M1908.22 270.476 L1912.9 270.476 L1912.9 305.036 L1908.22 305.036 L1908.22 270.476 Z\" fill=\"#000000\" fill-rule=\"evenodd\" fill-opacity=\"1\" /><path clip-path=\"url(#clip060)\" d=\"M 0 0 M1938.91 289.388 L1938.91 305.036 L1934.65 305.036 L1934.65 289.527 Q1934.65 285.846 1933.22 284.017 Q1931.78 282.189 1928.91 282.189 Q1925.46 282.189 1923.47 284.388 Q1921.48 286.587 1921.48 290.383 L1921.48 305.036 L1917.2 305.036 L1917.2 279.11 L1921.48 279.11 L1921.48 283.138 Q1923.01 280.8 1925.07 279.642 Q1927.15 278.485 1929.86 278.485 Q1934.33 278.485 1936.62 281.263 Q1938.91 284.017 1938.91 289.388 Z\" fill=\"#000000\" fill-rule=\"evenodd\" fill-opacity=\"1\" /><path clip-path=\"url(#clip060)\" d=\"M 0 0 M1943.38 279.11 L1947.64 279.11 L1947.64 305.036 L1943.38 305.036 L1943.38 279.11 M1943.38 269.017 L1947.64 269.017 L1947.64 274.411 L1943.38 274.411 L1943.38 269.017 Z\" fill=\"#000000\" fill-rule=\"evenodd\" fill-opacity=\"1\" /><path clip-path=\"url(#clip060)\" d=\"M 0 0 M1956.32 271.749 L1956.32 279.11 L1965.09 279.11 L1965.09 282.42 L1956.32 282.42 L1956.32 296.494 Q1956.32 299.665 1957.18 300.568 Q1958.06 301.471 1960.72 301.471 L1965.09 301.471 L1965.09 305.036 L1960.72 305.036 Q1955.79 305.036 1953.91 303.207 Q1952.04 301.355 1952.04 296.494 L1952.04 282.42 L1948.91 282.42 L1948.91 279.11 L1952.04 279.11 L1952.04 271.749 L1956.32 271.749 Z\" fill=\"#000000\" fill-rule=\"evenodd\" fill-opacity=\"1\" /><path clip-path=\"url(#clip060)\" d=\"M 0 0 M1969.56 279.11 L1973.82 279.11 L1973.82 305.036 L1969.56 305.036 L1969.56 279.11 M1969.56 269.017 L1973.82 269.017 L1973.82 274.411 L1969.56 274.411 L1969.56 269.017 Z\" fill=\"#000000\" fill-rule=\"evenodd\" fill-opacity=\"1\" /><path clip-path=\"url(#clip060)\" d=\"M 0 0 M1990.07 292.003 Q1984.91 292.003 1982.92 293.184 Q1980.93 294.364 1980.93 297.212 Q1980.93 299.48 1982.41 300.823 Q1983.91 302.142 1986.48 302.142 Q1990.02 302.142 1992.15 299.642 Q1994.31 297.119 1994.31 292.952 L1994.31 292.003 L1990.07 292.003 M1998.57 290.244 L1998.57 305.036 L1994.31 305.036 L1994.31 301.101 Q1992.85 303.462 1990.67 304.596 Q1988.5 305.707 1985.35 305.707 Q1981.37 305.707 1979.01 303.485 Q1976.67 301.239 1976.67 297.489 Q1976.67 293.114 1979.58 290.892 Q1982.52 288.67 1988.33 288.67 L1994.31 288.67 L1994.31 288.253 Q1994.31 285.314 1992.36 283.716 Q1990.44 282.096 1986.95 282.096 Q1984.72 282.096 1982.62 282.628 Q1980.51 283.161 1978.57 284.226 L1978.57 280.29 Q1980.9 279.388 1983.1 278.948 Q1985.3 278.485 1987.39 278.485 Q1993.01 278.485 1995.79 281.402 Q1998.57 284.318 1998.57 290.244 Z\" fill=\"#000000\" fill-rule=\"evenodd\" fill-opacity=\"1\" /><path clip-path=\"url(#clip060)\" d=\"M 0 0 M2003.03 269.017 L2007.29 269.017 L2007.29 305.036 L2003.03 305.036 L2003.03 269.017 Z\" fill=\"#000000\" fill-rule=\"evenodd\" fill-opacity=\"1\" /><path clip-path=\"url(#clip060)\" d=\"M 0 0 M2045.49 280.105 L2045.49 284.087 Q2043.68 283.091 2041.85 282.605 Q2040.05 282.096 2038.2 282.096 Q2034.05 282.096 2031.76 284.735 Q2029.47 287.351 2029.47 292.096 Q2029.47 296.841 2031.76 299.48 Q2034.05 302.096 2038.2 302.096 Q2040.05 302.096 2041.85 301.61 Q2043.68 301.101 2045.49 300.105 L2045.49 304.04 Q2043.7 304.874 2041.78 305.29 Q2039.89 305.707 2037.73 305.707 Q2031.88 305.707 2028.43 302.026 Q2024.98 298.346 2024.98 292.096 Q2024.98 285.753 2028.45 282.119 Q2031.95 278.485 2038.01 278.485 Q2039.98 278.485 2041.85 278.902 Q2043.73 279.295 2045.49 280.105 Z\" fill=\"#000000\" fill-rule=\"evenodd\" fill-opacity=\"1\" /><path clip-path=\"url(#clip060)\" d=\"M 0 0 M2060 282.096 Q2056.58 282.096 2054.58 284.781 Q2052.59 287.443 2052.59 292.096 Q2052.59 296.749 2054.56 299.434 Q2056.55 302.096 2060 302.096 Q2063.4 302.096 2065.39 299.411 Q2067.39 296.726 2067.39 292.096 Q2067.39 287.49 2065.39 284.804 Q2063.4 282.096 2060 282.096 M2060 278.485 Q2065.56 278.485 2068.73 282.096 Q2071.9 285.707 2071.9 292.096 Q2071.9 298.462 2068.73 302.096 Q2065.56 305.707 2060 305.707 Q2054.42 305.707 2051.25 302.096 Q2048.1 298.462 2048.1 292.096 Q2048.1 285.707 2051.25 282.096 Q2054.42 278.485 2060 278.485 Z\" fill=\"#000000\" fill-rule=\"evenodd\" fill-opacity=\"1\" /><path clip-path=\"url(#clip060)\" d=\"M 0 0 M2097.92 289.388 L2097.92 305.036 L2093.66 305.036 L2093.66 289.527 Q2093.66 285.846 2092.22 284.017 Q2090.79 282.189 2087.92 282.189 Q2084.47 282.189 2082.48 284.388 Q2080.49 286.587 2080.49 290.383 L2080.49 305.036 L2076.2 305.036 L2076.2 279.11 L2080.49 279.11 L2080.49 283.138 Q2082.01 280.8 2084.08 279.642 Q2086.16 278.485 2088.87 278.485 Q2093.33 278.485 2095.63 281.263 Q2097.92 284.017 2097.92 289.388 Z\" fill=\"#000000\" fill-rule=\"evenodd\" fill-opacity=\"1\" /><path clip-path=\"url(#clip060)\" d=\"M 0 0 M2119.45 283.045 L2119.45 269.017 L2123.7 269.017 L2123.7 305.036 L2119.45 305.036 L2119.45 301.147 Q2118.1 303.462 2116.04 304.596 Q2114.01 305.707 2111.14 305.707 Q2106.44 305.707 2103.47 301.957 Q2100.53 298.207 2100.53 292.096 Q2100.53 285.985 2103.47 282.235 Q2106.44 278.485 2111.14 278.485 Q2114.01 278.485 2116.04 279.619 Q2118.1 280.73 2119.45 283.045 M2104.93 292.096 Q2104.93 296.795 2106.85 299.48 Q2108.8 302.142 2112.18 302.142 Q2115.56 302.142 2117.5 299.48 Q2119.45 296.795 2119.45 292.096 Q2119.45 287.397 2117.5 284.735 Q2115.56 282.05 2112.18 282.05 Q2108.8 282.05 2106.85 284.735 Q2104.93 287.397 2104.93 292.096 Z\" fill=\"#000000\" fill-rule=\"evenodd\" fill-opacity=\"1\" /><path clip-path=\"url(#clip060)\" d=\"M 0 0 M2128.17 279.11 L2132.43 279.11 L2132.43 305.036 L2128.17 305.036 L2128.17 279.11 M2128.17 269.017 L2132.43 269.017 L2132.43 274.411 L2128.17 274.411 L2128.17 269.017 Z\" fill=\"#000000\" fill-rule=\"evenodd\" fill-opacity=\"1\" /><path clip-path=\"url(#clip060)\" d=\"M 0 0 M2141.11 271.749 L2141.11 279.11 L2149.88 279.11 L2149.88 282.42 L2141.11 282.42 L2141.11 296.494 Q2141.11 299.665 2141.97 300.568 Q2142.85 301.471 2145.51 301.471 L2149.88 301.471 L2149.88 305.036 L2145.51 305.036 Q2140.58 305.036 2138.7 303.207 Q2136.83 301.355 2136.83 296.494 L2136.83 282.42 L2133.7 282.42 L2133.7 279.11 L2136.83 279.11 L2136.83 271.749 L2141.11 271.749 Z\" fill=\"#000000\" fill-rule=\"evenodd\" fill-opacity=\"1\" /><path clip-path=\"url(#clip060)\" d=\"M 0 0 M2154.35 279.11 L2158.61 279.11 L2158.61 305.036 L2154.35 305.036 L2154.35 279.11 M2154.35 269.017 L2158.61 269.017 L2158.61 274.411 L2154.35 274.411 L2154.35 269.017 Z\" fill=\"#000000\" fill-rule=\"evenodd\" fill-opacity=\"1\" /><path clip-path=\"url(#clip060)\" d=\"M 0 0 M2173.13 282.096 Q2169.7 282.096 2167.71 284.781 Q2165.72 287.443 2165.72 292.096 Q2165.72 296.749 2167.69 299.434 Q2169.68 302.096 2173.13 302.096 Q2176.53 302.096 2178.52 299.411 Q2180.51 296.726 2180.51 292.096 Q2180.51 287.49 2178.52 284.804 Q2176.53 282.096 2173.13 282.096 M2173.13 278.485 Q2178.68 278.485 2181.85 282.096 Q2185.02 285.707 2185.02 292.096 Q2185.02 298.462 2181.85 302.096 Q2178.68 305.707 2173.13 305.707 Q2167.55 305.707 2164.38 302.096 Q2161.23 298.462 2161.23 292.096 Q2161.23 285.707 2164.38 282.096 Q2167.55 278.485 2173.13 278.485 Z\" fill=\"#000000\" fill-rule=\"evenodd\" fill-opacity=\"1\" /><path clip-path=\"url(#clip060)\" d=\"M 0 0 M2211.04 289.388 L2211.04 305.036 L2206.78 305.036 L2206.78 289.527 Q2206.78 285.846 2205.35 284.017 Q2203.91 282.189 2201.04 282.189 Q2197.59 282.189 2195.6 284.388 Q2193.61 286.587 2193.61 290.383 L2193.61 305.036 L2189.33 305.036 L2189.33 279.11 L2193.61 279.11 L2193.61 283.138 Q2195.14 280.8 2197.2 279.642 Q2199.28 278.485 2201.99 278.485 Q2206.46 278.485 2208.75 281.263 Q2211.04 284.017 2211.04 289.388 Z\" fill=\"#000000\" fill-rule=\"evenodd\" fill-opacity=\"1\" /></svg>\n"
      ],
      "image/svg+xml": [
       "<?xml version=\"1.0\" encoding=\"utf-8\"?>\n",
       "<svg xmlns=\"http://www.w3.org/2000/svg\" xmlns:xlink=\"http://www.w3.org/1999/xlink\" width=\"600\" height=\"400\" viewBox=\"0 0 2400 1600\">\n",
       "<defs>\n",
       "  <clipPath id=\"clip030\">\n",
       "    <rect x=\"0\" y=\"0\" width=\"2400\" height=\"1600\"/>\n",
       "  </clipPath>\n",
       "</defs>\n",
       "<path clip-path=\"url(#clip030)\" d=\"\n",
       "M0 1600 L2400 1600 L2400 0 L0 0  Z\n",
       "  \" fill=\"#ffffff\" fill-rule=\"evenodd\" fill-opacity=\"1\"/>\n",
       "<defs>\n",
       "  <clipPath id=\"clip031\">\n",
       "    <rect x=\"480\" y=\"0\" width=\"1681\" height=\"1600\"/>\n",
       "  </clipPath>\n",
       "</defs>\n",
       "<path clip-path=\"url(#clip030)\" d=\"\n",
       "M252.736 1423.18 L2352.76 1423.18 L2352.76 123.472 L252.736 123.472  Z\n",
       "  \" fill=\"#ffffff\" fill-rule=\"evenodd\" fill-opacity=\"1\"/>\n",
       "<defs>\n",
       "  <clipPath id=\"clip032\">\n",
       "    <rect x=\"252\" y=\"123\" width=\"2101\" height=\"1301\"/>\n",
       "  </clipPath>\n",
       "</defs>\n",
       "<polyline clip-path=\"url(#clip032)\" style=\"stroke:#000000; stroke-width:2; stroke-opacity:0.1; fill:none\" points=\"\n",
       "  445.369,1423.18 445.369,123.472 \n",
       "  \"/>\n",
       "<polyline clip-path=\"url(#clip032)\" style=\"stroke:#000000; stroke-width:2; stroke-opacity:0.1; fill:none\" points=\"\n",
       "  758.761,1423.18 758.761,123.472 \n",
       "  \"/>\n",
       "<polyline clip-path=\"url(#clip032)\" style=\"stroke:#000000; stroke-width:2; stroke-opacity:0.1; fill:none\" points=\"\n",
       "  1072.15,1423.18 1072.15,123.472 \n",
       "  \"/>\n",
       "<polyline clip-path=\"url(#clip032)\" style=\"stroke:#000000; stroke-width:2; stroke-opacity:0.1; fill:none\" points=\"\n",
       "  1385.55,1423.18 1385.55,123.472 \n",
       "  \"/>\n",
       "<polyline clip-path=\"url(#clip032)\" style=\"stroke:#000000; stroke-width:2; stroke-opacity:0.1; fill:none\" points=\"\n",
       "  1698.94,1423.18 1698.94,123.472 \n",
       "  \"/>\n",
       "<polyline clip-path=\"url(#clip032)\" style=\"stroke:#000000; stroke-width:2; stroke-opacity:0.1; fill:none\" points=\"\n",
       "  2012.33,1423.18 2012.33,123.472 \n",
       "  \"/>\n",
       "<polyline clip-path=\"url(#clip032)\" style=\"stroke:#000000; stroke-width:2; stroke-opacity:0.1; fill:none\" points=\"\n",
       "  2325.72,1423.18 2325.72,123.472 \n",
       "  \"/>\n",
       "<polyline clip-path=\"url(#clip032)\" style=\"stroke:#000000; stroke-width:2; stroke-opacity:0.1; fill:none\" points=\"\n",
       "  252.736,1386.4 2352.76,1386.4 \n",
       "  \"/>\n",
       "<polyline clip-path=\"url(#clip032)\" style=\"stroke:#000000; stroke-width:2; stroke-opacity:0.1; fill:none\" points=\"\n",
       "  252.736,1079.86 2352.76,1079.86 \n",
       "  \"/>\n",
       "<polyline clip-path=\"url(#clip032)\" style=\"stroke:#000000; stroke-width:2; stroke-opacity:0.1; fill:none\" points=\"\n",
       "  252.736,773.326 2352.76,773.326 \n",
       "  \"/>\n",
       "<polyline clip-path=\"url(#clip032)\" style=\"stroke:#000000; stroke-width:2; stroke-opacity:0.1; fill:none\" points=\"\n",
       "  252.736,466.791 2352.76,466.791 \n",
       "  \"/>\n",
       "<polyline clip-path=\"url(#clip032)\" style=\"stroke:#000000; stroke-width:2; stroke-opacity:0.1; fill:none\" points=\"\n",
       "  252.736,160.256 2352.76,160.256 \n",
       "  \"/>\n",
       "<polyline clip-path=\"url(#clip030)\" style=\"stroke:#000000; stroke-width:4; stroke-opacity:1; fill:none\" points=\"\n",
       "  252.736,1423.18 2352.76,1423.18 \n",
       "  \"/>\n",
       "<polyline clip-path=\"url(#clip030)\" style=\"stroke:#000000; stroke-width:4; stroke-opacity:1; fill:none\" points=\"\n",
       "  252.736,1423.18 252.736,123.472 \n",
       "  \"/>\n",
       "<polyline clip-path=\"url(#clip030)\" style=\"stroke:#000000; stroke-width:4; stroke-opacity:1; fill:none\" points=\"\n",
       "  445.369,1423.18 445.369,1407.58 \n",
       "  \"/>\n",
       "<polyline clip-path=\"url(#clip030)\" style=\"stroke:#000000; stroke-width:4; stroke-opacity:1; fill:none\" points=\"\n",
       "  758.761,1423.18 758.761,1407.58 \n",
       "  \"/>\n",
       "<polyline clip-path=\"url(#clip030)\" style=\"stroke:#000000; stroke-width:4; stroke-opacity:1; fill:none\" points=\"\n",
       "  1072.15,1423.18 1072.15,1407.58 \n",
       "  \"/>\n",
       "<polyline clip-path=\"url(#clip030)\" style=\"stroke:#000000; stroke-width:4; stroke-opacity:1; fill:none\" points=\"\n",
       "  1385.55,1423.18 1385.55,1407.58 \n",
       "  \"/>\n",
       "<polyline clip-path=\"url(#clip030)\" style=\"stroke:#000000; stroke-width:4; stroke-opacity:1; fill:none\" points=\"\n",
       "  1698.94,1423.18 1698.94,1407.58 \n",
       "  \"/>\n",
       "<polyline clip-path=\"url(#clip030)\" style=\"stroke:#000000; stroke-width:4; stroke-opacity:1; fill:none\" points=\"\n",
       "  2012.33,1423.18 2012.33,1407.58 \n",
       "  \"/>\n",
       "<polyline clip-path=\"url(#clip030)\" style=\"stroke:#000000; stroke-width:4; stroke-opacity:1; fill:none\" points=\"\n",
       "  2325.72,1423.18 2325.72,1407.58 \n",
       "  \"/>\n",
       "<polyline clip-path=\"url(#clip030)\" style=\"stroke:#000000; stroke-width:4; stroke-opacity:1; fill:none\" points=\"\n",
       "  252.736,1386.4 277.937,1386.4 \n",
       "  \"/>\n",
       "<polyline clip-path=\"url(#clip030)\" style=\"stroke:#000000; stroke-width:4; stroke-opacity:1; fill:none\" points=\"\n",
       "  252.736,1079.86 277.937,1079.86 \n",
       "  \"/>\n",
       "<polyline clip-path=\"url(#clip030)\" style=\"stroke:#000000; stroke-width:4; stroke-opacity:1; fill:none\" points=\"\n",
       "  252.736,773.326 277.937,773.326 \n",
       "  \"/>\n",
       "<polyline clip-path=\"url(#clip030)\" style=\"stroke:#000000; stroke-width:4; stroke-opacity:1; fill:none\" points=\"\n",
       "  252.736,466.791 277.937,466.791 \n",
       "  \"/>\n",
       "<polyline clip-path=\"url(#clip030)\" style=\"stroke:#000000; stroke-width:4; stroke-opacity:1; fill:none\" points=\"\n",
       "  252.736,160.256 277.937,160.256 \n",
       "  \"/>\n",
       "<path clip-path=\"url(#clip030)\" d=\"M 0 0 M413.378 1472.72 L429.697 1472.72 L429.697 1476.65 L407.753 1476.65 L407.753 1472.72 Q410.415 1469.96 414.998 1465.33 Q419.605 1460.68 420.785 1459.34 Q423.031 1456.81 423.91 1455.08 Q424.813 1453.32 424.813 1451.63 Q424.813 1448.87 422.869 1447.14 Q420.947 1445.4 417.846 1445.4 Q415.647 1445.4 413.193 1446.17 Q410.762 1446.93 407.985 1448.48 L407.985 1443.76 Q410.809 1442.62 413.262 1442.05 Q415.716 1441.47 417.753 1441.47 Q423.123 1441.47 426.318 1444.15 Q429.512 1446.84 429.512 1451.33 Q429.512 1453.46 428.702 1455.38 Q427.915 1457.28 425.808 1459.87 Q425.23 1460.54 422.128 1463.76 Q419.026 1466.95 413.378 1472.72 Z\" fill=\"#000000\" fill-rule=\"evenodd\" fill-opacity=\"1\" /><path clip-path=\"url(#clip030)\" d=\"M 0 0 M433.586 1442.09 L455.808 1442.09 L455.808 1444.08 L443.262 1476.65 L438.378 1476.65 L450.183 1446.03 L433.586 1446.03 L433.586 1442.09 Z\" fill=\"#000000\" fill-rule=\"evenodd\" fill-opacity=\"1\" /><path clip-path=\"url(#clip030)\" d=\"M 0 0 M471.456 1457.51 Q468.308 1457.51 466.456 1459.66 Q464.628 1461.81 464.628 1465.56 Q464.628 1469.29 466.456 1471.47 Q468.308 1473.62 471.456 1473.62 Q474.605 1473.62 476.433 1471.47 Q478.285 1469.29 478.285 1465.56 Q478.285 1461.81 476.433 1459.66 Q474.605 1457.51 471.456 1457.51 M480.739 1442.86 L480.739 1447.11 Q478.979 1446.28 477.174 1445.84 Q475.392 1445.4 473.632 1445.4 Q469.003 1445.4 466.549 1448.53 Q464.118 1451.65 463.771 1457.97 Q465.137 1455.96 467.197 1454.89 Q469.257 1453.8 471.734 1453.8 Q476.942 1453.8 479.952 1456.98 Q482.984 1460.12 482.984 1465.56 Q482.984 1470.89 479.836 1474.11 Q476.688 1477.32 471.456 1477.32 Q465.461 1477.32 462.29 1472.74 Q459.118 1468.13 459.118 1459.41 Q459.118 1451.21 463.007 1446.35 Q466.896 1441.47 473.447 1441.47 Q475.206 1441.47 476.989 1441.81 Q478.794 1442.16 480.739 1442.86 Z\" fill=\"#000000\" fill-rule=\"evenodd\" fill-opacity=\"1\" /><path clip-path=\"url(#clip030)\" d=\"M 0 0 M726.898 1472.72 L743.217 1472.72 L743.217 1476.65 L721.273 1476.65 L721.273 1472.72 Q723.935 1469.96 728.518 1465.33 Q733.125 1460.68 734.305 1459.34 Q736.551 1456.81 737.43 1455.08 Q738.333 1453.32 738.333 1451.63 Q738.333 1448.87 736.389 1447.14 Q734.467 1445.4 731.365 1445.4 Q729.166 1445.4 726.713 1446.17 Q724.282 1446.93 721.504 1448.48 L721.504 1443.76 Q724.328 1442.62 726.782 1442.05 Q729.236 1441.47 731.273 1441.47 Q736.643 1441.47 739.838 1444.15 Q743.032 1446.84 743.032 1451.33 Q743.032 1453.46 742.222 1455.38 Q741.435 1457.28 739.328 1459.87 Q738.75 1460.54 735.648 1463.76 Q732.546 1466.95 726.898 1472.72 Z\" fill=\"#000000\" fill-rule=\"evenodd\" fill-opacity=\"1\" /><path clip-path=\"url(#clip030)\" d=\"M 0 0 M747.106 1442.09 L769.328 1442.09 L769.328 1444.08 L756.782 1476.65 L751.898 1476.65 L763.703 1446.03 L747.106 1446.03 L747.106 1442.09 Z\" fill=\"#000000\" fill-rule=\"evenodd\" fill-opacity=\"1\" /><path clip-path=\"url(#clip030)\" d=\"M 0 0 M784.398 1460.24 Q781.064 1460.24 779.143 1462.02 Q777.245 1463.8 777.245 1466.93 Q777.245 1470.05 779.143 1471.84 Q781.064 1473.62 784.398 1473.62 Q787.731 1473.62 789.652 1471.84 Q791.573 1470.03 791.573 1466.93 Q791.573 1463.8 789.652 1462.02 Q787.754 1460.24 784.398 1460.24 M779.722 1458.25 Q776.712 1457.51 775.023 1455.45 Q773.356 1453.39 773.356 1450.43 Q773.356 1446.28 776.296 1443.87 Q779.259 1441.47 784.398 1441.47 Q789.56 1441.47 792.499 1443.87 Q795.439 1446.28 795.439 1450.43 Q795.439 1453.39 793.749 1455.45 Q792.083 1457.51 789.097 1458.25 Q792.476 1459.04 794.351 1461.33 Q796.249 1463.62 796.249 1466.93 Q796.249 1471.95 793.171 1474.64 Q790.115 1477.32 784.398 1477.32 Q778.68 1477.32 775.601 1474.64 Q772.546 1471.95 772.546 1466.93 Q772.546 1463.62 774.444 1461.33 Q776.342 1459.04 779.722 1458.25 M778.009 1450.86 Q778.009 1453.55 779.675 1455.05 Q781.365 1456.56 784.398 1456.56 Q787.407 1456.56 789.097 1455.05 Q790.81 1453.55 790.81 1450.86 Q790.81 1448.18 789.097 1446.68 Q787.407 1445.17 784.398 1445.17 Q781.365 1445.17 779.675 1446.68 Q778.009 1448.18 778.009 1450.86 Z\" fill=\"#000000\" fill-rule=\"evenodd\" fill-opacity=\"1\" /><path clip-path=\"url(#clip030)\" d=\"M 0 0 M1039.84 1472.72 L1056.16 1472.72 L1056.16 1476.65 L1034.21 1476.65 L1034.21 1472.72 Q1036.88 1469.96 1041.46 1465.33 Q1046.07 1460.68 1047.25 1459.34 Q1049.49 1456.81 1050.37 1455.08 Q1051.27 1453.32 1051.27 1451.63 Q1051.27 1448.87 1049.33 1447.14 Q1047.41 1445.4 1044.31 1445.4 Q1042.11 1445.4 1039.65 1446.17 Q1037.22 1446.93 1034.45 1448.48 L1034.45 1443.76 Q1037.27 1442.62 1039.72 1442.05 Q1042.18 1441.47 1044.21 1441.47 Q1049.58 1441.47 1052.78 1444.15 Q1055.97 1446.84 1055.97 1451.33 Q1055.97 1453.46 1055.16 1455.38 Q1054.38 1457.28 1052.27 1459.87 Q1051.69 1460.54 1048.59 1463.76 Q1045.49 1466.95 1039.84 1472.72 Z\" fill=\"#000000\" fill-rule=\"evenodd\" fill-opacity=\"1\" /><path clip-path=\"url(#clip030)\" d=\"M 0 0 M1071.23 1460.24 Q1067.89 1460.24 1065.97 1462.02 Q1064.08 1463.8 1064.08 1466.93 Q1064.08 1470.05 1065.97 1471.84 Q1067.89 1473.62 1071.23 1473.62 Q1074.56 1473.62 1076.48 1471.84 Q1078.4 1470.03 1078.4 1466.93 Q1078.4 1463.8 1076.48 1462.02 Q1074.58 1460.24 1071.23 1460.24 M1066.55 1458.25 Q1063.54 1457.51 1061.85 1455.45 Q1060.19 1453.39 1060.19 1450.43 Q1060.19 1446.28 1063.13 1443.87 Q1066.09 1441.47 1071.23 1441.47 Q1076.39 1441.47 1079.33 1443.87 Q1082.27 1446.28 1082.27 1450.43 Q1082.27 1453.39 1080.58 1455.45 Q1078.91 1457.51 1075.93 1458.25 Q1079.31 1459.04 1081.18 1461.33 Q1083.08 1463.62 1083.08 1466.93 Q1083.08 1471.95 1080 1474.64 Q1076.95 1477.32 1071.23 1477.32 Q1065.51 1477.32 1062.43 1474.64 Q1059.38 1471.95 1059.38 1466.93 Q1059.38 1463.62 1061.27 1461.33 Q1063.17 1459.04 1066.55 1458.25 M1064.84 1450.86 Q1064.84 1453.55 1066.51 1455.05 Q1068.2 1456.56 1071.23 1456.56 Q1074.24 1456.56 1075.93 1455.05 Q1077.64 1453.55 1077.64 1450.86 Q1077.64 1448.18 1075.93 1446.68 Q1074.24 1445.17 1071.23 1445.17 Q1068.2 1445.17 1066.51 1446.68 Q1064.84 1448.18 1064.84 1450.86 Z\" fill=\"#000000\" fill-rule=\"evenodd\" fill-opacity=\"1\" /><path clip-path=\"url(#clip030)\" d=\"M 0 0 M1098.15 1445.17 Q1094.54 1445.17 1092.71 1448.74 Q1090.9 1452.28 1090.9 1459.41 Q1090.9 1466.51 1092.71 1470.08 Q1094.54 1473.62 1098.15 1473.62 Q1101.78 1473.62 1103.59 1470.08 Q1105.42 1466.51 1105.42 1459.41 Q1105.42 1452.28 1103.59 1448.74 Q1101.78 1445.17 1098.15 1445.17 M1098.15 1441.47 Q1103.96 1441.47 1107.01 1446.07 Q1110.09 1450.66 1110.09 1459.41 Q1110.09 1468.13 1107.01 1472.74 Q1103.96 1477.32 1098.15 1477.32 Q1092.34 1477.32 1089.26 1472.74 Q1086.2 1468.13 1086.2 1459.41 Q1086.2 1450.66 1089.26 1446.07 Q1092.34 1441.47 1098.15 1441.47 Z\" fill=\"#000000\" fill-rule=\"evenodd\" fill-opacity=\"1\" /><path clip-path=\"url(#clip030)\" d=\"M 0 0 M1354.03 1472.72 L1370.35 1472.72 L1370.35 1476.65 L1348.41 1476.65 L1348.41 1472.72 Q1351.07 1469.96 1355.65 1465.33 Q1360.26 1460.68 1361.44 1459.34 Q1363.68 1456.81 1364.56 1455.08 Q1365.47 1453.32 1365.47 1451.63 Q1365.47 1448.87 1363.52 1447.14 Q1361.6 1445.4 1358.5 1445.4 Q1356.3 1445.4 1353.85 1446.17 Q1351.41 1446.93 1348.64 1448.48 L1348.64 1443.76 Q1351.46 1442.62 1353.91 1442.05 Q1356.37 1441.47 1358.41 1441.47 Q1363.78 1441.47 1366.97 1444.15 Q1370.16 1446.84 1370.16 1451.33 Q1370.16 1453.46 1369.35 1455.38 Q1368.57 1457.28 1366.46 1459.87 Q1365.88 1460.54 1362.78 1463.76 Q1359.68 1466.95 1354.03 1472.72 Z\" fill=\"#000000\" fill-rule=\"evenodd\" fill-opacity=\"1\" /><path clip-path=\"url(#clip030)\" d=\"M 0 0 M1385.42 1460.24 Q1382.09 1460.24 1380.16 1462.02 Q1378.27 1463.8 1378.27 1466.93 Q1378.27 1470.05 1380.16 1471.84 Q1382.09 1473.62 1385.42 1473.62 Q1388.75 1473.62 1390.67 1471.84 Q1392.59 1470.03 1392.59 1466.93 Q1392.59 1463.8 1390.67 1462.02 Q1388.78 1460.24 1385.42 1460.24 M1380.74 1458.25 Q1377.73 1457.51 1376.04 1455.45 Q1374.38 1453.39 1374.38 1450.43 Q1374.38 1446.28 1377.32 1443.87 Q1380.28 1441.47 1385.42 1441.47 Q1390.58 1441.47 1393.52 1443.87 Q1396.46 1446.28 1396.46 1450.43 Q1396.46 1453.39 1394.77 1455.45 Q1393.1 1457.51 1390.12 1458.25 Q1393.5 1459.04 1395.37 1461.33 Q1397.27 1463.62 1397.27 1466.93 Q1397.27 1471.95 1394.19 1474.64 Q1391.14 1477.32 1385.42 1477.32 Q1379.7 1477.32 1376.62 1474.64 Q1373.57 1471.95 1373.57 1466.93 Q1373.57 1463.62 1375.47 1461.33 Q1377.36 1459.04 1380.74 1458.25 M1379.03 1450.86 Q1379.03 1453.55 1380.7 1455.05 Q1382.39 1456.56 1385.42 1456.56 Q1388.43 1456.56 1390.12 1455.05 Q1391.83 1453.55 1391.83 1450.86 Q1391.83 1448.18 1390.12 1446.68 Q1388.43 1445.17 1385.42 1445.17 Q1382.39 1445.17 1380.7 1446.68 Q1379.03 1448.18 1379.03 1450.86 Z\" fill=\"#000000\" fill-rule=\"evenodd\" fill-opacity=\"1\" /><path clip-path=\"url(#clip030)\" d=\"M 0 0 M1406.37 1472.72 L1422.69 1472.72 L1422.69 1476.65 L1400.74 1476.65 L1400.74 1472.72 Q1403.41 1469.96 1407.99 1465.33 Q1412.59 1460.68 1413.78 1459.34 Q1416.02 1456.81 1416.9 1455.08 Q1417.8 1453.32 1417.8 1451.63 Q1417.8 1448.87 1415.86 1447.14 Q1413.94 1445.4 1410.84 1445.4 Q1408.64 1445.4 1406.18 1446.17 Q1403.75 1446.93 1400.97 1448.48 L1400.97 1443.76 Q1403.8 1442.62 1406.25 1442.05 Q1408.71 1441.47 1410.74 1441.47 Q1416.11 1441.47 1419.31 1444.15 Q1422.5 1446.84 1422.5 1451.33 Q1422.5 1453.46 1421.69 1455.38 Q1420.9 1457.28 1418.8 1459.87 Q1418.22 1460.54 1415.12 1463.76 Q1412.02 1466.95 1406.37 1472.72 Z\" fill=\"#000000\" fill-rule=\"evenodd\" fill-opacity=\"1\" /><path clip-path=\"url(#clip030)\" d=\"M 0 0 M1666.38 1472.72 L1682.7 1472.72 L1682.7 1476.65 L1660.76 1476.65 L1660.76 1472.72 Q1663.42 1469.96 1668 1465.33 Q1672.61 1460.68 1673.79 1459.34 Q1676.03 1456.81 1676.91 1455.08 Q1677.82 1453.32 1677.82 1451.63 Q1677.82 1448.87 1675.87 1447.14 Q1673.95 1445.4 1670.85 1445.4 Q1668.65 1445.4 1666.2 1446.17 Q1663.77 1446.93 1660.99 1448.48 L1660.99 1443.76 Q1663.81 1442.62 1666.27 1442.05 Q1668.72 1441.47 1670.76 1441.47 Q1676.13 1441.47 1679.32 1444.15 Q1682.52 1446.84 1682.52 1451.33 Q1682.52 1453.46 1681.71 1455.38 Q1680.92 1457.28 1678.81 1459.87 Q1678.23 1460.54 1675.13 1463.76 Q1672.03 1466.95 1666.38 1472.72 Z\" fill=\"#000000\" fill-rule=\"evenodd\" fill-opacity=\"1\" /><path clip-path=\"url(#clip030)\" d=\"M 0 0 M1697.77 1460.24 Q1694.44 1460.24 1692.52 1462.02 Q1690.62 1463.8 1690.62 1466.93 Q1690.62 1470.05 1692.52 1471.84 Q1694.44 1473.62 1697.77 1473.62 Q1701.1 1473.62 1703.02 1471.84 Q1704.95 1470.03 1704.95 1466.93 Q1704.95 1463.8 1703.02 1462.02 Q1701.13 1460.24 1697.77 1460.24 M1693.09 1458.25 Q1690.08 1457.51 1688.4 1455.45 Q1686.73 1453.39 1686.73 1450.43 Q1686.73 1446.28 1689.67 1443.87 Q1692.63 1441.47 1697.77 1441.47 Q1702.93 1441.47 1705.87 1443.87 Q1708.81 1446.28 1708.81 1450.43 Q1708.81 1453.39 1707.12 1455.45 Q1705.46 1457.51 1702.47 1458.25 Q1705.85 1459.04 1707.72 1461.33 Q1709.62 1463.62 1709.62 1466.93 Q1709.62 1471.95 1706.54 1474.64 Q1703.49 1477.32 1697.77 1477.32 Q1692.05 1477.32 1688.97 1474.64 Q1685.92 1471.95 1685.92 1466.93 Q1685.92 1463.62 1687.82 1461.33 Q1689.71 1459.04 1693.09 1458.25 M1691.38 1450.86 Q1691.38 1453.55 1693.05 1455.05 Q1694.74 1456.56 1697.77 1456.56 Q1700.78 1456.56 1702.47 1455.05 Q1704.18 1453.55 1704.18 1450.86 Q1704.18 1448.18 1702.47 1446.68 Q1700.78 1445.17 1697.77 1445.17 Q1694.74 1445.17 1693.05 1446.68 Q1691.38 1448.18 1691.38 1450.86 Z\" fill=\"#000000\" fill-rule=\"evenodd\" fill-opacity=\"1\" /><path clip-path=\"url(#clip030)\" d=\"M 0 0 M1727.54 1446.17 L1715.73 1464.61 L1727.54 1464.61 L1727.54 1446.17 M1726.31 1442.09 L1732.19 1442.09 L1732.19 1464.61 L1737.12 1464.61 L1737.12 1468.5 L1732.19 1468.5 L1732.19 1476.65 L1727.54 1476.65 L1727.54 1468.5 L1711.94 1468.5 L1711.94 1463.99 L1726.31 1442.09 Z\" fill=\"#000000\" fill-rule=\"evenodd\" fill-opacity=\"1\" /><path clip-path=\"url(#clip030)\" d=\"M 0 0 M1979.94 1472.72 L1996.26 1472.72 L1996.26 1476.65 L1974.31 1476.65 L1974.31 1472.72 Q1976.97 1469.96 1981.56 1465.33 Q1986.16 1460.68 1987.34 1459.34 Q1989.59 1456.81 1990.47 1455.08 Q1991.37 1453.32 1991.37 1451.63 Q1991.37 1448.87 1989.43 1447.14 Q1987.51 1445.4 1984.4 1445.4 Q1982.2 1445.4 1979.75 1446.17 Q1977.32 1446.93 1974.54 1448.48 L1974.54 1443.76 Q1977.37 1442.62 1979.82 1442.05 Q1982.27 1441.47 1984.31 1441.47 Q1989.68 1441.47 1992.88 1444.15 Q1996.07 1446.84 1996.07 1451.33 Q1996.07 1453.46 1995.26 1455.38 Q1994.47 1457.28 1992.37 1459.87 Q1991.79 1460.54 1988.69 1463.76 Q1985.58 1466.95 1979.94 1472.72 Z\" fill=\"#000000\" fill-rule=\"evenodd\" fill-opacity=\"1\" /><path clip-path=\"url(#clip030)\" d=\"M 0 0 M2011.32 1460.24 Q2007.99 1460.24 2006.07 1462.02 Q2004.17 1463.8 2004.17 1466.93 Q2004.17 1470.05 2006.07 1471.84 Q2007.99 1473.62 2011.32 1473.62 Q2014.66 1473.62 2016.58 1471.84 Q2018.5 1470.03 2018.5 1466.93 Q2018.5 1463.8 2016.58 1462.02 Q2014.68 1460.24 2011.32 1460.24 M2006.65 1458.25 Q2003.64 1457.51 2001.95 1455.45 Q2000.28 1453.39 2000.28 1450.43 Q2000.28 1446.28 2003.22 1443.87 Q2006.19 1441.47 2011.32 1441.47 Q2016.49 1441.47 2019.43 1443.87 Q2022.37 1446.28 2022.37 1450.43 Q2022.37 1453.39 2020.68 1455.45 Q2019.01 1457.51 2016.02 1458.25 Q2019.4 1459.04 2021.28 1461.33 Q2023.18 1463.62 2023.18 1466.93 Q2023.18 1471.95 2020.1 1474.64 Q2017.04 1477.32 2011.32 1477.32 Q2005.61 1477.32 2002.53 1474.64 Q1999.47 1471.95 1999.47 1466.93 Q1999.47 1463.62 2001.37 1461.33 Q2003.27 1459.04 2006.65 1458.25 M2004.94 1450.86 Q2004.94 1453.55 2006.6 1455.05 Q2008.29 1456.56 2011.32 1456.56 Q2014.33 1456.56 2016.02 1455.05 Q2017.74 1453.55 2017.74 1450.86 Q2017.74 1448.18 2016.02 1446.68 Q2014.33 1445.17 2011.32 1445.17 Q2008.29 1445.17 2006.6 1446.68 Q2004.94 1448.18 2004.94 1450.86 Z\" fill=\"#000000\" fill-rule=\"evenodd\" fill-opacity=\"1\" /><path clip-path=\"url(#clip030)\" d=\"M 0 0 M2038.82 1457.51 Q2035.68 1457.51 2033.82 1459.66 Q2032 1461.81 2032 1465.56 Q2032 1469.29 2033.82 1471.47 Q2035.68 1473.62 2038.82 1473.62 Q2041.97 1473.62 2043.8 1471.47 Q2045.65 1469.29 2045.65 1465.56 Q2045.65 1461.81 2043.8 1459.66 Q2041.97 1457.51 2038.82 1457.51 M2048.11 1442.86 L2048.11 1447.11 Q2046.35 1446.28 2044.54 1445.84 Q2042.76 1445.4 2041 1445.4 Q2036.37 1445.4 2033.92 1448.53 Q2031.49 1451.65 2031.14 1457.97 Q2032.51 1455.96 2034.57 1454.89 Q2036.63 1453.8 2039.1 1453.8 Q2044.31 1453.8 2047.32 1456.98 Q2050.35 1460.12 2050.35 1465.56 Q2050.35 1470.89 2047.2 1474.11 Q2044.06 1477.32 2038.82 1477.32 Q2032.83 1477.32 2029.66 1472.74 Q2026.49 1468.13 2026.49 1459.41 Q2026.49 1451.21 2030.38 1446.35 Q2034.26 1441.47 2040.82 1441.47 Q2042.57 1441.47 2044.36 1441.81 Q2046.16 1442.16 2048.11 1442.86 Z\" fill=\"#000000\" fill-rule=\"evenodd\" fill-opacity=\"1\" /><path clip-path=\"url(#clip030)\" d=\"M 0 0 M2293.46 1472.72 L2309.78 1472.72 L2309.78 1476.65 L2287.83 1476.65 L2287.83 1472.72 Q2290.49 1469.96 2295.08 1465.33 Q2299.68 1460.68 2300.86 1459.34 Q2303.11 1456.81 2303.99 1455.08 Q2304.89 1453.32 2304.89 1451.63 Q2304.89 1448.87 2302.95 1447.14 Q2301.03 1445.4 2297.92 1445.4 Q2295.72 1445.4 2293.27 1446.17 Q2290.84 1446.93 2288.06 1448.48 L2288.06 1443.76 Q2290.89 1442.62 2293.34 1442.05 Q2295.79 1441.47 2297.83 1441.47 Q2303.2 1441.47 2306.4 1444.15 Q2309.59 1446.84 2309.59 1451.33 Q2309.59 1453.46 2308.78 1455.38 Q2307.99 1457.28 2305.89 1459.87 Q2305.31 1460.54 2302.21 1463.76 Q2299.1 1466.95 2293.46 1472.72 Z\" fill=\"#000000\" fill-rule=\"evenodd\" fill-opacity=\"1\" /><path clip-path=\"url(#clip030)\" d=\"M 0 0 M2324.84 1460.24 Q2321.51 1460.24 2319.59 1462.02 Q2317.69 1463.8 2317.69 1466.93 Q2317.69 1470.05 2319.59 1471.84 Q2321.51 1473.62 2324.84 1473.62 Q2328.18 1473.62 2330.1 1471.84 Q2332.02 1470.03 2332.02 1466.93 Q2332.02 1463.8 2330.1 1462.02 Q2328.2 1460.24 2324.84 1460.24 M2320.17 1458.25 Q2317.16 1457.51 2315.47 1455.45 Q2313.8 1453.39 2313.8 1450.43 Q2313.8 1446.28 2316.74 1443.87 Q2319.71 1441.47 2324.84 1441.47 Q2330.01 1441.47 2332.95 1443.87 Q2335.89 1446.28 2335.89 1450.43 Q2335.89 1453.39 2334.2 1455.45 Q2332.53 1457.51 2329.54 1458.25 Q2332.92 1459.04 2334.8 1461.33 Q2336.7 1463.62 2336.7 1466.93 Q2336.7 1471.95 2333.62 1474.64 Q2330.56 1477.32 2324.84 1477.32 Q2319.13 1477.32 2316.05 1474.64 Q2312.99 1471.95 2312.99 1466.93 Q2312.99 1463.62 2314.89 1461.33 Q2316.79 1459.04 2320.17 1458.25 M2318.46 1450.86 Q2318.46 1453.55 2320.12 1455.05 Q2321.81 1456.56 2324.84 1456.56 Q2327.85 1456.56 2329.54 1455.05 Q2331.26 1453.55 2331.26 1450.86 Q2331.26 1448.18 2329.54 1446.68 Q2327.85 1445.17 2324.84 1445.17 Q2321.81 1445.17 2320.12 1446.68 Q2318.46 1448.18 2318.46 1450.86 Z\" fill=\"#000000\" fill-rule=\"evenodd\" fill-opacity=\"1\" /><path clip-path=\"url(#clip030)\" d=\"M 0 0 M2351.77 1460.24 Q2348.43 1460.24 2346.51 1462.02 Q2344.61 1463.8 2344.61 1466.93 Q2344.61 1470.05 2346.51 1471.84 Q2348.43 1473.62 2351.77 1473.62 Q2355.1 1473.62 2357.02 1471.84 Q2358.94 1470.03 2358.94 1466.93 Q2358.94 1463.8 2357.02 1462.02 Q2355.12 1460.24 2351.77 1460.24 M2347.09 1458.25 Q2344.08 1457.51 2342.39 1455.45 Q2340.72 1453.39 2340.72 1450.43 Q2340.72 1446.28 2343.66 1443.87 Q2346.63 1441.47 2351.77 1441.47 Q2356.93 1441.47 2359.87 1443.87 Q2362.81 1446.28 2362.81 1450.43 Q2362.81 1453.39 2361.12 1455.45 Q2359.45 1457.51 2356.46 1458.25 Q2359.84 1459.04 2361.72 1461.33 Q2363.62 1463.62 2363.62 1466.93 Q2363.62 1471.95 2360.54 1474.64 Q2357.48 1477.32 2351.77 1477.32 Q2346.05 1477.32 2342.97 1474.64 Q2339.91 1471.95 2339.91 1466.93 Q2339.91 1463.62 2341.81 1461.33 Q2343.71 1459.04 2347.09 1458.25 M2345.38 1450.86 Q2345.38 1453.55 2347.04 1455.05 Q2348.73 1456.56 2351.77 1456.56 Q2354.77 1456.56 2356.46 1455.05 Q2358.18 1453.55 2358.18 1450.86 Q2358.18 1448.18 2356.46 1446.68 Q2354.77 1445.17 2351.77 1445.17 Q2348.73 1445.17 2347.04 1446.68 Q2345.38 1448.18 2345.38 1450.86 Z\" fill=\"#000000\" fill-rule=\"evenodd\" fill-opacity=\"1\" /><path clip-path=\"url(#clip030)\" d=\"M 0 0 M126.492 1388.79 L138.968 1388.79 L138.968 1392.59 L126.492 1392.59 L126.492 1388.79 Z\" fill=\"#000000\" fill-rule=\"evenodd\" fill-opacity=\"1\" /><path clip-path=\"url(#clip030)\" d=\"M 0 0 M144.848 1399.74 L152.487 1399.74 L152.487 1373.37 L144.177 1375.04 L144.177 1370.78 L152.441 1369.12 L157.116 1369.12 L157.116 1399.74 L164.755 1399.74 L164.755 1403.68 L144.848 1403.68 L144.848 1399.74 Z\" fill=\"#000000\" fill-rule=\"evenodd\" fill-opacity=\"1\" /><path clip-path=\"url(#clip030)\" d=\"M 0 0 M169.825 1397.8 L174.709 1397.8 L174.709 1403.68 L169.825 1403.68 L169.825 1397.8 Z\" fill=\"#000000\" fill-rule=\"evenodd\" fill-opacity=\"1\" /><path clip-path=\"url(#clip030)\" d=\"M 0 0 M189.778 1372.19 Q186.167 1372.19 184.339 1375.76 Q182.533 1379.3 182.533 1386.43 Q182.533 1393.54 184.339 1397.1 Q186.167 1400.64 189.778 1400.64 Q193.413 1400.64 195.218 1397.1 Q197.047 1393.54 197.047 1386.43 Q197.047 1379.3 195.218 1375.76 Q193.413 1372.19 189.778 1372.19 M189.778 1368.49 Q195.588 1368.49 198.644 1373.1 Q201.723 1377.68 201.723 1386.43 Q201.723 1395.16 198.644 1399.76 Q195.588 1404.35 189.778 1404.35 Q183.968 1404.35 180.889 1399.76 Q177.834 1395.16 177.834 1386.43 Q177.834 1377.68 180.889 1373.1 Q183.968 1368.49 189.778 1368.49 Z\" fill=\"#000000\" fill-rule=\"evenodd\" fill-opacity=\"1\" /><path clip-path=\"url(#clip030)\" d=\"M 0 0 M216.792 1372.19 Q213.181 1372.19 211.352 1375.76 Q209.547 1379.3 209.547 1386.43 Q209.547 1393.54 211.352 1397.1 Q213.181 1400.64 216.792 1400.64 Q220.426 1400.64 222.232 1397.1 Q224.061 1393.54 224.061 1386.43 Q224.061 1379.3 222.232 1375.76 Q220.426 1372.19 216.792 1372.19 M216.792 1368.49 Q222.602 1368.49 225.658 1373.1 Q228.736 1377.68 228.736 1386.43 Q228.736 1395.16 225.658 1399.76 Q222.602 1404.35 216.792 1404.35 Q210.982 1404.35 207.903 1399.76 Q204.848 1395.16 204.848 1386.43 Q204.848 1377.68 207.903 1373.1 Q210.982 1368.49 216.792 1368.49 Z\" fill=\"#000000\" fill-rule=\"evenodd\" fill-opacity=\"1\" /><path clip-path=\"url(#clip030)\" d=\"M 0 0 M127.163 1082.26 L139.64 1082.26 L139.64 1086.05 L127.163 1086.05 L127.163 1082.26 Z\" fill=\"#000000\" fill-rule=\"evenodd\" fill-opacity=\"1\" /><path clip-path=\"url(#clip030)\" d=\"M 0 0 M154.709 1065.66 Q151.098 1065.66 149.269 1069.22 Q147.464 1072.77 147.464 1079.9 Q147.464 1087 149.269 1090.57 Q151.098 1094.11 154.709 1094.11 Q158.343 1094.11 160.149 1090.57 Q161.978 1087 161.978 1079.9 Q161.978 1072.77 160.149 1069.22 Q158.343 1065.66 154.709 1065.66 M154.709 1061.96 Q160.519 1061.96 163.575 1066.56 Q166.653 1071.15 166.653 1079.9 Q166.653 1088.62 163.575 1093.23 Q160.519 1097.81 154.709 1097.81 Q148.899 1097.81 145.82 1093.23 Q142.765 1088.62 142.765 1079.9 Q142.765 1071.15 145.82 1066.56 Q148.899 1061.96 154.709 1061.96 Z\" fill=\"#000000\" fill-rule=\"evenodd\" fill-opacity=\"1\" /><path clip-path=\"url(#clip030)\" d=\"M 0 0 M171.723 1091.26 L176.607 1091.26 L176.607 1097.14 L171.723 1097.14 L171.723 1091.26 Z\" fill=\"#000000\" fill-rule=\"evenodd\" fill-opacity=\"1\" /><path clip-path=\"url(#clip030)\" d=\"M 0 0 M180.496 1062.58 L202.718 1062.58 L202.718 1064.57 L190.172 1097.14 L185.288 1097.14 L197.093 1066.52 L180.496 1066.52 L180.496 1062.58 Z\" fill=\"#000000\" fill-rule=\"evenodd\" fill-opacity=\"1\" /><path clip-path=\"url(#clip030)\" d=\"M 0 0 M207.834 1062.58 L226.19 1062.58 L226.19 1066.52 L212.116 1066.52 L212.116 1074.99 Q213.135 1074.64 214.153 1074.48 Q215.172 1074.29 216.19 1074.29 Q221.977 1074.29 225.357 1077.47 Q228.736 1080.64 228.736 1086.05 Q228.736 1091.63 225.264 1094.73 Q221.792 1097.81 215.473 1097.81 Q213.297 1097.81 211.028 1097.44 Q208.783 1097.07 206.375 1096.33 L206.375 1091.63 Q208.459 1092.77 210.681 1093.32 Q212.903 1093.88 215.38 1093.88 Q219.385 1093.88 221.723 1091.77 Q224.061 1089.66 224.061 1086.05 Q224.061 1082.44 221.723 1080.34 Q219.385 1078.23 215.38 1078.23 Q213.505 1078.23 211.63 1078.65 Q209.778 1079.06 207.834 1079.94 L207.834 1062.58 Z\" fill=\"#000000\" fill-rule=\"evenodd\" fill-opacity=\"1\" /><path clip-path=\"url(#clip030)\" d=\"M 0 0 M126.26 775.722 L138.737 775.722 L138.737 779.518 L126.26 779.518 L126.26 775.722 Z\" fill=\"#000000\" fill-rule=\"evenodd\" fill-opacity=\"1\" /><path clip-path=\"url(#clip030)\" d=\"M 0 0 M153.806 759.125 Q150.195 759.125 148.367 762.689 Q146.561 766.231 146.561 773.361 Q146.561 780.467 148.367 784.032 Q150.195 787.574 153.806 787.574 Q157.441 787.574 159.246 784.032 Q161.075 780.467 161.075 773.361 Q161.075 766.231 159.246 762.689 Q157.441 759.125 153.806 759.125 M153.806 755.421 Q159.616 755.421 162.672 760.027 Q165.751 764.611 165.751 773.361 Q165.751 782.088 162.672 786.694 Q159.616 791.277 153.806 791.277 Q147.996 791.277 144.917 786.694 Q141.862 782.088 141.862 773.361 Q141.862 764.611 144.917 760.027 Q147.996 755.421 153.806 755.421 Z\" fill=\"#000000\" fill-rule=\"evenodd\" fill-opacity=\"1\" /><path clip-path=\"url(#clip030)\" d=\"M 0 0 M170.82 784.726 L175.704 784.726 L175.704 790.606 L170.82 790.606 L170.82 784.726 Z\" fill=\"#000000\" fill-rule=\"evenodd\" fill-opacity=\"1\" /><path clip-path=\"url(#clip030)\" d=\"M 0 0 M180.82 756.046 L199.176 756.046 L199.176 759.981 L185.102 759.981 L185.102 768.453 Q186.121 768.106 187.139 767.944 Q188.158 767.759 189.176 767.759 Q194.963 767.759 198.343 770.93 Q201.723 774.101 201.723 779.518 Q201.723 785.097 198.251 788.199 Q194.778 791.277 188.459 791.277 Q186.283 791.277 184.014 790.907 Q181.769 790.537 179.362 789.796 L179.362 785.097 Q181.445 786.231 183.667 786.787 Q185.889 787.342 188.366 787.342 Q192.371 787.342 194.709 785.236 Q197.047 783.129 197.047 779.518 Q197.047 775.907 194.709 773.801 Q192.371 771.694 188.366 771.694 Q186.491 771.694 184.616 772.111 Q182.764 772.527 180.82 773.407 L180.82 756.046 Z\" fill=\"#000000\" fill-rule=\"evenodd\" fill-opacity=\"1\" /><path clip-path=\"url(#clip030)\" d=\"M 0 0 M216.792 759.125 Q213.181 759.125 211.352 762.689 Q209.547 766.231 209.547 773.361 Q209.547 780.467 211.352 784.032 Q213.181 787.574 216.792 787.574 Q220.426 787.574 222.232 784.032 Q224.061 780.467 224.061 773.361 Q224.061 766.231 222.232 762.689 Q220.426 759.125 216.792 759.125 M216.792 755.421 Q222.602 755.421 225.658 760.027 Q228.736 764.611 228.736 773.361 Q228.736 782.088 225.658 786.694 Q222.602 791.277 216.792 791.277 Q210.982 791.277 207.903 786.694 Q204.848 782.088 204.848 773.361 Q204.848 764.611 207.903 760.027 Q210.982 755.421 216.792 755.421 Z\" fill=\"#000000\" fill-rule=\"evenodd\" fill-opacity=\"1\" /><path clip-path=\"url(#clip030)\" d=\"M 0 0 M127.857 469.187 L140.334 469.187 L140.334 472.983 L127.857 472.983 L127.857 469.187 Z\" fill=\"#000000\" fill-rule=\"evenodd\" fill-opacity=\"1\" /><path clip-path=\"url(#clip030)\" d=\"M 0 0 M155.404 452.59 Q151.792 452.59 149.964 456.155 Q148.158 459.696 148.158 466.826 Q148.158 473.932 149.964 477.497 Q151.792 481.039 155.404 481.039 Q159.038 481.039 160.843 477.497 Q162.672 473.932 162.672 466.826 Q162.672 459.696 160.843 456.155 Q159.038 452.59 155.404 452.59 M155.404 448.886 Q161.214 448.886 164.269 453.493 Q167.348 458.076 167.348 466.826 Q167.348 475.553 164.269 480.159 Q161.214 484.742 155.404 484.742 Q149.593 484.742 146.515 480.159 Q143.459 475.553 143.459 466.826 Q143.459 458.076 146.515 453.493 Q149.593 448.886 155.404 448.886 Z\" fill=\"#000000\" fill-rule=\"evenodd\" fill-opacity=\"1\" /><path clip-path=\"url(#clip030)\" d=\"M 0 0 M172.417 478.192 L177.302 478.192 L177.302 484.071 L172.417 484.071 L172.417 478.192 Z\" fill=\"#000000\" fill-rule=\"evenodd\" fill-opacity=\"1\" /><path clip-path=\"url(#clip030)\" d=\"M 0 0 M186.399 480.136 L202.718 480.136 L202.718 484.071 L180.774 484.071 L180.774 480.136 Q183.436 477.381 188.019 472.752 Q192.626 468.099 193.806 466.756 Q196.051 464.233 196.931 462.497 Q197.834 460.738 197.834 459.048 Q197.834 456.294 195.889 454.557 Q193.968 452.821 190.866 452.821 Q188.667 452.821 186.214 453.585 Q183.783 454.349 181.005 455.9 L181.005 451.178 Q183.829 450.044 186.283 449.465 Q188.737 448.886 190.774 448.886 Q196.144 448.886 199.338 451.571 Q202.533 454.256 202.533 458.747 Q202.533 460.877 201.723 462.798 Q200.936 464.696 198.829 467.289 Q198.251 467.96 195.149 471.178 Q192.047 474.372 186.399 480.136 Z\" fill=\"#000000\" fill-rule=\"evenodd\" fill-opacity=\"1\" /><path clip-path=\"url(#clip030)\" d=\"M 0 0 M207.834 449.511 L226.19 449.511 L226.19 453.446 L212.116 453.446 L212.116 461.918 Q213.135 461.571 214.153 461.409 Q215.172 461.224 216.19 461.224 Q221.977 461.224 225.357 464.395 Q228.736 467.567 228.736 472.983 Q228.736 478.562 225.264 481.664 Q221.792 484.742 215.473 484.742 Q213.297 484.742 211.028 484.372 Q208.783 484.002 206.375 483.261 L206.375 478.562 Q208.459 479.696 210.681 480.252 Q212.903 480.807 215.38 480.807 Q219.385 480.807 221.723 478.701 Q224.061 476.594 224.061 472.983 Q224.061 469.372 221.723 467.266 Q219.385 465.159 215.38 465.159 Q213.505 465.159 211.63 465.576 Q209.778 465.993 207.834 466.872 L207.834 449.511 Z\" fill=\"#000000\" fill-rule=\"evenodd\" fill-opacity=\"1\" /><path clip-path=\"url(#clip030)\" d=\"M 0 0 M152.811 146.055 Q149.2 146.055 147.371 149.62 Q145.566 153.161 145.566 160.291 Q145.566 167.397 147.371 170.962 Q149.2 174.504 152.811 174.504 Q156.445 174.504 158.251 170.962 Q160.079 167.397 160.079 160.291 Q160.079 153.161 158.251 149.62 Q156.445 146.055 152.811 146.055 M152.811 142.351 Q158.621 142.351 161.677 146.958 Q164.755 151.541 164.755 160.291 Q164.755 169.018 161.677 173.624 Q158.621 178.208 152.811 178.208 Q147.001 178.208 143.922 173.624 Q140.867 169.018 140.867 160.291 Q140.867 151.541 143.922 146.958 Q147.001 142.351 152.811 142.351 Z\" fill=\"#000000\" fill-rule=\"evenodd\" fill-opacity=\"1\" /><path clip-path=\"url(#clip030)\" d=\"M 0 0 M169.825 171.657 L174.709 171.657 L174.709 177.536 L169.825 177.536 L169.825 171.657 Z\" fill=\"#000000\" fill-rule=\"evenodd\" fill-opacity=\"1\" /><path clip-path=\"url(#clip030)\" d=\"M 0 0 M189.778 146.055 Q186.167 146.055 184.339 149.62 Q182.533 153.161 182.533 160.291 Q182.533 167.397 184.339 170.962 Q186.167 174.504 189.778 174.504 Q193.413 174.504 195.218 170.962 Q197.047 167.397 197.047 160.291 Q197.047 153.161 195.218 149.62 Q193.413 146.055 189.778 146.055 M189.778 142.351 Q195.588 142.351 198.644 146.958 Q201.723 151.541 201.723 160.291 Q201.723 169.018 198.644 173.624 Q195.588 178.208 189.778 178.208 Q183.968 178.208 180.889 173.624 Q177.834 169.018 177.834 160.291 Q177.834 151.541 180.889 146.958 Q183.968 142.351 189.778 142.351 Z\" fill=\"#000000\" fill-rule=\"evenodd\" fill-opacity=\"1\" /><path clip-path=\"url(#clip030)\" d=\"M 0 0 M216.792 146.055 Q213.181 146.055 211.352 149.62 Q209.547 153.161 209.547 160.291 Q209.547 167.397 211.352 170.962 Q213.181 174.504 216.792 174.504 Q220.426 174.504 222.232 170.962 Q224.061 167.397 224.061 160.291 Q224.061 153.161 222.232 149.62 Q220.426 146.055 216.792 146.055 M216.792 142.351 Q222.602 142.351 225.658 146.958 Q228.736 151.541 228.736 160.291 Q228.736 169.018 225.658 173.624 Q222.602 178.208 216.792 178.208 Q210.982 178.208 207.903 173.624 Q204.848 169.018 204.848 160.291 Q204.848 151.541 207.903 146.958 Q210.982 142.351 216.792 142.351 Z\" fill=\"#000000\" fill-rule=\"evenodd\" fill-opacity=\"1\" /><path clip-path=\"url(#clip030)\" d=\"M 0 0 M910.841 12.096 L919.024 12.096 L919.024 36.8875 L948.758 36.8875 L948.758 12.096 L956.941 12.096 L956.941 72.576 L948.758 72.576 L948.758 43.7741 L919.024 43.7741 L919.024 72.576 L910.841 72.576 L910.841 12.096 Z\" fill=\"#000000\" fill-rule=\"evenodd\" fill-opacity=\"1\" /><path clip-path=\"url(#clip030)\" d=\"M 0 0 M1003.57 48.0275 L1003.57 51.6733 L969.296 51.6733 Q969.782 59.3701 973.914 63.421 Q978.086 67.4314 985.5 67.4314 Q989.794 67.4314 993.804 66.3781 Q997.855 65.3249 1001.82 63.2184 L1001.82 70.267 Q997.814 71.9684 993.601 72.8596 Q989.388 73.7508 985.054 73.7508 Q974.198 73.7508 967.838 67.4314 Q961.518 61.1119 961.518 50.3365 Q961.518 39.1965 967.514 32.6746 Q973.549 26.1121 983.758 26.1121 Q992.913 26.1121 998.219 32.0264 Q1003.57 37.9003 1003.57 48.0275 M996.113 45.84 Q996.032 39.7232 992.67 36.0774 Q989.348 32.4315 983.839 32.4315 Q977.6 32.4315 973.833 35.9558 Q970.106 39.4801 969.539 45.8805 L996.113 45.84 Z\" fill=\"#000000\" fill-rule=\"evenodd\" fill-opacity=\"1\" /><path clip-path=\"url(#clip030)\" d=\"M 0 0 M1032 49.7694 Q1022.97 49.7694 1019.49 51.8354 Q1016 53.9013 1016 58.8839 Q1016 62.8538 1018.6 65.2034 Q1021.23 67.5124 1025.73 67.5124 Q1031.92 67.5124 1035.65 63.1374 Q1039.42 58.7219 1039.42 51.4303 L1039.42 49.7694 L1032 49.7694 M1046.87 46.6907 L1046.87 72.576 L1039.42 72.576 L1039.42 65.6895 Q1036.87 69.8214 1033.06 71.8063 Q1029.25 73.7508 1023.74 73.7508 Q1016.77 73.7508 1012.64 69.8619 Q1008.55 65.9325 1008.55 59.3701 Q1008.55 51.7138 1013.65 47.825 Q1018.8 43.9361 1028.97 43.9361 L1039.42 43.9361 L1039.42 43.2069 Q1039.42 38.0623 1036.01 35.2672 Q1032.65 32.4315 1026.54 32.4315 Q1022.65 32.4315 1018.96 33.3632 Q1015.27 34.295 1011.87 36.1584 L1011.87 29.2718 Q1015.96 27.692 1019.81 26.9223 Q1023.66 26.1121 1027.3 26.1121 Q1037.15 26.1121 1042.01 31.2163 Q1046.87 36.3204 1046.87 46.6907 Z\" fill=\"#000000\" fill-rule=\"evenodd\" fill-opacity=\"1\" /><path clip-path=\"url(#clip030)\" d=\"M 0 0 M1062.06 14.324 L1062.06 27.2059 L1077.41 27.2059 L1077.41 32.9987 L1062.06 32.9987 L1062.06 57.6282 Q1062.06 63.1779 1063.56 64.7578 Q1065.1 66.3376 1069.76 66.3376 L1077.41 66.3376 L1077.41 72.576 L1069.76 72.576 Q1061.13 72.576 1057.85 69.3758 Q1054.57 66.1351 1054.57 57.6282 L1054.57 32.9987 L1049.1 32.9987 L1049.1 27.2059 L1054.57 27.2059 L1054.57 14.324 L1062.06 14.324 Z\" fill=\"#000000\" fill-rule=\"evenodd\" fill-opacity=\"1\" /><path clip-path=\"url(#clip030)\" d=\"M 0 0 M1118.98 14.324 L1118.98 27.2059 L1134.33 27.2059 L1134.33 32.9987 L1118.98 32.9987 L1118.98 57.6282 Q1118.98 63.1779 1120.48 64.7578 Q1122.02 66.3376 1126.67 66.3376 L1134.33 66.3376 L1134.33 72.576 L1126.67 72.576 Q1118.05 72.576 1114.76 69.3758 Q1111.48 66.1351 1111.48 57.6282 L1111.48 32.9987 L1106.01 32.9987 L1106.01 27.2059 L1111.48 27.2059 L1111.48 14.324 L1118.98 14.324 Z\" fill=\"#000000\" fill-rule=\"evenodd\" fill-opacity=\"1\" /><path clip-path=\"url(#clip030)\" d=\"M 0 0 M1168.44 34.1734 Q1167.18 33.4443 1165.68 33.1202 Q1164.23 32.7556 1162.44 32.7556 Q1156.12 32.7556 1152.72 36.8875 Q1149.36 40.9789 1149.36 48.6757 L1149.36 72.576 L1141.86 72.576 L1141.86 27.2059 L1149.36 27.2059 L1149.36 34.2544 Q1151.71 30.1225 1155.48 28.1376 Q1159.24 26.1121 1164.63 26.1121 Q1165.4 26.1121 1166.33 26.2337 Q1167.26 26.3147 1168.4 26.5172 L1168.44 34.1734 Z\" fill=\"#000000\" fill-rule=\"evenodd\" fill-opacity=\"1\" /><path clip-path=\"url(#clip030)\" d=\"M 0 0 M1196.88 49.7694 Q1187.84 49.7694 1184.36 51.8354 Q1180.87 53.9013 1180.87 58.8839 Q1180.87 62.8538 1183.47 65.2034 Q1186.1 67.5124 1190.6 67.5124 Q1196.79 67.5124 1200.52 63.1374 Q1204.29 58.7219 1204.29 51.4303 L1204.29 49.7694 L1196.88 49.7694 M1211.74 46.6907 L1211.74 72.576 L1204.29 72.576 L1204.29 65.6895 Q1201.74 69.8214 1197.93 71.8063 Q1194.12 73.7508 1188.61 73.7508 Q1181.64 73.7508 1177.51 69.8619 Q1173.42 65.9325 1173.42 59.3701 Q1173.42 51.7138 1178.53 47.825 Q1183.67 43.9361 1193.84 43.9361 L1204.29 43.9361 L1204.29 43.2069 Q1204.29 38.0623 1200.89 35.2672 Q1197.52 32.4315 1191.41 32.4315 Q1187.52 32.4315 1183.83 33.3632 Q1180.15 34.295 1176.74 36.1584 L1176.74 29.2718 Q1180.83 27.692 1184.68 26.9223 Q1188.53 26.1121 1192.18 26.1121 Q1202.02 26.1121 1206.88 31.2163 Q1211.74 36.3204 1211.74 46.6907 Z\" fill=\"#000000\" fill-rule=\"evenodd\" fill-opacity=\"1\" /><path clip-path=\"url(#clip030)\" d=\"M 0 0 M1257.27 45.1919 L1257.27 72.576 L1249.82 72.576 L1249.82 45.4349 Q1249.82 38.994 1247.31 35.7938 Q1244.8 32.5936 1239.77 32.5936 Q1233.74 32.5936 1230.26 36.4419 Q1226.77 40.2903 1226.77 46.9338 L1226.77 72.576 L1219.28 72.576 L1219.28 27.2059 L1226.77 27.2059 L1226.77 34.2544 Q1229.45 30.163 1233.05 28.1376 Q1236.7 26.1121 1241.44 26.1121 Q1249.25 26.1121 1253.26 30.9732 Q1257.27 35.7938 1257.27 45.1919 Z\" fill=\"#000000\" fill-rule=\"evenodd\" fill-opacity=\"1\" /><path clip-path=\"url(#clip030)\" d=\"M 0 0 M1294.02 28.5427 L1294.02 35.5912 Q1290.86 33.9709 1287.45 33.1607 Q1284.05 32.3505 1280.41 32.3505 Q1274.86 32.3505 1272.06 34.0519 Q1269.31 35.7533 1269.31 39.156 Q1269.31 41.7486 1271.29 43.2475 Q1273.28 44.7058 1279.27 46.0426 L1281.82 46.6097 Q1289.76 48.3111 1293.08 51.4303 Q1296.45 54.509 1296.45 60.0587 Q1296.45 66.3781 1291.42 70.0644 Q1286.44 73.7508 1277.69 73.7508 Q1274.05 73.7508 1270.08 73.0216 Q1266.15 72.3329 1261.77 70.9151 L1261.77 63.2184 Q1265.9 65.3654 1269.91 66.4591 Q1273.92 67.5124 1277.85 67.5124 Q1283.12 67.5124 1285.96 65.73 Q1288.79 63.9071 1288.79 60.6258 Q1288.79 57.5877 1286.72 55.9673 Q1284.7 54.3469 1277.77 52.8481 L1275.18 52.2405 Q1268.25 50.7821 1265.17 47.7845 Q1262.1 44.7463 1262.1 39.4801 Q1262.1 33.0797 1266.63 29.5959 Q1271.17 26.1121 1279.51 26.1121 Q1283.65 26.1121 1287.29 26.7198 Q1290.94 27.3274 1294.02 28.5427 Z\" fill=\"#000000\" fill-rule=\"evenodd\" fill-opacity=\"1\" /><path clip-path=\"url(#clip030)\" d=\"M 0 0 M1327.23 9.54393 L1327.23 15.7418 L1320.1 15.7418 Q1316.09 15.7418 1314.51 17.3622 Q1312.97 18.9825 1312.97 23.1955 L1312.97 27.2059 L1325.25 27.2059 L1325.25 32.9987 L1312.97 32.9987 L1312.97 72.576 L1305.48 72.576 L1305.48 32.9987 L1298.35 32.9987 L1298.35 27.2059 L1305.48 27.2059 L1305.48 24.0462 Q1305.48 16.471 1309 13.0277 Q1312.53 9.54393 1320.19 9.54393 L1327.23 9.54393 Z\" fill=\"#000000\" fill-rule=\"evenodd\" fill-opacity=\"1\" /><path clip-path=\"url(#clip030)\" d=\"M 0 0 M1373.86 48.0275 L1373.86 51.6733 L1339.59 51.6733 Q1340.08 59.3701 1344.21 63.421 Q1348.38 67.4314 1355.79 67.4314 Q1360.09 67.4314 1364.1 66.3781 Q1368.15 65.3249 1372.12 63.2184 L1372.12 70.267 Q1368.11 71.9684 1363.89 72.8596 Q1359.68 73.7508 1355.35 73.7508 Q1344.49 73.7508 1338.13 67.4314 Q1331.81 61.1119 1331.81 50.3365 Q1331.81 39.1965 1337.81 32.6746 Q1343.84 26.1121 1354.05 26.1121 Q1363.21 26.1121 1368.51 32.0264 Q1373.86 37.9003 1373.86 48.0275 M1366.41 45.84 Q1366.33 39.7232 1362.96 36.0774 Q1359.64 32.4315 1354.13 32.4315 Q1347.89 32.4315 1344.13 35.9558 Q1340.4 39.4801 1339.83 45.8805 L1366.41 45.84 Z\" fill=\"#000000\" fill-rule=\"evenodd\" fill-opacity=\"1\" /><path clip-path=\"url(#clip030)\" d=\"M 0 0 M1407.97 34.1734 Q1406.71 33.4443 1405.21 33.1202 Q1403.76 32.7556 1401.97 32.7556 Q1395.65 32.7556 1392.25 36.8875 Q1388.89 40.9789 1388.89 48.6757 L1388.89 72.576 L1381.39 72.576 L1381.39 27.2059 L1388.89 27.2059 L1388.89 34.2544 Q1391.24 30.1225 1395.01 28.1376 Q1398.77 26.1121 1404.16 26.1121 Q1404.93 26.1121 1405.86 26.2337 Q1406.79 26.3147 1407.93 26.5172 L1407.97 34.1734 Z\" fill=\"#000000\" fill-rule=\"evenodd\" fill-opacity=\"1\" /><path clip-path=\"url(#clip030)\" d=\"M 0 0 M1442.16 27.2059 L1449.61 27.2059 L1449.61 72.576 L1442.16 72.576 L1442.16 27.2059 M1442.16 9.54393 L1449.61 9.54393 L1449.61 18.9825 L1442.16 18.9825 L1442.16 9.54393 Z\" fill=\"#000000\" fill-rule=\"evenodd\" fill-opacity=\"1\" /><path clip-path=\"url(#clip030)\" d=\"M 0 0 M1495.14 45.1919 L1495.14 72.576 L1487.69 72.576 L1487.69 45.4349 Q1487.69 38.994 1485.18 35.7938 Q1482.67 32.5936 1477.64 32.5936 Q1471.61 32.5936 1468.12 36.4419 Q1464.64 40.2903 1464.64 46.9338 L1464.64 72.576 L1457.15 72.576 L1457.15 27.2059 L1464.64 27.2059 L1464.64 34.2544 Q1467.31 30.163 1470.92 28.1376 Q1474.57 26.1121 1479.3 26.1121 Q1487.12 26.1121 1491.13 30.9732 Q1495.14 35.7938 1495.14 45.1919 Z\" fill=\"#000000\" fill-rule=\"evenodd\" fill-opacity=\"1\" /><path clip-path=\"url(#clip030)\" d=\"M 0 0 M1558.26 28.5427 L1558.26 35.5912 Q1555.1 33.9709 1551.69 33.1607 Q1548.29 32.3505 1544.65 32.3505 Q1539.1 32.3505 1536.3 34.0519 Q1533.55 35.7533 1533.55 39.156 Q1533.55 41.7486 1535.53 43.2475 Q1537.52 44.7058 1543.51 46.0426 L1546.06 46.6097 Q1554 48.3111 1557.33 51.4303 Q1560.69 54.509 1560.69 60.0587 Q1560.69 66.3781 1555.66 70.0644 Q1550.68 73.7508 1541.93 73.7508 Q1538.29 73.7508 1534.32 73.0216 Q1530.39 72.3329 1526.01 70.9151 L1526.01 63.2184 Q1530.14 65.3654 1534.15 66.4591 Q1538.16 67.5124 1542.09 67.5124 Q1547.36 67.5124 1550.2 65.73 Q1553.03 63.9071 1553.03 60.6258 Q1553.03 57.5877 1550.97 55.9673 Q1548.94 54.3469 1542.01 52.8481 L1539.42 52.2405 Q1532.49 50.7821 1529.41 47.7845 Q1526.34 44.7463 1526.34 39.4801 Q1526.34 33.0797 1530.87 29.5959 Q1535.41 26.1121 1543.75 26.1121 Q1547.89 26.1121 1551.53 26.7198 Q1555.18 27.3274 1558.26 28.5427 Z\" fill=\"#000000\" fill-rule=\"evenodd\" fill-opacity=\"1\" /><path clip-path=\"url(#clip030)\" d=\"M 0 0 M1589.12 49.7694 Q1580.09 49.7694 1576.61 51.8354 Q1573.12 53.9013 1573.12 58.8839 Q1573.12 62.8538 1575.72 65.2034 Q1578.35 67.5124 1582.85 67.5124 Q1589.04 67.5124 1592.77 63.1374 Q1596.54 58.7219 1596.54 51.4303 L1596.54 49.7694 L1589.12 49.7694 M1603.99 46.6907 L1603.99 72.576 L1596.54 72.576 L1596.54 65.6895 Q1593.99 69.8214 1590.18 71.8063 Q1586.37 73.7508 1580.86 73.7508 Q1573.89 73.7508 1569.76 69.8619 Q1565.67 65.9325 1565.67 59.3701 Q1565.67 51.7138 1570.77 47.825 Q1575.92 43.9361 1586.09 43.9361 L1596.54 43.9361 L1596.54 43.2069 Q1596.54 38.0623 1593.14 35.2672 Q1589.77 32.4315 1583.66 32.4315 Q1579.77 32.4315 1576.08 33.3632 Q1572.39 34.295 1568.99 36.1584 L1568.99 29.2718 Q1573.08 27.692 1576.93 26.9223 Q1580.78 26.1121 1584.43 26.1121 Q1594.27 26.1121 1599.13 31.2163 Q1603.99 36.3204 1603.99 46.6907 Z\" fill=\"#000000\" fill-rule=\"evenodd\" fill-opacity=\"1\" /><path clip-path=\"url(#clip030)\" d=\"M 0 0 M1649.52 45.1919 L1649.52 72.576 L1642.07 72.576 L1642.07 45.4349 Q1642.07 38.994 1639.56 35.7938 Q1637.05 32.5936 1632.02 32.5936 Q1625.99 32.5936 1622.5 36.4419 Q1619.02 40.2903 1619.02 46.9338 L1619.02 72.576 L1611.53 72.576 L1611.53 27.2059 L1619.02 27.2059 L1619.02 34.2544 Q1621.69 30.163 1625.3 28.1376 Q1628.95 26.1121 1633.68 26.1121 Q1641.5 26.1121 1645.51 30.9732 Q1649.52 35.7938 1649.52 45.1919 Z\" fill=\"#000000\" fill-rule=\"evenodd\" fill-opacity=\"1\" /><path clip-path=\"url(#clip030)\" d=\"M 0 0 M1687.2 34.0924 L1687.2 9.54393 L1694.65 9.54393 L1694.65 72.576 L1687.2 72.576 L1687.2 65.7705 Q1684.85 69.8214 1681.24 71.8063 Q1677.68 73.7508 1672.65 73.7508 Q1664.43 73.7508 1659.25 67.1883 Q1654.1 60.6258 1654.1 49.9314 Q1654.1 39.2371 1659.25 32.6746 Q1664.43 26.1121 1672.65 26.1121 Q1677.68 26.1121 1681.24 28.0971 Q1684.85 30.0415 1687.2 34.0924 M1661.8 49.9314 Q1661.8 58.1548 1665.16 62.8538 Q1668.56 67.5124 1674.48 67.5124 Q1680.39 67.5124 1683.79 62.8538 Q1687.2 58.1548 1687.2 49.9314 Q1687.2 41.7081 1683.79 37.0496 Q1680.39 32.3505 1674.48 32.3505 Q1668.56 32.3505 1665.16 37.0496 Q1661.8 41.7081 1661.8 49.9314 Z\" fill=\"#000000\" fill-rule=\"evenodd\" fill-opacity=\"1\" /><path clip-path=\"url(#clip030)\" d=\"M 0 0 M1230.21 1508.52 L1270.41 1508.52 L1270.41 1513.93 L1253.54 1513.93 L1253.54 1556.04 L1247.08 1556.04 L1247.08 1513.93 L1230.21 1513.93 L1230.21 1508.52 Z\" fill=\"#000000\" fill-rule=\"evenodd\" fill-opacity=\"1\" /><path clip-path=\"url(#clip030)\" d=\"M 0 0 M1311.34 1506.58 Q1307.07 1513.9 1305.01 1521.06 Q1302.94 1528.23 1302.94 1535.58 Q1302.94 1542.93 1305.01 1550.16 Q1307.11 1557.35 1311.34 1564.64 L1306.25 1564.64 Q1301.47 1557.16 1299.09 1549.93 Q1296.73 1542.71 1296.73 1535.58 Q1296.73 1528.48 1299.09 1521.29 Q1301.44 1514.09 1306.25 1506.58 L1311.34 1506.58 Z\" fill=\"#000000\" fill-rule=\"evenodd\" fill-opacity=\"1\" /><path clip-path=\"url(#clip030)\" d=\"M 0 0 M1317.74 1508.52 L1324.17 1508.52 L1324.17 1528.61 L1345.49 1508.52 L1353.77 1508.52 L1330.18 1530.68 L1355.45 1556.04 L1346.99 1556.04 L1324.17 1533.16 L1324.17 1556.04 L1317.74 1556.04 L1317.74 1508.52 Z\" fill=\"#000000\" fill-rule=\"evenodd\" fill-opacity=\"1\" /><path clip-path=\"url(#clip030)\" d=\"M 0 0 M1360.67 1506.58 L1365.77 1506.58 Q1370.54 1514.09 1372.9 1521.29 Q1375.28 1528.48 1375.28 1535.58 Q1375.28 1542.71 1372.9 1549.93 Q1370.54 1557.16 1365.77 1564.64 L1360.67 1564.64 Q1364.91 1557.35 1366.98 1550.16 Q1369.08 1542.93 1369.08 1535.58 Q1369.08 1528.23 1366.98 1521.06 Q1364.91 1513.9 1360.67 1506.58 Z\" fill=\"#000000\" fill-rule=\"evenodd\" fill-opacity=\"1\" /><path clip-path=\"url(#clip030)\" d=\"M 0 0 M52.3562 846.197 L52.3562 818.379 L57.7034 818.379 L83.3254 840.405 L83.3254 818.379 L88.0042 818.379 L88.0042 846.993 L82.657 846.993 L57.035 824.968 L57.035 846.197 L52.3562 846.197 Z\" fill=\"#000000\" fill-rule=\"evenodd\" fill-opacity=\"1\" /><path clip-path=\"url(#clip030)\" d=\"M 0 0 M38.5426 777.448 Q45.8632 781.713 53.0246 783.782 Q60.186 785.851 67.5384 785.851 Q74.8908 785.851 82.1159 783.782 Q89.3091 781.681 96.5979 777.448 L96.5979 782.54 Q89.1182 787.315 81.8931 789.702 Q74.668 792.057 67.5384 792.057 Q60.4406 792.057 53.2474 789.702 Q46.0542 787.346 38.5426 782.54 L38.5426 777.448 Z\" fill=\"#000000\" fill-rule=\"evenodd\" fill-opacity=\"1\" /><path clip-path=\"url(#clip030)\" d=\"M 0 0 M59.1993 743.55 Q55.2526 741.354 53.3747 738.299 Q51.4968 735.243 51.4968 731.105 Q51.4968 725.535 55.4117 722.512 Q59.2948 719.488 66.4881 719.488 L88.0042 719.488 L88.0042 725.376 L66.679 725.376 Q61.5546 725.376 59.072 727.191 Q56.5894 729.005 56.5894 732.729 Q56.5894 737.28 59.6131 739.922 Q62.6368 742.564 67.8567 742.564 L88.0042 742.564 L88.0042 748.452 L66.679 748.452 Q61.5228 748.452 59.072 750.266 Q56.5894 752.08 56.5894 755.868 Q56.5894 760.356 59.6449 762.998 Q62.6686 765.639 67.8567 765.639 L88.0042 765.639 L88.0042 771.528 L52.3562 771.528 L52.3562 765.639 L57.8944 765.639 Q54.616 763.634 53.0564 760.833 Q51.4968 758.032 51.4968 754.181 Q51.4968 750.298 53.4702 747.593 Q55.4436 744.855 59.1993 743.55 Z\" fill=\"#000000\" fill-rule=\"evenodd\" fill-opacity=\"1\" /><path clip-path=\"url(#clip030)\" d=\"M 0 0 M38.5426 714.268 L38.5426 709.176 Q46.0542 704.401 53.2474 702.046 Q60.4406 699.659 67.5384 699.659 Q74.668 699.659 81.8931 702.046 Q89.1182 704.401 96.5979 709.176 L96.5979 714.268 Q89.3091 710.035 82.1159 707.966 Q74.8908 705.865 67.5384 705.865 Q60.186 705.865 53.0246 707.966 Q45.8632 710.035 38.5426 714.268 Z\" fill=\"#000000\" fill-rule=\"evenodd\" fill-opacity=\"1\" /><polyline clip-path=\"url(#clip032)\" style=\"stroke:#009af9; stroke-width:4; stroke-opacity:1; fill:none\" points=\"\n",
       "  312.176,1386.4 312.176,1361.87 312.171,1337.35 312.181,1312.83 312.181,1288.3 312.176,1263.78 312.181,1239.26 312.176,1214.74 312.176,1190.21 312.176,1165.69 \n",
       "  312.181,1141.17 312.176,1116.64 312.176,1092.12 312.176,1067.6 312.176,1043.08 312.176,1018.55 312.181,994.031 312.195,969.508 312.2,944.985 312.214,920.463 \n",
       "  312.243,895.94 312.3,871.417 312.396,846.894 312.554,822.372 312.817,797.849 313.252,773.326 313.945,748.803 315.031,724.28 316.733,699.758 319.306,675.235 \n",
       "  323.146,650.712 328.774,626.189 336.846,601.666 348.242,577.144 364.027,552.621 385.455,528.098 414.042,503.575 451.451,479.053 499.501,454.53 560.06,430.007 \n",
       "  634.97,405.484 725.899,380.961 834.211,356.439 960.824,331.916 1106.04,307.393 1269.51,282.87 1450.06,258.347 1645.72,233.825 1853.82,209.302 2070.97,184.779 \n",
       "  2293.32,160.256 \n",
       "  \"/>\n",
       "<polyline clip-path=\"url(#clip032)\" style=\"stroke:#e26f46; stroke-width:4; stroke-opacity:1; fill:none\" points=\"\n",
       "  312.176,1386.4 312.176,1386.4 312.176,1374.13 312.176,1374.13 312.176,1374.13 \n",
       "  312.176,1374.13 312.176,1361.87 312.176,1361.87 312.176,1361.87 312.176,1361.87 \n",
       "  312.176,1349.61 312.176,1349.61 312.176,1349.61 312.176,1349.61 312.176,1337.35 312.176,1337.35 \n",
       "  312.176,1337.35 312.176,1337.35 312.176,1325.09 312.176,1325.09 \n",
       "  312.176,1325.09 312.176,1325.09 312.176,1312.83 312.176,1312.83 312.176,1312.83 \n",
       "  312.176,1312.83 312.176,1300.57 312.176,1300.57 312.176,1300.57 312.176,1300.57 \n",
       "  312.176,1288.3 312.176,1288.3 312.176,1288.3 312.176,1288.3 312.176,1276.04 312.176,1276.04 \n",
       "  312.176,1276.04 312.176,1276.04 312.176,1263.78 312.176,1263.78 \n",
       "  312.176,1263.78 312.176,1263.78 312.176,1251.52 312.176,1251.52 312.176,1251.52 \n",
       "  312.176,1251.52 312.176,1239.26 312.176,1239.26 312.176,1239.26 312.176,1239.26 \n",
       "  312.176,1227 312.176,1227 312.176,1227 312.176,1227 312.176,1214.74 312.176,1214.74 \n",
       "  312.176,1214.74 312.176,1214.74 312.176,1202.47 312.176,1202.47 \n",
       "  312.176,1202.47 312.176,1202.47 312.176,1190.21 312.176,1190.21 312.176,1190.21 \n",
       "  312.176,1190.21 312.176,1177.95 312.176,1177.95 312.176,1177.95 312.176,1177.95 \n",
       "  312.176,1165.69 312.176,1165.69 312.176,1165.69 312.176,1165.69 312.176,1153.43 312.176,1153.43 \n",
       "  312.176,1153.43 312.176,1153.43 312.176,1141.17 312.176,1141.17 \n",
       "  312.176,1141.17 312.176,1141.17 312.176,1128.91 312.176,1128.91 312.176,1128.91 \n",
       "  312.176,1128.91 312.176,1116.64 312.176,1116.65 312.176,1116.64 312.176,1116.65 \n",
       "  312.176,1104.38 312.176,1104.38 312.176,1104.38 312.176,1104.38 312.176,1092.12 312.176,1092.12 \n",
       "  312.176,1092.12 312.176,1092.12 312.176,1079.86 312.176,1079.86 \n",
       "  312.176,1079.86 312.176,1079.86 312.176,1067.6 312.176,1067.6 312.176,1067.6 \n",
       "  312.176,1067.6 312.176,1055.34 312.176,1055.34 312.176,1055.34 312.176,1055.34 \n",
       "  312.176,1043.08 312.176,1043.08 312.176,1043.08 312.176,1043.08 312.176,1030.82 312.176,1030.82 \n",
       "  312.176,1030.82 312.176,1030.82 312.176,1018.55 312.176,1018.55 \n",
       "  312.176,1018.55 312.176,1018.55 312.176,1006.29 312.176,1006.29 312.176,1006.29 \n",
       "  312.176,1006.29 312.176,994.031 312.176,994.031 312.176,994.031 312.176,994.031 \n",
       "  312.176,981.77 312.176,981.77 312.176,981.77 312.176,981.77 312.176,969.508 312.176,969.508 \n",
       "  312.176,969.508 312.176,969.508 312.176,957.247 312.176,957.247 \n",
       "  312.176,957.247 312.176,957.247 312.176,944.985 312.176,944.986 312.176,944.985 \n",
       "  312.176,944.986 312.176,932.724 312.176,932.724 312.176,932.724 312.176,932.724 \n",
       "  312.176,920.463 312.176,920.463 312.176,920.463 312.176,920.463 312.176,908.201 312.176,908.201 \n",
       "  312.176,908.201 312.176,908.201 312.176,895.94 312.176,895.94 \n",
       "  312.176,895.94 312.176,895.94 312.176,883.678 312.176,883.679 312.176,883.678 \n",
       "  312.176,883.679 312.176,871.417 312.176,871.417 312.176,871.417 312.176,871.417 \n",
       "  312.176,859.156 312.176,859.156 312.176,859.156 312.176,859.156 312.176,846.894 312.176,846.894 \n",
       "  312.176,846.894 312.176,846.894 312.176,834.633 312.176,834.633 \n",
       "  312.176,834.633 312.176,834.633 312.176,822.372 312.176,822.372 312.176,822.372 \n",
       "  312.176,822.372 312.176,810.11 312.176,810.11 312.176,810.11 312.176,810.11 \n",
       "  312.176,797.849 312.176,797.849 312.176,797.849 312.176,797.849 312.176,785.587 312.176,785.587 \n",
       "  312.176,785.587 312.176,785.587 312.176,773.326 312.176,773.326 \n",
       "  312.176,773.326 312.176,761.065 312.176,761.065 312.176,761.065 \n",
       "  312.176,761.065 312.176,748.803 312.176,748.803 312.176,748.803 312.176,748.803 \n",
       "  312.176,736.542 312.176,736.542 312.176,736.542 312.176,736.542 312.176,724.28 312.176,724.28 \n",
       "  312.176,724.28 312.176,724.28 312.176,712.019 312.176,712.019 \n",
       "  312.176,712.019 312.176,712.019 312.176,699.758 312.176,699.758 312.176,699.758 \n",
       "  312.176,699.758 312.176,687.496 312.176,687.496 312.176,687.496 312.176,687.496 \n",
       "  312.176,675.235 312.176,675.235 312.176,675.235 312.176,675.235 312.176,662.973 312.176,662.973 \n",
       "  312.176,662.973 312.176,662.973 312.176,650.712 312.176,650.712 \n",
       "  312.176,650.712 312.176,650.712 312.176,638.451 312.176,638.451 312.176,638.451 \n",
       "  312.176,638.451 312.176,626.189 312.176,626.189 312.176,626.189 312.176,626.189 \n",
       "  312.176,613.928 312.176,613.928 312.176,613.928 312.176,613.928 312.176,601.666 312.176,601.667 \n",
       "  312.176,601.666 312.176,601.667 312.176,589.405 312.176,589.405 \n",
       "  312.176,589.405 312.176,589.405 312.176,577.144 312.176,577.144 312.176,577.144 \n",
       "  312.176,577.144 312.176,564.882 312.176,564.882 312.176,564.882 312.176,564.882 \n",
       "  312.176,552.621 312.176,552.621 312.176,552.621 312.176,552.621 312.176,540.36 312.176,540.36 \n",
       "  312.176,540.36 312.176,540.36 312.176,528.098 312.176,528.098 \n",
       "  312.176,528.098 312.176,528.098 312.176,515.837 312.176,515.837 312.176,515.837 \n",
       "  312.176,515.837 312.176,503.575 312.176,503.575 312.176,503.575 312.176,503.575 \n",
       "  312.176,491.314 312.176,491.314 312.176,491.314 312.176,491.314 312.176,479.053 312.176,479.053 \n",
       "  312.176,479.053 312.176,479.053 312.176,466.791 312.176,466.791 \n",
       "  312.176,466.791 312.176,454.53 312.176,454.53 \n",
       "  312.176,454.53 312.176,442.268 312.176,442.268 312.176,442.268 312.176,442.268 \n",
       "  312.176,430.007 312.176,430.007 312.176,430.007 312.176,430.007 312.176,417.746 312.176,417.746 \n",
       "  312.176,417.746 312.176,417.746 312.176,405.484 312.176,405.484 \n",
       "  312.176,405.484 312.176,405.484 312.176,393.223 312.176,393.223 312.176,393.223 \n",
       "  312.176,393.223 312.176,380.961 312.176,380.961 312.176,380.961 312.176,380.961 \n",
       "  312.176,368.7 312.176,368.7 312.176,368.7 312.176,368.7 312.176,356.439 312.176,356.439 \n",
       "  312.176,356.439 312.176,356.439 312.176,344.177 312.176,344.177 \n",
       "  312.176,344.177 312.176,344.177 312.176,331.916 312.176,331.916 312.176,331.916 \n",
       "  312.176,331.916 312.176,319.654 312.176,319.654 312.176,319.654 312.176,319.654 \n",
       "  312.176,307.393 312.176,307.393 312.176,307.393 312.176,295.132 312.176,295.132 \n",
       "  312.176,295.132 312.176,295.132 312.176,282.87 312.176,282.87 \n",
       "  312.176,282.87 312.176,282.87 312.176,270.609 312.176,270.609 312.176,270.609 \n",
       "  312.176,270.609 312.176,258.347 312.176,258.347 312.176,258.347 312.176,258.347 \n",
       "  312.176,246.086 312.176,246.086 312.176,246.086 312.176,246.086 312.176,233.825 \n",
       "  312.176,233.825 312.176,233.825 312.176,233.825 312.176,221.563 312.176,221.563 \n",
       "  312.176,221.563 312.176,221.563 312.176,209.302 312.176,209.302 312.176,209.302 \n",
       "  312.176,209.302 312.176,197.04 312.176,197.04 312.176,197.04 312.176,197.04 \n",
       "  312.176,184.779 312.176,184.779 312.176,184.779 312.176,184.779 312.176,172.518 \n",
       "  312.176,172.518 312.176,172.518 312.176,160.256 \n",
       "  \n",
       "  \"/>\n",
       "<path clip-path=\"url(#clip030)\" d=\"\n",
       "M1721.55 348.236 L2282.76 348.236 L2282.76 166.796 L1721.55 166.796  Z\n",
       "  \" fill=\"#ffffff\" fill-rule=\"evenodd\" fill-opacity=\"1\"/>\n",
       "<polyline clip-path=\"url(#clip030)\" style=\"stroke:#000000; stroke-width:4; stroke-opacity:1; fill:none\" points=\"\n",
       "  1721.55,348.236 2282.76,348.236 2282.76,166.796 1721.55,166.796 1721.55,348.236 \n",
       "  \"/>\n",
       "<polyline clip-path=\"url(#clip030)\" style=\"stroke:#009af9; stroke-width:4; stroke-opacity:1; fill:none\" points=\"\n",
       "  1744.88,227.276 1884.89,227.276 \n",
       "  \"/>\n",
       "<path clip-path=\"url(#clip030)\" d=\"M 0 0 M1936.09 212.658 L1936.09 217.588 Q1933.73 215.389 1931.04 214.301 Q1928.38 213.213 1925.37 213.213 Q1919.45 213.213 1916.3 216.848 Q1913.15 220.459 1913.15 227.31 Q1913.15 234.139 1916.3 237.773 Q1919.45 241.384 1925.37 241.384 Q1928.38 241.384 1931.04 240.296 Q1933.73 239.209 1936.09 237.009 L1936.09 241.894 Q1933.64 243.56 1930.88 244.394 Q1928.15 245.227 1925.09 245.227 Q1917.25 245.227 1912.73 240.435 Q1908.22 235.621 1908.22 227.31 Q1908.22 218.977 1912.73 214.186 Q1917.25 209.371 1925.09 209.371 Q1928.2 209.371 1930.93 210.204 Q1933.68 211.014 1936.09 212.658 Z\" fill=\"#000000\" fill-rule=\"evenodd\" fill-opacity=\"1\" /><path clip-path=\"url(#clip030)\" d=\"M 0 0 M1940.56 208.537 L1944.82 208.537 L1944.82 244.556 L1940.56 244.556 L1940.56 208.537 Z\" fill=\"#000000\" fill-rule=\"evenodd\" fill-opacity=\"1\" /><path clip-path=\"url(#clip030)\" d=\"M 0 0 M1949.28 218.63 L1953.54 218.63 L1953.54 244.556 L1949.28 244.556 L1949.28 218.63 M1949.28 208.537 L1953.54 208.537 L1953.54 213.931 L1949.28 213.931 L1949.28 208.537 Z\" fill=\"#000000\" fill-rule=\"evenodd\" fill-opacity=\"1\" /><path clip-path=\"url(#clip030)\" d=\"M 0 0 M1978.2 223.607 Q1979.79 220.736 1982.02 219.371 Q1984.24 218.005 1987.25 218.005 Q1991.3 218.005 1993.5 220.852 Q1995.7 223.676 1995.7 228.908 L1995.7 244.556 L1991.41 244.556 L1991.41 229.047 Q1991.41 225.32 1990.09 223.514 Q1988.77 221.709 1986.07 221.709 Q1982.76 221.709 1980.83 223.908 Q1978.91 226.107 1978.91 229.903 L1978.91 244.556 L1974.63 244.556 L1974.63 229.047 Q1974.63 225.297 1973.31 223.514 Q1971.99 221.709 1969.24 221.709 Q1965.97 221.709 1964.05 223.931 Q1962.13 226.13 1962.13 229.903 L1962.13 244.556 L1957.85 244.556 L1957.85 218.63 L1962.13 218.63 L1962.13 222.658 Q1963.59 220.273 1965.63 219.139 Q1967.66 218.005 1970.46 218.005 Q1973.29 218.005 1975.26 219.44 Q1977.25 220.875 1978.2 223.607 Z\" fill=\"#000000\" fill-rule=\"evenodd\" fill-opacity=\"1\" /><path clip-path=\"url(#clip030)\" d=\"M 0 0 M2011.95 231.523 Q2006.78 231.523 2004.79 232.704 Q2002.8 233.884 2002.8 236.732 Q2002.8 239 2004.28 240.343 Q2005.79 241.662 2008.36 241.662 Q2011.9 241.662 2014.03 239.162 Q2016.18 236.639 2016.18 232.472 L2016.18 231.523 L2011.95 231.523 M2020.44 229.764 L2020.44 244.556 L2016.18 244.556 L2016.18 240.621 Q2014.72 242.982 2012.55 244.116 Q2010.37 245.227 2007.22 245.227 Q2003.24 245.227 2000.88 243.005 Q1998.54 240.759 1998.54 237.009 Q1998.54 232.634 2001.46 230.412 Q2004.4 228.19 2010.21 228.19 L2016.18 228.19 L2016.18 227.773 Q2016.18 224.834 2014.24 223.236 Q2012.32 221.616 2008.82 221.616 Q2006.6 221.616 2004.49 222.148 Q2002.39 222.681 2000.44 223.746 L2000.44 219.81 Q2002.78 218.908 2004.98 218.468 Q2007.18 218.005 2009.26 218.005 Q2014.89 218.005 2017.66 220.922 Q2020.44 223.838 2020.44 229.764 Z\" fill=\"#000000\" fill-rule=\"evenodd\" fill-opacity=\"1\" /><path clip-path=\"url(#clip030)\" d=\"M 0 0 M2029.12 211.269 L2029.12 218.63 L2037.89 218.63 L2037.89 221.94 L2029.12 221.94 L2029.12 236.014 Q2029.12 239.185 2029.98 240.088 Q2030.86 240.991 2033.52 240.991 L2037.89 240.991 L2037.89 244.556 L2033.52 244.556 Q2028.59 244.556 2026.71 242.727 Q2024.84 240.875 2024.84 236.014 L2024.84 221.94 L2021.71 221.94 L2021.71 218.63 L2024.84 218.63 L2024.84 211.269 L2029.12 211.269 Z\" fill=\"#000000\" fill-rule=\"evenodd\" fill-opacity=\"1\" /><path clip-path=\"url(#clip030)\" d=\"M 0 0 M2064.54 230.528 L2064.54 232.611 L2044.95 232.611 Q2045.23 237.009 2047.59 239.324 Q2049.98 241.616 2054.21 241.616 Q2056.67 241.616 2058.96 241.014 Q2061.27 240.412 2063.54 239.209 L2063.54 243.236 Q2061.25 244.208 2058.84 244.718 Q2056.44 245.227 2053.96 245.227 Q2047.76 245.227 2044.12 241.616 Q2040.51 238.005 2040.51 231.847 Q2040.51 225.482 2043.94 221.755 Q2047.39 218.005 2053.22 218.005 Q2058.45 218.005 2061.48 221.385 Q2064.54 224.741 2064.54 230.528 M2060.28 229.278 Q2060.23 225.783 2058.31 223.699 Q2056.41 221.616 2053.27 221.616 Q2049.7 221.616 2047.55 223.63 Q2045.42 225.644 2045.09 229.301 L2060.28 229.278 Z\" fill=\"#000000\" fill-rule=\"evenodd\" fill-opacity=\"1\" /><path clip-path=\"url(#clip030)\" d=\"M 0 0 M2069.19 209.996 L2076.16 209.996 L2084.98 233.514 L2093.84 209.996 L2100.81 209.996 L2100.81 244.556 L2096.25 244.556 L2096.25 214.209 L2087.34 237.912 L2082.64 237.912 L2073.73 214.209 L2073.73 244.556 L2069.19 244.556 L2069.19 209.996 Z\" fill=\"#000000\" fill-rule=\"evenodd\" fill-opacity=\"1\" /><path clip-path=\"url(#clip030)\" d=\"M 0 0 M2117.06 231.523 Q2111.9 231.523 2109.91 232.704 Q2107.92 233.884 2107.92 236.732 Q2107.92 239 2109.4 240.343 Q2110.9 241.662 2113.47 241.662 Q2117.01 241.662 2119.14 239.162 Q2121.3 236.639 2121.3 232.472 L2121.3 231.523 L2117.06 231.523 M2125.56 229.764 L2125.56 244.556 L2121.3 244.556 L2121.3 240.621 Q2119.84 242.982 2117.66 244.116 Q2115.49 245.227 2112.34 245.227 Q2108.36 245.227 2106 243.005 Q2103.66 240.759 2103.66 237.009 Q2103.66 232.634 2106.57 230.412 Q2109.51 228.19 2115.32 228.19 L2121.3 228.19 L2121.3 227.773 Q2121.3 224.834 2119.35 223.236 Q2117.43 221.616 2113.94 221.616 Q2111.71 221.616 2109.61 222.148 Q2107.5 222.681 2105.56 223.746 L2105.56 219.81 Q2107.89 218.908 2110.09 218.468 Q2112.29 218.005 2114.38 218.005 Q2120 218.005 2122.78 220.922 Q2125.56 223.838 2125.56 229.764 Z\" fill=\"#000000\" fill-rule=\"evenodd\" fill-opacity=\"1\" /><path clip-path=\"url(#clip030)\" d=\"M 0 0 M2148.68 219.625 L2148.68 223.607 Q2146.88 222.611 2145.05 222.125 Q2143.24 221.616 2141.39 221.616 Q2137.25 221.616 2134.95 224.255 Q2132.66 226.871 2132.66 231.616 Q2132.66 236.361 2134.95 239 Q2137.25 241.616 2141.39 241.616 Q2143.24 241.616 2145.05 241.13 Q2146.88 240.621 2148.68 239.625 L2148.68 243.56 Q2146.9 244.394 2144.98 244.81 Q2143.08 245.227 2140.93 245.227 Q2135.07 245.227 2131.62 241.546 Q2128.17 237.866 2128.17 231.616 Q2128.17 225.273 2131.64 221.639 Q2135.14 218.005 2141.2 218.005 Q2143.17 218.005 2145.05 218.422 Q2146.92 218.815 2148.68 219.625 Z\" fill=\"#000000\" fill-rule=\"evenodd\" fill-opacity=\"1\" /><path clip-path=\"url(#clip030)\" d=\"M 0 0 M2174.7 228.908 L2174.7 244.556 L2170.44 244.556 L2170.44 229.047 Q2170.44 225.366 2169.01 223.537 Q2167.57 221.709 2164.7 221.709 Q2161.25 221.709 2159.26 223.908 Q2157.27 226.107 2157.27 229.903 L2157.27 244.556 L2152.99 244.556 L2152.99 208.537 L2157.27 208.537 L2157.27 222.658 Q2158.8 220.32 2160.86 219.162 Q2162.94 218.005 2165.65 218.005 Q2170.12 218.005 2172.41 220.783 Q2174.7 223.537 2174.7 228.908 Z\" fill=\"#000000\" fill-rule=\"evenodd\" fill-opacity=\"1\" /><path clip-path=\"url(#clip030)\" d=\"M 0 0 M2179.17 218.63 L2183.43 218.63 L2183.43 244.556 L2179.17 244.556 L2179.17 218.63 M2179.17 208.537 L2183.43 208.537 L2183.43 213.931 L2179.17 213.931 L2179.17 208.537 Z\" fill=\"#000000\" fill-rule=\"evenodd\" fill-opacity=\"1\" /><path clip-path=\"url(#clip030)\" d=\"M 0 0 M2209.44 228.908 L2209.44 244.556 L2205.19 244.556 L2205.19 229.047 Q2205.19 225.366 2203.75 223.537 Q2202.32 221.709 2199.44 221.709 Q2196 221.709 2194.01 223.908 Q2192.01 226.107 2192.01 229.903 L2192.01 244.556 L2187.73 244.556 L2187.73 218.63 L2192.01 218.63 L2192.01 222.658 Q2193.54 220.32 2195.6 219.162 Q2197.69 218.005 2200.39 218.005 Q2204.86 218.005 2207.15 220.783 Q2209.44 223.537 2209.44 228.908 Z\" fill=\"#000000\" fill-rule=\"evenodd\" fill-opacity=\"1\" /><path clip-path=\"url(#clip030)\" d=\"M 0 0 M2236.09 230.528 L2236.09 232.611 L2216.5 232.611 Q2216.78 237.009 2219.14 239.324 Q2221.53 241.616 2225.76 241.616 Q2228.22 241.616 2230.51 241.014 Q2232.82 240.412 2235.09 239.209 L2235.09 243.236 Q2232.8 244.208 2230.39 244.718 Q2227.99 245.227 2225.51 245.227 Q2219.31 245.227 2215.67 241.616 Q2212.06 238.005 2212.06 231.847 Q2212.06 225.482 2215.49 221.755 Q2218.94 218.005 2224.77 218.005 Q2230 218.005 2233.03 221.385 Q2236.09 224.741 2236.09 230.528 M2231.83 229.278 Q2231.78 225.783 2229.86 223.699 Q2227.96 221.616 2224.82 221.616 Q2221.25 221.616 2219.1 223.63 Q2216.97 225.644 2216.64 229.301 L2231.83 229.278 Z\" fill=\"#000000\" fill-rule=\"evenodd\" fill-opacity=\"1\" /><polyline clip-path=\"url(#clip030)\" style=\"stroke:#e26f46; stroke-width:4; stroke-opacity:1; fill:none\" points=\"\n",
       "  1744.88,287.756 1884.89,287.756 \n",
       "  \"/>\n",
       "<path clip-path=\"url(#clip030)\" d=\"M 0 0 M1908.22 270.476 L1912.9 270.476 L1912.9 305.036 L1908.22 305.036 L1908.22 270.476 Z\" fill=\"#000000\" fill-rule=\"evenodd\" fill-opacity=\"1\" /><path clip-path=\"url(#clip030)\" d=\"M 0 0 M1938.91 289.388 L1938.91 305.036 L1934.65 305.036 L1934.65 289.527 Q1934.65 285.846 1933.22 284.017 Q1931.78 282.189 1928.91 282.189 Q1925.46 282.189 1923.47 284.388 Q1921.48 286.587 1921.48 290.383 L1921.48 305.036 L1917.2 305.036 L1917.2 279.11 L1921.48 279.11 L1921.48 283.138 Q1923.01 280.8 1925.07 279.642 Q1927.15 278.485 1929.86 278.485 Q1934.33 278.485 1936.62 281.263 Q1938.91 284.017 1938.91 289.388 Z\" fill=\"#000000\" fill-rule=\"evenodd\" fill-opacity=\"1\" /><path clip-path=\"url(#clip030)\" d=\"M 0 0 M1943.38 279.11 L1947.64 279.11 L1947.64 305.036 L1943.38 305.036 L1943.38 279.11 M1943.38 269.017 L1947.64 269.017 L1947.64 274.411 L1943.38 274.411 L1943.38 269.017 Z\" fill=\"#000000\" fill-rule=\"evenodd\" fill-opacity=\"1\" /><path clip-path=\"url(#clip030)\" d=\"M 0 0 M1956.32 271.749 L1956.32 279.11 L1965.09 279.11 L1965.09 282.42 L1956.32 282.42 L1956.32 296.494 Q1956.32 299.665 1957.18 300.568 Q1958.06 301.471 1960.72 301.471 L1965.09 301.471 L1965.09 305.036 L1960.72 305.036 Q1955.79 305.036 1953.91 303.207 Q1952.04 301.355 1952.04 296.494 L1952.04 282.42 L1948.91 282.42 L1948.91 279.11 L1952.04 279.11 L1952.04 271.749 L1956.32 271.749 Z\" fill=\"#000000\" fill-rule=\"evenodd\" fill-opacity=\"1\" /><path clip-path=\"url(#clip030)\" d=\"M 0 0 M1969.56 279.11 L1973.82 279.11 L1973.82 305.036 L1969.56 305.036 L1969.56 279.11 M1969.56 269.017 L1973.82 269.017 L1973.82 274.411 L1969.56 274.411 L1969.56 269.017 Z\" fill=\"#000000\" fill-rule=\"evenodd\" fill-opacity=\"1\" /><path clip-path=\"url(#clip030)\" d=\"M 0 0 M1990.07 292.003 Q1984.91 292.003 1982.92 293.184 Q1980.93 294.364 1980.93 297.212 Q1980.93 299.48 1982.41 300.823 Q1983.91 302.142 1986.48 302.142 Q1990.02 302.142 1992.15 299.642 Q1994.31 297.119 1994.31 292.952 L1994.31 292.003 L1990.07 292.003 M1998.57 290.244 L1998.57 305.036 L1994.31 305.036 L1994.31 301.101 Q1992.85 303.462 1990.67 304.596 Q1988.5 305.707 1985.35 305.707 Q1981.37 305.707 1979.01 303.485 Q1976.67 301.239 1976.67 297.489 Q1976.67 293.114 1979.58 290.892 Q1982.52 288.67 1988.33 288.67 L1994.31 288.67 L1994.31 288.253 Q1994.31 285.314 1992.36 283.716 Q1990.44 282.096 1986.95 282.096 Q1984.72 282.096 1982.62 282.628 Q1980.51 283.161 1978.57 284.226 L1978.57 280.29 Q1980.9 279.388 1983.1 278.948 Q1985.3 278.485 1987.39 278.485 Q1993.01 278.485 1995.79 281.402 Q1998.57 284.318 1998.57 290.244 Z\" fill=\"#000000\" fill-rule=\"evenodd\" fill-opacity=\"1\" /><path clip-path=\"url(#clip030)\" d=\"M 0 0 M2003.03 269.017 L2007.29 269.017 L2007.29 305.036 L2003.03 305.036 L2003.03 269.017 Z\" fill=\"#000000\" fill-rule=\"evenodd\" fill-opacity=\"1\" /><path clip-path=\"url(#clip030)\" d=\"M 0 0 M2045.49 280.105 L2045.49 284.087 Q2043.68 283.091 2041.85 282.605 Q2040.05 282.096 2038.2 282.096 Q2034.05 282.096 2031.76 284.735 Q2029.47 287.351 2029.47 292.096 Q2029.47 296.841 2031.76 299.48 Q2034.05 302.096 2038.2 302.096 Q2040.05 302.096 2041.85 301.61 Q2043.68 301.101 2045.49 300.105 L2045.49 304.04 Q2043.7 304.874 2041.78 305.29 Q2039.89 305.707 2037.73 305.707 Q2031.88 305.707 2028.43 302.026 Q2024.98 298.346 2024.98 292.096 Q2024.98 285.753 2028.45 282.119 Q2031.95 278.485 2038.01 278.485 Q2039.98 278.485 2041.85 278.902 Q2043.73 279.295 2045.49 280.105 Z\" fill=\"#000000\" fill-rule=\"evenodd\" fill-opacity=\"1\" /><path clip-path=\"url(#clip030)\" d=\"M 0 0 M2060 282.096 Q2056.58 282.096 2054.58 284.781 Q2052.59 287.443 2052.59 292.096 Q2052.59 296.749 2054.56 299.434 Q2056.55 302.096 2060 302.096 Q2063.4 302.096 2065.39 299.411 Q2067.39 296.726 2067.39 292.096 Q2067.39 287.49 2065.39 284.804 Q2063.4 282.096 2060 282.096 M2060 278.485 Q2065.56 278.485 2068.73 282.096 Q2071.9 285.707 2071.9 292.096 Q2071.9 298.462 2068.73 302.096 Q2065.56 305.707 2060 305.707 Q2054.42 305.707 2051.25 302.096 Q2048.1 298.462 2048.1 292.096 Q2048.1 285.707 2051.25 282.096 Q2054.42 278.485 2060 278.485 Z\" fill=\"#000000\" fill-rule=\"evenodd\" fill-opacity=\"1\" /><path clip-path=\"url(#clip030)\" d=\"M 0 0 M2097.92 289.388 L2097.92 305.036 L2093.66 305.036 L2093.66 289.527 Q2093.66 285.846 2092.22 284.017 Q2090.79 282.189 2087.92 282.189 Q2084.47 282.189 2082.48 284.388 Q2080.49 286.587 2080.49 290.383 L2080.49 305.036 L2076.2 305.036 L2076.2 279.11 L2080.49 279.11 L2080.49 283.138 Q2082.01 280.8 2084.08 279.642 Q2086.16 278.485 2088.87 278.485 Q2093.33 278.485 2095.63 281.263 Q2097.92 284.017 2097.92 289.388 Z\" fill=\"#000000\" fill-rule=\"evenodd\" fill-opacity=\"1\" /><path clip-path=\"url(#clip030)\" d=\"M 0 0 M2119.45 283.045 L2119.45 269.017 L2123.7 269.017 L2123.7 305.036 L2119.45 305.036 L2119.45 301.147 Q2118.1 303.462 2116.04 304.596 Q2114.01 305.707 2111.14 305.707 Q2106.44 305.707 2103.47 301.957 Q2100.53 298.207 2100.53 292.096 Q2100.53 285.985 2103.47 282.235 Q2106.44 278.485 2111.14 278.485 Q2114.01 278.485 2116.04 279.619 Q2118.1 280.73 2119.45 283.045 M2104.93 292.096 Q2104.93 296.795 2106.85 299.48 Q2108.8 302.142 2112.18 302.142 Q2115.56 302.142 2117.5 299.48 Q2119.45 296.795 2119.45 292.096 Q2119.45 287.397 2117.5 284.735 Q2115.56 282.05 2112.18 282.05 Q2108.8 282.05 2106.85 284.735 Q2104.93 287.397 2104.93 292.096 Z\" fill=\"#000000\" fill-rule=\"evenodd\" fill-opacity=\"1\" /><path clip-path=\"url(#clip030)\" d=\"M 0 0 M2128.17 279.11 L2132.43 279.11 L2132.43 305.036 L2128.17 305.036 L2128.17 279.11 M2128.17 269.017 L2132.43 269.017 L2132.43 274.411 L2128.17 274.411 L2128.17 269.017 Z\" fill=\"#000000\" fill-rule=\"evenodd\" fill-opacity=\"1\" /><path clip-path=\"url(#clip030)\" d=\"M 0 0 M2141.11 271.749 L2141.11 279.11 L2149.88 279.11 L2149.88 282.42 L2141.11 282.42 L2141.11 296.494 Q2141.11 299.665 2141.97 300.568 Q2142.85 301.471 2145.51 301.471 L2149.88 301.471 L2149.88 305.036 L2145.51 305.036 Q2140.58 305.036 2138.7 303.207 Q2136.83 301.355 2136.83 296.494 L2136.83 282.42 L2133.7 282.42 L2133.7 279.11 L2136.83 279.11 L2136.83 271.749 L2141.11 271.749 Z\" fill=\"#000000\" fill-rule=\"evenodd\" fill-opacity=\"1\" /><path clip-path=\"url(#clip030)\" d=\"M 0 0 M2154.35 279.11 L2158.61 279.11 L2158.61 305.036 L2154.35 305.036 L2154.35 279.11 M2154.35 269.017 L2158.61 269.017 L2158.61 274.411 L2154.35 274.411 L2154.35 269.017 Z\" fill=\"#000000\" fill-rule=\"evenodd\" fill-opacity=\"1\" /><path clip-path=\"url(#clip030)\" d=\"M 0 0 M2173.13 282.096 Q2169.7 282.096 2167.71 284.781 Q2165.72 287.443 2165.72 292.096 Q2165.72 296.749 2167.69 299.434 Q2169.68 302.096 2173.13 302.096 Q2176.53 302.096 2178.52 299.411 Q2180.51 296.726 2180.51 292.096 Q2180.51 287.49 2178.52 284.804 Q2176.53 282.096 2173.13 282.096 M2173.13 278.485 Q2178.68 278.485 2181.85 282.096 Q2185.02 285.707 2185.02 292.096 Q2185.02 298.462 2181.85 302.096 Q2178.68 305.707 2173.13 305.707 Q2167.55 305.707 2164.38 302.096 Q2161.23 298.462 2161.23 292.096 Q2161.23 285.707 2164.38 282.096 Q2167.55 278.485 2173.13 278.485 Z\" fill=\"#000000\" fill-rule=\"evenodd\" fill-opacity=\"1\" /><path clip-path=\"url(#clip030)\" d=\"M 0 0 M2211.04 289.388 L2211.04 305.036 L2206.78 305.036 L2206.78 289.527 Q2206.78 285.846 2205.35 284.017 Q2203.91 282.189 2201.04 282.189 Q2197.59 282.189 2195.6 284.388 Q2193.61 286.587 2193.61 290.383 L2193.61 305.036 L2189.33 305.036 L2189.33 279.11 L2193.61 279.11 L2193.61 283.138 Q2195.14 280.8 2197.2 279.642 Q2199.28 278.485 2201.99 278.485 Q2206.46 278.485 2208.75 281.263 Q2211.04 284.017 2211.04 289.388 Z\" fill=\"#000000\" fill-rule=\"evenodd\" fill-opacity=\"1\" /></svg>\n"
      ]
     },
     "metadata": {},
     "execution_count": 25
    }
   ],
   "cell_type": "code",
   "source": [
    "iQ, iaux, igrads =\n",
    "    interpolate_output(solver_config.dg.grid, zmin, zmax, Q, aux, grads, zres)\n",
    "z_ind = varsindex(vars_state(m, Auxiliary(), FT), :z)\n",
    "iz = Array(iaux[:, z_ind, :][:])\n",
    "z = Array(aux[:, z_ind, :][:])\n",
    "T_ind = varsindex(vars_state(m, Auxiliary(), FT), :soil, :heat, :T)\n",
    "iT = Array(iaux[:, T_ind, :][:])\n",
    "\n",
    "plot(\n",
    "    iT,\n",
    "    iz,\n",
    "    label = \"ClimateMachine\",\n",
    "    ylabel = \"z (m)\",\n",
    "    xlabel = \"T (K)\",\n",
    "    title = \"Heat transfer in sand\",\n",
    ")\n",
    "plot!(T_init.(z), z, label = \"Initial condition\")"
   ],
   "metadata": {},
   "execution_count": 25
  },
  {
   "cell_type": "markdown",
   "source": [
    "# Comparison data"
   ],
   "metadata": {}
  },
  {
   "outputs": [
    {
     "output_type": "execute_result",
     "data": {
      "text/plain": "101-element Array{Float64,1}:\n -0.995\n -0.985\n -0.975\n -0.965\n -0.955\n -0.945\n -0.935\n -0.925\n -0.915\n -0.905\n  ⋮\n -0.075\n -0.065\n -0.055\n -0.045\n -0.035\n -0.025\n -0.015\n -0.005\n  0.0"
     },
     "metadata": {},
     "execution_count": 26
    }
   ],
   "cell_type": "code",
   "source": [
    "filename = \"bonan_heat_data.csv\"\n",
    "const clima_dir = dirname(dirname(pathof(ClimateMachine)));\n",
    "bonan_dataset = ArtifactWrapper(\n",
    "    joinpath(clima_dir, \"tutorials\", \"Land\", \"Soil\", \"Artifacts.toml\"),\n",
    "    \"bonan_soil_heat\",\n",
    "    ArtifactFile[ArtifactFile(\n",
    "        url = \"https://caltech.box.com/shared/static/99vm8q8tlyoulext6c35lnd3355tx6bu.csv\",\n",
    "        filename = filename,\n",
    "    ),],\n",
    ")\n",
    "bonan_dataset_path = get_data_folder(bonan_dataset)\n",
    "data = joinpath(bonan_dataset_path, filename)\n",
    "ds_bonan = readdlm(data, ',')\n",
    "bonan_T = reverse(ds_bonan[:, 2])\n",
    "bonan_z = reverse(ds_bonan[:, 1])"
   ],
   "metadata": {},
   "execution_count": 26
  },
  {
   "cell_type": "markdown",
   "source": [
    "Create an interpolation from the Bonan data"
   ],
   "metadata": {}
  },
  {
   "outputs": [],
   "cell_type": "code",
   "source": [
    "bonan_T_continuous = Spline1D(bonan_z, bonan_T)\n",
    "bonan_at_clima_z = bonan_T_continuous.(z)\n",
    "\n",
    "plot!(bonan_at_clima_z, z, label = \"Bonan simulation\")\n",
    "plot!(legend = :bottomleft)\n",
    "savefig(\"thermal_conductivity_comparison.png\")"
   ],
   "metadata": {},
   "execution_count": 27
  },
  {
   "cell_type": "markdown",
   "source": [
    "![](thermal_conductivity_comparison.png)"
   ],
   "metadata": {}
  },
  {
   "cell_type": "markdown",
   "source": [
    "The plot shows that the temperature at the top of the\n",
    "soil is gradually increasing. This is because the surface\n",
    "temperature is held fixed at a value larger than\n",
    "the initial temperature. If we ran this for longer,\n",
    "we would see that the bottom of the domain would also\n",
    "increase in temperature because there is no heat\n",
    "leaving the bottom (due to zero heat flux specified in\n",
    "the boundary condition)."
   ],
   "metadata": {}
  },
  {
   "cell_type": "markdown",
   "source": [
    "# References\n",
    "[1] Bonan, G. Climate Change and Terrestrial Ecosystem Modeling (2019),\n",
    "Cambridge University Press"
   ],
   "metadata": {}
  },
  {
   "cell_type": "markdown",
   "source": [
    "[2] Johansen, O. 1975. Thermal conductivity of soils. Ph.D. thesis,\n",
    "Trondheim, Norway. Cold Regions Research and Engineering Laboratory\n",
    "Draft Translation 637, 1977, ADA 044002."
   ],
   "metadata": {}
  },
  {
   "cell_type": "markdown",
   "source": [
    "[3] Balland, V., and P. A. Arp (2005), Modeling soil thermal\n",
    "conductivities over a wide range of conditions, J. Env. Eng. Sci., 4, 549–558."
   ],
   "metadata": {}
  },
  {
   "cell_type": "markdown",
   "source": [
    "[4] Dai, Y., N. W. amd Hua Yuan, S. Zhang, W. Shangguan, S. Liu, X. Lu,\n",
    "and Y. Xin (2019a), Evaluation of soil thermal conductivity schemes for\n",
    "use in land surface modeling, J. Adv. Model. Earth Sys., 11, 3454–3473."
   ],
   "metadata": {}
  },
  {
   "cell_type": "markdown",
   "source": [
    "[5] Cosby, B. J., Hornberger, G. M., Clapp, R. B., and Ginn, T. R. (1984).\n",
    "A statistical exploration of the relationships of soil moisture\n",
    "characteristics to the physical properties of soils. Water Resources\n",
    "Research, 20, 682–690."
   ],
   "metadata": {}
  },
  {
   "cell_type": "markdown",
   "source": [
    "---\n",
    "\n",
    "*This notebook was generated using [Literate.jl](https://github.com/fredrikekre/Literate.jl).*"
   ],
   "metadata": {}
  }
 ],
 "nbformat_minor": 3,
 "metadata": {
  "language_info": {
   "file_extension": ".jl",
   "mimetype": "application/julia",
   "name": "julia",
   "version": "1.4.2"
  },
  "kernelspec": {
   "name": "julia-1.4",
   "display_name": "Julia 1.4.2",
   "language": "julia"
  }
 },
 "nbformat": 4
}
