{
 "cells": [
  {
   "cell_type": "markdown",
   "source": [
    "to do - add in diffusive courant??\n",
    "# Coupled heat and water equations tending towards equilibrium"
   ],
   "metadata": {}
  },
  {
   "cell_type": "markdown",
   "source": [
    "Other tutorials, such as the [soil heat tutorial](../Heat/bonan_heat_tutorial.md)\n",
    "and LINK WATER TUTORIAL HERE demonstrate how to solve the heat\n",
    "equation or Richard's equation without considering\n",
    "full interactions between the two. As an example, the user could\n",
    "prescribe a fixed function of space and time for the liquid water content,\n",
    "and use that to drive the heat equation, but without allowing the water\n",
    "content to dynamically evolve according to Richard's equation and without\n",
    "allowing the changing temperature of the soil to affect the water\n",
    "evolution."
   ],
   "metadata": {}
  },
  {
   "cell_type": "markdown",
   "source": [
    "Here we show how to solve the interacting heat and water equations,\n",
    "in sand. This allows us to capture\n",
    "behavior that is not present in the decoupled equations; for example,\n",
    "the diffusion of water also leads to an additional diffusion of heat. The equations\n",
    "are:\n",
    "``\n",
    "\\frac{∂ ρe_int}{∂ t} =  ∇ ⋅ (κ(θ_l, θ_i; ν, ...) ∇T) + ρe_int_liq \\times ∇ ⋅ (K (T,θ_l, θ_i; ν, ...) h( ϑ_l, z; ν, ...))\n",
    "``\n",
    "``\n",
    "\\frac{ ∂ ϑ_l}{∂ t} = ∇ ⋅ (K (T,θ_l, θ_i; ν, ...) h( ϑ_l, z; ν, ...)).\n",
    "``"
   ],
   "metadata": {}
  },
  {
   "cell_type": "markdown",
   "source": [
    "Here, `ρe_int` is the volumetric internal energy, `ρe_int_liq` is the\n",
    "liquid water volumetric internal energy, `κ` is the thermal\n",
    "conductivity, `K` is the hydraulic conductivity, `T` is the soil\n",
    "temperature, `h` is the hydraulic heat, and `ϑ_l` is the augmented liquid\n",
    "fraction. The conductivities are dependent on the volumetric ice fraction,\n",
    "`θ_i`, as well. The symbols `ν, ...` denote various parameters related to soil\n",
    "type, such as the van Genuchten parameters, the porosity, and the soil\n",
    "composition parameters, indicating that the equation is different for different soil\n",
    "types."
   ],
   "metadata": {}
  },
  {
   "cell_type": "markdown",
   "source": [
    "In steady state equilibrium, the LHS of these equations tends to zero.\n",
    "This tutorial uses a closed-box set-up, with zero heat\n",
    "and water fluxes at the boundaries. In the resulting equilibrium state,\n",
    "Richard's equation implies that `∂h/∂z = 0`: the water settles into a vertical profile in which\n",
    "the resulting pressure balances gravity.\n",
    "In the heat equation, equilibrium implies a constant\n",
    "temperature across the domain.\n",
    " We verify that the system is approaching this equilibrium, and we also sketch out\n",
    "an analytic calculation for the final temperature in equilibrium."
   ],
   "metadata": {}
  },
  {
   "cell_type": "markdown",
   "source": [
    "# Import necessary modules\n",
    "External (non - CliMA) modules"
   ],
   "metadata": {}
  },
  {
   "outputs": [],
   "cell_type": "code",
   "source": [
    "using MPI\n",
    "using OrderedCollections\n",
    "using StaticArrays\n",
    "using Statistics\n",
    "using Plots"
   ],
   "metadata": {},
   "execution_count": 1
  },
  {
   "cell_type": "markdown",
   "source": [
    "CliMA Parameters"
   ],
   "metadata": {}
  },
  {
   "outputs": [],
   "cell_type": "code",
   "source": [
    "using CLIMAParameters\n",
    "using CLIMAParameters.Planet: ρ_cloud_liq, ρ_cloud_ice, cp_l, cp_i, T_0, LH_f0\n",
    "using CLIMAParameters.Atmos.Microphysics: K_therm"
   ],
   "metadata": {},
   "execution_count": 2
  },
  {
   "cell_type": "markdown",
   "source": [
    "ClimateMachine modules"
   ],
   "metadata": {}
  },
  {
   "outputs": [],
   "cell_type": "code",
   "source": [
    "using ClimateMachine\n",
    "using ClimateMachine.Land\n",
    "using ClimateMachine.Land.SoilWaterParameterizations\n",
    "using ClimateMachine.Land.SoilHeatParameterizations\n",
    "using ClimateMachine.Mesh.Topologies\n",
    "using ClimateMachine.Mesh.Grids\n",
    "using ClimateMachine.Diagnostics\n",
    "using ClimateMachine.ConfigTypes\n",
    "using ClimateMachine.DGMethods\n",
    "using ClimateMachine.DGMethods.NumericalFluxes\n",
    "using ClimateMachine.DGMethods: BalanceLaw, LocalGeometry\n",
    "using ClimateMachine.MPIStateArrays\n",
    "using ClimateMachine.GenericCallbacks\n",
    "using ClimateMachine.ODESolvers\n",
    "using ClimateMachine.VariableTemplates\n",
    "using ClimateMachine.SingleStackUtils\n",
    "using ClimateMachine.BalanceLaws:\n",
    "    BalanceLaw, Prognostic, Auxiliary, Gradient, GradientFlux, vars_state"
   ],
   "metadata": {},
   "execution_count": 3
  },
  {
   "cell_type": "markdown",
   "source": [
    "# Preliminary set-up"
   ],
   "metadata": {}
  },
  {
   "cell_type": "markdown",
   "source": [
    "Get the parameter set, which holds constants used across CliMA models."
   ],
   "metadata": {}
  },
  {
   "outputs": [
    {
     "output_type": "execute_result",
     "data": {
      "text/plain": "Main.##355.EarthParameterSet()"
     },
     "metadata": {},
     "execution_count": 4
    }
   ],
   "cell_type": "code",
   "source": [
    "struct EarthParameterSet <: AbstractEarthParameterSet end\n",
    "const param_set = EarthParameterSet()"
   ],
   "metadata": {},
   "execution_count": 4
  },
  {
   "cell_type": "markdown",
   "source": [
    "Initialize and pick a floating point precision."
   ],
   "metadata": {}
  },
  {
   "outputs": [],
   "cell_type": "code",
   "source": [
    "ClimateMachine.init()\n",
    "FT = Float64\n",
    "\n",
    "const clima_dir = dirname(dirname(pathof(ClimateMachine)));"
   ],
   "metadata": {},
   "execution_count": 5
  },
  {
   "cell_type": "markdown",
   "source": [
    "Load a function that will interpolate output of simulation"
   ],
   "metadata": {}
  },
  {
   "outputs": [],
   "cell_type": "code",
   "source": [
    "include(joinpath(\n",
    "    clima_dir,\n",
    "    \"tutorials\",\n",
    "    \"Land\",\n",
    "    \"Soil\",\n",
    "    \"interpolation_helper.jl\",\n",
    "));"
   ],
   "metadata": {},
   "execution_count": 6
  },
  {
   "cell_type": "markdown",
   "source": [
    "Set soil parameters to be consistent with sand.\n",
    "Please see e.g. the [soil heat tutorial](../Heat/bonan_heat_tutorial.md)\n",
    "for other soil type parameters, or [2]."
   ],
   "metadata": {}
  },
  {
   "cell_type": "markdown",
   "source": [
    "The porosity:"
   ],
   "metadata": {}
  },
  {
   "outputs": [
    {
     "output_type": "execute_result",
     "data": {
      "text/plain": "0.395"
     },
     "metadata": {},
     "execution_count": 7
    }
   ],
   "cell_type": "code",
   "source": [
    "porosity = FT(0.395)"
   ],
   "metadata": {},
   "execution_count": 7
  },
  {
   "cell_type": "markdown",
   "source": [
    "Soil solids\n",
    "are the components of soil besides water, ice, gases, and air.\n",
    "We specify the soil component fractions, relative to all soil solids.\n",
    "These should sum to unity; they do not account for pore space."
   ],
   "metadata": {}
  },
  {
   "outputs": [
    {
     "output_type": "execute_result",
     "data": {
      "text/plain": "0.0"
     },
     "metadata": {},
     "execution_count": 8
    }
   ],
   "cell_type": "code",
   "source": [
    "ν_ss_quartz = FT(0.92)\n",
    "ν_ss_minerals = FT(0.08)\n",
    "ν_ss_om = FT(0.0)\n",
    "ν_ss_gravel = FT(0.0)"
   ],
   "metadata": {},
   "execution_count": 8
  },
  {
   "cell_type": "markdown",
   "source": [
    "Other parameters include the hydraulic conductivity at saturation, the specific\n",
    "storage, and the van Genuchten parameters for sand.\n",
    "We recommend Chapter 8 of [1] for finding parameters\n",
    "for other soil types."
   ],
   "metadata": {}
  },
  {
   "outputs": [
    {
     "output_type": "execute_result",
     "data": {
      "text/plain": "7.5"
     },
     "metadata": {},
     "execution_count": 9
    }
   ],
   "cell_type": "code",
   "source": [
    "Ksat = FT(4.42 / 3600 / 100) # m/s\n",
    "S_s = FT(1e-3) #inverse meters\n",
    "vg_n = FT(1.89)\n",
    "vg_α = FT(7.5) # inverse meters"
   ],
   "metadata": {},
   "execution_count": 9
  },
  {
   "cell_type": "markdown",
   "source": [
    "Other constants needed:"
   ],
   "metadata": {}
  },
  {
   "outputs": [
    {
     "output_type": "execute_result",
     "data": {
      "text/plain": "2.29"
     },
     "metadata": {},
     "execution_count": 10
    }
   ],
   "cell_type": "code",
   "source": [
    "κ_quartz = FT(7.7) # W/m/K\n",
    "κ_minerals = FT(2.5) # W/m/K\n",
    "κ_om = FT(0.25) # W/m/K\n",
    "κ_liq = FT(0.57) # W/m/K\n",
    "κ_ice = FT(2.29) # W/m/K"
   ],
   "metadata": {},
   "execution_count": 10
  },
  {
   "cell_type": "markdown",
   "source": [
    "The thermal conductivity of air is a constant parameter used across ClimateMachine,\n",
    "so we will get it from that parameter set."
   ],
   "metadata": {}
  },
  {
   "outputs": [
    {
     "output_type": "execute_result",
     "data": {
      "text/plain": "0.024"
     },
     "metadata": {},
     "execution_count": 11
    }
   ],
   "cell_type": "code",
   "source": [
    "κ_air = FT(K_therm(param_set)) # W/m/K"
   ],
   "metadata": {},
   "execution_count": 11
  },
  {
   "cell_type": "markdown",
   "source": [
    "The particle density of organic material-free soil is\n",
    "equal to the particle density of quartz and other minerals [3]:"
   ],
   "metadata": {}
  },
  {
   "outputs": [
    {
     "output_type": "execute_result",
     "data": {
      "text/plain": "2700.0"
     },
     "metadata": {},
     "execution_count": 12
    }
   ],
   "cell_type": "code",
   "source": [
    "ρp = FT(2700) # kg/m^3"
   ],
   "metadata": {},
   "execution_count": 12
  },
  {
   "cell_type": "markdown",
   "source": [
    "We calculate the thermal conductivities for the solid material, for dry soil,\n",
    "and for saturated soil. These functions are taken from Balland and Arp (2005) [3]."
   ],
   "metadata": {}
  },
  {
   "outputs": [
    {
     "output_type": "execute_result",
     "data": {
      "text/plain": "2.6076638236870164"
     },
     "metadata": {},
     "execution_count": 13
    }
   ],
   "cell_type": "code",
   "source": [
    "κ_solid =\n",
    "    k_solid(ν_ss_om, ν_ss_quartz, ν_ss_minerals, κ_quartz, κ_minerals, κ_om)\n",
    "κ_dry = k_dry(κ_solid, porosity, κ_air, ρp)\n",
    "κ_sat_frozen = ksat_frozen(κ_solid, porosity, κ_ice)\n",
    "κ_sat_unfrozen = ksat_unfrozen(κ_solid, porosity, κ_liq)"
   ],
   "metadata": {},
   "execution_count": 13
  },
  {
   "cell_type": "markdown",
   "source": [
    "Next, we calculate the volumetric heat capacity of dry soil. Dry soil\n",
    "refers to the soil that has no water content."
   ],
   "metadata": {}
  },
  {
   "outputs": [
    {
     "output_type": "execute_result",
     "data": {
      "text/plain": "1.16523e6"
     },
     "metadata": {},
     "execution_count": 14
    }
   ],
   "cell_type": "code",
   "source": [
    "ρc_ds = FT((1 - porosity) * 1.926e06) # J/m^3/K"
   ],
   "metadata": {},
   "execution_count": 14
  },
  {
   "cell_type": "markdown",
   "source": [
    "We collect the majority of the parameters needed\n",
    "for modeling heat and water flow in soil in `soil_param_functions`.\n",
    "The van Genuchten parameters are stored in the water model, in an object\n",
    "called `hydraulics`, however."
   ],
   "metadata": {}
  },
  {
   "outputs": [
    {
     "output_type": "execute_result",
     "data": {
      "text/plain": "ClimateMachine.Land.SoilParamFunctions{Float64}(0.395, 1.2277777777777777e-5, 0.001, 0.0, 0.0, 0.92, 1.16523e6, 0.5505750588978987, 2.6076638236870164, 4.516645961171465, 0.24, 18.1)"
     },
     "metadata": {},
     "execution_count": 15
    }
   ],
   "cell_type": "code",
   "source": [
    "soil_param_functions = SoilParamFunctions{FT}(\n",
    "    Ksat = Ksat,\n",
    "    S_s = S_s,\n",
    "    porosity = porosity,\n",
    "    ν_ss_gravel = ν_ss_gravel,\n",
    "    ν_ss_om = ν_ss_om,\n",
    "    ν_ss_quartz = ν_ss_quartz,\n",
    "    ρc_ds = ρc_ds,\n",
    "    κ_dry = κ_dry,\n",
    "    κ_sat_unfrozen = κ_sat_unfrozen,\n",
    "    κ_sat_frozen = κ_sat_frozen,\n",
    "    a = 0.24, # used in the Kersten number [2]\n",
    "    b = 18.1, # used in the Kersten number [2]\n",
    ")"
   ],
   "metadata": {},
   "execution_count": 15
  },
  {
   "cell_type": "markdown",
   "source": [
    "# Initial and Boundary conditions\n",
    "Please note that Dirichlet boundary conditions are on `ϑ_l` and\n",
    "`T`, while Neumann boundary conditions are on `-κ∇T` and `-K∇h`. For Neumann\n",
    "conditions, the user supplies a scalar, which is multiplied by `ẑ` within the code.\n",
    "Boundary conditions can be functions of time and space. Initial conditions are only\n",
    "functions of space. `aux` holds the spatial coordinates `x`, `y`, and `z`, but these integrations\n",
    "are effectively only vertical, so we only use `z`."
   ],
   "metadata": {}
  },
  {
   "cell_type": "markdown",
   "source": [
    "The initial water profile:"
   ],
   "metadata": {}
  },
  {
   "outputs": [
    {
     "output_type": "execute_result",
     "data": {
      "text/plain": "ϑ_l0 (generic function with 1 method)"
     },
     "metadata": {},
     "execution_count": 16
    }
   ],
   "cell_type": "code",
   "source": [
    "function ϑ_l0(aux)\n",
    "    FT = eltype(aux)\n",
    "    zmax = FT(0)\n",
    "    zmin = FT(-1)\n",
    "    theta_max = FT(porosity * 0.5)\n",
    "    theta_min = FT(porosity * 0.4)\n",
    "    c = FT(20.0)\n",
    "    z = aux.z\n",
    "    output =\n",
    "        theta_min +\n",
    "        (theta_max - theta_min) * exp(-(z - zmax) / (zmin - zmax) * c)\n",
    "    return output\n",
    "end"
   ],
   "metadata": {},
   "execution_count": 16
  },
  {
   "cell_type": "markdown",
   "source": [
    "Water boundary conditions:"
   ],
   "metadata": {}
  },
  {
   "outputs": [],
   "cell_type": "code",
   "source": [
    "surface_water_flux = (aux, t) -> eltype(aux)(0.0)\n",
    "bottom_water_flux = (aux, t) -> eltype(aux)(0.0)\n",
    "surface_water_state = nothing\n",
    "bottom_water_state = nothing"
   ],
   "metadata": {},
   "execution_count": 17
  },
  {
   "cell_type": "markdown",
   "source": [
    "The initial temperature profile:"
   ],
   "metadata": {}
  },
  {
   "outputs": [
    {
     "output_type": "execute_result",
     "data": {
      "text/plain": "T_init (generic function with 1 method)"
     },
     "metadata": {},
     "execution_count": 18
    }
   ],
   "cell_type": "code",
   "source": [
    "function T_init(aux)\n",
    "    FT = eltype(aux)\n",
    "    zmax = FT(0)\n",
    "    zmin = FT(-1)\n",
    "    T_max = FT(289.0)\n",
    "    T_min = FT(288.0)\n",
    "    c = FT(20.0)\n",
    "    z = aux.z\n",
    "    output = T_min + (T_max - T_min) * exp(-(z - zmax) / (zmin - zmax) * c)\n",
    "    return output\n",
    "end"
   ],
   "metadata": {},
   "execution_count": 18
  },
  {
   "cell_type": "markdown",
   "source": [
    "As we are not including the equations for phase changes in this tutorial,\n",
    "we chose temperatures that are above the freezing point of water."
   ],
   "metadata": {}
  },
  {
   "cell_type": "markdown",
   "source": [
    "The boundary conditions for the heat equation:"
   ],
   "metadata": {}
  },
  {
   "outputs": [],
   "cell_type": "code",
   "source": [
    "surface_heat_flux = (aux, t) -> eltype(aux)(0.0)\n",
    "bottom_heat_flux = (aux, t) -> eltype(aux)(0.0)\n",
    "surface_heat_state = nothing\n",
    "bottom_heat_state = nothing"
   ],
   "metadata": {},
   "execution_count": 19
  },
  {
   "cell_type": "markdown",
   "source": [
    "Next, we define the required `init_soil!` function, which takes the user\n",
    "specified functions of space for `T` and `ϑ_l` and initializes the state\n",
    "variables of volumetric internal energy and augmented liquid fraction. This requires\n",
    "a conversion from `T` to `ρe_int`."
   ],
   "metadata": {}
  },
  {
   "outputs": [
    {
     "output_type": "execute_result",
     "data": {
      "text/plain": "init_soil! (generic function with 1 method)"
     },
     "metadata": {},
     "execution_count": 20
    }
   ],
   "cell_type": "code",
   "source": [
    "function init_soil!(land, state, aux, coordinates, time)\n",
    "    myFT = eltype(state)\n",
    "    ϑ_l = myFT(land.soil.water.initialϑ_l(aux))\n",
    "    θ_i = myFT(land.soil.water.initialθ_i(aux))\n",
    "    state.soil.water.ϑ_l = ϑ_l\n",
    "    state.soil.water.θ_i = θ_i\n",
    "\n",
    "    θ_l = volumetric_liquid_fraction(ϑ_l, land.soil.param_functions.porosity)\n",
    "    ρc_ds = land.soil.param_functions.ρc_ds\n",
    "    ρc_s = volumetric_heat_capacity(θ_l, θ_i, ρc_ds, land.param_set)\n",
    "\n",
    "    state.soil.heat.ρe_int = volumetric_internal_energy(\n",
    "        θ_i,\n",
    "        ρc_s,\n",
    "        land.soil.heat.initialT(aux),\n",
    "        land.param_set,\n",
    "    )\n",
    "end"
   ],
   "metadata": {},
   "execution_count": 20
  },
  {
   "cell_type": "markdown",
   "source": [
    "# Create the soil model structure\n",
    "First, for water:"
   ],
   "metadata": {}
  },
  {
   "outputs": [
    {
     "output_type": "execute_result",
     "data": {
      "text/plain": "ClimateMachine.Land.SoilWaterModel{Float64,ClimateMachine.Land.SoilWaterParameterizations.NoImpedance{Float64},ClimateMachine.Land.SoilWaterParameterizations.TemperatureDependentViscosity{Float64},ClimateMachine.Land.SoilWaterParameterizations.MoistureDependent{Float64},ClimateMachine.Land.SoilWaterParameterizations.vanGenuchten{Float64},typeof(Main.##355.ϑ_l0),ClimateMachine.Land.var\"#18#22\",ClimateMachine.Land.Dirichlet{Nothing,Nothing},ClimateMachine.Land.Neumann{Main.##355.var\"#1#2\",Main.##355.var\"#3#4\"}}(ClimateMachine.Land.SoilWaterParameterizations.NoImpedance{Float64}(), ClimateMachine.Land.SoilWaterParameterizations.TemperatureDependentViscosity{Float64}(0.0264, 288.0), ClimateMachine.Land.SoilWaterParameterizations.MoistureDependent{Float64}(), ClimateMachine.Land.SoilWaterParameterizations.vanGenuchten{Float64}(1.89, 7.5, 0.4708994708994708), Main.##355.ϑ_l0, ClimateMachine.Land.var\"#18#22\"(), ClimateMachine.Land.Dirichlet{Nothing,Nothing}(nothing, nothing), ClimateMachine.Land.Neumann{Main.##355.var\"#1#2\",Main.##355.var\"#3#4\"}(Main.##355.var\"#1#2\"(), Main.##355.var\"#3#4\"()))"
     },
     "metadata": {},
     "execution_count": 21
    }
   ],
   "cell_type": "code",
   "source": [
    "soil_water_model = SoilWaterModel(\n",
    "    FT;\n",
    "    viscosity_factor = TemperatureDependentViscosity{FT}(),\n",
    "    moisture_factor = MoistureDependent{FT}(),\n",
    "    hydraulics = vanGenuchten{FT}(α = vg_α, n = vg_n),\n",
    "    initialϑ_l = ϑ_l0,\n",
    "    dirichlet_bc = Dirichlet(\n",
    "        surface_state = surface_water_state,\n",
    "        bottom_state = bottom_water_state,\n",
    "    ),\n",
    "    neumann_bc = Neumann(\n",
    "        surface_flux = surface_water_flux,\n",
    "        bottom_flux = bottom_water_flux,\n",
    "    ),\n",
    ")"
   ],
   "metadata": {},
   "execution_count": 21
  },
  {
   "cell_type": "markdown",
   "source": [
    "Note that the viscosity of water depends on temperature.\n",
    "We account for the effect that has on the hydraulic conductivity\n",
    "by specifying `viscosity_factor = TemperatureDependentViscosity{FT}()`.\n",
    "The default, if no `viscosity_factor` keyword argument is supplied,\n",
    "is to not include the effect of `T` on viscosity."
   ],
   "metadata": {}
  },
  {
   "cell_type": "markdown",
   "source": [
    "Repeat for heat:"
   ],
   "metadata": {}
  },
  {
   "outputs": [
    {
     "output_type": "execute_result",
     "data": {
      "text/plain": "ClimateMachine.Land.SoilHeatModel{Float64,typeof(Main.##355.T_init),ClimateMachine.Land.Dirichlet{Nothing,Nothing},ClimateMachine.Land.Neumann{Main.##355.var\"#5#6\",Main.##355.var\"#7#8\"}}(Main.##355.T_init, ClimateMachine.Land.Dirichlet{Nothing,Nothing}(nothing, nothing), ClimateMachine.Land.Neumann{Main.##355.var\"#5#6\",Main.##355.var\"#7#8\"}(Main.##355.var\"#5#6\"(), Main.##355.var\"#7#8\"()))"
     },
     "metadata": {},
     "execution_count": 22
    }
   ],
   "cell_type": "code",
   "source": [
    "soil_heat_model = SoilHeatModel(\n",
    "    FT;\n",
    "    initialT = T_init,\n",
    "    dirichlet_bc = Dirichlet(\n",
    "        surface_state = surface_heat_state,\n",
    "        bottom_state = bottom_heat_state,\n",
    "    ),\n",
    "    neumann_bc = Neumann(\n",
    "        surface_flux = surface_heat_flux,\n",
    "        bottom_flux = bottom_heat_flux,\n",
    "    ),\n",
    ")"
   ],
   "metadata": {},
   "execution_count": 22
  },
  {
   "cell_type": "markdown",
   "source": [
    "Combine into a single soil model"
   ],
   "metadata": {}
  },
  {
   "outputs": [
    {
     "output_type": "execute_result",
     "data": {
      "text/plain": "ClimateMachine.Land.SoilModel{ClimateMachine.Land.SoilParamFunctions{Float64},ClimateMachine.Land.SoilWaterModel{Float64,ClimateMachine.Land.SoilWaterParameterizations.NoImpedance{Float64},ClimateMachine.Land.SoilWaterParameterizations.TemperatureDependentViscosity{Float64},ClimateMachine.Land.SoilWaterParameterizations.MoistureDependent{Float64},ClimateMachine.Land.SoilWaterParameterizations.vanGenuchten{Float64},typeof(Main.##355.ϑ_l0),ClimateMachine.Land.var\"#18#22\",ClimateMachine.Land.Dirichlet{Nothing,Nothing},ClimateMachine.Land.Neumann{Main.##355.var\"#1#2\",Main.##355.var\"#3#4\"}},ClimateMachine.Land.SoilHeatModel{Float64,typeof(Main.##355.T_init),ClimateMachine.Land.Dirichlet{Nothing,Nothing},ClimateMachine.Land.Neumann{Main.##355.var\"#5#6\",Main.##355.var\"#7#8\"}}}(ClimateMachine.Land.SoilParamFunctions{Float64}(0.395, 1.2277777777777777e-5, 0.001, 0.0, 0.0, 0.92, 1.16523e6, 0.5505750588978987, 2.6076638236870164, 4.516645961171465, 0.24, 18.1), ClimateMachine.Land.SoilWaterModel{Float64,ClimateMachine.Land.SoilWaterParameterizations.NoImpedance{Float64},ClimateMachine.Land.SoilWaterParameterizations.TemperatureDependentViscosity{Float64},ClimateMachine.Land.SoilWaterParameterizations.MoistureDependent{Float64},ClimateMachine.Land.SoilWaterParameterizations.vanGenuchten{Float64},typeof(Main.##355.ϑ_l0),ClimateMachine.Land.var\"#18#22\",ClimateMachine.Land.Dirichlet{Nothing,Nothing},ClimateMachine.Land.Neumann{Main.##355.var\"#1#2\",Main.##355.var\"#3#4\"}}(ClimateMachine.Land.SoilWaterParameterizations.NoImpedance{Float64}(), ClimateMachine.Land.SoilWaterParameterizations.TemperatureDependentViscosity{Float64}(0.0264, 288.0), ClimateMachine.Land.SoilWaterParameterizations.MoistureDependent{Float64}(), ClimateMachine.Land.SoilWaterParameterizations.vanGenuchten{Float64}(1.89, 7.5, 0.4708994708994708), Main.##355.ϑ_l0, ClimateMachine.Land.var\"#18#22\"(), ClimateMachine.Land.Dirichlet{Nothing,Nothing}(nothing, nothing), ClimateMachine.Land.Neumann{Main.##355.var\"#1#2\",Main.##355.var\"#3#4\"}(Main.##355.var\"#1#2\"(), Main.##355.var\"#3#4\"())), ClimateMachine.Land.SoilHeatModel{Float64,typeof(Main.##355.T_init),ClimateMachine.Land.Dirichlet{Nothing,Nothing},ClimateMachine.Land.Neumann{Main.##355.var\"#5#6\",Main.##355.var\"#7#8\"}}(Main.##355.T_init, ClimateMachine.Land.Dirichlet{Nothing,Nothing}(nothing, nothing), ClimateMachine.Land.Neumann{Main.##355.var\"#5#6\",Main.##355.var\"#7#8\"}(Main.##355.var\"#5#6\"(), Main.##355.var\"#7#8\"())))"
     },
     "metadata": {},
     "execution_count": 23
    }
   ],
   "cell_type": "code",
   "source": [
    "m_soil = SoilModel(soil_param_functions, soil_water_model, soil_heat_model)"
   ],
   "metadata": {},
   "execution_count": 23
  },
  {
   "cell_type": "markdown",
   "source": [
    "We aren't using any sources or sinks in the equations here."
   ],
   "metadata": {}
  },
  {
   "outputs": [
    {
     "output_type": "execute_result",
     "data": {
      "text/plain": "()"
     },
     "metadata": {},
     "execution_count": 24
    }
   ],
   "cell_type": "code",
   "source": [
    "sources = ()"
   ],
   "metadata": {},
   "execution_count": 24
  },
  {
   "cell_type": "markdown",
   "source": [
    "Create the LandModel without other components (canopy, carbon, etc)."
   ],
   "metadata": {}
  },
  {
   "outputs": [
    {
     "output_type": "execute_result",
     "data": {
      "text/plain": "ClimateMachine.Land.LandModel{Main.##355.EarthParameterSet,ClimateMachine.Land.SoilModel{ClimateMachine.Land.SoilParamFunctions{Float64},ClimateMachine.Land.SoilWaterModel{Float64,ClimateMachine.Land.SoilWaterParameterizations.NoImpedance{Float64},ClimateMachine.Land.SoilWaterParameterizations.TemperatureDependentViscosity{Float64},ClimateMachine.Land.SoilWaterParameterizations.MoistureDependent{Float64},ClimateMachine.Land.SoilWaterParameterizations.vanGenuchten{Float64},typeof(Main.##355.ϑ_l0),ClimateMachine.Land.var\"#18#22\",ClimateMachine.Land.Dirichlet{Nothing,Nothing},ClimateMachine.Land.Neumann{Main.##355.var\"#1#2\",Main.##355.var\"#3#4\"}},ClimateMachine.Land.SoilHeatModel{Float64,typeof(Main.##355.T_init),ClimateMachine.Land.Dirichlet{Nothing,Nothing},ClimateMachine.Land.Neumann{Main.##355.var\"#5#6\",Main.##355.var\"#7#8\"}}},Tuple{},typeof(Main.##355.init_soil!)}(Main.##355.EarthParameterSet(), ClimateMachine.Land.SoilModel{ClimateMachine.Land.SoilParamFunctions{Float64},ClimateMachine.Land.SoilWaterModel{Float64,ClimateMachine.Land.SoilWaterParameterizations.NoImpedance{Float64},ClimateMachine.Land.SoilWaterParameterizations.TemperatureDependentViscosity{Float64},ClimateMachine.Land.SoilWaterParameterizations.MoistureDependent{Float64},ClimateMachine.Land.SoilWaterParameterizations.vanGenuchten{Float64},typeof(Main.##355.ϑ_l0),ClimateMachine.Land.var\"#18#22\",ClimateMachine.Land.Dirichlet{Nothing,Nothing},ClimateMachine.Land.Neumann{Main.##355.var\"#1#2\",Main.##355.var\"#3#4\"}},ClimateMachine.Land.SoilHeatModel{Float64,typeof(Main.##355.T_init),ClimateMachine.Land.Dirichlet{Nothing,Nothing},ClimateMachine.Land.Neumann{Main.##355.var\"#5#6\",Main.##355.var\"#7#8\"}}}(ClimateMachine.Land.SoilParamFunctions{Float64}(0.395, 1.2277777777777777e-5, 0.001, 0.0, 0.0, 0.92, 1.16523e6, 0.5505750588978987, 2.6076638236870164, 4.516645961171465, 0.24, 18.1), ClimateMachine.Land.SoilWaterModel{Float64,ClimateMachine.Land.SoilWaterParameterizations.NoImpedance{Float64},ClimateMachine.Land.SoilWaterParameterizations.TemperatureDependentViscosity{Float64},ClimateMachine.Land.SoilWaterParameterizations.MoistureDependent{Float64},ClimateMachine.Land.SoilWaterParameterizations.vanGenuchten{Float64},typeof(Main.##355.ϑ_l0),ClimateMachine.Land.var\"#18#22\",ClimateMachine.Land.Dirichlet{Nothing,Nothing},ClimateMachine.Land.Neumann{Main.##355.var\"#1#2\",Main.##355.var\"#3#4\"}}(ClimateMachine.Land.SoilWaterParameterizations.NoImpedance{Float64}(), ClimateMachine.Land.SoilWaterParameterizations.TemperatureDependentViscosity{Float64}(0.0264, 288.0), ClimateMachine.Land.SoilWaterParameterizations.MoistureDependent{Float64}(), ClimateMachine.Land.SoilWaterParameterizations.vanGenuchten{Float64}(1.89, 7.5, 0.4708994708994708), Main.##355.ϑ_l0, ClimateMachine.Land.var\"#18#22\"(), ClimateMachine.Land.Dirichlet{Nothing,Nothing}(nothing, nothing), ClimateMachine.Land.Neumann{Main.##355.var\"#1#2\",Main.##355.var\"#3#4\"}(Main.##355.var\"#1#2\"(), Main.##355.var\"#3#4\"())), ClimateMachine.Land.SoilHeatModel{Float64,typeof(Main.##355.T_init),ClimateMachine.Land.Dirichlet{Nothing,Nothing},ClimateMachine.Land.Neumann{Main.##355.var\"#5#6\",Main.##355.var\"#7#8\"}}(Main.##355.T_init, ClimateMachine.Land.Dirichlet{Nothing,Nothing}(nothing, nothing), ClimateMachine.Land.Neumann{Main.##355.var\"#5#6\",Main.##355.var\"#7#8\"}(Main.##355.var\"#5#6\"(), Main.##355.var\"#7#8\"()))), (), Main.##355.init_soil!)"
     },
     "metadata": {},
     "execution_count": 25
    }
   ],
   "cell_type": "code",
   "source": [
    "m = LandModel(\n",
    "    param_set,\n",
    "    m_soil;\n",
    "    source = sources,\n",
    "    init_state_prognostic = init_soil!,\n",
    ")"
   ],
   "metadata": {},
   "execution_count": 25
  },
  {
   "cell_type": "markdown",
   "source": [
    "# Specify the numerical details\n",
    "Choose a resolution, domain boundaries, integration time,\n",
    "timestep, and ODE solver."
   ],
   "metadata": {}
  },
  {
   "outputs": [
    {
     "name": "stdout",
     "output_type": "stream",
     "text": [
      "┌ Info: Model composition\n",
      "│     param_set = Main.##355.EarthParameterSet()\n",
      "│     soil = ClimateMachine.Land.SoilModel{ClimateMachine.Land.SoilParamFunctions{Float64},ClimateMachine.Land.SoilWaterModel{Float64,ClimateMachine.Land.SoilWaterParameterizations.NoImpedance{Float64},ClimateMachine.Land.SoilWaterParameterizations.TemperatureDependentViscosity{Float64},ClimateMachine.Land.SoilWaterParameterizations.MoistureDependent{Float64},ClimateMachine.Land.SoilWaterParameterizations.vanGenuchten{Float64},typeof(Main.##355.ϑ_l0),ClimateMachine.Land.var\"#18#22\",ClimateMachine.Land.Dirichlet{Nothing,Nothing},ClimateMachine.Land.Neumann{Main.##355.var\"#1#2\",Main.##355.var\"#3#4\"}},ClimateMachine.Land.SoilHeatModel{Float64,typeof(Main.##355.T_init),ClimateMachine.Land.Dirichlet{Nothing,Nothing},ClimateMachine.Land.Neumann{Main.##355.var\"#5#6\",Main.##355.var\"#7#8\"}}}(ClimateMachine.Land.SoilParamFunctions{Float64}(0.395, 1.2277777777777777e-5, 0.001, 0.0, 0.0, 0.92, 1.16523e6, 0.5505750588978987, 2.6076638236870164, 4.516645961171465, 0.24, 18.1), ClimateMachine.Land.SoilWaterModel{Float64,ClimateMachine.Land.SoilWaterParameterizations.NoImpedance{Float64},ClimateMachine.Land.SoilWaterParameterizations.TemperatureDependentViscosity{Float64},ClimateMachine.Land.SoilWaterParameterizations.MoistureDependent{Float64},ClimateMachine.Land.SoilWaterParameterizations.vanGenuchten{Float64},typeof(Main.##355.ϑ_l0),ClimateMachine.Land.var\"#18#22\",ClimateMachine.Land.Dirichlet{Nothing,Nothing},ClimateMachine.Land.Neumann{Main.##355.var\"#1#2\",Main.##355.var\"#3#4\"}}(ClimateMachine.Land.SoilWaterParameterizations.NoImpedance{Float64}(), ClimateMachine.Land.SoilWaterParameterizations.TemperatureDependentViscosity{Float64}(0.0264, 288.0), ClimateMachine.Land.SoilWaterParameterizations.MoistureDependent{Float64}(), ClimateMachine.Land.SoilWaterParameterizations.vanGenuchten{Float64}(1.89, 7.5, 0.4708994708994708), Main.##355.ϑ_l0, ClimateMachine.Land.var\"#18#22\"(), ClimateMachine.Land.Dirichlet{Nothing,Nothing}(nothing, nothing), ClimateMachine.Land.Neumann{Main.##355.var\"#1#2\",Main.##355.var\"#3#4\"}(Main.##355.var\"#1#2\"(), Main.##355.var\"#3#4\"())), ClimateMachine.Land.SoilHeatModel{Float64,typeof(Main.##355.T_init),ClimateMachine.Land.Dirichlet{Nothing,Nothing},ClimateMachine.Land.Neumann{Main.##355.var\"#5#6\",Main.##355.var\"#7#8\"}}(Main.##355.T_init, ClimateMachine.Land.Dirichlet{Nothing,Nothing}(nothing, nothing), ClimateMachine.Land.Neumann{Main.##355.var\"#5#6\",Main.##355.var\"#7#8\"}(Main.##355.var\"#5#6\"(), Main.##355.var\"#7#8\"())))\n",
      "│     source = ()\n",
      "│     init_state_prognostic = init_soil!\n",
      "└ @ ClimateMachine /home/runner/work/ClimateMachine.jl/ClimateMachine.jl/src/Driver/driver_configs.jl:102\n",
      "┌ Info: Establishing single stack configuration for LandModel\n",
      "│     precision        = Float64\n",
      "│     polynomial order = 1\n",
      "│     domain_min       = 0.00 m x0.00 m x-1.00 m\n",
      "│     domain_max       = 1.00 m x1.00 m x0.00 m\n",
      "│     #vert elems      = 50\n",
      "│     MPI ranks        = 1\n",
      "│     min(Δ_horz)      = 1.00 m\n",
      "│     min(Δ_vert)      = 0.02 m\n",
      "└ @ ClimateMachine /home/runner/work/ClimateMachine.jl/ClimateMachine.jl/src/Driver/driver_configs.jl:385\n",
      "┌ Info: Initializing LandModel\n",
      "└ @ ClimateMachine /home/runner/work/ClimateMachine.jl/ClimateMachine.jl/src/Driver/solver_configs.jl:161\n"
     ]
    },
    {
     "output_type": "execute_result",
     "data": {
      "text/plain": "ClimateMachine.SolverConfiguration{Float64}(\"LandModel\", MPI.Comm(1140850688), Main.##355.EarthParameterSet(), ClimateMachine.DGMethods.DGModel{ClimateMachine.Land.LandModel{Main.##355.EarthParameterSet,ClimateMachine.Land.SoilModel{ClimateMachine.Land.SoilParamFunctions{Float64},ClimateMachine.Land.SoilWaterModel{Float64,ClimateMachine.Land.SoilWaterParameterizations.NoImpedance{Float64},ClimateMachine.Land.SoilWaterParameterizations.TemperatureDependentViscosity{Float64},ClimateMachine.Land.SoilWaterParameterizations.MoistureDependent{Float64},ClimateMachine.Land.SoilWaterParameterizations.vanGenuchten{Float64},typeof(Main.##355.ϑ_l0),ClimateMachine.Land.var\"#18#22\",ClimateMachine.Land.Dirichlet{Nothing,Nothing},ClimateMachine.Land.Neumann{Main.##355.var\"#1#2\",Main.##355.var\"#3#4\"}},ClimateMachine.Land.SoilHeatModel{Float64,typeof(Main.##355.T_init),ClimateMachine.Land.Dirichlet{Nothing,Nothing},ClimateMachine.Land.Neumann{Main.##355.var\"#5#6\",Main.##355.var\"#7#8\"}}},Tuple{},typeof(Main.##355.init_soil!)},ClimateMachine.Mesh.Grids.DiscontinuousSpectralElementGrid{Float64,3,1,8,Array,Array{Float64,1},Array{Float64,2},Array{Float64,3},Array{Float64,4},Array{Int64,1},Array{Int64,2},Array{Int64,3},ClimateMachine.Mesh.Topologies.StackedBrickTopology{3,Float64}},ClimateMachine.DGMethods.NumericalFluxes.CentralNumericalFluxFirstOrder,ClimateMachine.DGMethods.NumericalFluxes.CentralNumericalFluxSecondOrder,ClimateMachine.DGMethods.NumericalFluxes.CentralNumericalFluxGradient,ClimateMachine.MPIStateArrays.MPIStateArray{Float64,NamedTuple{(:z, :soil),Tuple{Float64,NamedTuple{(:water, :heat),Tuple{NamedTuple{(:h, :K),Tuple{Float64,Float64}},NamedTuple{(:T,),Tuple{Float64}}}}}},Array{Float64,3},Array{Int64,1},SubArray{Float64,3,Array{Float64,3},Tuple{Base.Slice{Base.OneTo{Int64}},Base.Slice{Base.OneTo{Int64}},UnitRange{Int64}},true},ClimateMachine.MPIStateArrays.CMBuffers.CMBuffer{Float64,Array{Float64,2},Nothing}},ClimateMachine.MPIStateArrays.MPIStateArray{Float64,NamedTuple{(:soil,),Tuple{NamedTuple{(:water, :heat),Tuple{NamedTuple{(:K∇h,),Tuple{StaticArrays.SArray{Tuple{3},Float64,1,3}}},NamedTuple{(:κ∇T,),Tuple{StaticArrays.SArray{Tuple{3},Float64,1,3}}}}}}},Array{Float64,3},Array{Int64,1},SubArray{Float64,3,Array{Float64,3},Tuple{Base.Slice{Base.OneTo{Int64}},Base.Slice{Base.OneTo{Int64}},UnitRange{Int64}},true},ClimateMachine.MPIStateArrays.CMBuffers.CMBuffer{Float64,Array{Float64,2},Nothing}},Tuple{ClimateMachine.MPIStateArrays.MPIStateArray{Float64,NamedTuple{(),Tuple{}},Array{Float64,3},Array{Int64,1},SubArray{Float64,3,Array{Float64,3},Tuple{Base.Slice{Base.OneTo{Int64}},Base.Slice{Base.OneTo{Int64}},UnitRange{Int64}},true},ClimateMachine.MPIStateArrays.CMBuffers.CMBuffer{Float64,Array{Float64,2},Nothing}},ClimateMachine.MPIStateArrays.MPIStateArray{Float64,NamedTuple{(),Tuple{}},Array{Float64,3},Array{Int64,1},SubArray{Float64,3,Array{Float64,3},Tuple{Base.Slice{Base.OneTo{Int64}},Base.Slice{Base.OneTo{Int64}},UnitRange{Int64}},true},ClimateMachine.MPIStateArrays.CMBuffers.CMBuffer{Float64,Array{Float64,2},Nothing}}},ClimateMachine.Mesh.Grids.VerticalDirection,ClimateMachine.Mesh.Grids.VerticalDirection,Nothing}(ClimateMachine.Land.LandModel{Main.##355.EarthParameterSet,ClimateMachine.Land.SoilModel{ClimateMachine.Land.SoilParamFunctions{Float64},ClimateMachine.Land.SoilWaterModel{Float64,ClimateMachine.Land.SoilWaterParameterizations.NoImpedance{Float64},ClimateMachine.Land.SoilWaterParameterizations.TemperatureDependentViscosity{Float64},ClimateMachine.Land.SoilWaterParameterizations.MoistureDependent{Float64},ClimateMachine.Land.SoilWaterParameterizations.vanGenuchten{Float64},typeof(Main.##355.ϑ_l0),ClimateMachine.Land.var\"#18#22\",ClimateMachine.Land.Dirichlet{Nothing,Nothing},ClimateMachine.Land.Neumann{Main.##355.var\"#1#2\",Main.##355.var\"#3#4\"}},ClimateMachine.Land.SoilHeatModel{Float64,typeof(Main.##355.T_init),ClimateMachine.Land.Dirichlet{Nothing,Nothing},ClimateMachine.Land.Neumann{Main.##355.var\"#5#6\",Main.##355.var\"#7#8\"}}},Tuple{},typeof(Main.##355.init_soil!)}(Main.##355.EarthParameterSet(), ClimateMachine.Land.SoilModel{ClimateMachine.Land.SoilParamFunctions{Float64},ClimateMachine.Land.SoilWaterModel{Float64,ClimateMachine.Land.SoilWaterParameterizations.NoImpedance{Float64},ClimateMachine.Land.SoilWaterParameterizations.TemperatureDependentViscosity{Float64},ClimateMachine.Land.SoilWaterParameterizations.MoistureDependent{Float64},ClimateMachine.Land.SoilWaterParameterizations.vanGenuchten{Float64},typeof(Main.##355.ϑ_l0),ClimateMachine.Land.var\"#18#22\",ClimateMachine.Land.Dirichlet{Nothing,Nothing},ClimateMachine.Land.Neumann{Main.##355.var\"#1#2\",Main.##355.var\"#3#4\"}},ClimateMachine.Land.SoilHeatModel{Float64,typeof(Main.##355.T_init),ClimateMachine.Land.Dirichlet{Nothing,Nothing},ClimateMachine.Land.Neumann{Main.##355.var\"#5#6\",Main.##355.var\"#7#8\"}}}(ClimateMachine.Land.SoilParamFunctions{Float64}(0.395, 1.2277777777777777e-5, 0.001, 0.0, 0.0, 0.92, 1.16523e6, 0.5505750588978987, 2.6076638236870164, 4.516645961171465, 0.24, 18.1), ClimateMachine.Land.SoilWaterModel{Float64,ClimateMachine.Land.SoilWaterParameterizations.NoImpedance{Float64},ClimateMachine.Land.SoilWaterParameterizations.TemperatureDependentViscosity{Float64},ClimateMachine.Land.SoilWaterParameterizations.MoistureDependent{Float64},ClimateMachine.Land.SoilWaterParameterizations.vanGenuchten{Float64},typeof(Main.##355.ϑ_l0),ClimateMachine.Land.var\"#18#22\",ClimateMachine.Land.Dirichlet{Nothing,Nothing},ClimateMachine.Land.Neumann{Main.##355.var\"#1#2\",Main.##355.var\"#3#4\"}}(ClimateMachine.Land.SoilWaterParameterizations.NoImpedance{Float64}(), ClimateMachine.Land.SoilWaterParameterizations.TemperatureDependentViscosity{Float64}(0.0264, 288.0), ClimateMachine.Land.SoilWaterParameterizations.MoistureDependent{Float64}(), ClimateMachine.Land.SoilWaterParameterizations.vanGenuchten{Float64}(1.89, 7.5, 0.4708994708994708), Main.##355.ϑ_l0, ClimateMachine.Land.var\"#18#22\"(), ClimateMachine.Land.Dirichlet{Nothing,Nothing}(nothing, nothing), ClimateMachine.Land.Neumann{Main.##355.var\"#1#2\",Main.##355.var\"#3#4\"}(Main.##355.var\"#1#2\"(), Main.##355.var\"#3#4\"())), ClimateMachine.Land.SoilHeatModel{Float64,typeof(Main.##355.T_init),ClimateMachine.Land.Dirichlet{Nothing,Nothing},ClimateMachine.Land.Neumann{Main.##355.var\"#5#6\",Main.##355.var\"#7#8\"}}(Main.##355.T_init, ClimateMachine.Land.Dirichlet{Nothing,Nothing}(nothing, nothing), ClimateMachine.Land.Neumann{Main.##355.var\"#5#6\",Main.##355.var\"#7#8\"}(Main.##355.var\"#5#6\"(), Main.##355.var\"#7#8\"()))), (), Main.##355.init_soil!), ClimateMachine.Mesh.Grids.DiscontinuousSpectralElementGrid{Float64,3,1,8,Array,Array{Float64,1},Array{Float64,2},Array{Float64,3},Array{Float64,4},Array{Int64,1},Array{Int64,2},Array{Int64,3},ClimateMachine.Mesh.Topologies.StackedBrickTopology{3,Float64}}(ClimateMachine.Mesh.Topologies.StackedBrickTopology{3,Float64}(ClimateMachine.Mesh.Topologies.BoxElementTopology{3,Float64}(MPI.Comm(1140850688), 1:50, 1:50, 51:50, , Int64[], , [1, 2, 3, 4, 5, 6, 7, 8, 9, 10  …  41, 42, 43, 44, 45, 46, 47, 48, 49, 50], Int64[], [0.0 1.0 … 0.0 1.0; 0.0 0.0 … 1.0 1.0; -1.0 -1.0 … -0.98 -0.98]\n\n[0.0 1.0 … 0.0 1.0; 0.0 0.0 … 1.0 1.0; -0.98 -0.98 … -0.96 -0.96]\n\n[0.0 1.0 … 0.0 1.0; 0.0 0.0 … 1.0 1.0; -0.96 -0.96 … -0.94 -0.94]\n\n...\n\n[0.0 1.0 … 0.0 1.0; 0.0 0.0 … 1.0 1.0; -0.06 -0.06 … -0.04 -0.04]\n\n[0.0 1.0 … 0.0 1.0; 0.0 0.0 … 1.0 1.0; -0.04 -0.04 … -0.02 -0.02]\n\n[0.0 1.0 … 0.0 1.0; 0.0 0.0 … 1.0 1.0; -0.02 -0.02 … 0.0 0.0], [1 2 … 49 50; 1 2 … 49 50; … ; 1 1 … 48 49; 2 3 … 50 50], [2 2 … 2 2; 1 1 … 1 1; … ; 5 6 … 6 6; 5 5 … 5 6], [1 1 … 1 1; 1 1 … 1 1; … ; 1 1 … 1 1; 1 1 … 1 1], [0 0 … 0 0; 0 0 … 0 0; … ; 1 0 … 0 0; 0 0 … 0 2], Int64[], UnitRange{Int64}[], UnitRange{Int64}[], Int64[], true), 50), [2.0 0.0 … -1.0 0.010000000000000009; 2.0 0.0 … -1.0 0.010000000000000009; … ; 2.0 0.0 … -0.98 0.010000000000000009; 2.0 0.0 … -0.98 0.010000000000000009]\n\n[2.0 0.0 … -0.98 0.010000000000000009; 2.0 0.0 … -0.98 0.010000000000000009; … ; 2.0 0.0 … -0.96 0.010000000000000009; 2.0 0.0 … -0.96 0.010000000000000009]\n\n[2.0 0.0 … -0.96 0.010000000000000009; 2.0 0.0 … -0.96 0.010000000000000009; … ; 2.0 0.0 … -0.94 0.010000000000000009; 2.0 0.0 … -0.94 0.010000000000000009]\n\n...\n\n[2.0 0.0 … -0.06 0.01; 2.0000000000000004 0.0 … -0.06 0.010000000000000004; … ; 2.000000000000001 0.0 … -0.04000000000000001 0.010000000000000005; 1.9999999999999998 0.0 … -0.04 0.01]\n\n[2.0 0.0 … -0.04 0.010000000000000002; 2.0000000000000004 0.0 … -0.04 0.010000000000000005; … ; 2.0000000000000004 0.0 … -0.020000000000000004 0.010000000000000002; 2.0000000000000004 0.0 … -0.020000000000000004 0.010000000000000002]\n\n[2.0000000000000004 0.0 … -0.02 0.010000000000000002; 2.0000000000000004 0.0 … -0.02 0.010000000000000002; … ; 2.0000000000000004 0.0 … -2.220446049250313e-18 0.010000000000000002; 2.0000000000000004 0.0 … -2.220446049250313e-18 0.010000000000000002], [-1.0 -1.0 -1.0 -1.0; -0.0 -0.0 -0.0 -0.0; … ; 0.0050000000000000044 0.0050000000000000044 0.0050000000000000044 0.0050000000000000044; 399.99999999999966 399.99999999999966 399.99999999999966 399.99999999999966]\n\n[1.0 1.0 1.0 1.0; 0.0 0.0 0.0 0.0; … ; 0.0050000000000000044 0.0050000000000000044 0.0050000000000000044 0.0050000000000000044; 399.99999999999966 399.99999999999966 399.99999999999966 399.99999999999966]\n\n[-0.0 -0.0 -0.0 -0.0; -1.0 -1.0 -1.0 -1.0; … ; 0.0050000000000000044 0.0050000000000000044 0.0050000000000000044 0.0050000000000000044; 399.99999999999966 399.99999999999966 399.99999999999966 399.99999999999966]\n\n[0.0 0.0 0.0 0.0; 1.0 1.0 1.0 1.0; … ; 0.0050000000000000044 0.0050000000000000044 0.0050000000000000044 0.0050000000000000044; 399.99999999999966 399.99999999999966 399.99999999999966 399.99999999999966]\n\n[-0.0 -0.0 -0.0 -0.0; -0.0 -0.0 -0.0 -0.0; … ; 0.25 0.25 0.25 0.25; 399.99999999999966 399.99999999999966 399.99999999999966 399.99999999999966]\n\n[0.0 0.0 0.0 0.0; 0.0 0.0 0.0 0.0; … ; 0.25 0.25 0.25 0.25; 399.99999999999966 399.99999999999966 399.99999999999966 399.99999999999966]\n\n[-1.0 -1.0 -1.0 -1.0; -0.0 -0.0 -0.0 -0.0; … ; 0.0050000000000000044 0.0050000000000000044 0.0050000000000000044 0.0050000000000000044; 399.99999999999966 399.99999999999966 399.99999999999966 399.99999999999966]\n\n[1.0 1.0 1.0 1.0; 0.0 0.0 0.0 0.0; … ; 0.0050000000000000044 0.0050000000000000044 0.0050000000000000044 0.0050000000000000044; 399.99999999999966 399.99999999999966 399.99999999999966 399.99999999999966]\n\n[-0.0 -0.0 -0.0 -0.0; -1.0 -1.0 -1.0 -1.0; … ; 0.0050000000000000044 0.0050000000000000044 0.0050000000000000044 0.0050000000000000044; 399.99999999999966 399.99999999999966 399.99999999999966 399.99999999999966]\n\n[0.0 0.0 0.0 0.0; 1.0 1.0 1.0 1.0; … ; 0.0050000000000000044 0.0050000000000000044 0.0050000000000000044 0.0050000000000000044; 399.99999999999966 399.99999999999966 399.99999999999966 399.99999999999966]\n\n[-0.0 -0.0 -0.0 -0.0; -0.0 -0.0 -0.0 -0.0; … ; 0.25 0.25 0.25 0.25; 399.99999999999966 399.99999999999966 399.99999999999966 399.99999999999966]\n\n[0.0 0.0 0.0 0.0; 0.0 0.0 0.0 0.0; … ; 0.25 0.25 0.25 0.25; 399.99999999999966 399.99999999999966 399.99999999999966 399.99999999999966]\n\n[-1.0 -1.0 -1.0 -1.0; -0.0 -0.0 -0.0 -0.0; … ; 0.0050000000000000044 0.0050000000000000044 0.0050000000000000044 0.0050000000000000044; 399.99999999999966 399.99999999999966 399.99999999999966 399.99999999999966]\n\n[1.0 1.0 1.0 1.0; 0.0 0.0 0.0 0.0; … ; 0.0050000000000000044 0.0050000000000000044 0.0050000000000000044 0.0050000000000000044; 399.99999999999966 399.99999999999966 399.99999999999966 399.99999999999966]\n\n[-0.0 -0.0 -0.0 -0.0; -1.0 -1.0 -1.0 -1.0; … ; 0.0050000000000000044 0.0050000000000000044 0.0050000000000000044 0.0050000000000000044; 399.99999999999966 399.99999999999966 399.99999999999966 399.99999999999966]\n\n[0.0 0.0 0.0 0.0; 1.0 1.0 1.0 1.0; … ; 0.0050000000000000044 0.0050000000000000044 0.0050000000000000044 0.0050000000000000044; 399.99999999999966 399.99999999999966 399.99999999999966 399.99999999999966]\n\n[-0.0 -0.0 -0.0 -0.0; -0.0 -0.0 -0.0 -0.0; … ; 0.25 0.25 0.25 0.25; 399.99999999999966 399.99999999999966 399.99999999999966 399.99999999999966]\n\n[0.0 0.0 0.0 0.0; 0.0 0.0 0.0 0.0; … ; 0.25 0.25 0.25 0.25; 399.99999999999966 399.99999999999966 399.99999999999966 399.99999999999966]\n\n...\n\n[-1.0 -1.0 -1.0 -1.0; -0.0 -0.0 -0.0 -0.0; … ; 0.005000000000000001 0.005000000000000002 0.005000000000000001 0.005000000000000002; 399.99999999999994 400.00000000000006 399.99999999999994 400.00000000000006]\n\n[1.0 1.0 1.0 1.0; 0.0 0.0 0.0 0.0; … ; 0.005 0.005 0.005 0.005; 400.00000000000006 399.99999999999994 400.00000000000006 399.99999999999994]\n\n[-0.0 -0.0 -0.0 -0.0; -1.0 -1.0 -1.0 -1.0; … ; 0.005 0.005 0.005 0.005; 399.99999999999994 400.00000000000006 399.99999999999994 400.00000000000006]\n\n[0.0 0.0 0.0 0.0; 1.0 1.0 1.0 1.0; … ; 0.005 0.005 0.005 0.005; 400.00000000000006 399.99999999999994 400.00000000000006 399.99999999999994]\n\n[-0.0 -0.0 -0.0 -0.0; -0.0 -0.0 -0.0 -0.0; … ; 0.25 0.25 0.25 0.25; 399.99999999999994 400.00000000000006 400.00000000000006 399.99999999999994]\n\n[0.0 0.0 0.0 0.0; 0.0 0.0 0.0 0.0; … ; 0.25 0.25 0.25 0.25; 399.99999999999994 400.00000000000006 400.00000000000006 399.99999999999994]\n\n[-1.0 -1.0 -1.0 -1.0; -0.0 -0.0 -0.0 -0.0; … ; 0.005000000000000001 0.005000000000000001 0.005000000000000001 0.005000000000000001; 399.99999999999994 400.0 399.99999999999994 400.0]\n\n[1.0 1.0 1.0 1.0; 0.0 0.0 0.0 0.0; … ; 0.005000000000000001 0.005000000000000001 0.005000000000000001 0.005000000000000001; 400.0 400.0 400.0 400.0]\n\n[-0.0 -0.0 -0.0 -0.0; -1.0 -1.0 -1.0 -1.0; … ; 0.005000000000000001 0.005000000000000001 0.005000000000000001 0.005000000000000001; 399.99999999999994 400.0 399.99999999999994 400.0]\n\n[0.0 0.0 0.0 0.0; 1.0 1.0 1.0 1.0; … ; 0.005 0.005 0.005 0.005; 400.0 400.0 400.0 400.0]\n\n[-0.0 -0.0 -0.0 -0.0; -0.0 -0.0 -0.0 -0.0; … ; 0.25 0.25 0.25 0.25; 399.99999999999994 400.0 400.0 400.0]\n\n[1.734723475976807e-18 1.734723475976807e-18 1.734723475976807e-18 1.734723475976807e-18; 1.734723475976807e-18 1.734723475976807e-18 1.734723475976807e-18 1.734723475976807e-18; … ; 0.25 0.25 0.25 0.25; 399.99999999999994 400.0 400.0 400.0]\n\n[-1.0 -1.0 -1.0 -1.0; -0.0 -0.0 -0.0 -0.0; … ; 0.005000000000000001 0.005000000000000001 0.005000000000000001 0.005000000000000001; 400.0 400.0 400.0 400.0]\n\n[1.0 1.0 1.0 1.0; 0.0 0.0 0.0 0.0; … ; 0.005000000000000001 0.005000000000000001 0.005000000000000001 0.005000000000000001; 400.0 400.0 400.0 400.0]\n\n[-0.0 -0.0 -0.0 -0.0; -1.0 -1.0 -1.0 -1.0; … ; 0.005 0.005 0.005 0.005; 400.0 400.0 400.0 400.0]\n\n[0.0 0.0 0.0 0.0; 1.0 1.0 1.0 1.0; … ; 0.005 0.005 0.005 0.005; 400.0 400.0 400.0 400.0]\n\n[-0.0 -0.0 -0.0 -0.0; -0.0 -0.0 -0.0 -0.0; … ; 0.25 0.25 0.25 0.25; 400.0 400.0 400.0 400.0]\n\n[0.0 0.0 0.0 0.0; 0.0 0.0 0.0 0.0; … ; 0.25 0.25 0.25 0.25; 400.0 400.0 400.0 400.0], [0 0 … 0 0; 0 0 … 0 0; … ; 1 0 … 0 0; 0 0 … 0 2], [1 2 … 1 5; 3 4 … 2 6; 5 6 … 3 7; 7 8 … 4 8]\n\n[9 10 … 9 13; 11 12 … 10 14; 13 14 … 11 15; 15 16 … 12 16]\n\n[17 18 … 17 21; 19 20 … 18 22; 21 22 … 19 23; 23 24 … 20 24]\n\n...\n\n[377 378 … 377 381; 379 380 … 378 382; 381 382 … 379 383; 383 384 … 380 384]\n\n[385 386 … 385 389; 387 388 … 386 390; 389 390 … 387 391; 391 392 … 388 392]\n\n[393 394 … 393 397; 395 396 … 394 398; 397 398 … 395 399; 399 400 … 396 400], [2 1 … 1 9; 4 3 … 2 10; 6 5 … 3 11; 8 7 … 4 12]\n\n[10 9 … 5 17; 12 11 … 6 18; 14 13 … 7 19; 16 15 … 8 20]\n\n[18 17 … 13 25; 20 19 … 14 26; 22 21 … 15 27; 24 23 … 16 28]\n\n...\n\n[378 377 … 373 385; 380 379 … 374 386; 382 381 … 375 387; 384 383 … 376 388]\n\n[386 385 … 381 393; 388 387 … 382 394; 390 389 … 383 395; 392 391 … 384 396]\n\n[394 393 … 389 397; 396 395 … 390 398; 398 397 … 391 399; 400 399 … 392 400], Int64[], Int64[], UnitRange{Int64}[], UnitRange{Int64}[], [1, 2, 3, 4, 5, 6, 7, 8, 9, 10  …  41, 42, 43, 44, 45, 46, 47, 48, 49, 50], Int64[], Bool[1, 1, 1, 1, 1, 1, 1, 1, 1, 1  …  1, 1, 1, 1, 1, 1, 1, 1, 1, 1], [1.0, 1.0], [-0.5000000000000001 0.5000000000000001; -0.5000000000000001 0.5000000000000001], [0.0 0.0; 1.0 0.9999999999999997]), ClimateMachine.DGMethods.NumericalFluxes.CentralNumericalFluxFirstOrder(), ClimateMachine.DGMethods.NumericalFluxes.CentralNumericalFluxSecondOrder(), ClimateMachine.DGMethods.NumericalFluxes.CentralNumericalFluxGradient(), [-1.0 -1.3440628035414335 3.80745094115274e-8 288.00000000206114; -1.0 -1.3440628035414335 3.80745094115274e-8 288.00000000206114; … ; -0.98 -1.3240628034271293 3.807450946009217e-8 288.0000000030749; -0.98 -1.3240628034271293 3.807450946009217e-8 288.0000000030749]\n\n[-0.98 -1.3240628034271293 3.807450946009217e-8 288.0000000030749; -0.98 -1.3240628034271293 3.807450946009217e-8 288.0000000030749; … ; -0.96 -1.3040628032566082 3.8074509532542426e-8 288.0000000045872; -0.96 -1.3040628032566082 3.8074509532542426e-8 288.0000000045872]\n\n[-0.96 -1.3040628032566082 3.8074509532542426e-8 288.0000000045872; -0.96 -1.3040628032566082 3.8074509532542426e-8 288.0000000045872; … ; -0.94 -1.2840628030022203 3.807450964062535e-8 288.00000000684327; -0.94 -1.2840628030022203 3.807450964062535e-8 288.00000000684327]\n\n...\n\n[-0.06 -0.3724187437988918 5.495028103560027e-8 288.3011942119122; -0.06 -0.3724187437988918 5.495028103560027e-8 288.3011942119122; … ; -0.04000000000000001 -0.33837440678119846 6.527846503691664e-8 288.4493289641172; -0.04 -0.3383744067811984 6.527846503691664e-8 288.4493289641172]\n\n[-0.04 -0.3383744067811984 6.527846503691664e-8 288.4493289641172; -0.04 -0.3383744067811984 6.527846503691664e-8 288.4493289641172; … ; -0.020000000000000004 -0.29900120780953926 8.364913985166745e-8 288.6703200460356; -0.020000000000000004 -0.29900120780953926 8.364913985166745e-8 288.6703200460356]\n\n[-0.02 -0.29900120780953926 8.364913985166745e-8 288.6703200460356; -0.02 -0.29900120780953926 8.364913985166745e-8 288.6703200460356; … ; -2.220446049250313e-18 -0.253089248707838 1.1895506752860994e-7 289.0; -2.220446049250313e-18 -0.253089248707838 1.1895506752860994e-7 289.0], [6.9435017176823e-310 7.885669299852264e61 … 1.912951730373745e-309 -2.557436825984799e-254; 1.189677427e-315 2.427219086353687e-229 … 4.974853509180306e-222 -8.302708343684223e-287; … ; 1.35807730622e-312 9.2e-322 … 2.0143138569187e-310 -5.899503335704607e273; 1.390671182289616e-309 -7.286161869063691e82 … 4.597579626521814e-305 3.577925105751589e42]\n\n[6.805653021109998e38 2.2603440410822538e-133 … 2.6135790970316815e-299 -3.271030004179868e-171; 2.116362400568148e9 -6.032166784102426e-264 … 7.233061664834496e-132 8.507659132015771e291; … ; 6472.219305785675 -6.14400183530298e-264 … -2.80220844190898e154 -8.30249789617237e-287; 6.806476927302169e38 -1.4105932250393253e-37 … -5.954498510150958e-264 7.35156593605499e214]\n\n[8.215192566737857e39 6.805656063471438e38 … 6.94340292803667e-310 1.0553922405393388e27; 2.2603440410838554e-133 1.255421657249937e58 … 2.5719147306422445e-115 2.3602148061309937e-308; … ; 8.361763919260204e42 4.798540745889464e307 … -5.235348915560769e44 9.919474098902168e-33; 1.0370543994516564e39 -9.184239477968091e-287 … -1.786418882209053e-248 -8.385395500878268e262]\n\n...\n\n[0.0 2.7585945283e-313 … 6.36598737295e-313 1.2623e-320; 3.967e-321 0.0 … 0.0 3.6073928447e-313; … ; 0.0 3.6073928447e-313 … 2.7585945283e-313 1.4027e-320; 4.605e-321 0.0 … 0.0 6.36598737295e-313]\n\n[0.0 3.6073928447e-313 … 2.7585945283e-313 2.3147e-320; 1.423e-320 0.0 … 0.0 6.57818695204e-313; … ; 0.0 1.9097962119e-313 … 4.243991582e-313 2.3804e-320; 1.544e-320 0.0 … 0.0 4.66839074017e-313]\n\n[0.0 4.4561911611e-313 … 4.4561911611e-313 2.5973e-320; 2.399e-320 0.0 … 0.0 3.6073928447e-313; … ; 0.0 7.00258611023e-313 … 4.4561911611e-313 2.632e-320; 2.457e-320 0.0 … 0.0 7.00258611023e-313], (, ), ClimateMachine.Mesh.Grids.VerticalDirection(), ClimateMachine.Mesh.Grids.VerticalDirection(), nothing), [0.1580000000814156 0.0 2.7095287528814763e7; 0.1580000000814156 0.0 2.7095287528814763e7; … ; 0.1580000001214578 0.0 2.7095287533150148e7; 0.1580000001214578 0.0 2.7095287533150148e7]\n\n[0.1580000001214578 0.0 2.7095287533150148e7; 0.1580000001214578 0.0 2.7095287533150148e7; … ; 0.1580000001811937 0.0 2.709528753961776e7; 0.1580000001811937 0.0 2.709528753961776e7]\n\n[0.1580000001811937 0.0 2.709528753961776e7; 0.1580000001811937 0.0 2.709528753961776e7; … ; 0.15800000027030922 0.0 2.7095287549266197e7; 0.15800000027030922 0.0 2.7095287549266197e7]\n\n...\n\n[0.169897171370532 0.0 2.839837074091687e7; 0.169897171370532 0.0 2.839837074091687e7; … ; 0.17574849408263027 0.0 2.9050251806685384e7; 0.17574849408263027 0.0 2.9050251806685384e7]\n\n[0.17574849408263027 0.0 2.9050251806685384e7; 0.17574849408263027 0.0 2.9050251806685384e7; … ; 0.18447764181840776 0.0 3.0036215906143136e7; 0.18447764181840776 0.0 3.0036215906143136e7]\n\n[0.18447764181840776 0.0 3.0036215906143136e7; 0.18447764181840776 0.0 3.0036215906143136e7; … ; 0.1975 0.0 3.153708359999995e7; 0.1975 0.0 3.153708359999995e7], 0.0, 259200.0, 30.0, false, 8640, (), ClimateMachine.ODESolvers.LowStorageRungeKutta2N{Float64,Float64,ClimateMachine.MPIStateArrays.MPIStateArray{Float64,NamedTuple{(:soil,),Tuple{NamedTuple{(:water, :heat),Tuple{NamedTuple{(:ϑ_l, :θ_i),Tuple{Float64,Float64}},NamedTuple{(:ρe_int,),Tuple{Float64}}}}}},Array{Float64,3},Array{Int64,1},SubArray{Float64,3,Array{Float64,3},Tuple{Base.Slice{Base.OneTo{Int64}},Base.Slice{Base.OneTo{Int64}},UnitRange{Int64}},true},ClimateMachine.MPIStateArrays.CMBuffers.CMBuffer{Float64,Array{Float64,2},Nothing}},5}(30.0, 0.0, 0, ClimateMachine.DGMethods.DGModel{ClimateMachine.Land.LandModel{Main.##355.EarthParameterSet,ClimateMachine.Land.SoilModel{ClimateMachine.Land.SoilParamFunctions{Float64},ClimateMachine.Land.SoilWaterModel{Float64,ClimateMachine.Land.SoilWaterParameterizations.NoImpedance{Float64},ClimateMachine.Land.SoilWaterParameterizations.TemperatureDependentViscosity{Float64},ClimateMachine.Land.SoilWaterParameterizations.MoistureDependent{Float64},ClimateMachine.Land.SoilWaterParameterizations.vanGenuchten{Float64},typeof(Main.##355.ϑ_l0),ClimateMachine.Land.var\"#18#22\",ClimateMachine.Land.Dirichlet{Nothing,Nothing},ClimateMachine.Land.Neumann{Main.##355.var\"#1#2\",Main.##355.var\"#3#4\"}},ClimateMachine.Land.SoilHeatModel{Float64,typeof(Main.##355.T_init),ClimateMachine.Land.Dirichlet{Nothing,Nothing},ClimateMachine.Land.Neumann{Main.##355.var\"#5#6\",Main.##355.var\"#7#8\"}}},Tuple{},typeof(Main.##355.init_soil!)},ClimateMachine.Mesh.Grids.DiscontinuousSpectralElementGrid{Float64,3,1,8,Array,Array{Float64,1},Array{Float64,2},Array{Float64,3},Array{Float64,4},Array{Int64,1},Array{Int64,2},Array{Int64,3},ClimateMachine.Mesh.Topologies.StackedBrickTopology{3,Float64}},ClimateMachine.DGMethods.NumericalFluxes.CentralNumericalFluxFirstOrder,ClimateMachine.DGMethods.NumericalFluxes.CentralNumericalFluxSecondOrder,ClimateMachine.DGMethods.NumericalFluxes.CentralNumericalFluxGradient,ClimateMachine.MPIStateArrays.MPIStateArray{Float64,NamedTuple{(:z, :soil),Tuple{Float64,NamedTuple{(:water, :heat),Tuple{NamedTuple{(:h, :K),Tuple{Float64,Float64}},NamedTuple{(:T,),Tuple{Float64}}}}}},Array{Float64,3},Array{Int64,1},SubArray{Float64,3,Array{Float64,3},Tuple{Base.Slice{Base.OneTo{Int64}},Base.Slice{Base.OneTo{Int64}},UnitRange{Int64}},true},ClimateMachine.MPIStateArrays.CMBuffers.CMBuffer{Float64,Array{Float64,2},Nothing}},ClimateMachine.MPIStateArrays.MPIStateArray{Float64,NamedTuple{(:soil,),Tuple{NamedTuple{(:water, :heat),Tuple{NamedTuple{(:K∇h,),Tuple{StaticArrays.SArray{Tuple{3},Float64,1,3}}},NamedTuple{(:κ∇T,),Tuple{StaticArrays.SArray{Tuple{3},Float64,1,3}}}}}}},Array{Float64,3},Array{Int64,1},SubArray{Float64,3,Array{Float64,3},Tuple{Base.Slice{Base.OneTo{Int64}},Base.Slice{Base.OneTo{Int64}},UnitRange{Int64}},true},ClimateMachine.MPIStateArrays.CMBuffers.CMBuffer{Float64,Array{Float64,2},Nothing}},Tuple{ClimateMachine.MPIStateArrays.MPIStateArray{Float64,NamedTuple{(),Tuple{}},Array{Float64,3},Array{Int64,1},SubArray{Float64,3,Array{Float64,3},Tuple{Base.Slice{Base.OneTo{Int64}},Base.Slice{Base.OneTo{Int64}},UnitRange{Int64}},true},ClimateMachine.MPIStateArrays.CMBuffers.CMBuffer{Float64,Array{Float64,2},Nothing}},ClimateMachine.MPIStateArrays.MPIStateArray{Float64,NamedTuple{(),Tuple{}},Array{Float64,3},Array{Int64,1},SubArray{Float64,3,Array{Float64,3},Tuple{Base.Slice{Base.OneTo{Int64}},Base.Slice{Base.OneTo{Int64}},UnitRange{Int64}},true},ClimateMachine.MPIStateArrays.CMBuffers.CMBuffer{Float64,Array{Float64,2},Nothing}}},ClimateMachine.Mesh.Grids.VerticalDirection,ClimateMachine.Mesh.Grids.VerticalDirection,Nothing}(ClimateMachine.Land.LandModel{Main.##355.EarthParameterSet,ClimateMachine.Land.SoilModel{ClimateMachine.Land.SoilParamFunctions{Float64},ClimateMachine.Land.SoilWaterModel{Float64,ClimateMachine.Land.SoilWaterParameterizations.NoImpedance{Float64},ClimateMachine.Land.SoilWaterParameterizations.TemperatureDependentViscosity{Float64},ClimateMachine.Land.SoilWaterParameterizations.MoistureDependent{Float64},ClimateMachine.Land.SoilWaterParameterizations.vanGenuchten{Float64},typeof(Main.##355.ϑ_l0),ClimateMachine.Land.var\"#18#22\",ClimateMachine.Land.Dirichlet{Nothing,Nothing},ClimateMachine.Land.Neumann{Main.##355.var\"#1#2\",Main.##355.var\"#3#4\"}},ClimateMachine.Land.SoilHeatModel{Float64,typeof(Main.##355.T_init),ClimateMachine.Land.Dirichlet{Nothing,Nothing},ClimateMachine.Land.Neumann{Main.##355.var\"#5#6\",Main.##355.var\"#7#8\"}}},Tuple{},typeof(Main.##355.init_soil!)}(Main.##355.EarthParameterSet(), ClimateMachine.Land.SoilModel{ClimateMachine.Land.SoilParamFunctions{Float64},ClimateMachine.Land.SoilWaterModel{Float64,ClimateMachine.Land.SoilWaterParameterizations.NoImpedance{Float64},ClimateMachine.Land.SoilWaterParameterizations.TemperatureDependentViscosity{Float64},ClimateMachine.Land.SoilWaterParameterizations.MoistureDependent{Float64},ClimateMachine.Land.SoilWaterParameterizations.vanGenuchten{Float64},typeof(Main.##355.ϑ_l0),ClimateMachine.Land.var\"#18#22\",ClimateMachine.Land.Dirichlet{Nothing,Nothing},ClimateMachine.Land.Neumann{Main.##355.var\"#1#2\",Main.##355.var\"#3#4\"}},ClimateMachine.Land.SoilHeatModel{Float64,typeof(Main.##355.T_init),ClimateMachine.Land.Dirichlet{Nothing,Nothing},ClimateMachine.Land.Neumann{Main.##355.var\"#5#6\",Main.##355.var\"#7#8\"}}}(ClimateMachine.Land.SoilParamFunctions{Float64}(0.395, 1.2277777777777777e-5, 0.001, 0.0, 0.0, 0.92, 1.16523e6, 0.5505750588978987, 2.6076638236870164, 4.516645961171465, 0.24, 18.1), ClimateMachine.Land.SoilWaterModel{Float64,ClimateMachine.Land.SoilWaterParameterizations.NoImpedance{Float64},ClimateMachine.Land.SoilWaterParameterizations.TemperatureDependentViscosity{Float64},ClimateMachine.Land.SoilWaterParameterizations.MoistureDependent{Float64},ClimateMachine.Land.SoilWaterParameterizations.vanGenuchten{Float64},typeof(Main.##355.ϑ_l0),ClimateMachine.Land.var\"#18#22\",ClimateMachine.Land.Dirichlet{Nothing,Nothing},ClimateMachine.Land.Neumann{Main.##355.var\"#1#2\",Main.##355.var\"#3#4\"}}(ClimateMachine.Land.SoilWaterParameterizations.NoImpedance{Float64}(), ClimateMachine.Land.SoilWaterParameterizations.TemperatureDependentViscosity{Float64}(0.0264, 288.0), ClimateMachine.Land.SoilWaterParameterizations.MoistureDependent{Float64}(), ClimateMachine.Land.SoilWaterParameterizations.vanGenuchten{Float64}(1.89, 7.5, 0.4708994708994708), Main.##355.ϑ_l0, ClimateMachine.Land.var\"#18#22\"(), ClimateMachine.Land.Dirichlet{Nothing,Nothing}(nothing, nothing), ClimateMachine.Land.Neumann{Main.##355.var\"#1#2\",Main.##355.var\"#3#4\"}(Main.##355.var\"#1#2\"(), Main.##355.var\"#3#4\"())), ClimateMachine.Land.SoilHeatModel{Float64,typeof(Main.##355.T_init),ClimateMachine.Land.Dirichlet{Nothing,Nothing},ClimateMachine.Land.Neumann{Main.##355.var\"#5#6\",Main.##355.var\"#7#8\"}}(Main.##355.T_init, ClimateMachine.Land.Dirichlet{Nothing,Nothing}(nothing, nothing), ClimateMachine.Land.Neumann{Main.##355.var\"#5#6\",Main.##355.var\"#7#8\"}(Main.##355.var\"#5#6\"(), Main.##355.var\"#7#8\"()))), (), Main.##355.init_soil!), ClimateMachine.Mesh.Grids.DiscontinuousSpectralElementGrid{Float64,3,1,8,Array,Array{Float64,1},Array{Float64,2},Array{Float64,3},Array{Float64,4},Array{Int64,1},Array{Int64,2},Array{Int64,3},ClimateMachine.Mesh.Topologies.StackedBrickTopology{3,Float64}}(ClimateMachine.Mesh.Topologies.StackedBrickTopology{3,Float64}(ClimateMachine.Mesh.Topologies.BoxElementTopology{3,Float64}(MPI.Comm(1140850688), 1:50, 1:50, 51:50, , Int64[], , [1, 2, 3, 4, 5, 6, 7, 8, 9, 10  …  41, 42, 43, 44, 45, 46, 47, 48, 49, 50], Int64[], [0.0 1.0 … 0.0 1.0; 0.0 0.0 … 1.0 1.0; -1.0 -1.0 … -0.98 -0.98]\n\n[0.0 1.0 … 0.0 1.0; 0.0 0.0 … 1.0 1.0; -0.98 -0.98 … -0.96 -0.96]\n\n[0.0 1.0 … 0.0 1.0; 0.0 0.0 … 1.0 1.0; -0.96 -0.96 … -0.94 -0.94]\n\n...\n\n[0.0 1.0 … 0.0 1.0; 0.0 0.0 … 1.0 1.0; -0.06 -0.06 … -0.04 -0.04]\n\n[0.0 1.0 … 0.0 1.0; 0.0 0.0 … 1.0 1.0; -0.04 -0.04 … -0.02 -0.02]\n\n[0.0 1.0 … 0.0 1.0; 0.0 0.0 … 1.0 1.0; -0.02 -0.02 … 0.0 0.0], [1 2 … 49 50; 1 2 … 49 50; … ; 1 1 … 48 49; 2 3 … 50 50], [2 2 … 2 2; 1 1 … 1 1; … ; 5 6 … 6 6; 5 5 … 5 6], [1 1 … 1 1; 1 1 … 1 1; … ; 1 1 … 1 1; 1 1 … 1 1], [0 0 … 0 0; 0 0 … 0 0; … ; 1 0 … 0 0; 0 0 … 0 2], Int64[], UnitRange{Int64}[], UnitRange{Int64}[], Int64[], true), 50), [2.0 0.0 … -1.0 0.010000000000000009; 2.0 0.0 … -1.0 0.010000000000000009; … ; 2.0 0.0 … -0.98 0.010000000000000009; 2.0 0.0 … -0.98 0.010000000000000009]\n\n[2.0 0.0 … -0.98 0.010000000000000009; 2.0 0.0 … -0.98 0.010000000000000009; … ; 2.0 0.0 … -0.96 0.010000000000000009; 2.0 0.0 … -0.96 0.010000000000000009]\n\n[2.0 0.0 … -0.96 0.010000000000000009; 2.0 0.0 … -0.96 0.010000000000000009; … ; 2.0 0.0 … -0.94 0.010000000000000009; 2.0 0.0 … -0.94 0.010000000000000009]\n\n...\n\n[2.0 0.0 … -0.06 0.01; 2.0000000000000004 0.0 … -0.06 0.010000000000000004; … ; 2.000000000000001 0.0 … -0.04000000000000001 0.010000000000000005; 1.9999999999999998 0.0 … -0.04 0.01]\n\n[2.0 0.0 … -0.04 0.010000000000000002; 2.0000000000000004 0.0 … -0.04 0.010000000000000005; … ; 2.0000000000000004 0.0 … -0.020000000000000004 0.010000000000000002; 2.0000000000000004 0.0 … -0.020000000000000004 0.010000000000000002]\n\n[2.0000000000000004 0.0 … -0.02 0.010000000000000002; 2.0000000000000004 0.0 … -0.02 0.010000000000000002; … ; 2.0000000000000004 0.0 … -2.220446049250313e-18 0.010000000000000002; 2.0000000000000004 0.0 … -2.220446049250313e-18 0.010000000000000002], [-1.0 -1.0 -1.0 -1.0; -0.0 -0.0 -0.0 -0.0; … ; 0.0050000000000000044 0.0050000000000000044 0.0050000000000000044 0.0050000000000000044; 399.99999999999966 399.99999999999966 399.99999999999966 399.99999999999966]\n\n[1.0 1.0 1.0 1.0; 0.0 0.0 0.0 0.0; … ; 0.0050000000000000044 0.0050000000000000044 0.0050000000000000044 0.0050000000000000044; 399.99999999999966 399.99999999999966 399.99999999999966 399.99999999999966]\n\n[-0.0 -0.0 -0.0 -0.0; -1.0 -1.0 -1.0 -1.0; … ; 0.0050000000000000044 0.0050000000000000044 0.0050000000000000044 0.0050000000000000044; 399.99999999999966 399.99999999999966 399.99999999999966 399.99999999999966]\n\n[0.0 0.0 0.0 0.0; 1.0 1.0 1.0 1.0; … ; 0.0050000000000000044 0.0050000000000000044 0.0050000000000000044 0.0050000000000000044; 399.99999999999966 399.99999999999966 399.99999999999966 399.99999999999966]\n\n[-0.0 -0.0 -0.0 -0.0; -0.0 -0.0 -0.0 -0.0; … ; 0.25 0.25 0.25 0.25; 399.99999999999966 399.99999999999966 399.99999999999966 399.99999999999966]\n\n[0.0 0.0 0.0 0.0; 0.0 0.0 0.0 0.0; … ; 0.25 0.25 0.25 0.25; 399.99999999999966 399.99999999999966 399.99999999999966 399.99999999999966]\n\n[-1.0 -1.0 -1.0 -1.0; -0.0 -0.0 -0.0 -0.0; … ; 0.0050000000000000044 0.0050000000000000044 0.0050000000000000044 0.0050000000000000044; 399.99999999999966 399.99999999999966 399.99999999999966 399.99999999999966]\n\n[1.0 1.0 1.0 1.0; 0.0 0.0 0.0 0.0; … ; 0.0050000000000000044 0.0050000000000000044 0.0050000000000000044 0.0050000000000000044; 399.99999999999966 399.99999999999966 399.99999999999966 399.99999999999966]\n\n[-0.0 -0.0 -0.0 -0.0; -1.0 -1.0 -1.0 -1.0; … ; 0.0050000000000000044 0.0050000000000000044 0.0050000000000000044 0.0050000000000000044; 399.99999999999966 399.99999999999966 399.99999999999966 399.99999999999966]\n\n[0.0 0.0 0.0 0.0; 1.0 1.0 1.0 1.0; … ; 0.0050000000000000044 0.0050000000000000044 0.0050000000000000044 0.0050000000000000044; 399.99999999999966 399.99999999999966 399.99999999999966 399.99999999999966]\n\n[-0.0 -0.0 -0.0 -0.0; -0.0 -0.0 -0.0 -0.0; … ; 0.25 0.25 0.25 0.25; 399.99999999999966 399.99999999999966 399.99999999999966 399.99999999999966]\n\n[0.0 0.0 0.0 0.0; 0.0 0.0 0.0 0.0; … ; 0.25 0.25 0.25 0.25; 399.99999999999966 399.99999999999966 399.99999999999966 399.99999999999966]\n\n[-1.0 -1.0 -1.0 -1.0; -0.0 -0.0 -0.0 -0.0; … ; 0.0050000000000000044 0.0050000000000000044 0.0050000000000000044 0.0050000000000000044; 399.99999999999966 399.99999999999966 399.99999999999966 399.99999999999966]\n\n[1.0 1.0 1.0 1.0; 0.0 0.0 0.0 0.0; … ; 0.0050000000000000044 0.0050000000000000044 0.0050000000000000044 0.0050000000000000044; 399.99999999999966 399.99999999999966 399.99999999999966 399.99999999999966]\n\n[-0.0 -0.0 -0.0 -0.0; -1.0 -1.0 -1.0 -1.0; … ; 0.0050000000000000044 0.0050000000000000044 0.0050000000000000044 0.0050000000000000044; 399.99999999999966 399.99999999999966 399.99999999999966 399.99999999999966]\n\n[0.0 0.0 0.0 0.0; 1.0 1.0 1.0 1.0; … ; 0.0050000000000000044 0.0050000000000000044 0.0050000000000000044 0.0050000000000000044; 399.99999999999966 399.99999999999966 399.99999999999966 399.99999999999966]\n\n[-0.0 -0.0 -0.0 -0.0; -0.0 -0.0 -0.0 -0.0; … ; 0.25 0.25 0.25 0.25; 399.99999999999966 399.99999999999966 399.99999999999966 399.99999999999966]\n\n[0.0 0.0 0.0 0.0; 0.0 0.0 0.0 0.0; … ; 0.25 0.25 0.25 0.25; 399.99999999999966 399.99999999999966 399.99999999999966 399.99999999999966]\n\n...\n\n[-1.0 -1.0 -1.0 -1.0; -0.0 -0.0 -0.0 -0.0; … ; 0.005000000000000001 0.005000000000000002 0.005000000000000001 0.005000000000000002; 399.99999999999994 400.00000000000006 399.99999999999994 400.00000000000006]\n\n[1.0 1.0 1.0 1.0; 0.0 0.0 0.0 0.0; … ; 0.005 0.005 0.005 0.005; 400.00000000000006 399.99999999999994 400.00000000000006 399.99999999999994]\n\n[-0.0 -0.0 -0.0 -0.0; -1.0 -1.0 -1.0 -1.0; … ; 0.005 0.005 0.005 0.005; 399.99999999999994 400.00000000000006 399.99999999999994 400.00000000000006]\n\n[0.0 0.0 0.0 0.0; 1.0 1.0 1.0 1.0; … ; 0.005 0.005 0.005 0.005; 400.00000000000006 399.99999999999994 400.00000000000006 399.99999999999994]\n\n[-0.0 -0.0 -0.0 -0.0; -0.0 -0.0 -0.0 -0.0; … ; 0.25 0.25 0.25 0.25; 399.99999999999994 400.00000000000006 400.00000000000006 399.99999999999994]\n\n[0.0 0.0 0.0 0.0; 0.0 0.0 0.0 0.0; … ; 0.25 0.25 0.25 0.25; 399.99999999999994 400.00000000000006 400.00000000000006 399.99999999999994]\n\n[-1.0 -1.0 -1.0 -1.0; -0.0 -0.0 -0.0 -0.0; … ; 0.005000000000000001 0.005000000000000001 0.005000000000000001 0.005000000000000001; 399.99999999999994 400.0 399.99999999999994 400.0]\n\n[1.0 1.0 1.0 1.0; 0.0 0.0 0.0 0.0; … ; 0.005000000000000001 0.005000000000000001 0.005000000000000001 0.005000000000000001; 400.0 400.0 400.0 400.0]\n\n[-0.0 -0.0 -0.0 -0.0; -1.0 -1.0 -1.0 -1.0; … ; 0.005000000000000001 0.005000000000000001 0.005000000000000001 0.005000000000000001; 399.99999999999994 400.0 399.99999999999994 400.0]\n\n[0.0 0.0 0.0 0.0; 1.0 1.0 1.0 1.0; … ; 0.005 0.005 0.005 0.005; 400.0 400.0 400.0 400.0]\n\n[-0.0 -0.0 -0.0 -0.0; -0.0 -0.0 -0.0 -0.0; … ; 0.25 0.25 0.25 0.25; 399.99999999999994 400.0 400.0 400.0]\n\n[1.734723475976807e-18 1.734723475976807e-18 1.734723475976807e-18 1.734723475976807e-18; 1.734723475976807e-18 1.734723475976807e-18 1.734723475976807e-18 1.734723475976807e-18; … ; 0.25 0.25 0.25 0.25; 399.99999999999994 400.0 400.0 400.0]\n\n[-1.0 -1.0 -1.0 -1.0; -0.0 -0.0 -0.0 -0.0; … ; 0.005000000000000001 0.005000000000000001 0.005000000000000001 0.005000000000000001; 400.0 400.0 400.0 400.0]\n\n[1.0 1.0 1.0 1.0; 0.0 0.0 0.0 0.0; … ; 0.005000000000000001 0.005000000000000001 0.005000000000000001 0.005000000000000001; 400.0 400.0 400.0 400.0]\n\n[-0.0 -0.0 -0.0 -0.0; -1.0 -1.0 -1.0 -1.0; … ; 0.005 0.005 0.005 0.005; 400.0 400.0 400.0 400.0]\n\n[0.0 0.0 0.0 0.0; 1.0 1.0 1.0 1.0; … ; 0.005 0.005 0.005 0.005; 400.0 400.0 400.0 400.0]\n\n[-0.0 -0.0 -0.0 -0.0; -0.0 -0.0 -0.0 -0.0; … ; 0.25 0.25 0.25 0.25; 400.0 400.0 400.0 400.0]\n\n[0.0 0.0 0.0 0.0; 0.0 0.0 0.0 0.0; … ; 0.25 0.25 0.25 0.25; 400.0 400.0 400.0 400.0], [0 0 … 0 0; 0 0 … 0 0; … ; 1 0 … 0 0; 0 0 … 0 2], [1 2 … 1 5; 3 4 … 2 6; 5 6 … 3 7; 7 8 … 4 8]\n\n[9 10 … 9 13; 11 12 … 10 14; 13 14 … 11 15; 15 16 … 12 16]\n\n[17 18 … 17 21; 19 20 … 18 22; 21 22 … 19 23; 23 24 … 20 24]\n\n...\n\n[377 378 … 377 381; 379 380 … 378 382; 381 382 … 379 383; 383 384 … 380 384]\n\n[385 386 … 385 389; 387 388 … 386 390; 389 390 … 387 391; 391 392 … 388 392]\n\n[393 394 … 393 397; 395 396 … 394 398; 397 398 … 395 399; 399 400 … 396 400], [2 1 … 1 9; 4 3 … 2 10; 6 5 … 3 11; 8 7 … 4 12]\n\n[10 9 … 5 17; 12 11 … 6 18; 14 13 … 7 19; 16 15 … 8 20]\n\n[18 17 … 13 25; 20 19 … 14 26; 22 21 … 15 27; 24 23 … 16 28]\n\n...\n\n[378 377 … 373 385; 380 379 … 374 386; 382 381 … 375 387; 384 383 … 376 388]\n\n[386 385 … 381 393; 388 387 … 382 394; 390 389 … 383 395; 392 391 … 384 396]\n\n[394 393 … 389 397; 396 395 … 390 398; 398 397 … 391 399; 400 399 … 392 400], Int64[], Int64[], UnitRange{Int64}[], UnitRange{Int64}[], [1, 2, 3, 4, 5, 6, 7, 8, 9, 10  …  41, 42, 43, 44, 45, 46, 47, 48, 49, 50], Int64[], Bool[1, 1, 1, 1, 1, 1, 1, 1, 1, 1  …  1, 1, 1, 1, 1, 1, 1, 1, 1, 1], [1.0, 1.0], [-0.5000000000000001 0.5000000000000001; -0.5000000000000001 0.5000000000000001], [0.0 0.0; 1.0 0.9999999999999997]), ClimateMachine.DGMethods.NumericalFluxes.CentralNumericalFluxFirstOrder(), ClimateMachine.DGMethods.NumericalFluxes.CentralNumericalFluxSecondOrder(), ClimateMachine.DGMethods.NumericalFluxes.CentralNumericalFluxGradient(), [-1.0 -1.3440628035414335 3.80745094115274e-8 288.00000000206114; -1.0 -1.3440628035414335 3.80745094115274e-8 288.00000000206114; … ; -0.98 -1.3240628034271293 3.807450946009217e-8 288.0000000030749; -0.98 -1.3240628034271293 3.807450946009217e-8 288.0000000030749]\n\n[-0.98 -1.3240628034271293 3.807450946009217e-8 288.0000000030749; -0.98 -1.3240628034271293 3.807450946009217e-8 288.0000000030749; … ; -0.96 -1.3040628032566082 3.8074509532542426e-8 288.0000000045872; -0.96 -1.3040628032566082 3.8074509532542426e-8 288.0000000045872]\n\n[-0.96 -1.3040628032566082 3.8074509532542426e-8 288.0000000045872; -0.96 -1.3040628032566082 3.8074509532542426e-8 288.0000000045872; … ; -0.94 -1.2840628030022203 3.807450964062535e-8 288.00000000684327; -0.94 -1.2840628030022203 3.807450964062535e-8 288.00000000684327]\n\n...\n\n[-0.06 -0.3724187437988918 5.495028103560027e-8 288.3011942119122; -0.06 -0.3724187437988918 5.495028103560027e-8 288.3011942119122; … ; -0.04000000000000001 -0.33837440678119846 6.527846503691664e-8 288.4493289641172; -0.04 -0.3383744067811984 6.527846503691664e-8 288.4493289641172]\n\n[-0.04 -0.3383744067811984 6.527846503691664e-8 288.4493289641172; -0.04 -0.3383744067811984 6.527846503691664e-8 288.4493289641172; … ; -0.020000000000000004 -0.29900120780953926 8.364913985166745e-8 288.6703200460356; -0.020000000000000004 -0.29900120780953926 8.364913985166745e-8 288.6703200460356]\n\n[-0.02 -0.29900120780953926 8.364913985166745e-8 288.6703200460356; -0.02 -0.29900120780953926 8.364913985166745e-8 288.6703200460356; … ; -2.220446049250313e-18 -0.253089248707838 1.1895506752860994e-7 289.0; -2.220446049250313e-18 -0.253089248707838 1.1895506752860994e-7 289.0], [6.9435017176823e-310 7.885669299852264e61 … 1.912951730373745e-309 -2.557436825984799e-254; 1.189677427e-315 2.427219086353687e-229 … 4.974853509180306e-222 -8.302708343684223e-287; … ; 1.35807730622e-312 9.2e-322 … 2.0143138569187e-310 -5.899503335704607e273; 1.390671182289616e-309 -7.286161869063691e82 … 4.597579626521814e-305 3.577925105751589e42]\n\n[6.805653021109998e38 2.2603440410822538e-133 … 2.6135790970316815e-299 -3.271030004179868e-171; 2.116362400568148e9 -6.032166784102426e-264 … 7.233061664834496e-132 8.507659132015771e291; … ; 6472.219305785675 -6.14400183530298e-264 … -2.80220844190898e154 -8.30249789617237e-287; 6.806476927302169e38 -1.4105932250393253e-37 … -5.954498510150958e-264 7.35156593605499e214]\n\n[8.215192566737857e39 6.805656063471438e38 … 6.94340292803667e-310 1.0553922405393388e27; 2.2603440410838554e-133 1.255421657249937e58 … 2.5719147306422445e-115 2.3602148061309937e-308; … ; 8.361763919260204e42 4.798540745889464e307 … -5.235348915560769e44 9.919474098902168e-33; 1.0370543994516564e39 -9.184239477968091e-287 … -1.786418882209053e-248 -8.385395500878268e262]\n\n...\n\n[0.0 2.7585945283e-313 … 6.36598737295e-313 1.2623e-320; 3.967e-321 0.0 … 0.0 3.6073928447e-313; … ; 0.0 3.6073928447e-313 … 2.7585945283e-313 1.4027e-320; 4.605e-321 0.0 … 0.0 6.36598737295e-313]\n\n[0.0 3.6073928447e-313 … 2.7585945283e-313 2.3147e-320; 1.423e-320 0.0 … 0.0 6.57818695204e-313; … ; 0.0 1.9097962119e-313 … 4.243991582e-313 2.3804e-320; 1.544e-320 0.0 … 0.0 4.66839074017e-313]\n\n[0.0 4.4561911611e-313 … 4.4561911611e-313 2.5973e-320; 2.399e-320 0.0 … 0.0 3.6073928447e-313; … ; 0.0 7.00258611023e-313 … 4.4561911611e-313 2.632e-320; 2.457e-320 0.0 … 0.0 7.00258611023e-313], (, ), ClimateMachine.Mesh.Grids.VerticalDirection(), ClimateMachine.Mesh.Grids.VerticalDirection(), nothing), [0.0 0.0 0.0; 0.0 0.0 0.0; … ; 0.0 0.0 0.0; 0.0 0.0 0.0]\n\n[0.0 0.0 0.0; 0.0 0.0 0.0; … ; 0.0 0.0 0.0; 0.0 0.0 0.0]\n\n[0.0 0.0 0.0; 0.0 0.0 0.0; … ; 0.0 0.0 0.0; 0.0 0.0 0.0]\n\n...\n\n[0.0 0.0 0.0; 0.0 0.0 0.0; … ; 0.0 0.0 0.0; 0.0 0.0 0.0]\n\n[0.0 0.0 0.0; 0.0 0.0 0.0; … ; 0.0 0.0 0.0; 0.0 0.0 0.0]\n\n[0.0 0.0 0.0; 0.0 0.0 0.0; … ; 0.0 0.0 0.0; 0.0 0.0 0.0], (0.0, -0.41789047449985195, -1.192151694642677, -1.6977846924715279, -1.5141834442571558), (0.14965902199922912, 0.37921031299962726, 0.8229550293869817, 0.6994504559491221, 0.15305724796815198), (0.0, 0.14965902199922912, 0.37040095736420475, 0.6222557631344432, 0.9582821306746903)))"
     },
     "metadata": {},
     "execution_count": 26
    }
   ],
   "cell_type": "code",
   "source": [
    "N_poly = 1\n",
    "nelem_vert = 50\n",
    "zmin = FT(-1)\n",
    "zmax = FT(0)\n",
    "\n",
    "driver_config = ClimateMachine.SingleStackConfiguration(\n",
    "    \"LandModel\",\n",
    "    N_poly,\n",
    "    nelem_vert,\n",
    "    zmax,\n",
    "    param_set,\n",
    "    m;\n",
    "    zmin = zmin,\n",
    "    numerical_flux_first_order = CentralNumericalFluxFirstOrder(),\n",
    ")\n",
    "\n",
    "t0 = FT(0)\n",
    "timeend = FT(60 * 60 * 72)\n",
    "dt = FT(30.0)\n",
    "\n",
    "\n",
    "solver_config =\n",
    "    ClimateMachine.SolverConfiguration(t0, timeend, driver_config, ode_dt = dt)"
   ],
   "metadata": {},
   "execution_count": 26
  },
  {
   "cell_type": "markdown",
   "source": [
    "Determine how often you want output:"
   ],
   "metadata": {}
  },
  {
   "outputs": [
    {
     "output_type": "execute_result",
     "data": {
      "text/plain": "64800"
     },
     "metadata": {},
     "execution_count": 27
    }
   ],
   "cell_type": "code",
   "source": [
    "const n_outputs = 4\n",
    "const every_x_simulation_time = ceil(Int, timeend / n_outputs)"
   ],
   "metadata": {},
   "execution_count": 27
  },
  {
   "cell_type": "markdown",
   "source": [
    "Create a place to store this output, and determine which indices in the state\n",
    "vector correspond to the variables we are interested in:"
   ],
   "metadata": {}
  },
  {
   "outputs": [
    {
     "output_type": "execute_result",
     "data": {
      "text/plain": "400-element Array{Float64,1}:\n 288.00000000206114\n 288.00000000206114\n 288.00000000206114\n 288.00000000206114\n 288.0000000030749\n 288.0000000030749\n 288.0000000030749\n 288.0000000030749\n 288.0000000030749\n 288.0000000030749\n   ⋮\n 288.6703200460356\n 288.6703200460356\n 288.6703200460356\n 288.6703200460356\n 288.6703200460356\n 289.0\n 289.0\n 289.0\n 289.0"
     },
     "metadata": {},
     "execution_count": 28
    }
   ],
   "cell_type": "code",
   "source": [
    "all_data = Dict([k => Dict() for k in 1:n_outputs]...)\n",
    "\n",
    "K∇h_vert_ind = varsindex(vars_state(m, GradientFlux(), FT), :soil, :water)[3]\n",
    "κ∇T_vert_ind = varsindex(vars_state(m, GradientFlux(), FT), :soil, :heat)[3]\n",
    "ϑ_l_ind = varsindex(vars_state(m, Prognostic(), FT), :soil, :water, :ϑ_l)\n",
    "T_ind = varsindex(vars_state(m, Auxiliary(), FT), :soil, :heat, :T)\n",
    "z_ind = varsindex(vars_state(m, Auxiliary(), FT), :z)\n",
    "\n",
    "t = ODESolvers.gettime(solver_config.solver)\n",
    "thegrid = solver_config.dg.grid\n",
    "Q = solver_config.Q;\n",
    "aux = solver_config.dg.state_auxiliary;\n",
    "grads = solver_config.dg.state_gradient_flux\n",
    "ϑ_l = Q[:, ϑ_l_ind, :][:]\n",
    "z = aux[:, z_ind, :][:]\n",
    "T = aux[:, T_ind, :][:]"
   ],
   "metadata": {},
   "execution_count": 28
  },
  {
   "cell_type": "markdown",
   "source": [
    "Gradients aren't calculated until the integration starts; we would\n",
    "need to use the specified inital conditions to determine them. However,\n",
    "we care more about showing that they tend to zero over time, as the system\n",
    "approaches equlibrium, so we won't calculate them."
   ],
   "metadata": {}
  },
  {
   "cell_type": "markdown",
   "source": [
    "Save initial condition:"
   ],
   "metadata": {}
  },
  {
   "outputs": [
    {
     "output_type": "execute_result",
     "data": {
      "text/plain": "Dict{String,Array} with 5 entries:\n  \"T\"        => [288.0, 288.0, 288.0, 288.0, 288.0, 288.0, 288.0, 288.0, 288.0,…\n  \"ϑ_l\"      => [0.158, 0.158, 0.158, 0.158, 0.158, 0.158, 0.158, 0.158, 0.158,…\n  \"t\"        => [0.0]\n  \"κ∇T_vert\" => [nothing]\n  \"K∇h_vert\" => [nothing]"
     },
     "metadata": {},
     "execution_count": 29
    }
   ],
   "cell_type": "code",
   "source": [
    "initial_state = Dict{String, Array}(\n",
    "    \"t\" => [t],\n",
    "    \"ϑ_l\" => ϑ_l,\n",
    "    \"T\" => T,\n",
    "    \"K∇h_vert\" => [nothing],\n",
    "    \"κ∇T_vert\" => [nothing],\n",
    ")"
   ],
   "metadata": {},
   "execution_count": 29
  },
  {
   "cell_type": "markdown",
   "source": [
    "We specify a function which evaluates `every_x_simulation_time` and returns\n",
    "the state vector, appending the variables we are interested in into\n",
    "`all_data`"
   ],
   "metadata": {}
  },
  {
   "cell_type": "markdown",
   "source": [
    "We also interpolate over the DG grid points using `interpolate_output`."
   ],
   "metadata": {}
  },
  {
   "outputs": [],
   "cell_type": "code",
   "source": [
    "zres = 0.02\n",
    "step = [1];\n",
    "callback = GenericCallbacks.EveryXSimulationTime(\n",
    "    every_x_simulation_time,\n",
    ") do (init = false)\n",
    "    t = ODESolvers.gettime(solver_config.solver)\n",
    "    iQ, iaux, igrads =\n",
    "        interpolate_output(thegrid, zmin, zmax, Q, aux, grads, zres)\n",
    "    ϑ_l = iQ[:, ϑ_l_ind, :][:]\n",
    "    T = iaux[:, T_ind, :][:]\n",
    "    K∇h_vert = igrads[:, K∇h_vert_ind, :][:]\n",
    "    κ∇T_vert = igrads[:, κ∇T_vert_ind, :][:]\n",
    "    all_vars = Dict{String, Array}(\n",
    "        \"t\" => [t],\n",
    "        \"ϑ_l\" => ϑ_l,\n",
    "        \"T\" => T,\n",
    "        \"K∇h_vert\" => K∇h_vert,\n",
    "        \"κ∇T_vert\" => κ∇T_vert,\n",
    "    )\n",
    "    all_data[step[1]] = all_vars\n",
    "\n",
    "    step[1] += 1\n",
    "    nothing\n",
    "end;"
   ],
   "metadata": {},
   "execution_count": 30
  },
  {
   "cell_type": "markdown",
   "source": [
    "# Run the integration"
   ],
   "metadata": {}
  },
  {
   "outputs": [
    {
     "name": "stdout",
     "output_type": "stream",
     "text": [
      "┌ Info: Starting LandModel\n",
      "│     dt              = 3.00000e+01\n",
      "│     timeend         = 259200.00\n",
      "│     number of steps = 8640\n",
      "│     norm(Q)         = 2.7324714577227090e+07\n",
      "└ @ ClimateMachine /home/runner/work/ClimateMachine.jl/ClimateMachine.jl/src/Driver/Driver.jl:636\n",
      "┌ Info: Finished\n",
      "│     norm(Q)            = 2.7369613412716918e+07\n",
      "│     norm(Q) / norm(Q₀) = 1.0016431584440866e+00\n",
      "│     norm(Q) - norm(Q₀) = 4.4898835489828140e+04\n",
      "└ @ ClimateMachine /home/runner/work/ClimateMachine.jl/ClimateMachine.jl/src/Driver/Driver.jl:674\n"
     ]
    },
    {
     "output_type": "execute_result",
     "data": {
      "text/plain": "1.0016431584440866"
     },
     "metadata": {},
     "execution_count": 31
    }
   ],
   "cell_type": "code",
   "source": [
    "ClimateMachine.invoke!(solver_config; user_callbacks = (callback,))"
   ],
   "metadata": {},
   "execution_count": 31
  },
  {
   "cell_type": "markdown",
   "source": [
    "Get the final state and create plots"
   ],
   "metadata": {}
  },
  {
   "outputs": [],
   "cell_type": "code",
   "source": [
    "t = ODESolvers.gettime(solver_config.solver)\n",
    "iQ, iaux, igrads = interpolate_output(thegrid, zmin, zmax, Q, aux, grads, zres)\n",
    "\n",
    "ϑ_l = iQ[:, ϑ_l_ind, :][:]\n",
    "T = iaux[:, T_ind, :][:]\n",
    "K∇h_vert = igrads[:, K∇h_vert_ind, :][:]\n",
    "κ∇T_vert = igrads[:, κ∇T_vert_ind, :][:]\n",
    "all_vars = Dict{String, Array}(\n",
    "    \"t\" => [t],\n",
    "    \"ϑ_l\" => ϑ_l,\n",
    "    \"T\" => T,\n",
    "    \"K∇h_vert\" => K∇h_vert,\n",
    "    \"κ∇T_vert\" => κ∇T_vert,\n",
    ")\n",
    "all_data[n_outputs] = all_vars\n",
    "iz = iaux[:, z_ind, :][:]\n",
    "\n",
    "t = [all_data[k][\"t\"][1] for k in 1:n_outputs]\n",
    "t = ceil.(Int64, t ./ 60)\n",
    "\n",
    "ϑ_plot =\n",
    "    plot(initial_state[\"ϑ_l\"], z, label = \"t = 0\", ylabel = \"z\", xlabel = \"ϑ_l\")\n",
    "plot!(all_data[1][\"ϑ_l\"], iz, label = \"t = 0.75 days\")\n",
    "plot!(all_data[2][\"ϑ_l\"], iz, label = \"t = 1.5 days\")\n",
    "plot!(all_data[3][\"ϑ_l\"], iz, label = \"t = 2.25 days\")\n",
    "plot!(all_data[4][\"ϑ_l\"], iz, label = \"t = 3 days\")\n",
    "\n",
    "\n",
    "K∇h_z_plot = plot(\n",
    "    all_data[1][\"K∇h_vert\"],\n",
    "    iz,\n",
    "    label = \"0.75 days\",\n",
    "    ytickfontcolor = \"white\",\n",
    "    xlabel = \"K∇h_z (m/s)\",\n",
    ")\n",
    "plot!(all_data[2][\"K∇h_vert\"], iz, label = \"1.5 days\")\n",
    "plot!(all_data[3][\"K∇h_vert\"], iz, label = \"2.25 days\")\n",
    "plot!(all_data[4][\"K∇h_vert\"], iz, label = \"3 days\")\n",
    "plot!(legend = :bottomleft)\n",
    "plot(ϑ_plot, K∇h_z_plot)\n",
    "savefig(\"eq_moisture_plot.png\")"
   ],
   "metadata": {},
   "execution_count": 32
  },
  {
   "cell_type": "markdown",
   "source": [
    "![](eq_moisture_plot.png)"
   ],
   "metadata": {}
  },
  {
   "outputs": [],
   "cell_type": "code",
   "source": [
    "T_plot =\n",
    "    plot(initial_state[\"T\"], z, label = \"t = 0\", ylabel = \"z\", xlabel = \"T (K)\")\n",
    "plot!(all_data[1][\"T\"], iz, label = \"t = 0.75 days\")\n",
    "plot!(all_data[2][\"T\"], iz, label = \"t = 1.5 days\")\n",
    "plot!(all_data[3][\"T\"], iz, label = \"t = 2.25 days\")\n",
    "plot!(all_data[4][\"T\"], iz, label = \"t = 3 days\")\n",
    "plot!(legend = :bottomright)\n",
    "\n",
    "κ∇T_z_plot = plot(\n",
    "    all_data[1][\"κ∇T_vert\"],\n",
    "    iz,\n",
    "    label = \"0.75 days\",\n",
    "    ytickfontcolor = \"white\",\n",
    "    xlabel = \"κ∇T_z (W/m^2)\",\n",
    ")\n",
    "plot!(all_data[2][\"κ∇T_vert\"], iz, label = \"1.5 days\")\n",
    "plot!(all_data[3][\"κ∇T_vert\"], iz, label = \"2.25 days\")\n",
    "plot!(all_data[4][\"κ∇T_vert\"], iz, label = \"3 days\")\n",
    "plot!(legend = :bottomright)\n",
    "plot(T_plot, κ∇T_z_plot)\n",
    "savefig(\"eq_temperature_plot.png\")"
   ],
   "metadata": {},
   "execution_count": 33
  },
  {
   "cell_type": "markdown",
   "source": [
    "![](eq_temperature_plot.png)"
   ],
   "metadata": {}
  },
  {
   "cell_type": "markdown",
   "source": [
    "# Analytic Expectations"
   ],
   "metadata": {}
  },
  {
   "cell_type": "markdown",
   "source": [
    "We can determine a priori what we expect the final temperature to be in\n",
    "equilibrium."
   ],
   "metadata": {}
  },
  {
   "cell_type": "markdown",
   "source": [
    "Regardless of the final water profile in equilibrium, we know that\n",
    "the final temperature `T_f` will be a constant across the domain. All\n",
    "water that began with a temperature above this point will cool to `T_f`,\n",
    "and water that began with a temperature below this point will warm to\n",
    "`T_f`. The initial function `T(z)` is equal to `T_f` at a value of\n",
    "`z = z̃`. This is the location in space which divides these two groups\n",
    "(water that warms over time and water that cools over time) spatially.\n",
    "We can solve for `z̃(T_f)` using `T_f = T(z̃)`."
   ],
   "metadata": {}
  },
  {
   "cell_type": "markdown",
   "source": [
    "Next, we can determine the change in energy required to cool\n",
    "the water above `z̃` to `T_f`: it is the integral from `z̃` to the surface\n",
    "at `z = 0` of ` c θ(z) T(z) `, where `c` is the volumetric heat capacity -\n",
    "a constant here - and `θ(z)` is the initial water profile. Compute the energy\n",
    "required to warm the water below `z̃` to `T_f` in a similar way, set equal, and solve\n",
    "for `T_f`. This results in `T_f = 288.056`, which is very close to the mean `T` we observe\n",
    "after 3 days, of `288.054`."
   ],
   "metadata": {}
  },
  {
   "cell_type": "markdown",
   "source": [
    "One could also solve the ordinary differential equation for `ϑ_l` specified by\n",
    "``∂ h/∂ z = 0`` to determine the functional form of the\n",
    "equilibrium profile of the liquid water."
   ],
   "metadata": {}
  },
  {
   "cell_type": "markdown",
   "source": [
    "# References"
   ],
   "metadata": {}
  },
  {
   "cell_type": "markdown",
   "source": [
    "[1] Bonan, G. Climate Change and Terrestrial Ecosystem Modeling (2019),\n",
    "Cambridge University Press"
   ],
   "metadata": {}
  },
  {
   "cell_type": "markdown",
   "source": [
    "[2] Cosby, B. J., Hornberger, G. M., Clapp, R. B., and Ginn, T. R. (1984).\n",
    "A statistical exploration of the relationships of soil moisture\n",
    "characteristics to the physical properties of soils. Water Resources\n",
    "Research, 20, 682–690."
   ],
   "metadata": {}
  },
  {
   "cell_type": "markdown",
   "source": [
    "[3] Balland and Arp (2005) Modeling soil thermal conductivities over a wide\n",
    "range of conditions, J. Env. Eng. Sci., 4, 549–558."
   ],
   "metadata": {}
  },
  {
   "cell_type": "markdown",
   "source": [
    "---\n",
    "\n",
    "*This notebook was generated using [Literate.jl](https://github.com/fredrikekre/Literate.jl).*"
   ],
   "metadata": {}
  }
 ],
 "nbformat_minor": 3,
 "metadata": {
  "language_info": {
   "file_extension": ".jl",
   "mimetype": "application/julia",
   "name": "julia",
   "version": "1.4.2"
  },
  "kernelspec": {
   "name": "julia-1.4",
   "display_name": "Julia 1.4.2",
   "language": "julia"
  }
 },
 "nbformat": 4
}
