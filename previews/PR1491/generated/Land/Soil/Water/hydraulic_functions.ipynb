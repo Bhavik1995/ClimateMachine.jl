{
 "cells": [
  {
   "cell_type": "markdown",
   "source": [
    "# Hydraulic functions"
   ],
   "metadata": {}
  },
  {
   "cell_type": "markdown",
   "source": [
    "This tutorial shows how to specify the hydraulic functions\n",
    "used in Richard's equation. In particular,\n",
    "we show how to choose the formalism for matric potential and hydraulic\n",
    "conductivity, and how to make the hydraulic conductivity account for\n",
    "the presence of ice as well as the temperature dependence of the\n",
    "viscosity of liquid water."
   ],
   "metadata": {}
  },
  {
   "cell_type": "markdown",
   "source": [
    "# Multiple dispatch\n",
    "Before diving into the hydraulics, let's go over a feature of Julia called\n",
    "multiple dispatch. This will make things simpler moving forwards!"
   ],
   "metadata": {}
  },
  {
   "cell_type": "markdown",
   "source": [
    "In the Climate Machine code, we make use of multiple dispatch.\n",
    "With multiple dispatch, a function can have many\n",
    "ways of executing (called methods), depending on the *type* of the\n",
    "variables passed in. A simple example of multiple dispatch is the division operation.\n",
    "Integer division takes two numbers as input, and returns an integer - ignoring the decimal.\n",
    "Float division takes two numbers as input, and returns a floating point number, including the decimal.\n",
    "In Julia, we might write these as:\n",
    "```\n",
    "   function division(a::Int, b::Int)\n",
    "        return floor(Int, a/b)\n",
    "    end\n",
    "\n",
    "   function division(a::Float64, b::Float64)\n",
    "        return a/b\n",
    "    end\n",
    " ```\n",
    "We can see that `division` is now a function with two methods.\n",
    "```\n",
    "    julia> division\n",
    "    division (generic function with 2 methods)\n",
    "```\n",
    "Now, using the same function signature, we can carry out integer\n",
    "division or floating point division, depending on the types of the\n",
    "arguments:\n",
    "```\n",
    "    julia> division(1,2)\n",
    "    0\n",
    "\n",
    "    julia> division(1.0,2.0)\n",
    "    0.5\n",
    "```"
   ],
   "metadata": {}
  },
  {
   "cell_type": "markdown",
   "source": [
    "One benefit of this is that a function like `matric_potential`, which\n",
    "should return different answers depending on what type of hydraulics\n",
    "model (e.g. van Genchten, or Brooks and Corey) the user chooses,\n",
    "is always called in the same way. If not, we would need to have a\n",
    "`matric_potential_van_genuchten` function, and a `matric_potential_brooks_and_corey`\n",
    "function, for example, and we would need to change the source code\n",
    "whenever the user wished to changed hydraulics model. Or, we could\n",
    "have a single function with a branch in it, (the choice made based on a flag passed in),\n",
    "but this slows things down on the GPU.\n",
    "Multiple dispatch provides a nice solution."
   ],
   "metadata": {}
  },
  {
   "cell_type": "markdown",
   "source": [
    "# Preliminary setup"
   ],
   "metadata": {}
  },
  {
   "cell_type": "markdown",
   "source": [
    "- load external packages"
   ],
   "metadata": {}
  },
  {
   "outputs": [],
   "cell_type": "code",
   "source": [
    "using Plots"
   ],
   "metadata": {},
   "execution_count": 1
  },
  {
   "cell_type": "markdown",
   "source": [
    "- load ClimateMachine modules"
   ],
   "metadata": {}
  },
  {
   "outputs": [
    {
     "output_type": "execute_result",
     "data": {
      "text/plain": "Float32"
     },
     "metadata": {},
     "execution_count": 2
    }
   ],
   "cell_type": "code",
   "source": [
    "using ClimateMachine\n",
    "using ClimateMachine.Land\n",
    "using ClimateMachine.Land.SoilWaterParameterizations\n",
    "\n",
    "FT = Float32"
   ],
   "metadata": {},
   "execution_count": 2
  },
  {
   "cell_type": "markdown",
   "source": [
    "# Choose general soil parameters for your soil type.\n",
    "For the water equation, the user needs to choose a porosity `ν`,\n",
    "saturated hydraulic conductivity `Ksat` (and a specific storage `S_s`,\n",
    "though that is not needed here).\n",
    "Note that the two hydraulic models included in ClimateMachine -\n",
    "that of Brooks and Corey (1964, 1977) and van Genuchten (1980) - use the same\n",
    "value of `Ksat`. All values are given in SI/mks units. We\n",
    "neglect the residual pore space in the ClimateMachine model. Below\n",
    "we choose parameters for sandy loam (Bonan, 2019, Chapter 8, page 120)."
   ],
   "metadata": {}
  },
  {
   "outputs": [
    {
     "output_type": "execute_result",
     "data": {
      "text/plain": "1.2277777f-5"
     },
     "metadata": {},
     "execution_count": 3
    }
   ],
   "cell_type": "code",
   "source": [
    "ν = FT(0.41)\n",
    "Ksat = FT(4.42 / (3600 * 100))"
   ],
   "metadata": {},
   "execution_count": 3
  },
  {
   "cell_type": "markdown",
   "source": [
    "# Matric Potential\n",
    "The matric potential represents how much water clings to soil. Drier soil\n",
    "holds onto water more tightly, making diffusion more difficult. As soil becomes\n",
    "wetter, the matric potential decreases in magnitude, making diffusion easier.\n",
    "ClimateMachine's Land model allows for two `hydraulics` models for matric potential\n",
    "(and hydraulic conductivity), that of van Genuchten (1980), and Brooks and Corey (1967, 1970)."
   ],
   "metadata": {}
  },
  {
   "cell_type": "markdown",
   "source": [
    "The van Genucthen model requires two free parameters, `α` and `n`.\n",
    "The third parameter is computed from `n`. Of these, only `α` carries\n",
    "units, of inverse meters. The Brooks and Corey model also uses\n",
    "two free parameters, `ψ_b`, the matric potential at saturation,\n",
    " and a constant `m`. `ψ_b` carries units of meters."
   ],
   "metadata": {}
  },
  {
   "cell_type": "markdown",
   "source": [
    "Below we show how to create two concrete examples of these hydraulics models,\n",
    "for sandy loam. Importantly - the parameters chosen are a function of soil type!"
   ],
   "metadata": {}
  },
  {
   "outputs": [
    {
     "output_type": "execute_result",
     "data": {
      "text/plain": "ClimateMachine.Land.SoilWaterParameterizations.BrooksCorey{Float32}(0.09f0, 0.228f0)"
     },
     "metadata": {},
     "execution_count": 4
    }
   ],
   "cell_type": "code",
   "source": [
    "vg_α = FT(7.5)\n",
    "vg_n = FT(1.89)\n",
    "hydraulics = vanGenuchten{FT}(α = vg_α, n = vg_n)\n",
    "\n",
    "ψ_sat = 0.09\n",
    "mval = 0.228\n",
    "hydraulics_bc = BrooksCorey{FT}(ψb = ψ_sat, m = mval)"
   ],
   "metadata": {},
   "execution_count": 4
  },
  {
   "cell_type": "markdown",
   "source": [
    "As alluded to above, we use multiple dispatch.\n",
    "As a concrete example:\n",
    "`hydraulics` is of type vanGenuchten{Float32} based on our choice of FT:\n",
    "```\n",
    "    julia> typeof(hydraulics)\n",
    "    vanGenuchten{Float32}\n",
    "```\n",
    "but meanwhile,\n",
    "```\n",
    "    julia> typeof(hydraulics_bc)\n",
    "    BrooksCorey{Float32}\n",
    "```\n",
    "The function `matric_potential` will execute different methods\n",
    "depending on if we pass a hydraulics model of type vanGenuchten or\n",
    "e.g. BrooksCorey! In both cases, it will return the correct value\n",
    "for `ψ`."
   ],
   "metadata": {}
  },
  {
   "cell_type": "markdown",
   "source": [
    "Let's plot the matric potential as a function of the effective saturation `S_l`."
   ],
   "metadata": {}
  },
  {
   "outputs": [],
   "cell_type": "code",
   "source": [
    "S_l = FT.(0.01:0.01:0.99)\n",
    "ψ = matric_potential.(Ref(hydraulics), S_l)\n",
    "ψ_bc = matric_potential.(Ref(hydraulics_bc), S_l)\n",
    "plot(\n",
    "    S_l,\n",
    "    log10.(-ψ),\n",
    "    xlabel = \"effective saturation\",\n",
    "    ylabel = \"Log10(|ψ|)\",\n",
    "    label = \"van Genuchten\",\n",
    ")\n",
    "plot!(S_l, log10.(-ψ_bc), label = \"Brooks and Corey\")\n",
    "savefig(\"./bc_vg_matric_potential.png\")"
   ],
   "metadata": {},
   "execution_count": 5
  },
  {
   "cell_type": "markdown",
   "source": [
    "![](bc_vg_matric_potential.png)\n",
    "The huge range in `ψ` as `S_l` varies, as well as the steep slope in\n",
    "`ψ` near saturation and completely dry soil, are part of the reason\n",
    "why Richard's equation is such a challenging numerical problem."
   ],
   "metadata": {}
  },
  {
   "cell_type": "markdown",
   "source": [
    "# Hydraulic conductivity\n",
    "The hydraulic conductivity is a more complex function than the matric potential,\n",
    "as it depends on the temperature of the water, the volumetric ice fraction, and\n",
    "the volumetric liquid water fraction. It also depends on the `hydraulics` model\n",
    "chosen."
   ],
   "metadata": {}
  },
  {
   "cell_type": "markdown",
   "source": [
    "We represent the hydraulic conductivity `K` as the product of four factors:\n",
    "`Ksat`, an `impedance_factor` (which accounts for the effect of ice)\n",
    "a `viscosity_factor` (which accounts for the effect of temperature)\n",
    "and a `moisture_factor` (which accounts for the effect of liquid water),\n",
    " Let's start with ice and temperature independence, but moisture dependence.\n",
    "The `moisture_factor` will make use of the `hydraulics` model chosen above when we compute `K`."
   ],
   "metadata": {}
  },
  {
   "outputs": [
    {
     "output_type": "execute_result",
     "data": {
      "text/plain": "ClimateMachine.Land.SoilWaterParameterizations.NoImpedance{Float32}()"
     },
     "metadata": {},
     "execution_count": 6
    }
   ],
   "cell_type": "code",
   "source": [
    "moisture_choice = MoistureDependent{FT}()\n",
    "viscosity_choice = ConstantViscosity{FT}()\n",
    "impedance_choice = NoImpedance{FT}()"
   ],
   "metadata": {},
   "execution_count": 6
  },
  {
   "cell_type": "markdown",
   "source": [
    "We are going to calculate `K = Ksat × 1 × 1 × moisture_factor`, but as alluded\n",
    "to above, our functions will use multiple dispatch. Just like we defined new type\n",
    "classes for vanGenuchten{FT} and BrooksCorey{FT}, we also created new type classes\n",
    "for the `impedance_factor`, `viscosity_factor`, and `moisture_factor`.\n",
    "Based on the type choices the user makes for these, the correct conductivity\n",
    "value will be returned. For example, in the source code we have defined a function\n",
    "called `viscosity_factor` with a method that, when passed `ConstantViscosity{FT}`, always\n",
    "returns 1. The same is true for a method of `impedance_factor`, using the type\n",
    "`NoImpedance{FT}`, and for `moisture_factor`, using the type `MoistureIndependent{FT}`."
   ],
   "metadata": {}
  },
  {
   "cell_type": "markdown",
   "source": [
    "One byproduct of this flexibility in functions is that `hydraulic_conductivity`\n",
    "requires all the arguments it could possibly need passed to it, which is\n",
    "why here we must supply a value `T` and `θ_ice`, even though they are not used."
   ],
   "metadata": {}
  },
  {
   "outputs": [
    {
     "output_type": "execute_result",
     "data": {
      "text/plain": "99-element Array{Float32,1}:\n 8.7155545f-16\n 2.3432499f-14\n 1.6056188f-13\n 6.294112f-13\n 1.8159841f-12\n 4.3175177f-12\n 8.979467f-12\n 1.6936544f-11\n 2.964561f-11\n 4.8923376f-11\n ⋮\n 3.5724584f-6\n 3.8972603f-6\n 4.2633465f-6\n 4.6803925f-6\n 5.162333f-6\n 5.730583f-6\n 6.4213004f-6\n 7.3052756f-6\n 8.566906f-6"
     },
     "metadata": {},
     "execution_count": 7
    }
   ],
   "cell_type": "code",
   "source": [
    "T = FT(0.0)\n",
    "θ_ice = FT(0.0)\n",
    "\n",
    "K =\n",
    "    Ksat .*\n",
    "    hydraulic_conductivity.(\n",
    "        Ref(impedance_choice),\n",
    "        Ref(viscosity_choice),\n",
    "        Ref(moisture_choice),\n",
    "        Ref(hydraulics),\n",
    "        Ref(θ_ice),\n",
    "        Ref(ν),\n",
    "        Ref(T),\n",
    "        S_l,\n",
    "    )"
   ],
   "metadata": {},
   "execution_count": 7
  },
  {
   "cell_type": "markdown",
   "source": [
    "Let's see how the curves change when we include the effects of temperature\n",
    "and ice on the hydraulic conductivity."
   ],
   "metadata": {}
  },
  {
   "outputs": [],
   "cell_type": "code",
   "source": [
    "viscosity_choice_T = TemperatureDependentViscosity{FT}()\n",
    "T = FT(300.0)\n",
    "K_T =\n",
    "    Ksat .*\n",
    "    hydraulic_conductivity.(\n",
    "        Ref(impedance_choice),\n",
    "        Ref(viscosity_choice_T),\n",
    "        Ref(moisture_choice),\n",
    "        Ref(hydraulics),\n",
    "        Ref(θ_ice),\n",
    "        Ref(ν),\n",
    "        Ref(T),\n",
    "        S_l,\n",
    "    )\n",
    "ice_impedance_I = IceImpedance{FT}()\n",
    "θ_ice = FT(0.3)\n",
    "S_l_accounting_for_ice = FT.(0.01:0.01:0.7) # note that the total volumetric water fraction cannot exceed unity.\n",
    "K_ice =\n",
    "    Ksat .*\n",
    "    hydraulic_conductivity.(\n",
    "        Ref(ice_impedance_I),\n",
    "        Ref(viscosity_choice),\n",
    "        Ref(moisture_choice),\n",
    "        Ref(hydraulics),\n",
    "        Ref(θ_ice),\n",
    "        Ref(ν),\n",
    "        Ref(T),\n",
    "        S_l_accounting_for_ice,\n",
    "    )\n",
    "plot(\n",
    "    S_l,\n",
    "    log10.(K),\n",
    "    xlabel = \"effective saturation\",\n",
    "    ylabel = \"Log10(K)\",\n",
    "    label = \"Base case\",\n",
    ")\n",
    "plot!(S_l, log10.(K_T), label = \"Temperature Dependent Viscosity\")\n",
    "plot!(S_l_accounting_for_ice, log10.(K_ice), label = \"Ice Impedance\")\n",
    "savefig(\"./T_ice_K.png\")"
   ],
   "metadata": {},
   "execution_count": 8
  },
  {
   "cell_type": "markdown",
   "source": [
    "![](T_ice_K.png)\n",
    "A word about ice - if the user is not considering phase transitions\n",
    "and does not add in Freeze/Thaw source terms, the default is for zero\n",
    "ice in the model, for all time and space. The ice impedance factor is\n",
    "one if the volumetric ice fraction is zero, so even if one chose\n",
    "`IceImpedance{FT}` as the `impedance_factor`, without freezing and thawing,\n",
    "this factor would still be unity."
   ],
   "metadata": {}
  },
  {
   "cell_type": "markdown",
   "source": [
    "We can also look and see how the Brooks and Corey moisture factor differs from the\n",
    "van Genuchten moisture factor by changing the `hydraulics` model passed:"
   ],
   "metadata": {}
  },
  {
   "outputs": [],
   "cell_type": "code",
   "source": [
    "T = FT(0.0)\n",
    "θ_ice = FT(0.0)\n",
    "\n",
    "K_bc =\n",
    "    Ksat .*\n",
    "    hydraulic_conductivity.(\n",
    "        Ref(impedance_choice),\n",
    "        Ref(viscosity_choice),\n",
    "        Ref(moisture_choice),\n",
    "        Ref(hydraulics_bc),\n",
    "        Ref(θ_ice),\n",
    "        Ref(ν),\n",
    "        Ref(T),\n",
    "        S_l,\n",
    "    )\n",
    "plot(\n",
    "    S_l,\n",
    "    log10.(K),\n",
    "    xlabel = \"effective saturation\",\n",
    "    ylabel = \"Log10(K)\",\n",
    "    label = \"van Genuchten\",\n",
    ")\n",
    "plot!(\n",
    "    S_l,\n",
    "    log10.(K_bc),\n",
    "    xlabel = \"effective saturation\",\n",
    "    ylabel = \"Log10(K)\",\n",
    "    label = \"Brooks and Corey\",\n",
    ")\n",
    "savefig(\"./bc_vg_k.png\")"
   ],
   "metadata": {},
   "execution_count": 9
  },
  {
   "cell_type": "markdown",
   "source": [
    "![](bc_vg_k.png)\n",
    "# Other features\n",
    "The user also has the choice of making the conductivity constant by choosing\n",
    "`MoistureIndependent{FT}()`. This is useful for debugging!"
   ],
   "metadata": {}
  },
  {
   "outputs": [
    {
     "output_type": "execute_result",
     "data": {
      "text/plain": "99-element Array{Float32,1}:\n 1.2277777f-5\n 1.2277777f-5\n 1.2277777f-5\n 1.2277777f-5\n 1.2277777f-5\n 1.2277777f-5\n 1.2277777f-5\n 1.2277777f-5\n 1.2277777f-5\n 1.2277777f-5\n ⋮\n 1.2277777f-5\n 1.2277777f-5\n 1.2277777f-5\n 1.2277777f-5\n 1.2277777f-5\n 1.2277777f-5\n 1.2277777f-5\n 1.2277777f-5\n 1.2277777f-5"
     },
     "metadata": {},
     "execution_count": 10
    }
   ],
   "cell_type": "code",
   "source": [
    "no_moisture_dependence = MoistureIndependent{FT}()\n",
    "K_constant =\n",
    "    Ksat .*\n",
    "    hydraulic_conductivity.(\n",
    "        Ref(impedance_choice),\n",
    "        Ref(viscosity_choice),\n",
    "        Ref(no_moisture_dependence),\n",
    "        Ref(hydraulics),\n",
    "        Ref(θ_ice),\n",
    "        Ref(ν),\n",
    "        Ref(T),\n",
    "        S_l,\n",
    "    )"
   ],
   "metadata": {},
   "execution_count": 10
  },
  {
   "cell_type": "markdown",
   "source": [
    "```\n",
    "    julia> unique(K_constant)\n",
    "    1-element Array{Float32,1}:\n",
    "     1.2277777f-5\n",
    "```\n",
    "Note that choosing this option does not meant the matric potential\n",
    "is constant, as a hydraulics model is still required and employed."
   ],
   "metadata": {}
  },
  {
   "cell_type": "markdown",
   "source": [
    "And, lastly, you might be wondering why we left `Ksat` out of the function\n",
    "for `hydraulic_conductivity`. It turns out it is also useful for debugging\n",
    "to be able to turn off the diffusion of water, by setting `K_sat = 0`."
   ],
   "metadata": {}
  },
  {
   "cell_type": "markdown",
   "source": [
    "---\n",
    "\n",
    "*This notebook was generated using [Literate.jl](https://github.com/fredrikekre/Literate.jl).*"
   ],
   "metadata": {}
  }
 ],
 "nbformat_minor": 3,
 "metadata": {
  "language_info": {
   "file_extension": ".jl",
   "mimetype": "application/julia",
   "name": "julia",
   "version": "1.4.2"
  },
  "kernelspec": {
   "name": "julia-1.4",
   "display_name": "Julia 1.4.2",
   "language": "julia"
  }
 },
 "nbformat": 4
}
