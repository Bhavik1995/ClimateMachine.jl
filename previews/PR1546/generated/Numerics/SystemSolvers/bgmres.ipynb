{
 "cells": [
  {
   "cell_type": "markdown",
   "source": [
    "# Batched Generalized Minimal Residual\n",
    "In this tutorial we describe the basics of using the batched gmres iterative solver.\n",
    "At the end you should be able to\n",
    "1. Use BatchedGeneralizedMinimalResidual to solve batches of linear systems\n",
    "2. Construct a columnwise linear solver with BatchedGeneralizedMinimalResidual"
   ],
   "metadata": {}
  },
  {
   "cell_type": "markdown",
   "source": [
    "## What is the Generalized Minimal Residual Method?\n",
    "The  Generalized Minimal Residual Method (GMRES) is a [Krylov subspace](https://en.wikipedia.org/wiki/Krylov_subspace) method for solving linear systems:\n",
    "$$\n",
    " Ax = b\n",
    "$$\n",
    "See the [wikipedia](https://en.wikipedia.org/wiki/Generalized_minimal_residual_method) for more details."
   ],
   "metadata": {}
  },
  {
   "cell_type": "markdown",
   "source": [
    "## What is the Batched Generalized Minimal Residual Method?\n",
    "As the name suggests it solves a whole bunch of independent GMRES problems"
   ],
   "metadata": {}
  },
  {
   "cell_type": "markdown",
   "source": [
    "## Basic Example\n",
    "First we must load a few things"
   ],
   "metadata": {}
  },
  {
   "outputs": [],
   "cell_type": "code",
   "source": [
    "using ClimateMachine\n",
    "using ClimateMachine.SystemSolvers\n",
    "using LinearAlgebra, Random, Plots"
   ],
   "metadata": {},
   "execution_count": 1
  },
  {
   "cell_type": "markdown",
   "source": [
    "Next we define two linear systems that we would like to solve simultaneously.\n",
    "The matrix for the first linear system is"
   ],
   "metadata": {}
  },
  {
   "outputs": [],
   "cell_type": "code",
   "source": [
    "A1 = [\n",
    "    2.0 -1.0 0.0\n",
    "    -1.0 2.0 -1.0\n",
    "    0.0 -1.0 2.0\n",
    "];"
   ],
   "metadata": {},
   "execution_count": 2
  },
  {
   "cell_type": "markdown",
   "source": [
    "And the right hand side is"
   ],
   "metadata": {}
  },
  {
   "outputs": [],
   "cell_type": "code",
   "source": [
    "b1 = ones(typeof(1.0), 3);"
   ],
   "metadata": {},
   "execution_count": 3
  },
  {
   "cell_type": "markdown",
   "source": [
    "The exact solution to the first linear system is"
   ],
   "metadata": {}
  },
  {
   "outputs": [],
   "cell_type": "code",
   "source": [
    "x1_exact = [1.5, 2.0, 1.5];"
   ],
   "metadata": {},
   "execution_count": 4
  },
  {
   "cell_type": "markdown",
   "source": [
    "The matrix for the first linear system is"
   ],
   "metadata": {}
  },
  {
   "outputs": [],
   "cell_type": "code",
   "source": [
    "A2 = [\n",
    "    2.0 -1.0 0.0\n",
    "    0.0 2.0 -1.0\n",
    "    0.0 0.0 2.0\n",
    "];"
   ],
   "metadata": {},
   "execution_count": 5
  },
  {
   "cell_type": "markdown",
   "source": [
    "And the right hand side is"
   ],
   "metadata": {}
  },
  {
   "outputs": [],
   "cell_type": "code",
   "source": [
    "b2 = ones(typeof(1.0), 3);"
   ],
   "metadata": {},
   "execution_count": 6
  },
  {
   "cell_type": "markdown",
   "source": [
    "The exact solution to second linear system is"
   ],
   "metadata": {}
  },
  {
   "outputs": [],
   "cell_type": "code",
   "source": [
    "x2_exact = [0.875, 0.75, 0.5];"
   ],
   "metadata": {},
   "execution_count": 7
  },
  {
   "cell_type": "markdown",
   "source": [
    "We now define a function that performs the action of each linear operator independently."
   ],
   "metadata": {}
  },
  {
   "outputs": [],
   "cell_type": "code",
   "source": [
    "function closure_linear_operator(A1, A2)\n",
    "    function linear_operator!(x, y)\n",
    "        mul!(view(x, :, 1), A1, view(y, :, 1))\n",
    "        mul!(view(x, :, 2), A2, view(y, :, 2))\n",
    "        return nothing\n",
    "    end\n",
    "    return linear_operator!\n",
    "end;"
   ],
   "metadata": {},
   "execution_count": 8
  },
  {
   "cell_type": "markdown",
   "source": [
    "To understand how this works let us construct an instance\n",
    "of the linear operator and apply it to a vector"
   ],
   "metadata": {}
  },
  {
   "outputs": [],
   "cell_type": "code",
   "source": [
    "linear_operator! = closure_linear_operator(A1, A2);"
   ],
   "metadata": {},
   "execution_count": 9
  },
  {
   "cell_type": "markdown",
   "source": [
    "Let us see what the action of this linear operator is"
   ],
   "metadata": {}
  },
  {
   "outputs": [
    {
     "output_type": "execute_result",
     "data": {
      "text/plain": "3×2 Array{Float64,2}:\n 1.0  2.0\n 0.0  2.0\n 1.0  4.0"
     },
     "metadata": {},
     "execution_count": 10
    }
   ],
   "cell_type": "code",
   "source": [
    "y1 = ones(typeof(1.0), 3);\n",
    "y2 = ones(typeof(1.0), 3) * 2.0;\n",
    "y = [y1 y2];\n",
    "x = copy(y);\n",
    "linear_operator!(x, y);\n",
    "x"
   ],
   "metadata": {},
   "execution_count": 10
  },
  {
   "cell_type": "markdown",
   "source": [
    "We see that the first column is `A1 * [1 1 1]'`\n",
    "and the second column is `A2 * [2 2 2]'`\n",
    "that is,"
   ],
   "metadata": {}
  },
  {
   "outputs": [
    {
     "output_type": "execute_result",
     "data": {
      "text/plain": "3×2 Array{Float64,2}:\n 1.0  2.0\n 0.0  2.0\n 1.0  4.0"
     },
     "metadata": {},
     "execution_count": 11
    }
   ],
   "cell_type": "code",
   "source": [
    "[A1 * y1 A2 * y2]"
   ],
   "metadata": {},
   "execution_count": 11
  },
  {
   "cell_type": "markdown",
   "source": [
    "We are now ready to set up our Batched Generalized Minimal Residual solver\n",
    "We must now set up the right hand side of the linear system"
   ],
   "metadata": {}
  },
  {
   "outputs": [],
   "cell_type": "code",
   "source": [
    "b = [b1 b2];"
   ],
   "metadata": {},
   "execution_count": 12
  },
  {
   "cell_type": "markdown",
   "source": [
    "as well as the exact solution, (to verify convergence)"
   ],
   "metadata": {}
  },
  {
   "outputs": [],
   "cell_type": "code",
   "source": [
    "x_exact = [x1_exact x2_exact];"
   ],
   "metadata": {},
   "execution_count": 13
  },
  {
   "cell_type": "markdown",
   "source": [
    "!!! warning\n",
    "    For BatchedGeneralizedMinimalResidual the assumption is that each column of b is independent and corresponds to a batch. This will come back later."
   ],
   "metadata": {}
  },
  {
   "cell_type": "markdown",
   "source": [
    "We now use an instance of the solver"
   ],
   "metadata": {}
  },
  {
   "outputs": [],
   "cell_type": "code",
   "source": [
    "linearsolver = BatchedGeneralizedMinimalResidual(b, size(A1, 1), 2);"
   ],
   "metadata": {},
   "execution_count": 14
  },
  {
   "cell_type": "markdown",
   "source": [
    "As well as an initial guess, denoted by the variable x"
   ],
   "metadata": {}
  },
  {
   "outputs": [],
   "cell_type": "code",
   "source": [
    "x1 = ones(typeof(1.0), 3);\n",
    "x2 = ones(typeof(1.0), 3);\n",
    "x = [x1 x2];"
   ],
   "metadata": {},
   "execution_count": 15
  },
  {
   "cell_type": "markdown",
   "source": [
    "To solve the linear system, we just need to pass to the linearsolve! function"
   ],
   "metadata": {}
  },
  {
   "outputs": [
    {
     "output_type": "execute_result",
     "data": {
      "text/plain": "3"
     },
     "metadata": {},
     "execution_count": 16
    }
   ],
   "cell_type": "code",
   "source": [
    "iters = linearsolve!(linear_operator!, nothing, linearsolver, x, b)"
   ],
   "metadata": {},
   "execution_count": 16
  },
  {
   "cell_type": "markdown",
   "source": [
    "which is guaranteed to converge in 3 iterations since `length(b1)=length(b2)=3`\n",
    "We can now check that the solution that we computed, x"
   ],
   "metadata": {}
  },
  {
   "outputs": [
    {
     "output_type": "execute_result",
     "data": {
      "text/plain": "3×2 Array{Float64,2}:\n 1.5  0.875\n 2.0  0.75\n 1.5  0.5"
     },
     "metadata": {},
     "execution_count": 17
    }
   ],
   "cell_type": "code",
   "source": [
    "x"
   ],
   "metadata": {},
   "execution_count": 17
  },
  {
   "cell_type": "markdown",
   "source": [
    "has converged to the exact solution"
   ],
   "metadata": {}
  },
  {
   "outputs": [
    {
     "output_type": "execute_result",
     "data": {
      "text/plain": "3×2 Array{Float64,2}:\n 1.5  0.875\n 2.0  0.75\n 1.5  0.5"
     },
     "metadata": {},
     "execution_count": 18
    }
   ],
   "cell_type": "code",
   "source": [
    "x_exact"
   ],
   "metadata": {},
   "execution_count": 18
  },
  {
   "cell_type": "markdown",
   "source": [
    "Which indeed it has.\n",
    "## Advanced Example"
   ],
   "metadata": {}
  },
  {
   "cell_type": "markdown",
   "source": [
    "We now go through a more advanced application of the Batched Generalized Minimal Residual solver\n",
    "!!! warning\n",
    "    Iterative methods should be used with preconditioners!\n",
    "The first thing we do is define a linear operator that mimics\n",
    "the behavior of a columnwise operator in ClimateMachine"
   ],
   "metadata": {}
  },
  {
   "outputs": [],
   "cell_type": "code",
   "source": [
    "function closure_linear_operator!(A, tup)\n",
    "    function linear_operator!(y, x)\n",
    "        alias_x = reshape(x, tup)\n",
    "        alias_y = reshape(y, tup)\n",
    "        for i6 in 1:tup[6]\n",
    "            for i4 in 1:tup[4]\n",
    "                for i2 in 1:tup[2]\n",
    "                    for i1 in 1:tup[1]\n",
    "                        tmp = alias_x[i1, i2, :, i4, :, i6][:]\n",
    "                        tmp2 = A[i1, i2, i4, i6] * tmp\n",
    "                        alias_y[i1, i2, :, i4, :, i6] .=\n",
    "                            reshape(tmp2, (tup[3], tup[5]))\n",
    "                    end\n",
    "                end\n",
    "            end\n",
    "        end\n",
    "    end\n",
    "end;"
   ],
   "metadata": {},
   "execution_count": 19
  },
  {
   "cell_type": "markdown",
   "source": [
    "Next we define the array structure of an MPIStateArray\n",
    "in its true high dimensional form"
   ],
   "metadata": {}
  },
  {
   "outputs": [],
   "cell_type": "code",
   "source": [
    "tup = (2, 2, 5, 2, 10, 2);"
   ],
   "metadata": {},
   "execution_count": 20
  },
  {
   "cell_type": "markdown",
   "source": [
    "We define our linear operator as a random matrix"
   ],
   "metadata": {}
  },
  {
   "outputs": [],
   "cell_type": "code",
   "source": [
    "Random.seed!(1234);\n",
    "B = [\n",
    "    randn(tup[3] * tup[5], tup[3] * tup[5])\n",
    "    for i1 in 1:tup[1], i2 in 1:tup[2], i4 in 1:tup[4], i6 in 1:tup[6]\n",
    "];\n",
    "columnwise_A = [\n",
    "    B[i1, i2, i4, i6] + 3 * (i1 + i2 + i4 + i6) * I\n",
    "    for i1 in 1:tup[1], i2 in 1:tup[2], i4 in 1:tup[4], i6 in 1:tup[6]\n",
    "];"
   ],
   "metadata": {},
   "execution_count": 21
  },
  {
   "cell_type": "markdown",
   "source": [
    "as well as its inverse"
   ],
   "metadata": {}
  },
  {
   "outputs": [],
   "cell_type": "code",
   "source": [
    "columnwise_inv_A = [\n",
    "    inv(columnwise_A[i1, i2, i4, i6])\n",
    "    for i1 in 1:tup[1], i2 in 1:tup[2], i4 in 1:tup[4], i6 in 1:tup[6]\n",
    "];\n",
    "columnwise_linear_operator! = closure_linear_operator!(columnwise_A, tup);\n",
    "columnwise_inverse_linear_operator! =\n",
    "    closure_linear_operator!(columnwise_inv_A, tup);"
   ],
   "metadata": {},
   "execution_count": 22
  },
  {
   "cell_type": "markdown",
   "source": [
    "The structure of an MPIStateArray is related to its true\n",
    "higher dimensional form as follows:"
   ],
   "metadata": {}
  },
  {
   "outputs": [],
   "cell_type": "code",
   "source": [
    "mpi_tup = (tup[1] * tup[2] * tup[3], tup[4], tup[5] * tup[6]);"
   ],
   "metadata": {},
   "execution_count": 23
  },
  {
   "cell_type": "markdown",
   "source": [
    "We now define the right hand side of our Linear system"
   ],
   "metadata": {}
  },
  {
   "outputs": [],
   "cell_type": "code",
   "source": [
    "b = randn(mpi_tup);"
   ],
   "metadata": {},
   "execution_count": 24
  },
  {
   "cell_type": "markdown",
   "source": [
    "As well as the initial guess"
   ],
   "metadata": {}
  },
  {
   "outputs": [],
   "cell_type": "code",
   "source": [
    "x = copy(b);\n",
    "x += randn(mpi_tup) * 0.1;"
   ],
   "metadata": {},
   "execution_count": 25
  },
  {
   "cell_type": "markdown",
   "source": [
    "In the previous tutorial we mentioned that it is assumed that\n",
    "the right hand side is an array whose column vectors all independent linear\n",
    "systems. But right now the array structure of ``x`` and ``b`` do not follow\n",
    "this requirement.\n",
    "To handle this case we must pass in additional arguments that tell the\n",
    "linear solver how to reconcile these differences.\n",
    "The first thing that the linear solver must know of is the higher tensor\n",
    "form of the MPIStateArray, which is just the `tup` from before"
   ],
   "metadata": {}
  },
  {
   "outputs": [],
   "cell_type": "code",
   "source": [
    "reshape_tuple_f = tup;"
   ],
   "metadata": {},
   "execution_count": 26
  },
  {
   "cell_type": "markdown",
   "source": [
    "The second thing it needs to know is which indices correspond to a column\n",
    "and we want to make sure that these are the first set of indices that appear\n",
    "in the permutation tuple (which can be thought of as enacting\n",
    "a Tensor Transpose)."
   ],
   "metadata": {}
  },
  {
   "outputs": [],
   "cell_type": "code",
   "source": [
    "permute_tuple_f = (5, 3, 4, 6, 1, 2);"
   ],
   "metadata": {},
   "execution_count": 27
  },
  {
   "cell_type": "markdown",
   "source": [
    "It has this format since the 3 and 5 index slots\n",
    "are the ones associated with traversing a column. And the 4 index\n",
    "slot corresponds to a state.\n",
    "We also need to tell our solver which kind of Array struct to use"
   ],
   "metadata": {}
  },
  {
   "outputs": [],
   "cell_type": "code",
   "source": [
    "ArrayType = Array;"
   ],
   "metadata": {},
   "execution_count": 28
  },
  {
   "cell_type": "markdown",
   "source": [
    "We are now ready to finally define our linear solver, which uses a number\n",
    "of keyword arguments"
   ],
   "metadata": {}
  },
  {
   "outputs": [],
   "cell_type": "code",
   "source": [
    "gmres = BatchedGeneralizedMinimalResidual(\n",
    "    b,\n",
    "    tup[3] * tup[5] * tup[4],\n",
    "    tup[1] * tup[2] * tup[6];\n",
    "    atol = eps(Float64) * 100,\n",
    "    rtol = eps(Float64) * 100,\n",
    "    forward_reshape = reshape_tuple_f,\n",
    "    forward_permute = permute_tuple_f,\n",
    ");"
   ],
   "metadata": {},
   "execution_count": 29
  },
  {
   "cell_type": "markdown",
   "source": [
    "`m` is the number of gridpoints along a column. As mentioned previously,\n",
    "this is `tup[3]*tup[5]*tup[4]`. The `n` term corresponds to the batch size\n",
    "or the number of columns in this case. `atol` and `rtol` are relative and\n",
    "absolute tolerances"
   ],
   "metadata": {}
  },
  {
   "cell_type": "markdown",
   "source": [
    "All the hard work is done, now we just call our linear solver"
   ],
   "metadata": {}
  },
  {
   "outputs": [
    {
     "output_type": "execute_result",
     "data": {
      "text/plain": "52"
     },
     "metadata": {},
     "execution_count": 30
    }
   ],
   "cell_type": "code",
   "source": [
    "iters = linearsolve!(\n",
    "    columnwise_linear_operator!,\n",
    "    nothing,\n",
    "    gmres,\n",
    "    x,\n",
    "    b,\n",
    "    max_iters = tup[3] * tup[5] * tup[4],\n",
    ")"
   ],
   "metadata": {},
   "execution_count": 30
  },
  {
   "cell_type": "markdown",
   "source": [
    "We see that it converged in less than `tup[3]*tup[5] = 50` iterations.\n",
    "Let us verify that it is indeed correct by computing the exact answer\n",
    "numerically and comparing it against the iterative solver."
   ],
   "metadata": {}
  },
  {
   "outputs": [],
   "cell_type": "code",
   "source": [
    "x_exact = copy(x);\n",
    "columnwise_inverse_linear_operator!(x_exact, b);"
   ],
   "metadata": {},
   "execution_count": 31
  },
  {
   "cell_type": "markdown",
   "source": [
    "Now we can compare with some norms"
   ],
   "metadata": {}
  },
  {
   "outputs": [
    {
     "output_type": "execute_result",
     "data": {
      "text/plain": "1.2827436028653376e-13"
     },
     "metadata": {},
     "execution_count": 32
    }
   ],
   "cell_type": "code",
   "source": [
    "norm(x - x_exact) / norm(x_exact)\n",
    "columnwise_linear_operator!(x_exact, x);\n",
    "norm(x_exact - b) / norm(b)"
   ],
   "metadata": {},
   "execution_count": 32
  },
  {
   "cell_type": "markdown",
   "source": [
    "Which we see are small, given our choice of `atol` and `rtol`.\n",
    "The struct also keeps a record of its convergence rate\n",
    "in the residual member (max over all batched solvers).\n",
    "The can be visualized via"
   ],
   "metadata": {}
  },
  {
   "outputs": [
    {
     "output_type": "execute_result",
     "data": {
      "text/plain": "Plot{Plots.GRBackend() n=1}",
      "image/png": "[encoded data removed]",
      "text/html": [
       "<?xml version=\"1.0\" encoding=\"utf-8\"?>\n",
       "<svg xmlns=\"http://www.w3.org/2000/svg\" xmlns:xlink=\"http://www.w3.org/1999/xlink\" width=\"600\" height=\"400\" viewBox=\"0 0 2400 1600\">\n",
       "<defs>\n",
       "  <clipPath id=\"clip790\">\n",
       "    <rect x=\"0\" y=\"0\" width=\"2400\" height=\"1600\"/>\n",
       "  </clipPath>\n",
       "</defs>\n",
       "<path clip-path=\"url(#clip790)\" d=\"\n",
       "M0 1600 L2400 1600 L2400 0 L0 0  Z\n",
       "  \" fill=\"#ffffff\" fill-rule=\"evenodd\" fill-opacity=\"1\"/>\n",
       "<defs>\n",
       "  <clipPath id=\"clip791\">\n",
       "    <rect x=\"480\" y=\"0\" width=\"1681\" height=\"1600\"/>\n",
       "  </clipPath>\n",
       "</defs>\n",
       "<path clip-path=\"url(#clip790)\" d=\"\n",
       "M232.737 1423.18 L2352.76 1423.18 L2352.76 47.2441 L232.737 47.2441  Z\n",
       "  \" fill=\"#ffffff\" fill-rule=\"evenodd\" fill-opacity=\"1\"/>\n",
       "<defs>\n",
       "  <clipPath id=\"clip792\">\n",
       "    <rect x=\"232\" y=\"47\" width=\"2121\" height=\"1377\"/>\n",
       "  </clipPath>\n",
       "</defs>\n",
       "<polyline clip-path=\"url(#clip792)\" style=\"stroke:#000000; stroke-width:2; stroke-opacity:0.1; fill:none\" points=\"\n",
       "  606.858,1423.18 606.858,47.2441 \n",
       "  \"/>\n",
       "<polyline clip-path=\"url(#clip792)\" style=\"stroke:#000000; stroke-width:2; stroke-opacity:0.1; fill:none\" points=\"\n",
       "  1022.55,1423.18 1022.55,47.2441 \n",
       "  \"/>\n",
       "<polyline clip-path=\"url(#clip792)\" style=\"stroke:#000000; stroke-width:2; stroke-opacity:0.1; fill:none\" points=\"\n",
       "  1438.24,1423.18 1438.24,47.2441 \n",
       "  \"/>\n",
       "<polyline clip-path=\"url(#clip792)\" style=\"stroke:#000000; stroke-width:2; stroke-opacity:0.1; fill:none\" points=\"\n",
       "  1853.93,1423.18 1853.93,47.2441 \n",
       "  \"/>\n",
       "<polyline clip-path=\"url(#clip792)\" style=\"stroke:#000000; stroke-width:2; stroke-opacity:0.1; fill:none\" points=\"\n",
       "  2269.62,1423.18 2269.62,47.2441 \n",
       "  \"/>\n",
       "<polyline clip-path=\"url(#clip792)\" style=\"stroke:#000000; stroke-width:2; stroke-opacity:0.1; fill:none\" points=\"\n",
       "  232.737,1423.18 2352.76,1423.18 \n",
       "  \"/>\n",
       "<polyline clip-path=\"url(#clip792)\" style=\"stroke:#000000; stroke-width:2; stroke-opacity:0.1; fill:none\" points=\"\n",
       "  232.737,1018.49 2352.76,1018.49 \n",
       "  \"/>\n",
       "<polyline clip-path=\"url(#clip792)\" style=\"stroke:#000000; stroke-width:2; stroke-opacity:0.1; fill:none\" points=\"\n",
       "  232.737,613.806 2352.76,613.806 \n",
       "  \"/>\n",
       "<polyline clip-path=\"url(#clip792)\" style=\"stroke:#000000; stroke-width:2; stroke-opacity:0.1; fill:none\" points=\"\n",
       "  232.737,209.119 2352.76,209.119 \n",
       "  \"/>\n",
       "<polyline clip-path=\"url(#clip790)\" style=\"stroke:#000000; stroke-width:4; stroke-opacity:1; fill:none\" points=\"\n",
       "  232.737,1423.18 2352.76,1423.18 \n",
       "  \"/>\n",
       "<polyline clip-path=\"url(#clip790)\" style=\"stroke:#000000; stroke-width:4; stroke-opacity:1; fill:none\" points=\"\n",
       "  232.737,1423.18 232.737,47.2441 \n",
       "  \"/>\n",
       "<polyline clip-path=\"url(#clip790)\" style=\"stroke:#000000; stroke-width:4; stroke-opacity:1; fill:none\" points=\"\n",
       "  606.858,1423.18 606.858,1406.67 \n",
       "  \"/>\n",
       "<polyline clip-path=\"url(#clip790)\" style=\"stroke:#000000; stroke-width:4; stroke-opacity:1; fill:none\" points=\"\n",
       "  1022.55,1423.18 1022.55,1406.67 \n",
       "  \"/>\n",
       "<polyline clip-path=\"url(#clip790)\" style=\"stroke:#000000; stroke-width:4; stroke-opacity:1; fill:none\" points=\"\n",
       "  1438.24,1423.18 1438.24,1406.67 \n",
       "  \"/>\n",
       "<polyline clip-path=\"url(#clip790)\" style=\"stroke:#000000; stroke-width:4; stroke-opacity:1; fill:none\" points=\"\n",
       "  1853.93,1423.18 1853.93,1406.67 \n",
       "  \"/>\n",
       "<polyline clip-path=\"url(#clip790)\" style=\"stroke:#000000; stroke-width:4; stroke-opacity:1; fill:none\" points=\"\n",
       "  2269.62,1423.18 2269.62,1406.67 \n",
       "  \"/>\n",
       "<polyline clip-path=\"url(#clip790)\" style=\"stroke:#000000; stroke-width:4; stroke-opacity:1; fill:none\" points=\"\n",
       "  232.737,1423.18 258.177,1423.18 \n",
       "  \"/>\n",
       "<polyline clip-path=\"url(#clip790)\" style=\"stroke:#000000; stroke-width:4; stroke-opacity:1; fill:none\" points=\"\n",
       "  232.737,1018.49 258.177,1018.49 \n",
       "  \"/>\n",
       "<polyline clip-path=\"url(#clip790)\" style=\"stroke:#000000; stroke-width:4; stroke-opacity:1; fill:none\" points=\"\n",
       "  232.737,613.806 258.177,613.806 \n",
       "  \"/>\n",
       "<polyline clip-path=\"url(#clip790)\" style=\"stroke:#000000; stroke-width:4; stroke-opacity:1; fill:none\" points=\"\n",
       "  232.737,209.119 258.177,209.119 \n",
       "  \"/>\n",
       "<path clip-path=\"url(#clip790)\" d=\"M 0 0 M583.733 1472.72 L591.372 1472.72 L591.372 1446.35 L583.061 1448.02 L583.061 1443.76 L591.325 1442.09 L596.001 1442.09 L596.001 1472.72 L603.64 1472.72 L603.64 1476.65 L583.733 1476.65 L583.733 1472.72 Z\" fill=\"#000000\" fill-rule=\"evenodd\" fill-opacity=\"1\" /><path clip-path=\"url(#clip790)\" d=\"M 0 0 M618.709 1445.17 Q615.098 1445.17 613.27 1448.74 Q611.464 1452.28 611.464 1459.41 Q611.464 1466.51 613.27 1470.08 Q615.098 1473.62 618.709 1473.62 Q622.344 1473.62 624.149 1470.08 Q625.978 1466.51 625.978 1459.41 Q625.978 1452.28 624.149 1448.74 Q622.344 1445.17 618.709 1445.17 M618.709 1441.47 Q624.52 1441.47 627.575 1446.07 Q630.654 1450.66 630.654 1459.41 Q630.654 1468.13 627.575 1472.74 Q624.52 1477.32 618.709 1477.32 Q612.899 1477.32 609.821 1472.74 Q606.765 1468.13 606.765 1459.41 Q606.765 1450.66 609.821 1446.07 Q612.899 1441.47 618.709 1441.47 Z\" fill=\"#000000\" fill-rule=\"evenodd\" fill-opacity=\"1\" /><path clip-path=\"url(#clip790)\" d=\"M 0 0 M1003.69 1472.72 L1020.01 1472.72 L1020.01 1476.65 L998.069 1476.65 L998.069 1472.72 Q1000.73 1469.96 1005.31 1465.33 Q1009.92 1460.68 1011.1 1459.34 Q1013.35 1456.81 1014.23 1455.08 Q1015.13 1453.32 1015.13 1451.63 Q1015.13 1448.87 1013.18 1447.14 Q1011.26 1445.4 1008.16 1445.4 Q1005.96 1445.4 1003.51 1446.17 Q1001.08 1446.93 998.3 1448.48 L998.3 1443.76 Q1001.12 1442.62 1003.58 1442.05 Q1006.03 1441.47 1008.07 1441.47 Q1013.44 1441.47 1016.63 1444.15 Q1019.83 1446.84 1019.83 1451.33 Q1019.83 1453.46 1019.02 1455.38 Q1018.23 1457.28 1016.12 1459.87 Q1015.55 1460.54 1012.44 1463.76 Q1009.34 1466.95 1003.69 1472.72 Z\" fill=\"#000000\" fill-rule=\"evenodd\" fill-opacity=\"1\" /><path clip-path=\"url(#clip790)\" d=\"M 0 0 M1035.08 1445.17 Q1031.47 1445.17 1029.64 1448.74 Q1027.84 1452.28 1027.84 1459.41 Q1027.84 1466.51 1029.64 1470.08 Q1031.47 1473.62 1035.08 1473.62 Q1038.72 1473.62 1040.52 1470.08 Q1042.35 1466.51 1042.35 1459.41 Q1042.35 1452.28 1040.52 1448.74 Q1038.72 1445.17 1035.08 1445.17 M1035.08 1441.47 Q1040.89 1441.47 1043.95 1446.07 Q1047.03 1450.66 1047.03 1459.41 Q1047.03 1468.13 1043.95 1472.74 Q1040.89 1477.32 1035.08 1477.32 Q1029.27 1477.32 1026.19 1472.74 Q1023.14 1468.13 1023.14 1459.41 Q1023.14 1450.66 1026.19 1446.07 Q1029.27 1441.47 1035.08 1441.47 Z\" fill=\"#000000\" fill-rule=\"evenodd\" fill-opacity=\"1\" /><path clip-path=\"url(#clip790)\" d=\"M 0 0 M1428.98 1458.02 Q1432.34 1458.74 1434.21 1461 Q1436.11 1463.27 1436.11 1466.61 Q1436.11 1471.72 1432.59 1474.52 Q1429.07 1477.32 1422.59 1477.32 Q1420.41 1477.32 1418.1 1476.88 Q1415.81 1476.47 1413.35 1475.61 L1413.35 1471.1 Q1415.3 1472.23 1417.61 1472.81 Q1419.93 1473.39 1422.45 1473.39 Q1426.85 1473.39 1429.14 1471.65 Q1431.46 1469.92 1431.46 1466.61 Q1431.46 1463.55 1429.3 1461.84 Q1427.17 1460.1 1423.35 1460.1 L1419.33 1460.1 L1419.33 1456.26 L1423.54 1456.26 Q1426.99 1456.26 1428.82 1454.89 Q1430.65 1453.5 1430.65 1450.91 Q1430.65 1448.25 1428.75 1446.84 Q1426.87 1445.4 1423.35 1445.4 Q1421.43 1445.4 1419.23 1445.82 Q1417.03 1446.24 1414.4 1447.11 L1414.4 1442.95 Q1417.06 1442.21 1419.37 1441.84 Q1421.71 1441.47 1423.77 1441.47 Q1429.09 1441.47 1432.2 1443.9 Q1435.3 1446.3 1435.3 1450.43 Q1435.3 1453.3 1433.65 1455.29 Q1432.01 1457.25 1428.98 1458.02 Z\" fill=\"#000000\" fill-rule=\"evenodd\" fill-opacity=\"1\" /><path clip-path=\"url(#clip790)\" d=\"M 0 0 M1451.18 1445.17 Q1447.57 1445.17 1445.74 1448.74 Q1443.93 1452.28 1443.93 1459.41 Q1443.93 1466.51 1445.74 1470.08 Q1447.57 1473.62 1451.18 1473.62 Q1454.81 1473.62 1456.62 1470.08 Q1458.45 1466.51 1458.45 1459.41 Q1458.45 1452.28 1456.62 1448.74 Q1454.81 1445.17 1451.18 1445.17 M1451.18 1441.47 Q1456.99 1441.47 1460.04 1446.07 Q1463.12 1450.66 1463.12 1459.41 Q1463.12 1468.13 1460.04 1472.74 Q1456.99 1477.32 1451.18 1477.32 Q1445.37 1477.32 1442.29 1472.74 Q1439.23 1468.13 1439.23 1459.41 Q1439.23 1450.66 1442.29 1446.07 Q1445.37 1441.47 1451.18 1441.47 Z\" fill=\"#000000\" fill-rule=\"evenodd\" fill-opacity=\"1\" /><path clip-path=\"url(#clip790)\" d=\"M 0 0 M1843.43 1446.17 L1831.62 1464.61 L1843.43 1464.61 L1843.43 1446.17 M1842.2 1442.09 L1848.08 1442.09 L1848.08 1464.61 L1853.01 1464.61 L1853.01 1468.5 L1848.08 1468.5 L1848.08 1476.65 L1843.43 1476.65 L1843.43 1468.5 L1827.83 1468.5 L1827.83 1463.99 L1842.2 1442.09 Z\" fill=\"#000000\" fill-rule=\"evenodd\" fill-opacity=\"1\" /><path clip-path=\"url(#clip790)\" d=\"M 0 0 M1868.08 1445.17 Q1864.47 1445.17 1862.64 1448.74 Q1860.84 1452.28 1860.84 1459.41 Q1860.84 1466.51 1862.64 1470.08 Q1864.47 1473.62 1868.08 1473.62 Q1871.72 1473.62 1873.52 1470.08 Q1875.35 1466.51 1875.35 1459.41 Q1875.35 1452.28 1873.52 1448.74 Q1871.72 1445.17 1868.08 1445.17 M1868.08 1441.47 Q1873.89 1441.47 1876.95 1446.07 Q1880.03 1450.66 1880.03 1459.41 Q1880.03 1468.13 1876.95 1472.74 Q1873.89 1477.32 1868.08 1477.32 Q1862.27 1477.32 1859.19 1472.74 Q1856.14 1468.13 1856.14 1459.41 Q1856.14 1450.66 1859.19 1446.07 Q1862.27 1441.47 1868.08 1441.47 Z\" fill=\"#000000\" fill-rule=\"evenodd\" fill-opacity=\"1\" /><path clip-path=\"url(#clip790)\" d=\"M 0 0 M2246.39 1442.09 L2264.75 1442.09 L2264.75 1446.03 L2250.67 1446.03 L2250.67 1454.5 Q2251.69 1454.15 2252.71 1453.99 Q2253.73 1453.8 2254.75 1453.8 Q2260.53 1453.8 2263.91 1456.98 Q2267.29 1460.15 2267.29 1465.56 Q2267.29 1471.14 2263.82 1474.24 Q2260.35 1477.32 2254.03 1477.32 Q2251.85 1477.32 2249.58 1476.95 Q2247.34 1476.58 2244.93 1475.84 L2244.93 1471.14 Q2247.01 1472.28 2249.24 1472.83 Q2251.46 1473.39 2253.94 1473.39 Q2257.94 1473.39 2260.28 1471.28 Q2262.62 1469.18 2262.62 1465.56 Q2262.62 1461.95 2260.28 1459.85 Q2257.94 1457.74 2253.94 1457.74 Q2252.06 1457.74 2250.19 1458.16 Q2248.33 1458.57 2246.39 1459.45 L2246.39 1442.09 Z\" fill=\"#000000\" fill-rule=\"evenodd\" fill-opacity=\"1\" /><path clip-path=\"url(#clip790)\" d=\"M 0 0 M2282.36 1445.17 Q2278.75 1445.17 2276.92 1448.74 Q2275.12 1452.28 2275.12 1459.41 Q2275.12 1466.51 2276.92 1470.08 Q2278.75 1473.62 2282.36 1473.62 Q2286 1473.62 2287.8 1470.08 Q2289.63 1466.51 2289.63 1459.41 Q2289.63 1452.28 2287.8 1448.74 Q2286 1445.17 2282.36 1445.17 M2282.36 1441.47 Q2288.17 1441.47 2291.23 1446.07 Q2294.31 1450.66 2294.31 1459.41 Q2294.31 1468.13 2291.23 1472.74 Q2288.17 1477.32 2282.36 1477.32 Q2276.55 1477.32 2273.47 1472.74 Q2270.42 1468.13 2270.42 1459.41 Q2270.42 1450.66 2273.47 1446.07 Q2276.55 1441.47 2282.36 1441.47 Z\" fill=\"#000000\" fill-rule=\"evenodd\" fill-opacity=\"1\" /><path clip-path=\"url(#clip790)\" d=\"M 0 0 M127.256 1423.63 L156.931 1423.63 L156.931 1427.57 L127.256 1427.57 L127.256 1423.63 Z\" fill=\"#000000\" fill-rule=\"evenodd\" fill-opacity=\"1\" /><path clip-path=\"url(#clip790)\" d=\"M 0 0 M162.811 1436.52 L170.45 1436.52 L170.45 1410.16 L162.14 1411.83 L162.14 1407.57 L170.403 1405.9 L175.079 1405.9 L175.079 1436.52 L182.718 1436.52 L182.718 1440.46 L162.811 1440.46 L162.811 1436.52 Z\" fill=\"#000000\" fill-rule=\"evenodd\" fill-opacity=\"1\" /><path clip-path=\"url(#clip790)\" d=\"M 0 0 M187.834 1405.9 L206.19 1405.9 L206.19 1409.84 L192.116 1409.84 L192.116 1418.31 Q193.135 1417.96 194.153 1417.8 Q195.172 1417.61 196.19 1417.61 Q201.977 1417.61 205.357 1420.78 Q208.737 1423.96 208.737 1429.37 Q208.737 1434.95 205.264 1438.05 Q201.792 1441.13 195.473 1441.13 Q193.297 1441.13 191.028 1440.76 Q188.783 1440.39 186.376 1439.65 L186.376 1434.95 Q188.459 1436.08 190.681 1436.64 Q192.903 1437.2 195.38 1437.2 Q199.385 1437.2 201.723 1435.09 Q204.061 1432.98 204.061 1429.37 Q204.061 1425.76 201.723 1423.65 Q199.385 1421.55 195.38 1421.55 Q193.505 1421.55 191.63 1421.96 Q189.778 1422.38 187.834 1423.26 L187.834 1405.9 Z\" fill=\"#000000\" fill-rule=\"evenodd\" fill-opacity=\"1\" /><path clip-path=\"url(#clip790)\" d=\"M 0 0 M126.26 1018.94 L155.936 1018.94 L155.936 1022.88 L126.26 1022.88 L126.26 1018.94 Z\" fill=\"#000000\" fill-rule=\"evenodd\" fill-opacity=\"1\" /><path clip-path=\"url(#clip790)\" d=\"M 0 0 M161.816 1031.84 L169.454 1031.84 L169.454 1005.47 L161.144 1007.14 L161.144 1002.88 L169.408 1001.21 L174.084 1001.21 L174.084 1031.84 L181.723 1031.84 L181.723 1035.77 L161.816 1035.77 L161.816 1031.84 Z\" fill=\"#000000\" fill-rule=\"evenodd\" fill-opacity=\"1\" /><path clip-path=\"url(#clip790)\" d=\"M 0 0 M196.792 1004.29 Q193.181 1004.29 191.352 1007.86 Q189.547 1011.4 189.547 1018.53 Q189.547 1025.63 191.352 1029.2 Q193.181 1032.74 196.792 1032.74 Q200.426 1032.74 202.232 1029.2 Q204.061 1025.63 204.061 1018.53 Q204.061 1011.4 202.232 1007.86 Q200.426 1004.29 196.792 1004.29 M196.792 1000.59 Q202.602 1000.59 205.658 1005.19 Q208.737 1009.78 208.737 1018.53 Q208.737 1027.25 205.658 1031.86 Q202.602 1036.44 196.792 1036.44 Q190.982 1036.44 187.903 1031.86 Q184.848 1027.25 184.848 1018.53 Q184.848 1009.78 187.903 1005.19 Q190.982 1000.59 196.792 1000.59 Z\" fill=\"#000000\" fill-rule=\"evenodd\" fill-opacity=\"1\" /><path clip-path=\"url(#clip790)\" d=\"M 0 0 M153.042 614.257 L182.718 614.257 L182.718 618.192 L153.042 618.192 L153.042 614.257 Z\" fill=\"#000000\" fill-rule=\"evenodd\" fill-opacity=\"1\" /><path clip-path=\"url(#clip790)\" d=\"M 0 0 M187.834 596.526 L206.19 596.526 L206.19 600.461 L192.116 600.461 L192.116 608.933 Q193.135 608.586 194.153 608.424 Q195.172 608.239 196.19 608.239 Q201.977 608.239 205.357 611.41 Q208.737 614.581 208.737 619.998 Q208.737 625.577 205.264 628.678 Q201.792 631.757 195.473 631.757 Q193.297 631.757 191.028 631.387 Q188.783 631.016 186.376 630.276 L186.376 625.577 Q188.459 626.711 190.681 627.266 Q192.903 627.822 195.38 627.822 Q199.385 627.822 201.723 625.716 Q204.061 623.609 204.061 619.998 Q204.061 616.387 201.723 614.28 Q199.385 612.174 195.38 612.174 Q193.505 612.174 191.63 612.591 Q189.778 613.007 187.834 613.887 L187.834 596.526 Z\" fill=\"#000000\" fill-rule=\"evenodd\" fill-opacity=\"1\" /><path clip-path=\"url(#clip790)\" d=\"M 0 0 M196.792 194.918 Q193.181 194.918 191.352 198.482 Q189.547 202.024 189.547 209.154 Q189.547 216.26 191.352 219.825 Q193.181 223.366 196.792 223.366 Q200.426 223.366 202.232 219.825 Q204.061 216.26 204.061 209.154 Q204.061 202.024 202.232 198.482 Q200.426 194.918 196.792 194.918 M196.792 191.214 Q202.602 191.214 205.658 195.82 Q208.737 200.404 208.737 209.154 Q208.737 217.88 205.658 222.487 Q202.602 227.07 196.792 227.07 Q190.982 227.07 187.903 222.487 Q184.848 217.88 184.848 209.154 Q184.848 200.404 187.903 195.82 Q190.982 191.214 196.792 191.214 Z\" fill=\"#000000\" fill-rule=\"evenodd\" fill-opacity=\"1\" /><path clip-path=\"url(#clip790)\" d=\"M 0 0 M1159.66 1520.4 L1165.51 1520.4 L1165.51 1556.04 L1159.66 1556.04 L1159.66 1520.4 M1159.66 1506.52 L1165.51 1506.52 L1165.51 1513.93 L1159.66 1513.93 L1159.66 1506.52 Z\" fill=\"#000000\" fill-rule=\"evenodd\" fill-opacity=\"1\" /><path clip-path=\"url(#clip790)\" d=\"M 0 0 M1177.45 1510.27 L1177.45 1520.4 L1189.51 1520.4 L1189.51 1524.95 L1177.45 1524.95 L1177.45 1544.3 Q1177.45 1548.66 1178.63 1549.9 Q1179.83 1551.14 1183.49 1551.14 L1189.51 1551.14 L1189.51 1556.04 L1183.49 1556.04 Q1176.72 1556.04 1174.14 1553.53 Q1171.56 1550.98 1171.56 1544.3 L1171.56 1524.95 L1167.26 1524.95 L1167.26 1520.4 L1171.56 1520.4 L1171.56 1510.27 L1177.45 1510.27 Z\" fill=\"#000000\" fill-rule=\"evenodd\" fill-opacity=\"1\" /><path clip-path=\"url(#clip790)\" d=\"M 0 0 M1226.15 1536.76 L1226.15 1539.62 L1199.22 1539.62 Q1199.6 1545.67 1202.85 1548.85 Q1206.12 1552 1211.95 1552 Q1215.32 1552 1218.47 1551.17 Q1221.66 1550.35 1224.78 1548.69 L1224.78 1554.23 Q1221.63 1555.57 1218.32 1556.27 Q1215.01 1556.97 1211.6 1556.97 Q1203.07 1556.97 1198.07 1552 Q1193.11 1547.04 1193.11 1538.57 Q1193.11 1529.82 1197.82 1524.69 Q1202.56 1519.54 1210.58 1519.54 Q1217.77 1519.54 1221.94 1524.18 Q1226.15 1528.8 1226.15 1536.76 M1220.29 1535.04 Q1220.22 1530.23 1217.58 1527.37 Q1214.97 1524.5 1210.64 1524.5 Q1205.74 1524.5 1202.78 1527.27 Q1199.85 1530.04 1199.41 1535.07 L1220.29 1535.04 Z\" fill=\"#000000\" fill-rule=\"evenodd\" fill-opacity=\"1\" /><path clip-path=\"url(#clip790)\" d=\"M 0 0 M1252.94 1525.87 Q1251.96 1525.3 1250.78 1525.04 Q1249.63 1524.76 1248.23 1524.76 Q1243.27 1524.76 1240.6 1528 Q1237.95 1531.22 1237.95 1537.27 L1237.95 1556.04 L1232.07 1556.04 L1232.07 1520.4 L1237.95 1520.4 L1237.95 1525.93 Q1239.8 1522.69 1242.76 1521.13 Q1245.72 1519.54 1249.95 1519.54 Q1250.56 1519.54 1251.29 1519.63 Q1252.02 1519.7 1252.91 1519.85 L1252.94 1525.87 Z\" fill=\"#000000\" fill-rule=\"evenodd\" fill-opacity=\"1\" /><path clip-path=\"url(#clip790)\" d=\"M 0 0 M1275.29 1538.12 Q1268.19 1538.12 1265.45 1539.75 Q1262.72 1541.37 1262.72 1545.29 Q1262.72 1548.4 1264.75 1550.25 Q1266.82 1552.07 1270.35 1552.07 Q1275.22 1552.07 1278.15 1548.63 Q1281.11 1545.16 1281.11 1539.43 L1281.11 1538.12 L1275.29 1538.12 M1286.97 1535.71 L1286.97 1556.04 L1281.11 1556.04 L1281.11 1550.63 Q1279.11 1553.88 1276.12 1555.44 Q1273.12 1556.97 1268.8 1556.97 Q1263.32 1556.97 1260.07 1553.91 Q1256.86 1550.82 1256.86 1545.67 Q1256.86 1539.65 1260.87 1536.6 Q1264.91 1533.54 1272.9 1533.54 L1281.11 1533.54 L1281.11 1532.97 Q1281.11 1528.93 1278.44 1526.73 Q1275.8 1524.5 1270.99 1524.5 Q1267.94 1524.5 1265.04 1525.23 Q1262.14 1525.97 1259.47 1527.43 L1259.47 1522.02 Q1262.68 1520.78 1265.71 1520.17 Q1268.73 1519.54 1271.6 1519.54 Q1279.33 1519.54 1283.15 1523.55 Q1286.97 1527.56 1286.97 1535.71 Z\" fill=\"#000000\" fill-rule=\"evenodd\" fill-opacity=\"1\" /><path clip-path=\"url(#clip790)\" d=\"M 0 0 M1298.91 1510.27 L1298.91 1520.4 L1310.97 1520.4 L1310.97 1524.95 L1298.91 1524.95 L1298.91 1544.3 Q1298.91 1548.66 1300.08 1549.9 Q1301.29 1551.14 1304.95 1551.14 L1310.97 1551.14 L1310.97 1556.04 L1304.95 1556.04 Q1298.17 1556.04 1295.59 1553.53 Q1293.02 1550.98 1293.02 1544.3 L1293.02 1524.95 L1288.72 1524.95 L1288.72 1520.4 L1293.02 1520.4 L1293.02 1510.27 L1298.91 1510.27 Z\" fill=\"#000000\" fill-rule=\"evenodd\" fill-opacity=\"1\" /><path clip-path=\"url(#clip790)\" d=\"M 0 0 M1317.11 1520.4 L1322.97 1520.4 L1322.97 1556.04 L1317.11 1556.04 L1317.11 1520.4 M1317.11 1506.52 L1322.97 1506.52 L1322.97 1513.93 L1317.11 1513.93 L1317.11 1506.52 Z\" fill=\"#000000\" fill-rule=\"evenodd\" fill-opacity=\"1\" /><path clip-path=\"url(#clip790)\" d=\"M 0 0 M1342.92 1524.5 Q1338.21 1524.5 1335.48 1528.19 Q1332.74 1531.85 1332.74 1538.25 Q1332.74 1544.65 1335.44 1548.34 Q1338.18 1552 1342.92 1552 Q1347.6 1552 1350.34 1548.31 Q1353.08 1544.62 1353.08 1538.25 Q1353.08 1531.92 1350.34 1528.23 Q1347.6 1524.5 1342.92 1524.5 M1342.92 1519.54 Q1350.56 1519.54 1354.92 1524.5 Q1359.28 1529.47 1359.28 1538.25 Q1359.28 1547 1354.92 1552 Q1350.56 1556.97 1342.92 1556.97 Q1335.25 1556.97 1330.89 1552 Q1326.56 1547 1326.56 1538.25 Q1326.56 1529.47 1330.89 1524.5 Q1335.25 1519.54 1342.92 1519.54 Z\" fill=\"#000000\" fill-rule=\"evenodd\" fill-opacity=\"1\" /><path clip-path=\"url(#clip790)\" d=\"M 0 0 M1395.06 1534.53 L1395.06 1556.04 L1389.2 1556.04 L1389.2 1534.72 Q1389.2 1529.66 1387.23 1527.14 Q1385.26 1524.63 1381.31 1524.63 Q1376.57 1524.63 1373.83 1527.65 Q1371.09 1530.68 1371.09 1535.9 L1371.09 1556.04 L1365.2 1556.04 L1365.2 1520.4 L1371.09 1520.4 L1371.09 1525.93 Q1373.19 1522.72 1376.03 1521.13 Q1378.89 1519.54 1382.61 1519.54 Q1388.76 1519.54 1391.91 1523.36 Q1395.06 1527.14 1395.06 1534.53 Z\" fill=\"#000000\" fill-rule=\"evenodd\" fill-opacity=\"1\" /><path clip-path=\"url(#clip790)\" d=\"M 0 0 M1423.93 1521.45 L1423.93 1526.98 Q1421.44 1525.71 1418.77 1525.07 Q1416.1 1524.44 1413.23 1524.44 Q1408.87 1524.44 1406.68 1525.77 Q1404.51 1527.11 1404.51 1529.79 Q1404.51 1531.82 1406.07 1533 Q1407.63 1534.15 1412.34 1535.2 L1414.35 1535.64 Q1420.59 1536.98 1423.2 1539.43 Q1425.84 1541.85 1425.84 1546.21 Q1425.84 1551.17 1421.89 1554.07 Q1417.98 1556.97 1411.1 1556.97 Q1408.24 1556.97 1405.12 1556.39 Q1402.03 1555.85 1398.59 1554.74 L1398.59 1548.69 Q1401.84 1550.38 1404.99 1551.24 Q1408.14 1552.07 1411.23 1552.07 Q1415.37 1552.07 1417.59 1550.66 Q1419.82 1549.23 1419.82 1546.65 Q1419.82 1544.27 1418.2 1542.99 Q1416.61 1541.72 1411.16 1540.54 L1409.13 1540.07 Q1403.68 1538.92 1401.27 1536.56 Q1398.85 1534.18 1398.85 1530.04 Q1398.85 1525.01 1402.41 1522.27 Q1405.98 1519.54 1412.53 1519.54 Q1415.78 1519.54 1418.64 1520.01 Q1421.51 1520.49 1423.93 1521.45 Z\" fill=\"#000000\" fill-rule=\"evenodd\" fill-opacity=\"1\" /><path clip-path=\"url(#clip790)\" d=\"M 0 0 M38.479 931.514 L38.479 925.658 L88.0042 925.658 L88.0042 931.514 L38.479 931.514 Z\" fill=\"#000000\" fill-rule=\"evenodd\" fill-opacity=\"1\" /><path clip-path=\"url(#clip790)\" d=\"M 0 0 M56.4621 905.702 Q56.4621 910.412 60.1542 913.149 Q63.8145 915.887 70.212 915.887 Q76.6095 915.887 80.3017 913.181 Q83.9619 910.444 83.9619 905.702 Q83.9619 901.023 80.2698 898.285 Q76.5777 895.548 70.212 895.548 Q63.8781 895.548 60.186 898.285 Q56.4621 901.023 56.4621 905.702 M51.4968 905.702 Q51.4968 898.063 56.4621 893.702 Q61.4273 889.342 70.212 889.342 Q78.9649 889.342 83.9619 893.702 Q88.9272 898.063 88.9272 905.702 Q88.9272 913.372 83.9619 917.733 Q78.9649 922.061 70.212 922.061 Q61.4273 922.061 56.4621 917.733 Q51.4968 913.372 51.4968 905.702 Z\" fill=\"#000000\" fill-rule=\"evenodd\" fill-opacity=\"1\" /><path clip-path=\"url(#clip790)\" d=\"M 0 0 M69.7664 859.741 Q63.4007 859.741 59.8996 862.383 Q56.3984 864.993 56.3984 869.735 Q56.3984 874.446 59.8996 877.088 Q63.4007 879.698 69.7664 879.698 Q76.1003 879.698 79.6014 877.088 Q83.1026 874.446 83.1026 869.735 Q83.1026 864.993 79.6014 862.383 Q76.1003 859.741 69.7664 859.741 M83.58 853.885 Q92.683 853.885 97.1071 857.927 Q101.563 861.969 101.563 870.308 Q101.563 873.396 101.086 876.133 Q100.64 878.87 99.6852 881.448 L93.9879 881.448 Q95.3884 878.87 96.0568 876.356 Q96.7252 873.841 96.7252 871.231 Q96.7252 865.47 93.7015 862.606 Q90.7096 859.741 84.6303 859.741 L81.7339 859.741 Q84.885 861.555 86.4446 864.388 Q88.0042 867.221 88.0042 871.168 Q88.0042 877.724 83.0071 881.735 Q78.01 885.745 69.7664 885.745 Q61.491 885.745 56.4939 881.735 Q51.4968 877.724 51.4968 871.168 Q51.4968 867.221 53.0564 864.388 Q54.616 861.555 57.7671 859.741 L52.3562 859.741 L52.3562 853.885 L83.58 853.885 Z\" fill=\"#000000\" fill-rule=\"evenodd\" fill-opacity=\"1\" /><path clip-path=\"url(#clip790)\" d=\"M 0 0 M82.5933 845.8 L82.5933 835.297 L46.3406 835.297 L48.6323 846.723 L42.7758 846.723 L40.4842 835.36 L40.4842 828.931 L82.5933 828.931 L82.5933 818.428 L88.0042 818.428 L88.0042 845.8 L82.5933 845.8 Z\" fill=\"#000000\" fill-rule=\"evenodd\" fill-opacity=\"1\" /><path clip-path=\"url(#clip790)\" d=\"M 0 0 M44.7174 797.707 Q44.7174 802.673 49.6189 805.187 Q54.4887 807.67 64.2919 807.67 Q74.0633 807.67 78.9649 805.187 Q83.8346 802.673 83.8346 797.707 Q83.8346 792.71 78.9649 790.228 Q74.0633 787.713 64.2919 787.713 Q54.4887 787.713 49.6189 790.228 Q44.7174 792.71 44.7174 797.707 M39.6248 797.707 Q39.6248 789.718 45.9587 785.517 Q52.2607 781.284 64.2919 781.284 Q76.2913 781.284 82.6251 785.517 Q88.9272 789.718 88.9272 797.707 Q88.9272 805.696 82.6251 809.929 Q76.2913 814.131 64.2919 814.131 Q52.2607 814.131 45.9587 809.929 Q39.6248 805.696 39.6248 797.707 Z\" fill=\"#000000\" fill-rule=\"evenodd\" fill-opacity=\"1\" /><path clip-path=\"url(#clip790)\" d=\"M 0 0 M57.8307 733.764 Q57.2578 734.75 57.0032 735.928 Q56.7167 737.074 56.7167 738.474 Q56.7167 743.44 59.9632 746.113 Q63.1779 748.755 69.2253 748.755 L88.0042 748.755 L88.0042 754.643 L52.3562 754.643 L52.3562 748.755 L57.8944 748.755 Q54.6479 746.909 53.0883 743.949 Q51.4968 740.989 51.4968 736.756 Q51.4968 736.151 51.5923 735.419 Q51.656 734.687 51.8151 733.796 L57.8307 733.764 Z\" fill=\"#000000\" fill-rule=\"evenodd\" fill-opacity=\"1\" /><path clip-path=\"url(#clip790)\" d=\"M 0 0 M68.7161 698.561 L71.5806 698.561 L71.5806 725.488 Q77.6281 725.106 80.8109 721.86 Q83.9619 718.582 83.9619 712.757 Q83.9619 709.383 83.1344 706.232 Q82.3069 703.049 80.6518 699.93 L86.1899 699.93 Q87.5267 703.081 88.227 706.391 Q88.9272 709.701 88.9272 713.107 Q88.9272 721.637 83.9619 726.634 Q78.9967 731.599 70.5303 731.599 Q61.7774 731.599 56.6531 726.889 Q51.4968 722.146 51.4968 714.126 Q51.4968 706.932 56.1438 702.763 Q60.7589 698.561 68.7161 698.561 M66.9973 704.418 Q62.1912 704.482 59.3266 707.123 Q56.4621 709.733 56.4621 714.062 Q56.4621 718.964 59.2312 721.924 Q62.0002 724.852 67.0292 725.297 L66.9973 704.418 Z\" fill=\"#000000\" fill-rule=\"evenodd\" fill-opacity=\"1\" /><path clip-path=\"url(#clip790)\" d=\"M 0 0 M53.4065 669.693 L58.9447 669.693 Q57.6716 672.176 57.035 674.849 Q56.3984 677.523 56.3984 680.387 Q56.3984 684.748 57.7352 686.944 Q59.072 689.108 61.7456 689.108 Q63.7826 689.108 64.9603 687.549 Q66.1061 685.989 67.1565 681.279 L67.6021 679.273 Q68.9389 673.035 71.3897 670.425 Q73.8086 667.783 78.1691 667.783 Q83.1344 667.783 86.0308 671.73 Q88.9272 675.645 88.9272 682.52 Q88.9272 685.384 88.3543 688.504 Q87.8132 691.591 86.6992 695.028 L80.6518 695.028 Q82.3387 691.782 83.198 688.631 Q84.0256 685.48 84.0256 682.393 Q84.0256 678.255 82.6251 676.027 Q81.1929 673.799 78.6147 673.799 Q76.2276 673.799 74.9545 675.422 Q73.6813 677.013 72.5037 682.456 L72.0262 684.493 Q70.8804 689.936 68.5251 692.355 Q66.138 694.774 62.0002 694.774 Q56.9713 694.774 54.2341 691.209 Q51.4968 687.644 51.4968 681.088 Q51.4968 677.841 51.9743 674.976 Q52.4517 672.112 53.4065 669.693 Z\" fill=\"#000000\" fill-rule=\"evenodd\" fill-opacity=\"1\" /><path clip-path=\"url(#clip790)\" d=\"M 0 0 M52.3562 661.64 L52.3562 655.784 L88.0042 655.784 L88.0042 661.64 L52.3562 661.64 M38.479 661.64 L38.479 655.784 L45.895 655.784 L45.895 661.64 L38.479 661.64 Z\" fill=\"#000000\" fill-rule=\"evenodd\" fill-opacity=\"1\" /><path clip-path=\"url(#clip790)\" d=\"M 0 0 M57.7671 626.183 L38.479 626.183 L38.479 620.327 L88.0042 620.327 L88.0042 626.183 L82.657 626.183 Q85.8398 628.029 87.3994 630.862 Q88.9272 633.663 88.9272 637.61 Q88.9272 644.071 83.771 648.145 Q78.6147 652.187 70.212 652.187 Q61.8093 652.187 56.6531 648.145 Q51.4968 644.071 51.4968 637.61 Q51.4968 633.663 53.0564 630.862 Q54.5842 628.029 57.7671 626.183 M70.212 646.14 Q76.6732 646.14 80.3653 643.498 Q84.0256 640.824 84.0256 636.177 Q84.0256 631.531 80.3653 628.857 Q76.6732 626.183 70.212 626.183 Q63.7508 626.183 60.0905 628.857 Q56.3984 631.531 56.3984 636.177 Q56.3984 640.824 60.0905 643.498 Q63.7508 646.14 70.212 646.14 Z\" fill=\"#000000\" fill-rule=\"evenodd\" fill-opacity=\"1\" /><path clip-path=\"url(#clip790)\" d=\"M 0 0 M73.9359 614.789 L52.3562 614.789 L52.3562 608.932 L73.7131 608.932 Q78.7739 608.932 81.3202 606.959 Q83.8346 604.986 83.8346 601.039 Q83.8346 596.296 80.8109 593.559 Q77.7872 590.79 72.5673 590.79 L52.3562 590.79 L52.3562 584.934 L88.0042 584.934 L88.0042 590.79 L82.5296 590.79 Q85.7762 592.923 87.3676 595.755 Q88.9272 598.556 88.9272 602.28 Q88.9272 608.423 85.1078 611.606 Q81.2883 614.789 73.9359 614.789 M51.4968 600.052 L51.4968 600.052 Z\" fill=\"#000000\" fill-rule=\"evenodd\" fill-opacity=\"1\" /><path clip-path=\"url(#clip790)\" d=\"M 0 0 M70.0847 562.59 Q70.0847 569.688 71.7079 572.425 Q73.3312 575.162 77.2461 575.162 Q80.3653 575.162 82.2114 573.125 Q84.0256 571.056 84.0256 567.523 Q84.0256 562.654 80.5881 559.725 Q77.1188 556.765 71.3897 556.765 L70.0847 556.765 L70.0847 562.59 M67.6657 550.909 L88.0042 550.909 L88.0042 556.765 L82.5933 556.765 Q85.8398 558.77 87.3994 561.762 Q88.9272 564.754 88.9272 569.083 Q88.9272 574.557 85.8716 577.804 Q82.7843 581.019 77.6281 581.019 Q71.6125 581.019 68.5569 577.008 Q65.5014 572.966 65.5014 564.977 L65.5014 556.765 L64.9285 556.765 Q60.8862 556.765 58.6901 559.439 Q56.4621 562.081 56.4621 566.887 Q56.4621 569.942 57.1941 572.839 Q57.9262 575.735 59.3903 578.409 L53.9795 578.409 Q52.7381 575.194 52.1334 572.17 Q51.4968 569.147 51.4968 566.282 Q51.4968 558.548 55.5072 554.728 Q59.5176 550.909 67.6657 550.909 Z\" fill=\"#000000\" fill-rule=\"evenodd\" fill-opacity=\"1\" /><path clip-path=\"url(#clip790)\" d=\"M 0 0 M38.479 544.766 L38.479 538.909 L88.0042 538.909 L88.0042 544.766 L38.479 544.766 Z\" fill=\"#000000\" fill-rule=\"evenodd\" fill-opacity=\"1\" /><polyline clip-path=\"url(#clip792)\" style=\"stroke:#009af9; stroke-width:4; stroke-opacity:1; fill:none\" points=\"\n",
       "  232.737,1135.59 274.306,1568.88 315.875,1497.24 357.444,1774.9 399.013,1556.42 440.582,1807.2 482.151,1788.53 523.72,1877.05 \n",
       "  \"/>\n",
       "</svg>\n"
      ],
      "image/svg+xml": [
       "<?xml version=\"1.0\" encoding=\"utf-8\"?>\n",
       "<svg xmlns=\"http://www.w3.org/2000/svg\" xmlns:xlink=\"http://www.w3.org/1999/xlink\" width=\"600\" height=\"400\" viewBox=\"0 0 2400 1600\">\n",
       "<defs>\n",
       "  <clipPath id=\"clip760\">\n",
       "    <rect x=\"0\" y=\"0\" width=\"2400\" height=\"1600\"/>\n",
       "  </clipPath>\n",
       "</defs>\n",
       "<path clip-path=\"url(#clip760)\" d=\"\n",
       "M0 1600 L2400 1600 L2400 0 L0 0  Z\n",
       "  \" fill=\"#ffffff\" fill-rule=\"evenodd\" fill-opacity=\"1\"/>\n",
       "<defs>\n",
       "  <clipPath id=\"clip761\">\n",
       "    <rect x=\"480\" y=\"0\" width=\"1681\" height=\"1600\"/>\n",
       "  </clipPath>\n",
       "</defs>\n",
       "<path clip-path=\"url(#clip760)\" d=\"\n",
       "M232.737 1423.18 L2352.76 1423.18 L2352.76 47.2441 L232.737 47.2441  Z\n",
       "  \" fill=\"#ffffff\" fill-rule=\"evenodd\" fill-opacity=\"1\"/>\n",
       "<defs>\n",
       "  <clipPath id=\"clip762\">\n",
       "    <rect x=\"232\" y=\"47\" width=\"2121\" height=\"1377\"/>\n",
       "  </clipPath>\n",
       "</defs>\n",
       "<polyline clip-path=\"url(#clip762)\" style=\"stroke:#000000; stroke-width:2; stroke-opacity:0.1; fill:none\" points=\"\n",
       "  606.858,1423.18 606.858,47.2441 \n",
       "  \"/>\n",
       "<polyline clip-path=\"url(#clip762)\" style=\"stroke:#000000; stroke-width:2; stroke-opacity:0.1; fill:none\" points=\"\n",
       "  1022.55,1423.18 1022.55,47.2441 \n",
       "  \"/>\n",
       "<polyline clip-path=\"url(#clip762)\" style=\"stroke:#000000; stroke-width:2; stroke-opacity:0.1; fill:none\" points=\"\n",
       "  1438.24,1423.18 1438.24,47.2441 \n",
       "  \"/>\n",
       "<polyline clip-path=\"url(#clip762)\" style=\"stroke:#000000; stroke-width:2; stroke-opacity:0.1; fill:none\" points=\"\n",
       "  1853.93,1423.18 1853.93,47.2441 \n",
       "  \"/>\n",
       "<polyline clip-path=\"url(#clip762)\" style=\"stroke:#000000; stroke-width:2; stroke-opacity:0.1; fill:none\" points=\"\n",
       "  2269.62,1423.18 2269.62,47.2441 \n",
       "  \"/>\n",
       "<polyline clip-path=\"url(#clip762)\" style=\"stroke:#000000; stroke-width:2; stroke-opacity:0.1; fill:none\" points=\"\n",
       "  232.737,1423.18 2352.76,1423.18 \n",
       "  \"/>\n",
       "<polyline clip-path=\"url(#clip762)\" style=\"stroke:#000000; stroke-width:2; stroke-opacity:0.1; fill:none\" points=\"\n",
       "  232.737,1018.49 2352.76,1018.49 \n",
       "  \"/>\n",
       "<polyline clip-path=\"url(#clip762)\" style=\"stroke:#000000; stroke-width:2; stroke-opacity:0.1; fill:none\" points=\"\n",
       "  232.737,613.806 2352.76,613.806 \n",
       "  \"/>\n",
       "<polyline clip-path=\"url(#clip762)\" style=\"stroke:#000000; stroke-width:2; stroke-opacity:0.1; fill:none\" points=\"\n",
       "  232.737,209.119 2352.76,209.119 \n",
       "  \"/>\n",
       "<polyline clip-path=\"url(#clip760)\" style=\"stroke:#000000; stroke-width:4; stroke-opacity:1; fill:none\" points=\"\n",
       "  232.737,1423.18 2352.76,1423.18 \n",
       "  \"/>\n",
       "<polyline clip-path=\"url(#clip760)\" style=\"stroke:#000000; stroke-width:4; stroke-opacity:1; fill:none\" points=\"\n",
       "  232.737,1423.18 232.737,47.2441 \n",
       "  \"/>\n",
       "<polyline clip-path=\"url(#clip760)\" style=\"stroke:#000000; stroke-width:4; stroke-opacity:1; fill:none\" points=\"\n",
       "  606.858,1423.18 606.858,1406.67 \n",
       "  \"/>\n",
       "<polyline clip-path=\"url(#clip760)\" style=\"stroke:#000000; stroke-width:4; stroke-opacity:1; fill:none\" points=\"\n",
       "  1022.55,1423.18 1022.55,1406.67 \n",
       "  \"/>\n",
       "<polyline clip-path=\"url(#clip760)\" style=\"stroke:#000000; stroke-width:4; stroke-opacity:1; fill:none\" points=\"\n",
       "  1438.24,1423.18 1438.24,1406.67 \n",
       "  \"/>\n",
       "<polyline clip-path=\"url(#clip760)\" style=\"stroke:#000000; stroke-width:4; stroke-opacity:1; fill:none\" points=\"\n",
       "  1853.93,1423.18 1853.93,1406.67 \n",
       "  \"/>\n",
       "<polyline clip-path=\"url(#clip760)\" style=\"stroke:#000000; stroke-width:4; stroke-opacity:1; fill:none\" points=\"\n",
       "  2269.62,1423.18 2269.62,1406.67 \n",
       "  \"/>\n",
       "<polyline clip-path=\"url(#clip760)\" style=\"stroke:#000000; stroke-width:4; stroke-opacity:1; fill:none\" points=\"\n",
       "  232.737,1423.18 258.177,1423.18 \n",
       "  \"/>\n",
       "<polyline clip-path=\"url(#clip760)\" style=\"stroke:#000000; stroke-width:4; stroke-opacity:1; fill:none\" points=\"\n",
       "  232.737,1018.49 258.177,1018.49 \n",
       "  \"/>\n",
       "<polyline clip-path=\"url(#clip760)\" style=\"stroke:#000000; stroke-width:4; stroke-opacity:1; fill:none\" points=\"\n",
       "  232.737,613.806 258.177,613.806 \n",
       "  \"/>\n",
       "<polyline clip-path=\"url(#clip760)\" style=\"stroke:#000000; stroke-width:4; stroke-opacity:1; fill:none\" points=\"\n",
       "  232.737,209.119 258.177,209.119 \n",
       "  \"/>\n",
       "<path clip-path=\"url(#clip760)\" d=\"M 0 0 M583.733 1472.72 L591.372 1472.72 L591.372 1446.35 L583.061 1448.02 L583.061 1443.76 L591.325 1442.09 L596.001 1442.09 L596.001 1472.72 L603.64 1472.72 L603.64 1476.65 L583.733 1476.65 L583.733 1472.72 Z\" fill=\"#000000\" fill-rule=\"evenodd\" fill-opacity=\"1\" /><path clip-path=\"url(#clip760)\" d=\"M 0 0 M618.709 1445.17 Q615.098 1445.17 613.27 1448.74 Q611.464 1452.28 611.464 1459.41 Q611.464 1466.51 613.27 1470.08 Q615.098 1473.62 618.709 1473.62 Q622.344 1473.62 624.149 1470.08 Q625.978 1466.51 625.978 1459.41 Q625.978 1452.28 624.149 1448.74 Q622.344 1445.17 618.709 1445.17 M618.709 1441.47 Q624.52 1441.47 627.575 1446.07 Q630.654 1450.66 630.654 1459.41 Q630.654 1468.13 627.575 1472.74 Q624.52 1477.32 618.709 1477.32 Q612.899 1477.32 609.821 1472.74 Q606.765 1468.13 606.765 1459.41 Q606.765 1450.66 609.821 1446.07 Q612.899 1441.47 618.709 1441.47 Z\" fill=\"#000000\" fill-rule=\"evenodd\" fill-opacity=\"1\" /><path clip-path=\"url(#clip760)\" d=\"M 0 0 M1003.69 1472.72 L1020.01 1472.72 L1020.01 1476.65 L998.069 1476.65 L998.069 1472.72 Q1000.73 1469.96 1005.31 1465.33 Q1009.92 1460.68 1011.1 1459.34 Q1013.35 1456.81 1014.23 1455.08 Q1015.13 1453.32 1015.13 1451.63 Q1015.13 1448.87 1013.18 1447.14 Q1011.26 1445.4 1008.16 1445.4 Q1005.96 1445.4 1003.51 1446.17 Q1001.08 1446.93 998.3 1448.48 L998.3 1443.76 Q1001.12 1442.62 1003.58 1442.05 Q1006.03 1441.47 1008.07 1441.47 Q1013.44 1441.47 1016.63 1444.15 Q1019.83 1446.84 1019.83 1451.33 Q1019.83 1453.46 1019.02 1455.38 Q1018.23 1457.28 1016.12 1459.87 Q1015.55 1460.54 1012.44 1463.76 Q1009.34 1466.95 1003.69 1472.72 Z\" fill=\"#000000\" fill-rule=\"evenodd\" fill-opacity=\"1\" /><path clip-path=\"url(#clip760)\" d=\"M 0 0 M1035.08 1445.17 Q1031.47 1445.17 1029.64 1448.74 Q1027.84 1452.28 1027.84 1459.41 Q1027.84 1466.51 1029.64 1470.08 Q1031.47 1473.62 1035.08 1473.62 Q1038.72 1473.62 1040.52 1470.08 Q1042.35 1466.51 1042.35 1459.41 Q1042.35 1452.28 1040.52 1448.74 Q1038.72 1445.17 1035.08 1445.17 M1035.08 1441.47 Q1040.89 1441.47 1043.95 1446.07 Q1047.03 1450.66 1047.03 1459.41 Q1047.03 1468.13 1043.95 1472.74 Q1040.89 1477.32 1035.08 1477.32 Q1029.27 1477.32 1026.19 1472.74 Q1023.14 1468.13 1023.14 1459.41 Q1023.14 1450.66 1026.19 1446.07 Q1029.27 1441.47 1035.08 1441.47 Z\" fill=\"#000000\" fill-rule=\"evenodd\" fill-opacity=\"1\" /><path clip-path=\"url(#clip760)\" d=\"M 0 0 M1428.98 1458.02 Q1432.34 1458.74 1434.21 1461 Q1436.11 1463.27 1436.11 1466.61 Q1436.11 1471.72 1432.59 1474.52 Q1429.07 1477.32 1422.59 1477.32 Q1420.41 1477.32 1418.1 1476.88 Q1415.81 1476.47 1413.35 1475.61 L1413.35 1471.1 Q1415.3 1472.23 1417.61 1472.81 Q1419.93 1473.39 1422.45 1473.39 Q1426.85 1473.39 1429.14 1471.65 Q1431.46 1469.92 1431.46 1466.61 Q1431.46 1463.55 1429.3 1461.84 Q1427.17 1460.1 1423.35 1460.1 L1419.33 1460.1 L1419.33 1456.26 L1423.54 1456.26 Q1426.99 1456.26 1428.82 1454.89 Q1430.65 1453.5 1430.65 1450.91 Q1430.65 1448.25 1428.75 1446.84 Q1426.87 1445.4 1423.35 1445.4 Q1421.43 1445.4 1419.23 1445.82 Q1417.03 1446.24 1414.4 1447.11 L1414.4 1442.95 Q1417.06 1442.21 1419.37 1441.84 Q1421.71 1441.47 1423.77 1441.47 Q1429.09 1441.47 1432.2 1443.9 Q1435.3 1446.3 1435.3 1450.43 Q1435.3 1453.3 1433.65 1455.29 Q1432.01 1457.25 1428.98 1458.02 Z\" fill=\"#000000\" fill-rule=\"evenodd\" fill-opacity=\"1\" /><path clip-path=\"url(#clip760)\" d=\"M 0 0 M1451.18 1445.17 Q1447.57 1445.17 1445.74 1448.74 Q1443.93 1452.28 1443.93 1459.41 Q1443.93 1466.51 1445.74 1470.08 Q1447.57 1473.62 1451.18 1473.62 Q1454.81 1473.62 1456.62 1470.08 Q1458.45 1466.51 1458.45 1459.41 Q1458.45 1452.28 1456.62 1448.74 Q1454.81 1445.17 1451.18 1445.17 M1451.18 1441.47 Q1456.99 1441.47 1460.04 1446.07 Q1463.12 1450.66 1463.12 1459.41 Q1463.12 1468.13 1460.04 1472.74 Q1456.99 1477.32 1451.18 1477.32 Q1445.37 1477.32 1442.29 1472.74 Q1439.23 1468.13 1439.23 1459.41 Q1439.23 1450.66 1442.29 1446.07 Q1445.37 1441.47 1451.18 1441.47 Z\" fill=\"#000000\" fill-rule=\"evenodd\" fill-opacity=\"1\" /><path clip-path=\"url(#clip760)\" d=\"M 0 0 M1843.43 1446.17 L1831.62 1464.61 L1843.43 1464.61 L1843.43 1446.17 M1842.2 1442.09 L1848.08 1442.09 L1848.08 1464.61 L1853.01 1464.61 L1853.01 1468.5 L1848.08 1468.5 L1848.08 1476.65 L1843.43 1476.65 L1843.43 1468.5 L1827.83 1468.5 L1827.83 1463.99 L1842.2 1442.09 Z\" fill=\"#000000\" fill-rule=\"evenodd\" fill-opacity=\"1\" /><path clip-path=\"url(#clip760)\" d=\"M 0 0 M1868.08 1445.17 Q1864.47 1445.17 1862.64 1448.74 Q1860.84 1452.28 1860.84 1459.41 Q1860.84 1466.51 1862.64 1470.08 Q1864.47 1473.62 1868.08 1473.62 Q1871.72 1473.62 1873.52 1470.08 Q1875.35 1466.51 1875.35 1459.41 Q1875.35 1452.28 1873.52 1448.74 Q1871.72 1445.17 1868.08 1445.17 M1868.08 1441.47 Q1873.89 1441.47 1876.95 1446.07 Q1880.03 1450.66 1880.03 1459.41 Q1880.03 1468.13 1876.95 1472.74 Q1873.89 1477.32 1868.08 1477.32 Q1862.27 1477.32 1859.19 1472.74 Q1856.14 1468.13 1856.14 1459.41 Q1856.14 1450.66 1859.19 1446.07 Q1862.27 1441.47 1868.08 1441.47 Z\" fill=\"#000000\" fill-rule=\"evenodd\" fill-opacity=\"1\" /><path clip-path=\"url(#clip760)\" d=\"M 0 0 M2246.39 1442.09 L2264.75 1442.09 L2264.75 1446.03 L2250.67 1446.03 L2250.67 1454.5 Q2251.69 1454.15 2252.71 1453.99 Q2253.73 1453.8 2254.75 1453.8 Q2260.53 1453.8 2263.91 1456.98 Q2267.29 1460.15 2267.29 1465.56 Q2267.29 1471.14 2263.82 1474.24 Q2260.35 1477.32 2254.03 1477.32 Q2251.85 1477.32 2249.58 1476.95 Q2247.34 1476.58 2244.93 1475.84 L2244.93 1471.14 Q2247.01 1472.28 2249.24 1472.83 Q2251.46 1473.39 2253.94 1473.39 Q2257.94 1473.39 2260.28 1471.28 Q2262.62 1469.18 2262.62 1465.56 Q2262.62 1461.95 2260.28 1459.85 Q2257.94 1457.74 2253.94 1457.74 Q2252.06 1457.74 2250.19 1458.16 Q2248.33 1458.57 2246.39 1459.45 L2246.39 1442.09 Z\" fill=\"#000000\" fill-rule=\"evenodd\" fill-opacity=\"1\" /><path clip-path=\"url(#clip760)\" d=\"M 0 0 M2282.36 1445.17 Q2278.75 1445.17 2276.92 1448.74 Q2275.12 1452.28 2275.12 1459.41 Q2275.12 1466.51 2276.92 1470.08 Q2278.75 1473.62 2282.36 1473.62 Q2286 1473.62 2287.8 1470.08 Q2289.63 1466.51 2289.63 1459.41 Q2289.63 1452.28 2287.8 1448.74 Q2286 1445.17 2282.36 1445.17 M2282.36 1441.47 Q2288.17 1441.47 2291.23 1446.07 Q2294.31 1450.66 2294.31 1459.41 Q2294.31 1468.13 2291.23 1472.74 Q2288.17 1477.32 2282.36 1477.32 Q2276.55 1477.32 2273.47 1472.74 Q2270.42 1468.13 2270.42 1459.41 Q2270.42 1450.66 2273.47 1446.07 Q2276.55 1441.47 2282.36 1441.47 Z\" fill=\"#000000\" fill-rule=\"evenodd\" fill-opacity=\"1\" /><path clip-path=\"url(#clip760)\" d=\"M 0 0 M127.256 1423.63 L156.931 1423.63 L156.931 1427.57 L127.256 1427.57 L127.256 1423.63 Z\" fill=\"#000000\" fill-rule=\"evenodd\" fill-opacity=\"1\" /><path clip-path=\"url(#clip760)\" d=\"M 0 0 M162.811 1436.52 L170.45 1436.52 L170.45 1410.16 L162.14 1411.83 L162.14 1407.57 L170.403 1405.9 L175.079 1405.9 L175.079 1436.52 L182.718 1436.52 L182.718 1440.46 L162.811 1440.46 L162.811 1436.52 Z\" fill=\"#000000\" fill-rule=\"evenodd\" fill-opacity=\"1\" /><path clip-path=\"url(#clip760)\" d=\"M 0 0 M187.834 1405.9 L206.19 1405.9 L206.19 1409.84 L192.116 1409.84 L192.116 1418.31 Q193.135 1417.96 194.153 1417.8 Q195.172 1417.61 196.19 1417.61 Q201.977 1417.61 205.357 1420.78 Q208.737 1423.96 208.737 1429.37 Q208.737 1434.95 205.264 1438.05 Q201.792 1441.13 195.473 1441.13 Q193.297 1441.13 191.028 1440.76 Q188.783 1440.39 186.376 1439.65 L186.376 1434.95 Q188.459 1436.08 190.681 1436.64 Q192.903 1437.2 195.38 1437.2 Q199.385 1437.2 201.723 1435.09 Q204.061 1432.98 204.061 1429.37 Q204.061 1425.76 201.723 1423.65 Q199.385 1421.55 195.38 1421.55 Q193.505 1421.55 191.63 1421.96 Q189.778 1422.38 187.834 1423.26 L187.834 1405.9 Z\" fill=\"#000000\" fill-rule=\"evenodd\" fill-opacity=\"1\" /><path clip-path=\"url(#clip760)\" d=\"M 0 0 M126.26 1018.94 L155.936 1018.94 L155.936 1022.88 L126.26 1022.88 L126.26 1018.94 Z\" fill=\"#000000\" fill-rule=\"evenodd\" fill-opacity=\"1\" /><path clip-path=\"url(#clip760)\" d=\"M 0 0 M161.816 1031.84 L169.454 1031.84 L169.454 1005.47 L161.144 1007.14 L161.144 1002.88 L169.408 1001.21 L174.084 1001.21 L174.084 1031.84 L181.723 1031.84 L181.723 1035.77 L161.816 1035.77 L161.816 1031.84 Z\" fill=\"#000000\" fill-rule=\"evenodd\" fill-opacity=\"1\" /><path clip-path=\"url(#clip760)\" d=\"M 0 0 M196.792 1004.29 Q193.181 1004.29 191.352 1007.86 Q189.547 1011.4 189.547 1018.53 Q189.547 1025.63 191.352 1029.2 Q193.181 1032.74 196.792 1032.74 Q200.426 1032.74 202.232 1029.2 Q204.061 1025.63 204.061 1018.53 Q204.061 1011.4 202.232 1007.86 Q200.426 1004.29 196.792 1004.29 M196.792 1000.59 Q202.602 1000.59 205.658 1005.19 Q208.737 1009.78 208.737 1018.53 Q208.737 1027.25 205.658 1031.86 Q202.602 1036.44 196.792 1036.44 Q190.982 1036.44 187.903 1031.86 Q184.848 1027.25 184.848 1018.53 Q184.848 1009.78 187.903 1005.19 Q190.982 1000.59 196.792 1000.59 Z\" fill=\"#000000\" fill-rule=\"evenodd\" fill-opacity=\"1\" /><path clip-path=\"url(#clip760)\" d=\"M 0 0 M153.042 614.257 L182.718 614.257 L182.718 618.192 L153.042 618.192 L153.042 614.257 Z\" fill=\"#000000\" fill-rule=\"evenodd\" fill-opacity=\"1\" /><path clip-path=\"url(#clip760)\" d=\"M 0 0 M187.834 596.526 L206.19 596.526 L206.19 600.461 L192.116 600.461 L192.116 608.933 Q193.135 608.586 194.153 608.424 Q195.172 608.239 196.19 608.239 Q201.977 608.239 205.357 611.41 Q208.737 614.581 208.737 619.998 Q208.737 625.577 205.264 628.678 Q201.792 631.757 195.473 631.757 Q193.297 631.757 191.028 631.387 Q188.783 631.016 186.376 630.276 L186.376 625.577 Q188.459 626.711 190.681 627.266 Q192.903 627.822 195.38 627.822 Q199.385 627.822 201.723 625.716 Q204.061 623.609 204.061 619.998 Q204.061 616.387 201.723 614.28 Q199.385 612.174 195.38 612.174 Q193.505 612.174 191.63 612.591 Q189.778 613.007 187.834 613.887 L187.834 596.526 Z\" fill=\"#000000\" fill-rule=\"evenodd\" fill-opacity=\"1\" /><path clip-path=\"url(#clip760)\" d=\"M 0 0 M196.792 194.918 Q193.181 194.918 191.352 198.482 Q189.547 202.024 189.547 209.154 Q189.547 216.26 191.352 219.825 Q193.181 223.366 196.792 223.366 Q200.426 223.366 202.232 219.825 Q204.061 216.26 204.061 209.154 Q204.061 202.024 202.232 198.482 Q200.426 194.918 196.792 194.918 M196.792 191.214 Q202.602 191.214 205.658 195.82 Q208.737 200.404 208.737 209.154 Q208.737 217.88 205.658 222.487 Q202.602 227.07 196.792 227.07 Q190.982 227.07 187.903 222.487 Q184.848 217.88 184.848 209.154 Q184.848 200.404 187.903 195.82 Q190.982 191.214 196.792 191.214 Z\" fill=\"#000000\" fill-rule=\"evenodd\" fill-opacity=\"1\" /><path clip-path=\"url(#clip760)\" d=\"M 0 0 M1159.66 1520.4 L1165.51 1520.4 L1165.51 1556.04 L1159.66 1556.04 L1159.66 1520.4 M1159.66 1506.52 L1165.51 1506.52 L1165.51 1513.93 L1159.66 1513.93 L1159.66 1506.52 Z\" fill=\"#000000\" fill-rule=\"evenodd\" fill-opacity=\"1\" /><path clip-path=\"url(#clip760)\" d=\"M 0 0 M1177.45 1510.27 L1177.45 1520.4 L1189.51 1520.4 L1189.51 1524.95 L1177.45 1524.95 L1177.45 1544.3 Q1177.45 1548.66 1178.63 1549.9 Q1179.83 1551.14 1183.49 1551.14 L1189.51 1551.14 L1189.51 1556.04 L1183.49 1556.04 Q1176.72 1556.04 1174.14 1553.53 Q1171.56 1550.98 1171.56 1544.3 L1171.56 1524.95 L1167.26 1524.95 L1167.26 1520.4 L1171.56 1520.4 L1171.56 1510.27 L1177.45 1510.27 Z\" fill=\"#000000\" fill-rule=\"evenodd\" fill-opacity=\"1\" /><path clip-path=\"url(#clip760)\" d=\"M 0 0 M1226.15 1536.76 L1226.15 1539.62 L1199.22 1539.62 Q1199.6 1545.67 1202.85 1548.85 Q1206.12 1552 1211.95 1552 Q1215.32 1552 1218.47 1551.17 Q1221.66 1550.35 1224.78 1548.69 L1224.78 1554.23 Q1221.63 1555.57 1218.32 1556.27 Q1215.01 1556.97 1211.6 1556.97 Q1203.07 1556.97 1198.07 1552 Q1193.11 1547.04 1193.11 1538.57 Q1193.11 1529.82 1197.82 1524.69 Q1202.56 1519.54 1210.58 1519.54 Q1217.77 1519.54 1221.94 1524.18 Q1226.15 1528.8 1226.15 1536.76 M1220.29 1535.04 Q1220.22 1530.23 1217.58 1527.37 Q1214.97 1524.5 1210.64 1524.5 Q1205.74 1524.5 1202.78 1527.27 Q1199.85 1530.04 1199.41 1535.07 L1220.29 1535.04 Z\" fill=\"#000000\" fill-rule=\"evenodd\" fill-opacity=\"1\" /><path clip-path=\"url(#clip760)\" d=\"M 0 0 M1252.94 1525.87 Q1251.96 1525.3 1250.78 1525.04 Q1249.63 1524.76 1248.23 1524.76 Q1243.27 1524.76 1240.6 1528 Q1237.95 1531.22 1237.95 1537.27 L1237.95 1556.04 L1232.07 1556.04 L1232.07 1520.4 L1237.95 1520.4 L1237.95 1525.93 Q1239.8 1522.69 1242.76 1521.13 Q1245.72 1519.54 1249.95 1519.54 Q1250.56 1519.54 1251.29 1519.63 Q1252.02 1519.7 1252.91 1519.85 L1252.94 1525.87 Z\" fill=\"#000000\" fill-rule=\"evenodd\" fill-opacity=\"1\" /><path clip-path=\"url(#clip760)\" d=\"M 0 0 M1275.29 1538.12 Q1268.19 1538.12 1265.45 1539.75 Q1262.72 1541.37 1262.72 1545.29 Q1262.72 1548.4 1264.75 1550.25 Q1266.82 1552.07 1270.35 1552.07 Q1275.22 1552.07 1278.15 1548.63 Q1281.11 1545.16 1281.11 1539.43 L1281.11 1538.12 L1275.29 1538.12 M1286.97 1535.71 L1286.97 1556.04 L1281.11 1556.04 L1281.11 1550.63 Q1279.11 1553.88 1276.12 1555.44 Q1273.12 1556.97 1268.8 1556.97 Q1263.32 1556.97 1260.07 1553.91 Q1256.86 1550.82 1256.86 1545.67 Q1256.86 1539.65 1260.87 1536.6 Q1264.91 1533.54 1272.9 1533.54 L1281.11 1533.54 L1281.11 1532.97 Q1281.11 1528.93 1278.44 1526.73 Q1275.8 1524.5 1270.99 1524.5 Q1267.94 1524.5 1265.04 1525.23 Q1262.14 1525.97 1259.47 1527.43 L1259.47 1522.02 Q1262.68 1520.78 1265.71 1520.17 Q1268.73 1519.54 1271.6 1519.54 Q1279.33 1519.54 1283.15 1523.55 Q1286.97 1527.56 1286.97 1535.71 Z\" fill=\"#000000\" fill-rule=\"evenodd\" fill-opacity=\"1\" /><path clip-path=\"url(#clip760)\" d=\"M 0 0 M1298.91 1510.27 L1298.91 1520.4 L1310.97 1520.4 L1310.97 1524.95 L1298.91 1524.95 L1298.91 1544.3 Q1298.91 1548.66 1300.08 1549.9 Q1301.29 1551.14 1304.95 1551.14 L1310.97 1551.14 L1310.97 1556.04 L1304.95 1556.04 Q1298.17 1556.04 1295.59 1553.53 Q1293.02 1550.98 1293.02 1544.3 L1293.02 1524.95 L1288.72 1524.95 L1288.72 1520.4 L1293.02 1520.4 L1293.02 1510.27 L1298.91 1510.27 Z\" fill=\"#000000\" fill-rule=\"evenodd\" fill-opacity=\"1\" /><path clip-path=\"url(#clip760)\" d=\"M 0 0 M1317.11 1520.4 L1322.97 1520.4 L1322.97 1556.04 L1317.11 1556.04 L1317.11 1520.4 M1317.11 1506.52 L1322.97 1506.52 L1322.97 1513.93 L1317.11 1513.93 L1317.11 1506.52 Z\" fill=\"#000000\" fill-rule=\"evenodd\" fill-opacity=\"1\" /><path clip-path=\"url(#clip760)\" d=\"M 0 0 M1342.92 1524.5 Q1338.21 1524.5 1335.48 1528.19 Q1332.74 1531.85 1332.74 1538.25 Q1332.74 1544.65 1335.44 1548.34 Q1338.18 1552 1342.92 1552 Q1347.6 1552 1350.34 1548.31 Q1353.08 1544.62 1353.08 1538.25 Q1353.08 1531.92 1350.34 1528.23 Q1347.6 1524.5 1342.92 1524.5 M1342.92 1519.54 Q1350.56 1519.54 1354.92 1524.5 Q1359.28 1529.47 1359.28 1538.25 Q1359.28 1547 1354.92 1552 Q1350.56 1556.97 1342.92 1556.97 Q1335.25 1556.97 1330.89 1552 Q1326.56 1547 1326.56 1538.25 Q1326.56 1529.47 1330.89 1524.5 Q1335.25 1519.54 1342.92 1519.54 Z\" fill=\"#000000\" fill-rule=\"evenodd\" fill-opacity=\"1\" /><path clip-path=\"url(#clip760)\" d=\"M 0 0 M1395.06 1534.53 L1395.06 1556.04 L1389.2 1556.04 L1389.2 1534.72 Q1389.2 1529.66 1387.23 1527.14 Q1385.26 1524.63 1381.31 1524.63 Q1376.57 1524.63 1373.83 1527.65 Q1371.09 1530.68 1371.09 1535.9 L1371.09 1556.04 L1365.2 1556.04 L1365.2 1520.4 L1371.09 1520.4 L1371.09 1525.93 Q1373.19 1522.72 1376.03 1521.13 Q1378.89 1519.54 1382.61 1519.54 Q1388.76 1519.54 1391.91 1523.36 Q1395.06 1527.14 1395.06 1534.53 Z\" fill=\"#000000\" fill-rule=\"evenodd\" fill-opacity=\"1\" /><path clip-path=\"url(#clip760)\" d=\"M 0 0 M1423.93 1521.45 L1423.93 1526.98 Q1421.44 1525.71 1418.77 1525.07 Q1416.1 1524.44 1413.23 1524.44 Q1408.87 1524.44 1406.68 1525.77 Q1404.51 1527.11 1404.51 1529.79 Q1404.51 1531.82 1406.07 1533 Q1407.63 1534.15 1412.34 1535.2 L1414.35 1535.64 Q1420.59 1536.98 1423.2 1539.43 Q1425.84 1541.85 1425.84 1546.21 Q1425.84 1551.17 1421.89 1554.07 Q1417.98 1556.97 1411.1 1556.97 Q1408.24 1556.97 1405.12 1556.39 Q1402.03 1555.85 1398.59 1554.74 L1398.59 1548.69 Q1401.84 1550.38 1404.99 1551.24 Q1408.14 1552.07 1411.23 1552.07 Q1415.37 1552.07 1417.59 1550.66 Q1419.82 1549.23 1419.82 1546.65 Q1419.82 1544.27 1418.2 1542.99 Q1416.61 1541.72 1411.16 1540.54 L1409.13 1540.07 Q1403.68 1538.92 1401.27 1536.56 Q1398.85 1534.18 1398.85 1530.04 Q1398.85 1525.01 1402.41 1522.27 Q1405.98 1519.54 1412.53 1519.54 Q1415.78 1519.54 1418.64 1520.01 Q1421.51 1520.49 1423.93 1521.45 Z\" fill=\"#000000\" fill-rule=\"evenodd\" fill-opacity=\"1\" /><path clip-path=\"url(#clip760)\" d=\"M 0 0 M38.479 931.514 L38.479 925.658 L88.0042 925.658 L88.0042 931.514 L38.479 931.514 Z\" fill=\"#000000\" fill-rule=\"evenodd\" fill-opacity=\"1\" /><path clip-path=\"url(#clip760)\" d=\"M 0 0 M56.4621 905.702 Q56.4621 910.412 60.1542 913.149 Q63.8145 915.887 70.212 915.887 Q76.6095 915.887 80.3017 913.181 Q83.9619 910.444 83.9619 905.702 Q83.9619 901.023 80.2698 898.285 Q76.5777 895.548 70.212 895.548 Q63.8781 895.548 60.186 898.285 Q56.4621 901.023 56.4621 905.702 M51.4968 905.702 Q51.4968 898.063 56.4621 893.702 Q61.4273 889.342 70.212 889.342 Q78.9649 889.342 83.9619 893.702 Q88.9272 898.063 88.9272 905.702 Q88.9272 913.372 83.9619 917.733 Q78.9649 922.061 70.212 922.061 Q61.4273 922.061 56.4621 917.733 Q51.4968 913.372 51.4968 905.702 Z\" fill=\"#000000\" fill-rule=\"evenodd\" fill-opacity=\"1\" /><path clip-path=\"url(#clip760)\" d=\"M 0 0 M69.7664 859.741 Q63.4007 859.741 59.8996 862.383 Q56.3984 864.993 56.3984 869.735 Q56.3984 874.446 59.8996 877.088 Q63.4007 879.698 69.7664 879.698 Q76.1003 879.698 79.6014 877.088 Q83.1026 874.446 83.1026 869.735 Q83.1026 864.993 79.6014 862.383 Q76.1003 859.741 69.7664 859.741 M83.58 853.885 Q92.683 853.885 97.1071 857.927 Q101.563 861.969 101.563 870.308 Q101.563 873.396 101.086 876.133 Q100.64 878.87 99.6852 881.448 L93.9879 881.448 Q95.3884 878.87 96.0568 876.356 Q96.7252 873.841 96.7252 871.231 Q96.7252 865.47 93.7015 862.606 Q90.7096 859.741 84.6303 859.741 L81.7339 859.741 Q84.885 861.555 86.4446 864.388 Q88.0042 867.221 88.0042 871.168 Q88.0042 877.724 83.0071 881.735 Q78.01 885.745 69.7664 885.745 Q61.491 885.745 56.4939 881.735 Q51.4968 877.724 51.4968 871.168 Q51.4968 867.221 53.0564 864.388 Q54.616 861.555 57.7671 859.741 L52.3562 859.741 L52.3562 853.885 L83.58 853.885 Z\" fill=\"#000000\" fill-rule=\"evenodd\" fill-opacity=\"1\" /><path clip-path=\"url(#clip760)\" d=\"M 0 0 M82.5933 845.8 L82.5933 835.297 L46.3406 835.297 L48.6323 846.723 L42.7758 846.723 L40.4842 835.36 L40.4842 828.931 L82.5933 828.931 L82.5933 818.428 L88.0042 818.428 L88.0042 845.8 L82.5933 845.8 Z\" fill=\"#000000\" fill-rule=\"evenodd\" fill-opacity=\"1\" /><path clip-path=\"url(#clip760)\" d=\"M 0 0 M44.7174 797.707 Q44.7174 802.673 49.6189 805.187 Q54.4887 807.67 64.2919 807.67 Q74.0633 807.67 78.9649 805.187 Q83.8346 802.673 83.8346 797.707 Q83.8346 792.71 78.9649 790.228 Q74.0633 787.713 64.2919 787.713 Q54.4887 787.713 49.6189 790.228 Q44.7174 792.71 44.7174 797.707 M39.6248 797.707 Q39.6248 789.718 45.9587 785.517 Q52.2607 781.284 64.2919 781.284 Q76.2913 781.284 82.6251 785.517 Q88.9272 789.718 88.9272 797.707 Q88.9272 805.696 82.6251 809.929 Q76.2913 814.131 64.2919 814.131 Q52.2607 814.131 45.9587 809.929 Q39.6248 805.696 39.6248 797.707 Z\" fill=\"#000000\" fill-rule=\"evenodd\" fill-opacity=\"1\" /><path clip-path=\"url(#clip760)\" d=\"M 0 0 M57.8307 733.764 Q57.2578 734.75 57.0032 735.928 Q56.7167 737.074 56.7167 738.474 Q56.7167 743.44 59.9632 746.113 Q63.1779 748.755 69.2253 748.755 L88.0042 748.755 L88.0042 754.643 L52.3562 754.643 L52.3562 748.755 L57.8944 748.755 Q54.6479 746.909 53.0883 743.949 Q51.4968 740.989 51.4968 736.756 Q51.4968 736.151 51.5923 735.419 Q51.656 734.687 51.8151 733.796 L57.8307 733.764 Z\" fill=\"#000000\" fill-rule=\"evenodd\" fill-opacity=\"1\" /><path clip-path=\"url(#clip760)\" d=\"M 0 0 M68.7161 698.561 L71.5806 698.561 L71.5806 725.488 Q77.6281 725.106 80.8109 721.86 Q83.9619 718.582 83.9619 712.757 Q83.9619 709.383 83.1344 706.232 Q82.3069 703.049 80.6518 699.93 L86.1899 699.93 Q87.5267 703.081 88.227 706.391 Q88.9272 709.701 88.9272 713.107 Q88.9272 721.637 83.9619 726.634 Q78.9967 731.599 70.5303 731.599 Q61.7774 731.599 56.6531 726.889 Q51.4968 722.146 51.4968 714.126 Q51.4968 706.932 56.1438 702.763 Q60.7589 698.561 68.7161 698.561 M66.9973 704.418 Q62.1912 704.482 59.3266 707.123 Q56.4621 709.733 56.4621 714.062 Q56.4621 718.964 59.2312 721.924 Q62.0002 724.852 67.0292 725.297 L66.9973 704.418 Z\" fill=\"#000000\" fill-rule=\"evenodd\" fill-opacity=\"1\" /><path clip-path=\"url(#clip760)\" d=\"M 0 0 M53.4065 669.693 L58.9447 669.693 Q57.6716 672.176 57.035 674.849 Q56.3984 677.523 56.3984 680.387 Q56.3984 684.748 57.7352 686.944 Q59.072 689.108 61.7456 689.108 Q63.7826 689.108 64.9603 687.549 Q66.1061 685.989 67.1565 681.279 L67.6021 679.273 Q68.9389 673.035 71.3897 670.425 Q73.8086 667.783 78.1691 667.783 Q83.1344 667.783 86.0308 671.73 Q88.9272 675.645 88.9272 682.52 Q88.9272 685.384 88.3543 688.504 Q87.8132 691.591 86.6992 695.028 L80.6518 695.028 Q82.3387 691.782 83.198 688.631 Q84.0256 685.48 84.0256 682.393 Q84.0256 678.255 82.6251 676.027 Q81.1929 673.799 78.6147 673.799 Q76.2276 673.799 74.9545 675.422 Q73.6813 677.013 72.5037 682.456 L72.0262 684.493 Q70.8804 689.936 68.5251 692.355 Q66.138 694.774 62.0002 694.774 Q56.9713 694.774 54.2341 691.209 Q51.4968 687.644 51.4968 681.088 Q51.4968 677.841 51.9743 674.976 Q52.4517 672.112 53.4065 669.693 Z\" fill=\"#000000\" fill-rule=\"evenodd\" fill-opacity=\"1\" /><path clip-path=\"url(#clip760)\" d=\"M 0 0 M52.3562 661.64 L52.3562 655.784 L88.0042 655.784 L88.0042 661.64 L52.3562 661.64 M38.479 661.64 L38.479 655.784 L45.895 655.784 L45.895 661.64 L38.479 661.64 Z\" fill=\"#000000\" fill-rule=\"evenodd\" fill-opacity=\"1\" /><path clip-path=\"url(#clip760)\" d=\"M 0 0 M57.7671 626.183 L38.479 626.183 L38.479 620.327 L88.0042 620.327 L88.0042 626.183 L82.657 626.183 Q85.8398 628.029 87.3994 630.862 Q88.9272 633.663 88.9272 637.61 Q88.9272 644.071 83.771 648.145 Q78.6147 652.187 70.212 652.187 Q61.8093 652.187 56.6531 648.145 Q51.4968 644.071 51.4968 637.61 Q51.4968 633.663 53.0564 630.862 Q54.5842 628.029 57.7671 626.183 M70.212 646.14 Q76.6732 646.14 80.3653 643.498 Q84.0256 640.824 84.0256 636.177 Q84.0256 631.531 80.3653 628.857 Q76.6732 626.183 70.212 626.183 Q63.7508 626.183 60.0905 628.857 Q56.3984 631.531 56.3984 636.177 Q56.3984 640.824 60.0905 643.498 Q63.7508 646.14 70.212 646.14 Z\" fill=\"#000000\" fill-rule=\"evenodd\" fill-opacity=\"1\" /><path clip-path=\"url(#clip760)\" d=\"M 0 0 M73.9359 614.789 L52.3562 614.789 L52.3562 608.932 L73.7131 608.932 Q78.7739 608.932 81.3202 606.959 Q83.8346 604.986 83.8346 601.039 Q83.8346 596.296 80.8109 593.559 Q77.7872 590.79 72.5673 590.79 L52.3562 590.79 L52.3562 584.934 L88.0042 584.934 L88.0042 590.79 L82.5296 590.79 Q85.7762 592.923 87.3676 595.755 Q88.9272 598.556 88.9272 602.28 Q88.9272 608.423 85.1078 611.606 Q81.2883 614.789 73.9359 614.789 M51.4968 600.052 L51.4968 600.052 Z\" fill=\"#000000\" fill-rule=\"evenodd\" fill-opacity=\"1\" /><path clip-path=\"url(#clip760)\" d=\"M 0 0 M70.0847 562.59 Q70.0847 569.688 71.7079 572.425 Q73.3312 575.162 77.2461 575.162 Q80.3653 575.162 82.2114 573.125 Q84.0256 571.056 84.0256 567.523 Q84.0256 562.654 80.5881 559.725 Q77.1188 556.765 71.3897 556.765 L70.0847 556.765 L70.0847 562.59 M67.6657 550.909 L88.0042 550.909 L88.0042 556.765 L82.5933 556.765 Q85.8398 558.77 87.3994 561.762 Q88.9272 564.754 88.9272 569.083 Q88.9272 574.557 85.8716 577.804 Q82.7843 581.019 77.6281 581.019 Q71.6125 581.019 68.5569 577.008 Q65.5014 572.966 65.5014 564.977 L65.5014 556.765 L64.9285 556.765 Q60.8862 556.765 58.6901 559.439 Q56.4621 562.081 56.4621 566.887 Q56.4621 569.942 57.1941 572.839 Q57.9262 575.735 59.3903 578.409 L53.9795 578.409 Q52.7381 575.194 52.1334 572.17 Q51.4968 569.147 51.4968 566.282 Q51.4968 558.548 55.5072 554.728 Q59.5176 550.909 67.6657 550.909 Z\" fill=\"#000000\" fill-rule=\"evenodd\" fill-opacity=\"1\" /><path clip-path=\"url(#clip760)\" d=\"M 0 0 M38.479 544.766 L38.479 538.909 L88.0042 538.909 L88.0042 544.766 L38.479 544.766 Z\" fill=\"#000000\" fill-rule=\"evenodd\" fill-opacity=\"1\" /><polyline clip-path=\"url(#clip762)\" style=\"stroke:#009af9; stroke-width:4; stroke-opacity:1; fill:none\" points=\"\n",
       "  232.737,1135.59 274.306,1568.88 315.875,1497.24 357.444,1774.9 399.013,1556.42 440.582,1807.2 482.151,1788.53 523.72,1877.05 \n",
       "  \"/>\n",
       "</svg>\n"
      ]
     },
     "metadata": {},
     "execution_count": 33
    }
   ],
   "cell_type": "code",
   "source": [
    "plot(log.(gmres.resnorms[:]) / log(10));\n",
    "plot!(legend = false, xlims = (1, iters), ylims = (-15, 2));\n",
    "plot!(ylabel = \"log10 residual\", xlabel = \"iterations\")"
   ],
   "metadata": {},
   "execution_count": 33
  },
  {
   "cell_type": "markdown",
   "source": [
    "---\n",
    "\n",
    "*This notebook was generated using [Literate.jl](https://github.com/fredrikekre/Literate.jl).*"
   ],
   "metadata": {}
  }
 ],
 "nbformat_minor": 3,
 "metadata": {
  "language_info": {
   "file_extension": ".jl",
   "mimetype": "application/julia",
   "name": "julia",
   "version": "1.5.1"
  },
  "kernelspec": {
   "name": "julia-1.5",
   "display_name": "Julia 1.5.1",
   "language": "julia"
  }
 },
 "nbformat": 4
}
