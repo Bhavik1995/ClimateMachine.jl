{
 "cells": [
  {
   "cell_type": "markdown",
   "source": [
    "# Filters\n",
    "In this tutorial we show the result of applying filters\n",
    "available in the CliMA codebase in a 1 dimensional box advection setup.\n",
    "See [Filters API](https://clima.github.io/ClimateMachine.jl/latest/APIs/Numerics/Meshes/Mesh/#Filters-1) for filters interface details."
   ],
   "metadata": {}
  },
  {
   "outputs": [],
   "cell_type": "code",
   "source": [
    "using ClimateMachine\n",
    "const clima_dir = dirname(dirname(pathof(ClimateMachine)));\n",
    "include(joinpath(clima_dir, \"tutorials\", \"Numerics\", \"DGMethods\", \"Box1D.jl\"))\n",
    "\n",
    "output_dir = @__DIR__;\n",
    "mkpath(output_dir);"
   ],
   "metadata": {},
   "execution_count": 1
  },
  {
   "cell_type": "markdown",
   "source": [
    "The unfiltered result of the box advection test for order 4 polynomial is:"
   ],
   "metadata": {}
  },
  {
   "outputs": [
    {
     "name": "stdout",
     "output_type": "stream",
     "text": [
      "┌ Info: Model composition\n",
      "│     param_set = Main.##371.EarthParameterSet()\n",
      "│     init_q = 0.0\n",
      "│     amplitude = 1.0\n",
      "│     velo = 1.0\n",
      "└ @ ClimateMachine /home/runner/work/ClimateMachine.jl/ClimateMachine.jl/src/Driver/driver_configs.jl:102\n",
      "┌ Info: Establishing single stack configuration for Box1D\n",
      "│     precision        = Float64\n",
      "│     polynomial order = 4\n",
      "│     domain_min       = 0.00 m x0.00 m x0.00 m\n",
      "│     domain_max       = 1.00 m x1.00 m x350.00 m\n",
      "│     #vert elems      = 128\n",
      "│     MPI ranks        = 1\n",
      "│     min(Δ_horz)      = 0.17 m\n",
      "│     min(Δ_vert)      = 0.47 m\n",
      "└ @ ClimateMachine /home/runner/work/ClimateMachine.jl/ClimateMachine.jl/src/Driver/driver_configs.jl:380\n",
      "┌ Info: Initializing Box1D\n",
      "└ @ ClimateMachine /home/runner/work/ClimateMachine.jl/ClimateMachine.jl/src/Driver/solver_configs.jl:150\n",
      "┌ Info: Starting Box1D\n",
      "│     dt              = 4.71698e-01\n",
      "│     timeend         =   450.00\n",
      "│     number of steps = 954\n",
      "│     norm(Q)         = 7.0845587175365097e+00\n",
      "└ @ ClimateMachine /home/runner/work/ClimateMachine.jl/ClimateMachine.jl/src/Driver/Driver.jl:629\n",
      "┌ Info: Finished\n",
      "│     norm(Q)            = 7.0629054001772662e+00\n",
      "│     norm(Q) / norm(Q₀) = 9.9694358982364772e-01\n",
      "│     norm(Q) - norm(Q₀) = -2.1653317359243474e-02\n",
      "└ @ ClimateMachine /home/runner/work/ClimateMachine.jl/ClimateMachine.jl/src/Driver/Driver.jl:667\n",
      "read: Connection reset by peer\n",
      "send: Broken pipe\n"
     ]
    }
   ],
   "cell_type": "code",
   "source": [
    "run_box1D(4, 0.0, 1.0, 1.0, joinpath(output_dir, \"box_1D_4_no_filter.svg\"))"
   ],
   "metadata": {},
   "execution_count": 2
  },
  {
   "cell_type": "markdown",
   "source": [
    "![](box_1D_4_no_filter.svg)"
   ],
   "metadata": {}
  },
  {
   "cell_type": "markdown",
   "source": [
    "Below we show results for the same box advection test\n",
    "but using different filters."
   ],
   "metadata": {}
  },
  {
   "cell_type": "markdown",
   "source": [
    "`TMARFilter()`:"
   ],
   "metadata": {}
  },
  {
   "outputs": [
    {
     "name": "stdout",
     "output_type": "stream",
     "text": [
      "┌ Info: Model composition\n",
      "│     param_set = Main.##371.EarthParameterSet()\n",
      "│     init_q = 0.0\n",
      "│     amplitude = 1.0\n",
      "│     velo = 1.0\n",
      "└ @ ClimateMachine /home/runner/work/ClimateMachine.jl/ClimateMachine.jl/src/Driver/driver_configs.jl:102\n",
      "┌ Info: Establishing single stack configuration for Box1D\n",
      "│     precision        = Float64\n",
      "│     polynomial order = 4\n",
      "│     domain_min       = 0.00 m x0.00 m x0.00 m\n",
      "│     domain_max       = 1.00 m x1.00 m x350.00 m\n",
      "│     #vert elems      = 128\n",
      "│     MPI ranks        = 1\n",
      "│     min(Δ_horz)      = 0.17 m\n",
      "│     min(Δ_vert)      = 0.47 m\n",
      "└ @ ClimateMachine /home/runner/work/ClimateMachine.jl/ClimateMachine.jl/src/Driver/driver_configs.jl:380\n",
      "┌ Info: Initializing Box1D\n",
      "└ @ ClimateMachine /home/runner/work/ClimateMachine.jl/ClimateMachine.jl/src/Driver/solver_configs.jl:150\n",
      "┌ Info: Starting Box1D\n",
      "│     dt              = 4.71698e-01\n",
      "│     timeend         =   450.00\n",
      "│     number of steps = 954\n",
      "│     norm(Q)         = 7.0845587175365097e+00\n",
      "└ @ ClimateMachine /home/runner/work/ClimateMachine.jl/ClimateMachine.jl/src/Driver/Driver.jl:629\n",
      "┌ Info: Finished\n",
      "│     norm(Q)            = 7.0284834766754702e+00\n",
      "│     norm(Q) / norm(Q₀) = 9.9208486468998613e-01\n",
      "│     norm(Q) - norm(Q₀) = -5.6075240861039433e-02\n",
      "└ @ ClimateMachine /home/runner/work/ClimateMachine.jl/ClimateMachine.jl/src/Driver/Driver.jl:667\n"
     ]
    }
   ],
   "cell_type": "code",
   "source": [
    "run_box1D(\n",
    "    4,\n",
    "    0.0,\n",
    "    1.0,\n",
    "    1.0,\n",
    "    joinpath(output_dir, \"box_1D_4_tmar.svg\");\n",
    "    tmar_filter = true,\n",
    ")"
   ],
   "metadata": {},
   "execution_count": 3
  },
  {
   "cell_type": "markdown",
   "source": [
    "![](box_1D_4_tmar.svg)"
   ],
   "metadata": {}
  },
  {
   "cell_type": "markdown",
   "source": [
    "`CutoffFilter(grid, Nc=1)`:"
   ],
   "metadata": {}
  },
  {
   "outputs": [
    {
     "name": "stdout",
     "output_type": "stream",
     "text": [
      "┌ Info: Model composition\n",
      "│     param_set = Main.##371.EarthParameterSet()\n",
      "│     init_q = 0.0\n",
      "│     amplitude = 1.0\n",
      "│     velo = 1.0\n",
      "└ @ ClimateMachine /home/runner/work/ClimateMachine.jl/ClimateMachine.jl/src/Driver/driver_configs.jl:102\n",
      "┌ Info: Establishing single stack configuration for Box1D\n",
      "│     precision        = Float64\n",
      "│     polynomial order = 4\n",
      "│     domain_min       = 0.00 m x0.00 m x0.00 m\n",
      "│     domain_max       = 1.00 m x1.00 m x350.00 m\n",
      "│     #vert elems      = 128\n",
      "│     MPI ranks        = 1\n",
      "│     min(Δ_horz)      = 0.17 m\n",
      "│     min(Δ_vert)      = 0.47 m\n",
      "└ @ ClimateMachine /home/runner/work/ClimateMachine.jl/ClimateMachine.jl/src/Driver/driver_configs.jl:380\n",
      "┌ Info: Initializing Box1D\n",
      "└ @ ClimateMachine /home/runner/work/ClimateMachine.jl/ClimateMachine.jl/src/Driver/solver_configs.jl:150\n",
      "┌ Info: Starting Box1D\n",
      "│     dt              = 4.71698e-01\n",
      "│     timeend         =   450.00\n",
      "│     number of steps = 954\n",
      "│     norm(Q)         = 7.0845587175365097e+00\n",
      "└ @ ClimateMachine /home/runner/work/ClimateMachine.jl/ClimateMachine.jl/src/Driver/Driver.jl:629\n",
      "┌ Info: Finished\n",
      "│     norm(Q)            = 4.3749269099665495e+00\n",
      "│     norm(Q) / norm(Q₀) = 6.1752991038626448e-01\n",
      "│     norm(Q) - norm(Q₀) = -2.7096318075699601e+00\n",
      "└ @ ClimateMachine /home/runner/work/ClimateMachine.jl/ClimateMachine.jl/src/Driver/Driver.jl:667\n"
     ]
    }
   ],
   "cell_type": "code",
   "source": [
    "run_box1D(\n",
    "    4,\n",
    "    0.0,\n",
    "    1.0,\n",
    "    1.0,\n",
    "    joinpath(output_dir, \"box_1D_4_cutoff_1.svg\");\n",
    "    cutoff_filter = true,\n",
    "    cutoff_param = 1,\n",
    ")"
   ],
   "metadata": {},
   "execution_count": 4
  },
  {
   "cell_type": "markdown",
   "source": [
    "![](box_1D_4_cutoff_1.svg)"
   ],
   "metadata": {}
  },
  {
   "cell_type": "markdown",
   "source": [
    "`CutoffFilter(grid, Nc=3)`:"
   ],
   "metadata": {}
  },
  {
   "outputs": [
    {
     "name": "stdout",
     "output_type": "stream",
     "text": [
      "┌ Info: Model composition\n",
      "│     param_set = Main.##371.EarthParameterSet()\n",
      "│     init_q = 0.0\n",
      "│     amplitude = 1.0\n",
      "│     velo = 1.0\n",
      "└ @ ClimateMachine /home/runner/work/ClimateMachine.jl/ClimateMachine.jl/src/Driver/driver_configs.jl:102\n",
      "┌ Info: Establishing single stack configuration for Box1D\n",
      "│     precision        = Float64\n",
      "│     polynomial order = 4\n",
      "│     domain_min       = 0.00 m x0.00 m x0.00 m\n",
      "│     domain_max       = 1.00 m x1.00 m x350.00 m\n",
      "│     #vert elems      = 128\n",
      "│     MPI ranks        = 1\n",
      "│     min(Δ_horz)      = 0.17 m\n",
      "│     min(Δ_vert)      = 0.47 m\n",
      "└ @ ClimateMachine /home/runner/work/ClimateMachine.jl/ClimateMachine.jl/src/Driver/driver_configs.jl:380\n",
      "┌ Info: Initializing Box1D\n",
      "└ @ ClimateMachine /home/runner/work/ClimateMachine.jl/ClimateMachine.jl/src/Driver/solver_configs.jl:150\n",
      "┌ Info: Starting Box1D\n",
      "│     dt              = 4.71698e-01\n",
      "│     timeend         =   450.00\n",
      "│     number of steps = 954\n",
      "│     norm(Q)         = 7.0845587175365097e+00\n",
      "└ @ ClimateMachine /home/runner/work/ClimateMachine.jl/ClimateMachine.jl/src/Driver/Driver.jl:629\n",
      "┌ Info: Finished\n",
      "│     norm(Q)            = 7.0138240459753689e+00\n",
      "│     norm(Q) / norm(Q₀) = 9.9001565596653884e-01\n",
      "│     norm(Q) - norm(Q₀) = -7.0734671561140772e-02\n",
      "└ @ ClimateMachine /home/runner/work/ClimateMachine.jl/ClimateMachine.jl/src/Driver/Driver.jl:667\n"
     ]
    }
   ],
   "cell_type": "code",
   "source": [
    "run_box1D(\n",
    "    4,\n",
    "    0.0,\n",
    "    1.0,\n",
    "    1.0,\n",
    "    joinpath(output_dir, \"box_1D_4_cutoff_3.svg\");\n",
    "    cutoff_filter = true,\n",
    "    cutoff_param = 3,\n",
    ")"
   ],
   "metadata": {},
   "execution_count": 5
  },
  {
   "cell_type": "markdown",
   "source": [
    "![](box_1D_4_cutoff_3.svg)"
   ],
   "metadata": {}
  },
  {
   "cell_type": "markdown",
   "source": [
    "`ExponentialFilter(grid, Nc=1, s=4)`:"
   ],
   "metadata": {}
  },
  {
   "outputs": [
    {
     "name": "stdout",
     "output_type": "stream",
     "text": [
      "┌ Info: Model composition\n",
      "│     param_set = Main.##371.EarthParameterSet()\n",
      "│     init_q = 0.0\n",
      "│     amplitude = 1.0\n",
      "│     velo = 1.0\n",
      "└ @ ClimateMachine /home/runner/work/ClimateMachine.jl/ClimateMachine.jl/src/Driver/driver_configs.jl:102\n",
      "┌ Info: Establishing single stack configuration for Box1D\n",
      "│     precision        = Float64\n",
      "│     polynomial order = 4\n",
      "│     domain_min       = 0.00 m x0.00 m x0.00 m\n",
      "│     domain_max       = 1.00 m x1.00 m x350.00 m\n",
      "│     #vert elems      = 128\n",
      "│     MPI ranks        = 1\n",
      "│     min(Δ_horz)      = 0.17 m\n",
      "│     min(Δ_vert)      = 0.47 m\n",
      "└ @ ClimateMachine /home/runner/work/ClimateMachine.jl/ClimateMachine.jl/src/Driver/driver_configs.jl:380\n",
      "┌ Info: Initializing Box1D\n",
      "└ @ ClimateMachine /home/runner/work/ClimateMachine.jl/ClimateMachine.jl/src/Driver/solver_configs.jl:150\n",
      "┌ Info: Starting Box1D\n",
      "│     dt              = 4.71698e-01\n",
      "│     timeend         =   450.00\n",
      "│     number of steps = 954\n",
      "│     norm(Q)         = 7.0845587175365097e+00\n",
      "└ @ ClimateMachine /home/runner/work/ClimateMachine.jl/ClimateMachine.jl/src/Driver/Driver.jl:629\n",
      "┌ Info: Finished\n",
      "│     norm(Q)            = 6.9333444856508653e+00\n",
      "│     norm(Q) / norm(Q₀) = 9.7865580088829784e-01\n",
      "│     norm(Q) - norm(Q₀) = -1.5121423188564442e-01\n",
      "└ @ ClimateMachine /home/runner/work/ClimateMachine.jl/ClimateMachine.jl/src/Driver/Driver.jl:667\n"
     ]
    }
   ],
   "cell_type": "code",
   "source": [
    "run_box1D(\n",
    "    4,\n",
    "    0.0,\n",
    "    1.0,\n",
    "    1.0,\n",
    "    joinpath(output_dir, \"box_1D_4_exp_1_4.svg\");\n",
    "    exp_filter = true,\n",
    "    exp_param_1 = 1,\n",
    "    exp_param_2 = 4,\n",
    ")"
   ],
   "metadata": {},
   "execution_count": 6
  },
  {
   "cell_type": "markdown",
   "source": [
    "![](box_1D_4_exp_1_4.svg)"
   ],
   "metadata": {}
  },
  {
   "cell_type": "markdown",
   "source": [
    "`ExponentialFilter(grid, Nc=1, s=8)`:"
   ],
   "metadata": {}
  },
  {
   "outputs": [
    {
     "name": "stdout",
     "output_type": "stream",
     "text": [
      "┌ Info: Model composition\n",
      "│     param_set = Main.##371.EarthParameterSet()\n",
      "│     init_q = 0.0\n",
      "│     amplitude = 1.0\n",
      "│     velo = 1.0\n",
      "└ @ ClimateMachine /home/runner/work/ClimateMachine.jl/ClimateMachine.jl/src/Driver/driver_configs.jl:102\n",
      "┌ Info: Establishing single stack configuration for Box1D\n",
      "│     precision        = Float64\n",
      "│     polynomial order = 4\n",
      "│     domain_min       = 0.00 m x0.00 m x0.00 m\n",
      "│     domain_max       = 1.00 m x1.00 m x350.00 m\n",
      "│     #vert elems      = 128\n",
      "│     MPI ranks        = 1\n",
      "│     min(Δ_horz)      = 0.17 m\n",
      "│     min(Δ_vert)      = 0.47 m\n",
      "└ @ ClimateMachine /home/runner/work/ClimateMachine.jl/ClimateMachine.jl/src/Driver/driver_configs.jl:380\n",
      "┌ Info: Initializing Box1D\n",
      "└ @ ClimateMachine /home/runner/work/ClimateMachine.jl/ClimateMachine.jl/src/Driver/solver_configs.jl:150\n",
      "┌ Info: Starting Box1D\n",
      "│     dt              = 4.71698e-01\n",
      "│     timeend         =   450.00\n",
      "│     number of steps = 954\n",
      "│     norm(Q)         = 7.0845587175365097e+00\n",
      "└ @ ClimateMachine /home/runner/work/ClimateMachine.jl/ClimateMachine.jl/src/Driver/Driver.jl:629\n",
      "┌ Info: Finished\n",
      "│     norm(Q)            = 7.0143099503310449e+00\n",
      "│     norm(Q) / norm(Q₀) = 9.9008424236338433e-01\n",
      "│     norm(Q) - norm(Q₀) = -7.0248767205464802e-02\n",
      "└ @ ClimateMachine /home/runner/work/ClimateMachine.jl/ClimateMachine.jl/src/Driver/Driver.jl:667\n"
     ]
    }
   ],
   "cell_type": "code",
   "source": [
    "run_box1D(\n",
    "    4,\n",
    "    0.0,\n",
    "    1.0,\n",
    "    1.0,\n",
    "    joinpath(output_dir, \"box_1D_4_exp_1_8.svg\");\n",
    "    exp_filter = true,\n",
    "    exp_param_1 = 1,\n",
    "    exp_param_2 = 8,\n",
    ")"
   ],
   "metadata": {},
   "execution_count": 7
  },
  {
   "cell_type": "markdown",
   "source": [
    "![](box_1D_4_exp_1_8.svg)"
   ],
   "metadata": {}
  },
  {
   "cell_type": "markdown",
   "source": [
    "`ExponentialFilter(grid, Nc=1, s=32)`:"
   ],
   "metadata": {}
  },
  {
   "outputs": [
    {
     "name": "stdout",
     "output_type": "stream",
     "text": [
      "┌ Info: Model composition\n",
      "│     param_set = Main.##371.EarthParameterSet()\n",
      "│     init_q = 0.0\n",
      "│     amplitude = 1.0\n",
      "│     velo = 1.0\n",
      "└ @ ClimateMachine /home/runner/work/ClimateMachine.jl/ClimateMachine.jl/src/Driver/driver_configs.jl:102\n",
      "┌ Info: Establishing single stack configuration for Box1D\n",
      "│     precision        = Float64\n",
      "│     polynomial order = 4\n",
      "│     domain_min       = 0.00 m x0.00 m x0.00 m\n",
      "│     domain_max       = 1.00 m x1.00 m x350.00 m\n",
      "│     #vert elems      = 128\n",
      "│     MPI ranks        = 1\n",
      "│     min(Δ_horz)      = 0.17 m\n",
      "│     min(Δ_vert)      = 0.47 m\n",
      "└ @ ClimateMachine /home/runner/work/ClimateMachine.jl/ClimateMachine.jl/src/Driver/driver_configs.jl:380\n",
      "┌ Info: Initializing Box1D\n",
      "└ @ ClimateMachine /home/runner/work/ClimateMachine.jl/ClimateMachine.jl/src/Driver/solver_configs.jl:150\n",
      "┌ Info: Starting Box1D\n",
      "│     dt              = 4.71698e-01\n",
      "│     timeend         =   450.00\n",
      "│     number of steps = 954\n",
      "│     norm(Q)         = 7.0845587175365097e+00\n",
      "└ @ ClimateMachine /home/runner/work/ClimateMachine.jl/ClimateMachine.jl/src/Driver/Driver.jl:629\n",
      "┌ Info: Finished\n",
      "│     norm(Q)            = 7.0543517922306584e+00\n",
      "│     norm(Q) / norm(Q₀) = 9.9573623051057791e-01\n",
      "│     norm(Q) - norm(Q₀) = -3.0206925305851229e-02\n",
      "└ @ ClimateMachine /home/runner/work/ClimateMachine.jl/ClimateMachine.jl/src/Driver/Driver.jl:667\n"
     ]
    }
   ],
   "cell_type": "code",
   "source": [
    "run_box1D(\n",
    "    4,\n",
    "    0.0,\n",
    "    1.0,\n",
    "    1.0,\n",
    "    joinpath(output_dir, \"box_1D_4_exp_1_32.svg\");\n",
    "    exp_filter = true,\n",
    "    exp_param_1 = 1,\n",
    "    exp_param_2 = 32,\n",
    ")"
   ],
   "metadata": {},
   "execution_count": 8
  },
  {
   "cell_type": "markdown",
   "source": [
    "![](box_1D_4_exp_1_32.svg)"
   ],
   "metadata": {}
  },
  {
   "cell_type": "markdown",
   "source": [
    "`BoydVandevenFilter(grid, Nc=1, s=4)`:"
   ],
   "metadata": {}
  },
  {
   "outputs": [
    {
     "name": "stdout",
     "output_type": "stream",
     "text": [
      "┌ Info: Model composition\n",
      "│     param_set = Main.##371.EarthParameterSet()\n",
      "│     init_q = 0.0\n",
      "│     amplitude = 1.0\n",
      "│     velo = 1.0\n",
      "└ @ ClimateMachine /home/runner/work/ClimateMachine.jl/ClimateMachine.jl/src/Driver/driver_configs.jl:102\n",
      "┌ Info: Establishing single stack configuration for Box1D\n",
      "│     precision        = Float64\n",
      "│     polynomial order = 4\n",
      "│     domain_min       = 0.00 m x0.00 m x0.00 m\n",
      "│     domain_max       = 1.00 m x1.00 m x350.00 m\n",
      "│     #vert elems      = 128\n",
      "│     MPI ranks        = 1\n",
      "│     min(Δ_horz)      = 0.17 m\n",
      "│     min(Δ_vert)      = 0.47 m\n",
      "└ @ ClimateMachine /home/runner/work/ClimateMachine.jl/ClimateMachine.jl/src/Driver/driver_configs.jl:380\n",
      "┌ Info: Initializing Box1D\n",
      "└ @ ClimateMachine /home/runner/work/ClimateMachine.jl/ClimateMachine.jl/src/Driver/solver_configs.jl:150\n",
      "┌ Info: Starting Box1D\n",
      "│     dt              = 4.71698e-01\n",
      "│     timeend         =   450.00\n",
      "│     number of steps = 954\n",
      "│     norm(Q)         = 7.0845587175365097e+00\n",
      "└ @ ClimateMachine /home/runner/work/ClimateMachine.jl/ClimateMachine.jl/src/Driver/Driver.jl:629\n",
      "┌ Info: Finished\n",
      "│     norm(Q)            = 6.9612435701258786e+00\n",
      "│     norm(Q) / norm(Q₀) = 9.8259381390891898e-01\n",
      "│     norm(Q) - norm(Q₀) = -1.2331514741063110e-01\n",
      "└ @ ClimateMachine /home/runner/work/ClimateMachine.jl/ClimateMachine.jl/src/Driver/Driver.jl:667\n"
     ]
    }
   ],
   "cell_type": "code",
   "source": [
    "run_box1D(\n",
    "    4,\n",
    "    0.0,\n",
    "    1.0,\n",
    "    1.0,\n",
    "    joinpath(output_dir, \"box_1D_4_boyd_1_4.svg\");\n",
    "    boyd_filter = true,\n",
    "    boyd_param_1 = 1,\n",
    "    boyd_param_2 = 4,\n",
    ")"
   ],
   "metadata": {},
   "execution_count": 9
  },
  {
   "cell_type": "markdown",
   "source": [
    "![](box_1D_4_boyd_1_4.svg)"
   ],
   "metadata": {}
  },
  {
   "cell_type": "markdown",
   "source": [
    "`BoydVandevenFilter(grid, Nc=1, s=8)`:"
   ],
   "metadata": {}
  },
  {
   "outputs": [
    {
     "name": "stdout",
     "output_type": "stream",
     "text": [
      "┌ Info: Model composition\n",
      "│     param_set = Main.##371.EarthParameterSet()\n",
      "│     init_q = 0.0\n",
      "│     amplitude = 1.0\n",
      "│     velo = 1.0\n",
      "└ @ ClimateMachine /home/runner/work/ClimateMachine.jl/ClimateMachine.jl/src/Driver/driver_configs.jl:102\n",
      "┌ Info: Establishing single stack configuration for Box1D\n",
      "│     precision        = Float64\n",
      "│     polynomial order = 4\n",
      "│     domain_min       = 0.00 m x0.00 m x0.00 m\n",
      "│     domain_max       = 1.00 m x1.00 m x350.00 m\n",
      "│     #vert elems      = 128\n",
      "│     MPI ranks        = 1\n",
      "│     min(Δ_horz)      = 0.17 m\n",
      "│     min(Δ_vert)      = 0.47 m\n",
      "└ @ ClimateMachine /home/runner/work/ClimateMachine.jl/ClimateMachine.jl/src/Driver/driver_configs.jl:380\n",
      "┌ Info: Initializing Box1D\n",
      "└ @ ClimateMachine /home/runner/work/ClimateMachine.jl/ClimateMachine.jl/src/Driver/solver_configs.jl:150\n",
      "┌ Info: Starting Box1D\n",
      "│     dt              = 4.71698e-01\n",
      "│     timeend         =   450.00\n",
      "│     number of steps = 954\n",
      "│     norm(Q)         = 7.0845587175365097e+00\n",
      "└ @ ClimateMachine /home/runner/work/ClimateMachine.jl/ClimateMachine.jl/src/Driver/Driver.jl:629\n",
      "┌ Info: Finished\n",
      "│     norm(Q)            = 6.9798736717027356e+00\n",
      "│     norm(Q) / norm(Q₀) = 9.8522349097415962e-01\n",
      "│     norm(Q) - norm(Q₀) = -1.0468504583377403e-01\n",
      "└ @ ClimateMachine /home/runner/work/ClimateMachine.jl/ClimateMachine.jl/src/Driver/Driver.jl:667\n"
     ]
    }
   ],
   "cell_type": "code",
   "source": [
    "run_box1D(\n",
    "    4,\n",
    "    0.0,\n",
    "    1.0,\n",
    "    1.0,\n",
    "    joinpath(output_dir, \"box_1D_4_boyd_1_8.svg\");\n",
    "    boyd_filter = true,\n",
    "    boyd_param_1 = 1,\n",
    "    boyd_param_2 = 8,\n",
    ")"
   ],
   "metadata": {},
   "execution_count": 10
  },
  {
   "cell_type": "markdown",
   "source": [
    "![](box_1D_4_boyd_1_8.svg)"
   ],
   "metadata": {}
  },
  {
   "cell_type": "markdown",
   "source": [
    "`BoydVandevenFilter(grid, Nc=1, s=32)`:"
   ],
   "metadata": {}
  },
  {
   "outputs": [
    {
     "name": "stdout",
     "output_type": "stream",
     "text": [
      "┌ Info: Model composition\n",
      "│     param_set = Main.##371.EarthParameterSet()\n",
      "│     init_q = 0.0\n",
      "│     amplitude = 1.0\n",
      "│     velo = 1.0\n",
      "└ @ ClimateMachine /home/runner/work/ClimateMachine.jl/ClimateMachine.jl/src/Driver/driver_configs.jl:102\n",
      "┌ Info: Establishing single stack configuration for Box1D\n",
      "│     precision        = Float64\n",
      "│     polynomial order = 4\n",
      "│     domain_min       = 0.00 m x0.00 m x0.00 m\n",
      "│     domain_max       = 1.00 m x1.00 m x350.00 m\n",
      "│     #vert elems      = 128\n",
      "│     MPI ranks        = 1\n",
      "│     min(Δ_horz)      = 0.17 m\n",
      "│     min(Δ_vert)      = 0.47 m\n",
      "└ @ ClimateMachine /home/runner/work/ClimateMachine.jl/ClimateMachine.jl/src/Driver/driver_configs.jl:380\n",
      "┌ Info: Initializing Box1D\n",
      "└ @ ClimateMachine /home/runner/work/ClimateMachine.jl/ClimateMachine.jl/src/Driver/solver_configs.jl:150\n",
      "┌ Info: Starting Box1D\n",
      "│     dt              = 4.71698e-01\n",
      "│     timeend         =   450.00\n",
      "│     number of steps = 954\n",
      "│     norm(Q)         = 7.0845587175365097e+00\n",
      "└ @ ClimateMachine /home/runner/work/ClimateMachine.jl/ClimateMachine.jl/src/Driver/Driver.jl:629\n",
      "┌ Info: Finished\n",
      "│     norm(Q)            = 7.0120419256483215e+00\n",
      "│     norm(Q) / norm(Q₀) = 9.8976410602558962e-01\n",
      "│     norm(Q) - norm(Q₀) = -7.2516791888188159e-02\n",
      "└ @ ClimateMachine /home/runner/work/ClimateMachine.jl/ClimateMachine.jl/src/Driver/Driver.jl:667\n"
     ]
    }
   ],
   "cell_type": "code",
   "source": [
    "run_box1D(\n",
    "    4,\n",
    "    0.0,\n",
    "    1.0,\n",
    "    1.0,\n",
    "    joinpath(output_dir, \"box_1D_4_boyd_1_32.svg\");\n",
    "    boyd_filter = true,\n",
    "    boyd_param_1 = 1,\n",
    "    boyd_param_2 = 32,\n",
    ")"
   ],
   "metadata": {},
   "execution_count": 11
  },
  {
   "cell_type": "markdown",
   "source": [
    "![](box_1D_4_boyd_1_32.svg)"
   ],
   "metadata": {}
  },
  {
   "cell_type": "markdown",
   "source": [
    "`ExponentialFilter(grid, Nc=1, s=8)` and `TMARFilter()`:"
   ],
   "metadata": {}
  },
  {
   "outputs": [
    {
     "name": "stdout",
     "output_type": "stream",
     "text": [
      "┌ Info: Model composition\n",
      "│     param_set = Main.##371.EarthParameterSet()\n",
      "│     init_q = 0.0\n",
      "│     amplitude = 1.0\n",
      "│     velo = 1.0\n",
      "└ @ ClimateMachine /home/runner/work/ClimateMachine.jl/ClimateMachine.jl/src/Driver/driver_configs.jl:102\n",
      "┌ Info: Establishing single stack configuration for Box1D\n",
      "│     precision        = Float64\n",
      "│     polynomial order = 4\n",
      "│     domain_min       = 0.00 m x0.00 m x0.00 m\n",
      "│     domain_max       = 1.00 m x1.00 m x350.00 m\n",
      "│     #vert elems      = 128\n",
      "│     MPI ranks        = 1\n",
      "│     min(Δ_horz)      = 0.17 m\n",
      "│     min(Δ_vert)      = 0.47 m\n",
      "└ @ ClimateMachine /home/runner/work/ClimateMachine.jl/ClimateMachine.jl/src/Driver/driver_configs.jl:380\n",
      "┌ Info: Initializing Box1D\n",
      "└ @ ClimateMachine /home/runner/work/ClimateMachine.jl/ClimateMachine.jl/src/Driver/solver_configs.jl:150\n",
      "┌ Info: Starting Box1D\n",
      "│     dt              = 4.71698e-01\n",
      "│     timeend         =   450.00\n",
      "│     number of steps = 954\n",
      "│     norm(Q)         = 7.0845587175365097e+00\n",
      "└ @ ClimateMachine /home/runner/work/ClimateMachine.jl/ClimateMachine.jl/src/Driver/Driver.jl:629\n",
      "┌ Info: Finished\n",
      "│     norm(Q)            = 6.9859473293757572e+00\n",
      "│     norm(Q) / norm(Q₀) = 9.8608080021742806e-01\n",
      "│     norm(Q) - norm(Q₀) = -9.8611388160752433e-02\n",
      "└ @ ClimateMachine /home/runner/work/ClimateMachine.jl/ClimateMachine.jl/src/Driver/Driver.jl:667\n"
     ]
    }
   ],
   "cell_type": "code",
   "source": [
    "run_box1D(\n",
    "    4,\n",
    "    0.0,\n",
    "    1.0,\n",
    "    1.0,\n",
    "    joinpath(output_dir, \"box_1D_4_tmar_exp_1_8.svg\");\n",
    "    exp_filter = true,\n",
    "    tmar_filter = true,\n",
    "    exp_param_1 = 1,\n",
    "    exp_param_2 = 8,\n",
    ")"
   ],
   "metadata": {},
   "execution_count": 12
  },
  {
   "cell_type": "markdown",
   "source": [
    "![](box_1D_4_tmar_exp_1_8.svg)"
   ],
   "metadata": {}
  },
  {
   "cell_type": "markdown",
   "source": [
    "`BoydVandevenFilter(grid, Nc=1, s=8)` and `TMARFilter()`:"
   ],
   "metadata": {}
  },
  {
   "outputs": [
    {
     "name": "stdout",
     "output_type": "stream",
     "text": [
      "┌ Info: Model composition\n",
      "│     param_set = Main.##371.EarthParameterSet()\n",
      "│     init_q = 0.0\n",
      "│     amplitude = 1.0\n",
      "│     velo = 1.0\n",
      "└ @ ClimateMachine /home/runner/work/ClimateMachine.jl/ClimateMachine.jl/src/Driver/driver_configs.jl:102\n",
      "┌ Info: Establishing single stack configuration for Box1D\n",
      "│     precision        = Float64\n",
      "│     polynomial order = 4\n",
      "│     domain_min       = 0.00 m x0.00 m x0.00 m\n",
      "│     domain_max       = 1.00 m x1.00 m x350.00 m\n",
      "│     #vert elems      = 128\n",
      "│     MPI ranks        = 1\n",
      "│     min(Δ_horz)      = 0.17 m\n",
      "│     min(Δ_vert)      = 0.47 m\n",
      "└ @ ClimateMachine /home/runner/work/ClimateMachine.jl/ClimateMachine.jl/src/Driver/driver_configs.jl:380\n",
      "┌ Info: Initializing Box1D\n",
      "└ @ ClimateMachine /home/runner/work/ClimateMachine.jl/ClimateMachine.jl/src/Driver/solver_configs.jl:150\n",
      "┌ Info: Starting Box1D\n",
      "│     dt              = 4.71698e-01\n",
      "│     timeend         =   450.00\n",
      "│     number of steps = 954\n",
      "│     norm(Q)         = 7.0845587175365097e+00\n",
      "└ @ ClimateMachine /home/runner/work/ClimateMachine.jl/ClimateMachine.jl/src/Driver/Driver.jl:629\n",
      "┌ Info: Finished\n",
      "│     norm(Q)            = 6.9548646819398572e+00\n",
      "│     norm(Q) / norm(Q₀) = 9.8169342075242894e-01\n",
      "│     norm(Q) - norm(Q₀) = -1.2969403559665249e-01\n",
      "└ @ ClimateMachine /home/runner/work/ClimateMachine.jl/ClimateMachine.jl/src/Driver/Driver.jl:667\n"
     ]
    }
   ],
   "cell_type": "code",
   "source": [
    "run_box1D(\n",
    "    4,\n",
    "    0.0,\n",
    "    1.0,\n",
    "    1.0,\n",
    "    joinpath(output_dir, \"box_1D_4_tmar_boyd_1_8.svg\");\n",
    "    boyd_filter = true,\n",
    "    tmar_filter = true,\n",
    "    boyd_param_1 = 1,\n",
    "    boyd_param_2 = 8,\n",
    ")"
   ],
   "metadata": {},
   "execution_count": 13
  },
  {
   "cell_type": "markdown",
   "source": [
    "![](box_1D_4_tmar_boyd_1_8.svg)"
   ],
   "metadata": {}
  },
  {
   "cell_type": "markdown",
   "source": [
    "---\n",
    "\n",
    "*This notebook was generated using [Literate.jl](https://github.com/fredrikekre/Literate.jl).*"
   ],
   "metadata": {}
  }
 ],
 "nbformat_minor": 3,
 "metadata": {
  "language_info": {
   "file_extension": ".jl",
   "mimetype": "application/julia",
   "name": "julia",
   "version": "1.4.2"
  },
  "kernelspec": {
   "name": "julia-1.4",
   "display_name": "Julia 1.4.2",
   "language": "julia"
  }
 },
 "nbformat": 4
}
