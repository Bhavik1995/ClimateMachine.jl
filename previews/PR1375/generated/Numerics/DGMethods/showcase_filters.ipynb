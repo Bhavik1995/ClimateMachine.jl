{
 "cells": [
  {
   "cell_type": "markdown",
   "source": [
    "# Filters\n",
    "In this tutorial we show the result of applying filters\n",
    "available in the CliMA codebase in a 1 dimensional box advection setup.\n",
    "See [Filters API](https://clima.github.io/ClimateMachine.jl/latest/APIs/Numerics/Meshes/Mesh/#Filters-1) for filters interface details."
   ],
   "metadata": {}
  },
  {
   "outputs": [
    {
     "output_type": "execute_result",
     "data": {
      "text/plain": "run_box1D (generic function with 1 method)"
     },
     "metadata": {},
     "execution_count": 1
    }
   ],
   "cell_type": "code",
   "source": [
    "ENV[\"JULIA_LOG_LEVEL\"] = \"WARN\"\n",
    "using ClimateMachine\n",
    "const clima_dir = dirname(dirname(pathof(ClimateMachine)));\n",
    "include(joinpath(clima_dir, \"tutorials\", \"Numerics\", \"DGMethods\", \"Box1D.jl\"))"
   ],
   "metadata": {},
   "execution_count": 1
  },
  {
   "cell_type": "markdown",
   "source": [
    "The unfiltered result of the box advection test for order 4 polynomial is:"
   ],
   "metadata": {}
  },
  {
   "outputs": [
    {
     "name": "stdout",
     "output_type": "stream",
     "text": [
      "┌ Info: Model composition\n",
      "│     param_set = Main.##371.EarthParameterSet()\n",
      "│     init_q = 0.0\n",
      "│     amplitude = 1.0\n",
      "│     velo = 1.0\n",
      "└ @ ClimateMachine /home/runner/work/ClimateMachine.jl/ClimateMachine.jl/src/Driver/driver_configs.jl:102\n",
      "┌ Info: Establishing single stack configuration for Box1D\n",
      "│     precision        = Float64\n",
      "│     polynomial order = 4\n",
      "│     domain_min       = 0.00 m x0.00 m x0.00 m\n",
      "│     domain_max       = 1.00 m x1.00 m x450.00 m\n",
      "│     #vert elems      = 128\n",
      "│     MPI ranks        = 1\n",
      "│     min(Δ_horz)      = 0.17 m\n",
      "│     min(Δ_vert)      = 0.61 m\n",
      "└ @ ClimateMachine /home/runner/work/ClimateMachine.jl/ClimateMachine.jl/src/Driver/driver_configs.jl:380\n",
      "┌ Info: Initializing Box1D\n",
      "└ @ ClimateMachine /home/runner/work/ClimateMachine.jl/ClimateMachine.jl/src/Driver/solver_configs.jl:150\n",
      "┌ Info: Starting Box1D\n",
      "│     dt              = 6.06673e-01\n",
      "│     timeend         =   600.00\n",
      "│     number of steps = 989\n",
      "│     norm(Q)         = 7.1041361191914145e+00\n",
      "└ @ ClimateMachine /home/runner/work/ClimateMachine.jl/ClimateMachine.jl/src/Driver/Driver.jl:629\n",
      "┌ Info: Finished\n",
      "│     norm(Q)            = 7.0760374574370060e+00\n",
      "│     norm(Q) / norm(Q₀) = 9.9604474614745886e-01\n",
      "│     norm(Q) - norm(Q₀) = -2.8098661754408560e-02\n",
      "└ @ ClimateMachine /home/runner/work/ClimateMachine.jl/ClimateMachine.jl/src/Driver/Driver.jl:667\n"
     ]
    }
   ],
   "cell_type": "code",
   "source": [
    "run_box1D(4, 0.0, 1.0, 1.0, \"box_1D_4_no_filter.svg\");"
   ],
   "metadata": {},
   "execution_count": 2
  },
  {
   "cell_type": "markdown",
   "source": [
    "![](box_1D_4_no_filter.svg)"
   ],
   "metadata": {}
  },
  {
   "cell_type": "markdown",
   "source": [
    "Below we show results for the same box advection test but using different filters."
   ],
   "metadata": {}
  },
  {
   "cell_type": "markdown",
   "source": [
    "`TMARFilter()`:"
   ],
   "metadata": {}
  },
  {
   "outputs": [
    {
     "name": "stdout",
     "output_type": "stream",
     "text": [
      "┌ Info: Model composition\n",
      "│     param_set = Main.##371.EarthParameterSet()\n",
      "│     init_q = 0.0\n",
      "│     amplitude = 1.0\n",
      "│     velo = 1.0\n",
      "└ @ ClimateMachine /home/runner/work/ClimateMachine.jl/ClimateMachine.jl/src/Driver/driver_configs.jl:102\n",
      "┌ Info: Establishing single stack configuration for Box1D\n",
      "│     precision        = Float64\n",
      "│     polynomial order = 4\n",
      "│     domain_min       = 0.00 m x0.00 m x0.00 m\n",
      "│     domain_max       = 1.00 m x1.00 m x450.00 m\n",
      "│     #vert elems      = 128\n",
      "│     MPI ranks        = 1\n",
      "│     min(Δ_horz)      = 0.17 m\n",
      "│     min(Δ_vert)      = 0.61 m\n",
      "└ @ ClimateMachine /home/runner/work/ClimateMachine.jl/ClimateMachine.jl/src/Driver/driver_configs.jl:380\n",
      "┌ Info: Initializing Box1D\n",
      "└ @ ClimateMachine /home/runner/work/ClimateMachine.jl/ClimateMachine.jl/src/Driver/solver_configs.jl:150\n",
      "┌ Info: Starting Box1D\n",
      "│     dt              = 6.06673e-01\n",
      "│     timeend         =   600.00\n",
      "│     number of steps = 989\n",
      "│     norm(Q)         = 7.1041361191914145e+00\n",
      "└ @ ClimateMachine /home/runner/work/ClimateMachine.jl/ClimateMachine.jl/src/Driver/Driver.jl:629\n",
      "┌ Info: Finished\n",
      "│     norm(Q)            = 7.0307911631164117e+00\n",
      "│     norm(Q) / norm(Q₀) = 9.8967573891540939e-01\n",
      "│     norm(Q) - norm(Q₀) = -7.3344956075002798e-02\n",
      "└ @ ClimateMachine /home/runner/work/ClimateMachine.jl/ClimateMachine.jl/src/Driver/Driver.jl:667\n"
     ]
    }
   ],
   "cell_type": "code",
   "source": [
    "run_box1D(4, 0.0, 1.0, 1.0, \"box_1D_4_tmar.svg\", tmar_filter = true);"
   ],
   "metadata": {},
   "execution_count": 3
  },
  {
   "cell_type": "markdown",
   "source": [
    "![](box_1D_4_tmar.svg)"
   ],
   "metadata": {}
  },
  {
   "cell_type": "markdown",
   "source": [
    "`CutoffFilter(grid, Nc=1)`:"
   ],
   "metadata": {}
  },
  {
   "outputs": [
    {
     "name": "stdout",
     "output_type": "stream",
     "text": [
      "┌ Info: Model composition\n",
      "│     param_set = Main.##371.EarthParameterSet()\n",
      "│     init_q = 0.0\n",
      "│     amplitude = 1.0\n",
      "│     velo = 1.0\n",
      "└ @ ClimateMachine /home/runner/work/ClimateMachine.jl/ClimateMachine.jl/src/Driver/driver_configs.jl:102\n",
      "┌ Info: Establishing single stack configuration for Box1D\n",
      "│     precision        = Float64\n",
      "│     polynomial order = 4\n",
      "│     domain_min       = 0.00 m x0.00 m x0.00 m\n",
      "│     domain_max       = 1.00 m x1.00 m x450.00 m\n",
      "│     #vert elems      = 128\n",
      "│     MPI ranks        = 1\n",
      "│     min(Δ_horz)      = 0.17 m\n",
      "│     min(Δ_vert)      = 0.61 m\n",
      "└ @ ClimateMachine /home/runner/work/ClimateMachine.jl/ClimateMachine.jl/src/Driver/driver_configs.jl:380\n",
      "┌ Info: Initializing Box1D\n",
      "└ @ ClimateMachine /home/runner/work/ClimateMachine.jl/ClimateMachine.jl/src/Driver/solver_configs.jl:150\n",
      "┌ Info: Starting Box1D\n",
      "│     dt              = 6.06673e-01\n",
      "│     timeend         =   600.00\n",
      "│     number of steps = 989\n",
      "│     norm(Q)         = 7.1041361191914145e+00\n",
      "└ @ ClimateMachine /home/runner/work/ClimateMachine.jl/ClimateMachine.jl/src/Driver/Driver.jl:629\n",
      "┌ Info: Finished\n",
      "│     norm(Q)            = 3.9105604828400904e+00\n",
      "│     norm(Q) / norm(Q₀) = 5.5046249357130650e-01\n",
      "│     norm(Q) - norm(Q₀) = -3.1935756363513241e+00\n",
      "└ @ ClimateMachine /home/runner/work/ClimateMachine.jl/ClimateMachine.jl/src/Driver/Driver.jl:667\n"
     ]
    }
   ],
   "cell_type": "code",
   "source": [
    "run_box1D(\n",
    "    4,\n",
    "    0.0,\n",
    "    1.0,\n",
    "    1.0,\n",
    "    \"box_1D_4_cutoff_1.svg\",\n",
    "    cutoff_filter = true,\n",
    "    cutoff_param = 1,\n",
    ");"
   ],
   "metadata": {},
   "execution_count": 4
  },
  {
   "cell_type": "markdown",
   "source": [
    "![](box_1D_4_cutoff_1.svg)"
   ],
   "metadata": {}
  },
  {
   "cell_type": "markdown",
   "source": [
    "`CutoffFilter(grid, Nc=3)`:"
   ],
   "metadata": {}
  },
  {
   "outputs": [
    {
     "name": "stdout",
     "output_type": "stream",
     "text": [
      "┌ Info: Model composition\n",
      "│     param_set = Main.##371.EarthParameterSet()\n",
      "│     init_q = 0.0\n",
      "│     amplitude = 1.0\n",
      "│     velo = 1.0\n",
      "└ @ ClimateMachine /home/runner/work/ClimateMachine.jl/ClimateMachine.jl/src/Driver/driver_configs.jl:102\n",
      "┌ Info: Establishing single stack configuration for Box1D\n",
      "│     precision        = Float64\n",
      "│     polynomial order = 4\n",
      "│     domain_min       = 0.00 m x0.00 m x0.00 m\n",
      "│     domain_max       = 1.00 m x1.00 m x450.00 m\n",
      "│     #vert elems      = 128\n",
      "│     MPI ranks        = 1\n",
      "│     min(Δ_horz)      = 0.17 m\n",
      "│     min(Δ_vert)      = 0.61 m\n",
      "└ @ ClimateMachine /home/runner/work/ClimateMachine.jl/ClimateMachine.jl/src/Driver/driver_configs.jl:380\n",
      "┌ Info: Initializing Box1D\n",
      "└ @ ClimateMachine /home/runner/work/ClimateMachine.jl/ClimateMachine.jl/src/Driver/solver_configs.jl:150\n",
      "┌ Info: Starting Box1D\n",
      "│     dt              = 6.06673e-01\n",
      "│     timeend         =   600.00\n",
      "│     number of steps = 989\n",
      "│     norm(Q)         = 7.1041361191914145e+00\n",
      "└ @ ClimateMachine /home/runner/work/ClimateMachine.jl/ClimateMachine.jl/src/Driver/Driver.jl:629\n",
      "┌ Info: Finished\n",
      "│     norm(Q)            = 7.0127576243753857e+00\n",
      "│     norm(Q) / norm(Q₀) = 9.8713728266422496e-01\n",
      "│     norm(Q) - norm(Q₀) = -9.1378494816028777e-02\n",
      "└ @ ClimateMachine /home/runner/work/ClimateMachine.jl/ClimateMachine.jl/src/Driver/Driver.jl:667\n"
     ]
    }
   ],
   "cell_type": "code",
   "source": [
    "run_box1D(\n",
    "    4,\n",
    "    0.0,\n",
    "    1.0,\n",
    "    1.0,\n",
    "    \"box_1D_4_cutoff_3.svg\",\n",
    "    cutoff_filter = true,\n",
    "    cutoff_param = 3,\n",
    ")"
   ],
   "metadata": {},
   "execution_count": 5
  },
  {
   "cell_type": "markdown",
   "source": [
    "![](box_1D_4_cutoff_3.svg)"
   ],
   "metadata": {}
  },
  {
   "cell_type": "markdown",
   "source": [
    "`ExponentialFilter(grid, Nc=1, s=4)`:"
   ],
   "metadata": {}
  },
  {
   "outputs": [
    {
     "name": "stdout",
     "output_type": "stream",
     "text": [
      "┌ Info: Model composition\n",
      "│     param_set = Main.##371.EarthParameterSet()\n",
      "│     init_q = 0.0\n",
      "│     amplitude = 1.0\n",
      "│     velo = 1.0\n",
      "└ @ ClimateMachine /home/runner/work/ClimateMachine.jl/ClimateMachine.jl/src/Driver/driver_configs.jl:102\n",
      "┌ Info: Establishing single stack configuration for Box1D\n",
      "│     precision        = Float64\n",
      "│     polynomial order = 4\n",
      "│     domain_min       = 0.00 m x0.00 m x0.00 m\n",
      "│     domain_max       = 1.00 m x1.00 m x450.00 m\n",
      "│     #vert elems      = 128\n",
      "│     MPI ranks        = 1\n",
      "│     min(Δ_horz)      = 0.17 m\n",
      "│     min(Δ_vert)      = 0.61 m\n",
      "└ @ ClimateMachine /home/runner/work/ClimateMachine.jl/ClimateMachine.jl/src/Driver/driver_configs.jl:380\n",
      "┌ Info: Initializing Box1D\n",
      "└ @ ClimateMachine /home/runner/work/ClimateMachine.jl/ClimateMachine.jl/src/Driver/solver_configs.jl:150\n",
      "┌ Info: Starting Box1D\n",
      "│     dt              = 6.06673e-01\n",
      "│     timeend         =   600.00\n",
      "│     number of steps = 989\n",
      "│     norm(Q)         = 7.1041361191914145e+00\n",
      "└ @ ClimateMachine /home/runner/work/ClimateMachine.jl/ClimateMachine.jl/src/Driver/Driver.jl:629\n",
      "┌ Info: Finished\n",
      "│     norm(Q)            = 6.9078885577691196e+00\n",
      "│     norm(Q) / norm(Q₀) = 9.7237559104587767e-01\n",
      "│     norm(Q) - norm(Q₀) = -1.9624756142229494e-01\n",
      "└ @ ClimateMachine /home/runner/work/ClimateMachine.jl/ClimateMachine.jl/src/Driver/Driver.jl:667\n"
     ]
    }
   ],
   "cell_type": "code",
   "source": [
    "run_box1D(\n",
    "    4,\n",
    "    0.0,\n",
    "    1.0,\n",
    "    1.0,\n",
    "    \"box_1D_4_exp_1_4.svg\",\n",
    "    exp_filter = true,\n",
    "    exp_param_1 = 1,\n",
    "    exp_param_2 = 4,\n",
    ")"
   ],
   "metadata": {},
   "execution_count": 6
  },
  {
   "cell_type": "markdown",
   "source": [
    "![](box_1D_4_exp_1_4.svg)"
   ],
   "metadata": {}
  },
  {
   "cell_type": "markdown",
   "source": [
    "`ExponentialFilter(grid, Nc=1, s=8)`:"
   ],
   "metadata": {}
  },
  {
   "outputs": [
    {
     "name": "stdout",
     "output_type": "stream",
     "text": [
      "┌ Info: Model composition\n",
      "│     param_set = Main.##371.EarthParameterSet()\n",
      "│     init_q = 0.0\n",
      "│     amplitude = 1.0\n",
      "│     velo = 1.0\n",
      "└ @ ClimateMachine /home/runner/work/ClimateMachine.jl/ClimateMachine.jl/src/Driver/driver_configs.jl:102\n",
      "┌ Info: Establishing single stack configuration for Box1D\n",
      "│     precision        = Float64\n",
      "│     polynomial order = 4\n",
      "│     domain_min       = 0.00 m x0.00 m x0.00 m\n",
      "│     domain_max       = 1.00 m x1.00 m x450.00 m\n",
      "│     #vert elems      = 128\n",
      "│     MPI ranks        = 1\n",
      "│     min(Δ_horz)      = 0.17 m\n",
      "│     min(Δ_vert)      = 0.61 m\n",
      "└ @ ClimateMachine /home/runner/work/ClimateMachine.jl/ClimateMachine.jl/src/Driver/driver_configs.jl:380\n",
      "┌ Info: Initializing Box1D\n",
      "└ @ ClimateMachine /home/runner/work/ClimateMachine.jl/ClimateMachine.jl/src/Driver/solver_configs.jl:150\n",
      "┌ Info: Starting Box1D\n",
      "│     dt              = 6.06673e-01\n",
      "│     timeend         =   600.00\n",
      "│     number of steps = 989\n",
      "│     norm(Q)         = 7.1041361191914145e+00\n",
      "└ @ ClimateMachine /home/runner/work/ClimateMachine.jl/ClimateMachine.jl/src/Driver/Driver.jl:629\n",
      "┌ Info: Finished\n",
      "│     norm(Q)            = 7.0133127032526978e+00\n",
      "│     norm(Q) / norm(Q₀) = 9.8721541727031914e-01\n",
      "│     norm(Q) - norm(Q₀) = -9.0823415938716678e-02\n",
      "└ @ ClimateMachine /home/runner/work/ClimateMachine.jl/ClimateMachine.jl/src/Driver/Driver.jl:667\n"
     ]
    }
   ],
   "cell_type": "code",
   "source": [
    "run_box1D(\n",
    "    4,\n",
    "    0.0,\n",
    "    1.0,\n",
    "    1.0,\n",
    "    \"box_1D_4_exp_1_8.svg\",\n",
    "    exp_filter = true,\n",
    "    exp_param_1 = 1,\n",
    "    exp_param_2 = 8,\n",
    ")"
   ],
   "metadata": {},
   "execution_count": 7
  },
  {
   "cell_type": "markdown",
   "source": [
    "![](box_1D_4_exp_1_8.svg)"
   ],
   "metadata": {}
  },
  {
   "cell_type": "markdown",
   "source": [
    "`ExponentialFilter(grid, Nc=1, s=32)`:"
   ],
   "metadata": {}
  },
  {
   "outputs": [
    {
     "name": "stdout",
     "output_type": "stream",
     "text": [
      "┌ Info: Model composition\n",
      "│     param_set = Main.##371.EarthParameterSet()\n",
      "│     init_q = 0.0\n",
      "│     amplitude = 1.0\n",
      "│     velo = 1.0\n",
      "└ @ ClimateMachine /home/runner/work/ClimateMachine.jl/ClimateMachine.jl/src/Driver/driver_configs.jl:102\n",
      "┌ Info: Establishing single stack configuration for Box1D\n",
      "│     precision        = Float64\n",
      "│     polynomial order = 4\n",
      "│     domain_min       = 0.00 m x0.00 m x0.00 m\n",
      "│     domain_max       = 1.00 m x1.00 m x450.00 m\n",
      "│     #vert elems      = 128\n",
      "│     MPI ranks        = 1\n",
      "│     min(Δ_horz)      = 0.17 m\n",
      "│     min(Δ_vert)      = 0.61 m\n",
      "└ @ ClimateMachine /home/runner/work/ClimateMachine.jl/ClimateMachine.jl/src/Driver/driver_configs.jl:380\n",
      "┌ Info: Initializing Box1D\n",
      "└ @ ClimateMachine /home/runner/work/ClimateMachine.jl/ClimateMachine.jl/src/Driver/solver_configs.jl:150\n",
      "┌ Info: Starting Box1D\n",
      "│     dt              = 6.06673e-01\n",
      "│     timeend         =   600.00\n",
      "│     number of steps = 989\n",
      "│     norm(Q)         = 7.1041361191914145e+00\n",
      "└ @ ClimateMachine /home/runner/work/ClimateMachine.jl/ClimateMachine.jl/src/Driver/Driver.jl:629\n",
      "┌ Info: Finished\n",
      "│     norm(Q)            = 7.0652038019470194e+00\n",
      "│     norm(Q) / norm(Q₀) = 9.9451976755636451e-01\n",
      "│     norm(Q) - norm(Q₀) = -3.8932317244395165e-02\n",
      "└ @ ClimateMachine /home/runner/work/ClimateMachine.jl/ClimateMachine.jl/src/Driver/Driver.jl:667\n"
     ]
    }
   ],
   "cell_type": "code",
   "source": [
    "run_box1D(\n",
    "    4,\n",
    "    0.0,\n",
    "    1.0,\n",
    "    1.0,\n",
    "    \"box_1D_4_exp_1_32.svg\",\n",
    "    exp_filter = true,\n",
    "    exp_param_1 = 1,\n",
    "    exp_param_2 = 32,\n",
    ")"
   ],
   "metadata": {},
   "execution_count": 8
  },
  {
   "cell_type": "markdown",
   "source": [
    "![](box_1D_4_exp_1_32.svg)"
   ],
   "metadata": {}
  },
  {
   "cell_type": "markdown",
   "source": [
    "`BoydVandevenFilter(grid, Nc=1, s=4)`:"
   ],
   "metadata": {}
  },
  {
   "outputs": [
    {
     "name": "stdout",
     "output_type": "stream",
     "text": [
      "┌ Info: Model composition\n",
      "│     param_set = Main.##371.EarthParameterSet()\n",
      "│     init_q = 0.0\n",
      "│     amplitude = 1.0\n",
      "│     velo = 1.0\n",
      "└ @ ClimateMachine /home/runner/work/ClimateMachine.jl/ClimateMachine.jl/src/Driver/driver_configs.jl:102\n",
      "┌ Info: Establishing single stack configuration for Box1D\n",
      "│     precision        = Float64\n",
      "│     polynomial order = 4\n",
      "│     domain_min       = 0.00 m x0.00 m x0.00 m\n",
      "│     domain_max       = 1.00 m x1.00 m x450.00 m\n",
      "│     #vert elems      = 128\n",
      "│     MPI ranks        = 1\n",
      "│     min(Δ_horz)      = 0.17 m\n",
      "│     min(Δ_vert)      = 0.61 m\n",
      "└ @ ClimateMachine /home/runner/work/ClimateMachine.jl/ClimateMachine.jl/src/Driver/driver_configs.jl:380\n",
      "┌ Info: Initializing Box1D\n",
      "└ @ ClimateMachine /home/runner/work/ClimateMachine.jl/ClimateMachine.jl/src/Driver/solver_configs.jl:150\n",
      "┌ Info: Starting Box1D\n",
      "│     dt              = 6.06673e-01\n",
      "│     timeend         =   600.00\n",
      "│     number of steps = 989\n",
      "│     norm(Q)         = 7.1041361191914145e+00\n",
      "└ @ ClimateMachine /home/runner/work/ClimateMachine.jl/ClimateMachine.jl/src/Driver/Driver.jl:629\n",
      "┌ Info: Finished\n",
      "│     norm(Q)            = 6.9441928920525235e+00\n",
      "│     norm(Q) / norm(Q₀) = 9.7748590054365458e-01\n",
      "│     norm(Q) - norm(Q₀) = -1.5994322713889098e-01\n",
      "└ @ ClimateMachine /home/runner/work/ClimateMachine.jl/ClimateMachine.jl/src/Driver/Driver.jl:667\n"
     ]
    }
   ],
   "cell_type": "code",
   "source": [
    "run_box1D(\n",
    "    4,\n",
    "    0.0,\n",
    "    1.0,\n",
    "    1.0,\n",
    "    \"box_1D_4_boyd_1_4.svg\",\n",
    "    boyd_filter = true,\n",
    "    boyd_param_1 = 1,\n",
    "    boyd_param_2 = 4,\n",
    ")"
   ],
   "metadata": {},
   "execution_count": 9
  },
  {
   "cell_type": "markdown",
   "source": [
    "![](box_1D_4_boyd_1_4.svg)"
   ],
   "metadata": {}
  },
  {
   "cell_type": "markdown",
   "source": [
    "`BoydVandevenFilter(grid, Nc=1, s=8)`:"
   ],
   "metadata": {}
  },
  {
   "outputs": [
    {
     "name": "stdout",
     "output_type": "stream",
     "text": [
      "┌ Info: Model composition\n",
      "│     param_set = Main.##371.EarthParameterSet()\n",
      "│     init_q = 0.0\n",
      "│     amplitude = 1.0\n",
      "│     velo = 1.0\n",
      "└ @ ClimateMachine /home/runner/work/ClimateMachine.jl/ClimateMachine.jl/src/Driver/driver_configs.jl:102\n",
      "┌ Info: Establishing single stack configuration for Box1D\n",
      "│     precision        = Float64\n",
      "│     polynomial order = 4\n",
      "│     domain_min       = 0.00 m x0.00 m x0.00 m\n",
      "│     domain_max       = 1.00 m x1.00 m x450.00 m\n",
      "│     #vert elems      = 128\n",
      "│     MPI ranks        = 1\n",
      "│     min(Δ_horz)      = 0.17 m\n",
      "│     min(Δ_vert)      = 0.61 m\n",
      "└ @ ClimateMachine /home/runner/work/ClimateMachine.jl/ClimateMachine.jl/src/Driver/driver_configs.jl:380\n",
      "┌ Info: Initializing Box1D\n",
      "└ @ ClimateMachine /home/runner/work/ClimateMachine.jl/ClimateMachine.jl/src/Driver/solver_configs.jl:150\n",
      "┌ Info: Starting Box1D\n",
      "│     dt              = 6.06673e-01\n",
      "│     timeend         =   600.00\n",
      "│     number of steps = 989\n",
      "│     norm(Q)         = 7.1041361191914145e+00\n",
      "└ @ ClimateMachine /home/runner/work/ClimateMachine.jl/ClimateMachine.jl/src/Driver/Driver.jl:629\n",
      "┌ Info: Finished\n",
      "│     norm(Q)            = 6.9684367749278522e+00\n",
      "│     norm(Q) / norm(Q₀) = 9.8089854389234199e-01\n",
      "│     norm(Q) - norm(Q₀) = -1.3569934426356234e-01\n",
      "└ @ ClimateMachine /home/runner/work/ClimateMachine.jl/ClimateMachine.jl/src/Driver/Driver.jl:667\n"
     ]
    }
   ],
   "cell_type": "code",
   "source": [
    "run_box1D(\n",
    "    4,\n",
    "    0.0,\n",
    "    1.0,\n",
    "    1.0,\n",
    "    \"box_1D_4_boyd_1_8.svg\",\n",
    "    boyd_filter = true,\n",
    "    boyd_param_1 = 1,\n",
    "    boyd_param_2 = 8,\n",
    ")"
   ],
   "metadata": {},
   "execution_count": 10
  },
  {
   "cell_type": "markdown",
   "source": [
    "![](box_1D_4_boyd_1_8.svg)"
   ],
   "metadata": {}
  },
  {
   "cell_type": "markdown",
   "source": [
    "`BoydVandevenFilter(grid, Nc=1, s=32)`:"
   ],
   "metadata": {}
  },
  {
   "outputs": [
    {
     "name": "stdout",
     "output_type": "stream",
     "text": [
      "┌ Info: Model composition\n",
      "│     param_set = Main.##371.EarthParameterSet()\n",
      "│     init_q = 0.0\n",
      "│     amplitude = 1.0\n",
      "│     velo = 1.0\n",
      "└ @ ClimateMachine /home/runner/work/ClimateMachine.jl/ClimateMachine.jl/src/Driver/driver_configs.jl:102\n",
      "┌ Info: Establishing single stack configuration for Box1D\n",
      "│     precision        = Float64\n",
      "│     polynomial order = 4\n",
      "│     domain_min       = 0.00 m x0.00 m x0.00 m\n",
      "│     domain_max       = 1.00 m x1.00 m x450.00 m\n",
      "│     #vert elems      = 128\n",
      "│     MPI ranks        = 1\n",
      "│     min(Δ_horz)      = 0.17 m\n",
      "│     min(Δ_vert)      = 0.61 m\n",
      "└ @ ClimateMachine /home/runner/work/ClimateMachine.jl/ClimateMachine.jl/src/Driver/driver_configs.jl:380\n",
      "┌ Info: Initializing Box1D\n",
      "└ @ ClimateMachine /home/runner/work/ClimateMachine.jl/ClimateMachine.jl/src/Driver/solver_configs.jl:150\n",
      "┌ Info: Starting Box1D\n",
      "│     dt              = 6.06673e-01\n",
      "│     timeend         =   600.00\n",
      "│     number of steps = 989\n",
      "│     norm(Q)         = 7.1041361191914145e+00\n",
      "└ @ ClimateMachine /home/runner/work/ClimateMachine.jl/ClimateMachine.jl/src/Driver/Driver.jl:629\n",
      "┌ Info: Finished\n",
      "│     norm(Q)            = 7.0104219481853756e+00\n",
      "│     norm(Q) / norm(Q₀) = 9.8680850571642686e-01\n",
      "│     norm(Q) - norm(Q₀) = -9.3714171006038960e-02\n",
      "└ @ ClimateMachine /home/runner/work/ClimateMachine.jl/ClimateMachine.jl/src/Driver/Driver.jl:667\n"
     ]
    }
   ],
   "cell_type": "code",
   "source": [
    "run_box1D(\n",
    "    4,\n",
    "    0.0,\n",
    "    1.0,\n",
    "    1.0,\n",
    "    \"box_1D_4_boyd_1_32.svg\",\n",
    "    boyd_filter = true,\n",
    "    boyd_param_1 = 1,\n",
    "    boyd_param_2 = 32,\n",
    ")"
   ],
   "metadata": {},
   "execution_count": 11
  },
  {
   "cell_type": "markdown",
   "source": [
    "![](box_1D_4_boyd_1_32.svg)"
   ],
   "metadata": {}
  },
  {
   "cell_type": "markdown",
   "source": [
    "`ExponentialFilter(grid, Nc=1, s=8)` and `TMARFilter()`:"
   ],
   "metadata": {}
  },
  {
   "outputs": [
    {
     "name": "stdout",
     "output_type": "stream",
     "text": [
      "┌ Info: Model composition\n",
      "│     param_set = Main.##371.EarthParameterSet()\n",
      "│     init_q = 0.0\n",
      "│     amplitude = 1.0\n",
      "│     velo = 1.0\n",
      "└ @ ClimateMachine /home/runner/work/ClimateMachine.jl/ClimateMachine.jl/src/Driver/driver_configs.jl:102\n",
      "┌ Info: Establishing single stack configuration for Box1D\n",
      "│     precision        = Float64\n",
      "│     polynomial order = 4\n",
      "│     domain_min       = 0.00 m x0.00 m x0.00 m\n",
      "│     domain_max       = 1.00 m x1.00 m x450.00 m\n",
      "│     #vert elems      = 128\n",
      "│     MPI ranks        = 1\n",
      "│     min(Δ_horz)      = 0.17 m\n",
      "│     min(Δ_vert)      = 0.61 m\n",
      "└ @ ClimateMachine /home/runner/work/ClimateMachine.jl/ClimateMachine.jl/src/Driver/driver_configs.jl:380\n",
      "┌ Info: Initializing Box1D\n",
      "└ @ ClimateMachine /home/runner/work/ClimateMachine.jl/ClimateMachine.jl/src/Driver/solver_configs.jl:150\n",
      "┌ Info: Starting Box1D\n",
      "│     dt              = 6.06673e-01\n",
      "│     timeend         =   600.00\n",
      "│     number of steps = 989\n",
      "│     norm(Q)         = 7.1041361191914145e+00\n",
      "└ @ ClimateMachine /home/runner/work/ClimateMachine.jl/ClimateMachine.jl/src/Driver/Driver.jl:629\n",
      "┌ Info: Finished\n",
      "│     norm(Q)            = 6.9766860376667346e+00\n",
      "│     norm(Q) / norm(Q₀) = 9.8205973542928315e-01\n",
      "│     norm(Q) - norm(Q₀) = -1.2745008152467996e-01\n",
      "└ @ ClimateMachine /home/runner/work/ClimateMachine.jl/ClimateMachine.jl/src/Driver/Driver.jl:667\n"
     ]
    }
   ],
   "cell_type": "code",
   "source": [
    "run_box1D(\n",
    "    4,\n",
    "    0.0,\n",
    "    1.0,\n",
    "    1.0,\n",
    "    \"box_1D_4_tmar_exp_1_8.svg\",\n",
    "    exp_filter = true,\n",
    "    tmar_filter = true,\n",
    "    exp_param_1 = 1,\n",
    "    exp_param_2 = 8,\n",
    ")"
   ],
   "metadata": {},
   "execution_count": 12
  },
  {
   "cell_type": "markdown",
   "source": [
    "![](box_1D_4_tmar_exp_1_8.svg)"
   ],
   "metadata": {}
  },
  {
   "cell_type": "markdown",
   "source": [
    "`BoydVandevenFilter(grid, Nc=1, s=8)` and `TMARFilter()`:"
   ],
   "metadata": {}
  },
  {
   "outputs": [
    {
     "name": "stdout",
     "output_type": "stream",
     "text": [
      "┌ Info: Model composition\n",
      "│     param_set = Main.##371.EarthParameterSet()\n",
      "│     init_q = 0.0\n",
      "│     amplitude = 1.0\n",
      "│     velo = 1.0\n",
      "└ @ ClimateMachine /home/runner/work/ClimateMachine.jl/ClimateMachine.jl/src/Driver/driver_configs.jl:102\n",
      "┌ Info: Establishing single stack configuration for Box1D\n",
      "│     precision        = Float64\n",
      "│     polynomial order = 4\n",
      "│     domain_min       = 0.00 m x0.00 m x0.00 m\n",
      "│     domain_max       = 1.00 m x1.00 m x450.00 m\n",
      "│     #vert elems      = 128\n",
      "│     MPI ranks        = 1\n",
      "│     min(Δ_horz)      = 0.17 m\n",
      "│     min(Δ_vert)      = 0.61 m\n",
      "└ @ ClimateMachine /home/runner/work/ClimateMachine.jl/ClimateMachine.jl/src/Driver/driver_configs.jl:380\n",
      "┌ Info: Initializing Box1D\n",
      "└ @ ClimateMachine /home/runner/work/ClimateMachine.jl/ClimateMachine.jl/src/Driver/solver_configs.jl:150\n",
      "┌ Info: Starting Box1D\n",
      "│     dt              = 6.06673e-01\n",
      "│     timeend         =   600.00\n",
      "│     number of steps = 989\n",
      "│     norm(Q)         = 7.1041361191914145e+00\n",
      "└ @ ClimateMachine /home/runner/work/ClimateMachine.jl/ClimateMachine.jl/src/Driver/Driver.jl:629\n",
      "┌ Info: Finished\n",
      "│     norm(Q)            = 6.9360428959420632e+00\n",
      "│     norm(Q) / norm(Q₀) = 9.7633868208194141e-01\n",
      "│     norm(Q) - norm(Q₀) = -1.6809322324935128e-01\n",
      "└ @ ClimateMachine /home/runner/work/ClimateMachine.jl/ClimateMachine.jl/src/Driver/Driver.jl:667\n"
     ]
    }
   ],
   "cell_type": "code",
   "source": [
    "run_box1D(\n",
    "    4,\n",
    "    0.0,\n",
    "    1.0,\n",
    "    1.0,\n",
    "    \"box_1D_4_tmar_boyd_1_8.svg\",\n",
    "    boyd_filter = true,\n",
    "    tmar_filter = true,\n",
    "    boyd_param_1 = 1,\n",
    "    boyd_param_2 = 8,\n",
    ")"
   ],
   "metadata": {},
   "execution_count": 13
  },
  {
   "cell_type": "markdown",
   "source": [
    "![](box_1D_4_tmar_boyd_1_8.svg)"
   ],
   "metadata": {}
  },
  {
   "cell_type": "markdown",
   "source": [
    "---\n",
    "\n",
    "*This notebook was generated using [Literate.jl](https://github.com/fredrikekre/Literate.jl).*"
   ],
   "metadata": {}
  }
 ],
 "nbformat_minor": 3,
 "metadata": {
  "language_info": {
   "file_extension": ".jl",
   "mimetype": "application/julia",
   "name": "julia",
   "version": "1.4.2"
  },
  "kernelspec": {
   "name": "julia-1.4",
   "display_name": "Julia 1.4.2",
   "language": "julia"
  }
 },
 "nbformat": 4
}
