{
 "cells": [
  {
   "cell_type": "markdown",
   "source": [
    "# Filters\n",
    "In this tutorial we show the result of applying filters\n",
    "available in the CliMA codebase in a 1 dimensional box advection setup.\n",
    "See [Filters API](https://clima.github.io/ClimateMachine.jl/latest/APIs/Numerics/Meshes/Mesh/#Filters-1) for filters interface details."
   ],
   "metadata": {}
  },
  {
   "outputs": [
    {
     "output_type": "execute_result",
     "data": {
      "text/plain": "run_box1D (generic function with 1 method)"
     },
     "metadata": {},
     "execution_count": 1
    }
   ],
   "cell_type": "code",
   "source": [
    "using ClimateMachine\n",
    "const clima_dir = dirname(dirname(pathof(ClimateMachine)));\n",
    "include(joinpath(clima_dir, \"tutorials\", \"Numerics\", \"DGMethods\", \"Box1D.jl\"))"
   ],
   "metadata": {},
   "execution_count": 1
  },
  {
   "cell_type": "markdown",
   "source": [
    "The unfiltered result of the box advection test for order 4 polynomial is:"
   ],
   "metadata": {}
  },
  {
   "outputs": [
    {
     "name": "stdout",
     "output_type": "stream",
     "text": [
      "┌ Info: Model composition\n",
      "│     param_set = Main.##411.EarthParameterSet()\n",
      "│     init_q = 0.0\n",
      "│     amplitude = 1.0\n",
      "│     velo = 1.0\n",
      "└ @ ClimateMachine /home/runner/work/ClimateMachine.jl/ClimateMachine.jl/src/Driver/driver_configs.jl:102\n",
      "┌ Info: Establishing single stack configuration for Box1D\n",
      "│     precision        = Float64\n",
      "│     polynomial order = 4\n",
      "│     domain_min       = 0.00 m x0.00 m x0.00 m\n",
      "│     domain_max       = 1.00 m x1.00 m x600.00 m\n",
      "│     #vert elems      = 128\n",
      "│     MPI ranks        = 1\n",
      "│     min(Δ_horz)      = 0.17 m\n",
      "│     min(Δ_vert)      = 0.81 m\n",
      "└ @ ClimateMachine /home/runner/work/ClimateMachine.jl/ClimateMachine.jl/src/Driver/driver_configs.jl:380\n",
      "┌ Info: Initializing Box1D\n",
      "└ @ ClimateMachine /home/runner/work/ClimateMachine.jl/ClimateMachine.jl/src/Driver/solver_configs.jl:139\n",
      "┌ Info:  \n",
      "│   timeend = 370.0\n",
      "│   dt = 0.8094054592779685\n",
      "│   output_freq = 457\n",
      "└ @ Main.##411 /home/runner/work/ClimateMachine.jl/ClimateMachine.jl/tutorials/Numerics/DGMethods/Box1D.jl:208\n",
      "┌ Info: Starting Box1D\n",
      "│     dt              = 8.07860e-01\n",
      "│     timeend         =   370.00\n",
      "│     number of steps = 458\n",
      "│     norm(Q)         = 7.0856440267027621e+00\n",
      "└ @ ClimateMachine /home/runner/work/ClimateMachine.jl/ClimateMachine.jl/src/Driver/Driver.jl:620\n",
      "┌ Info: Finished\n",
      "│     norm(Q)            = 7.0528714321043600e+00\n",
      "│     norm(Q) / norm(Q₀) = 9.9537478957806858e-01\n",
      "│     norm(Q) - norm(Q₀) = -3.2772594598402094e-02\n",
      "└ @ ClimateMachine /home/runner/work/ClimateMachine.jl/ClimateMachine.jl/src/Driver/Driver.jl:658\n",
      "keys(all_data[1]) = [\"z_dim\", \"q\"]\n"
     ]
    }
   ],
   "cell_type": "code",
   "source": [
    "run_box1D(4, 0.0, 1.0, 1.0, \"box_1D_4_no_filter.pdf\")"
   ],
   "metadata": {},
   "execution_count": 2
  },
  {
   "cell_type": "markdown",
   "source": [
    "![](box_1D_4_no_filter.pdf)"
   ],
   "metadata": {}
  },
  {
   "cell_type": "markdown",
   "source": [
    "Below we show results for the same box advection test but using different filters."
   ],
   "metadata": {}
  },
  {
   "cell_type": "markdown",
   "source": [
    "`TMARFilter()`:"
   ],
   "metadata": {}
  },
  {
   "outputs": [
    {
     "name": "stdout",
     "output_type": "stream",
     "text": [
      "┌ Info: Model composition\n",
      "│     param_set = Main.##411.EarthParameterSet()\n",
      "│     init_q = 0.0\n",
      "│     amplitude = 1.0\n",
      "│     velo = 1.0\n",
      "└ @ ClimateMachine /home/runner/work/ClimateMachine.jl/ClimateMachine.jl/src/Driver/driver_configs.jl:102\n",
      "┌ Info: Establishing single stack configuration for Box1D\n",
      "│     precision        = Float64\n",
      "│     polynomial order = 4\n",
      "│     domain_min       = 0.00 m x0.00 m x0.00 m\n",
      "│     domain_max       = 1.00 m x1.00 m x600.00 m\n",
      "│     #vert elems      = 128\n",
      "│     MPI ranks        = 1\n",
      "│     min(Δ_horz)      = 0.17 m\n",
      "│     min(Δ_vert)      = 0.81 m\n",
      "└ @ ClimateMachine /home/runner/work/ClimateMachine.jl/ClimateMachine.jl/src/Driver/driver_configs.jl:380\n",
      "┌ Info: Initializing Box1D\n",
      "└ @ ClimateMachine /home/runner/work/ClimateMachine.jl/ClimateMachine.jl/src/Driver/solver_configs.jl:139\n",
      "┌ Info:  \n",
      "│   timeend = 370.0\n",
      "│   dt = 0.8094054592779685\n",
      "│   output_freq = 457\n",
      "└ @ Main.##411 /home/runner/work/ClimateMachine.jl/ClimateMachine.jl/tutorials/Numerics/DGMethods/Box1D.jl:208\n",
      "┌ Info: Starting Box1D\n",
      "│     dt              = 8.07860e-01\n",
      "│     timeend         =   370.00\n",
      "│     number of steps = 458\n",
      "│     norm(Q)         = 7.0856440267027621e+00\n",
      "└ @ ClimateMachine /home/runner/work/ClimateMachine.jl/ClimateMachine.jl/src/Driver/Driver.jl:620\n",
      "┌ Info: Finished\n",
      "│     norm(Q)            = 6.9988428804531360e+00\n",
      "│     norm(Q) / norm(Q₀) = 9.8774971676215884e-01\n",
      "│     norm(Q) - norm(Q₀) = -8.6801146249626093e-02\n",
      "└ @ ClimateMachine /home/runner/work/ClimateMachine.jl/ClimateMachine.jl/src/Driver/Driver.jl:658\n",
      "keys(all_data[1]) = [\"z_dim\", \"q\"]\n"
     ]
    }
   ],
   "cell_type": "code",
   "source": [
    "run_box1D(4, 0.0, 1.0, 1.0, \"box_1D_4_tmar.pdf\", tmar_filter = true)"
   ],
   "metadata": {},
   "execution_count": 3
  },
  {
   "cell_type": "markdown",
   "source": [
    "![](box_1D_4_tmar.pdf)"
   ],
   "metadata": {}
  },
  {
   "cell_type": "markdown",
   "source": [
    "`CutoffFilter(grid, Nc=1)`:"
   ],
   "metadata": {}
  },
  {
   "outputs": [
    {
     "name": "stdout",
     "output_type": "stream",
     "text": [
      "┌ Info: Model composition\n",
      "│     param_set = Main.##411.EarthParameterSet()\n",
      "│     init_q = 0.0\n",
      "│     amplitude = 1.0\n",
      "│     velo = 1.0\n",
      "└ @ ClimateMachine /home/runner/work/ClimateMachine.jl/ClimateMachine.jl/src/Driver/driver_configs.jl:102\n",
      "┌ Info: Establishing single stack configuration for Box1D\n",
      "│     precision        = Float64\n",
      "│     polynomial order = 4\n",
      "│     domain_min       = 0.00 m x0.00 m x0.00 m\n",
      "│     domain_max       = 1.00 m x1.00 m x600.00 m\n",
      "│     #vert elems      = 128\n",
      "│     MPI ranks        = 1\n",
      "│     min(Δ_horz)      = 0.17 m\n",
      "│     min(Δ_vert)      = 0.81 m\n",
      "└ @ ClimateMachine /home/runner/work/ClimateMachine.jl/ClimateMachine.jl/src/Driver/driver_configs.jl:380\n",
      "┌ Info: Initializing Box1D\n",
      "└ @ ClimateMachine /home/runner/work/ClimateMachine.jl/ClimateMachine.jl/src/Driver/solver_configs.jl:139\n",
      "┌ Info:  \n",
      "│   timeend = 370.0\n",
      "│   dt = 0.8094054592779685\n",
      "│   output_freq = 457\n",
      "└ @ Main.##411 /home/runner/work/ClimateMachine.jl/ClimateMachine.jl/tutorials/Numerics/DGMethods/Box1D.jl:208\n",
      "┌ Info: Starting Box1D\n",
      "│     dt              = 8.07860e-01\n",
      "│     timeend         =   370.00\n",
      "│     number of steps = 458\n",
      "│     norm(Q)         = 7.0856440267027621e+00\n",
      "└ @ ClimateMachine /home/runner/work/ClimateMachine.jl/ClimateMachine.jl/src/Driver/Driver.jl:620\n",
      "┌ Info: Finished\n",
      "│     norm(Q)            = 4.0642977153685118e+00\n",
      "│     norm(Q) / norm(Q₀) = 5.7359609092016361e-01\n",
      "│     norm(Q) - norm(Q₀) = -3.0213463113342502e+00\n",
      "└ @ ClimateMachine /home/runner/work/ClimateMachine.jl/ClimateMachine.jl/src/Driver/Driver.jl:658\n",
      "keys(all_data[1]) = [\"z_dim\", \"q\"]\n"
     ]
    }
   ],
   "cell_type": "code",
   "source": [
    "run_box1D(\n",
    "    4,\n",
    "    0.0,\n",
    "    1.0,\n",
    "    1.0,\n",
    "    \"box_1D_4_cutoff_1.pdf\",\n",
    "    cutoff_filter = true,\n",
    "    cutoff_param = 1,\n",
    ")"
   ],
   "metadata": {},
   "execution_count": 4
  },
  {
   "cell_type": "markdown",
   "source": [
    "![](box_1D_4_cutoff_1.pdf)"
   ],
   "metadata": {}
  },
  {
   "cell_type": "markdown",
   "source": [
    "`CutoffFilter(grid, Nc=3)`:"
   ],
   "metadata": {}
  },
  {
   "outputs": [
    {
     "name": "stdout",
     "output_type": "stream",
     "text": [
      "┌ Info: Model composition\n",
      "│     param_set = Main.##411.EarthParameterSet()\n",
      "│     init_q = 0.0\n",
      "│     amplitude = 1.0\n",
      "│     velo = 1.0\n",
      "└ @ ClimateMachine /home/runner/work/ClimateMachine.jl/ClimateMachine.jl/src/Driver/driver_configs.jl:102\n",
      "┌ Info: Establishing single stack configuration for Box1D\n",
      "│     precision        = Float64\n",
      "│     polynomial order = 4\n",
      "│     domain_min       = 0.00 m x0.00 m x0.00 m\n",
      "│     domain_max       = 1.00 m x1.00 m x600.00 m\n",
      "│     #vert elems      = 128\n",
      "│     MPI ranks        = 1\n",
      "│     min(Δ_horz)      = 0.17 m\n",
      "│     min(Δ_vert)      = 0.81 m\n",
      "└ @ ClimateMachine /home/runner/work/ClimateMachine.jl/ClimateMachine.jl/src/Driver/driver_configs.jl:380\n",
      "┌ Info: Initializing Box1D\n",
      "└ @ ClimateMachine /home/runner/work/ClimateMachine.jl/ClimateMachine.jl/src/Driver/solver_configs.jl:139\n",
      "┌ Info:  \n",
      "│   timeend = 370.0\n",
      "│   dt = 0.8094054592779685\n",
      "│   output_freq = 457\n",
      "└ @ Main.##411 /home/runner/work/ClimateMachine.jl/ClimateMachine.jl/tutorials/Numerics/DGMethods/Box1D.jl:208\n",
      "┌ Info: Starting Box1D\n",
      "│     dt              = 8.07860e-01\n",
      "│     timeend         =   370.00\n",
      "│     number of steps = 458\n",
      "│     norm(Q)         = 7.0856440267027621e+00\n",
      "└ @ ClimateMachine /home/runner/work/ClimateMachine.jl/ClimateMachine.jl/src/Driver/Driver.jl:620\n",
      "┌ Info: Finished\n",
      "│     norm(Q)            = 6.9773849777627568e+00\n",
      "│     norm(Q) / norm(Q₀) = 9.8472135369318259e-01\n",
      "│     norm(Q) - norm(Q₀) = -1.0825904894000526e-01\n",
      "└ @ ClimateMachine /home/runner/work/ClimateMachine.jl/ClimateMachine.jl/src/Driver/Driver.jl:658\n",
      "keys(all_data[1]) = [\"z_dim\", \"q\"]\n"
     ]
    }
   ],
   "cell_type": "code",
   "source": [
    "run_box1D(\n",
    "    4,\n",
    "    0.0,\n",
    "    1.0,\n",
    "    1.0,\n",
    "    \"box_1D_4_cutoff_3.pdf\",\n",
    "    cutoff_filter = true,\n",
    "    cutoff_param = 3,\n",
    ")"
   ],
   "metadata": {},
   "execution_count": 5
  },
  {
   "cell_type": "markdown",
   "source": [
    "![](box_1D_4_cutoff_3.pdf)"
   ],
   "metadata": {}
  },
  {
   "cell_type": "markdown",
   "source": [
    "`ExponentialFilter(grid, Nc=1, s=4)`:"
   ],
   "metadata": {}
  },
  {
   "outputs": [
    {
     "name": "stdout",
     "output_type": "stream",
     "text": [
      "┌ Info: Model composition\n",
      "│     param_set = Main.##411.EarthParameterSet()\n",
      "│     init_q = 0.0\n",
      "│     amplitude = 1.0\n",
      "│     velo = 1.0\n",
      "└ @ ClimateMachine /home/runner/work/ClimateMachine.jl/ClimateMachine.jl/src/Driver/driver_configs.jl:102\n",
      "┌ Info: Establishing single stack configuration for Box1D\n",
      "│     precision        = Float64\n",
      "│     polynomial order = 4\n",
      "│     domain_min       = 0.00 m x0.00 m x0.00 m\n",
      "│     domain_max       = 1.00 m x1.00 m x600.00 m\n",
      "│     #vert elems      = 128\n",
      "│     MPI ranks        = 1\n",
      "│     min(Δ_horz)      = 0.17 m\n",
      "│     min(Δ_vert)      = 0.81 m\n",
      "└ @ ClimateMachine /home/runner/work/ClimateMachine.jl/ClimateMachine.jl/src/Driver/driver_configs.jl:380\n",
      "┌ Info: Initializing Box1D\n",
      "└ @ ClimateMachine /home/runner/work/ClimateMachine.jl/ClimateMachine.jl/src/Driver/solver_configs.jl:139\n",
      "┌ Info:  \n",
      "│   timeend = 370.0\n",
      "│   dt = 0.8094054592779685\n",
      "│   output_freq = 457\n",
      "└ @ Main.##411 /home/runner/work/ClimateMachine.jl/ClimateMachine.jl/tutorials/Numerics/DGMethods/Box1D.jl:208\n",
      "┌ Info: Starting Box1D\n",
      "│     dt              = 8.07860e-01\n",
      "│     timeend         =   370.00\n",
      "│     number of steps = 458\n",
      "│     norm(Q)         = 7.0856440267027621e+00\n",
      "└ @ ClimateMachine /home/runner/work/ClimateMachine.jl/ClimateMachine.jl/src/Driver/Driver.jl:620\n",
      "┌ Info: Finished\n",
      "│     norm(Q)            = 6.8688302571648121e+00\n",
      "│     norm(Q) / norm(Q₀) = 9.6940097911765377e-01\n",
      "│     norm(Q) - norm(Q₀) = -2.1681376953794995e-01\n",
      "└ @ ClimateMachine /home/runner/work/ClimateMachine.jl/ClimateMachine.jl/src/Driver/Driver.jl:658\n",
      "keys(all_data[1]) = [\"z_dim\", \"q\"]\n"
     ]
    }
   ],
   "cell_type": "code",
   "source": [
    "run_box1D(\n",
    "    4,\n",
    "    0.0,\n",
    "    1.0,\n",
    "    1.0,\n",
    "    \"box_1D_4_exp_1_4.pdf\",\n",
    "    exp_filter = true,\n",
    "    exp_param_1 = 1,\n",
    "    exp_param_2 = 4,\n",
    ")"
   ],
   "metadata": {},
   "execution_count": 6
  },
  {
   "cell_type": "markdown",
   "source": [
    "![](box_1D_4_exp_1_4.pdf)"
   ],
   "metadata": {}
  },
  {
   "cell_type": "markdown",
   "source": [
    "`ExponentialFilter(grid, Nc=1, s=8)`:"
   ],
   "metadata": {}
  },
  {
   "outputs": [
    {
     "name": "stdout",
     "output_type": "stream",
     "text": [
      "┌ Info: Model composition\n",
      "│     param_set = Main.##411.EarthParameterSet()\n",
      "│     init_q = 0.0\n",
      "│     amplitude = 1.0\n",
      "│     velo = 1.0\n",
      "└ @ ClimateMachine /home/runner/work/ClimateMachine.jl/ClimateMachine.jl/src/Driver/driver_configs.jl:102\n",
      "┌ Info: Establishing single stack configuration for Box1D\n",
      "│     precision        = Float64\n",
      "│     polynomial order = 4\n",
      "│     domain_min       = 0.00 m x0.00 m x0.00 m\n",
      "│     domain_max       = 1.00 m x1.00 m x600.00 m\n",
      "│     #vert elems      = 128\n",
      "│     MPI ranks        = 1\n",
      "│     min(Δ_horz)      = 0.17 m\n",
      "│     min(Δ_vert)      = 0.81 m\n",
      "└ @ ClimateMachine /home/runner/work/ClimateMachine.jl/ClimateMachine.jl/src/Driver/driver_configs.jl:380\n",
      "┌ Info: Initializing Box1D\n",
      "└ @ ClimateMachine /home/runner/work/ClimateMachine.jl/ClimateMachine.jl/src/Driver/solver_configs.jl:139\n",
      "┌ Info:  \n",
      "│   timeend = 370.0\n",
      "│   dt = 0.8094054592779685\n",
      "│   output_freq = 457\n",
      "└ @ Main.##411 /home/runner/work/ClimateMachine.jl/ClimateMachine.jl/tutorials/Numerics/DGMethods/Box1D.jl:208\n",
      "┌ Info: Starting Box1D\n",
      "│     dt              = 8.07860e-01\n",
      "│     timeend         =   370.00\n",
      "│     number of steps = 458\n",
      "│     norm(Q)         = 7.0856440267027621e+00\n",
      "└ @ ClimateMachine /home/runner/work/ClimateMachine.jl/ClimateMachine.jl/src/Driver/Driver.jl:620\n",
      "┌ Info: Finished\n",
      "│     norm(Q)            = 6.9795770189249469e+00\n",
      "│     norm(Q) / norm(Q₀) = 9.8503071740859494e-01\n",
      "│     norm(Q) - norm(Q₀) = -1.0606700777781519e-01\n",
      "└ @ ClimateMachine /home/runner/work/ClimateMachine.jl/ClimateMachine.jl/src/Driver/Driver.jl:658\n",
      "keys(all_data[1]) = [\"z_dim\", \"q\"]\n"
     ]
    }
   ],
   "cell_type": "code",
   "source": [
    "run_box1D(\n",
    "    4,\n",
    "    0.0,\n",
    "    1.0,\n",
    "    1.0,\n",
    "    \"box_1D_4_exp_1_8.pdf\",\n",
    "    exp_filter = true,\n",
    "    exp_param_1 = 1,\n",
    "    exp_param_2 = 8,\n",
    ")"
   ],
   "metadata": {},
   "execution_count": 7
  },
  {
   "cell_type": "markdown",
   "source": [
    "![](box_1D_4_exp_1_8.pdf)"
   ],
   "metadata": {}
  },
  {
   "cell_type": "markdown",
   "source": [
    "`ExponentialFilter(grid, Nc=1, s=32)`:"
   ],
   "metadata": {}
  },
  {
   "outputs": [
    {
     "name": "stdout",
     "output_type": "stream",
     "text": [
      "┌ Info: Model composition\n",
      "│     param_set = Main.##411.EarthParameterSet()\n",
      "│     init_q = 0.0\n",
      "│     amplitude = 1.0\n",
      "│     velo = 1.0\n",
      "└ @ ClimateMachine /home/runner/work/ClimateMachine.jl/ClimateMachine.jl/src/Driver/driver_configs.jl:102\n",
      "┌ Info: Establishing single stack configuration for Box1D\n",
      "│     precision        = Float64\n",
      "│     polynomial order = 4\n",
      "│     domain_min       = 0.00 m x0.00 m x0.00 m\n",
      "│     domain_max       = 1.00 m x1.00 m x600.00 m\n",
      "│     #vert elems      = 128\n",
      "│     MPI ranks        = 1\n",
      "│     min(Δ_horz)      = 0.17 m\n",
      "│     min(Δ_vert)      = 0.81 m\n",
      "└ @ ClimateMachine /home/runner/work/ClimateMachine.jl/ClimateMachine.jl/src/Driver/driver_configs.jl:380\n",
      "┌ Info: Initializing Box1D\n",
      "└ @ ClimateMachine /home/runner/work/ClimateMachine.jl/ClimateMachine.jl/src/Driver/solver_configs.jl:139\n",
      "┌ Info:  \n",
      "│   timeend = 370.0\n",
      "│   dt = 0.8094054592779685\n",
      "│   output_freq = 457\n",
      "└ @ Main.##411 /home/runner/work/ClimateMachine.jl/ClimateMachine.jl/tutorials/Numerics/DGMethods/Box1D.jl:208\n",
      "┌ Info: Starting Box1D\n",
      "│     dt              = 8.07860e-01\n",
      "│     timeend         =   370.00\n",
      "│     number of steps = 458\n",
      "│     norm(Q)         = 7.0856440267027621e+00\n",
      "└ @ ClimateMachine /home/runner/work/ClimateMachine.jl/ClimateMachine.jl/src/Driver/Driver.jl:620\n",
      "┌ Info: Finished\n",
      "│     norm(Q)            = 7.0353557002809870e+00\n",
      "│     norm(Q) / norm(Q₀) = 9.9290278678518706e-01\n",
      "│     norm(Q) - norm(Q₀) = -5.0288326421775054e-02\n",
      "└ @ ClimateMachine /home/runner/work/ClimateMachine.jl/ClimateMachine.jl/src/Driver/Driver.jl:658\n",
      "keys(all_data[1]) = [\"z_dim\", \"q\"]\n"
     ]
    }
   ],
   "cell_type": "code",
   "source": [
    "run_box1D(\n",
    "    4,\n",
    "    0.0,\n",
    "    1.0,\n",
    "    1.0,\n",
    "    \"box_1D_4_exp_1_32.pdf\",\n",
    "    exp_filter = true,\n",
    "    exp_param_1 = 1,\n",
    "    exp_param_2 = 32,\n",
    ")"
   ],
   "metadata": {},
   "execution_count": 8
  },
  {
   "cell_type": "markdown",
   "source": [
    "![](box_1D_4_exp_1_32.pdf)"
   ],
   "metadata": {}
  },
  {
   "cell_type": "markdown",
   "source": [
    "`BoydVandevenFilter(grid, Nc=1, s=4)`:"
   ],
   "metadata": {}
  },
  {
   "outputs": [
    {
     "name": "stdout",
     "output_type": "stream",
     "text": [
      "┌ Info: Model composition\n",
      "│     param_set = Main.##411.EarthParameterSet()\n",
      "│     init_q = 0.0\n",
      "│     amplitude = 1.0\n",
      "│     velo = 1.0\n",
      "└ @ ClimateMachine /home/runner/work/ClimateMachine.jl/ClimateMachine.jl/src/Driver/driver_configs.jl:102\n",
      "┌ Info: Establishing single stack configuration for Box1D\n",
      "│     precision        = Float64\n",
      "│     polynomial order = 4\n",
      "│     domain_min       = 0.00 m x0.00 m x0.00 m\n",
      "│     domain_max       = 1.00 m x1.00 m x600.00 m\n",
      "│     #vert elems      = 128\n",
      "│     MPI ranks        = 1\n",
      "│     min(Δ_horz)      = 0.17 m\n",
      "│     min(Δ_vert)      = 0.81 m\n",
      "└ @ ClimateMachine /home/runner/work/ClimateMachine.jl/ClimateMachine.jl/src/Driver/driver_configs.jl:380\n",
      "┌ Info: Initializing Box1D\n",
      "└ @ ClimateMachine /home/runner/work/ClimateMachine.jl/ClimateMachine.jl/src/Driver/solver_configs.jl:139\n",
      "┌ Info:  \n",
      "│   timeend = 370.0\n",
      "│   dt = 0.8094054592779685\n",
      "│   output_freq = 457\n",
      "└ @ Main.##411 /home/runner/work/ClimateMachine.jl/ClimateMachine.jl/tutorials/Numerics/DGMethods/Box1D.jl:208\n",
      "┌ Info: Starting Box1D\n",
      "│     dt              = 8.07860e-01\n",
      "│     timeend         =   370.00\n",
      "│     number of steps = 458\n",
      "│     norm(Q)         = 7.0856440267027621e+00\n",
      "└ @ ClimateMachine /home/runner/work/ClimateMachine.jl/ClimateMachine.jl/src/Driver/Driver.jl:620\n",
      "┌ Info: Finished\n",
      "│     norm(Q)            = 6.8445711041496082e+00\n",
      "│     norm(Q) / norm(Q₀) = 9.6597727438117786e-01\n",
      "│     norm(Q) - norm(Q₀) = -2.4107292255315382e-01\n",
      "└ @ ClimateMachine /home/runner/work/ClimateMachine.jl/ClimateMachine.jl/src/Driver/Driver.jl:658\n",
      "keys(all_data[1]) = [\"z_dim\", \"q\"]\n"
     ]
    }
   ],
   "cell_type": "code",
   "source": [
    "run_box1D(\n",
    "    4,\n",
    "    0.0,\n",
    "    1.0,\n",
    "    1.0,\n",
    "    \"box_1D_4_boyd_1_4.pdf\",\n",
    "    boyd_filter = true,\n",
    "    boyd_param_1 = 1,\n",
    "    boyd_param_2 = 4,\n",
    ")"
   ],
   "metadata": {},
   "execution_count": 9
  },
  {
   "cell_type": "markdown",
   "source": [
    "![](box_1D_4_boyd_1_4.pdf)"
   ],
   "metadata": {}
  },
  {
   "cell_type": "markdown",
   "source": [
    "`BoydVandevenFilter(grid, Nc=1, s=8)`:"
   ],
   "metadata": {}
  },
  {
   "outputs": [
    {
     "name": "stdout",
     "output_type": "stream",
     "text": [
      "┌ Info: Model composition\n",
      "│     param_set = Main.##411.EarthParameterSet()\n",
      "│     init_q = 0.0\n",
      "│     amplitude = 1.0\n",
      "│     velo = 1.0\n",
      "└ @ ClimateMachine /home/runner/work/ClimateMachine.jl/ClimateMachine.jl/src/Driver/driver_configs.jl:102\n",
      "┌ Info: Establishing single stack configuration for Box1D\n",
      "│     precision        = Float64\n",
      "│     polynomial order = 4\n",
      "│     domain_min       = 0.00 m x0.00 m x0.00 m\n",
      "│     domain_max       = 1.00 m x1.00 m x600.00 m\n",
      "│     #vert elems      = 128\n",
      "│     MPI ranks        = 1\n",
      "│     min(Δ_horz)      = 0.17 m\n",
      "│     min(Δ_vert)      = 0.81 m\n",
      "└ @ ClimateMachine /home/runner/work/ClimateMachine.jl/ClimateMachine.jl/src/Driver/driver_configs.jl:380\n",
      "┌ Info: Initializing Box1D\n",
      "└ @ ClimateMachine /home/runner/work/ClimateMachine.jl/ClimateMachine.jl/src/Driver/solver_configs.jl:139\n",
      "┌ Info:  \n",
      "│   timeend = 370.0\n",
      "│   dt = 0.8094054592779685\n",
      "│   output_freq = 457\n",
      "└ @ Main.##411 /home/runner/work/ClimateMachine.jl/ClimateMachine.jl/tutorials/Numerics/DGMethods/Box1D.jl:208\n",
      "┌ Info: Starting Box1D\n",
      "│     dt              = 8.07860e-01\n",
      "│     timeend         =   370.00\n",
      "│     number of steps = 458\n",
      "│     norm(Q)         = 7.0856440267027621e+00\n",
      "└ @ ClimateMachine /home/runner/work/ClimateMachine.jl/ClimateMachine.jl/src/Driver/Driver.jl:620\n",
      "┌ Info: Finished\n",
      "│     norm(Q)            = 6.8452954378945101e+00\n",
      "│     norm(Q) / norm(Q₀) = 9.6607949991525388e-01\n",
      "│     norm(Q) - norm(Q₀) = -2.4034858880825194e-01\n",
      "└ @ ClimateMachine /home/runner/work/ClimateMachine.jl/ClimateMachine.jl/src/Driver/Driver.jl:658\n",
      "keys(all_data[1]) = [\"z_dim\", \"q\"]\n"
     ]
    }
   ],
   "cell_type": "code",
   "source": [
    "run_box1D(\n",
    "    4,\n",
    "    0.0,\n",
    "    1.0,\n",
    "    1.0,\n",
    "    \"box_1D_4_boyd_1_8.pdf\",\n",
    "    boyd_filter = true,\n",
    "    boyd_param_1 = 1,\n",
    "    boyd_param_2 = 8,\n",
    ")"
   ],
   "metadata": {},
   "execution_count": 10
  },
  {
   "cell_type": "markdown",
   "source": [
    "![](box_1D_4_boyd_1_8.pdf)"
   ],
   "metadata": {}
  },
  {
   "cell_type": "markdown",
   "source": [
    "`BoydVandevenFilter(grid, Nc=1, s=32)`:"
   ],
   "metadata": {}
  },
  {
   "outputs": [
    {
     "name": "stdout",
     "output_type": "stream",
     "text": [
      "┌ Info: Model composition\n",
      "│     param_set = Main.##411.EarthParameterSet()\n",
      "│     init_q = 0.0\n",
      "│     amplitude = 1.0\n",
      "│     velo = 1.0\n",
      "└ @ ClimateMachine /home/runner/work/ClimateMachine.jl/ClimateMachine.jl/src/Driver/driver_configs.jl:102\n",
      "┌ Info: Establishing single stack configuration for Box1D\n",
      "│     precision        = Float64\n",
      "│     polynomial order = 4\n",
      "│     domain_min       = 0.00 m x0.00 m x0.00 m\n",
      "│     domain_max       = 1.00 m x1.00 m x600.00 m\n",
      "│     #vert elems      = 128\n",
      "│     MPI ranks        = 1\n",
      "│     min(Δ_horz)      = 0.17 m\n",
      "│     min(Δ_vert)      = 0.81 m\n",
      "└ @ ClimateMachine /home/runner/work/ClimateMachine.jl/ClimateMachine.jl/src/Driver/driver_configs.jl:380\n",
      "┌ Info: Initializing Box1D\n",
      "└ @ ClimateMachine /home/runner/work/ClimateMachine.jl/ClimateMachine.jl/src/Driver/solver_configs.jl:139\n",
      "┌ Info:  \n",
      "│   timeend = 370.0\n",
      "│   dt = 0.8094054592779685\n",
      "│   output_freq = 457\n",
      "└ @ Main.##411 /home/runner/work/ClimateMachine.jl/ClimateMachine.jl/tutorials/Numerics/DGMethods/Box1D.jl:208\n",
      "┌ Info: Starting Box1D\n",
      "│     dt              = 8.07860e-01\n",
      "│     timeend         =   370.00\n",
      "│     number of steps = 458\n",
      "│     norm(Q)         = 7.0856440267027621e+00\n",
      "└ @ ClimateMachine /home/runner/work/ClimateMachine.jl/ClimateMachine.jl/src/Driver/Driver.jl:620\n",
      "┌ Info: Finished\n",
      "│     norm(Q)            = 6.8477793238180515e+00\n",
      "│     norm(Q) / norm(Q₀) = 9.6643005180781028e-01\n",
      "│     norm(Q) - norm(Q₀) = -2.3786470288471051e-01\n",
      "└ @ ClimateMachine /home/runner/work/ClimateMachine.jl/ClimateMachine.jl/src/Driver/Driver.jl:658\n",
      "keys(all_data[1]) = [\"z_dim\", \"q\"]\n"
     ]
    }
   ],
   "cell_type": "code",
   "source": [
    "run_box1D(\n",
    "    4,\n",
    "    0.0,\n",
    "    1.0,\n",
    "    1.0,\n",
    "    \"box_1D_4_boyd_1_32.pdf\",\n",
    "    boyd_filter = true,\n",
    "    boyd_param_1 = 1,\n",
    "    boyd_param_2 = 32,\n",
    ")"
   ],
   "metadata": {},
   "execution_count": 11
  },
  {
   "cell_type": "markdown",
   "source": [
    "![](box_1D_4_boyd_1_32.pdf)"
   ],
   "metadata": {}
  },
  {
   "cell_type": "markdown",
   "source": [
    "`ExponentialFilter(grid, Nc=1, s=8)` and `TMARFilter()`:"
   ],
   "metadata": {}
  },
  {
   "outputs": [
    {
     "name": "stdout",
     "output_type": "stream",
     "text": [
      "┌ Info: Model composition\n",
      "│     param_set = Main.##411.EarthParameterSet()\n",
      "│     init_q = 0.0\n",
      "│     amplitude = 1.0\n",
      "│     velo = 1.0\n",
      "└ @ ClimateMachine /home/runner/work/ClimateMachine.jl/ClimateMachine.jl/src/Driver/driver_configs.jl:102\n",
      "┌ Info: Establishing single stack configuration for Box1D\n",
      "│     precision        = Float64\n",
      "│     polynomial order = 4\n",
      "│     domain_min       = 0.00 m x0.00 m x0.00 m\n",
      "│     domain_max       = 1.00 m x1.00 m x600.00 m\n",
      "│     #vert elems      = 128\n",
      "│     MPI ranks        = 1\n",
      "│     min(Δ_horz)      = 0.17 m\n",
      "│     min(Δ_vert)      = 0.81 m\n",
      "└ @ ClimateMachine /home/runner/work/ClimateMachine.jl/ClimateMachine.jl/src/Driver/driver_configs.jl:380\n",
      "┌ Info: Initializing Box1D\n",
      "└ @ ClimateMachine /home/runner/work/ClimateMachine.jl/ClimateMachine.jl/src/Driver/solver_configs.jl:139\n",
      "┌ Info:  \n",
      "│   timeend = 370.0\n",
      "│   dt = 0.8094054592779685\n",
      "│   output_freq = 457\n",
      "└ @ Main.##411 /home/runner/work/ClimateMachine.jl/ClimateMachine.jl/tutorials/Numerics/DGMethods/Box1D.jl:208\n",
      "┌ Info: Starting Box1D\n",
      "│     dt              = 8.07860e-01\n",
      "│     timeend         =   370.00\n",
      "│     number of steps = 458\n",
      "│     norm(Q)         = 7.0856440267027621e+00\n",
      "└ @ ClimateMachine /home/runner/work/ClimateMachine.jl/ClimateMachine.jl/src/Driver/Driver.jl:620\n",
      "┌ Info: Finished\n",
      "│     norm(Q)            = 6.9395803689211544e+00\n",
      "│     norm(Q) / norm(Q₀) = 9.7938597292904406e-01\n",
      "│     norm(Q) - norm(Q₀) = -1.4606365778160768e-01\n",
      "└ @ ClimateMachine /home/runner/work/ClimateMachine.jl/ClimateMachine.jl/src/Driver/Driver.jl:658\n",
      "keys(all_data[1]) = [\"z_dim\", \"q\"]\n"
     ]
    }
   ],
   "cell_type": "code",
   "source": [
    "run_box1D(\n",
    "    4,\n",
    "    0.0,\n",
    "    1.0,\n",
    "    1.0,\n",
    "    \"box_1D_4_tmar_exp_1_8.pdf\",\n",
    "    exp_filter = true,\n",
    "    tmar_filter = true,\n",
    "    exp_param_1 = 1,\n",
    "    exp_param_2 = 8,\n",
    ")"
   ],
   "metadata": {},
   "execution_count": 12
  },
  {
   "cell_type": "markdown",
   "source": [
    "![](box_1D_4_tmar_exp_1_8.pdf)"
   ],
   "metadata": {}
  },
  {
   "cell_type": "markdown",
   "source": [
    "`BoydVandevenFilter(grid, Nc=1, s=8)` and `TMARFilter()`:"
   ],
   "metadata": {}
  },
  {
   "outputs": [
    {
     "name": "stdout",
     "output_type": "stream",
     "text": [
      "┌ Info: Model composition\n",
      "│     param_set = Main.##411.EarthParameterSet()\n",
      "│     init_q = 0.0\n",
      "│     amplitude = 1.0\n",
      "│     velo = 1.0\n",
      "└ @ ClimateMachine /home/runner/work/ClimateMachine.jl/ClimateMachine.jl/src/Driver/driver_configs.jl:102\n",
      "┌ Info: Establishing single stack configuration for Box1D\n",
      "│     precision        = Float64\n",
      "│     polynomial order = 4\n",
      "│     domain_min       = 0.00 m x0.00 m x0.00 m\n",
      "│     domain_max       = 1.00 m x1.00 m x600.00 m\n",
      "│     #vert elems      = 128\n",
      "│     MPI ranks        = 1\n",
      "│     min(Δ_horz)      = 0.17 m\n",
      "│     min(Δ_vert)      = 0.81 m\n",
      "└ @ ClimateMachine /home/runner/work/ClimateMachine.jl/ClimateMachine.jl/src/Driver/driver_configs.jl:380\n",
      "┌ Info: Initializing Box1D\n",
      "└ @ ClimateMachine /home/runner/work/ClimateMachine.jl/ClimateMachine.jl/src/Driver/solver_configs.jl:139\n",
      "┌ Info:  \n",
      "│   timeend = 370.0\n",
      "│   dt = 0.8094054592779685\n",
      "│   output_freq = 457\n",
      "└ @ Main.##411 /home/runner/work/ClimateMachine.jl/ClimateMachine.jl/tutorials/Numerics/DGMethods/Box1D.jl:208\n",
      "┌ Info: Starting Box1D\n",
      "│     dt              = 8.07860e-01\n",
      "│     timeend         =   370.00\n",
      "│     number of steps = 458\n",
      "│     norm(Q)         = 7.0856440267027621e+00\n",
      "└ @ ClimateMachine /home/runner/work/ClimateMachine.jl/ClimateMachine.jl/src/Driver/Driver.jl:620\n",
      "┌ Info: Finished\n",
      "│     norm(Q)            = 6.8392340685461521e+00\n",
      "│     norm(Q) / norm(Q₀) = 9.6522405624273588e-01\n",
      "│     norm(Q) - norm(Q₀) = -2.4640995815660993e-01\n",
      "└ @ ClimateMachine /home/runner/work/ClimateMachine.jl/ClimateMachine.jl/src/Driver/Driver.jl:658\n",
      "keys(all_data[1]) = [\"z_dim\", \"q\"]\n"
     ]
    }
   ],
   "cell_type": "code",
   "source": [
    "run_box1D(\n",
    "    4,\n",
    "    0.0,\n",
    "    1.0,\n",
    "    1.0,\n",
    "    \"box_1D_4_tmar_boyd_1_8.pdf\",\n",
    "    boyd_filter = true,\n",
    "    tmar_filter = true,\n",
    "    boyd_param_1 = 1,\n",
    "    boyd_param_2 = 8,\n",
    ")"
   ],
   "metadata": {},
   "execution_count": 13
  },
  {
   "cell_type": "markdown",
   "source": [
    "![](box_1D_4_tmar_boyd_1_8.pdf)"
   ],
   "metadata": {}
  },
  {
   "cell_type": "markdown",
   "source": [
    "---\n",
    "\n",
    "*This notebook was generated using [Literate.jl](https://github.com/fredrikekre/Literate.jl).*"
   ],
   "metadata": {}
  }
 ],
 "nbformat_minor": 3,
 "metadata": {
  "language_info": {
   "file_extension": ".jl",
   "mimetype": "application/julia",
   "name": "julia",
   "version": "1.4.2"
  },
  "kernelspec": {
   "name": "julia-1.4",
   "display_name": "Julia 1.4.2",
   "language": "julia"
  }
 },
 "nbformat": 4
}
