{
 "cells": [
  {
   "cell_type": "markdown",
   "source": [
    "# Batched Generalized Minimal Residual\n",
    "In this tutorial we describe the basics of using the batched gmres iterative solver.\n",
    "At the end you should be able to\n",
    "1. Use BatchedGeneralizedMinimalResidual to solve batches of linear systems\n",
    "2. Construct a columnwise linear solver with BatchedGeneralizedMinimalResidual"
   ],
   "metadata": {}
  },
  {
   "cell_type": "markdown",
   "source": [
    "## What is the Generalized Minimal Residual Method?\n",
    "The  Generalized Minimal Residual Method (GMRES) is a [Krylov subspace](https://en.wikipedia.org/wiki/Krylov_subspace) method for solving linear systems:\n",
    "$$\n",
    " Ax = b\n",
    "$$\n",
    "See the [wikipedia](https://en.wikipedia.org/wiki/Generalized_minimal_residual_method) for more details."
   ],
   "metadata": {}
  },
  {
   "cell_type": "markdown",
   "source": [
    "## What is the Batched Generalized Minimal Residual Method?\n",
    "As the name suggests it solves a whole bunch of independent GMRES problems"
   ],
   "metadata": {}
  },
  {
   "cell_type": "markdown",
   "source": [
    "## Basic Example\n",
    "First we must load a few things"
   ],
   "metadata": {}
  },
  {
   "outputs": [],
   "cell_type": "code",
   "source": [
    "using ClimateMachine\n",
    "using ClimateMachine.SystemSolvers\n",
    "using LinearAlgebra, Random, Plots"
   ],
   "metadata": {},
   "execution_count": 1
  },
  {
   "cell_type": "markdown",
   "source": [
    "Next we define two linear systems that we would like to solve simultaneously.\n",
    "The matrix for the first linear system is"
   ],
   "metadata": {}
  },
  {
   "outputs": [],
   "cell_type": "code",
   "source": [
    "A1 = [\n",
    "    2.0 -1.0 0.0\n",
    "    -1.0 2.0 -1.0\n",
    "    0.0 -1.0 2.0\n",
    "];"
   ],
   "metadata": {},
   "execution_count": 2
  },
  {
   "cell_type": "markdown",
   "source": [
    "And the right hand side is"
   ],
   "metadata": {}
  },
  {
   "outputs": [],
   "cell_type": "code",
   "source": [
    "b1 = ones(typeof(1.0), 3);"
   ],
   "metadata": {},
   "execution_count": 3
  },
  {
   "cell_type": "markdown",
   "source": [
    "The exact solution to the first linear system is"
   ],
   "metadata": {}
  },
  {
   "outputs": [],
   "cell_type": "code",
   "source": [
    "x1_exact = [1.5, 2.0, 1.5];"
   ],
   "metadata": {},
   "execution_count": 4
  },
  {
   "cell_type": "markdown",
   "source": [
    "The matrix for the first linear system is"
   ],
   "metadata": {}
  },
  {
   "outputs": [],
   "cell_type": "code",
   "source": [
    "A2 = [\n",
    "    2.0 -1.0 0.0\n",
    "    0.0 2.0 -1.0\n",
    "    0.0 0.0 2.0\n",
    "];"
   ],
   "metadata": {},
   "execution_count": 5
  },
  {
   "cell_type": "markdown",
   "source": [
    "And the right hand side is"
   ],
   "metadata": {}
  },
  {
   "outputs": [],
   "cell_type": "code",
   "source": [
    "b2 = ones(typeof(1.0), 3);"
   ],
   "metadata": {},
   "execution_count": 6
  },
  {
   "cell_type": "markdown",
   "source": [
    "The exact solution to second linear system is"
   ],
   "metadata": {}
  },
  {
   "outputs": [],
   "cell_type": "code",
   "source": [
    "x2_exact = [0.875, 0.75, 0.5];"
   ],
   "metadata": {},
   "execution_count": 7
  },
  {
   "cell_type": "markdown",
   "source": [
    "We now define a function that performs the action of each linear operator independently."
   ],
   "metadata": {}
  },
  {
   "outputs": [],
   "cell_type": "code",
   "source": [
    "function closure_linear_operator(A1, A2)\n",
    "    function linear_operator!(x, y)\n",
    "        mul!(view(x, :, 1), A1, view(y, :, 1))\n",
    "        mul!(view(x, :, 2), A2, view(y, :, 2))\n",
    "        return nothing\n",
    "    end\n",
    "    return linear_operator!\n",
    "end;"
   ],
   "metadata": {},
   "execution_count": 8
  },
  {
   "cell_type": "markdown",
   "source": [
    "To understand how this works let us construct an instance\n",
    "of the linear operator and apply it to a vector"
   ],
   "metadata": {}
  },
  {
   "outputs": [],
   "cell_type": "code",
   "source": [
    "linear_operator! = closure_linear_operator(A1, A2);"
   ],
   "metadata": {},
   "execution_count": 9
  },
  {
   "cell_type": "markdown",
   "source": [
    "Let us see what the action of this linear operator is"
   ],
   "metadata": {}
  },
  {
   "outputs": [
    {
     "output_type": "execute_result",
     "data": {
      "text/plain": "3×2 Array{Float64,2}:\n 1.0  2.0\n 0.0  2.0\n 1.0  4.0"
     },
     "metadata": {},
     "execution_count": 10
    }
   ],
   "cell_type": "code",
   "source": [
    "y1 = ones(typeof(1.0), 3);\n",
    "y2 = ones(typeof(1.0), 3) * 2.0;\n",
    "y = [y1 y2];\n",
    "x = copy(y);\n",
    "linear_operator!(x, y);\n",
    "x"
   ],
   "metadata": {},
   "execution_count": 10
  },
  {
   "cell_type": "markdown",
   "source": [
    "We see that the first column is `A1 * [1 1 1]'`\n",
    "and the second column is `A2 * [2 2 2]'`\n",
    "that is,"
   ],
   "metadata": {}
  },
  {
   "outputs": [
    {
     "output_type": "execute_result",
     "data": {
      "text/plain": "3×2 Array{Float64,2}:\n 1.0  2.0\n 0.0  2.0\n 1.0  4.0"
     },
     "metadata": {},
     "execution_count": 11
    }
   ],
   "cell_type": "code",
   "source": [
    "[A1 * y1 A2 * y2]"
   ],
   "metadata": {},
   "execution_count": 11
  },
  {
   "cell_type": "markdown",
   "source": [
    "We are now ready to set up our Batched Generalized Minimal Residual solver\n",
    "We must now set up the right hand side of the linear system"
   ],
   "metadata": {}
  },
  {
   "outputs": [],
   "cell_type": "code",
   "source": [
    "b = [b1 b2];"
   ],
   "metadata": {},
   "execution_count": 12
  },
  {
   "cell_type": "markdown",
   "source": [
    "as well as the exact solution, (to verify convergence)"
   ],
   "metadata": {}
  },
  {
   "outputs": [],
   "cell_type": "code",
   "source": [
    "x_exact = [x1_exact x2_exact];"
   ],
   "metadata": {},
   "execution_count": 13
  },
  {
   "cell_type": "markdown",
   "source": [
    "!!! warning\n",
    "    For BatchedGeneralizedMinimalResidual the assumption is that each column of b is independent and corresponds to a batch. This will come back later."
   ],
   "metadata": {}
  },
  {
   "cell_type": "markdown",
   "source": [
    "We now use an instance of the solver"
   ],
   "metadata": {}
  },
  {
   "outputs": [],
   "cell_type": "code",
   "source": [
    "linearsolver = BatchedGeneralizedMinimalResidual(b, size(A1, 1), 2);"
   ],
   "metadata": {},
   "execution_count": 14
  },
  {
   "cell_type": "markdown",
   "source": [
    "As well as an initial guess, denoted by the variable x"
   ],
   "metadata": {}
  },
  {
   "outputs": [],
   "cell_type": "code",
   "source": [
    "x1 = ones(typeof(1.0), 3);\n",
    "x2 = ones(typeof(1.0), 3);\n",
    "x = [x1 x2];"
   ],
   "metadata": {},
   "execution_count": 15
  },
  {
   "cell_type": "markdown",
   "source": [
    "To solve the linear system, we just need to pass to the linearsolve! function"
   ],
   "metadata": {}
  },
  {
   "outputs": [
    {
     "output_type": "execute_result",
     "data": {
      "text/plain": "3"
     },
     "metadata": {},
     "execution_count": 16
    }
   ],
   "cell_type": "code",
   "source": [
    "iters = linearsolve!(linear_operator!, linearsolver, x, b)"
   ],
   "metadata": {},
   "execution_count": 16
  },
  {
   "cell_type": "markdown",
   "source": [
    "which is guaranteed to converge in 3 iterations since `length(b1)=length(b2)=3`\n",
    "We can now check that the solution that we computed, x"
   ],
   "metadata": {}
  },
  {
   "outputs": [
    {
     "output_type": "execute_result",
     "data": {
      "text/plain": "3×2 Array{Float64,2}:\n 1.5  0.875\n 2.0  0.75\n 1.5  0.5"
     },
     "metadata": {},
     "execution_count": 17
    }
   ],
   "cell_type": "code",
   "source": [
    "x"
   ],
   "metadata": {},
   "execution_count": 17
  },
  {
   "cell_type": "markdown",
   "source": [
    "has converged to the exact solution"
   ],
   "metadata": {}
  },
  {
   "outputs": [
    {
     "output_type": "execute_result",
     "data": {
      "text/plain": "3×2 Array{Float64,2}:\n 1.5  0.875\n 2.0  0.75\n 1.5  0.5"
     },
     "metadata": {},
     "execution_count": 18
    }
   ],
   "cell_type": "code",
   "source": [
    "x_exact"
   ],
   "metadata": {},
   "execution_count": 18
  },
  {
   "cell_type": "markdown",
   "source": [
    "Which indeed it has.\n",
    "## Advanced Example"
   ],
   "metadata": {}
  },
  {
   "cell_type": "markdown",
   "source": [
    "We now go through a more advanced application of the Batched Generalized Minimal Residual solver\n",
    "!!! warning\n",
    "    Iterative methods should be used with preconditioners!\n",
    "The first thing we do is define a linear operator that mimics\n",
    "the behavior of a columnwise operator in ClimateMachine"
   ],
   "metadata": {}
  },
  {
   "outputs": [],
   "cell_type": "code",
   "source": [
    "function closure_linear_operator!(A, tup)\n",
    "    function linear_operator!(y, x)\n",
    "        alias_x = reshape(x, tup)\n",
    "        alias_y = reshape(y, tup)\n",
    "        for i6 in 1:tup[6]\n",
    "            for i4 in 1:tup[4]\n",
    "                for i2 in 1:tup[2]\n",
    "                    for i1 in 1:tup[1]\n",
    "                        tmp = alias_x[i1, i2, :, i4, :, i6][:]\n",
    "                        tmp2 = A[i1, i2, i4, i6] * tmp\n",
    "                        alias_y[i1, i2, :, i4, :, i6] .=\n",
    "                            reshape(tmp2, (tup[3], tup[5]))\n",
    "                    end\n",
    "                end\n",
    "            end\n",
    "        end\n",
    "    end\n",
    "end;"
   ],
   "metadata": {},
   "execution_count": 19
  },
  {
   "cell_type": "markdown",
   "source": [
    "Next we define the array structure of an MPIStateArray\n",
    "in its true high dimensional form"
   ],
   "metadata": {}
  },
  {
   "outputs": [],
   "cell_type": "code",
   "source": [
    "tup = (2, 2, 5, 2, 10, 2);"
   ],
   "metadata": {},
   "execution_count": 20
  },
  {
   "cell_type": "markdown",
   "source": [
    "We define our linear operator as a random matrix"
   ],
   "metadata": {}
  },
  {
   "outputs": [],
   "cell_type": "code",
   "source": [
    "Random.seed!(1234);\n",
    "B = [\n",
    "    randn(tup[3] * tup[5], tup[3] * tup[5])\n",
    "    for i1 in 1:tup[1], i2 in 1:tup[2], i4 in 1:tup[4], i6 in 1:tup[6]\n",
    "];\n",
    "columnwise_A = [\n",
    "    B[i1, i2, i4, i6] + 3 * (i1 + i2 + i4 + i6) * I\n",
    "    for i1 in 1:tup[1], i2 in 1:tup[2], i4 in 1:tup[4], i6 in 1:tup[6]\n",
    "];"
   ],
   "metadata": {},
   "execution_count": 21
  },
  {
   "cell_type": "markdown",
   "source": [
    "as well as its inverse"
   ],
   "metadata": {}
  },
  {
   "outputs": [],
   "cell_type": "code",
   "source": [
    "columnwise_inv_A = [\n",
    "    inv(columnwise_A[i1, i2, i4, i6])\n",
    "    for i1 in 1:tup[1], i2 in 1:tup[2], i4 in 1:tup[4], i6 in 1:tup[6]\n",
    "];\n",
    "columnwise_linear_operator! = closure_linear_operator!(columnwise_A, tup);\n",
    "columnwise_inverse_linear_operator! =\n",
    "    closure_linear_operator!(columnwise_inv_A, tup);"
   ],
   "metadata": {},
   "execution_count": 22
  },
  {
   "cell_type": "markdown",
   "source": [
    "The structure of an MPIStateArray is related to its true\n",
    "higher dimensional form as follows:"
   ],
   "metadata": {}
  },
  {
   "outputs": [],
   "cell_type": "code",
   "source": [
    "mpi_tup = (tup[1] * tup[2] * tup[3], tup[4], tup[5] * tup[6]);"
   ],
   "metadata": {},
   "execution_count": 23
  },
  {
   "cell_type": "markdown",
   "source": [
    "We now define the right hand side of our Linear system"
   ],
   "metadata": {}
  },
  {
   "outputs": [],
   "cell_type": "code",
   "source": [
    "b = randn(mpi_tup);"
   ],
   "metadata": {},
   "execution_count": 24
  },
  {
   "cell_type": "markdown",
   "source": [
    "As well as the initial guess"
   ],
   "metadata": {}
  },
  {
   "outputs": [],
   "cell_type": "code",
   "source": [
    "x = copy(b);\n",
    "x += randn(mpi_tup) * 0.1;"
   ],
   "metadata": {},
   "execution_count": 25
  },
  {
   "cell_type": "markdown",
   "source": [
    "In the previous tutorial we mentioned that it is assumed that\n",
    "the right hand side is an array whose column vectors all independent linear\n",
    "systems. But right now the array structure of ``x`` and ``b`` do not follow\n",
    "this requirement.\n",
    "To handle this case we must pass in additional arguments that tell the\n",
    "linear solver how to reconcile these differences.\n",
    "The first thing that the linear solver must know of is the higher tensor\n",
    "form of the MPIStateArray, which is just the `tup` from before"
   ],
   "metadata": {}
  },
  {
   "outputs": [],
   "cell_type": "code",
   "source": [
    "reshape_tuple_f = tup;"
   ],
   "metadata": {},
   "execution_count": 26
  },
  {
   "cell_type": "markdown",
   "source": [
    "The second thing it needs to know is which indices correspond to a column\n",
    "and we want to make sure that these are the first set of indices that appear\n",
    "in the permutation tuple (which can be thought of as enacting\n",
    "a Tensor Transpose)."
   ],
   "metadata": {}
  },
  {
   "outputs": [],
   "cell_type": "code",
   "source": [
    "permute_tuple_f = (5, 3, 4, 6, 1, 2);"
   ],
   "metadata": {},
   "execution_count": 27
  },
  {
   "cell_type": "markdown",
   "source": [
    "It has this format since the 3 and 5 index slots\n",
    "are the ones associated with traversing a column. And the 4 index\n",
    "slot corresponds to a state.\n",
    "We also need to tell our solver which kind of Array struct to use"
   ],
   "metadata": {}
  },
  {
   "outputs": [],
   "cell_type": "code",
   "source": [
    "ArrayType = Array;"
   ],
   "metadata": {},
   "execution_count": 28
  },
  {
   "cell_type": "markdown",
   "source": [
    "We are now ready to finally define our linear solver, which uses a number\n",
    "of keyword arguments"
   ],
   "metadata": {}
  },
  {
   "outputs": [],
   "cell_type": "code",
   "source": [
    "gmres = BatchedGeneralizedMinimalResidual(\n",
    "    b,\n",
    "    tup[3] * tup[5] * tup[4],\n",
    "    tup[1] * tup[2] * tup[6];\n",
    "    atol = eps(Float64) * 100,\n",
    "    rtol = eps(Float64) * 100,\n",
    "    forward_reshape = reshape_tuple_f,\n",
    "    forward_permute = permute_tuple_f,\n",
    ");"
   ],
   "metadata": {},
   "execution_count": 29
  },
  {
   "cell_type": "markdown",
   "source": [
    "`m` is the number of gridpoints along a column. As mentioned previously,\n",
    "this is `tup[3]*tup[5]*tup[4]`. The `n` term corresponds to the batch size\n",
    "or the number of columns in this case. `atol` and `rtol` are relative and\n",
    "absolute tolerances"
   ],
   "metadata": {}
  },
  {
   "cell_type": "markdown",
   "source": [
    "All the hard work is done, now we just call our linear solver"
   ],
   "metadata": {}
  },
  {
   "outputs": [
    {
     "output_type": "execute_result",
     "data": {
      "text/plain": "51"
     },
     "metadata": {},
     "execution_count": 30
    }
   ],
   "cell_type": "code",
   "source": [
    "iters = linearsolve!(\n",
    "    columnwise_linear_operator!,\n",
    "    gmres,\n",
    "    x,\n",
    "    b,\n",
    "    max_iters = tup[3] * tup[5] * tup[4],\n",
    ")"
   ],
   "metadata": {},
   "execution_count": 30
  },
  {
   "cell_type": "markdown",
   "source": [
    "We see that it converged in less than `tup[3]*tup[5] = 50` iterations.\n",
    "Let us verify that it is indeed correct by computing the exact answer\n",
    "numerically and comparing it against the iterative solver."
   ],
   "metadata": {}
  },
  {
   "outputs": [],
   "cell_type": "code",
   "source": [
    "x_exact = copy(x);\n",
    "columnwise_inverse_linear_operator!(x_exact, b);"
   ],
   "metadata": {},
   "execution_count": 31
  },
  {
   "cell_type": "markdown",
   "source": [
    "Now we can compare with some norms"
   ],
   "metadata": {}
  },
  {
   "outputs": [
    {
     "output_type": "execute_result",
     "data": {
      "text/plain": "1.1759471119580472e-13"
     },
     "metadata": {},
     "execution_count": 32
    }
   ],
   "cell_type": "code",
   "source": [
    "norm(x - x_exact) / norm(x_exact)\n",
    "columnwise_linear_operator!(x_exact, x);\n",
    "norm(x_exact - b) / norm(b)"
   ],
   "metadata": {},
   "execution_count": 32
  },
  {
   "cell_type": "markdown",
   "source": [
    "Which we see are small, given our choice of `atol` and `rtol`.\n",
    "The struct also keeps a record of its convergence rate\n",
    "in the residual member (max over all batched solvers).\n",
    "The can be visualized via"
   ],
   "metadata": {}
  },
  {
   "outputs": [
    {
     "output_type": "execute_result",
     "data": {
      "text/plain": "Plot{Plots.GRBackend() n=1}",
      "image/png": "[encoded data removed]",
      "text/html": [
       "<?xml version=\"1.0\" encoding=\"utf-8\"?>\n",
       "<svg xmlns=\"http://www.w3.org/2000/svg\" xmlns:xlink=\"http://www.w3.org/1999/xlink\" width=\"600\" height=\"400\" viewBox=\"0 0 2400 1600\">\n",
       "<defs>\n",
       "  <clipPath id=\"clip050\">\n",
       "    <rect x=\"0\" y=\"0\" width=\"2400\" height=\"1600\"/>\n",
       "  </clipPath>\n",
       "</defs>\n",
       "<path clip-path=\"url(#clip050)\" d=\"\n",
       "M0 1600 L2400 1600 L2400 0 L0 0  Z\n",
       "  \" fill=\"#ffffff\" fill-rule=\"evenodd\" fill-opacity=\"1\"/>\n",
       "<defs>\n",
       "  <clipPath id=\"clip051\">\n",
       "    <rect x=\"480\" y=\"0\" width=\"1681\" height=\"1600\"/>\n",
       "  </clipPath>\n",
       "</defs>\n",
       "<path clip-path=\"url(#clip050)\" d=\"\n",
       "M215.538 1423.18 L2352.76 1423.18 L2352.76 47.2441 L215.538 47.2441  Z\n",
       "  \" fill=\"#ffffff\" fill-rule=\"evenodd\" fill-opacity=\"1\"/>\n",
       "<defs>\n",
       "  <clipPath id=\"clip052\">\n",
       "    <rect x=\"215\" y=\"47\" width=\"2138\" height=\"1377\"/>\n",
       "  </clipPath>\n",
       "</defs>\n",
       "<polyline clip-path=\"url(#clip052)\" style=\"stroke:#000000; stroke-width:2; stroke-opacity:0.1; fill:none\" points=\"\n",
       "  600.237,1423.18 600.237,47.2441 \n",
       "  \"/>\n",
       "<polyline clip-path=\"url(#clip052)\" style=\"stroke:#000000; stroke-width:2; stroke-opacity:0.1; fill:none\" points=\"\n",
       "  1027.68,1423.18 1027.68,47.2441 \n",
       "  \"/>\n",
       "<polyline clip-path=\"url(#clip052)\" style=\"stroke:#000000; stroke-width:2; stroke-opacity:0.1; fill:none\" points=\"\n",
       "  1455.12,1423.18 1455.12,47.2441 \n",
       "  \"/>\n",
       "<polyline clip-path=\"url(#clip052)\" style=\"stroke:#000000; stroke-width:2; stroke-opacity:0.1; fill:none\" points=\"\n",
       "  1882.57,1423.18 1882.57,47.2441 \n",
       "  \"/>\n",
       "<polyline clip-path=\"url(#clip052)\" style=\"stroke:#000000; stroke-width:2; stroke-opacity:0.1; fill:none\" points=\"\n",
       "  2310.01,1423.18 2310.01,47.2441 \n",
       "  \"/>\n",
       "<polyline clip-path=\"url(#clip052)\" style=\"stroke:#000000; stroke-width:2; stroke-opacity:0.1; fill:none\" points=\"\n",
       "  215.538,1423.18 2352.76,1423.18 \n",
       "  \"/>\n",
       "<polyline clip-path=\"url(#clip052)\" style=\"stroke:#000000; stroke-width:2; stroke-opacity:0.1; fill:none\" points=\"\n",
       "  215.538,1018.49 2352.76,1018.49 \n",
       "  \"/>\n",
       "<polyline clip-path=\"url(#clip052)\" style=\"stroke:#000000; stroke-width:2; stroke-opacity:0.1; fill:none\" points=\"\n",
       "  215.538,613.806 2352.76,613.806 \n",
       "  \"/>\n",
       "<polyline clip-path=\"url(#clip052)\" style=\"stroke:#000000; stroke-width:2; stroke-opacity:0.1; fill:none\" points=\"\n",
       "  215.538,209.119 2352.76,209.119 \n",
       "  \"/>\n",
       "<polyline clip-path=\"url(#clip050)\" style=\"stroke:#000000; stroke-width:4; stroke-opacity:1; fill:none\" points=\"\n",
       "  215.538,1423.18 2352.76,1423.18 \n",
       "  \"/>\n",
       "<polyline clip-path=\"url(#clip050)\" style=\"stroke:#000000; stroke-width:4; stroke-opacity:1; fill:none\" points=\"\n",
       "  215.538,1423.18 215.538,47.2441 \n",
       "  \"/>\n",
       "<polyline clip-path=\"url(#clip050)\" style=\"stroke:#000000; stroke-width:4; stroke-opacity:1; fill:none\" points=\"\n",
       "  600.237,1423.18 600.237,1406.67 \n",
       "  \"/>\n",
       "<polyline clip-path=\"url(#clip050)\" style=\"stroke:#000000; stroke-width:4; stroke-opacity:1; fill:none\" points=\"\n",
       "  1027.68,1423.18 1027.68,1406.67 \n",
       "  \"/>\n",
       "<polyline clip-path=\"url(#clip050)\" style=\"stroke:#000000; stroke-width:4; stroke-opacity:1; fill:none\" points=\"\n",
       "  1455.12,1423.18 1455.12,1406.67 \n",
       "  \"/>\n",
       "<polyline clip-path=\"url(#clip050)\" style=\"stroke:#000000; stroke-width:4; stroke-opacity:1; fill:none\" points=\"\n",
       "  1882.57,1423.18 1882.57,1406.67 \n",
       "  \"/>\n",
       "<polyline clip-path=\"url(#clip050)\" style=\"stroke:#000000; stroke-width:4; stroke-opacity:1; fill:none\" points=\"\n",
       "  2310.01,1423.18 2310.01,1406.67 \n",
       "  \"/>\n",
       "<polyline clip-path=\"url(#clip050)\" style=\"stroke:#000000; stroke-width:4; stroke-opacity:1; fill:none\" points=\"\n",
       "  215.538,1423.18 241.184,1423.18 \n",
       "  \"/>\n",
       "<polyline clip-path=\"url(#clip050)\" style=\"stroke:#000000; stroke-width:4; stroke-opacity:1; fill:none\" points=\"\n",
       "  215.538,1018.49 241.184,1018.49 \n",
       "  \"/>\n",
       "<polyline clip-path=\"url(#clip050)\" style=\"stroke:#000000; stroke-width:4; stroke-opacity:1; fill:none\" points=\"\n",
       "  215.538,613.806 241.184,613.806 \n",
       "  \"/>\n",
       "<polyline clip-path=\"url(#clip050)\" style=\"stroke:#000000; stroke-width:4; stroke-opacity:1; fill:none\" points=\"\n",
       "  215.538,209.119 241.184,209.119 \n",
       "  \"/>\n",
       "<path clip-path=\"url(#clip050)\" d=\"M 0 0 M577.112 1472.72 L584.751 1472.72 L584.751 1446.35 L576.441 1448.02 L576.441 1443.76 L584.705 1442.09 L589.38 1442.09 L589.38 1472.72 L597.019 1472.72 L597.019 1476.65 L577.112 1476.65 L577.112 1472.72 Z\" fill=\"#000000\" fill-rule=\"evenodd\" fill-opacity=\"1\" /><path clip-path=\"url(#clip050)\" d=\"M 0 0 M612.089 1445.17 Q608.478 1445.17 606.649 1448.74 Q604.843 1452.28 604.843 1459.41 Q604.843 1466.51 606.649 1470.08 Q608.478 1473.62 612.089 1473.62 Q615.723 1473.62 617.528 1470.08 Q619.357 1466.51 619.357 1459.41 Q619.357 1452.28 617.528 1448.74 Q615.723 1445.17 612.089 1445.17 M612.089 1441.47 Q617.899 1441.47 620.954 1446.07 Q624.033 1450.66 624.033 1459.41 Q624.033 1468.13 620.954 1472.74 Q617.899 1477.32 612.089 1477.32 Q606.279 1477.32 603.2 1472.74 Q600.144 1468.13 600.144 1459.41 Q600.144 1450.66 603.2 1446.07 Q606.279 1441.47 612.089 1441.47 Z\" fill=\"#000000\" fill-rule=\"evenodd\" fill-opacity=\"1\" /><path clip-path=\"url(#clip050)\" d=\"M 0 0 M1008.83 1472.72 L1025.15 1472.72 L1025.15 1476.65 L1003.2 1476.65 L1003.2 1472.72 Q1005.86 1469.96 1010.45 1465.33 Q1015.05 1460.68 1016.23 1459.34 Q1018.48 1456.81 1019.36 1455.08 Q1020.26 1453.32 1020.26 1451.63 Q1020.26 1448.87 1018.32 1447.14 Q1016.4 1445.4 1013.29 1445.4 Q1011.09 1445.4 1008.64 1446.17 Q1006.21 1446.93 1003.43 1448.48 L1003.43 1443.76 Q1006.26 1442.62 1008.71 1442.05 Q1011.16 1441.47 1013.2 1441.47 Q1018.57 1441.47 1021.77 1444.15 Q1024.96 1446.84 1024.96 1451.33 Q1024.96 1453.46 1024.15 1455.38 Q1023.36 1457.28 1021.26 1459.87 Q1020.68 1460.54 1017.58 1463.76 Q1014.47 1466.95 1008.83 1472.72 Z\" fill=\"#000000\" fill-rule=\"evenodd\" fill-opacity=\"1\" /><path clip-path=\"url(#clip050)\" d=\"M 0 0 M1040.22 1445.17 Q1036.6 1445.17 1034.78 1448.74 Q1032.97 1452.28 1032.97 1459.41 Q1032.97 1466.51 1034.78 1470.08 Q1036.6 1473.62 1040.22 1473.62 Q1043.85 1473.62 1045.65 1470.08 Q1047.48 1466.51 1047.48 1459.41 Q1047.48 1452.28 1045.65 1448.74 Q1043.85 1445.17 1040.22 1445.17 M1040.22 1441.47 Q1046.03 1441.47 1049.08 1446.07 Q1052.16 1450.66 1052.16 1459.41 Q1052.16 1468.13 1049.08 1472.74 Q1046.03 1477.32 1040.22 1477.32 Q1034.41 1477.32 1031.33 1472.74 Q1028.27 1468.13 1028.27 1459.41 Q1028.27 1450.66 1031.33 1446.07 Q1034.41 1441.47 1040.22 1441.47 Z\" fill=\"#000000\" fill-rule=\"evenodd\" fill-opacity=\"1\" /><path clip-path=\"url(#clip050)\" d=\"M 0 0 M1445.87 1458.02 Q1449.22 1458.74 1451.1 1461 Q1452.99 1463.27 1452.99 1466.61 Q1452.99 1471.72 1449.48 1474.52 Q1445.96 1477.32 1439.48 1477.32 Q1437.3 1477.32 1434.99 1476.88 Q1432.69 1476.47 1430.24 1475.61 L1430.24 1471.1 Q1432.18 1472.23 1434.5 1472.81 Q1436.81 1473.39 1439.34 1473.39 Q1443.74 1473.39 1446.03 1471.65 Q1448.34 1469.92 1448.34 1466.61 Q1448.34 1463.55 1446.19 1461.84 Q1444.06 1460.1 1440.24 1460.1 L1436.21 1460.1 L1436.21 1456.26 L1440.43 1456.26 Q1443.87 1456.26 1445.7 1454.89 Q1447.53 1453.5 1447.53 1450.91 Q1447.53 1448.25 1445.63 1446.84 Q1443.76 1445.4 1440.24 1445.4 Q1438.32 1445.4 1436.12 1445.82 Q1433.92 1446.24 1431.28 1447.11 L1431.28 1442.95 Q1433.94 1442.21 1436.26 1441.84 Q1438.6 1441.47 1440.66 1441.47 Q1445.98 1441.47 1449.08 1443.9 Q1452.18 1446.3 1452.18 1450.43 Q1452.18 1453.3 1450.54 1455.29 Q1448.9 1457.25 1445.87 1458.02 Z\" fill=\"#000000\" fill-rule=\"evenodd\" fill-opacity=\"1\" /><path clip-path=\"url(#clip050)\" d=\"M 0 0 M1468.06 1445.17 Q1464.45 1445.17 1462.62 1448.74 Q1460.82 1452.28 1460.82 1459.41 Q1460.82 1466.51 1462.62 1470.08 Q1464.45 1473.62 1468.06 1473.62 Q1471.7 1473.62 1473.5 1470.08 Q1475.33 1466.51 1475.33 1459.41 Q1475.33 1452.28 1473.5 1448.74 Q1471.7 1445.17 1468.06 1445.17 M1468.06 1441.47 Q1473.87 1441.47 1476.93 1446.07 Q1480.01 1450.66 1480.01 1459.41 Q1480.01 1468.13 1476.93 1472.74 Q1473.87 1477.32 1468.06 1477.32 Q1462.25 1477.32 1459.18 1472.74 Q1456.12 1468.13 1456.12 1459.41 Q1456.12 1450.66 1459.18 1446.07 Q1462.25 1441.47 1468.06 1441.47 Z\" fill=\"#000000\" fill-rule=\"evenodd\" fill-opacity=\"1\" /><path clip-path=\"url(#clip050)\" d=\"M 0 0 M1872.07 1446.17 L1860.26 1464.61 L1872.07 1464.61 L1872.07 1446.17 M1870.84 1442.09 L1876.72 1442.09 L1876.72 1464.61 L1881.65 1464.61 L1881.65 1468.5 L1876.72 1468.5 L1876.72 1476.65 L1872.07 1476.65 L1872.07 1468.5 L1856.47 1468.5 L1856.47 1463.99 L1870.84 1442.09 Z\" fill=\"#000000\" fill-rule=\"evenodd\" fill-opacity=\"1\" /><path clip-path=\"url(#clip050)\" d=\"M 0 0 M1896.72 1445.17 Q1893.11 1445.17 1891.28 1448.74 Q1889.48 1452.28 1889.48 1459.41 Q1889.48 1466.51 1891.28 1470.08 Q1893.11 1473.62 1896.72 1473.62 Q1900.36 1473.62 1902.16 1470.08 Q1903.99 1466.51 1903.99 1459.41 Q1903.99 1452.28 1902.16 1448.74 Q1900.36 1445.17 1896.72 1445.17 M1896.72 1441.47 Q1902.53 1441.47 1905.59 1446.07 Q1908.67 1450.66 1908.67 1459.41 Q1908.67 1468.13 1905.59 1472.74 Q1902.53 1477.32 1896.72 1477.32 Q1890.91 1477.32 1887.83 1472.74 Q1884.78 1468.13 1884.78 1459.41 Q1884.78 1450.66 1887.83 1446.07 Q1890.91 1441.47 1896.72 1441.47 Z\" fill=\"#000000\" fill-rule=\"evenodd\" fill-opacity=\"1\" /><path clip-path=\"url(#clip050)\" d=\"M 0 0 M2286.78 1442.09 L2305.14 1442.09 L2305.14 1446.03 L2291.06 1446.03 L2291.06 1454.5 Q2292.08 1454.15 2293.1 1453.99 Q2294.12 1453.8 2295.14 1453.8 Q2300.93 1453.8 2304.31 1456.98 Q2307.69 1460.15 2307.69 1465.56 Q2307.69 1471.14 2304.21 1474.24 Q2300.74 1477.32 2294.42 1477.32 Q2292.25 1477.32 2289.98 1476.95 Q2287.73 1476.58 2285.32 1475.84 L2285.32 1471.14 Q2287.41 1472.28 2289.63 1472.83 Q2291.85 1473.39 2294.33 1473.39 Q2298.33 1473.39 2300.67 1471.28 Q2303.01 1469.18 2303.01 1465.56 Q2303.01 1461.95 2300.67 1459.85 Q2298.33 1457.74 2294.33 1457.74 Q2292.45 1457.74 2290.58 1458.16 Q2288.73 1458.57 2286.78 1459.45 L2286.78 1442.09 Z\" fill=\"#000000\" fill-rule=\"evenodd\" fill-opacity=\"1\" /><path clip-path=\"url(#clip050)\" d=\"M 0 0 M2322.75 1445.17 Q2319.14 1445.17 2317.31 1448.74 Q2315.51 1452.28 2315.51 1459.41 Q2315.51 1466.51 2317.31 1470.08 Q2319.14 1473.62 2322.75 1473.62 Q2326.39 1473.62 2328.19 1470.08 Q2330.02 1466.51 2330.02 1459.41 Q2330.02 1452.28 2328.19 1448.74 Q2326.39 1445.17 2322.75 1445.17 M2322.75 1441.47 Q2328.56 1441.47 2331.62 1446.07 Q2334.7 1450.66 2334.7 1459.41 Q2334.7 1468.13 2331.62 1472.74 Q2328.56 1477.32 2322.75 1477.32 Q2316.94 1477.32 2313.87 1472.74 Q2310.81 1468.13 2310.81 1459.41 Q2310.81 1450.66 2313.87 1446.07 Q2316.94 1441.47 2322.75 1441.47 Z\" fill=\"#000000\" fill-rule=\"evenodd\" fill-opacity=\"1\" /><path clip-path=\"url(#clip050)\" d=\"M 0 0 M127.256 1425.58 L139.732 1425.58 L139.732 1429.37 L127.256 1429.37 L127.256 1425.58 Z\" fill=\"#000000\" fill-rule=\"evenodd\" fill-opacity=\"1\" /><path clip-path=\"url(#clip050)\" d=\"M 0 0 M145.612 1436.52 L153.251 1436.52 L153.251 1410.16 L144.941 1411.83 L144.941 1407.57 L153.204 1405.9 L157.88 1405.9 L157.88 1436.52 L165.519 1436.52 L165.519 1440.46 L145.612 1440.46 L145.612 1436.52 Z\" fill=\"#000000\" fill-rule=\"evenodd\" fill-opacity=\"1\" /><path clip-path=\"url(#clip050)\" d=\"M 0 0 M170.635 1405.9 L188.991 1405.9 L188.991 1409.84 L174.917 1409.84 L174.917 1418.31 Q175.936 1417.96 176.954 1417.8 Q177.973 1417.61 178.991 1417.61 Q184.778 1417.61 188.158 1420.78 Q191.538 1423.96 191.538 1429.37 Q191.538 1434.95 188.065 1438.05 Q184.593 1441.13 178.274 1441.13 Q176.098 1441.13 173.829 1440.76 Q171.584 1440.39 169.177 1439.65 L169.177 1434.95 Q171.26 1436.08 173.482 1436.64 Q175.704 1437.2 178.181 1437.2 Q182.186 1437.2 184.524 1435.09 Q186.862 1432.98 186.862 1429.37 Q186.862 1425.76 184.524 1423.65 Q182.186 1421.55 178.181 1421.55 Q176.306 1421.55 174.431 1421.96 Q172.579 1422.38 170.635 1423.26 L170.635 1405.9 Z\" fill=\"#000000\" fill-rule=\"evenodd\" fill-opacity=\"1\" /><path clip-path=\"url(#clip050)\" d=\"M 0 0 M126.26 1020.89 L138.737 1020.89 L138.737 1024.68 L126.26 1024.68 L126.26 1020.89 Z\" fill=\"#000000\" fill-rule=\"evenodd\" fill-opacity=\"1\" /><path clip-path=\"url(#clip050)\" d=\"M 0 0 M144.617 1031.84 L152.255 1031.84 L152.255 1005.47 L143.945 1007.14 L143.945 1002.88 L152.209 1001.21 L156.885 1001.21 L156.885 1031.84 L164.524 1031.84 L164.524 1035.77 L144.617 1035.77 L144.617 1031.84 Z\" fill=\"#000000\" fill-rule=\"evenodd\" fill-opacity=\"1\" /><path clip-path=\"url(#clip050)\" d=\"M 0 0 M179.593 1004.29 Q175.982 1004.29 174.153 1007.86 Q172.348 1011.4 172.348 1018.53 Q172.348 1025.63 174.153 1029.2 Q175.982 1032.74 179.593 1032.74 Q183.227 1032.74 185.033 1029.2 Q186.862 1025.63 186.862 1018.53 Q186.862 1011.4 185.033 1007.86 Q183.227 1004.29 179.593 1004.29 M179.593 1000.59 Q185.403 1000.59 188.459 1005.19 Q191.538 1009.78 191.538 1018.53 Q191.538 1027.25 188.459 1031.86 Q185.403 1036.44 179.593 1036.44 Q173.783 1036.44 170.704 1031.86 Q167.649 1027.25 167.649 1018.53 Q167.649 1009.78 170.704 1005.19 Q173.783 1000.59 179.593 1000.59 Z\" fill=\"#000000\" fill-rule=\"evenodd\" fill-opacity=\"1\" /><path clip-path=\"url(#clip050)\" d=\"M 0 0 M153.042 616.202 L165.519 616.202 L165.519 619.998 L153.042 619.998 L153.042 616.202 Z\" fill=\"#000000\" fill-rule=\"evenodd\" fill-opacity=\"1\" /><path clip-path=\"url(#clip050)\" d=\"M 0 0 M170.635 596.526 L188.991 596.526 L188.991 600.461 L174.917 600.461 L174.917 608.933 Q175.936 608.586 176.954 608.424 Q177.973 608.239 178.991 608.239 Q184.778 608.239 188.158 611.41 Q191.538 614.581 191.538 619.998 Q191.538 625.577 188.065 628.678 Q184.593 631.757 178.274 631.757 Q176.098 631.757 173.829 631.387 Q171.584 631.016 169.177 630.276 L169.177 625.577 Q171.26 626.711 173.482 627.266 Q175.704 627.822 178.181 627.822 Q182.186 627.822 184.524 625.716 Q186.862 623.609 186.862 619.998 Q186.862 616.387 184.524 614.28 Q182.186 612.174 178.181 612.174 Q176.306 612.174 174.431 612.591 Q172.579 613.007 170.635 613.887 L170.635 596.526 Z\" fill=\"#000000\" fill-rule=\"evenodd\" fill-opacity=\"1\" /><path clip-path=\"url(#clip050)\" d=\"M 0 0 M179.593 194.918 Q175.982 194.918 174.153 198.482 Q172.348 202.024 172.348 209.154 Q172.348 216.26 174.153 219.825 Q175.982 223.366 179.593 223.366 Q183.227 223.366 185.033 219.825 Q186.862 216.26 186.862 209.154 Q186.862 202.024 185.033 198.482 Q183.227 194.918 179.593 194.918 M179.593 191.214 Q185.403 191.214 188.459 195.82 Q191.538 200.404 191.538 209.154 Q191.538 217.88 188.459 222.487 Q185.403 227.07 179.593 227.07 Q173.783 227.07 170.704 222.487 Q167.649 217.88 167.649 209.154 Q167.649 200.404 170.704 195.82 Q173.783 191.214 179.593 191.214 Z\" fill=\"#000000\" fill-rule=\"evenodd\" fill-opacity=\"1\" /><path clip-path=\"url(#clip050)\" d=\"M 0 0 M1151.06 1520.4 L1156.91 1520.4 L1156.91 1556.04 L1151.06 1556.04 L1151.06 1520.4 M1151.06 1506.52 L1156.91 1506.52 L1156.91 1513.93 L1151.06 1513.93 L1151.06 1506.52 Z\" fill=\"#000000\" fill-rule=\"evenodd\" fill-opacity=\"1\" /><path clip-path=\"url(#clip050)\" d=\"M 0 0 M1168.85 1510.27 L1168.85 1520.4 L1180.91 1520.4 L1180.91 1524.95 L1168.85 1524.95 L1168.85 1544.3 Q1168.85 1548.66 1170.03 1549.9 Q1171.24 1551.14 1174.9 1551.14 L1180.91 1551.14 L1180.91 1556.04 L1174.9 1556.04 Q1168.12 1556.04 1165.54 1553.53 Q1162.96 1550.98 1162.96 1544.3 L1162.96 1524.95 L1158.66 1524.95 L1158.66 1520.4 L1162.96 1520.4 L1162.96 1510.27 L1168.85 1510.27 Z\" fill=\"#000000\" fill-rule=\"evenodd\" fill-opacity=\"1\" /><path clip-path=\"url(#clip050)\" d=\"M 0 0 M1217.55 1536.76 L1217.55 1539.62 L1190.62 1539.62 Q1191 1545.67 1194.25 1548.85 Q1197.53 1552 1203.35 1552 Q1206.72 1552 1209.87 1551.17 Q1213.06 1550.35 1216.18 1548.69 L1216.18 1554.23 Q1213.03 1555.57 1209.72 1556.27 Q1206.41 1556.97 1203 1556.97 Q1194.47 1556.97 1189.47 1552 Q1184.51 1547.04 1184.51 1538.57 Q1184.51 1529.82 1189.22 1524.69 Q1193.96 1519.54 1201.98 1519.54 Q1209.17 1519.54 1213.34 1524.18 Q1217.55 1528.8 1217.55 1536.76 M1211.69 1535.04 Q1211.63 1530.23 1208.98 1527.37 Q1206.37 1524.5 1202.05 1524.5 Q1197.14 1524.5 1194.18 1527.27 Q1191.26 1530.04 1190.81 1535.07 L1211.69 1535.04 Z\" fill=\"#000000\" fill-rule=\"evenodd\" fill-opacity=\"1\" /><path clip-path=\"url(#clip050)\" d=\"M 0 0 M1244.35 1525.87 Q1243.36 1525.3 1242.18 1525.04 Q1241.03 1524.76 1239.63 1524.76 Q1234.67 1524.76 1232 1528 Q1229.35 1531.22 1229.35 1537.27 L1229.35 1556.04 L1223.47 1556.04 L1223.47 1520.4 L1229.35 1520.4 L1229.35 1525.93 Q1231.2 1522.69 1234.16 1521.13 Q1237.12 1519.54 1241.35 1519.54 Q1241.96 1519.54 1242.69 1519.63 Q1243.42 1519.7 1244.31 1519.85 L1244.35 1525.87 Z\" fill=\"#000000\" fill-rule=\"evenodd\" fill-opacity=\"1\" /><path clip-path=\"url(#clip050)\" d=\"M 0 0 M1266.69 1538.12 Q1259.59 1538.12 1256.85 1539.75 Q1254.12 1541.37 1254.12 1545.29 Q1254.12 1548.4 1256.15 1550.25 Q1258.22 1552.07 1261.76 1552.07 Q1266.63 1552.07 1269.55 1548.63 Q1272.51 1545.16 1272.51 1539.43 L1272.51 1538.12 L1266.69 1538.12 M1278.37 1535.71 L1278.37 1556.04 L1272.51 1556.04 L1272.51 1550.63 Q1270.51 1553.88 1267.52 1555.44 Q1264.52 1556.97 1260.2 1556.97 Q1254.72 1556.97 1251.47 1553.91 Q1248.26 1550.82 1248.26 1545.67 Q1248.26 1539.65 1252.27 1536.6 Q1256.31 1533.54 1264.3 1533.54 L1272.51 1533.54 L1272.51 1532.97 Q1272.51 1528.93 1269.84 1526.73 Q1267.2 1524.5 1262.39 1524.5 Q1259.34 1524.5 1256.44 1525.23 Q1253.54 1525.97 1250.87 1527.43 L1250.87 1522.02 Q1254.08 1520.78 1257.11 1520.17 Q1260.13 1519.54 1263 1519.54 Q1270.73 1519.54 1274.55 1523.55 Q1278.37 1527.56 1278.37 1535.71 Z\" fill=\"#000000\" fill-rule=\"evenodd\" fill-opacity=\"1\" /><path clip-path=\"url(#clip050)\" d=\"M 0 0 M1290.31 1510.27 L1290.31 1520.4 L1302.37 1520.4 L1302.37 1524.95 L1290.31 1524.95 L1290.31 1544.3 Q1290.31 1548.66 1291.48 1549.9 Q1292.69 1551.14 1296.35 1551.14 L1302.37 1551.14 L1302.37 1556.04 L1296.35 1556.04 Q1289.57 1556.04 1287 1553.53 Q1284.42 1550.98 1284.42 1544.3 L1284.42 1524.95 L1280.12 1524.95 L1280.12 1520.4 L1284.42 1520.4 L1284.42 1510.27 L1290.31 1510.27 Z\" fill=\"#000000\" fill-rule=\"evenodd\" fill-opacity=\"1\" /><path clip-path=\"url(#clip050)\" d=\"M 0 0 M1308.51 1520.4 L1314.37 1520.4 L1314.37 1556.04 L1308.51 1556.04 L1308.51 1520.4 M1308.51 1506.52 L1314.37 1506.52 L1314.37 1513.93 L1308.51 1513.93 L1308.51 1506.52 Z\" fill=\"#000000\" fill-rule=\"evenodd\" fill-opacity=\"1\" /><path clip-path=\"url(#clip050)\" d=\"M 0 0 M1334.32 1524.5 Q1329.61 1524.5 1326.88 1528.19 Q1324.14 1531.85 1324.14 1538.25 Q1324.14 1544.65 1326.84 1548.34 Q1329.58 1552 1334.32 1552 Q1339 1552 1341.74 1548.31 Q1344.48 1544.62 1344.48 1538.25 Q1344.48 1531.92 1341.74 1528.23 Q1339 1524.5 1334.32 1524.5 M1334.32 1519.54 Q1341.96 1519.54 1346.32 1524.5 Q1350.68 1529.47 1350.68 1538.25 Q1350.68 1547 1346.32 1552 Q1341.96 1556.97 1334.32 1556.97 Q1326.65 1556.97 1322.29 1552 Q1317.96 1547 1317.96 1538.25 Q1317.96 1529.47 1322.29 1524.5 Q1326.65 1519.54 1334.32 1519.54 Z\" fill=\"#000000\" fill-rule=\"evenodd\" fill-opacity=\"1\" /><path clip-path=\"url(#clip050)\" d=\"M 0 0 M1386.46 1534.53 L1386.46 1556.04 L1380.6 1556.04 L1380.6 1534.72 Q1380.6 1529.66 1378.63 1527.14 Q1376.66 1524.63 1372.71 1524.63 Q1367.97 1524.63 1365.23 1527.65 Q1362.49 1530.68 1362.49 1535.9 L1362.49 1556.04 L1356.6 1556.04 L1356.6 1520.4 L1362.49 1520.4 L1362.49 1525.93 Q1364.59 1522.72 1367.43 1521.13 Q1370.29 1519.54 1374.01 1519.54 Q1380.16 1519.54 1383.31 1523.36 Q1386.46 1527.14 1386.46 1534.53 Z\" fill=\"#000000\" fill-rule=\"evenodd\" fill-opacity=\"1\" /><path clip-path=\"url(#clip050)\" d=\"M 0 0 M1415.33 1521.45 L1415.33 1526.98 Q1412.85 1525.71 1410.17 1525.07 Q1407.5 1524.44 1404.63 1524.44 Q1400.27 1524.44 1398.08 1525.77 Q1395.91 1527.11 1395.91 1529.79 Q1395.91 1531.82 1397.47 1533 Q1399.03 1534.15 1403.74 1535.2 L1405.75 1535.64 Q1411.99 1536.98 1414.6 1539.43 Q1417.24 1541.85 1417.24 1546.21 Q1417.24 1551.17 1413.29 1554.07 Q1409.38 1556.97 1402.5 1556.97 Q1399.64 1556.97 1396.52 1556.39 Q1393.43 1555.85 1389.99 1554.74 L1389.99 1548.69 Q1393.24 1550.38 1396.39 1551.24 Q1399.54 1552.07 1402.63 1552.07 Q1406.77 1552.07 1408.99 1550.66 Q1411.22 1549.23 1411.22 1546.65 Q1411.22 1544.27 1409.6 1542.99 Q1408.01 1541.72 1402.56 1540.54 L1400.53 1540.07 Q1395.09 1538.92 1392.67 1536.56 Q1390.25 1534.18 1390.25 1530.04 Q1390.25 1525.01 1393.81 1522.27 Q1397.38 1519.54 1403.93 1519.54 Q1407.18 1519.54 1410.04 1520.01 Q1412.91 1520.49 1415.33 1521.45 Z\" fill=\"#000000\" fill-rule=\"evenodd\" fill-opacity=\"1\" /><path clip-path=\"url(#clip050)\" d=\"M 0 0 M38.479 931.514 L38.479 925.658 L88.0042 925.658 L88.0042 931.514 L38.479 931.514 Z\" fill=\"#000000\" fill-rule=\"evenodd\" fill-opacity=\"1\" /><path clip-path=\"url(#clip050)\" d=\"M 0 0 M56.4621 905.702 Q56.4621 910.412 60.1542 913.149 Q63.8145 915.887 70.212 915.887 Q76.6095 915.887 80.3017 913.181 Q83.9619 910.444 83.9619 905.702 Q83.9619 901.023 80.2698 898.285 Q76.5777 895.548 70.212 895.548 Q63.8781 895.548 60.186 898.285 Q56.4621 901.023 56.4621 905.702 M51.4968 905.702 Q51.4968 898.063 56.4621 893.702 Q61.4273 889.342 70.212 889.342 Q78.9649 889.342 83.9619 893.702 Q88.9272 898.063 88.9272 905.702 Q88.9272 913.372 83.9619 917.733 Q78.9649 922.061 70.212 922.061 Q61.4273 922.061 56.4621 917.733 Q51.4968 913.372 51.4968 905.702 Z\" fill=\"#000000\" fill-rule=\"evenodd\" fill-opacity=\"1\" /><path clip-path=\"url(#clip050)\" d=\"M 0 0 M69.7664 859.741 Q63.4007 859.741 59.8996 862.383 Q56.3984 864.993 56.3984 869.735 Q56.3984 874.446 59.8996 877.088 Q63.4007 879.698 69.7664 879.698 Q76.1003 879.698 79.6014 877.088 Q83.1026 874.446 83.1026 869.735 Q83.1026 864.993 79.6014 862.383 Q76.1003 859.741 69.7664 859.741 M83.58 853.885 Q92.683 853.885 97.1071 857.927 Q101.563 861.969 101.563 870.308 Q101.563 873.396 101.086 876.133 Q100.64 878.87 99.6852 881.448 L93.9879 881.448 Q95.3884 878.87 96.0568 876.356 Q96.7252 873.841 96.7252 871.231 Q96.7252 865.47 93.7015 862.606 Q90.7096 859.741 84.6303 859.741 L81.7339 859.741 Q84.885 861.555 86.4446 864.388 Q88.0042 867.221 88.0042 871.168 Q88.0042 877.724 83.0071 881.735 Q78.01 885.745 69.7664 885.745 Q61.491 885.745 56.4939 881.735 Q51.4968 877.724 51.4968 871.168 Q51.4968 867.221 53.0564 864.388 Q54.616 861.555 57.7671 859.741 L52.3562 859.741 L52.3562 853.885 L83.58 853.885 Z\" fill=\"#000000\" fill-rule=\"evenodd\" fill-opacity=\"1\" /><path clip-path=\"url(#clip050)\" d=\"M 0 0 M82.5933 845.8 L82.5933 835.297 L46.3406 835.297 L48.6323 846.723 L42.7758 846.723 L40.4842 835.36 L40.4842 828.931 L82.5933 828.931 L82.5933 818.428 L88.0042 818.428 L88.0042 845.8 L82.5933 845.8 Z\" fill=\"#000000\" fill-rule=\"evenodd\" fill-opacity=\"1\" /><path clip-path=\"url(#clip050)\" d=\"M 0 0 M44.7174 797.707 Q44.7174 802.673 49.6189 805.187 Q54.4887 807.67 64.2919 807.67 Q74.0633 807.67 78.9649 805.187 Q83.8346 802.673 83.8346 797.707 Q83.8346 792.71 78.9649 790.228 Q74.0633 787.713 64.2919 787.713 Q54.4887 787.713 49.6189 790.228 Q44.7174 792.71 44.7174 797.707 M39.6248 797.707 Q39.6248 789.718 45.9587 785.517 Q52.2607 781.284 64.2919 781.284 Q76.2913 781.284 82.6251 785.517 Q88.9272 789.718 88.9272 797.707 Q88.9272 805.696 82.6251 809.929 Q76.2913 814.131 64.2919 814.131 Q52.2607 814.131 45.9587 809.929 Q39.6248 805.696 39.6248 797.707 Z\" fill=\"#000000\" fill-rule=\"evenodd\" fill-opacity=\"1\" /><path clip-path=\"url(#clip050)\" d=\"M 0 0 M57.8307 733.764 Q57.2578 734.75 57.0032 735.928 Q56.7167 737.074 56.7167 738.474 Q56.7167 743.44 59.9632 746.113 Q63.1779 748.755 69.2253 748.755 L88.0042 748.755 L88.0042 754.643 L52.3562 754.643 L52.3562 748.755 L57.8944 748.755 Q54.6479 746.909 53.0883 743.949 Q51.4968 740.989 51.4968 736.756 Q51.4968 736.151 51.5923 735.419 Q51.656 734.687 51.8151 733.796 L57.8307 733.764 Z\" fill=\"#000000\" fill-rule=\"evenodd\" fill-opacity=\"1\" /><path clip-path=\"url(#clip050)\" d=\"M 0 0 M68.7161 698.561 L71.5806 698.561 L71.5806 725.488 Q77.6281 725.106 80.8109 721.86 Q83.9619 718.582 83.9619 712.757 Q83.9619 709.383 83.1344 706.232 Q82.3069 703.049 80.6518 699.93 L86.1899 699.93 Q87.5267 703.081 88.227 706.391 Q88.9272 709.701 88.9272 713.107 Q88.9272 721.637 83.9619 726.634 Q78.9967 731.599 70.5303 731.599 Q61.7774 731.599 56.6531 726.889 Q51.4968 722.146 51.4968 714.126 Q51.4968 706.932 56.1438 702.763 Q60.7589 698.561 68.7161 698.561 M66.9973 704.418 Q62.1912 704.482 59.3266 707.123 Q56.4621 709.733 56.4621 714.062 Q56.4621 718.964 59.2312 721.924 Q62.0002 724.852 67.0292 725.297 L66.9973 704.418 Z\" fill=\"#000000\" fill-rule=\"evenodd\" fill-opacity=\"1\" /><path clip-path=\"url(#clip050)\" d=\"M 0 0 M53.4065 669.693 L58.9447 669.693 Q57.6716 672.176 57.035 674.849 Q56.3984 677.523 56.3984 680.387 Q56.3984 684.748 57.7352 686.944 Q59.072 689.108 61.7456 689.108 Q63.7826 689.108 64.9603 687.549 Q66.1061 685.989 67.1565 681.279 L67.6021 679.273 Q68.9389 673.035 71.3897 670.425 Q73.8086 667.783 78.1691 667.783 Q83.1344 667.783 86.0308 671.73 Q88.9272 675.645 88.9272 682.52 Q88.9272 685.384 88.3543 688.504 Q87.8132 691.591 86.6992 695.028 L80.6518 695.028 Q82.3387 691.782 83.198 688.631 Q84.0256 685.48 84.0256 682.393 Q84.0256 678.255 82.6251 676.027 Q81.1929 673.799 78.6147 673.799 Q76.2276 673.799 74.9545 675.422 Q73.6813 677.013 72.5037 682.456 L72.0262 684.493 Q70.8804 689.936 68.5251 692.355 Q66.138 694.774 62.0002 694.774 Q56.9713 694.774 54.2341 691.209 Q51.4968 687.644 51.4968 681.088 Q51.4968 677.841 51.9743 674.976 Q52.4517 672.112 53.4065 669.693 Z\" fill=\"#000000\" fill-rule=\"evenodd\" fill-opacity=\"1\" /><path clip-path=\"url(#clip050)\" d=\"M 0 0 M52.3562 661.64 L52.3562 655.784 L88.0042 655.784 L88.0042 661.64 L52.3562 661.64 M38.479 661.64 L38.479 655.784 L45.895 655.784 L45.895 661.64 L38.479 661.64 Z\" fill=\"#000000\" fill-rule=\"evenodd\" fill-opacity=\"1\" /><path clip-path=\"url(#clip050)\" d=\"M 0 0 M57.7671 626.183 L38.479 626.183 L38.479 620.327 L88.0042 620.327 L88.0042 626.183 L82.657 626.183 Q85.8398 628.029 87.3994 630.862 Q88.9272 633.663 88.9272 637.61 Q88.9272 644.071 83.771 648.145 Q78.6147 652.187 70.212 652.187 Q61.8093 652.187 56.6531 648.145 Q51.4968 644.071 51.4968 637.61 Q51.4968 633.663 53.0564 630.862 Q54.5842 628.029 57.7671 626.183 M70.212 646.14 Q76.6732 646.14 80.3653 643.498 Q84.0256 640.824 84.0256 636.177 Q84.0256 631.531 80.3653 628.857 Q76.6732 626.183 70.212 626.183 Q63.7508 626.183 60.0905 628.857 Q56.3984 631.531 56.3984 636.177 Q56.3984 640.824 60.0905 643.498 Q63.7508 646.14 70.212 646.14 Z\" fill=\"#000000\" fill-rule=\"evenodd\" fill-opacity=\"1\" /><path clip-path=\"url(#clip050)\" d=\"M 0 0 M73.9359 614.789 L52.3562 614.789 L52.3562 608.932 L73.7131 608.932 Q78.7739 608.932 81.3202 606.959 Q83.8346 604.986 83.8346 601.039 Q83.8346 596.296 80.8109 593.559 Q77.7872 590.79 72.5673 590.79 L52.3562 590.79 L52.3562 584.934 L88.0042 584.934 L88.0042 590.79 L82.5296 590.79 Q85.7762 592.923 87.3676 595.755 Q88.9272 598.556 88.9272 602.28 Q88.9272 608.423 85.1078 611.606 Q81.2883 614.789 73.9359 614.789 M51.4968 600.052 L51.4968 600.052 Z\" fill=\"#000000\" fill-rule=\"evenodd\" fill-opacity=\"1\" /><path clip-path=\"url(#clip050)\" d=\"M 0 0 M70.0847 562.59 Q70.0847 569.688 71.7079 572.425 Q73.3312 575.162 77.2461 575.162 Q80.3653 575.162 82.2114 573.125 Q84.0256 571.056 84.0256 567.523 Q84.0256 562.654 80.5881 559.725 Q77.1188 556.765 71.3897 556.765 L70.0847 556.765 L70.0847 562.59 M67.6657 550.909 L88.0042 550.909 L88.0042 556.765 L82.5933 556.765 Q85.8398 558.77 87.3994 561.762 Q88.9272 564.754 88.9272 569.083 Q88.9272 574.557 85.8716 577.804 Q82.7843 581.019 77.6281 581.019 Q71.6125 581.019 68.5569 577.008 Q65.5014 572.966 65.5014 564.977 L65.5014 556.765 L64.9285 556.765 Q60.8862 556.765 58.6901 559.439 Q56.4621 562.081 56.4621 566.887 Q56.4621 569.942 57.1941 572.839 Q57.9262 575.735 59.3903 578.409 L53.9795 578.409 Q52.7381 575.194 52.1334 572.17 Q51.4968 569.147 51.4968 566.282 Q51.4968 558.548 55.5072 554.728 Q59.5176 550.909 67.6657 550.909 Z\" fill=\"#000000\" fill-rule=\"evenodd\" fill-opacity=\"1\" /><path clip-path=\"url(#clip050)\" d=\"M 0 0 M38.479 544.766 L38.479 538.909 L88.0042 538.909 L88.0042 544.766 L38.479 544.766 Z\" fill=\"#000000\" fill-rule=\"evenodd\" fill-opacity=\"1\" /><polyline clip-path=\"url(#clip052)\" style=\"stroke:#009af9; stroke-width:4; stroke-opacity:1; fill:none\" points=\"\n",
       "  215.538,1139.26 258.282,1515.12 301.026,1501.17 343.771,1755.1 386.515,1527.75 429.259,1763.62 472.004,1759.67 514.748,1819.62 \n",
       "  \"/>\n",
       "</svg>\n"
      ],
      "image/svg+xml": [
       "<?xml version=\"1.0\" encoding=\"utf-8\"?>\n",
       "<svg xmlns=\"http://www.w3.org/2000/svg\" xmlns:xlink=\"http://www.w3.org/1999/xlink\" width=\"600\" height=\"400\" viewBox=\"0 0 2400 1600\">\n",
       "<defs>\n",
       "  <clipPath id=\"clip020\">\n",
       "    <rect x=\"0\" y=\"0\" width=\"2400\" height=\"1600\"/>\n",
       "  </clipPath>\n",
       "</defs>\n",
       "<path clip-path=\"url(#clip020)\" d=\"\n",
       "M0 1600 L2400 1600 L2400 0 L0 0  Z\n",
       "  \" fill=\"#ffffff\" fill-rule=\"evenodd\" fill-opacity=\"1\"/>\n",
       "<defs>\n",
       "  <clipPath id=\"clip021\">\n",
       "    <rect x=\"480\" y=\"0\" width=\"1681\" height=\"1600\"/>\n",
       "  </clipPath>\n",
       "</defs>\n",
       "<path clip-path=\"url(#clip020)\" d=\"\n",
       "M215.538 1423.18 L2352.76 1423.18 L2352.76 47.2441 L215.538 47.2441  Z\n",
       "  \" fill=\"#ffffff\" fill-rule=\"evenodd\" fill-opacity=\"1\"/>\n",
       "<defs>\n",
       "  <clipPath id=\"clip022\">\n",
       "    <rect x=\"215\" y=\"47\" width=\"2138\" height=\"1377\"/>\n",
       "  </clipPath>\n",
       "</defs>\n",
       "<polyline clip-path=\"url(#clip022)\" style=\"stroke:#000000; stroke-width:2; stroke-opacity:0.1; fill:none\" points=\"\n",
       "  600.237,1423.18 600.237,47.2441 \n",
       "  \"/>\n",
       "<polyline clip-path=\"url(#clip022)\" style=\"stroke:#000000; stroke-width:2; stroke-opacity:0.1; fill:none\" points=\"\n",
       "  1027.68,1423.18 1027.68,47.2441 \n",
       "  \"/>\n",
       "<polyline clip-path=\"url(#clip022)\" style=\"stroke:#000000; stroke-width:2; stroke-opacity:0.1; fill:none\" points=\"\n",
       "  1455.12,1423.18 1455.12,47.2441 \n",
       "  \"/>\n",
       "<polyline clip-path=\"url(#clip022)\" style=\"stroke:#000000; stroke-width:2; stroke-opacity:0.1; fill:none\" points=\"\n",
       "  1882.57,1423.18 1882.57,47.2441 \n",
       "  \"/>\n",
       "<polyline clip-path=\"url(#clip022)\" style=\"stroke:#000000; stroke-width:2; stroke-opacity:0.1; fill:none\" points=\"\n",
       "  2310.01,1423.18 2310.01,47.2441 \n",
       "  \"/>\n",
       "<polyline clip-path=\"url(#clip022)\" style=\"stroke:#000000; stroke-width:2; stroke-opacity:0.1; fill:none\" points=\"\n",
       "  215.538,1423.18 2352.76,1423.18 \n",
       "  \"/>\n",
       "<polyline clip-path=\"url(#clip022)\" style=\"stroke:#000000; stroke-width:2; stroke-opacity:0.1; fill:none\" points=\"\n",
       "  215.538,1018.49 2352.76,1018.49 \n",
       "  \"/>\n",
       "<polyline clip-path=\"url(#clip022)\" style=\"stroke:#000000; stroke-width:2; stroke-opacity:0.1; fill:none\" points=\"\n",
       "  215.538,613.806 2352.76,613.806 \n",
       "  \"/>\n",
       "<polyline clip-path=\"url(#clip022)\" style=\"stroke:#000000; stroke-width:2; stroke-opacity:0.1; fill:none\" points=\"\n",
       "  215.538,209.119 2352.76,209.119 \n",
       "  \"/>\n",
       "<polyline clip-path=\"url(#clip020)\" style=\"stroke:#000000; stroke-width:4; stroke-opacity:1; fill:none\" points=\"\n",
       "  215.538,1423.18 2352.76,1423.18 \n",
       "  \"/>\n",
       "<polyline clip-path=\"url(#clip020)\" style=\"stroke:#000000; stroke-width:4; stroke-opacity:1; fill:none\" points=\"\n",
       "  215.538,1423.18 215.538,47.2441 \n",
       "  \"/>\n",
       "<polyline clip-path=\"url(#clip020)\" style=\"stroke:#000000; stroke-width:4; stroke-opacity:1; fill:none\" points=\"\n",
       "  600.237,1423.18 600.237,1406.67 \n",
       "  \"/>\n",
       "<polyline clip-path=\"url(#clip020)\" style=\"stroke:#000000; stroke-width:4; stroke-opacity:1; fill:none\" points=\"\n",
       "  1027.68,1423.18 1027.68,1406.67 \n",
       "  \"/>\n",
       "<polyline clip-path=\"url(#clip020)\" style=\"stroke:#000000; stroke-width:4; stroke-opacity:1; fill:none\" points=\"\n",
       "  1455.12,1423.18 1455.12,1406.67 \n",
       "  \"/>\n",
       "<polyline clip-path=\"url(#clip020)\" style=\"stroke:#000000; stroke-width:4; stroke-opacity:1; fill:none\" points=\"\n",
       "  1882.57,1423.18 1882.57,1406.67 \n",
       "  \"/>\n",
       "<polyline clip-path=\"url(#clip020)\" style=\"stroke:#000000; stroke-width:4; stroke-opacity:1; fill:none\" points=\"\n",
       "  2310.01,1423.18 2310.01,1406.67 \n",
       "  \"/>\n",
       "<polyline clip-path=\"url(#clip020)\" style=\"stroke:#000000; stroke-width:4; stroke-opacity:1; fill:none\" points=\"\n",
       "  215.538,1423.18 241.184,1423.18 \n",
       "  \"/>\n",
       "<polyline clip-path=\"url(#clip020)\" style=\"stroke:#000000; stroke-width:4; stroke-opacity:1; fill:none\" points=\"\n",
       "  215.538,1018.49 241.184,1018.49 \n",
       "  \"/>\n",
       "<polyline clip-path=\"url(#clip020)\" style=\"stroke:#000000; stroke-width:4; stroke-opacity:1; fill:none\" points=\"\n",
       "  215.538,613.806 241.184,613.806 \n",
       "  \"/>\n",
       "<polyline clip-path=\"url(#clip020)\" style=\"stroke:#000000; stroke-width:4; stroke-opacity:1; fill:none\" points=\"\n",
       "  215.538,209.119 241.184,209.119 \n",
       "  \"/>\n",
       "<path clip-path=\"url(#clip020)\" d=\"M 0 0 M577.112 1472.72 L584.751 1472.72 L584.751 1446.35 L576.441 1448.02 L576.441 1443.76 L584.705 1442.09 L589.38 1442.09 L589.38 1472.72 L597.019 1472.72 L597.019 1476.65 L577.112 1476.65 L577.112 1472.72 Z\" fill=\"#000000\" fill-rule=\"evenodd\" fill-opacity=\"1\" /><path clip-path=\"url(#clip020)\" d=\"M 0 0 M612.089 1445.17 Q608.478 1445.17 606.649 1448.74 Q604.843 1452.28 604.843 1459.41 Q604.843 1466.51 606.649 1470.08 Q608.478 1473.62 612.089 1473.62 Q615.723 1473.62 617.528 1470.08 Q619.357 1466.51 619.357 1459.41 Q619.357 1452.28 617.528 1448.74 Q615.723 1445.17 612.089 1445.17 M612.089 1441.47 Q617.899 1441.47 620.954 1446.07 Q624.033 1450.66 624.033 1459.41 Q624.033 1468.13 620.954 1472.74 Q617.899 1477.32 612.089 1477.32 Q606.279 1477.32 603.2 1472.74 Q600.144 1468.13 600.144 1459.41 Q600.144 1450.66 603.2 1446.07 Q606.279 1441.47 612.089 1441.47 Z\" fill=\"#000000\" fill-rule=\"evenodd\" fill-opacity=\"1\" /><path clip-path=\"url(#clip020)\" d=\"M 0 0 M1008.83 1472.72 L1025.15 1472.72 L1025.15 1476.65 L1003.2 1476.65 L1003.2 1472.72 Q1005.86 1469.96 1010.45 1465.33 Q1015.05 1460.68 1016.23 1459.34 Q1018.48 1456.81 1019.36 1455.08 Q1020.26 1453.32 1020.26 1451.63 Q1020.26 1448.87 1018.32 1447.14 Q1016.4 1445.4 1013.29 1445.4 Q1011.09 1445.4 1008.64 1446.17 Q1006.21 1446.93 1003.43 1448.48 L1003.43 1443.76 Q1006.26 1442.62 1008.71 1442.05 Q1011.16 1441.47 1013.2 1441.47 Q1018.57 1441.47 1021.77 1444.15 Q1024.96 1446.84 1024.96 1451.33 Q1024.96 1453.46 1024.15 1455.38 Q1023.36 1457.28 1021.26 1459.87 Q1020.68 1460.54 1017.58 1463.76 Q1014.47 1466.95 1008.83 1472.72 Z\" fill=\"#000000\" fill-rule=\"evenodd\" fill-opacity=\"1\" /><path clip-path=\"url(#clip020)\" d=\"M 0 0 M1040.22 1445.17 Q1036.6 1445.17 1034.78 1448.74 Q1032.97 1452.28 1032.97 1459.41 Q1032.97 1466.51 1034.78 1470.08 Q1036.6 1473.62 1040.22 1473.62 Q1043.85 1473.62 1045.65 1470.08 Q1047.48 1466.51 1047.48 1459.41 Q1047.48 1452.28 1045.65 1448.74 Q1043.85 1445.17 1040.22 1445.17 M1040.22 1441.47 Q1046.03 1441.47 1049.08 1446.07 Q1052.16 1450.66 1052.16 1459.41 Q1052.16 1468.13 1049.08 1472.74 Q1046.03 1477.32 1040.22 1477.32 Q1034.41 1477.32 1031.33 1472.74 Q1028.27 1468.13 1028.27 1459.41 Q1028.27 1450.66 1031.33 1446.07 Q1034.41 1441.47 1040.22 1441.47 Z\" fill=\"#000000\" fill-rule=\"evenodd\" fill-opacity=\"1\" /><path clip-path=\"url(#clip020)\" d=\"M 0 0 M1445.87 1458.02 Q1449.22 1458.74 1451.1 1461 Q1452.99 1463.27 1452.99 1466.61 Q1452.99 1471.72 1449.48 1474.52 Q1445.96 1477.32 1439.48 1477.32 Q1437.3 1477.32 1434.99 1476.88 Q1432.69 1476.47 1430.24 1475.61 L1430.24 1471.1 Q1432.18 1472.23 1434.5 1472.81 Q1436.81 1473.39 1439.34 1473.39 Q1443.74 1473.39 1446.03 1471.65 Q1448.34 1469.92 1448.34 1466.61 Q1448.34 1463.55 1446.19 1461.84 Q1444.06 1460.1 1440.24 1460.1 L1436.21 1460.1 L1436.21 1456.26 L1440.43 1456.26 Q1443.87 1456.26 1445.7 1454.89 Q1447.53 1453.5 1447.53 1450.91 Q1447.53 1448.25 1445.63 1446.84 Q1443.76 1445.4 1440.24 1445.4 Q1438.32 1445.4 1436.12 1445.82 Q1433.92 1446.24 1431.28 1447.11 L1431.28 1442.95 Q1433.94 1442.21 1436.26 1441.84 Q1438.6 1441.47 1440.66 1441.47 Q1445.98 1441.47 1449.08 1443.9 Q1452.18 1446.3 1452.18 1450.43 Q1452.18 1453.3 1450.54 1455.29 Q1448.9 1457.25 1445.87 1458.02 Z\" fill=\"#000000\" fill-rule=\"evenodd\" fill-opacity=\"1\" /><path clip-path=\"url(#clip020)\" d=\"M 0 0 M1468.06 1445.17 Q1464.45 1445.17 1462.62 1448.74 Q1460.82 1452.28 1460.82 1459.41 Q1460.82 1466.51 1462.62 1470.08 Q1464.45 1473.62 1468.06 1473.62 Q1471.7 1473.62 1473.5 1470.08 Q1475.33 1466.51 1475.33 1459.41 Q1475.33 1452.28 1473.5 1448.74 Q1471.7 1445.17 1468.06 1445.17 M1468.06 1441.47 Q1473.87 1441.47 1476.93 1446.07 Q1480.01 1450.66 1480.01 1459.41 Q1480.01 1468.13 1476.93 1472.74 Q1473.87 1477.32 1468.06 1477.32 Q1462.25 1477.32 1459.18 1472.74 Q1456.12 1468.13 1456.12 1459.41 Q1456.12 1450.66 1459.18 1446.07 Q1462.25 1441.47 1468.06 1441.47 Z\" fill=\"#000000\" fill-rule=\"evenodd\" fill-opacity=\"1\" /><path clip-path=\"url(#clip020)\" d=\"M 0 0 M1872.07 1446.17 L1860.26 1464.61 L1872.07 1464.61 L1872.07 1446.17 M1870.84 1442.09 L1876.72 1442.09 L1876.72 1464.61 L1881.65 1464.61 L1881.65 1468.5 L1876.72 1468.5 L1876.72 1476.65 L1872.07 1476.65 L1872.07 1468.5 L1856.47 1468.5 L1856.47 1463.99 L1870.84 1442.09 Z\" fill=\"#000000\" fill-rule=\"evenodd\" fill-opacity=\"1\" /><path clip-path=\"url(#clip020)\" d=\"M 0 0 M1896.72 1445.17 Q1893.11 1445.17 1891.28 1448.74 Q1889.48 1452.28 1889.48 1459.41 Q1889.48 1466.51 1891.28 1470.08 Q1893.11 1473.62 1896.72 1473.62 Q1900.36 1473.62 1902.16 1470.08 Q1903.99 1466.51 1903.99 1459.41 Q1903.99 1452.28 1902.16 1448.74 Q1900.36 1445.17 1896.72 1445.17 M1896.72 1441.47 Q1902.53 1441.47 1905.59 1446.07 Q1908.67 1450.66 1908.67 1459.41 Q1908.67 1468.13 1905.59 1472.74 Q1902.53 1477.32 1896.72 1477.32 Q1890.91 1477.32 1887.83 1472.74 Q1884.78 1468.13 1884.78 1459.41 Q1884.78 1450.66 1887.83 1446.07 Q1890.91 1441.47 1896.72 1441.47 Z\" fill=\"#000000\" fill-rule=\"evenodd\" fill-opacity=\"1\" /><path clip-path=\"url(#clip020)\" d=\"M 0 0 M2286.78 1442.09 L2305.14 1442.09 L2305.14 1446.03 L2291.06 1446.03 L2291.06 1454.5 Q2292.08 1454.15 2293.1 1453.99 Q2294.12 1453.8 2295.14 1453.8 Q2300.93 1453.8 2304.31 1456.98 Q2307.69 1460.15 2307.69 1465.56 Q2307.69 1471.14 2304.21 1474.24 Q2300.74 1477.32 2294.42 1477.32 Q2292.25 1477.32 2289.98 1476.95 Q2287.73 1476.58 2285.32 1475.84 L2285.32 1471.14 Q2287.41 1472.28 2289.63 1472.83 Q2291.85 1473.39 2294.33 1473.39 Q2298.33 1473.39 2300.67 1471.28 Q2303.01 1469.18 2303.01 1465.56 Q2303.01 1461.95 2300.67 1459.85 Q2298.33 1457.74 2294.33 1457.74 Q2292.45 1457.74 2290.58 1458.16 Q2288.73 1458.57 2286.78 1459.45 L2286.78 1442.09 Z\" fill=\"#000000\" fill-rule=\"evenodd\" fill-opacity=\"1\" /><path clip-path=\"url(#clip020)\" d=\"M 0 0 M2322.75 1445.17 Q2319.14 1445.17 2317.31 1448.74 Q2315.51 1452.28 2315.51 1459.41 Q2315.51 1466.51 2317.31 1470.08 Q2319.14 1473.62 2322.75 1473.62 Q2326.39 1473.62 2328.19 1470.08 Q2330.02 1466.51 2330.02 1459.41 Q2330.02 1452.28 2328.19 1448.74 Q2326.39 1445.17 2322.75 1445.17 M2322.75 1441.47 Q2328.56 1441.47 2331.62 1446.07 Q2334.7 1450.66 2334.7 1459.41 Q2334.7 1468.13 2331.62 1472.74 Q2328.56 1477.32 2322.75 1477.32 Q2316.94 1477.32 2313.87 1472.74 Q2310.81 1468.13 2310.81 1459.41 Q2310.81 1450.66 2313.87 1446.07 Q2316.94 1441.47 2322.75 1441.47 Z\" fill=\"#000000\" fill-rule=\"evenodd\" fill-opacity=\"1\" /><path clip-path=\"url(#clip020)\" d=\"M 0 0 M127.256 1425.58 L139.732 1425.58 L139.732 1429.37 L127.256 1429.37 L127.256 1425.58 Z\" fill=\"#000000\" fill-rule=\"evenodd\" fill-opacity=\"1\" /><path clip-path=\"url(#clip020)\" d=\"M 0 0 M145.612 1436.52 L153.251 1436.52 L153.251 1410.16 L144.941 1411.83 L144.941 1407.57 L153.204 1405.9 L157.88 1405.9 L157.88 1436.52 L165.519 1436.52 L165.519 1440.46 L145.612 1440.46 L145.612 1436.52 Z\" fill=\"#000000\" fill-rule=\"evenodd\" fill-opacity=\"1\" /><path clip-path=\"url(#clip020)\" d=\"M 0 0 M170.635 1405.9 L188.991 1405.9 L188.991 1409.84 L174.917 1409.84 L174.917 1418.31 Q175.936 1417.96 176.954 1417.8 Q177.973 1417.61 178.991 1417.61 Q184.778 1417.61 188.158 1420.78 Q191.538 1423.96 191.538 1429.37 Q191.538 1434.95 188.065 1438.05 Q184.593 1441.13 178.274 1441.13 Q176.098 1441.13 173.829 1440.76 Q171.584 1440.39 169.177 1439.65 L169.177 1434.95 Q171.26 1436.08 173.482 1436.64 Q175.704 1437.2 178.181 1437.2 Q182.186 1437.2 184.524 1435.09 Q186.862 1432.98 186.862 1429.37 Q186.862 1425.76 184.524 1423.65 Q182.186 1421.55 178.181 1421.55 Q176.306 1421.55 174.431 1421.96 Q172.579 1422.38 170.635 1423.26 L170.635 1405.9 Z\" fill=\"#000000\" fill-rule=\"evenodd\" fill-opacity=\"1\" /><path clip-path=\"url(#clip020)\" d=\"M 0 0 M126.26 1020.89 L138.737 1020.89 L138.737 1024.68 L126.26 1024.68 L126.26 1020.89 Z\" fill=\"#000000\" fill-rule=\"evenodd\" fill-opacity=\"1\" /><path clip-path=\"url(#clip020)\" d=\"M 0 0 M144.617 1031.84 L152.255 1031.84 L152.255 1005.47 L143.945 1007.14 L143.945 1002.88 L152.209 1001.21 L156.885 1001.21 L156.885 1031.84 L164.524 1031.84 L164.524 1035.77 L144.617 1035.77 L144.617 1031.84 Z\" fill=\"#000000\" fill-rule=\"evenodd\" fill-opacity=\"1\" /><path clip-path=\"url(#clip020)\" d=\"M 0 0 M179.593 1004.29 Q175.982 1004.29 174.153 1007.86 Q172.348 1011.4 172.348 1018.53 Q172.348 1025.63 174.153 1029.2 Q175.982 1032.74 179.593 1032.74 Q183.227 1032.74 185.033 1029.2 Q186.862 1025.63 186.862 1018.53 Q186.862 1011.4 185.033 1007.86 Q183.227 1004.29 179.593 1004.29 M179.593 1000.59 Q185.403 1000.59 188.459 1005.19 Q191.538 1009.78 191.538 1018.53 Q191.538 1027.25 188.459 1031.86 Q185.403 1036.44 179.593 1036.44 Q173.783 1036.44 170.704 1031.86 Q167.649 1027.25 167.649 1018.53 Q167.649 1009.78 170.704 1005.19 Q173.783 1000.59 179.593 1000.59 Z\" fill=\"#000000\" fill-rule=\"evenodd\" fill-opacity=\"1\" /><path clip-path=\"url(#clip020)\" d=\"M 0 0 M153.042 616.202 L165.519 616.202 L165.519 619.998 L153.042 619.998 L153.042 616.202 Z\" fill=\"#000000\" fill-rule=\"evenodd\" fill-opacity=\"1\" /><path clip-path=\"url(#clip020)\" d=\"M 0 0 M170.635 596.526 L188.991 596.526 L188.991 600.461 L174.917 600.461 L174.917 608.933 Q175.936 608.586 176.954 608.424 Q177.973 608.239 178.991 608.239 Q184.778 608.239 188.158 611.41 Q191.538 614.581 191.538 619.998 Q191.538 625.577 188.065 628.678 Q184.593 631.757 178.274 631.757 Q176.098 631.757 173.829 631.387 Q171.584 631.016 169.177 630.276 L169.177 625.577 Q171.26 626.711 173.482 627.266 Q175.704 627.822 178.181 627.822 Q182.186 627.822 184.524 625.716 Q186.862 623.609 186.862 619.998 Q186.862 616.387 184.524 614.28 Q182.186 612.174 178.181 612.174 Q176.306 612.174 174.431 612.591 Q172.579 613.007 170.635 613.887 L170.635 596.526 Z\" fill=\"#000000\" fill-rule=\"evenodd\" fill-opacity=\"1\" /><path clip-path=\"url(#clip020)\" d=\"M 0 0 M179.593 194.918 Q175.982 194.918 174.153 198.482 Q172.348 202.024 172.348 209.154 Q172.348 216.26 174.153 219.825 Q175.982 223.366 179.593 223.366 Q183.227 223.366 185.033 219.825 Q186.862 216.26 186.862 209.154 Q186.862 202.024 185.033 198.482 Q183.227 194.918 179.593 194.918 M179.593 191.214 Q185.403 191.214 188.459 195.82 Q191.538 200.404 191.538 209.154 Q191.538 217.88 188.459 222.487 Q185.403 227.07 179.593 227.07 Q173.783 227.07 170.704 222.487 Q167.649 217.88 167.649 209.154 Q167.649 200.404 170.704 195.82 Q173.783 191.214 179.593 191.214 Z\" fill=\"#000000\" fill-rule=\"evenodd\" fill-opacity=\"1\" /><path clip-path=\"url(#clip020)\" d=\"M 0 0 M1151.06 1520.4 L1156.91 1520.4 L1156.91 1556.04 L1151.06 1556.04 L1151.06 1520.4 M1151.06 1506.52 L1156.91 1506.52 L1156.91 1513.93 L1151.06 1513.93 L1151.06 1506.52 Z\" fill=\"#000000\" fill-rule=\"evenodd\" fill-opacity=\"1\" /><path clip-path=\"url(#clip020)\" d=\"M 0 0 M1168.85 1510.27 L1168.85 1520.4 L1180.91 1520.4 L1180.91 1524.95 L1168.85 1524.95 L1168.85 1544.3 Q1168.85 1548.66 1170.03 1549.9 Q1171.24 1551.14 1174.9 1551.14 L1180.91 1551.14 L1180.91 1556.04 L1174.9 1556.04 Q1168.12 1556.04 1165.54 1553.53 Q1162.96 1550.98 1162.96 1544.3 L1162.96 1524.95 L1158.66 1524.95 L1158.66 1520.4 L1162.96 1520.4 L1162.96 1510.27 L1168.85 1510.27 Z\" fill=\"#000000\" fill-rule=\"evenodd\" fill-opacity=\"1\" /><path clip-path=\"url(#clip020)\" d=\"M 0 0 M1217.55 1536.76 L1217.55 1539.62 L1190.62 1539.62 Q1191 1545.67 1194.25 1548.85 Q1197.53 1552 1203.35 1552 Q1206.72 1552 1209.87 1551.17 Q1213.06 1550.35 1216.18 1548.69 L1216.18 1554.23 Q1213.03 1555.57 1209.72 1556.27 Q1206.41 1556.97 1203 1556.97 Q1194.47 1556.97 1189.47 1552 Q1184.51 1547.04 1184.51 1538.57 Q1184.51 1529.82 1189.22 1524.69 Q1193.96 1519.54 1201.98 1519.54 Q1209.17 1519.54 1213.34 1524.18 Q1217.55 1528.8 1217.55 1536.76 M1211.69 1535.04 Q1211.63 1530.23 1208.98 1527.37 Q1206.37 1524.5 1202.05 1524.5 Q1197.14 1524.5 1194.18 1527.27 Q1191.26 1530.04 1190.81 1535.07 L1211.69 1535.04 Z\" fill=\"#000000\" fill-rule=\"evenodd\" fill-opacity=\"1\" /><path clip-path=\"url(#clip020)\" d=\"M 0 0 M1244.35 1525.87 Q1243.36 1525.3 1242.18 1525.04 Q1241.03 1524.76 1239.63 1524.76 Q1234.67 1524.76 1232 1528 Q1229.35 1531.22 1229.35 1537.27 L1229.35 1556.04 L1223.47 1556.04 L1223.47 1520.4 L1229.35 1520.4 L1229.35 1525.93 Q1231.2 1522.69 1234.16 1521.13 Q1237.12 1519.54 1241.35 1519.54 Q1241.96 1519.54 1242.69 1519.63 Q1243.42 1519.7 1244.31 1519.85 L1244.35 1525.87 Z\" fill=\"#000000\" fill-rule=\"evenodd\" fill-opacity=\"1\" /><path clip-path=\"url(#clip020)\" d=\"M 0 0 M1266.69 1538.12 Q1259.59 1538.12 1256.85 1539.75 Q1254.12 1541.37 1254.12 1545.29 Q1254.12 1548.4 1256.15 1550.25 Q1258.22 1552.07 1261.76 1552.07 Q1266.63 1552.07 1269.55 1548.63 Q1272.51 1545.16 1272.51 1539.43 L1272.51 1538.12 L1266.69 1538.12 M1278.37 1535.71 L1278.37 1556.04 L1272.51 1556.04 L1272.51 1550.63 Q1270.51 1553.88 1267.52 1555.44 Q1264.52 1556.97 1260.2 1556.97 Q1254.72 1556.97 1251.47 1553.91 Q1248.26 1550.82 1248.26 1545.67 Q1248.26 1539.65 1252.27 1536.6 Q1256.31 1533.54 1264.3 1533.54 L1272.51 1533.54 L1272.51 1532.97 Q1272.51 1528.93 1269.84 1526.73 Q1267.2 1524.5 1262.39 1524.5 Q1259.34 1524.5 1256.44 1525.23 Q1253.54 1525.97 1250.87 1527.43 L1250.87 1522.02 Q1254.08 1520.78 1257.11 1520.17 Q1260.13 1519.54 1263 1519.54 Q1270.73 1519.54 1274.55 1523.55 Q1278.37 1527.56 1278.37 1535.71 Z\" fill=\"#000000\" fill-rule=\"evenodd\" fill-opacity=\"1\" /><path clip-path=\"url(#clip020)\" d=\"M 0 0 M1290.31 1510.27 L1290.31 1520.4 L1302.37 1520.4 L1302.37 1524.95 L1290.31 1524.95 L1290.31 1544.3 Q1290.31 1548.66 1291.48 1549.9 Q1292.69 1551.14 1296.35 1551.14 L1302.37 1551.14 L1302.37 1556.04 L1296.35 1556.04 Q1289.57 1556.04 1287 1553.53 Q1284.42 1550.98 1284.42 1544.3 L1284.42 1524.95 L1280.12 1524.95 L1280.12 1520.4 L1284.42 1520.4 L1284.42 1510.27 L1290.31 1510.27 Z\" fill=\"#000000\" fill-rule=\"evenodd\" fill-opacity=\"1\" /><path clip-path=\"url(#clip020)\" d=\"M 0 0 M1308.51 1520.4 L1314.37 1520.4 L1314.37 1556.04 L1308.51 1556.04 L1308.51 1520.4 M1308.51 1506.52 L1314.37 1506.52 L1314.37 1513.93 L1308.51 1513.93 L1308.51 1506.52 Z\" fill=\"#000000\" fill-rule=\"evenodd\" fill-opacity=\"1\" /><path clip-path=\"url(#clip020)\" d=\"M 0 0 M1334.32 1524.5 Q1329.61 1524.5 1326.88 1528.19 Q1324.14 1531.85 1324.14 1538.25 Q1324.14 1544.65 1326.84 1548.34 Q1329.58 1552 1334.32 1552 Q1339 1552 1341.74 1548.31 Q1344.48 1544.62 1344.48 1538.25 Q1344.48 1531.92 1341.74 1528.23 Q1339 1524.5 1334.32 1524.5 M1334.32 1519.54 Q1341.96 1519.54 1346.32 1524.5 Q1350.68 1529.47 1350.68 1538.25 Q1350.68 1547 1346.32 1552 Q1341.96 1556.97 1334.32 1556.97 Q1326.65 1556.97 1322.29 1552 Q1317.96 1547 1317.96 1538.25 Q1317.96 1529.47 1322.29 1524.5 Q1326.65 1519.54 1334.32 1519.54 Z\" fill=\"#000000\" fill-rule=\"evenodd\" fill-opacity=\"1\" /><path clip-path=\"url(#clip020)\" d=\"M 0 0 M1386.46 1534.53 L1386.46 1556.04 L1380.6 1556.04 L1380.6 1534.72 Q1380.6 1529.66 1378.63 1527.14 Q1376.66 1524.63 1372.71 1524.63 Q1367.97 1524.63 1365.23 1527.65 Q1362.49 1530.68 1362.49 1535.9 L1362.49 1556.04 L1356.6 1556.04 L1356.6 1520.4 L1362.49 1520.4 L1362.49 1525.93 Q1364.59 1522.72 1367.43 1521.13 Q1370.29 1519.54 1374.01 1519.54 Q1380.16 1519.54 1383.31 1523.36 Q1386.46 1527.14 1386.46 1534.53 Z\" fill=\"#000000\" fill-rule=\"evenodd\" fill-opacity=\"1\" /><path clip-path=\"url(#clip020)\" d=\"M 0 0 M1415.33 1521.45 L1415.33 1526.98 Q1412.85 1525.71 1410.17 1525.07 Q1407.5 1524.44 1404.63 1524.44 Q1400.27 1524.44 1398.08 1525.77 Q1395.91 1527.11 1395.91 1529.79 Q1395.91 1531.82 1397.47 1533 Q1399.03 1534.15 1403.74 1535.2 L1405.75 1535.64 Q1411.99 1536.98 1414.6 1539.43 Q1417.24 1541.85 1417.24 1546.21 Q1417.24 1551.17 1413.29 1554.07 Q1409.38 1556.97 1402.5 1556.97 Q1399.64 1556.97 1396.52 1556.39 Q1393.43 1555.85 1389.99 1554.74 L1389.99 1548.69 Q1393.24 1550.38 1396.39 1551.24 Q1399.54 1552.07 1402.63 1552.07 Q1406.77 1552.07 1408.99 1550.66 Q1411.22 1549.23 1411.22 1546.65 Q1411.22 1544.27 1409.6 1542.99 Q1408.01 1541.72 1402.56 1540.54 L1400.53 1540.07 Q1395.09 1538.92 1392.67 1536.56 Q1390.25 1534.18 1390.25 1530.04 Q1390.25 1525.01 1393.81 1522.27 Q1397.38 1519.54 1403.93 1519.54 Q1407.18 1519.54 1410.04 1520.01 Q1412.91 1520.49 1415.33 1521.45 Z\" fill=\"#000000\" fill-rule=\"evenodd\" fill-opacity=\"1\" /><path clip-path=\"url(#clip020)\" d=\"M 0 0 M38.479 931.514 L38.479 925.658 L88.0042 925.658 L88.0042 931.514 L38.479 931.514 Z\" fill=\"#000000\" fill-rule=\"evenodd\" fill-opacity=\"1\" /><path clip-path=\"url(#clip020)\" d=\"M 0 0 M56.4621 905.702 Q56.4621 910.412 60.1542 913.149 Q63.8145 915.887 70.212 915.887 Q76.6095 915.887 80.3017 913.181 Q83.9619 910.444 83.9619 905.702 Q83.9619 901.023 80.2698 898.285 Q76.5777 895.548 70.212 895.548 Q63.8781 895.548 60.186 898.285 Q56.4621 901.023 56.4621 905.702 M51.4968 905.702 Q51.4968 898.063 56.4621 893.702 Q61.4273 889.342 70.212 889.342 Q78.9649 889.342 83.9619 893.702 Q88.9272 898.063 88.9272 905.702 Q88.9272 913.372 83.9619 917.733 Q78.9649 922.061 70.212 922.061 Q61.4273 922.061 56.4621 917.733 Q51.4968 913.372 51.4968 905.702 Z\" fill=\"#000000\" fill-rule=\"evenodd\" fill-opacity=\"1\" /><path clip-path=\"url(#clip020)\" d=\"M 0 0 M69.7664 859.741 Q63.4007 859.741 59.8996 862.383 Q56.3984 864.993 56.3984 869.735 Q56.3984 874.446 59.8996 877.088 Q63.4007 879.698 69.7664 879.698 Q76.1003 879.698 79.6014 877.088 Q83.1026 874.446 83.1026 869.735 Q83.1026 864.993 79.6014 862.383 Q76.1003 859.741 69.7664 859.741 M83.58 853.885 Q92.683 853.885 97.1071 857.927 Q101.563 861.969 101.563 870.308 Q101.563 873.396 101.086 876.133 Q100.64 878.87 99.6852 881.448 L93.9879 881.448 Q95.3884 878.87 96.0568 876.356 Q96.7252 873.841 96.7252 871.231 Q96.7252 865.47 93.7015 862.606 Q90.7096 859.741 84.6303 859.741 L81.7339 859.741 Q84.885 861.555 86.4446 864.388 Q88.0042 867.221 88.0042 871.168 Q88.0042 877.724 83.0071 881.735 Q78.01 885.745 69.7664 885.745 Q61.491 885.745 56.4939 881.735 Q51.4968 877.724 51.4968 871.168 Q51.4968 867.221 53.0564 864.388 Q54.616 861.555 57.7671 859.741 L52.3562 859.741 L52.3562 853.885 L83.58 853.885 Z\" fill=\"#000000\" fill-rule=\"evenodd\" fill-opacity=\"1\" /><path clip-path=\"url(#clip020)\" d=\"M 0 0 M82.5933 845.8 L82.5933 835.297 L46.3406 835.297 L48.6323 846.723 L42.7758 846.723 L40.4842 835.36 L40.4842 828.931 L82.5933 828.931 L82.5933 818.428 L88.0042 818.428 L88.0042 845.8 L82.5933 845.8 Z\" fill=\"#000000\" fill-rule=\"evenodd\" fill-opacity=\"1\" /><path clip-path=\"url(#clip020)\" d=\"M 0 0 M44.7174 797.707 Q44.7174 802.673 49.6189 805.187 Q54.4887 807.67 64.2919 807.67 Q74.0633 807.67 78.9649 805.187 Q83.8346 802.673 83.8346 797.707 Q83.8346 792.71 78.9649 790.228 Q74.0633 787.713 64.2919 787.713 Q54.4887 787.713 49.6189 790.228 Q44.7174 792.71 44.7174 797.707 M39.6248 797.707 Q39.6248 789.718 45.9587 785.517 Q52.2607 781.284 64.2919 781.284 Q76.2913 781.284 82.6251 785.517 Q88.9272 789.718 88.9272 797.707 Q88.9272 805.696 82.6251 809.929 Q76.2913 814.131 64.2919 814.131 Q52.2607 814.131 45.9587 809.929 Q39.6248 805.696 39.6248 797.707 Z\" fill=\"#000000\" fill-rule=\"evenodd\" fill-opacity=\"1\" /><path clip-path=\"url(#clip020)\" d=\"M 0 0 M57.8307 733.764 Q57.2578 734.75 57.0032 735.928 Q56.7167 737.074 56.7167 738.474 Q56.7167 743.44 59.9632 746.113 Q63.1779 748.755 69.2253 748.755 L88.0042 748.755 L88.0042 754.643 L52.3562 754.643 L52.3562 748.755 L57.8944 748.755 Q54.6479 746.909 53.0883 743.949 Q51.4968 740.989 51.4968 736.756 Q51.4968 736.151 51.5923 735.419 Q51.656 734.687 51.8151 733.796 L57.8307 733.764 Z\" fill=\"#000000\" fill-rule=\"evenodd\" fill-opacity=\"1\" /><path clip-path=\"url(#clip020)\" d=\"M 0 0 M68.7161 698.561 L71.5806 698.561 L71.5806 725.488 Q77.6281 725.106 80.8109 721.86 Q83.9619 718.582 83.9619 712.757 Q83.9619 709.383 83.1344 706.232 Q82.3069 703.049 80.6518 699.93 L86.1899 699.93 Q87.5267 703.081 88.227 706.391 Q88.9272 709.701 88.9272 713.107 Q88.9272 721.637 83.9619 726.634 Q78.9967 731.599 70.5303 731.599 Q61.7774 731.599 56.6531 726.889 Q51.4968 722.146 51.4968 714.126 Q51.4968 706.932 56.1438 702.763 Q60.7589 698.561 68.7161 698.561 M66.9973 704.418 Q62.1912 704.482 59.3266 707.123 Q56.4621 709.733 56.4621 714.062 Q56.4621 718.964 59.2312 721.924 Q62.0002 724.852 67.0292 725.297 L66.9973 704.418 Z\" fill=\"#000000\" fill-rule=\"evenodd\" fill-opacity=\"1\" /><path clip-path=\"url(#clip020)\" d=\"M 0 0 M53.4065 669.693 L58.9447 669.693 Q57.6716 672.176 57.035 674.849 Q56.3984 677.523 56.3984 680.387 Q56.3984 684.748 57.7352 686.944 Q59.072 689.108 61.7456 689.108 Q63.7826 689.108 64.9603 687.549 Q66.1061 685.989 67.1565 681.279 L67.6021 679.273 Q68.9389 673.035 71.3897 670.425 Q73.8086 667.783 78.1691 667.783 Q83.1344 667.783 86.0308 671.73 Q88.9272 675.645 88.9272 682.52 Q88.9272 685.384 88.3543 688.504 Q87.8132 691.591 86.6992 695.028 L80.6518 695.028 Q82.3387 691.782 83.198 688.631 Q84.0256 685.48 84.0256 682.393 Q84.0256 678.255 82.6251 676.027 Q81.1929 673.799 78.6147 673.799 Q76.2276 673.799 74.9545 675.422 Q73.6813 677.013 72.5037 682.456 L72.0262 684.493 Q70.8804 689.936 68.5251 692.355 Q66.138 694.774 62.0002 694.774 Q56.9713 694.774 54.2341 691.209 Q51.4968 687.644 51.4968 681.088 Q51.4968 677.841 51.9743 674.976 Q52.4517 672.112 53.4065 669.693 Z\" fill=\"#000000\" fill-rule=\"evenodd\" fill-opacity=\"1\" /><path clip-path=\"url(#clip020)\" d=\"M 0 0 M52.3562 661.64 L52.3562 655.784 L88.0042 655.784 L88.0042 661.64 L52.3562 661.64 M38.479 661.64 L38.479 655.784 L45.895 655.784 L45.895 661.64 L38.479 661.64 Z\" fill=\"#000000\" fill-rule=\"evenodd\" fill-opacity=\"1\" /><path clip-path=\"url(#clip020)\" d=\"M 0 0 M57.7671 626.183 L38.479 626.183 L38.479 620.327 L88.0042 620.327 L88.0042 626.183 L82.657 626.183 Q85.8398 628.029 87.3994 630.862 Q88.9272 633.663 88.9272 637.61 Q88.9272 644.071 83.771 648.145 Q78.6147 652.187 70.212 652.187 Q61.8093 652.187 56.6531 648.145 Q51.4968 644.071 51.4968 637.61 Q51.4968 633.663 53.0564 630.862 Q54.5842 628.029 57.7671 626.183 M70.212 646.14 Q76.6732 646.14 80.3653 643.498 Q84.0256 640.824 84.0256 636.177 Q84.0256 631.531 80.3653 628.857 Q76.6732 626.183 70.212 626.183 Q63.7508 626.183 60.0905 628.857 Q56.3984 631.531 56.3984 636.177 Q56.3984 640.824 60.0905 643.498 Q63.7508 646.14 70.212 646.14 Z\" fill=\"#000000\" fill-rule=\"evenodd\" fill-opacity=\"1\" /><path clip-path=\"url(#clip020)\" d=\"M 0 0 M73.9359 614.789 L52.3562 614.789 L52.3562 608.932 L73.7131 608.932 Q78.7739 608.932 81.3202 606.959 Q83.8346 604.986 83.8346 601.039 Q83.8346 596.296 80.8109 593.559 Q77.7872 590.79 72.5673 590.79 L52.3562 590.79 L52.3562 584.934 L88.0042 584.934 L88.0042 590.79 L82.5296 590.79 Q85.7762 592.923 87.3676 595.755 Q88.9272 598.556 88.9272 602.28 Q88.9272 608.423 85.1078 611.606 Q81.2883 614.789 73.9359 614.789 M51.4968 600.052 L51.4968 600.052 Z\" fill=\"#000000\" fill-rule=\"evenodd\" fill-opacity=\"1\" /><path clip-path=\"url(#clip020)\" d=\"M 0 0 M70.0847 562.59 Q70.0847 569.688 71.7079 572.425 Q73.3312 575.162 77.2461 575.162 Q80.3653 575.162 82.2114 573.125 Q84.0256 571.056 84.0256 567.523 Q84.0256 562.654 80.5881 559.725 Q77.1188 556.765 71.3897 556.765 L70.0847 556.765 L70.0847 562.59 M67.6657 550.909 L88.0042 550.909 L88.0042 556.765 L82.5933 556.765 Q85.8398 558.77 87.3994 561.762 Q88.9272 564.754 88.9272 569.083 Q88.9272 574.557 85.8716 577.804 Q82.7843 581.019 77.6281 581.019 Q71.6125 581.019 68.5569 577.008 Q65.5014 572.966 65.5014 564.977 L65.5014 556.765 L64.9285 556.765 Q60.8862 556.765 58.6901 559.439 Q56.4621 562.081 56.4621 566.887 Q56.4621 569.942 57.1941 572.839 Q57.9262 575.735 59.3903 578.409 L53.9795 578.409 Q52.7381 575.194 52.1334 572.17 Q51.4968 569.147 51.4968 566.282 Q51.4968 558.548 55.5072 554.728 Q59.5176 550.909 67.6657 550.909 Z\" fill=\"#000000\" fill-rule=\"evenodd\" fill-opacity=\"1\" /><path clip-path=\"url(#clip020)\" d=\"M 0 0 M38.479 544.766 L38.479 538.909 L88.0042 538.909 L88.0042 544.766 L38.479 544.766 Z\" fill=\"#000000\" fill-rule=\"evenodd\" fill-opacity=\"1\" /><polyline clip-path=\"url(#clip022)\" style=\"stroke:#009af9; stroke-width:4; stroke-opacity:1; fill:none\" points=\"\n",
       "  215.538,1139.26 258.282,1515.12 301.026,1501.17 343.771,1755.1 386.515,1527.75 429.259,1763.62 472.004,1759.67 514.748,1819.62 \n",
       "  \"/>\n",
       "</svg>\n"
      ]
     },
     "metadata": {},
     "execution_count": 33
    }
   ],
   "cell_type": "code",
   "source": [
    "plot(log.(gmres.resnorms[:]) / log(10));\n",
    "plot!(legend = false, xlims = (1, iters), ylims = (-15, 2));\n",
    "plot!(ylabel = \"log10 residual\", xlabel = \"iterations\")"
   ],
   "metadata": {},
   "execution_count": 33
  },
  {
   "cell_type": "markdown",
   "source": [
    "---\n",
    "\n",
    "*This notebook was generated using [Literate.jl](https://github.com/fredrikekre/Literate.jl).*"
   ],
   "metadata": {}
  }
 ],
 "nbformat_minor": 3,
 "metadata": {
  "language_info": {
   "file_extension": ".jl",
   "mimetype": "application/julia",
   "name": "julia",
   "version": "1.4.2"
  },
  "kernelspec": {
   "name": "julia-1.4",
   "display_name": "Julia 1.4.2",
   "language": "julia"
  }
 },
 "nbformat": 4
}
