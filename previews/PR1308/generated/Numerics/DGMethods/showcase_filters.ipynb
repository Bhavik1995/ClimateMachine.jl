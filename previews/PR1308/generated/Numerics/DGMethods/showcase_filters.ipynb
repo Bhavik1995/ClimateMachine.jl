{
 "cells": [
  {
   "cell_type": "markdown",
   "source": [
    "# Filters\n",
    "In this tutorial we show the result of applying filters\n",
    "available in the CliMA codebase in a 1 dimensional box advection setup.\n",
    "See [Filters API](https://clima.github.io/ClimateMachine.jl/latest/APIs/Numerics/Meshes/Mesh/#Filters-1) for filters interface details."
   ],
   "metadata": {}
  },
  {
   "outputs": [],
   "cell_type": "code",
   "source": [
    "using ClimateMachine\n",
    "const clima_dir = dirname(dirname(pathof(ClimateMachine)));\n",
    "include(joinpath(clima_dir, \"tutorials\", \"Numerics\", \"DGMethods\", \"Box1D.jl\"))\n",
    "\n",
    "output_dir = @__DIR__;\n",
    "mkpath(output_dir);"
   ],
   "metadata": {},
   "execution_count": 1
  },
  {
   "cell_type": "markdown",
   "source": [
    "The unfiltered result of the box advection test for order 4 polynomial with\n",
    "central flux is"
   ],
   "metadata": {}
  },
  {
   "outputs": [
    {
     "name": "stdout",
     "output_type": "stream",
     "text": [
      "┌ Info: Model composition\n",
      "│     param_set = Main.##381.EarthParameterSet()\n",
      "│     init_q = 0.0\n",
      "│     amplitude = 1.0\n",
      "│     velo = 1.0\n",
      "└ @ ClimateMachine /home/runner/work/ClimateMachine.jl/ClimateMachine.jl/src/Driver/driver_configs.jl:102\n",
      "┌ Info: Establishing single stack configuration for Box1D\n",
      "│     precision        = Float64\n",
      "│     polynomial order = 4\n",
      "│     domain_min       = 0.00 m x0.00 m x0.00 m\n",
      "│     domain_max       = 500.00 m x500.00 m x350.00 m\n",
      "│     #vert elems      = 128\n",
      "│     MPI ranks        = 1\n",
      "│     min(Δ_horz)      = 86.34 m\n",
      "│     min(Δ_vert)      = 0.47 m\n",
      "└ @ ClimateMachine /home/runner/work/ClimateMachine.jl/ClimateMachine.jl/src/Driver/driver_configs.jl:385\n",
      "┌ Info: Initializing Box1D\n",
      "└ @ ClimateMachine /home/runner/work/ClimateMachine.jl/ClimateMachine.jl/src/Driver/solver_configs.jl:161\n",
      "┌ Info: Starting Box1D\n",
      "│     dt              = 4.71698e-01\n",
      "│     timeend         =   450.00\n",
      "│     number of steps = 954\n",
      "│     norm(Q)         = 3.5422793587682572e+03\n",
      "└ @ ClimateMachine /home/runner/work/ClimateMachine.jl/ClimateMachine.jl/src/Driver/Driver.jl:636\n",
      "┌ Info: Finished\n",
      "│     norm(Q)            = 3.5314527000884573e+03\n",
      "│     norm(Q) / norm(Q₀) = 9.9694358982359743e-01\n",
      "│     norm(Q) - norm(Q₀) = -1.0826658679799948e+01\n",
      "└ @ ClimateMachine /home/runner/work/ClimateMachine.jl/ClimateMachine.jl/src/Driver/Driver.jl:674\n",
      "┌ Info: Mass Conservation:\n",
      "│     initial mass          = 1.2547743055555647e+07\n",
      "│     final mass            = 1.2547743055555996e+07\n",
      "│     difference            = 3.4831464290618896e-07\n",
      "│     normalized difference = 2.7759146913035405e-14\n",
      "└ @ Main.##381 /home/runner/work/ClimateMachine.jl/ClimateMachine.jl/tutorials/Numerics/DGMethods/Box1D.jl:290\n"
     ]
    }
   ],
   "cell_type": "code",
   "source": [
    "run_box1D(4, 0.0, 1.0, 1.0, joinpath(output_dir, \"box_1D_4_no_filter.svg\"))"
   ],
   "metadata": {},
   "execution_count": 2
  },
  {
   "cell_type": "markdown",
   "source": [
    "![](box_1D_4_no_filter.svg)"
   ],
   "metadata": {}
  },
  {
   "cell_type": "markdown",
   "source": [
    "The unfiltered result of the box advection test for order 4 polynomial with\n",
    "Rusanov flux (aka upwinding for advection) is"
   ],
   "metadata": {}
  },
  {
   "outputs": [
    {
     "name": "stdout",
     "output_type": "stream",
     "text": [
      "┌ Info: Model composition\n",
      "│     param_set = Main.##381.EarthParameterSet()\n",
      "│     init_q = 0.0\n",
      "│     amplitude = 1.0\n",
      "│     velo = 1.0\n",
      "└ @ ClimateMachine /home/runner/work/ClimateMachine.jl/ClimateMachine.jl/src/Driver/driver_configs.jl:102\n",
      "┌ Info: Establishing single stack configuration for Box1D\n",
      "│     precision        = Float64\n",
      "│     polynomial order = 4\n",
      "│     domain_min       = 0.00 m x0.00 m x0.00 m\n",
      "│     domain_max       = 500.00 m x500.00 m x350.00 m\n",
      "│     #vert elems      = 128\n",
      "│     MPI ranks        = 1\n",
      "│     min(Δ_horz)      = 86.34 m\n",
      "│     min(Δ_vert)      = 0.47 m\n",
      "└ @ ClimateMachine /home/runner/work/ClimateMachine.jl/ClimateMachine.jl/src/Driver/driver_configs.jl:385\n",
      "┌ Info: Initializing Box1D\n",
      "└ @ ClimateMachine /home/runner/work/ClimateMachine.jl/ClimateMachine.jl/src/Driver/solver_configs.jl:161\n",
      "┌ Info: Starting Box1D\n",
      "│     dt              = 4.71698e-01\n",
      "│     timeend         =   450.00\n",
      "│     number of steps = 954\n",
      "│     norm(Q)         = 3.5422793587682572e+03\n",
      "└ @ ClimateMachine /home/runner/work/ClimateMachine.jl/ClimateMachine.jl/src/Driver/Driver.jl:636\n",
      "┌ Info: Finished\n",
      "│     norm(Q)            = 3.5256767000747054e+03\n",
      "│     norm(Q) / norm(Q₀) = 9.9531300131581801e-01\n",
      "│     norm(Q) - norm(Q₀) = -1.6602658693551803e+01\n",
      "└ @ ClimateMachine /home/runner/work/ClimateMachine.jl/ClimateMachine.jl/src/Driver/Driver.jl:674\n",
      "┌ Info: Mass Conservation:\n",
      "│     initial mass          = 1.2547743055555647e+07\n",
      "│     final mass            = 1.2547743055556066e+07\n",
      "│     difference            = 4.1909515857696533e-07\n",
      "│     normalized difference = 3.3400043077181634e-14\n",
      "└ @ Main.##381 /home/runner/work/ClimateMachine.jl/ClimateMachine.jl/tutorials/Numerics/DGMethods/Box1D.jl:290\n"
     ]
    }
   ],
   "cell_type": "code",
   "source": [
    "run_box1D(\n",
    "    4,\n",
    "    0.0,\n",
    "    1.0,\n",
    "    1.0,\n",
    "    joinpath(output_dir, \"box_1D_4_no_filter_upwind.svg\"),\n",
    "    numerical_flux_first_order = RusanovNumericalFlux(),\n",
    ")"
   ],
   "metadata": {},
   "execution_count": 3
  },
  {
   "cell_type": "markdown",
   "source": [
    "![](box_1D_4_no_filter_upwind.svg)"
   ],
   "metadata": {}
  },
  {
   "cell_type": "markdown",
   "source": [
    "Below we show results for the same box advection test\n",
    "but using different filters.\n",
    "\n",
    "As seen in the results, when the TMAR filter is used mass is not necessarily\n",
    "conserved (mass increases are possible)."
   ],
   "metadata": {}
  },
  {
   "cell_type": "markdown",
   "source": [
    "`TMARFilter()` with central numerical flux:"
   ],
   "metadata": {}
  },
  {
   "outputs": [
    {
     "name": "stdout",
     "output_type": "stream",
     "text": [
      "┌ Info: Model composition\n",
      "│     param_set = Main.##381.EarthParameterSet()\n",
      "│     init_q = 0.0\n",
      "│     amplitude = 1.0\n",
      "│     velo = 1.0\n",
      "└ @ ClimateMachine /home/runner/work/ClimateMachine.jl/ClimateMachine.jl/src/Driver/driver_configs.jl:102\n",
      "┌ Info: Establishing single stack configuration for Box1D\n",
      "│     precision        = Float64\n",
      "│     polynomial order = 4\n",
      "│     domain_min       = 0.00 m x0.00 m x0.00 m\n",
      "│     domain_max       = 500.00 m x500.00 m x350.00 m\n",
      "│     #vert elems      = 128\n",
      "│     MPI ranks        = 1\n",
      "│     min(Δ_horz)      = 86.34 m\n",
      "│     min(Δ_vert)      = 0.47 m\n",
      "└ @ ClimateMachine /home/runner/work/ClimateMachine.jl/ClimateMachine.jl/src/Driver/driver_configs.jl:385\n",
      "┌ Info: Initializing Box1D\n",
      "└ @ ClimateMachine /home/runner/work/ClimateMachine.jl/ClimateMachine.jl/src/Driver/solver_configs.jl:161\n",
      "┌ Info: Starting Box1D\n",
      "│     dt              = 4.71698e-01\n",
      "│     timeend         =   450.00\n",
      "│     number of steps = 954\n",
      "│     norm(Q)         = 3.5422793587682572e+03\n",
      "└ @ ClimateMachine /home/runner/work/ClimateMachine.jl/ClimateMachine.jl/src/Driver/Driver.jl:636\n",
      "┌ Info: Finished\n",
      "│     norm(Q)            = 3.5142417383375655e+03\n",
      "│     norm(Q) / norm(Q₀) = 9.9208486468993762e-01\n",
      "│     norm(Q) - norm(Q₀) = -2.8037620430691732e+01\n",
      "└ @ ClimateMachine /home/runner/work/ClimateMachine.jl/ClimateMachine.jl/src/Driver/Driver.jl:674\n",
      "┌ Info: Mass Conservation:\n",
      "│     initial mass          = 1.2547743055555647e+07\n",
      "│     final mass            = 1.2568429443331940e+07\n",
      "│     difference            = 2.0686387776292861e+04\n",
      "│     normalized difference = 1.6486142316353650e-03\n",
      "└ @ Main.##381 /home/runner/work/ClimateMachine.jl/ClimateMachine.jl/tutorials/Numerics/DGMethods/Box1D.jl:290\n"
     ]
    }
   ],
   "cell_type": "code",
   "source": [
    "run_box1D(\n",
    "    4,\n",
    "    0.0,\n",
    "    1.0,\n",
    "    1.0,\n",
    "    joinpath(output_dir, \"box_1D_4_tmar.svg\");\n",
    "    tmar_filter = true,\n",
    ")"
   ],
   "metadata": {},
   "execution_count": 4
  },
  {
   "cell_type": "markdown",
   "source": [
    "![](box_1D_4_tmar.svg)"
   ],
   "metadata": {}
  },
  {
   "cell_type": "markdown",
   "source": [
    "Running the TMAR filter with Rusanov the mass conservation since some of the\n",
    "are reduced, but mass is still not conserved.\n",
    "`TMARFilter()` with Rusanov numerical flux:"
   ],
   "metadata": {}
  },
  {
   "outputs": [
    {
     "name": "stdout",
     "output_type": "stream",
     "text": [
      "┌ Info: Model composition\n",
      "│     param_set = Main.##381.EarthParameterSet()\n",
      "│     init_q = 0.0\n",
      "│     amplitude = 1.0\n",
      "│     velo = 1.0\n",
      "└ @ ClimateMachine /home/runner/work/ClimateMachine.jl/ClimateMachine.jl/src/Driver/driver_configs.jl:102\n",
      "┌ Info: Establishing single stack configuration for Box1D\n",
      "│     precision        = Float64\n",
      "│     polynomial order = 4\n",
      "│     domain_min       = 0.00 m x0.00 m x0.00 m\n",
      "│     domain_max       = 500.00 m x500.00 m x350.00 m\n",
      "│     #vert elems      = 128\n",
      "│     MPI ranks        = 1\n",
      "│     min(Δ_horz)      = 86.34 m\n",
      "│     min(Δ_vert)      = 0.47 m\n",
      "└ @ ClimateMachine /home/runner/work/ClimateMachine.jl/ClimateMachine.jl/src/Driver/driver_configs.jl:385\n",
      "┌ Info: Initializing Box1D\n",
      "└ @ ClimateMachine /home/runner/work/ClimateMachine.jl/ClimateMachine.jl/src/Driver/solver_configs.jl:161\n",
      "┌ Info: Starting Box1D\n",
      "│     dt              = 4.71698e-01\n",
      "│     timeend         =   450.00\n",
      "│     number of steps = 954\n",
      "│     norm(Q)         = 3.5422793587682572e+03\n",
      "└ @ ClimateMachine /home/runner/work/ClimateMachine.jl/ClimateMachine.jl/src/Driver/Driver.jl:636\n",
      "┌ Info: Finished\n",
      "│     norm(Q)            = 3.5097982778974188e+03\n",
      "│     norm(Q) / norm(Q₀) = 9.9083045757234323e-01\n",
      "│     norm(Q) - norm(Q₀) = -3.2481080870838468e+01\n",
      "└ @ ClimateMachine /home/runner/work/ClimateMachine.jl/ClimateMachine.jl/src/Driver/Driver.jl:674\n",
      "┌ Info: Mass Conservation:\n",
      "│     initial mass          = 1.2547743055555647e+07\n",
      "│     final mass            = 1.2557950547001550e+07\n",
      "│     difference            = 1.0207491445902735e+04\n",
      "│     normalized difference = 8.1349222730403765e-04\n",
      "└ @ Main.##381 /home/runner/work/ClimateMachine.jl/ClimateMachine.jl/tutorials/Numerics/DGMethods/Box1D.jl:290\n"
     ]
    }
   ],
   "cell_type": "code",
   "source": [
    "run_box1D(\n",
    "    4,\n",
    "    0.0,\n",
    "    1.0,\n",
    "    1.0,\n",
    "    joinpath(output_dir, \"box_1D_4_tmar_upwind.svg\");\n",
    "    tmar_filter = true,\n",
    "    numerical_flux_first_order = RusanovNumericalFlux(),\n",
    ")"
   ],
   "metadata": {},
   "execution_count": 5
  },
  {
   "cell_type": "markdown",
   "source": [
    "![](box_1D_4_tmar_upwind.svg)"
   ],
   "metadata": {}
  },
  {
   "cell_type": "markdown",
   "source": [
    "`CutoffFilter(grid, Nc=1)` with central numerical flux:"
   ],
   "metadata": {}
  },
  {
   "outputs": [
    {
     "name": "stdout",
     "output_type": "stream",
     "text": [
      "┌ Info: Model composition\n",
      "│     param_set = Main.##381.EarthParameterSet()\n",
      "│     init_q = 0.0\n",
      "│     amplitude = 1.0\n",
      "│     velo = 1.0\n",
      "└ @ ClimateMachine /home/runner/work/ClimateMachine.jl/ClimateMachine.jl/src/Driver/driver_configs.jl:102\n",
      "┌ Info: Establishing single stack configuration for Box1D\n",
      "│     precision        = Float64\n",
      "│     polynomial order = 4\n",
      "│     domain_min       = 0.00 m x0.00 m x0.00 m\n",
      "│     domain_max       = 500.00 m x500.00 m x350.00 m\n",
      "│     #vert elems      = 128\n",
      "│     MPI ranks        = 1\n",
      "│     min(Δ_horz)      = 86.34 m\n",
      "│     min(Δ_vert)      = 0.47 m\n",
      "└ @ ClimateMachine /home/runner/work/ClimateMachine.jl/ClimateMachine.jl/src/Driver/driver_configs.jl:385\n",
      "┌ Info: Initializing Box1D\n",
      "└ @ ClimateMachine /home/runner/work/ClimateMachine.jl/ClimateMachine.jl/src/Driver/solver_configs.jl:161\n",
      "┌ Info: Starting Box1D\n",
      "│     dt              = 4.71698e-01\n",
      "│     timeend         =   450.00\n",
      "│     number of steps = 954\n",
      "│     norm(Q)         = 3.5422793587682572e+03\n",
      "└ @ ClimateMachine /home/runner/work/ClimateMachine.jl/ClimateMachine.jl/src/Driver/Driver.jl:636\n",
      "┌ Info: Finished\n",
      "│     norm(Q)            = 2.1874634549845159e+03\n",
      "│     norm(Q) / norm(Q₀) = 6.1752991038661442e-01\n",
      "│     norm(Q) - norm(Q₀) = -1.3548159037837413e+03\n",
      "└ @ ClimateMachine /home/runner/work/ClimateMachine.jl/ClimateMachine.jl/src/Driver/Driver.jl:674\n",
      "┌ Info: Mass Conservation:\n",
      "│     initial mass          = 1.2547743055555647e+07\n",
      "│     final mass            = 1.2547743055562770e+07\n",
      "│     difference            = 7.1227550506591797e-06\n",
      "│     normalized difference = 5.6765228767618919e-13\n",
      "└ @ Main.##381 /home/runner/work/ClimateMachine.jl/ClimateMachine.jl/tutorials/Numerics/DGMethods/Box1D.jl:290\n"
     ]
    }
   ],
   "cell_type": "code",
   "source": [
    "run_box1D(\n",
    "    4,\n",
    "    0.0,\n",
    "    1.0,\n",
    "    1.0,\n",
    "    joinpath(output_dir, \"box_1D_4_cutoff_1.svg\");\n",
    "    cutoff_filter = true,\n",
    "    cutoff_param = 1,\n",
    ")"
   ],
   "metadata": {},
   "execution_count": 6
  },
  {
   "cell_type": "markdown",
   "source": [
    "![](box_1D_4_cutoff_1.svg)"
   ],
   "metadata": {}
  },
  {
   "cell_type": "markdown",
   "source": [
    "`CutoffFilter(grid, Nc=3)` with central numerical flux:"
   ],
   "metadata": {}
  },
  {
   "outputs": [
    {
     "name": "stdout",
     "output_type": "stream",
     "text": [
      "┌ Info: Model composition\n",
      "│     param_set = Main.##381.EarthParameterSet()\n",
      "│     init_q = 0.0\n",
      "│     amplitude = 1.0\n",
      "│     velo = 1.0\n",
      "└ @ ClimateMachine /home/runner/work/ClimateMachine.jl/ClimateMachine.jl/src/Driver/driver_configs.jl:102\n",
      "┌ Info: Establishing single stack configuration for Box1D\n",
      "│     precision        = Float64\n",
      "│     polynomial order = 4\n",
      "│     domain_min       = 0.00 m x0.00 m x0.00 m\n",
      "│     domain_max       = 500.00 m x500.00 m x350.00 m\n",
      "│     #vert elems      = 128\n",
      "│     MPI ranks        = 1\n",
      "│     min(Δ_horz)      = 86.34 m\n",
      "│     min(Δ_vert)      = 0.47 m\n",
      "└ @ ClimateMachine /home/runner/work/ClimateMachine.jl/ClimateMachine.jl/src/Driver/driver_configs.jl:385\n",
      "┌ Info: Initializing Box1D\n",
      "└ @ ClimateMachine /home/runner/work/ClimateMachine.jl/ClimateMachine.jl/src/Driver/solver_configs.jl:161\n",
      "┌ Info: Starting Box1D\n",
      "│     dt              = 4.71698e-01\n",
      "│     timeend         =   450.00\n",
      "│     number of steps = 954\n",
      "│     norm(Q)         = 3.5422793587682572e+03\n",
      "└ @ ClimateMachine /home/runner/work/ClimateMachine.jl/ClimateMachine.jl/src/Driver/Driver.jl:636\n",
      "┌ Info: Finished\n",
      "│     norm(Q)            = 3.5069120229874179e+03\n",
      "│     norm(Q) / norm(Q₀) = 9.9001565596646290e-01\n",
      "│     norm(Q) - norm(Q₀) = -3.5367335780839312e+01\n",
      "└ @ ClimateMachine /home/runner/work/ClimateMachine.jl/ClimateMachine.jl/src/Driver/Driver.jl:674\n",
      "┌ Info: Mass Conservation:\n",
      "│     initial mass          = 1.2547743055555647e+07\n",
      "│     final mass            = 1.2547743055559341e+07\n",
      "│     difference            = 3.6936253309249878e-06\n",
      "│     normalized difference = 2.9436571298689412e-13\n",
      "└ @ Main.##381 /home/runner/work/ClimateMachine.jl/ClimateMachine.jl/tutorials/Numerics/DGMethods/Box1D.jl:290\n"
     ]
    }
   ],
   "cell_type": "code",
   "source": [
    "run_box1D(\n",
    "    4,\n",
    "    0.0,\n",
    "    1.0,\n",
    "    1.0,\n",
    "    joinpath(output_dir, \"box_1D_4_cutoff_3.svg\");\n",
    "    cutoff_filter = true,\n",
    "    cutoff_param = 3,\n",
    ")"
   ],
   "metadata": {},
   "execution_count": 7
  },
  {
   "cell_type": "markdown",
   "source": [
    "![](box_1D_4_cutoff_3.svg)"
   ],
   "metadata": {}
  },
  {
   "cell_type": "markdown",
   "source": [
    "`ExponentialFilter(grid, Nc=1, s=4)` with central numerical flux:"
   ],
   "metadata": {}
  },
  {
   "outputs": [
    {
     "name": "stdout",
     "output_type": "stream",
     "text": [
      "┌ Info: Model composition\n",
      "│     param_set = Main.##381.EarthParameterSet()\n",
      "│     init_q = 0.0\n",
      "│     amplitude = 1.0\n",
      "│     velo = 1.0\n",
      "└ @ ClimateMachine /home/runner/work/ClimateMachine.jl/ClimateMachine.jl/src/Driver/driver_configs.jl:102\n",
      "┌ Info: Establishing single stack configuration for Box1D\n",
      "│     precision        = Float64\n",
      "│     polynomial order = 4\n",
      "│     domain_min       = 0.00 m x0.00 m x0.00 m\n",
      "│     domain_max       = 500.00 m x500.00 m x350.00 m\n",
      "│     #vert elems      = 128\n",
      "│     MPI ranks        = 1\n",
      "│     min(Δ_horz)      = 86.34 m\n",
      "│     min(Δ_vert)      = 0.47 m\n",
      "└ @ ClimateMachine /home/runner/work/ClimateMachine.jl/ClimateMachine.jl/src/Driver/driver_configs.jl:385\n",
      "┌ Info: Initializing Box1D\n",
      "└ @ ClimateMachine /home/runner/work/ClimateMachine.jl/ClimateMachine.jl/src/Driver/solver_configs.jl:161\n",
      "┌ Info: Starting Box1D\n",
      "│     dt              = 4.71698e-01\n",
      "│     timeend         =   450.00\n",
      "│     number of steps = 954\n",
      "│     norm(Q)         = 3.5422793587682572e+03\n",
      "└ @ ClimateMachine /home/runner/work/ClimateMachine.jl/ClimateMachine.jl/src/Driver/Driver.jl:636\n",
      "┌ Info: Finished\n",
      "│     norm(Q)            = 3.4666722428259000e+03\n",
      "│     norm(Q) / norm(Q₀) = 9.7865580088842918e-01\n",
      "│     norm(Q) - norm(Q₀) = -7.5607115942357268e+01\n",
      "└ @ ClimateMachine /home/runner/work/ClimateMachine.jl/ClimateMachine.jl/src/Driver/Driver.jl:674\n",
      "┌ Info: Mass Conservation:\n",
      "│     initial mass          = 1.2547743055555647e+07\n",
      "│     final mass            = 1.2547743055557562e+07\n",
      "│     difference            = 1.9147992134094238e-06\n",
      "│     normalized difference = 1.5260108570374541e-13\n",
      "└ @ Main.##381 /home/runner/work/ClimateMachine.jl/ClimateMachine.jl/tutorials/Numerics/DGMethods/Box1D.jl:290\n"
     ]
    }
   ],
   "cell_type": "code",
   "source": [
    "run_box1D(\n",
    "    4,\n",
    "    0.0,\n",
    "    1.0,\n",
    "    1.0,\n",
    "    joinpath(output_dir, \"box_1D_4_exp_1_4.svg\");\n",
    "    exp_filter = true,\n",
    "    exp_param_1 = 1,\n",
    "    exp_param_2 = 4,\n",
    ")"
   ],
   "metadata": {},
   "execution_count": 8
  },
  {
   "cell_type": "markdown",
   "source": [
    "![](box_1D_4_exp_1_4.svg)"
   ],
   "metadata": {}
  },
  {
   "cell_type": "markdown",
   "source": [
    "`ExponentialFilter(grid, Nc=1, s=8)` with central numerical flux:"
   ],
   "metadata": {}
  },
  {
   "outputs": [
    {
     "name": "stdout",
     "output_type": "stream",
     "text": [
      "┌ Info: Model composition\n",
      "│     param_set = Main.##381.EarthParameterSet()\n",
      "│     init_q = 0.0\n",
      "│     amplitude = 1.0\n",
      "│     velo = 1.0\n",
      "└ @ ClimateMachine /home/runner/work/ClimateMachine.jl/ClimateMachine.jl/src/Driver/driver_configs.jl:102\n",
      "┌ Info: Establishing single stack configuration for Box1D\n",
      "│     precision        = Float64\n",
      "│     polynomial order = 4\n",
      "│     domain_min       = 0.00 m x0.00 m x0.00 m\n",
      "│     domain_max       = 500.00 m x500.00 m x350.00 m\n",
      "│     #vert elems      = 128\n",
      "│     MPI ranks        = 1\n",
      "│     min(Δ_horz)      = 86.34 m\n",
      "│     min(Δ_vert)      = 0.47 m\n",
      "└ @ ClimateMachine /home/runner/work/ClimateMachine.jl/ClimateMachine.jl/src/Driver/driver_configs.jl:385\n",
      "┌ Info: Initializing Box1D\n",
      "└ @ ClimateMachine /home/runner/work/ClimateMachine.jl/ClimateMachine.jl/src/Driver/solver_configs.jl:161\n",
      "┌ Info: Starting Box1D\n",
      "│     dt              = 4.71698e-01\n",
      "│     timeend         =   450.00\n",
      "│     number of steps = 954\n",
      "│     norm(Q)         = 3.5422793587682572e+03\n",
      "└ @ ClimateMachine /home/runner/work/ClimateMachine.jl/ClimateMachine.jl/src/Driver/Driver.jl:636\n",
      "┌ Info: Finished\n",
      "│     norm(Q)            = 3.5071549751651701e+03\n",
      "│     norm(Q) / norm(Q₀) = 9.9008424236328418e-01\n",
      "│     norm(Q) - norm(Q₀) = -3.5124383603087153e+01\n",
      "└ @ ClimateMachine /home/runner/work/ClimateMachine.jl/ClimateMachine.jl/src/Driver/Driver.jl:674\n",
      "┌ Info: Mass Conservation:\n",
      "│     initial mass          = 1.2547743055555647e+07\n",
      "│     final mass            = 1.2547743055558780e+07\n",
      "│     difference            = 3.1329691410064697e-06\n",
      "│     normalized difference = 2.4968387758142003e-13\n",
      "└ @ Main.##381 /home/runner/work/ClimateMachine.jl/ClimateMachine.jl/tutorials/Numerics/DGMethods/Box1D.jl:290\n"
     ]
    }
   ],
   "cell_type": "code",
   "source": [
    "run_box1D(\n",
    "    4,\n",
    "    0.0,\n",
    "    1.0,\n",
    "    1.0,\n",
    "    joinpath(output_dir, \"box_1D_4_exp_1_8.svg\");\n",
    "    exp_filter = true,\n",
    "    exp_param_1 = 1,\n",
    "    exp_param_2 = 8,\n",
    ")"
   ],
   "metadata": {},
   "execution_count": 9
  },
  {
   "cell_type": "markdown",
   "source": [
    "![](box_1D_4_exp_1_8.svg)"
   ],
   "metadata": {}
  },
  {
   "cell_type": "markdown",
   "source": [
    "`ExponentialFilter(grid, Nc=1, s=32)` with central numerical flux:"
   ],
   "metadata": {}
  },
  {
   "outputs": [
    {
     "name": "stdout",
     "output_type": "stream",
     "text": [
      "┌ Info: Model composition\n",
      "│     param_set = Main.##381.EarthParameterSet()\n",
      "│     init_q = 0.0\n",
      "│     amplitude = 1.0\n",
      "│     velo = 1.0\n",
      "└ @ ClimateMachine /home/runner/work/ClimateMachine.jl/ClimateMachine.jl/src/Driver/driver_configs.jl:102\n",
      "┌ Info: Establishing single stack configuration for Box1D\n",
      "│     precision        = Float64\n",
      "│     polynomial order = 4\n",
      "│     domain_min       = 0.00 m x0.00 m x0.00 m\n",
      "│     domain_max       = 500.00 m x500.00 m x350.00 m\n",
      "│     #vert elems      = 128\n",
      "│     MPI ranks        = 1\n",
      "│     min(Δ_horz)      = 86.34 m\n",
      "│     min(Δ_vert)      = 0.47 m\n",
      "└ @ ClimateMachine /home/runner/work/ClimateMachine.jl/ClimateMachine.jl/src/Driver/driver_configs.jl:385\n",
      "┌ Info: Initializing Box1D\n",
      "└ @ ClimateMachine /home/runner/work/ClimateMachine.jl/ClimateMachine.jl/src/Driver/solver_configs.jl:161\n",
      "┌ Info: Starting Box1D\n",
      "│     dt              = 4.71698e-01\n",
      "│     timeend         =   450.00\n",
      "│     number of steps = 954\n",
      "│     norm(Q)         = 3.5422793587682572e+03\n",
      "└ @ ClimateMachine /home/runner/work/ClimateMachine.jl/ClimateMachine.jl/src/Driver/Driver.jl:636\n",
      "┌ Info: Finished\n",
      "│     norm(Q)            = 3.5271758961149476e+03\n",
      "│     norm(Q) / norm(Q₀) = 9.9573623051046956e-01\n",
      "│     norm(Q) - norm(Q₀) = -1.5103462653309634e+01\n",
      "└ @ ClimateMachine /home/runner/work/ClimateMachine.jl/ClimateMachine.jl/src/Driver/Driver.jl:674\n",
      "┌ Info: Mass Conservation:\n",
      "│     initial mass          = 1.2547743055555647e+07\n",
      "│     final mass            = 1.2547743055557083e+07\n",
      "│     difference            = 1.4360994100570679e-06\n",
      "│     normalized difference = 1.1445081427780907e-13\n",
      "└ @ Main.##381 /home/runner/work/ClimateMachine.jl/ClimateMachine.jl/tutorials/Numerics/DGMethods/Box1D.jl:290\n"
     ]
    }
   ],
   "cell_type": "code",
   "source": [
    "run_box1D(\n",
    "    4,\n",
    "    0.0,\n",
    "    1.0,\n",
    "    1.0,\n",
    "    joinpath(output_dir, \"box_1D_4_exp_1_32.svg\");\n",
    "    exp_filter = true,\n",
    "    exp_param_1 = 1,\n",
    "    exp_param_2 = 32,\n",
    ")"
   ],
   "metadata": {},
   "execution_count": 10
  },
  {
   "cell_type": "markdown",
   "source": [
    "![](box_1D_4_exp_1_32.svg)"
   ],
   "metadata": {}
  },
  {
   "cell_type": "markdown",
   "source": [
    "`BoydVandevenFilter(grid, Nc=1, s=4)` with central numerical flux:"
   ],
   "metadata": {}
  },
  {
   "outputs": [
    {
     "name": "stdout",
     "output_type": "stream",
     "text": [
      "┌ Info: Model composition\n",
      "│     param_set = Main.##381.EarthParameterSet()\n",
      "│     init_q = 0.0\n",
      "│     amplitude = 1.0\n",
      "│     velo = 1.0\n",
      "└ @ ClimateMachine /home/runner/work/ClimateMachine.jl/ClimateMachine.jl/src/Driver/driver_configs.jl:102\n",
      "┌ Info: Establishing single stack configuration for Box1D\n",
      "│     precision        = Float64\n",
      "│     polynomial order = 4\n",
      "│     domain_min       = 0.00 m x0.00 m x0.00 m\n",
      "│     domain_max       = 500.00 m x500.00 m x350.00 m\n",
      "│     #vert elems      = 128\n",
      "│     MPI ranks        = 1\n",
      "│     min(Δ_horz)      = 86.34 m\n",
      "│     min(Δ_vert)      = 0.47 m\n",
      "└ @ ClimateMachine /home/runner/work/ClimateMachine.jl/ClimateMachine.jl/src/Driver/driver_configs.jl:385\n",
      "┌ Info: Initializing Box1D\n",
      "└ @ ClimateMachine /home/runner/work/ClimateMachine.jl/ClimateMachine.jl/src/Driver/solver_configs.jl:161\n",
      "┌ Info: Starting Box1D\n",
      "│     dt              = 4.71698e-01\n",
      "│     timeend         =   450.00\n",
      "│     number of steps = 954\n",
      "│     norm(Q)         = 3.5422793587682572e+03\n",
      "└ @ ClimateMachine /home/runner/work/ClimateMachine.jl/ClimateMachine.jl/src/Driver/Driver.jl:636\n",
      "┌ Info: Finished\n",
      "│     norm(Q)            = 3.4806217850621765e+03\n",
      "│     norm(Q) / norm(Q₀) = 9.8259381390870293e-01\n",
      "│     norm(Q) - norm(Q₀) = -6.1657573706080711e+01\n",
      "└ @ ClimateMachine /home/runner/work/ClimateMachine.jl/ClimateMachine.jl/src/Driver/Driver.jl:674\n",
      "┌ Info: Mass Conservation:\n",
      "│     initial mass          = 1.2547743055555647e+07\n",
      "│     final mass            = 1.2547743055560427e+07\n",
      "│     difference            = 4.7795474529266357e-06\n",
      "│     normalized difference = 3.8090893571576923e-13\n",
      "└ @ Main.##381 /home/runner/work/ClimateMachine.jl/ClimateMachine.jl/tutorials/Numerics/DGMethods/Box1D.jl:290\n"
     ]
    }
   ],
   "cell_type": "code",
   "source": [
    "run_box1D(\n",
    "    4,\n",
    "    0.0,\n",
    "    1.0,\n",
    "    1.0,\n",
    "    joinpath(output_dir, \"box_1D_4_boyd_1_4.svg\");\n",
    "    boyd_filter = true,\n",
    "    boyd_param_1 = 1,\n",
    "    boyd_param_2 = 4,\n",
    ")"
   ],
   "metadata": {},
   "execution_count": 11
  },
  {
   "cell_type": "markdown",
   "source": [
    "![](box_1D_4_boyd_1_4.svg)"
   ],
   "metadata": {}
  },
  {
   "cell_type": "markdown",
   "source": [
    "`BoydVandevenFilter(grid, Nc=1, s=8)` with central numerical flux:"
   ],
   "metadata": {}
  },
  {
   "outputs": [
    {
     "name": "stdout",
     "output_type": "stream",
     "text": [
      "┌ Info: Model composition\n",
      "│     param_set = Main.##381.EarthParameterSet()\n",
      "│     init_q = 0.0\n",
      "│     amplitude = 1.0\n",
      "│     velo = 1.0\n",
      "└ @ ClimateMachine /home/runner/work/ClimateMachine.jl/ClimateMachine.jl/src/Driver/driver_configs.jl:102\n",
      "┌ Info: Establishing single stack configuration for Box1D\n",
      "│     precision        = Float64\n",
      "│     polynomial order = 4\n",
      "│     domain_min       = 0.00 m x0.00 m x0.00 m\n",
      "│     domain_max       = 500.00 m x500.00 m x350.00 m\n",
      "│     #vert elems      = 128\n",
      "│     MPI ranks        = 1\n",
      "│     min(Δ_horz)      = 86.34 m\n",
      "│     min(Δ_vert)      = 0.47 m\n",
      "└ @ ClimateMachine /home/runner/work/ClimateMachine.jl/ClimateMachine.jl/src/Driver/driver_configs.jl:385\n",
      "┌ Info: Initializing Box1D\n",
      "└ @ ClimateMachine /home/runner/work/ClimateMachine.jl/ClimateMachine.jl/src/Driver/solver_configs.jl:161\n",
      "┌ Info: Starting Box1D\n",
      "│     dt              = 4.71698e-01\n",
      "│     timeend         =   450.00\n",
      "│     number of steps = 954\n",
      "│     norm(Q)         = 3.5422793587682572e+03\n",
      "└ @ ClimateMachine /home/runner/work/ClimateMachine.jl/ClimateMachine.jl/src/Driver/Driver.jl:636\n",
      "┌ Info: Finished\n",
      "│     norm(Q)            = 3.4899368358501465e+03\n",
      "│     norm(Q) / norm(Q₀) = 9.8522349097381423e-01\n",
      "│     norm(Q) - norm(Q₀) = -5.2342522918110717e+01\n",
      "└ @ ClimateMachine /home/runner/work/ClimateMachine.jl/ClimateMachine.jl/src/Driver/Driver.jl:674\n",
      "┌ Info: Mass Conservation:\n",
      "│     initial mass          = 1.2547743055555647e+07\n",
      "│     final mass            = 1.2547743055552961e+07\n",
      "│     difference            = -2.6859343051910400e-06\n",
      "│     normalized difference = -2.1405716496575962e-13\n",
      "└ @ Main.##381 /home/runner/work/ClimateMachine.jl/ClimateMachine.jl/tutorials/Numerics/DGMethods/Box1D.jl:290\n"
     ]
    }
   ],
   "cell_type": "code",
   "source": [
    "run_box1D(\n",
    "    4,\n",
    "    0.0,\n",
    "    1.0,\n",
    "    1.0,\n",
    "    joinpath(output_dir, \"box_1D_4_boyd_1_8.svg\");\n",
    "    boyd_filter = true,\n",
    "    boyd_param_1 = 1,\n",
    "    boyd_param_2 = 8,\n",
    ")"
   ],
   "metadata": {},
   "execution_count": 12
  },
  {
   "cell_type": "markdown",
   "source": [
    "![](box_1D_4_boyd_1_8.svg)"
   ],
   "metadata": {}
  },
  {
   "cell_type": "markdown",
   "source": [
    "`BoydVandevenFilter(grid, Nc=1, s=32)` with central numerical flux:"
   ],
   "metadata": {}
  },
  {
   "outputs": [
    {
     "name": "stdout",
     "output_type": "stream",
     "text": [
      "┌ Info: Model composition\n",
      "│     param_set = Main.##381.EarthParameterSet()\n",
      "│     init_q = 0.0\n",
      "│     amplitude = 1.0\n",
      "│     velo = 1.0\n",
      "└ @ ClimateMachine /home/runner/work/ClimateMachine.jl/ClimateMachine.jl/src/Driver/driver_configs.jl:102\n",
      "┌ Info: Establishing single stack configuration for Box1D\n",
      "│     precision        = Float64\n",
      "│     polynomial order = 4\n",
      "│     domain_min       = 0.00 m x0.00 m x0.00 m\n",
      "│     domain_max       = 500.00 m x500.00 m x350.00 m\n",
      "│     #vert elems      = 128\n",
      "│     MPI ranks        = 1\n",
      "│     min(Δ_horz)      = 86.34 m\n",
      "│     min(Δ_vert)      = 0.47 m\n",
      "└ @ ClimateMachine /home/runner/work/ClimateMachine.jl/ClimateMachine.jl/src/Driver/driver_configs.jl:385\n",
      "┌ Info: Initializing Box1D\n",
      "└ @ ClimateMachine /home/runner/work/ClimateMachine.jl/ClimateMachine.jl/src/Driver/solver_configs.jl:161\n",
      "┌ Info: Starting Box1D\n",
      "│     dt              = 4.71698e-01\n",
      "│     timeend         =   450.00\n",
      "│     number of steps = 954\n",
      "│     norm(Q)         = 3.5422793587682572e+03\n",
      "└ @ ClimateMachine /home/runner/work/ClimateMachine.jl/ClimateMachine.jl/src/Driver/Driver.jl:636\n",
      "┌ Info: Finished\n",
      "│     norm(Q)            = 3.5060209628231014e+03\n",
      "│     norm(Q) / norm(Q₀) = 9.8976410602528997e-01\n",
      "│     norm(Q) - norm(Q₀) = -3.6258395945155826e+01\n",
      "└ @ ClimateMachine /home/runner/work/ClimateMachine.jl/ClimateMachine.jl/src/Driver/Driver.jl:674\n",
      "┌ Info: Mass Conservation:\n",
      "│     initial mass          = 1.2547743055555647e+07\n",
      "│     final mass            = 1.2547743055558899e+07\n",
      "│     difference            = 3.2521784305572510e-06\n",
      "│     normalized difference = 2.5918433427892951e-13\n",
      "└ @ Main.##381 /home/runner/work/ClimateMachine.jl/ClimateMachine.jl/tutorials/Numerics/DGMethods/Box1D.jl:290\n"
     ]
    }
   ],
   "cell_type": "code",
   "source": [
    "run_box1D(\n",
    "    4,\n",
    "    0.0,\n",
    "    1.0,\n",
    "    1.0,\n",
    "    joinpath(output_dir, \"box_1D_4_boyd_1_32.svg\");\n",
    "    boyd_filter = true,\n",
    "    boyd_param_1 = 1,\n",
    "    boyd_param_2 = 32,\n",
    ")"
   ],
   "metadata": {},
   "execution_count": 13
  },
  {
   "cell_type": "markdown",
   "source": [
    "![](box_1D_4_boyd_1_32.svg)"
   ],
   "metadata": {}
  },
  {
   "cell_type": "markdown",
   "source": [
    "`ExponentialFilter(grid, Nc=1, s=8)` and `TMARFilter()` with central numerical\n",
    "flux:"
   ],
   "metadata": {}
  },
  {
   "outputs": [
    {
     "name": "stdout",
     "output_type": "stream",
     "text": [
      "┌ Info: Model composition\n",
      "│     param_set = Main.##381.EarthParameterSet()\n",
      "│     init_q = 0.0\n",
      "│     amplitude = 1.0\n",
      "│     velo = 1.0\n",
      "└ @ ClimateMachine /home/runner/work/ClimateMachine.jl/ClimateMachine.jl/src/Driver/driver_configs.jl:102\n",
      "┌ Info: Establishing single stack configuration for Box1D\n",
      "│     precision        = Float64\n",
      "│     polynomial order = 4\n",
      "│     domain_min       = 0.00 m x0.00 m x0.00 m\n",
      "│     domain_max       = 500.00 m x500.00 m x350.00 m\n",
      "│     #vert elems      = 128\n",
      "│     MPI ranks        = 1\n",
      "│     min(Δ_horz)      = 86.34 m\n",
      "│     min(Δ_vert)      = 0.47 m\n",
      "└ @ ClimateMachine /home/runner/work/ClimateMachine.jl/ClimateMachine.jl/src/Driver/driver_configs.jl:385\n",
      "┌ Info: Initializing Box1D\n",
      "└ @ ClimateMachine /home/runner/work/ClimateMachine.jl/ClimateMachine.jl/src/Driver/solver_configs.jl:161\n",
      "┌ Info: Starting Box1D\n",
      "│     dt              = 4.71698e-01\n",
      "│     timeend         =   450.00\n",
      "│     number of steps = 954\n",
      "│     norm(Q)         = 3.5422793587682572e+03\n",
      "└ @ ClimateMachine /home/runner/work/ClimateMachine.jl/ClimateMachine.jl/src/Driver/Driver.jl:636\n",
      "┌ Info: Finished\n",
      "│     norm(Q)            = 3.4929736646875335e+03\n",
      "│     norm(Q) / norm(Q₀) = 9.8608080021732991e-01\n",
      "│     norm(Q) - norm(Q₀) = -4.9305694080723697e+01\n",
      "└ @ ClimateMachine /home/runner/work/ClimateMachine.jl/ClimateMachine.jl/src/Driver/Driver.jl:674\n",
      "┌ Info: Mass Conservation:\n",
      "│     initial mass          = 1.2547743055555647e+07\n",
      "│     final mass            = 1.2563989175388085e+07\n",
      "│     difference            = 1.6246119832437485e+04\n",
      "│     normalized difference = 1.2947443823568209e-03\n",
      "└ @ Main.##381 /home/runner/work/ClimateMachine.jl/ClimateMachine.jl/tutorials/Numerics/DGMethods/Box1D.jl:290\n"
     ]
    }
   ],
   "cell_type": "code",
   "source": [
    "run_box1D(\n",
    "    4,\n",
    "    0.0,\n",
    "    1.0,\n",
    "    1.0,\n",
    "    joinpath(output_dir, \"box_1D_4_tmar_exp_1_8.svg\");\n",
    "    exp_filter = true,\n",
    "    tmar_filter = true,\n",
    "    exp_param_1 = 1,\n",
    "    exp_param_2 = 8,\n",
    ")"
   ],
   "metadata": {},
   "execution_count": 14
  },
  {
   "cell_type": "markdown",
   "source": [
    "![](box_1D_4_tmar_exp_1_8.svg)"
   ],
   "metadata": {}
  },
  {
   "cell_type": "markdown",
   "source": [
    "`BoydVandevenFilter(grid, Nc=1, s=8)` and `TMARFilter()` with central\n",
    "numerical flux:"
   ],
   "metadata": {}
  },
  {
   "outputs": [
    {
     "name": "stdout",
     "output_type": "stream",
     "text": [
      "┌ Info: Model composition\n",
      "│     param_set = Main.##381.EarthParameterSet()\n",
      "│     init_q = 0.0\n",
      "│     amplitude = 1.0\n",
      "│     velo = 1.0\n",
      "└ @ ClimateMachine /home/runner/work/ClimateMachine.jl/ClimateMachine.jl/src/Driver/driver_configs.jl:102\n",
      "┌ Info: Establishing single stack configuration for Box1D\n",
      "│     precision        = Float64\n",
      "│     polynomial order = 4\n",
      "│     domain_min       = 0.00 m x0.00 m x0.00 m\n",
      "│     domain_max       = 500.00 m x500.00 m x350.00 m\n",
      "│     #vert elems      = 128\n",
      "│     MPI ranks        = 1\n",
      "│     min(Δ_horz)      = 86.34 m\n",
      "│     min(Δ_vert)      = 0.47 m\n",
      "└ @ ClimateMachine /home/runner/work/ClimateMachine.jl/ClimateMachine.jl/src/Driver/driver_configs.jl:385\n",
      "┌ Info: Initializing Box1D\n",
      "└ @ ClimateMachine /home/runner/work/ClimateMachine.jl/ClimateMachine.jl/src/Driver/solver_configs.jl:161\n",
      "┌ Info: Starting Box1D\n",
      "│     dt              = 4.71698e-01\n",
      "│     timeend         =   450.00\n",
      "│     number of steps = 954\n",
      "│     norm(Q)         = 3.5422793587682572e+03\n",
      "└ @ ClimateMachine /home/runner/work/ClimateMachine.jl/ClimateMachine.jl/src/Driver/Driver.jl:636\n",
      "┌ Info: Finished\n",
      "│     norm(Q)            = 3.4774323409687167e+03\n",
      "│     norm(Q) / norm(Q₀) = 9.8169342075208621e-01\n",
      "│     norm(Q) - norm(Q₀) = -6.4847017799540481e+01\n",
      "└ @ ClimateMachine /home/runner/work/ClimateMachine.jl/ClimateMachine.jl/src/Driver/Driver.jl:674\n",
      "┌ Info: Mass Conservation:\n",
      "│     initial mass          = 1.2547743055555647e+07\n",
      "│     final mass            = 1.2567286329336369e+07\n",
      "│     difference            = 1.9543273780722171e+04\n",
      "│     normalized difference = 1.5575130678237134e-03\n",
      "└ @ Main.##381 /home/runner/work/ClimateMachine.jl/ClimateMachine.jl/tutorials/Numerics/DGMethods/Box1D.jl:290\n"
     ]
    }
   ],
   "cell_type": "code",
   "source": [
    "run_box1D(\n",
    "    4,\n",
    "    0.0,\n",
    "    1.0,\n",
    "    1.0,\n",
    "    joinpath(output_dir, \"box_1D_4_tmar_boyd_1_8.svg\");\n",
    "    boyd_filter = true,\n",
    "    tmar_filter = true,\n",
    "    boyd_param_1 = 1,\n",
    "    boyd_param_2 = 8,\n",
    ")"
   ],
   "metadata": {},
   "execution_count": 15
  },
  {
   "cell_type": "markdown",
   "source": [
    "![](box_1D_4_tmar_boyd_1_8.svg)"
   ],
   "metadata": {}
  },
  {
   "cell_type": "markdown",
   "source": [
    "---\n",
    "\n",
    "*This notebook was generated using [Literate.jl](https://github.com/fredrikekre/Literate.jl).*"
   ],
   "metadata": {}
  }
 ],
 "nbformat_minor": 3,
 "metadata": {
  "language_info": {
   "file_extension": ".jl",
   "mimetype": "application/julia",
   "name": "julia",
   "version": "1.4.2"
  },
  "kernelspec": {
   "name": "julia-1.4",
   "display_name": "Julia 1.4.2",
   "language": "julia"
  }
 },
 "nbformat": 4
}
