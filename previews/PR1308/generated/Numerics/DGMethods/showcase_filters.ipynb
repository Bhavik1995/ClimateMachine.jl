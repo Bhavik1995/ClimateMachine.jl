{
 "cells": [
  {
   "cell_type": "markdown",
   "source": [
    "# Filters\n",
    "In this tutorial we show the result of applying filters\n",
    "available in the CliMA codebase in a 1 dimensional box advection setup.\n",
    "See [Filters API](https://clima.github.io/ClimateMachine.jl/latest/APIs/Numerics/Meshes/Mesh/#Filters-1) for filters interface details."
   ],
   "metadata": {}
  },
  {
   "outputs": [],
   "cell_type": "code",
   "source": [
    "using ClimateMachine\n",
    "const clima_dir = dirname(dirname(pathof(ClimateMachine)));\n",
    "include(joinpath(clima_dir, \"tutorials\", \"Numerics\", \"DGMethods\", \"Box1D.jl\"))\n",
    "\n",
    "output_dir = @__DIR__;\n",
    "mkpath(output_dir);"
   ],
   "metadata": {},
   "execution_count": 1
  },
  {
   "cell_type": "markdown",
   "source": [
    "The unfiltered result of the box advection test for order 4 polynomial is:"
   ],
   "metadata": {}
  },
  {
   "outputs": [
    {
     "name": "stdout",
     "output_type": "stream",
     "text": [
      "┌ Info: Model composition\n",
      "│     param_set = Main.##363.EarthParameterSet()\n",
      "│     init_q = 0.0\n",
      "│     amplitude = 1.0\n",
      "│     velo = 1.0\n",
      "└ @ ClimateMachine /home/runner/work/ClimateMachine.jl/ClimateMachine.jl/src/Driver/driver_configs.jl:102\n",
      "┌ Info: Establishing single stack configuration for Box1D\n",
      "│     precision        = Float64\n",
      "│     polynomial order = 4\n",
      "│     domain_min       = 0.00 m x0.00 m x0.00 m\n",
      "│     domain_max       = 500.00 m x500.00 m x350.00 m\n",
      "│     #vert elems      = 128\n",
      "│     MPI ranks        = 1\n",
      "│     min(Δ_horz)      = 86.34 m\n",
      "│     min(Δ_vert)      = 0.47 m\n",
      "└ @ ClimateMachine /home/runner/work/ClimateMachine.jl/ClimateMachine.jl/src/Driver/driver_configs.jl:380\n",
      "┌ Info: Initializing Box1D\n",
      "└ @ ClimateMachine /home/runner/work/ClimateMachine.jl/ClimateMachine.jl/src/Driver/solver_configs.jl:151\n",
      "┌ Info: Starting Box1D\n",
      "│     dt              = 4.71698e-01\n",
      "│     timeend         =   450.00\n",
      "│     number of steps = 954\n",
      "│     norm(Q)         = 3.5422793587682586e+03\n",
      "└ @ ClimateMachine /home/runner/work/ClimateMachine.jl/ClimateMachine.jl/src/Driver/Driver.jl:629\n",
      "┌ Info: Finished\n",
      "│     norm(Q)            = 3.5314527000886196e+03\n",
      "│     norm(Q) / norm(Q₀) = 9.9694358982364295e-01\n",
      "│     norm(Q) - norm(Q₀) = -1.0826658679638967e+01\n",
      "└ @ ClimateMachine /home/runner/work/ClimateMachine.jl/ClimateMachine.jl/src/Driver/Driver.jl:667\n"
     ]
    }
   ],
   "cell_type": "code",
   "source": [
    "run_box1D(4, 0.0, 1.0, 1.0, joinpath(output_dir, \"box_1D_4_no_filter.svg\"))"
   ],
   "metadata": {},
   "execution_count": 2
  },
  {
   "cell_type": "markdown",
   "source": [
    "![](box_1D_4_no_filter.svg)"
   ],
   "metadata": {}
  },
  {
   "cell_type": "markdown",
   "source": [
    "Below we show results for the same box advection test\n",
    "but using different filters."
   ],
   "metadata": {}
  },
  {
   "cell_type": "markdown",
   "source": [
    "`TMARFilter()`:"
   ],
   "metadata": {}
  },
  {
   "outputs": [
    {
     "name": "stdout",
     "output_type": "stream",
     "text": [
      "┌ Info: Model composition\n",
      "│     param_set = Main.##363.EarthParameterSet()\n",
      "│     init_q = 0.0\n",
      "│     amplitude = 1.0\n",
      "│     velo = 1.0\n",
      "└ @ ClimateMachine /home/runner/work/ClimateMachine.jl/ClimateMachine.jl/src/Driver/driver_configs.jl:102\n",
      "┌ Info: Establishing single stack configuration for Box1D\n",
      "│     precision        = Float64\n",
      "│     polynomial order = 4\n",
      "│     domain_min       = 0.00 m x0.00 m x0.00 m\n",
      "│     domain_max       = 500.00 m x500.00 m x350.00 m\n",
      "│     #vert elems      = 128\n",
      "│     MPI ranks        = 1\n",
      "│     min(Δ_horz)      = 86.34 m\n",
      "│     min(Δ_vert)      = 0.47 m\n",
      "└ @ ClimateMachine /home/runner/work/ClimateMachine.jl/ClimateMachine.jl/src/Driver/driver_configs.jl:380\n",
      "┌ Info: Initializing Box1D\n",
      "└ @ ClimateMachine /home/runner/work/ClimateMachine.jl/ClimateMachine.jl/src/Driver/solver_configs.jl:151\n",
      "┌ Info: Starting Box1D\n",
      "│     dt              = 4.71698e-01\n",
      "│     timeend         =   450.00\n",
      "│     number of steps = 954\n",
      "│     norm(Q)         = 3.5422793587682586e+03\n",
      "└ @ ClimateMachine /home/runner/work/ClimateMachine.jl/ClimateMachine.jl/src/Driver/Driver.jl:629\n",
      "┌ Info: Finished\n",
      "│     norm(Q)            = 3.5142417383377224e+03\n",
      "│     norm(Q) / norm(Q₀) = 9.9208486468998158e-01\n",
      "│     norm(Q) - norm(Q₀) = -2.8037620430536208e+01\n",
      "└ @ ClimateMachine /home/runner/work/ClimateMachine.jl/ClimateMachine.jl/src/Driver/Driver.jl:667\n"
     ]
    }
   ],
   "cell_type": "code",
   "source": [
    "run_box1D(\n",
    "    4,\n",
    "    0.0,\n",
    "    1.0,\n",
    "    1.0,\n",
    "    joinpath(output_dir, \"box_1D_4_tmar.svg\");\n",
    "    tmar_filter = true,\n",
    ")"
   ],
   "metadata": {},
   "execution_count": 3
  },
  {
   "cell_type": "markdown",
   "source": [
    "![](box_1D_4_tmar.svg)"
   ],
   "metadata": {}
  },
  {
   "cell_type": "markdown",
   "source": [
    "`CutoffFilter(grid, Nc=1)`:"
   ],
   "metadata": {}
  },
  {
   "outputs": [
    {
     "name": "stdout",
     "output_type": "stream",
     "text": [
      "┌ Info: Model composition\n",
      "│     param_set = Main.##363.EarthParameterSet()\n",
      "│     init_q = 0.0\n",
      "│     amplitude = 1.0\n",
      "│     velo = 1.0\n",
      "└ @ ClimateMachine /home/runner/work/ClimateMachine.jl/ClimateMachine.jl/src/Driver/driver_configs.jl:102\n",
      "┌ Info: Establishing single stack configuration for Box1D\n",
      "│     precision        = Float64\n",
      "│     polynomial order = 4\n",
      "│     domain_min       = 0.00 m x0.00 m x0.00 m\n",
      "│     domain_max       = 500.00 m x500.00 m x350.00 m\n",
      "│     #vert elems      = 128\n",
      "│     MPI ranks        = 1\n",
      "│     min(Δ_horz)      = 86.34 m\n",
      "│     min(Δ_vert)      = 0.47 m\n",
      "└ @ ClimateMachine /home/runner/work/ClimateMachine.jl/ClimateMachine.jl/src/Driver/driver_configs.jl:380\n",
      "┌ Info: Initializing Box1D\n",
      "└ @ ClimateMachine /home/runner/work/ClimateMachine.jl/ClimateMachine.jl/src/Driver/solver_configs.jl:151\n",
      "┌ Info: Starting Box1D\n",
      "│     dt              = 4.71698e-01\n",
      "│     timeend         =   450.00\n",
      "│     number of steps = 954\n",
      "│     norm(Q)         = 3.5422793587682586e+03\n",
      "└ @ ClimateMachine /home/runner/work/ClimateMachine.jl/ClimateMachine.jl/src/Driver/Driver.jl:629\n",
      "┌ Info: Finished\n",
      "│     norm(Q)            = 2.1874634549832576e+03\n",
      "│     norm(Q) / norm(Q₀) = 6.1752991038625893e-01\n",
      "│     norm(Q) - norm(Q₀) = -1.3548159037850010e+03\n",
      "└ @ ClimateMachine /home/runner/work/ClimateMachine.jl/ClimateMachine.jl/src/Driver/Driver.jl:667\n"
     ]
    }
   ],
   "cell_type": "code",
   "source": [
    "run_box1D(\n",
    "    4,\n",
    "    0.0,\n",
    "    1.0,\n",
    "    1.0,\n",
    "    joinpath(output_dir, \"box_1D_4_cutoff_1.svg\");\n",
    "    cutoff_filter = true,\n",
    "    cutoff_param = 1,\n",
    ")"
   ],
   "metadata": {},
   "execution_count": 4
  },
  {
   "cell_type": "markdown",
   "source": [
    "![](box_1D_4_cutoff_1.svg)"
   ],
   "metadata": {}
  },
  {
   "cell_type": "markdown",
   "source": [
    "`CutoffFilter(grid, Nc=3)`:"
   ],
   "metadata": {}
  },
  {
   "outputs": [
    {
     "name": "stdout",
     "output_type": "stream",
     "text": [
      "┌ Info: Model composition\n",
      "│     param_set = Main.##363.EarthParameterSet()\n",
      "│     init_q = 0.0\n",
      "│     amplitude = 1.0\n",
      "│     velo = 1.0\n",
      "└ @ ClimateMachine /home/runner/work/ClimateMachine.jl/ClimateMachine.jl/src/Driver/driver_configs.jl:102\n",
      "┌ Info: Establishing single stack configuration for Box1D\n",
      "│     precision        = Float64\n",
      "│     polynomial order = 4\n",
      "│     domain_min       = 0.00 m x0.00 m x0.00 m\n",
      "│     domain_max       = 500.00 m x500.00 m x350.00 m\n",
      "│     #vert elems      = 128\n",
      "│     MPI ranks        = 1\n",
      "│     min(Δ_horz)      = 86.34 m\n",
      "│     min(Δ_vert)      = 0.47 m\n",
      "└ @ ClimateMachine /home/runner/work/ClimateMachine.jl/ClimateMachine.jl/src/Driver/driver_configs.jl:380\n",
      "┌ Info: Initializing Box1D\n",
      "└ @ ClimateMachine /home/runner/work/ClimateMachine.jl/ClimateMachine.jl/src/Driver/solver_configs.jl:151\n",
      "┌ Info: Starting Box1D\n",
      "│     dt              = 4.71698e-01\n",
      "│     timeend         =   450.00\n",
      "│     number of steps = 954\n",
      "│     norm(Q)         = 3.5422793587682586e+03\n",
      "└ @ ClimateMachine /home/runner/work/ClimateMachine.jl/ClimateMachine.jl/src/Driver/Driver.jl:629\n",
      "┌ Info: Finished\n",
      "│     norm(Q)            = 3.5069120229876603e+03\n",
      "│     norm(Q) / norm(Q₀) = 9.9001565596653096e-01\n",
      "│     norm(Q) - norm(Q₀) = -3.5367335780598296e+01\n",
      "└ @ ClimateMachine /home/runner/work/ClimateMachine.jl/ClimateMachine.jl/src/Driver/Driver.jl:667\n"
     ]
    }
   ],
   "cell_type": "code",
   "source": [
    "run_box1D(\n",
    "    4,\n",
    "    0.0,\n",
    "    1.0,\n",
    "    1.0,\n",
    "    joinpath(output_dir, \"box_1D_4_cutoff_3.svg\");\n",
    "    cutoff_filter = true,\n",
    "    cutoff_param = 3,\n",
    ")"
   ],
   "metadata": {},
   "execution_count": 5
  },
  {
   "cell_type": "markdown",
   "source": [
    "![](box_1D_4_cutoff_3.svg)"
   ],
   "metadata": {}
  },
  {
   "cell_type": "markdown",
   "source": [
    "`ExponentialFilter(grid, Nc=1, s=4)`:"
   ],
   "metadata": {}
  },
  {
   "outputs": [
    {
     "name": "stdout",
     "output_type": "stream",
     "text": [
      "┌ Info: Model composition\n",
      "│     param_set = Main.##363.EarthParameterSet()\n",
      "│     init_q = 0.0\n",
      "│     amplitude = 1.0\n",
      "│     velo = 1.0\n",
      "└ @ ClimateMachine /home/runner/work/ClimateMachine.jl/ClimateMachine.jl/src/Driver/driver_configs.jl:102\n",
      "┌ Info: Establishing single stack configuration for Box1D\n",
      "│     precision        = Float64\n",
      "│     polynomial order = 4\n",
      "│     domain_min       = 0.00 m x0.00 m x0.00 m\n",
      "│     domain_max       = 500.00 m x500.00 m x350.00 m\n",
      "│     #vert elems      = 128\n",
      "│     MPI ranks        = 1\n",
      "│     min(Δ_horz)      = 86.34 m\n",
      "│     min(Δ_vert)      = 0.47 m\n",
      "└ @ ClimateMachine /home/runner/work/ClimateMachine.jl/ClimateMachine.jl/src/Driver/driver_configs.jl:380\n",
      "┌ Info: Initializing Box1D\n",
      "└ @ ClimateMachine /home/runner/work/ClimateMachine.jl/ClimateMachine.jl/src/Driver/solver_configs.jl:151\n",
      "┌ Info: Starting Box1D\n",
      "│     dt              = 4.71698e-01\n",
      "│     timeend         =   450.00\n",
      "│     number of steps = 954\n",
      "│     norm(Q)         = 3.5422793587682586e+03\n",
      "└ @ ClimateMachine /home/runner/work/ClimateMachine.jl/ClimateMachine.jl/src/Driver/Driver.jl:629\n",
      "┌ Info: Finished\n",
      "│     norm(Q)            = 3.4666722428254188e+03\n",
      "│     norm(Q) / norm(Q₀) = 9.7865580088829296e-01\n",
      "│     norm(Q) - norm(Q₀) = -7.5607115942839755e+01\n",
      "└ @ ClimateMachine /home/runner/work/ClimateMachine.jl/ClimateMachine.jl/src/Driver/Driver.jl:667\n"
     ]
    }
   ],
   "cell_type": "code",
   "source": [
    "run_box1D(\n",
    "    4,\n",
    "    0.0,\n",
    "    1.0,\n",
    "    1.0,\n",
    "    joinpath(output_dir, \"box_1D_4_exp_1_4.svg\");\n",
    "    exp_filter = true,\n",
    "    exp_param_1 = 1,\n",
    "    exp_param_2 = 4,\n",
    ")"
   ],
   "metadata": {},
   "execution_count": 6
  },
  {
   "cell_type": "markdown",
   "source": [
    "![](box_1D_4_exp_1_4.svg)"
   ],
   "metadata": {}
  },
  {
   "cell_type": "markdown",
   "source": [
    "`ExponentialFilter(grid, Nc=1, s=8)`:"
   ],
   "metadata": {}
  },
  {
   "outputs": [
    {
     "name": "stdout",
     "output_type": "stream",
     "text": [
      "┌ Info: Model composition\n",
      "│     param_set = Main.##363.EarthParameterSet()\n",
      "│     init_q = 0.0\n",
      "│     amplitude = 1.0\n",
      "│     velo = 1.0\n",
      "└ @ ClimateMachine /home/runner/work/ClimateMachine.jl/ClimateMachine.jl/src/Driver/driver_configs.jl:102\n",
      "┌ Info: Establishing single stack configuration for Box1D\n",
      "│     precision        = Float64\n",
      "│     polynomial order = 4\n",
      "│     domain_min       = 0.00 m x0.00 m x0.00 m\n",
      "│     domain_max       = 500.00 m x500.00 m x350.00 m\n",
      "│     #vert elems      = 128\n",
      "│     MPI ranks        = 1\n",
      "│     min(Δ_horz)      = 86.34 m\n",
      "│     min(Δ_vert)      = 0.47 m\n",
      "└ @ ClimateMachine /home/runner/work/ClimateMachine.jl/ClimateMachine.jl/src/Driver/driver_configs.jl:380\n",
      "┌ Info: Initializing Box1D\n",
      "└ @ ClimateMachine /home/runner/work/ClimateMachine.jl/ClimateMachine.jl/src/Driver/solver_configs.jl:151\n",
      "┌ Info: Starting Box1D\n",
      "│     dt              = 4.71698e-01\n",
      "│     timeend         =   450.00\n",
      "│     number of steps = 954\n",
      "│     norm(Q)         = 3.5422793587682586e+03\n",
      "└ @ ClimateMachine /home/runner/work/ClimateMachine.jl/ClimateMachine.jl/src/Driver/Driver.jl:629\n",
      "┌ Info: Finished\n",
      "│     norm(Q)            = 3.5071549751655029e+03\n",
      "│     norm(Q) / norm(Q₀) = 9.9008424236337778e-01\n",
      "│     norm(Q) - norm(Q₀) = -3.5124383602755643e+01\n",
      "└ @ ClimateMachine /home/runner/work/ClimateMachine.jl/ClimateMachine.jl/src/Driver/Driver.jl:667\n"
     ]
    }
   ],
   "cell_type": "code",
   "source": [
    "run_box1D(\n",
    "    4,\n",
    "    0.0,\n",
    "    1.0,\n",
    "    1.0,\n",
    "    joinpath(output_dir, \"box_1D_4_exp_1_8.svg\");\n",
    "    exp_filter = true,\n",
    "    exp_param_1 = 1,\n",
    "    exp_param_2 = 8,\n",
    ")"
   ],
   "metadata": {},
   "execution_count": 7
  },
  {
   "cell_type": "markdown",
   "source": [
    "![](box_1D_4_exp_1_8.svg)"
   ],
   "metadata": {}
  },
  {
   "cell_type": "markdown",
   "source": [
    "`ExponentialFilter(grid, Nc=1, s=32)`:"
   ],
   "metadata": {}
  },
  {
   "outputs": [
    {
     "name": "stdout",
     "output_type": "stream",
     "text": [
      "┌ Info: Model composition\n",
      "│     param_set = Main.##363.EarthParameterSet()\n",
      "│     init_q = 0.0\n",
      "│     amplitude = 1.0\n",
      "│     velo = 1.0\n",
      "└ @ ClimateMachine /home/runner/work/ClimateMachine.jl/ClimateMachine.jl/src/Driver/driver_configs.jl:102\n",
      "┌ Info: Establishing single stack configuration for Box1D\n",
      "│     precision        = Float64\n",
      "│     polynomial order = 4\n",
      "│     domain_min       = 0.00 m x0.00 m x0.00 m\n",
      "│     domain_max       = 500.00 m x500.00 m x350.00 m\n",
      "│     #vert elems      = 128\n",
      "│     MPI ranks        = 1\n",
      "│     min(Δ_horz)      = 86.34 m\n",
      "│     min(Δ_vert)      = 0.47 m\n",
      "└ @ ClimateMachine /home/runner/work/ClimateMachine.jl/ClimateMachine.jl/src/Driver/driver_configs.jl:380\n",
      "┌ Info: Initializing Box1D\n",
      "└ @ ClimateMachine /home/runner/work/ClimateMachine.jl/ClimateMachine.jl/src/Driver/solver_configs.jl:151\n",
      "┌ Info: Starting Box1D\n",
      "│     dt              = 4.71698e-01\n",
      "│     timeend         =   450.00\n",
      "│     number of steps = 954\n",
      "│     norm(Q)         = 3.5422793587682586e+03\n",
      "└ @ ClimateMachine /home/runner/work/ClimateMachine.jl/ClimateMachine.jl/src/Driver/Driver.jl:629\n",
      "┌ Info: Finished\n",
      "│     norm(Q)            = 3.5271758961153250e+03\n",
      "│     norm(Q) / norm(Q₀) = 9.9573623051057569e-01\n",
      "│     norm(Q) - norm(Q₀) = -1.5103462652933558e+01\n",
      "└ @ ClimateMachine /home/runner/work/ClimateMachine.jl/ClimateMachine.jl/src/Driver/Driver.jl:667\n"
     ]
    }
   ],
   "cell_type": "code",
   "source": [
    "run_box1D(\n",
    "    4,\n",
    "    0.0,\n",
    "    1.0,\n",
    "    1.0,\n",
    "    joinpath(output_dir, \"box_1D_4_exp_1_32.svg\");\n",
    "    exp_filter = true,\n",
    "    exp_param_1 = 1,\n",
    "    exp_param_2 = 32,\n",
    ")"
   ],
   "metadata": {},
   "execution_count": 8
  },
  {
   "cell_type": "markdown",
   "source": [
    "![](box_1D_4_exp_1_32.svg)"
   ],
   "metadata": {}
  },
  {
   "cell_type": "markdown",
   "source": [
    "`BoydVandevenFilter(grid, Nc=1, s=4)`:"
   ],
   "metadata": {}
  },
  {
   "outputs": [
    {
     "name": "stdout",
     "output_type": "stream",
     "text": [
      "┌ Info: Model composition\n",
      "│     param_set = Main.##363.EarthParameterSet()\n",
      "│     init_q = 0.0\n",
      "│     amplitude = 1.0\n",
      "│     velo = 1.0\n",
      "└ @ ClimateMachine /home/runner/work/ClimateMachine.jl/ClimateMachine.jl/src/Driver/driver_configs.jl:102\n",
      "┌ Info: Establishing single stack configuration for Box1D\n",
      "│     precision        = Float64\n",
      "│     polynomial order = 4\n",
      "│     domain_min       = 0.00 m x0.00 m x0.00 m\n",
      "│     domain_max       = 500.00 m x500.00 m x350.00 m\n",
      "│     #vert elems      = 128\n",
      "│     MPI ranks        = 1\n",
      "│     min(Δ_horz)      = 86.34 m\n",
      "│     min(Δ_vert)      = 0.47 m\n",
      "└ @ ClimateMachine /home/runner/work/ClimateMachine.jl/ClimateMachine.jl/src/Driver/driver_configs.jl:380\n",
      "┌ Info: Initializing Box1D\n",
      "└ @ ClimateMachine /home/runner/work/ClimateMachine.jl/ClimateMachine.jl/src/Driver/solver_configs.jl:151\n",
      "┌ Info: Starting Box1D\n",
      "│     dt              = 4.71698e-01\n",
      "│     timeend         =   450.00\n",
      "│     number of steps = 954\n",
      "│     norm(Q)         = 3.5422793587682586e+03\n",
      "└ @ ClimateMachine /home/runner/work/ClimateMachine.jl/ClimateMachine.jl/src/Driver/Driver.jl:629\n",
      "┌ Info: Finished\n",
      "│     norm(Q)            = 3.4806217850629287e+03\n",
      "│     norm(Q) / norm(Q₀) = 9.8259381390891487e-01\n",
      "│     norm(Q) - norm(Q₀) = -6.1657573705329924e+01\n",
      "└ @ ClimateMachine /home/runner/work/ClimateMachine.jl/ClimateMachine.jl/src/Driver/Driver.jl:667\n"
     ]
    }
   ],
   "cell_type": "code",
   "source": [
    "run_box1D(\n",
    "    4,\n",
    "    0.0,\n",
    "    1.0,\n",
    "    1.0,\n",
    "    joinpath(output_dir, \"box_1D_4_boyd_1_4.svg\");\n",
    "    boyd_filter = true,\n",
    "    boyd_param_1 = 1,\n",
    "    boyd_param_2 = 4,\n",
    ")"
   ],
   "metadata": {},
   "execution_count": 9
  },
  {
   "cell_type": "markdown",
   "source": [
    "![](box_1D_4_boyd_1_4.svg)"
   ],
   "metadata": {}
  },
  {
   "cell_type": "markdown",
   "source": [
    "`BoydVandevenFilter(grid, Nc=1, s=8)`:"
   ],
   "metadata": {}
  },
  {
   "outputs": [
    {
     "name": "stdout",
     "output_type": "stream",
     "text": [
      "┌ Info: Model composition\n",
      "│     param_set = Main.##363.EarthParameterSet()\n",
      "│     init_q = 0.0\n",
      "│     amplitude = 1.0\n",
      "│     velo = 1.0\n",
      "└ @ ClimateMachine /home/runner/work/ClimateMachine.jl/ClimateMachine.jl/src/Driver/driver_configs.jl:102\n",
      "┌ Info: Establishing single stack configuration for Box1D\n",
      "│     precision        = Float64\n",
      "│     polynomial order = 4\n",
      "│     domain_min       = 0.00 m x0.00 m x0.00 m\n",
      "│     domain_max       = 500.00 m x500.00 m x350.00 m\n",
      "│     #vert elems      = 128\n",
      "│     MPI ranks        = 1\n",
      "│     min(Δ_horz)      = 86.34 m\n",
      "│     min(Δ_vert)      = 0.47 m\n",
      "└ @ ClimateMachine /home/runner/work/ClimateMachine.jl/ClimateMachine.jl/src/Driver/driver_configs.jl:380\n",
      "┌ Info: Initializing Box1D\n",
      "└ @ ClimateMachine /home/runner/work/ClimateMachine.jl/ClimateMachine.jl/src/Driver/solver_configs.jl:151\n",
      "┌ Info: Starting Box1D\n",
      "│     dt              = 4.71698e-01\n",
      "│     timeend         =   450.00\n",
      "│     number of steps = 954\n",
      "│     norm(Q)         = 3.5422793587682586e+03\n",
      "└ @ ClimateMachine /home/runner/work/ClimateMachine.jl/ClimateMachine.jl/src/Driver/Driver.jl:629\n",
      "┌ Info: Finished\n",
      "│     norm(Q)            = 3.4899368358513470e+03\n",
      "│     norm(Q) / norm(Q₀) = 9.8522349097415274e-01\n",
      "│     norm(Q) - norm(Q₀) = -5.2342522916911548e+01\n",
      "└ @ ClimateMachine /home/runner/work/ClimateMachine.jl/ClimateMachine.jl/src/Driver/Driver.jl:667\n"
     ]
    }
   ],
   "cell_type": "code",
   "source": [
    "run_box1D(\n",
    "    4,\n",
    "    0.0,\n",
    "    1.0,\n",
    "    1.0,\n",
    "    joinpath(output_dir, \"box_1D_4_boyd_1_8.svg\");\n",
    "    boyd_filter = true,\n",
    "    boyd_param_1 = 1,\n",
    "    boyd_param_2 = 8,\n",
    ")"
   ],
   "metadata": {},
   "execution_count": 10
  },
  {
   "cell_type": "markdown",
   "source": [
    "![](box_1D_4_boyd_1_8.svg)"
   ],
   "metadata": {}
  },
  {
   "cell_type": "markdown",
   "source": [
    "`BoydVandevenFilter(grid, Nc=1, s=32)`:"
   ],
   "metadata": {}
  },
  {
   "outputs": [
    {
     "name": "stdout",
     "output_type": "stream",
     "text": [
      "┌ Info: Model composition\n",
      "│     param_set = Main.##363.EarthParameterSet()\n",
      "│     init_q = 0.0\n",
      "│     amplitude = 1.0\n",
      "│     velo = 1.0\n",
      "└ @ ClimateMachine /home/runner/work/ClimateMachine.jl/ClimateMachine.jl/src/Driver/driver_configs.jl:102\n",
      "┌ Info: Establishing single stack configuration for Box1D\n",
      "│     precision        = Float64\n",
      "│     polynomial order = 4\n",
      "│     domain_min       = 0.00 m x0.00 m x0.00 m\n",
      "│     domain_max       = 500.00 m x500.00 m x350.00 m\n",
      "│     #vert elems      = 128\n",
      "│     MPI ranks        = 1\n",
      "│     min(Δ_horz)      = 86.34 m\n",
      "│     min(Δ_vert)      = 0.47 m\n",
      "└ @ ClimateMachine /home/runner/work/ClimateMachine.jl/ClimateMachine.jl/src/Driver/driver_configs.jl:380\n",
      "┌ Info: Initializing Box1D\n",
      "└ @ ClimateMachine /home/runner/work/ClimateMachine.jl/ClimateMachine.jl/src/Driver/solver_configs.jl:151\n",
      "┌ Info: Starting Box1D\n",
      "│     dt              = 4.71698e-01\n",
      "│     timeend         =   450.00\n",
      "│     number of steps = 954\n",
      "│     norm(Q)         = 3.5422793587682586e+03\n",
      "└ @ ClimateMachine /home/runner/work/ClimateMachine.jl/ClimateMachine.jl/src/Driver/Driver.jl:629\n",
      "┌ Info: Finished\n",
      "│     norm(Q)            = 3.5060209628241482e+03\n",
      "│     norm(Q) / norm(Q₀) = 9.8976410602558507e-01\n",
      "│     norm(Q) - norm(Q₀) = -3.6258395944110362e+01\n",
      "└ @ ClimateMachine /home/runner/work/ClimateMachine.jl/ClimateMachine.jl/src/Driver/Driver.jl:667\n"
     ]
    }
   ],
   "cell_type": "code",
   "source": [
    "run_box1D(\n",
    "    4,\n",
    "    0.0,\n",
    "    1.0,\n",
    "    1.0,\n",
    "    joinpath(output_dir, \"box_1D_4_boyd_1_32.svg\");\n",
    "    boyd_filter = true,\n",
    "    boyd_param_1 = 1,\n",
    "    boyd_param_2 = 32,\n",
    ")"
   ],
   "metadata": {},
   "execution_count": 11
  },
  {
   "cell_type": "markdown",
   "source": [
    "![](box_1D_4_boyd_1_32.svg)"
   ],
   "metadata": {}
  },
  {
   "cell_type": "markdown",
   "source": [
    "`ExponentialFilter(grid, Nc=1, s=8)` and `TMARFilter()`:"
   ],
   "metadata": {}
  },
  {
   "outputs": [
    {
     "name": "stdout",
     "output_type": "stream",
     "text": [
      "┌ Info: Model composition\n",
      "│     param_set = Main.##363.EarthParameterSet()\n",
      "│     init_q = 0.0\n",
      "│     amplitude = 1.0\n",
      "│     velo = 1.0\n",
      "└ @ ClimateMachine /home/runner/work/ClimateMachine.jl/ClimateMachine.jl/src/Driver/driver_configs.jl:102\n",
      "┌ Info: Establishing single stack configuration for Box1D\n",
      "│     precision        = Float64\n",
      "│     polynomial order = 4\n",
      "│     domain_min       = 0.00 m x0.00 m x0.00 m\n",
      "│     domain_max       = 500.00 m x500.00 m x350.00 m\n",
      "│     #vert elems      = 128\n",
      "│     MPI ranks        = 1\n",
      "│     min(Δ_horz)      = 86.34 m\n",
      "│     min(Δ_vert)      = 0.47 m\n",
      "└ @ ClimateMachine /home/runner/work/ClimateMachine.jl/ClimateMachine.jl/src/Driver/driver_configs.jl:380\n",
      "┌ Info: Initializing Box1D\n",
      "└ @ ClimateMachine /home/runner/work/ClimateMachine.jl/ClimateMachine.jl/src/Driver/solver_configs.jl:151\n",
      "┌ Info: Starting Box1D\n",
      "│     dt              = 4.71698e-01\n",
      "│     timeend         =   450.00\n",
      "│     number of steps = 954\n",
      "│     norm(Q)         = 3.5422793587682586e+03\n",
      "└ @ ClimateMachine /home/runner/work/ClimateMachine.jl/ClimateMachine.jl/src/Driver/Driver.jl:629\n",
      "┌ Info: Finished\n",
      "│     norm(Q)            = 3.4929736646878659e+03\n",
      "│     norm(Q) / norm(Q₀) = 9.8608080021742339e-01\n",
      "│     norm(Q) - norm(Q₀) = -4.9305694080392641e+01\n",
      "└ @ ClimateMachine /home/runner/work/ClimateMachine.jl/ClimateMachine.jl/src/Driver/Driver.jl:667\n"
     ]
    }
   ],
   "cell_type": "code",
   "source": [
    "run_box1D(\n",
    "    4,\n",
    "    0.0,\n",
    "    1.0,\n",
    "    1.0,\n",
    "    joinpath(output_dir, \"box_1D_4_tmar_exp_1_8.svg\");\n",
    "    exp_filter = true,\n",
    "    tmar_filter = true,\n",
    "    exp_param_1 = 1,\n",
    "    exp_param_2 = 8,\n",
    ")"
   ],
   "metadata": {},
   "execution_count": 12
  },
  {
   "cell_type": "markdown",
   "source": [
    "![](box_1D_4_tmar_exp_1_8.svg)"
   ],
   "metadata": {}
  },
  {
   "cell_type": "markdown",
   "source": [
    "`BoydVandevenFilter(grid, Nc=1, s=8)` and `TMARFilter()`:"
   ],
   "metadata": {}
  },
  {
   "outputs": [
    {
     "name": "stdout",
     "output_type": "stream",
     "text": [
      "┌ Info: Model composition\n",
      "│     param_set = Main.##363.EarthParameterSet()\n",
      "│     init_q = 0.0\n",
      "│     amplitude = 1.0\n",
      "│     velo = 1.0\n",
      "└ @ ClimateMachine /home/runner/work/ClimateMachine.jl/ClimateMachine.jl/src/Driver/driver_configs.jl:102\n",
      "┌ Info: Establishing single stack configuration for Box1D\n",
      "│     precision        = Float64\n",
      "│     polynomial order = 4\n",
      "│     domain_min       = 0.00 m x0.00 m x0.00 m\n",
      "│     domain_max       = 500.00 m x500.00 m x350.00 m\n",
      "│     #vert elems      = 128\n",
      "│     MPI ranks        = 1\n",
      "│     min(Δ_horz)      = 86.34 m\n",
      "│     min(Δ_vert)      = 0.47 m\n",
      "└ @ ClimateMachine /home/runner/work/ClimateMachine.jl/ClimateMachine.jl/src/Driver/driver_configs.jl:380\n",
      "┌ Info: Initializing Box1D\n",
      "└ @ ClimateMachine /home/runner/work/ClimateMachine.jl/ClimateMachine.jl/src/Driver/solver_configs.jl:151\n",
      "┌ Info: Starting Box1D\n",
      "│     dt              = 4.71698e-01\n",
      "│     timeend         =   450.00\n",
      "│     number of steps = 954\n",
      "│     norm(Q)         = 3.5422793587682586e+03\n",
      "└ @ ClimateMachine /home/runner/work/ClimateMachine.jl/ClimateMachine.jl/src/Driver/Driver.jl:629\n",
      "┌ Info: Finished\n",
      "│     norm(Q)            = 3.4774323409699200e+03\n",
      "│     norm(Q) / norm(Q₀) = 9.8169342075242549e-01\n",
      "│     norm(Q) - norm(Q₀) = -6.4847017798338584e+01\n",
      "└ @ ClimateMachine /home/runner/work/ClimateMachine.jl/ClimateMachine.jl/src/Driver/Driver.jl:667\n"
     ]
    }
   ],
   "cell_type": "code",
   "source": [
    "run_box1D(\n",
    "    4,\n",
    "    0.0,\n",
    "    1.0,\n",
    "    1.0,\n",
    "    joinpath(output_dir, \"box_1D_4_tmar_boyd_1_8.svg\");\n",
    "    boyd_filter = true,\n",
    "    tmar_filter = true,\n",
    "    boyd_param_1 = 1,\n",
    "    boyd_param_2 = 8,\n",
    ")"
   ],
   "metadata": {},
   "execution_count": 13
  },
  {
   "cell_type": "markdown",
   "source": [
    "![](box_1D_4_tmar_boyd_1_8.svg)"
   ],
   "metadata": {}
  },
  {
   "cell_type": "markdown",
   "source": [
    "---\n",
    "\n",
    "*This notebook was generated using [Literate.jl](https://github.com/fredrikekre/Literate.jl).*"
   ],
   "metadata": {}
  }
 ],
 "nbformat_minor": 3,
 "metadata": {
  "language_info": {
   "file_extension": ".jl",
   "mimetype": "application/julia",
   "name": "julia",
   "version": "1.4.2"
  },
  "kernelspec": {
   "name": "julia-1.4",
   "display_name": "Julia 1.4.2",
   "language": "julia"
  }
 },
 "nbformat": 4
}
