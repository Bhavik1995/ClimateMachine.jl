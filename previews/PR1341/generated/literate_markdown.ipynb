{
 "cells": [
  {
   "cell_type": "markdown",
   "source": [
    "# How to generate a literate tutorial file"
   ],
   "metadata": {}
  },
  {
   "cell_type": "markdown",
   "source": [
    "To create an tutorial using ClimateMachine, please use [Literate.jl](https://github.com/fredrikekre/Literate.jl), and consult the [Literate documentation](https://fredrikekre.github.io/Literate.jl/stable/) for questions.\n",
    "\n",
    "For now, all literate tutorials are held in the `tutorials` directory"
   ],
   "metadata": {}
  },
  {
   "cell_type": "markdown",
   "source": [
    "With Literate, all comments turn into markdown text and any Julia code is read and run *as if it is in the Julia REPL*.\n",
    "As a small caveat to this, you might need to suppress the output of certain commands.\n",
    "For example, if you define and run the following function"
   ],
   "metadata": {}
  },
  {
   "outputs": [
    {
     "output_type": "execute_result",
     "data": {
      "text/plain": "10-element Array{Int64,1}:\n   1\n   4\n   9\n  16\n  25\n  36\n  49\n  64\n  81\n 100"
     },
     "metadata": {},
     "execution_count": 1
    }
   ],
   "cell_type": "code",
   "source": [
    "function f()\n",
    "    return x = [i * i for i in 1:10]\n",
    "end\n",
    "\n",
    "x = f()"
   ],
   "metadata": {},
   "execution_count": 1
  },
  {
   "cell_type": "markdown",
   "source": [
    "The entire list will be output, while"
   ],
   "metadata": {}
  },
  {
   "outputs": [],
   "cell_type": "code",
   "source": [
    "f();"
   ],
   "metadata": {},
   "execution_count": 2
  },
  {
   "cell_type": "markdown",
   "source": [
    "does not (because of the `;`).\n",
    "\n",
    "To show plots, you may do something like the following:"
   ],
   "metadata": {}
  },
  {
   "outputs": [
    {
     "output_type": "execute_result",
     "data": {
      "text/plain": "Plot{Plots.GRBackend() n=1}",
      "image/png": "[encoded data removed]",
      "text/html": [
       "<?xml version=\"1.0\" encoding=\"utf-8\"?>\n",
       "<svg xmlns=\"http://www.w3.org/2000/svg\" xmlns:xlink=\"http://www.w3.org/1999/xlink\" width=\"600\" height=\"400\" viewBox=\"0 0 2400 1600\">\n",
       "<defs>\n",
       "  <clipPath id=\"clip540\">\n",
       "    <rect x=\"0\" y=\"0\" width=\"2400\" height=\"1600\"/>\n",
       "  </clipPath>\n",
       "</defs>\n",
       "<path clip-path=\"url(#clip540)\" d=\"\n",
       "M0 1600 L2400 1600 L2400 0 L0 0  Z\n",
       "  \" fill=\"#ffffff\" fill-rule=\"evenodd\" fill-opacity=\"1\"/>\n",
       "<defs>\n",
       "  <clipPath id=\"clip541\">\n",
       "    <rect x=\"480\" y=\"0\" width=\"1681\" height=\"1600\"/>\n",
       "  </clipPath>\n",
       "</defs>\n",
       "<path clip-path=\"url(#clip540)\" d=\"\n",
       "M161.598 1486.45 L2352.76 1486.45 L2352.76 47.2441 L161.598 47.2441  Z\n",
       "  \" fill=\"#ffffff\" fill-rule=\"evenodd\" fill-opacity=\"1\"/>\n",
       "<defs>\n",
       "  <clipPath id=\"clip542\">\n",
       "    <rect x=\"161\" y=\"47\" width=\"2192\" height=\"1440\"/>\n",
       "  </clipPath>\n",
       "</defs>\n",
       "<polyline clip-path=\"url(#clip542)\" style=\"stroke:#000000; stroke-width:2; stroke-opacity:0.1; fill:none\" points=\"\n",
       "  453.293,1486.45 453.293,47.2441 \n",
       "  \"/>\n",
       "<polyline clip-path=\"url(#clip542)\" style=\"stroke:#000000; stroke-width:2; stroke-opacity:0.1; fill:none\" points=\"\n",
       "  912.655,1486.45 912.655,47.2441 \n",
       "  \"/>\n",
       "<polyline clip-path=\"url(#clip542)\" style=\"stroke:#000000; stroke-width:2; stroke-opacity:0.1; fill:none\" points=\"\n",
       "  1372.02,1486.45 1372.02,47.2441 \n",
       "  \"/>\n",
       "<polyline clip-path=\"url(#clip542)\" style=\"stroke:#000000; stroke-width:2; stroke-opacity:0.1; fill:none\" points=\"\n",
       "  1831.38,1486.45 1831.38,47.2441 \n",
       "  \"/>\n",
       "<polyline clip-path=\"url(#clip542)\" style=\"stroke:#000000; stroke-width:2; stroke-opacity:0.1; fill:none\" points=\"\n",
       "  2290.74,1486.45 2290.74,47.2441 \n",
       "  \"/>\n",
       "<polyline clip-path=\"url(#clip542)\" style=\"stroke:#000000; stroke-width:2; stroke-opacity:0.1; fill:none\" points=\"\n",
       "  161.598,1459.43 2352.76,1459.43 \n",
       "  \"/>\n",
       "<polyline clip-path=\"url(#clip542)\" style=\"stroke:#000000; stroke-width:2; stroke-opacity:0.1; fill:none\" points=\"\n",
       "  161.598,1116.57 2352.76,1116.57 \n",
       "  \"/>\n",
       "<polyline clip-path=\"url(#clip542)\" style=\"stroke:#000000; stroke-width:2; stroke-opacity:0.1; fill:none\" points=\"\n",
       "  161.598,773.703 2352.76,773.703 \n",
       "  \"/>\n",
       "<polyline clip-path=\"url(#clip542)\" style=\"stroke:#000000; stroke-width:2; stroke-opacity:0.1; fill:none\" points=\"\n",
       "  161.598,430.84 2352.76,430.84 \n",
       "  \"/>\n",
       "<polyline clip-path=\"url(#clip542)\" style=\"stroke:#000000; stroke-width:2; stroke-opacity:0.1; fill:none\" points=\"\n",
       "  161.598,87.9763 2352.76,87.9763 \n",
       "  \"/>\n",
       "<polyline clip-path=\"url(#clip540)\" style=\"stroke:#000000; stroke-width:4; stroke-opacity:1; fill:none\" points=\"\n",
       "  161.598,1486.45 2352.76,1486.45 \n",
       "  \"/>\n",
       "<polyline clip-path=\"url(#clip540)\" style=\"stroke:#000000; stroke-width:4; stroke-opacity:1; fill:none\" points=\"\n",
       "  161.598,1486.45 161.598,47.2441 \n",
       "  \"/>\n",
       "<polyline clip-path=\"url(#clip540)\" style=\"stroke:#000000; stroke-width:4; stroke-opacity:1; fill:none\" points=\"\n",
       "  453.293,1486.45 453.293,1469.18 \n",
       "  \"/>\n",
       "<polyline clip-path=\"url(#clip540)\" style=\"stroke:#000000; stroke-width:4; stroke-opacity:1; fill:none\" points=\"\n",
       "  912.655,1486.45 912.655,1469.18 \n",
       "  \"/>\n",
       "<polyline clip-path=\"url(#clip540)\" style=\"stroke:#000000; stroke-width:4; stroke-opacity:1; fill:none\" points=\"\n",
       "  1372.02,1486.45 1372.02,1469.18 \n",
       "  \"/>\n",
       "<polyline clip-path=\"url(#clip540)\" style=\"stroke:#000000; stroke-width:4; stroke-opacity:1; fill:none\" points=\"\n",
       "  1831.38,1486.45 1831.38,1469.18 \n",
       "  \"/>\n",
       "<polyline clip-path=\"url(#clip540)\" style=\"stroke:#000000; stroke-width:4; stroke-opacity:1; fill:none\" points=\"\n",
       "  2290.74,1486.45 2290.74,1469.18 \n",
       "  \"/>\n",
       "<polyline clip-path=\"url(#clip540)\" style=\"stroke:#000000; stroke-width:4; stroke-opacity:1; fill:none\" points=\"\n",
       "  161.598,1459.43 187.892,1459.43 \n",
       "  \"/>\n",
       "<polyline clip-path=\"url(#clip540)\" style=\"stroke:#000000; stroke-width:4; stroke-opacity:1; fill:none\" points=\"\n",
       "  161.598,1116.57 187.892,1116.57 \n",
       "  \"/>\n",
       "<polyline clip-path=\"url(#clip540)\" style=\"stroke:#000000; stroke-width:4; stroke-opacity:1; fill:none\" points=\"\n",
       "  161.598,773.703 187.892,773.703 \n",
       "  \"/>\n",
       "<polyline clip-path=\"url(#clip540)\" style=\"stroke:#000000; stroke-width:4; stroke-opacity:1; fill:none\" points=\"\n",
       "  161.598,430.84 187.892,430.84 \n",
       "  \"/>\n",
       "<polyline clip-path=\"url(#clip540)\" style=\"stroke:#000000; stroke-width:4; stroke-opacity:1; fill:none\" points=\"\n",
       "  161.598,87.9763 187.892,87.9763 \n",
       "  \"/>\n",
       "<path clip-path=\"url(#clip540)\" d=\"M 0 0 M447.946 1535.98 L464.265 1535.98 L464.265 1539.92 L442.321 1539.92 L442.321 1535.98 Q444.983 1533.23 449.566 1528.6 Q454.173 1523.95 455.353 1522.61 Q457.599 1520.08 458.478 1518.35 Q459.381 1516.59 459.381 1514.9 Q459.381 1512.14 457.437 1510.41 Q455.515 1508.67 452.414 1508.67 Q450.215 1508.67 447.761 1509.43 Q445.33 1510.2 442.553 1511.75 L442.553 1507.03 Q445.377 1505.89 447.83 1505.31 Q450.284 1504.73 452.321 1504.73 Q457.691 1504.73 460.886 1507.42 Q464.08 1510.11 464.08 1514.6 Q464.08 1516.73 463.27 1518.65 Q462.483 1520.54 460.377 1523.14 Q459.798 1523.81 456.696 1527.03 Q453.594 1530.22 447.946 1535.98 Z\" fill=\"#000000\" fill-rule=\"evenodd\" fill-opacity=\"1\" /><path clip-path=\"url(#clip540)\" d=\"M 0 0 M915.665 1509.43 L903.859 1527.88 L915.665 1527.88 L915.665 1509.43 M914.438 1505.36 L920.317 1505.36 L920.317 1527.88 L925.248 1527.88 L925.248 1531.77 L920.317 1531.77 L920.317 1539.92 L915.665 1539.92 L915.665 1531.77 L900.063 1531.77 L900.063 1527.26 L914.438 1505.36 Z\" fill=\"#000000\" fill-rule=\"evenodd\" fill-opacity=\"1\" /><path clip-path=\"url(#clip540)\" d=\"M 0 0 M1372.42 1520.78 Q1369.27 1520.78 1367.42 1522.93 Q1365.59 1525.08 1365.59 1528.83 Q1365.59 1532.56 1367.42 1534.73 Q1369.27 1536.89 1372.42 1536.89 Q1375.57 1536.89 1377.4 1534.73 Q1379.25 1532.56 1379.25 1528.83 Q1379.25 1525.08 1377.4 1522.93 Q1375.57 1520.78 1372.42 1520.78 M1381.71 1506.12 L1381.71 1510.38 Q1379.95 1509.55 1378.14 1509.11 Q1376.36 1508.67 1374.6 1508.67 Q1369.97 1508.67 1367.52 1511.8 Q1365.08 1514.92 1364.74 1521.24 Q1366.1 1519.23 1368.16 1518.16 Q1370.22 1517.07 1372.7 1517.07 Q1377.91 1517.07 1380.92 1520.24 Q1383.95 1523.39 1383.95 1528.83 Q1383.95 1534.16 1380.8 1537.37 Q1377.65 1540.59 1372.42 1540.59 Q1366.43 1540.59 1363.26 1536.01 Q1360.08 1531.4 1360.08 1522.67 Q1360.08 1514.48 1363.97 1509.62 Q1367.86 1504.73 1374.41 1504.73 Q1376.17 1504.73 1377.96 1505.08 Q1379.76 1505.43 1381.71 1506.12 Z\" fill=\"#000000\" fill-rule=\"evenodd\" fill-opacity=\"1\" /><path clip-path=\"url(#clip540)\" d=\"M 0 0 M1831.38 1523.51 Q1828.05 1523.51 1826.13 1525.29 Q1824.23 1527.07 1824.23 1530.2 Q1824.23 1533.32 1826.13 1535.11 Q1828.05 1536.89 1831.38 1536.89 Q1834.71 1536.89 1836.63 1535.11 Q1838.56 1533.3 1838.56 1530.2 Q1838.56 1527.07 1836.63 1525.29 Q1834.74 1523.51 1831.38 1523.51 M1826.7 1521.52 Q1823.69 1520.78 1822 1518.72 Q1820.34 1516.66 1820.34 1513.69 Q1820.34 1509.55 1823.28 1507.14 Q1826.24 1504.73 1831.38 1504.73 Q1836.54 1504.73 1839.48 1507.14 Q1842.42 1509.55 1842.42 1513.69 Q1842.42 1516.66 1840.73 1518.72 Q1839.06 1520.78 1836.08 1521.52 Q1839.46 1522.3 1841.33 1524.6 Q1843.23 1526.89 1843.23 1530.2 Q1843.23 1535.22 1840.15 1537.91 Q1837.1 1540.59 1831.38 1540.59 Q1825.66 1540.59 1822.58 1537.91 Q1819.53 1535.22 1819.53 1530.2 Q1819.53 1526.89 1821.43 1524.6 Q1823.32 1522.3 1826.7 1521.52 M1824.99 1514.13 Q1824.99 1516.82 1826.66 1518.32 Q1828.35 1519.83 1831.38 1519.83 Q1834.39 1519.83 1836.08 1518.32 Q1837.79 1516.82 1837.79 1514.13 Q1837.79 1511.45 1836.08 1509.94 Q1834.39 1508.44 1831.38 1508.44 Q1828.35 1508.44 1826.66 1509.94 Q1824.99 1511.45 1824.99 1514.13 Z\" fill=\"#000000\" fill-rule=\"evenodd\" fill-opacity=\"1\" /><path clip-path=\"url(#clip540)\" d=\"M 0 0 M2267.62 1535.98 L2275.26 1535.98 L2275.26 1509.62 L2266.95 1511.29 L2266.95 1507.03 L2275.21 1505.36 L2279.89 1505.36 L2279.89 1535.98 L2287.52 1535.98 L2287.52 1539.92 L2267.62 1539.92 L2267.62 1535.98 Z\" fill=\"#000000\" fill-rule=\"evenodd\" fill-opacity=\"1\" /><path clip-path=\"url(#clip540)\" d=\"M 0 0 M2302.59 1508.44 Q2298.98 1508.44 2297.15 1512 Q2295.35 1515.55 2295.35 1522.67 Q2295.35 1529.78 2297.15 1533.35 Q2298.98 1536.89 2302.59 1536.89 Q2306.23 1536.89 2308.03 1533.35 Q2309.86 1529.78 2309.86 1522.67 Q2309.86 1515.55 2308.03 1512 Q2306.23 1508.44 2302.59 1508.44 M2302.59 1504.73 Q2308.4 1504.73 2311.46 1509.34 Q2314.54 1513.92 2314.54 1522.67 Q2314.54 1531.4 2311.46 1536.01 Q2308.4 1540.59 2302.59 1540.59 Q2296.78 1540.59 2293.7 1536.01 Q2290.65 1531.4 2290.65 1522.67 Q2290.65 1513.92 2293.7 1509.34 Q2296.78 1504.73 2302.59 1504.73 Z\" fill=\"#000000\" fill-rule=\"evenodd\" fill-opacity=\"1\" /><path clip-path=\"url(#clip540)\" d=\"M 0 0 M125.654 1445.23 Q122.043 1445.23 120.214 1448.79 Q118.408 1452.34 118.408 1459.46 Q118.408 1466.57 120.214 1470.14 Q122.043 1473.68 125.654 1473.68 Q129.288 1473.68 131.094 1470.14 Q132.922 1466.57 132.922 1459.46 Q132.922 1452.34 131.094 1448.79 Q129.288 1445.23 125.654 1445.23 M125.654 1441.53 Q131.464 1441.53 134.52 1446.13 Q137.598 1450.72 137.598 1459.46 Q137.598 1468.19 134.52 1472.8 Q131.464 1477.38 125.654 1477.38 Q119.844 1477.38 116.765 1472.8 Q113.709 1468.19 113.709 1459.46 Q113.709 1450.72 116.765 1446.13 Q119.844 1441.53 125.654 1441.53 Z\" fill=\"#000000\" fill-rule=\"evenodd\" fill-opacity=\"1\" /><path clip-path=\"url(#clip540)\" d=\"M 0 0 M95.2605 1129.91 L111.58 1129.91 L111.58 1133.85 L89.6355 1133.85 L89.6355 1129.91 Q92.2975 1127.16 96.8808 1122.53 Q101.487 1117.87 102.668 1116.53 Q104.913 1114.01 105.793 1112.27 Q106.696 1110.51 106.696 1108.82 Q106.696 1106.07 104.751 1104.33 Q102.83 1102.6 99.728 1102.6 Q97.529 1102.6 95.0753 1103.36 Q92.6447 1104.12 89.867 1105.68 L89.867 1100.95 Q92.691 1099.82 95.1447 1099.24 Q97.5984 1098.66 99.6354 1098.66 Q105.006 1098.66 108.2 1101.35 Q111.395 1104.03 111.395 1108.52 Q111.395 1110.65 110.584 1112.57 Q109.797 1114.47 107.691 1117.06 Q107.112 1117.74 104.01 1120.95 Q100.909 1124.15 95.2605 1129.91 Z\" fill=\"#000000\" fill-rule=\"evenodd\" fill-opacity=\"1\" /><path clip-path=\"url(#clip540)\" d=\"M 0 0 M116.696 1099.29 L135.052 1099.29 L135.052 1103.22 L120.978 1103.22 L120.978 1111.69 Q121.996 1111.35 123.015 1111.18 Q124.033 1111 125.052 1111 Q130.839 1111 134.219 1114.17 Q137.598 1117.34 137.598 1122.76 Q137.598 1128.34 134.126 1131.44 Q130.654 1134.52 124.334 1134.52 Q122.158 1134.52 119.89 1134.15 Q117.645 1133.78 115.237 1133.04 L115.237 1128.34 Q117.321 1129.47 119.543 1130.03 Q121.765 1130.58 124.242 1130.58 Q128.246 1130.58 130.584 1128.48 Q132.922 1126.37 132.922 1122.76 Q132.922 1119.15 130.584 1117.04 Q128.246 1114.93 124.242 1114.93 Q122.367 1114.93 120.492 1115.35 Q118.64 1115.77 116.696 1116.65 L116.696 1099.29 Z\" fill=\"#000000\" fill-rule=\"evenodd\" fill-opacity=\"1\" /><path clip-path=\"url(#clip540)\" d=\"M 0 0 M89.6818 756.423 L108.038 756.423 L108.038 760.358 L93.9642 760.358 L93.9642 768.831 Q94.9827 768.483 96.0012 768.321 Q97.0197 768.136 98.0382 768.136 Q103.825 768.136 107.205 771.307 Q110.584 774.479 110.584 779.895 Q110.584 785.474 107.112 788.576 Q103.64 791.655 97.3206 791.655 Q95.1447 791.655 92.8762 791.284 Q90.6309 790.914 88.2235 790.173 L88.2235 785.474 Q90.3068 786.608 92.529 787.164 Q94.7512 787.719 97.2281 787.719 Q101.233 787.719 103.571 785.613 Q105.909 783.506 105.909 779.895 Q105.909 776.284 103.571 774.178 Q101.233 772.071 97.2281 772.071 Q95.3531 772.071 93.4781 772.488 Q91.6262 772.905 89.6818 773.784 L89.6818 756.423 Z\" fill=\"#000000\" fill-rule=\"evenodd\" fill-opacity=\"1\" /><path clip-path=\"url(#clip540)\" d=\"M 0 0 M125.654 759.502 Q122.043 759.502 120.214 763.067 Q118.408 766.608 118.408 773.738 Q118.408 780.844 120.214 784.409 Q122.043 787.951 125.654 787.951 Q129.288 787.951 131.094 784.409 Q132.922 780.844 132.922 773.738 Q132.922 766.608 131.094 763.067 Q129.288 759.502 125.654 759.502 M125.654 755.798 Q131.464 755.798 134.52 760.405 Q137.598 764.988 137.598 773.738 Q137.598 782.465 134.52 787.071 Q131.464 791.655 125.654 791.655 Q119.844 791.655 116.765 787.071 Q113.709 782.465 113.709 773.738 Q113.709 764.988 116.765 760.405 Q119.844 755.798 125.654 755.798 Z\" fill=\"#000000\" fill-rule=\"evenodd\" fill-opacity=\"1\" /><path clip-path=\"url(#clip540)\" d=\"M 0 0 M89.3577 413.56 L111.58 413.56 L111.58 415.55 L99.0336 448.12 L94.1494 448.12 L105.955 417.495 L89.3577 417.495 L89.3577 413.56 Z\" fill=\"#000000\" fill-rule=\"evenodd\" fill-opacity=\"1\" /><path clip-path=\"url(#clip540)\" d=\"M 0 0 M116.696 413.56 L135.052 413.56 L135.052 417.495 L120.978 417.495 L120.978 425.967 Q121.996 425.62 123.015 425.458 Q124.033 425.273 125.052 425.273 Q130.839 425.273 134.219 428.444 Q137.598 431.615 137.598 437.032 Q137.598 442.611 134.126 445.712 Q130.654 448.791 124.334 448.791 Q122.158 448.791 119.89 448.421 Q117.645 448.05 115.237 447.31 L115.237 442.611 Q117.321 443.745 119.543 444.3 Q121.765 444.856 124.242 444.856 Q128.246 444.856 130.584 442.749 Q132.922 440.643 132.922 437.032 Q132.922 433.421 130.584 431.314 Q128.246 429.208 124.242 429.208 Q122.367 429.208 120.492 429.624 Q118.64 430.041 116.696 430.921 L116.696 413.56 Z\" fill=\"#000000\" fill-rule=\"evenodd\" fill-opacity=\"1\" /><path clip-path=\"url(#clip540)\" d=\"M 0 0 M63.6634 101.321 L71.3023 101.321 L71.3023 74.9555 L62.9921 76.6222 L62.9921 72.3629 L71.256 70.6963 L75.9319 70.6963 L75.9319 101.321 L83.5707 101.321 L83.5707 105.256 L63.6634 105.256 L63.6634 101.321 Z\" fill=\"#000000\" fill-rule=\"evenodd\" fill-opacity=\"1\" /><path clip-path=\"url(#clip540)\" d=\"M 0 0 M98.6401 73.775 Q95.029 73.775 93.2003 77.3398 Q91.3948 80.8814 91.3948 88.011 Q91.3948 95.1174 93.2003 98.6822 Q95.029 102.224 98.6401 102.224 Q102.274 102.224 104.08 98.6822 Q105.909 95.1174 105.909 88.011 Q105.909 80.8814 104.08 77.3398 Q102.274 73.775 98.6401 73.775 M98.6401 70.0713 Q104.45 70.0713 107.506 74.6777 Q110.584 79.261 110.584 88.011 Q110.584 96.7378 107.506 101.344 Q104.45 105.928 98.6401 105.928 Q92.8299 105.928 89.7512 101.344 Q86.6957 96.7378 86.6957 88.011 Q86.6957 79.261 89.7512 74.6777 Q92.8299 70.0713 98.6401 70.0713 Z\" fill=\"#000000\" fill-rule=\"evenodd\" fill-opacity=\"1\" /><path clip-path=\"url(#clip540)\" d=\"M 0 0 M125.654 73.775 Q122.043 73.775 120.214 77.3398 Q118.408 80.8814 118.408 88.011 Q118.408 95.1174 120.214 98.6822 Q122.043 102.224 125.654 102.224 Q129.288 102.224 131.094 98.6822 Q132.922 95.1174 132.922 88.011 Q132.922 80.8814 131.094 77.3398 Q129.288 73.775 125.654 73.775 M125.654 70.0713 Q131.464 70.0713 134.52 74.6777 Q137.598 79.261 137.598 88.011 Q137.598 96.7378 134.52 101.344 Q131.464 105.928 125.654 105.928 Q119.844 105.928 116.765 101.344 Q113.709 96.7378 113.709 88.011 Q113.709 79.261 116.765 74.6777 Q119.844 70.0713 125.654 70.0713 Z\" fill=\"#000000\" fill-rule=\"evenodd\" fill-opacity=\"1\" /><polyline clip-path=\"url(#clip542)\" style=\"stroke:#009af9; stroke-width:4; stroke-opacity:1; fill:none\" points=\"\n",
       "  223.612,1445.72 453.293,1404.57 682.974,1336 912.655,1240 1142.34,1116.57 1372.02,965.707 1601.7,787.418 1831.38,581.7 2061.06,348.553 2290.74,87.9763 \n",
       "  \n",
       "  \"/>\n",
       "<path clip-path=\"url(#clip540)\" d=\"\n",
       "M1989.74 251.724 L2280.76 251.724 L2280.76 130.764 L1989.74 130.764  Z\n",
       "  \" fill=\"#ffffff\" fill-rule=\"evenodd\" fill-opacity=\"1\"/>\n",
       "<polyline clip-path=\"url(#clip540)\" style=\"stroke:#000000; stroke-width:4; stroke-opacity:1; fill:none\" points=\"\n",
       "  1989.74,251.724 2280.76,251.724 2280.76,130.764 1989.74,130.764 1989.74,251.724 \n",
       "  \"/>\n",
       "<polyline clip-path=\"url(#clip540)\" style=\"stroke:#009af9; stroke-width:4; stroke-opacity:1; fill:none\" points=\"\n",
       "  2013.74,191.244 2157.74,191.244 \n",
       "  \"/>\n",
       "<path clip-path=\"url(#clip540)\" d=\"M 0 0 M2195.58 210.931 Q2193.77 215.561 2192.06 216.973 Q2190.35 218.385 2187.48 218.385 L2184.08 218.385 L2184.08 214.82 L2186.58 214.82 Q2188.33 214.82 2189.31 213.987 Q2190.28 213.154 2191.46 210.052 L2192.22 208.107 L2181.74 182.598 L2186.25 182.598 L2194.35 202.876 L2202.46 182.598 L2206.97 182.598 L2195.58 210.931 Z\" fill=\"#000000\" fill-rule=\"evenodd\" fill-opacity=\"1\" /><path clip-path=\"url(#clip540)\" d=\"M 0 0 M2212.85 204.589 L2220.49 204.589 L2220.49 178.223 L2212.18 179.89 L2212.18 175.631 L2220.44 173.964 L2225.12 173.964 L2225.12 204.589 L2232.76 204.589 L2232.76 208.524 L2212.85 208.524 L2212.85 204.589 Z\" fill=\"#000000\" fill-rule=\"evenodd\" fill-opacity=\"1\" /></svg>\n"
      ],
      "image/svg+xml": [
       "<?xml version=\"1.0\" encoding=\"utf-8\"?>\n",
       "<svg xmlns=\"http://www.w3.org/2000/svg\" xmlns:xlink=\"http://www.w3.org/1999/xlink\" width=\"600\" height=\"400\" viewBox=\"0 0 2400 1600\">\n",
       "<defs>\n",
       "  <clipPath id=\"clip510\">\n",
       "    <rect x=\"0\" y=\"0\" width=\"2400\" height=\"1600\"/>\n",
       "  </clipPath>\n",
       "</defs>\n",
       "<path clip-path=\"url(#clip510)\" d=\"\n",
       "M0 1600 L2400 1600 L2400 0 L0 0  Z\n",
       "  \" fill=\"#ffffff\" fill-rule=\"evenodd\" fill-opacity=\"1\"/>\n",
       "<defs>\n",
       "  <clipPath id=\"clip511\">\n",
       "    <rect x=\"480\" y=\"0\" width=\"1681\" height=\"1600\"/>\n",
       "  </clipPath>\n",
       "</defs>\n",
       "<path clip-path=\"url(#clip510)\" d=\"\n",
       "M161.598 1486.45 L2352.76 1486.45 L2352.76 47.2441 L161.598 47.2441  Z\n",
       "  \" fill=\"#ffffff\" fill-rule=\"evenodd\" fill-opacity=\"1\"/>\n",
       "<defs>\n",
       "  <clipPath id=\"clip512\">\n",
       "    <rect x=\"161\" y=\"47\" width=\"2192\" height=\"1440\"/>\n",
       "  </clipPath>\n",
       "</defs>\n",
       "<polyline clip-path=\"url(#clip512)\" style=\"stroke:#000000; stroke-width:2; stroke-opacity:0.1; fill:none\" points=\"\n",
       "  453.293,1486.45 453.293,47.2441 \n",
       "  \"/>\n",
       "<polyline clip-path=\"url(#clip512)\" style=\"stroke:#000000; stroke-width:2; stroke-opacity:0.1; fill:none\" points=\"\n",
       "  912.655,1486.45 912.655,47.2441 \n",
       "  \"/>\n",
       "<polyline clip-path=\"url(#clip512)\" style=\"stroke:#000000; stroke-width:2; stroke-opacity:0.1; fill:none\" points=\"\n",
       "  1372.02,1486.45 1372.02,47.2441 \n",
       "  \"/>\n",
       "<polyline clip-path=\"url(#clip512)\" style=\"stroke:#000000; stroke-width:2; stroke-opacity:0.1; fill:none\" points=\"\n",
       "  1831.38,1486.45 1831.38,47.2441 \n",
       "  \"/>\n",
       "<polyline clip-path=\"url(#clip512)\" style=\"stroke:#000000; stroke-width:2; stroke-opacity:0.1; fill:none\" points=\"\n",
       "  2290.74,1486.45 2290.74,47.2441 \n",
       "  \"/>\n",
       "<polyline clip-path=\"url(#clip512)\" style=\"stroke:#000000; stroke-width:2; stroke-opacity:0.1; fill:none\" points=\"\n",
       "  161.598,1459.43 2352.76,1459.43 \n",
       "  \"/>\n",
       "<polyline clip-path=\"url(#clip512)\" style=\"stroke:#000000; stroke-width:2; stroke-opacity:0.1; fill:none\" points=\"\n",
       "  161.598,1116.57 2352.76,1116.57 \n",
       "  \"/>\n",
       "<polyline clip-path=\"url(#clip512)\" style=\"stroke:#000000; stroke-width:2; stroke-opacity:0.1; fill:none\" points=\"\n",
       "  161.598,773.703 2352.76,773.703 \n",
       "  \"/>\n",
       "<polyline clip-path=\"url(#clip512)\" style=\"stroke:#000000; stroke-width:2; stroke-opacity:0.1; fill:none\" points=\"\n",
       "  161.598,430.84 2352.76,430.84 \n",
       "  \"/>\n",
       "<polyline clip-path=\"url(#clip512)\" style=\"stroke:#000000; stroke-width:2; stroke-opacity:0.1; fill:none\" points=\"\n",
       "  161.598,87.9763 2352.76,87.9763 \n",
       "  \"/>\n",
       "<polyline clip-path=\"url(#clip510)\" style=\"stroke:#000000; stroke-width:4; stroke-opacity:1; fill:none\" points=\"\n",
       "  161.598,1486.45 2352.76,1486.45 \n",
       "  \"/>\n",
       "<polyline clip-path=\"url(#clip510)\" style=\"stroke:#000000; stroke-width:4; stroke-opacity:1; fill:none\" points=\"\n",
       "  161.598,1486.45 161.598,47.2441 \n",
       "  \"/>\n",
       "<polyline clip-path=\"url(#clip510)\" style=\"stroke:#000000; stroke-width:4; stroke-opacity:1; fill:none\" points=\"\n",
       "  453.293,1486.45 453.293,1469.18 \n",
       "  \"/>\n",
       "<polyline clip-path=\"url(#clip510)\" style=\"stroke:#000000; stroke-width:4; stroke-opacity:1; fill:none\" points=\"\n",
       "  912.655,1486.45 912.655,1469.18 \n",
       "  \"/>\n",
       "<polyline clip-path=\"url(#clip510)\" style=\"stroke:#000000; stroke-width:4; stroke-opacity:1; fill:none\" points=\"\n",
       "  1372.02,1486.45 1372.02,1469.18 \n",
       "  \"/>\n",
       "<polyline clip-path=\"url(#clip510)\" style=\"stroke:#000000; stroke-width:4; stroke-opacity:1; fill:none\" points=\"\n",
       "  1831.38,1486.45 1831.38,1469.18 \n",
       "  \"/>\n",
       "<polyline clip-path=\"url(#clip510)\" style=\"stroke:#000000; stroke-width:4; stroke-opacity:1; fill:none\" points=\"\n",
       "  2290.74,1486.45 2290.74,1469.18 \n",
       "  \"/>\n",
       "<polyline clip-path=\"url(#clip510)\" style=\"stroke:#000000; stroke-width:4; stroke-opacity:1; fill:none\" points=\"\n",
       "  161.598,1459.43 187.892,1459.43 \n",
       "  \"/>\n",
       "<polyline clip-path=\"url(#clip510)\" style=\"stroke:#000000; stroke-width:4; stroke-opacity:1; fill:none\" points=\"\n",
       "  161.598,1116.57 187.892,1116.57 \n",
       "  \"/>\n",
       "<polyline clip-path=\"url(#clip510)\" style=\"stroke:#000000; stroke-width:4; stroke-opacity:1; fill:none\" points=\"\n",
       "  161.598,773.703 187.892,773.703 \n",
       "  \"/>\n",
       "<polyline clip-path=\"url(#clip510)\" style=\"stroke:#000000; stroke-width:4; stroke-opacity:1; fill:none\" points=\"\n",
       "  161.598,430.84 187.892,430.84 \n",
       "  \"/>\n",
       "<polyline clip-path=\"url(#clip510)\" style=\"stroke:#000000; stroke-width:4; stroke-opacity:1; fill:none\" points=\"\n",
       "  161.598,87.9763 187.892,87.9763 \n",
       "  \"/>\n",
       "<path clip-path=\"url(#clip510)\" d=\"M 0 0 M447.946 1535.98 L464.265 1535.98 L464.265 1539.92 L442.321 1539.92 L442.321 1535.98 Q444.983 1533.23 449.566 1528.6 Q454.173 1523.95 455.353 1522.61 Q457.599 1520.08 458.478 1518.35 Q459.381 1516.59 459.381 1514.9 Q459.381 1512.14 457.437 1510.41 Q455.515 1508.67 452.414 1508.67 Q450.215 1508.67 447.761 1509.43 Q445.33 1510.2 442.553 1511.75 L442.553 1507.03 Q445.377 1505.89 447.83 1505.31 Q450.284 1504.73 452.321 1504.73 Q457.691 1504.73 460.886 1507.42 Q464.08 1510.11 464.08 1514.6 Q464.08 1516.73 463.27 1518.65 Q462.483 1520.54 460.377 1523.14 Q459.798 1523.81 456.696 1527.03 Q453.594 1530.22 447.946 1535.98 Z\" fill=\"#000000\" fill-rule=\"evenodd\" fill-opacity=\"1\" /><path clip-path=\"url(#clip510)\" d=\"M 0 0 M915.665 1509.43 L903.859 1527.88 L915.665 1527.88 L915.665 1509.43 M914.438 1505.36 L920.317 1505.36 L920.317 1527.88 L925.248 1527.88 L925.248 1531.77 L920.317 1531.77 L920.317 1539.92 L915.665 1539.92 L915.665 1531.77 L900.063 1531.77 L900.063 1527.26 L914.438 1505.36 Z\" fill=\"#000000\" fill-rule=\"evenodd\" fill-opacity=\"1\" /><path clip-path=\"url(#clip510)\" d=\"M 0 0 M1372.42 1520.78 Q1369.27 1520.78 1367.42 1522.93 Q1365.59 1525.08 1365.59 1528.83 Q1365.59 1532.56 1367.42 1534.73 Q1369.27 1536.89 1372.42 1536.89 Q1375.57 1536.89 1377.4 1534.73 Q1379.25 1532.56 1379.25 1528.83 Q1379.25 1525.08 1377.4 1522.93 Q1375.57 1520.78 1372.42 1520.78 M1381.71 1506.12 L1381.71 1510.38 Q1379.95 1509.55 1378.14 1509.11 Q1376.36 1508.67 1374.6 1508.67 Q1369.97 1508.67 1367.52 1511.8 Q1365.08 1514.92 1364.74 1521.24 Q1366.1 1519.23 1368.16 1518.16 Q1370.22 1517.07 1372.7 1517.07 Q1377.91 1517.07 1380.92 1520.24 Q1383.95 1523.39 1383.95 1528.83 Q1383.95 1534.16 1380.8 1537.37 Q1377.65 1540.59 1372.42 1540.59 Q1366.43 1540.59 1363.26 1536.01 Q1360.08 1531.4 1360.08 1522.67 Q1360.08 1514.48 1363.97 1509.62 Q1367.86 1504.73 1374.41 1504.73 Q1376.17 1504.73 1377.96 1505.08 Q1379.76 1505.43 1381.71 1506.12 Z\" fill=\"#000000\" fill-rule=\"evenodd\" fill-opacity=\"1\" /><path clip-path=\"url(#clip510)\" d=\"M 0 0 M1831.38 1523.51 Q1828.05 1523.51 1826.13 1525.29 Q1824.23 1527.07 1824.23 1530.2 Q1824.23 1533.32 1826.13 1535.11 Q1828.05 1536.89 1831.38 1536.89 Q1834.71 1536.89 1836.63 1535.11 Q1838.56 1533.3 1838.56 1530.2 Q1838.56 1527.07 1836.63 1525.29 Q1834.74 1523.51 1831.38 1523.51 M1826.7 1521.52 Q1823.69 1520.78 1822 1518.72 Q1820.34 1516.66 1820.34 1513.69 Q1820.34 1509.55 1823.28 1507.14 Q1826.24 1504.73 1831.38 1504.73 Q1836.54 1504.73 1839.48 1507.14 Q1842.42 1509.55 1842.42 1513.69 Q1842.42 1516.66 1840.73 1518.72 Q1839.06 1520.78 1836.08 1521.52 Q1839.46 1522.3 1841.33 1524.6 Q1843.23 1526.89 1843.23 1530.2 Q1843.23 1535.22 1840.15 1537.91 Q1837.1 1540.59 1831.38 1540.59 Q1825.66 1540.59 1822.58 1537.91 Q1819.53 1535.22 1819.53 1530.2 Q1819.53 1526.89 1821.43 1524.6 Q1823.32 1522.3 1826.7 1521.52 M1824.99 1514.13 Q1824.99 1516.82 1826.66 1518.32 Q1828.35 1519.83 1831.38 1519.83 Q1834.39 1519.83 1836.08 1518.32 Q1837.79 1516.82 1837.79 1514.13 Q1837.79 1511.45 1836.08 1509.94 Q1834.39 1508.44 1831.38 1508.44 Q1828.35 1508.44 1826.66 1509.94 Q1824.99 1511.45 1824.99 1514.13 Z\" fill=\"#000000\" fill-rule=\"evenodd\" fill-opacity=\"1\" /><path clip-path=\"url(#clip510)\" d=\"M 0 0 M2267.62 1535.98 L2275.26 1535.98 L2275.26 1509.62 L2266.95 1511.29 L2266.95 1507.03 L2275.21 1505.36 L2279.89 1505.36 L2279.89 1535.98 L2287.52 1535.98 L2287.52 1539.92 L2267.62 1539.92 L2267.62 1535.98 Z\" fill=\"#000000\" fill-rule=\"evenodd\" fill-opacity=\"1\" /><path clip-path=\"url(#clip510)\" d=\"M 0 0 M2302.59 1508.44 Q2298.98 1508.44 2297.15 1512 Q2295.35 1515.55 2295.35 1522.67 Q2295.35 1529.78 2297.15 1533.35 Q2298.98 1536.89 2302.59 1536.89 Q2306.23 1536.89 2308.03 1533.35 Q2309.86 1529.78 2309.86 1522.67 Q2309.86 1515.55 2308.03 1512 Q2306.23 1508.44 2302.59 1508.44 M2302.59 1504.73 Q2308.4 1504.73 2311.46 1509.34 Q2314.54 1513.92 2314.54 1522.67 Q2314.54 1531.4 2311.46 1536.01 Q2308.4 1540.59 2302.59 1540.59 Q2296.78 1540.59 2293.7 1536.01 Q2290.65 1531.4 2290.65 1522.67 Q2290.65 1513.92 2293.7 1509.34 Q2296.78 1504.73 2302.59 1504.73 Z\" fill=\"#000000\" fill-rule=\"evenodd\" fill-opacity=\"1\" /><path clip-path=\"url(#clip510)\" d=\"M 0 0 M125.654 1445.23 Q122.043 1445.23 120.214 1448.79 Q118.408 1452.34 118.408 1459.46 Q118.408 1466.57 120.214 1470.14 Q122.043 1473.68 125.654 1473.68 Q129.288 1473.68 131.094 1470.14 Q132.922 1466.57 132.922 1459.46 Q132.922 1452.34 131.094 1448.79 Q129.288 1445.23 125.654 1445.23 M125.654 1441.53 Q131.464 1441.53 134.52 1446.13 Q137.598 1450.72 137.598 1459.46 Q137.598 1468.19 134.52 1472.8 Q131.464 1477.38 125.654 1477.38 Q119.844 1477.38 116.765 1472.8 Q113.709 1468.19 113.709 1459.46 Q113.709 1450.72 116.765 1446.13 Q119.844 1441.53 125.654 1441.53 Z\" fill=\"#000000\" fill-rule=\"evenodd\" fill-opacity=\"1\" /><path clip-path=\"url(#clip510)\" d=\"M 0 0 M95.2605 1129.91 L111.58 1129.91 L111.58 1133.85 L89.6355 1133.85 L89.6355 1129.91 Q92.2975 1127.16 96.8808 1122.53 Q101.487 1117.87 102.668 1116.53 Q104.913 1114.01 105.793 1112.27 Q106.696 1110.51 106.696 1108.82 Q106.696 1106.07 104.751 1104.33 Q102.83 1102.6 99.728 1102.6 Q97.529 1102.6 95.0753 1103.36 Q92.6447 1104.12 89.867 1105.68 L89.867 1100.95 Q92.691 1099.82 95.1447 1099.24 Q97.5984 1098.66 99.6354 1098.66 Q105.006 1098.66 108.2 1101.35 Q111.395 1104.03 111.395 1108.52 Q111.395 1110.65 110.584 1112.57 Q109.797 1114.47 107.691 1117.06 Q107.112 1117.74 104.01 1120.95 Q100.909 1124.15 95.2605 1129.91 Z\" fill=\"#000000\" fill-rule=\"evenodd\" fill-opacity=\"1\" /><path clip-path=\"url(#clip510)\" d=\"M 0 0 M116.696 1099.29 L135.052 1099.29 L135.052 1103.22 L120.978 1103.22 L120.978 1111.69 Q121.996 1111.35 123.015 1111.18 Q124.033 1111 125.052 1111 Q130.839 1111 134.219 1114.17 Q137.598 1117.34 137.598 1122.76 Q137.598 1128.34 134.126 1131.44 Q130.654 1134.52 124.334 1134.52 Q122.158 1134.52 119.89 1134.15 Q117.645 1133.78 115.237 1133.04 L115.237 1128.34 Q117.321 1129.47 119.543 1130.03 Q121.765 1130.58 124.242 1130.58 Q128.246 1130.58 130.584 1128.48 Q132.922 1126.37 132.922 1122.76 Q132.922 1119.15 130.584 1117.04 Q128.246 1114.93 124.242 1114.93 Q122.367 1114.93 120.492 1115.35 Q118.64 1115.77 116.696 1116.65 L116.696 1099.29 Z\" fill=\"#000000\" fill-rule=\"evenodd\" fill-opacity=\"1\" /><path clip-path=\"url(#clip510)\" d=\"M 0 0 M89.6818 756.423 L108.038 756.423 L108.038 760.358 L93.9642 760.358 L93.9642 768.831 Q94.9827 768.483 96.0012 768.321 Q97.0197 768.136 98.0382 768.136 Q103.825 768.136 107.205 771.307 Q110.584 774.479 110.584 779.895 Q110.584 785.474 107.112 788.576 Q103.64 791.655 97.3206 791.655 Q95.1447 791.655 92.8762 791.284 Q90.6309 790.914 88.2235 790.173 L88.2235 785.474 Q90.3068 786.608 92.529 787.164 Q94.7512 787.719 97.2281 787.719 Q101.233 787.719 103.571 785.613 Q105.909 783.506 105.909 779.895 Q105.909 776.284 103.571 774.178 Q101.233 772.071 97.2281 772.071 Q95.3531 772.071 93.4781 772.488 Q91.6262 772.905 89.6818 773.784 L89.6818 756.423 Z\" fill=\"#000000\" fill-rule=\"evenodd\" fill-opacity=\"1\" /><path clip-path=\"url(#clip510)\" d=\"M 0 0 M125.654 759.502 Q122.043 759.502 120.214 763.067 Q118.408 766.608 118.408 773.738 Q118.408 780.844 120.214 784.409 Q122.043 787.951 125.654 787.951 Q129.288 787.951 131.094 784.409 Q132.922 780.844 132.922 773.738 Q132.922 766.608 131.094 763.067 Q129.288 759.502 125.654 759.502 M125.654 755.798 Q131.464 755.798 134.52 760.405 Q137.598 764.988 137.598 773.738 Q137.598 782.465 134.52 787.071 Q131.464 791.655 125.654 791.655 Q119.844 791.655 116.765 787.071 Q113.709 782.465 113.709 773.738 Q113.709 764.988 116.765 760.405 Q119.844 755.798 125.654 755.798 Z\" fill=\"#000000\" fill-rule=\"evenodd\" fill-opacity=\"1\" /><path clip-path=\"url(#clip510)\" d=\"M 0 0 M89.3577 413.56 L111.58 413.56 L111.58 415.55 L99.0336 448.12 L94.1494 448.12 L105.955 417.495 L89.3577 417.495 L89.3577 413.56 Z\" fill=\"#000000\" fill-rule=\"evenodd\" fill-opacity=\"1\" /><path clip-path=\"url(#clip510)\" d=\"M 0 0 M116.696 413.56 L135.052 413.56 L135.052 417.495 L120.978 417.495 L120.978 425.967 Q121.996 425.62 123.015 425.458 Q124.033 425.273 125.052 425.273 Q130.839 425.273 134.219 428.444 Q137.598 431.615 137.598 437.032 Q137.598 442.611 134.126 445.712 Q130.654 448.791 124.334 448.791 Q122.158 448.791 119.89 448.421 Q117.645 448.05 115.237 447.31 L115.237 442.611 Q117.321 443.745 119.543 444.3 Q121.765 444.856 124.242 444.856 Q128.246 444.856 130.584 442.749 Q132.922 440.643 132.922 437.032 Q132.922 433.421 130.584 431.314 Q128.246 429.208 124.242 429.208 Q122.367 429.208 120.492 429.624 Q118.64 430.041 116.696 430.921 L116.696 413.56 Z\" fill=\"#000000\" fill-rule=\"evenodd\" fill-opacity=\"1\" /><path clip-path=\"url(#clip510)\" d=\"M 0 0 M63.6634 101.321 L71.3023 101.321 L71.3023 74.9555 L62.9921 76.6222 L62.9921 72.3629 L71.256 70.6963 L75.9319 70.6963 L75.9319 101.321 L83.5707 101.321 L83.5707 105.256 L63.6634 105.256 L63.6634 101.321 Z\" fill=\"#000000\" fill-rule=\"evenodd\" fill-opacity=\"1\" /><path clip-path=\"url(#clip510)\" d=\"M 0 0 M98.6401 73.775 Q95.029 73.775 93.2003 77.3398 Q91.3948 80.8814 91.3948 88.011 Q91.3948 95.1174 93.2003 98.6822 Q95.029 102.224 98.6401 102.224 Q102.274 102.224 104.08 98.6822 Q105.909 95.1174 105.909 88.011 Q105.909 80.8814 104.08 77.3398 Q102.274 73.775 98.6401 73.775 M98.6401 70.0713 Q104.45 70.0713 107.506 74.6777 Q110.584 79.261 110.584 88.011 Q110.584 96.7378 107.506 101.344 Q104.45 105.928 98.6401 105.928 Q92.8299 105.928 89.7512 101.344 Q86.6957 96.7378 86.6957 88.011 Q86.6957 79.261 89.7512 74.6777 Q92.8299 70.0713 98.6401 70.0713 Z\" fill=\"#000000\" fill-rule=\"evenodd\" fill-opacity=\"1\" /><path clip-path=\"url(#clip510)\" d=\"M 0 0 M125.654 73.775 Q122.043 73.775 120.214 77.3398 Q118.408 80.8814 118.408 88.011 Q118.408 95.1174 120.214 98.6822 Q122.043 102.224 125.654 102.224 Q129.288 102.224 131.094 98.6822 Q132.922 95.1174 132.922 88.011 Q132.922 80.8814 131.094 77.3398 Q129.288 73.775 125.654 73.775 M125.654 70.0713 Q131.464 70.0713 134.52 74.6777 Q137.598 79.261 137.598 88.011 Q137.598 96.7378 134.52 101.344 Q131.464 105.928 125.654 105.928 Q119.844 105.928 116.765 101.344 Q113.709 96.7378 113.709 88.011 Q113.709 79.261 116.765 74.6777 Q119.844 70.0713 125.654 70.0713 Z\" fill=\"#000000\" fill-rule=\"evenodd\" fill-opacity=\"1\" /><polyline clip-path=\"url(#clip512)\" style=\"stroke:#009af9; stroke-width:4; stroke-opacity:1; fill:none\" points=\"\n",
       "  223.612,1445.72 453.293,1404.57 682.974,1336 912.655,1240 1142.34,1116.57 1372.02,965.707 1601.7,787.418 1831.38,581.7 2061.06,348.553 2290.74,87.9763 \n",
       "  \n",
       "  \"/>\n",
       "<path clip-path=\"url(#clip510)\" d=\"\n",
       "M1989.74 251.724 L2280.76 251.724 L2280.76 130.764 L1989.74 130.764  Z\n",
       "  \" fill=\"#ffffff\" fill-rule=\"evenodd\" fill-opacity=\"1\"/>\n",
       "<polyline clip-path=\"url(#clip510)\" style=\"stroke:#000000; stroke-width:4; stroke-opacity:1; fill:none\" points=\"\n",
       "  1989.74,251.724 2280.76,251.724 2280.76,130.764 1989.74,130.764 1989.74,251.724 \n",
       "  \"/>\n",
       "<polyline clip-path=\"url(#clip510)\" style=\"stroke:#009af9; stroke-width:4; stroke-opacity:1; fill:none\" points=\"\n",
       "  2013.74,191.244 2157.74,191.244 \n",
       "  \"/>\n",
       "<path clip-path=\"url(#clip510)\" d=\"M 0 0 M2195.58 210.931 Q2193.77 215.561 2192.06 216.973 Q2190.35 218.385 2187.48 218.385 L2184.08 218.385 L2184.08 214.82 L2186.58 214.82 Q2188.33 214.82 2189.31 213.987 Q2190.28 213.154 2191.46 210.052 L2192.22 208.107 L2181.74 182.598 L2186.25 182.598 L2194.35 202.876 L2202.46 182.598 L2206.97 182.598 L2195.58 210.931 Z\" fill=\"#000000\" fill-rule=\"evenodd\" fill-opacity=\"1\" /><path clip-path=\"url(#clip510)\" d=\"M 0 0 M2212.85 204.589 L2220.49 204.589 L2220.49 178.223 L2212.18 179.89 L2212.18 175.631 L2220.44 173.964 L2225.12 173.964 L2225.12 204.589 L2232.76 204.589 L2232.76 208.524 L2212.85 208.524 L2212.85 204.589 Z\" fill=\"#000000\" fill-rule=\"evenodd\" fill-opacity=\"1\" /></svg>\n"
      ]
     },
     "metadata": {},
     "execution_count": 3
    }
   ],
   "cell_type": "code",
   "source": [
    "using Plots\n",
    "plot(x)"
   ],
   "metadata": {},
   "execution_count": 3
  },
  {
   "cell_type": "markdown",
   "source": [
    "Please consider writing the comments in your tutorial as if they are meant to be read as an *article explaining the topic the tutorial is meant to explain.*\n",
    "If there are any specific nuances to writing Literate documentation for ClimateMachine, please let us know!"
   ],
   "metadata": {}
  },
  {
   "cell_type": "markdown",
   "source": [
    "---\n",
    "\n",
    "*This notebook was generated using [Literate.jl](https://github.com/fredrikekre/Literate.jl).*"
   ],
   "metadata": {}
  }
 ],
 "nbformat_minor": 3,
 "metadata": {
  "language_info": {
   "file_extension": ".jl",
   "mimetype": "application/julia",
   "name": "julia",
   "version": "1.4.2"
  },
  "kernelspec": {
   "name": "julia-1.4",
   "display_name": "Julia 1.4.2",
   "language": "julia"
  }
 },
 "nbformat": 4
}
