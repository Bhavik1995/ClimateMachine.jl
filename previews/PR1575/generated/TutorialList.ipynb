{
 "cells": [
  {
   "cell_type": "markdown",
   "source": [
    "# Tutorials\n",
    "A suite of concrete examples are provided here as a guidance on how to build experiments.\n",
    "## Atmos\n",
    "## Ocean\n",
    "## Land\n",
    "## Numerics\n",
    "## Diagnostics\n",
    "## Contributing"
   ],
   "metadata": {}
  },
  {
   "cell_type": "markdown",
   "source": [
    "---\n",
    "\n",
    "*This notebook was generated using [Literate.jl](https://github.com/fredrikekre/Literate.jl).*"
   ],
   "metadata": {}
  }
 ],
 "nbformat_minor": 3,
 "metadata": {
  "language_info": {
   "file_extension": ".jl",
   "mimetype": "application/julia",
   "name": "julia",
   "version": "1.4.2"
  },
  "kernelspec": {
   "name": "julia-1.4",
   "display_name": "Julia 1.4.2",
   "language": "julia"
  }
 },
 "nbformat": 4
}
