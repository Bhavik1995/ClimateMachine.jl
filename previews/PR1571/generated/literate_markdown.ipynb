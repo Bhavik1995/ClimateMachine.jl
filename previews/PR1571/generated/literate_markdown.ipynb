{
 "cells": [
  {
   "cell_type": "markdown",
   "source": [
    "# How to generate a literate tutorial file"
   ],
   "metadata": {}
  },
  {
   "cell_type": "markdown",
   "source": [
    "To create an tutorial using ClimateMachine, please use [Literate.jl](https://github.com/fredrikekre/Literate.jl), and consult the [Literate documentation](https://fredrikekre.github.io/Literate.jl/stable/) for questions.\n",
    "\n",
    "For now, all literate tutorials are held in the `tutorials` directory"
   ],
   "metadata": {}
  },
  {
   "cell_type": "markdown",
   "source": [
    "With Literate, all comments turn into markdown text and any Julia code is read and run *as if it is in the Julia REPL*.\n",
    "As a small caveat to this, you might need to suppress the output of certain commands.\n",
    "For example, if you define and run the following function"
   ],
   "metadata": {}
  },
  {
   "outputs": [
    {
     "output_type": "execute_result",
     "data": {
      "text/plain": "10-element Array{Int64,1}:\n   1\n   4\n   9\n  16\n  25\n  36\n  49\n  64\n  81\n 100"
     },
     "metadata": {},
     "execution_count": 1
    }
   ],
   "cell_type": "code",
   "source": [
    "function f()\n",
    "    return x = [i * i for i in 1:10]\n",
    "end\n",
    "\n",
    "x = f()"
   ],
   "metadata": {},
   "execution_count": 1
  },
  {
   "cell_type": "markdown",
   "source": [
    "The entire list will be output, while"
   ],
   "metadata": {}
  },
  {
   "outputs": [],
   "cell_type": "code",
   "source": [
    "f();"
   ],
   "metadata": {},
   "execution_count": 2
  },
  {
   "cell_type": "markdown",
   "source": [
    "does not (because of the `;`).\n",
    "\n",
    "To show plots, you may do something like the following:"
   ],
   "metadata": {}
  },
  {
   "outputs": [
    {
     "output_type": "execute_result",
     "data": {
      "text/plain": "Plot{Plots.GRBackend() n=1}",
      "image/png": "[encoded data removed]",
      "text/html": [
       "<?xml version=\"1.0\" encoding=\"utf-8\"?>\n",
       "<svg xmlns=\"http://www.w3.org/2000/svg\" xmlns:xlink=\"http://www.w3.org/1999/xlink\" width=\"600\" height=\"400\" viewBox=\"0 0 2400 1600\">\n",
       "<defs>\n",
       "  <clipPath id=\"clip530\">\n",
       "    <rect x=\"0\" y=\"0\" width=\"2400\" height=\"1600\"/>\n",
       "  </clipPath>\n",
       "</defs>\n",
       "<path clip-path=\"url(#clip530)\" d=\"\n",
       "M0 1600 L2400 1600 L2400 0 L0 0  Z\n",
       "  \" fill=\"#ffffff\" fill-rule=\"evenodd\" fill-opacity=\"1\"/>\n",
       "<defs>\n",
       "  <clipPath id=\"clip531\">\n",
       "    <rect x=\"480\" y=\"0\" width=\"1681\" height=\"1600\"/>\n",
       "  </clipPath>\n",
       "</defs>\n",
       "<path clip-path=\"url(#clip530)\" d=\"\n",
       "M161.598 1486.45 L2352.76 1486.45 L2352.76 47.2441 L161.598 47.2441  Z\n",
       "  \" fill=\"#ffffff\" fill-rule=\"evenodd\" fill-opacity=\"1\"/>\n",
       "<defs>\n",
       "  <clipPath id=\"clip532\">\n",
       "    <rect x=\"161\" y=\"47\" width=\"2192\" height=\"1440\"/>\n",
       "  </clipPath>\n",
       "</defs>\n",
       "<polyline clip-path=\"url(#clip532)\" style=\"stroke:#000000; stroke-width:2; stroke-opacity:0.1; fill:none\" points=\"\n",
       "  453.293,1486.45 453.293,47.2441 \n",
       "  \"/>\n",
       "<polyline clip-path=\"url(#clip532)\" style=\"stroke:#000000; stroke-width:2; stroke-opacity:0.1; fill:none\" points=\"\n",
       "  912.655,1486.45 912.655,47.2441 \n",
       "  \"/>\n",
       "<polyline clip-path=\"url(#clip532)\" style=\"stroke:#000000; stroke-width:2; stroke-opacity:0.1; fill:none\" points=\"\n",
       "  1372.02,1486.45 1372.02,47.2441 \n",
       "  \"/>\n",
       "<polyline clip-path=\"url(#clip532)\" style=\"stroke:#000000; stroke-width:2; stroke-opacity:0.1; fill:none\" points=\"\n",
       "  1831.38,1486.45 1831.38,47.2441 \n",
       "  \"/>\n",
       "<polyline clip-path=\"url(#clip532)\" style=\"stroke:#000000; stroke-width:2; stroke-opacity:0.1; fill:none\" points=\"\n",
       "  2290.74,1486.45 2290.74,47.2441 \n",
       "  \"/>\n",
       "<polyline clip-path=\"url(#clip532)\" style=\"stroke:#000000; stroke-width:2; stroke-opacity:0.1; fill:none\" points=\"\n",
       "  161.598,1459.43 2352.76,1459.43 \n",
       "  \"/>\n",
       "<polyline clip-path=\"url(#clip532)\" style=\"stroke:#000000; stroke-width:2; stroke-opacity:0.1; fill:none\" points=\"\n",
       "  161.598,1116.57 2352.76,1116.57 \n",
       "  \"/>\n",
       "<polyline clip-path=\"url(#clip532)\" style=\"stroke:#000000; stroke-width:2; stroke-opacity:0.1; fill:none\" points=\"\n",
       "  161.598,773.703 2352.76,773.703 \n",
       "  \"/>\n",
       "<polyline clip-path=\"url(#clip532)\" style=\"stroke:#000000; stroke-width:2; stroke-opacity:0.1; fill:none\" points=\"\n",
       "  161.598,430.84 2352.76,430.84 \n",
       "  \"/>\n",
       "<polyline clip-path=\"url(#clip532)\" style=\"stroke:#000000; stroke-width:2; stroke-opacity:0.1; fill:none\" points=\"\n",
       "  161.598,87.9763 2352.76,87.9763 \n",
       "  \"/>\n",
       "<polyline clip-path=\"url(#clip530)\" style=\"stroke:#000000; stroke-width:4; stroke-opacity:1; fill:none\" points=\"\n",
       "  161.598,1486.45 2352.76,1486.45 \n",
       "  \"/>\n",
       "<polyline clip-path=\"url(#clip530)\" style=\"stroke:#000000; stroke-width:4; stroke-opacity:1; fill:none\" points=\"\n",
       "  161.598,1486.45 161.598,47.2441 \n",
       "  \"/>\n",
       "<polyline clip-path=\"url(#clip530)\" style=\"stroke:#000000; stroke-width:4; stroke-opacity:1; fill:none\" points=\"\n",
       "  453.293,1486.45 453.293,1469.18 \n",
       "  \"/>\n",
       "<polyline clip-path=\"url(#clip530)\" style=\"stroke:#000000; stroke-width:4; stroke-opacity:1; fill:none\" points=\"\n",
       "  912.655,1486.45 912.655,1469.18 \n",
       "  \"/>\n",
       "<polyline clip-path=\"url(#clip530)\" style=\"stroke:#000000; stroke-width:4; stroke-opacity:1; fill:none\" points=\"\n",
       "  1372.02,1486.45 1372.02,1469.18 \n",
       "  \"/>\n",
       "<polyline clip-path=\"url(#clip530)\" style=\"stroke:#000000; stroke-width:4; stroke-opacity:1; fill:none\" points=\"\n",
       "  1831.38,1486.45 1831.38,1469.18 \n",
       "  \"/>\n",
       "<polyline clip-path=\"url(#clip530)\" style=\"stroke:#000000; stroke-width:4; stroke-opacity:1; fill:none\" points=\"\n",
       "  2290.74,1486.45 2290.74,1469.18 \n",
       "  \"/>\n",
       "<polyline clip-path=\"url(#clip530)\" style=\"stroke:#000000; stroke-width:4; stroke-opacity:1; fill:none\" points=\"\n",
       "  161.598,1459.43 187.892,1459.43 \n",
       "  \"/>\n",
       "<polyline clip-path=\"url(#clip530)\" style=\"stroke:#000000; stroke-width:4; stroke-opacity:1; fill:none\" points=\"\n",
       "  161.598,1116.57 187.892,1116.57 \n",
       "  \"/>\n",
       "<polyline clip-path=\"url(#clip530)\" style=\"stroke:#000000; stroke-width:4; stroke-opacity:1; fill:none\" points=\"\n",
       "  161.598,773.703 187.892,773.703 \n",
       "  \"/>\n",
       "<polyline clip-path=\"url(#clip530)\" style=\"stroke:#000000; stroke-width:4; stroke-opacity:1; fill:none\" points=\"\n",
       "  161.598,430.84 187.892,430.84 \n",
       "  \"/>\n",
       "<polyline clip-path=\"url(#clip530)\" style=\"stroke:#000000; stroke-width:4; stroke-opacity:1; fill:none\" points=\"\n",
       "  161.598,87.9763 187.892,87.9763 \n",
       "  \"/>\n",
       "<path clip-path=\"url(#clip530)\" d=\"M 0 0 M447.946 1535.98 L464.265 1535.98 L464.265 1539.92 L442.321 1539.92 L442.321 1535.98 Q444.983 1533.23 449.566 1528.6 Q454.173 1523.95 455.353 1522.61 Q457.599 1520.08 458.478 1518.35 Q459.381 1516.59 459.381 1514.9 Q459.381 1512.14 457.437 1510.41 Q455.515 1508.67 452.414 1508.67 Q450.215 1508.67 447.761 1509.43 Q445.33 1510.2 442.553 1511.75 L442.553 1507.03 Q445.377 1505.89 447.83 1505.31 Q450.284 1504.73 452.321 1504.73 Q457.691 1504.73 460.886 1507.42 Q464.08 1510.11 464.08 1514.6 Q464.08 1516.73 463.27 1518.65 Q462.483 1520.54 460.377 1523.14 Q459.798 1523.81 456.696 1527.03 Q453.594 1530.22 447.946 1535.98 Z\" fill=\"#000000\" fill-rule=\"evenodd\" fill-opacity=\"1\" /><path clip-path=\"url(#clip530)\" d=\"M 0 0 M915.665 1509.43 L903.859 1527.88 L915.665 1527.88 L915.665 1509.43 M914.438 1505.36 L920.317 1505.36 L920.317 1527.88 L925.248 1527.88 L925.248 1531.77 L920.317 1531.77 L920.317 1539.92 L915.665 1539.92 L915.665 1531.77 L900.063 1531.77 L900.063 1527.26 L914.438 1505.36 Z\" fill=\"#000000\" fill-rule=\"evenodd\" fill-opacity=\"1\" /><path clip-path=\"url(#clip530)\" d=\"M 0 0 M1372.42 1520.78 Q1369.27 1520.78 1367.42 1522.93 Q1365.59 1525.08 1365.59 1528.83 Q1365.59 1532.56 1367.42 1534.73 Q1369.27 1536.89 1372.42 1536.89 Q1375.57 1536.89 1377.4 1534.73 Q1379.25 1532.56 1379.25 1528.83 Q1379.25 1525.08 1377.4 1522.93 Q1375.57 1520.78 1372.42 1520.78 M1381.71 1506.12 L1381.71 1510.38 Q1379.95 1509.55 1378.14 1509.11 Q1376.36 1508.67 1374.6 1508.67 Q1369.97 1508.67 1367.52 1511.8 Q1365.08 1514.92 1364.74 1521.24 Q1366.1 1519.23 1368.16 1518.16 Q1370.22 1517.07 1372.7 1517.07 Q1377.91 1517.07 1380.92 1520.24 Q1383.95 1523.39 1383.95 1528.83 Q1383.95 1534.16 1380.8 1537.37 Q1377.65 1540.59 1372.42 1540.59 Q1366.43 1540.59 1363.26 1536.01 Q1360.08 1531.4 1360.08 1522.67 Q1360.08 1514.48 1363.97 1509.62 Q1367.86 1504.73 1374.41 1504.73 Q1376.17 1504.73 1377.96 1505.08 Q1379.76 1505.43 1381.71 1506.12 Z\" fill=\"#000000\" fill-rule=\"evenodd\" fill-opacity=\"1\" /><path clip-path=\"url(#clip530)\" d=\"M 0 0 M1831.38 1523.51 Q1828.05 1523.51 1826.13 1525.29 Q1824.23 1527.07 1824.23 1530.2 Q1824.23 1533.32 1826.13 1535.11 Q1828.05 1536.89 1831.38 1536.89 Q1834.71 1536.89 1836.63 1535.11 Q1838.56 1533.3 1838.56 1530.2 Q1838.56 1527.07 1836.63 1525.29 Q1834.74 1523.51 1831.38 1523.51 M1826.7 1521.52 Q1823.69 1520.78 1822 1518.72 Q1820.34 1516.66 1820.34 1513.69 Q1820.34 1509.55 1823.28 1507.14 Q1826.24 1504.73 1831.38 1504.73 Q1836.54 1504.73 1839.48 1507.14 Q1842.42 1509.55 1842.42 1513.69 Q1842.42 1516.66 1840.73 1518.72 Q1839.06 1520.78 1836.08 1521.52 Q1839.46 1522.3 1841.33 1524.6 Q1843.23 1526.89 1843.23 1530.2 Q1843.23 1535.22 1840.15 1537.91 Q1837.1 1540.59 1831.38 1540.59 Q1825.66 1540.59 1822.58 1537.91 Q1819.53 1535.22 1819.53 1530.2 Q1819.53 1526.89 1821.43 1524.6 Q1823.32 1522.3 1826.7 1521.52 M1824.99 1514.13 Q1824.99 1516.82 1826.66 1518.32 Q1828.35 1519.83 1831.38 1519.83 Q1834.39 1519.83 1836.08 1518.32 Q1837.79 1516.82 1837.79 1514.13 Q1837.79 1511.45 1836.08 1509.94 Q1834.39 1508.44 1831.38 1508.44 Q1828.35 1508.44 1826.66 1509.94 Q1824.99 1511.45 1824.99 1514.13 Z\" fill=\"#000000\" fill-rule=\"evenodd\" fill-opacity=\"1\" /><path clip-path=\"url(#clip530)\" d=\"M 0 0 M2267.62 1535.98 L2275.26 1535.98 L2275.26 1509.62 L2266.95 1511.29 L2266.95 1507.03 L2275.21 1505.36 L2279.89 1505.36 L2279.89 1535.98 L2287.52 1535.98 L2287.52 1539.92 L2267.62 1539.92 L2267.62 1535.98 Z\" fill=\"#000000\" fill-rule=\"evenodd\" fill-opacity=\"1\" /><path clip-path=\"url(#clip530)\" d=\"M 0 0 M2302.59 1508.44 Q2298.98 1508.44 2297.15 1512 Q2295.35 1515.55 2295.35 1522.67 Q2295.35 1529.78 2297.15 1533.35 Q2298.98 1536.89 2302.59 1536.89 Q2306.23 1536.89 2308.03 1533.35 Q2309.86 1529.78 2309.86 1522.67 Q2309.86 1515.55 2308.03 1512 Q2306.23 1508.44 2302.59 1508.44 M2302.59 1504.73 Q2308.4 1504.73 2311.46 1509.34 Q2314.54 1513.92 2314.54 1522.67 Q2314.54 1531.4 2311.46 1536.01 Q2308.4 1540.59 2302.59 1540.59 Q2296.78 1540.59 2293.7 1536.01 Q2290.65 1531.4 2290.65 1522.67 Q2290.65 1513.92 2293.7 1509.34 Q2296.78 1504.73 2302.59 1504.73 Z\" fill=\"#000000\" fill-rule=\"evenodd\" fill-opacity=\"1\" /><path clip-path=\"url(#clip530)\" d=\"M 0 0 M125.654 1445.23 Q122.043 1445.23 120.214 1448.79 Q118.408 1452.34 118.408 1459.46 Q118.408 1466.57 120.214 1470.14 Q122.043 1473.68 125.654 1473.68 Q129.288 1473.68 131.094 1470.14 Q132.922 1466.57 132.922 1459.46 Q132.922 1452.34 131.094 1448.79 Q129.288 1445.23 125.654 1445.23 M125.654 1441.53 Q131.464 1441.53 134.52 1446.13 Q137.598 1450.72 137.598 1459.46 Q137.598 1468.19 134.52 1472.8 Q131.464 1477.38 125.654 1477.38 Q119.844 1477.38 116.765 1472.8 Q113.709 1468.19 113.709 1459.46 Q113.709 1450.72 116.765 1446.13 Q119.844 1441.53 125.654 1441.53 Z\" fill=\"#000000\" fill-rule=\"evenodd\" fill-opacity=\"1\" /><path clip-path=\"url(#clip530)\" d=\"M 0 0 M95.2605 1129.91 L111.58 1129.91 L111.58 1133.85 L89.6355 1133.85 L89.6355 1129.91 Q92.2975 1127.16 96.8808 1122.53 Q101.487 1117.87 102.668 1116.53 Q104.913 1114.01 105.793 1112.27 Q106.696 1110.51 106.696 1108.82 Q106.696 1106.07 104.751 1104.33 Q102.83 1102.6 99.728 1102.6 Q97.529 1102.6 95.0753 1103.36 Q92.6447 1104.12 89.867 1105.68 L89.867 1100.95 Q92.691 1099.82 95.1447 1099.24 Q97.5984 1098.66 99.6354 1098.66 Q105.006 1098.66 108.2 1101.35 Q111.395 1104.03 111.395 1108.52 Q111.395 1110.65 110.584 1112.57 Q109.797 1114.47 107.691 1117.06 Q107.112 1117.74 104.01 1120.95 Q100.909 1124.15 95.2605 1129.91 Z\" fill=\"#000000\" fill-rule=\"evenodd\" fill-opacity=\"1\" /><path clip-path=\"url(#clip530)\" d=\"M 0 0 M116.696 1099.29 L135.052 1099.29 L135.052 1103.22 L120.978 1103.22 L120.978 1111.69 Q121.996 1111.35 123.015 1111.18 Q124.033 1111 125.052 1111 Q130.839 1111 134.219 1114.17 Q137.598 1117.34 137.598 1122.76 Q137.598 1128.34 134.126 1131.44 Q130.654 1134.52 124.334 1134.52 Q122.158 1134.52 119.89 1134.15 Q117.645 1133.78 115.237 1133.04 L115.237 1128.34 Q117.321 1129.47 119.543 1130.03 Q121.765 1130.58 124.242 1130.58 Q128.246 1130.58 130.584 1128.48 Q132.922 1126.37 132.922 1122.76 Q132.922 1119.15 130.584 1117.04 Q128.246 1114.93 124.242 1114.93 Q122.367 1114.93 120.492 1115.35 Q118.64 1115.77 116.696 1116.65 L116.696 1099.29 Z\" fill=\"#000000\" fill-rule=\"evenodd\" fill-opacity=\"1\" /><path clip-path=\"url(#clip530)\" d=\"M 0 0 M89.6818 756.423 L108.038 756.423 L108.038 760.358 L93.9642 760.358 L93.9642 768.831 Q94.9827 768.483 96.0012 768.321 Q97.0197 768.136 98.0382 768.136 Q103.825 768.136 107.205 771.307 Q110.584 774.479 110.584 779.895 Q110.584 785.474 107.112 788.576 Q103.64 791.655 97.3206 791.655 Q95.1447 791.655 92.8762 791.284 Q90.6309 790.914 88.2235 790.173 L88.2235 785.474 Q90.3068 786.608 92.529 787.164 Q94.7512 787.719 97.2281 787.719 Q101.233 787.719 103.571 785.613 Q105.909 783.506 105.909 779.895 Q105.909 776.284 103.571 774.178 Q101.233 772.071 97.2281 772.071 Q95.3531 772.071 93.4781 772.488 Q91.6262 772.905 89.6818 773.784 L89.6818 756.423 Z\" fill=\"#000000\" fill-rule=\"evenodd\" fill-opacity=\"1\" /><path clip-path=\"url(#clip530)\" d=\"M 0 0 M125.654 759.502 Q122.043 759.502 120.214 763.067 Q118.408 766.608 118.408 773.738 Q118.408 780.844 120.214 784.409 Q122.043 787.951 125.654 787.951 Q129.288 787.951 131.094 784.409 Q132.922 780.844 132.922 773.738 Q132.922 766.608 131.094 763.067 Q129.288 759.502 125.654 759.502 M125.654 755.798 Q131.464 755.798 134.52 760.405 Q137.598 764.988 137.598 773.738 Q137.598 782.465 134.52 787.071 Q131.464 791.655 125.654 791.655 Q119.844 791.655 116.765 787.071 Q113.709 782.465 113.709 773.738 Q113.709 764.988 116.765 760.405 Q119.844 755.798 125.654 755.798 Z\" fill=\"#000000\" fill-rule=\"evenodd\" fill-opacity=\"1\" /><path clip-path=\"url(#clip530)\" d=\"M 0 0 M89.3577 413.56 L111.58 413.56 L111.58 415.55 L99.0336 448.12 L94.1494 448.12 L105.955 417.495 L89.3577 417.495 L89.3577 413.56 Z\" fill=\"#000000\" fill-rule=\"evenodd\" fill-opacity=\"1\" /><path clip-path=\"url(#clip530)\" d=\"M 0 0 M116.696 413.56 L135.052 413.56 L135.052 417.495 L120.978 417.495 L120.978 425.967 Q121.996 425.62 123.015 425.458 Q124.033 425.273 125.052 425.273 Q130.839 425.273 134.219 428.444 Q137.598 431.615 137.598 437.032 Q137.598 442.611 134.126 445.712 Q130.654 448.791 124.334 448.791 Q122.158 448.791 119.89 448.421 Q117.645 448.05 115.237 447.31 L115.237 442.611 Q117.321 443.745 119.543 444.3 Q121.765 444.856 124.242 444.856 Q128.246 444.856 130.584 442.749 Q132.922 440.643 132.922 437.032 Q132.922 433.421 130.584 431.314 Q128.246 429.208 124.242 429.208 Q122.367 429.208 120.492 429.624 Q118.64 430.041 116.696 430.921 L116.696 413.56 Z\" fill=\"#000000\" fill-rule=\"evenodd\" fill-opacity=\"1\" /><path clip-path=\"url(#clip530)\" d=\"M 0 0 M63.6634 101.321 L71.3023 101.321 L71.3023 74.9555 L62.9921 76.6222 L62.9921 72.3629 L71.256 70.6963 L75.9319 70.6963 L75.9319 101.321 L83.5707 101.321 L83.5707 105.256 L63.6634 105.256 L63.6634 101.321 Z\" fill=\"#000000\" fill-rule=\"evenodd\" fill-opacity=\"1\" /><path clip-path=\"url(#clip530)\" d=\"M 0 0 M98.6401 73.775 Q95.029 73.775 93.2003 77.3398 Q91.3948 80.8814 91.3948 88.011 Q91.3948 95.1174 93.2003 98.6822 Q95.029 102.224 98.6401 102.224 Q102.274 102.224 104.08 98.6822 Q105.909 95.1174 105.909 88.011 Q105.909 80.8814 104.08 77.3398 Q102.274 73.775 98.6401 73.775 M98.6401 70.0713 Q104.45 70.0713 107.506 74.6777 Q110.584 79.261 110.584 88.011 Q110.584 96.7378 107.506 101.344 Q104.45 105.928 98.6401 105.928 Q92.8299 105.928 89.7512 101.344 Q86.6957 96.7378 86.6957 88.011 Q86.6957 79.261 89.7512 74.6777 Q92.8299 70.0713 98.6401 70.0713 Z\" fill=\"#000000\" fill-rule=\"evenodd\" fill-opacity=\"1\" /><path clip-path=\"url(#clip530)\" d=\"M 0 0 M125.654 73.775 Q122.043 73.775 120.214 77.3398 Q118.408 80.8814 118.408 88.011 Q118.408 95.1174 120.214 98.6822 Q122.043 102.224 125.654 102.224 Q129.288 102.224 131.094 98.6822 Q132.922 95.1174 132.922 88.011 Q132.922 80.8814 131.094 77.3398 Q129.288 73.775 125.654 73.775 M125.654 70.0713 Q131.464 70.0713 134.52 74.6777 Q137.598 79.261 137.598 88.011 Q137.598 96.7378 134.52 101.344 Q131.464 105.928 125.654 105.928 Q119.844 105.928 116.765 101.344 Q113.709 96.7378 113.709 88.011 Q113.709 79.261 116.765 74.6777 Q119.844 70.0713 125.654 70.0713 Z\" fill=\"#000000\" fill-rule=\"evenodd\" fill-opacity=\"1\" /><polyline clip-path=\"url(#clip532)\" style=\"stroke:#009af9; stroke-width:4; stroke-opacity:1; fill:none\" points=\"\n",
       "  223.612,1445.72 453.293,1404.57 682.974,1336 912.655,1240 1142.34,1116.57 1372.02,965.707 1601.7,787.418 1831.38,581.7 2061.06,348.553 2290.74,87.9763 \n",
       "  \n",
       "  \"/>\n",
       "<path clip-path=\"url(#clip530)\" d=\"\n",
       "M1985.24 216.178 L2279.72 216.178 L2279.72 95.2176 L1985.24 95.2176  Z\n",
       "  \" fill=\"#ffffff\" fill-rule=\"evenodd\" fill-opacity=\"1\"/>\n",
       "<polyline clip-path=\"url(#clip530)\" style=\"stroke:#000000; stroke-width:4; stroke-opacity:1; fill:none\" points=\"\n",
       "  1985.24,216.178 2279.72,216.178 2279.72,95.2176 1985.24,95.2176 1985.24,216.178 \n",
       "  \"/>\n",
       "<polyline clip-path=\"url(#clip530)\" style=\"stroke:#009af9; stroke-width:4; stroke-opacity:1; fill:none\" points=\"\n",
       "  2009.58,155.698 2155.66,155.698 \n",
       "  \"/>\n",
       "<path clip-path=\"url(#clip530)\" d=\"M 0 0 M2193.85 175.385 Q2192.04 180.015 2190.33 181.427 Q2188.62 182.839 2185.75 182.839 L2182.34 182.839 L2182.34 179.274 L2184.84 179.274 Q2186.6 179.274 2187.58 178.44 Q2188.55 177.607 2189.73 174.505 L2190.49 172.561 L2180.01 147.052 L2184.52 147.052 L2192.62 167.329 L2200.72 147.052 L2205.24 147.052 L2193.85 175.385 Z\" fill=\"#000000\" fill-rule=\"evenodd\" fill-opacity=\"1\" /><path clip-path=\"url(#clip530)\" d=\"M 0 0 M2211.12 169.042 L2218.76 169.042 L2218.76 142.677 L2210.45 144.343 L2210.45 140.084 L2218.71 138.418 L2223.39 138.418 L2223.39 169.042 L2231.02 169.042 L2231.02 172.978 L2211.12 172.978 L2211.12 169.042 Z\" fill=\"#000000\" fill-rule=\"evenodd\" fill-opacity=\"1\" /></svg>\n"
      ],
      "image/svg+xml": [
       "<?xml version=\"1.0\" encoding=\"utf-8\"?>\n",
       "<svg xmlns=\"http://www.w3.org/2000/svg\" xmlns:xlink=\"http://www.w3.org/1999/xlink\" width=\"600\" height=\"400\" viewBox=\"0 0 2400 1600\">\n",
       "<defs>\n",
       "  <clipPath id=\"clip500\">\n",
       "    <rect x=\"0\" y=\"0\" width=\"2400\" height=\"1600\"/>\n",
       "  </clipPath>\n",
       "</defs>\n",
       "<path clip-path=\"url(#clip500)\" d=\"\n",
       "M0 1600 L2400 1600 L2400 0 L0 0  Z\n",
       "  \" fill=\"#ffffff\" fill-rule=\"evenodd\" fill-opacity=\"1\"/>\n",
       "<defs>\n",
       "  <clipPath id=\"clip501\">\n",
       "    <rect x=\"480\" y=\"0\" width=\"1681\" height=\"1600\"/>\n",
       "  </clipPath>\n",
       "</defs>\n",
       "<path clip-path=\"url(#clip500)\" d=\"\n",
       "M86.9921 1521.01 L2352.76 1521.01 L2352.76 47.2441 L86.9921 47.2441  Z\n",
       "  \" fill=\"#ffffff\" fill-rule=\"evenodd\" fill-opacity=\"1\"/>\n",
       "<defs>\n",
       "  <clipPath id=\"clip502\">\n",
       "    <rect x=\"86\" y=\"47\" width=\"2267\" height=\"1475\"/>\n",
       "  </clipPath>\n",
       "</defs>\n",
       "<polyline clip-path=\"url(#clip502)\" style=\"stroke:#000000; stroke-width:2; stroke-opacity:0.1; fill:none\" points=\"\n",
       "  388.619,1521.01 388.619,47.2441 \n",
       "  \"/>\n",
       "<polyline clip-path=\"url(#clip502)\" style=\"stroke:#000000; stroke-width:2; stroke-opacity:0.1; fill:none\" points=\"\n",
       "  863.622,1521.01 863.622,47.2441 \n",
       "  \"/>\n",
       "<polyline clip-path=\"url(#clip502)\" style=\"stroke:#000000; stroke-width:2; stroke-opacity:0.1; fill:none\" points=\"\n",
       "  1338.62,1521.01 1338.62,47.2441 \n",
       "  \"/>\n",
       "<polyline clip-path=\"url(#clip502)\" style=\"stroke:#000000; stroke-width:2; stroke-opacity:0.1; fill:none\" points=\"\n",
       "  1813.63,1521.01 1813.63,47.2441 \n",
       "  \"/>\n",
       "<polyline clip-path=\"url(#clip502)\" style=\"stroke:#000000; stroke-width:2; stroke-opacity:0.1; fill:none\" points=\"\n",
       "  2288.63,1521.01 2288.63,47.2441 \n",
       "  \"/>\n",
       "<polyline clip-path=\"url(#clip502)\" style=\"stroke:#000000; stroke-width:2; stroke-opacity:0.1; fill:none\" points=\"\n",
       "  86.9921,1493.34 2352.76,1493.34 \n",
       "  \"/>\n",
       "<polyline clip-path=\"url(#clip502)\" style=\"stroke:#000000; stroke-width:2; stroke-opacity:0.1; fill:none\" points=\"\n",
       "  86.9921,1142.24 2352.76,1142.24 \n",
       "  \"/>\n",
       "<polyline clip-path=\"url(#clip502)\" style=\"stroke:#000000; stroke-width:2; stroke-opacity:0.1; fill:none\" points=\"\n",
       "  86.9921,791.148 2352.76,791.148 \n",
       "  \"/>\n",
       "<polyline clip-path=\"url(#clip502)\" style=\"stroke:#000000; stroke-width:2; stroke-opacity:0.1; fill:none\" points=\"\n",
       "  86.9921,440.051 2352.76,440.051 \n",
       "  \"/>\n",
       "<polyline clip-path=\"url(#clip502)\" style=\"stroke:#000000; stroke-width:2; stroke-opacity:0.1; fill:none\" points=\"\n",
       "  86.9921,88.9544 2352.76,88.9544 \n",
       "  \"/>\n",
       "<polyline clip-path=\"url(#clip500)\" style=\"stroke:#000000; stroke-width:4; stroke-opacity:1; fill:none\" points=\"\n",
       "  86.9921,1521.01 2352.76,1521.01 \n",
       "  \"/>\n",
       "<polyline clip-path=\"url(#clip500)\" style=\"stroke:#000000; stroke-width:4; stroke-opacity:1; fill:none\" points=\"\n",
       "  86.9921,1521.01 86.9921,47.2441 \n",
       "  \"/>\n",
       "<polyline clip-path=\"url(#clip500)\" style=\"stroke:#000000; stroke-width:4; stroke-opacity:1; fill:none\" points=\"\n",
       "  388.619,1521.01 388.619,1503.32 \n",
       "  \"/>\n",
       "<polyline clip-path=\"url(#clip500)\" style=\"stroke:#000000; stroke-width:4; stroke-opacity:1; fill:none\" points=\"\n",
       "  863.622,1521.01 863.622,1503.32 \n",
       "  \"/>\n",
       "<polyline clip-path=\"url(#clip500)\" style=\"stroke:#000000; stroke-width:4; stroke-opacity:1; fill:none\" points=\"\n",
       "  1338.62,1521.01 1338.62,1503.32 \n",
       "  \"/>\n",
       "<polyline clip-path=\"url(#clip500)\" style=\"stroke:#000000; stroke-width:4; stroke-opacity:1; fill:none\" points=\"\n",
       "  1813.63,1521.01 1813.63,1503.32 \n",
       "  \"/>\n",
       "<polyline clip-path=\"url(#clip500)\" style=\"stroke:#000000; stroke-width:4; stroke-opacity:1; fill:none\" points=\"\n",
       "  2288.63,1521.01 2288.63,1503.32 \n",
       "  \"/>\n",
       "<polyline clip-path=\"url(#clip500)\" style=\"stroke:#000000; stroke-width:4; stroke-opacity:1; fill:none\" points=\"\n",
       "  86.9921,1493.34 114.181,1493.34 \n",
       "  \"/>\n",
       "<polyline clip-path=\"url(#clip500)\" style=\"stroke:#000000; stroke-width:4; stroke-opacity:1; fill:none\" points=\"\n",
       "  86.9921,1142.24 114.181,1142.24 \n",
       "  \"/>\n",
       "<polyline clip-path=\"url(#clip500)\" style=\"stroke:#000000; stroke-width:4; stroke-opacity:1; fill:none\" points=\"\n",
       "  86.9921,791.148 114.181,791.148 \n",
       "  \"/>\n",
       "<polyline clip-path=\"url(#clip500)\" style=\"stroke:#000000; stroke-width:4; stroke-opacity:1; fill:none\" points=\"\n",
       "  86.9921,440.051 114.181,440.051 \n",
       "  \"/>\n",
       "<polyline clip-path=\"url(#clip500)\" style=\"stroke:#000000; stroke-width:4; stroke-opacity:1; fill:none\" points=\"\n",
       "  86.9921,88.9544 114.181,88.9544 \n",
       "  \"/>\n",
       "<path clip-path=\"url(#clip500)\" d=\"M 0 0 M383.272 1570.54 L399.591 1570.54 L399.591 1574.48 L377.647 1574.48 L377.647 1570.54 Q380.309 1567.79 384.892 1563.16 Q389.499 1558.51 390.679 1557.17 Q392.924 1554.64 393.804 1552.91 Q394.707 1551.15 394.707 1549.46 Q394.707 1546.7 392.762 1544.97 Q390.841 1543.23 387.739 1543.23 Q385.54 1543.23 383.087 1543.99 Q380.656 1544.76 377.878 1546.31 L377.878 1541.59 Q380.702 1540.45 383.156 1539.87 Q385.61 1539.29 387.647 1539.29 Q393.017 1539.29 396.212 1541.98 Q399.406 1544.67 399.406 1549.16 Q399.406 1551.29 398.596 1553.21 Q397.809 1555.1 395.702 1557.7 Q395.124 1558.37 392.022 1561.59 Q388.92 1564.78 383.272 1570.54 Z\" fill=\"#000000\" fill-rule=\"evenodd\" fill-opacity=\"1\" /><path clip-path=\"url(#clip500)\" d=\"M 0 0 M866.631 1543.99 L854.826 1562.44 L866.631 1562.44 L866.631 1543.99 M865.404 1539.92 L871.284 1539.92 L871.284 1562.44 L876.214 1562.44 L876.214 1566.33 L871.284 1566.33 L871.284 1574.48 L866.631 1574.48 L866.631 1566.33 L851.029 1566.33 L851.029 1561.82 L865.404 1539.92 Z\" fill=\"#000000\" fill-rule=\"evenodd\" fill-opacity=\"1\" /><path clip-path=\"url(#clip500)\" d=\"M 0 0 M1339.03 1555.34 Q1335.88 1555.34 1334.03 1557.49 Q1332.2 1559.64 1332.2 1563.39 Q1332.2 1567.12 1334.03 1569.29 Q1335.88 1571.45 1339.03 1571.45 Q1342.18 1571.45 1344.01 1569.29 Q1345.86 1567.12 1345.86 1563.39 Q1345.86 1559.64 1344.01 1557.49 Q1342.18 1555.34 1339.03 1555.34 M1348.31 1540.68 L1348.31 1544.94 Q1346.55 1544.11 1344.75 1543.67 Q1342.96 1543.23 1341.21 1543.23 Q1336.58 1543.23 1334.12 1546.36 Q1331.69 1549.48 1331.34 1555.8 Q1332.71 1553.79 1334.77 1552.72 Q1336.83 1551.63 1339.31 1551.63 Q1344.52 1551.63 1347.53 1554.8 Q1350.56 1557.95 1350.56 1563.39 Q1350.56 1568.72 1347.41 1571.93 Q1344.26 1575.15 1339.03 1575.15 Q1333.03 1575.15 1329.86 1570.57 Q1326.69 1565.96 1326.69 1557.23 Q1326.69 1549.04 1330.58 1544.18 Q1334.47 1539.29 1341.02 1539.29 Q1342.78 1539.29 1344.56 1539.64 Q1346.37 1539.99 1348.31 1540.68 Z\" fill=\"#000000\" fill-rule=\"evenodd\" fill-opacity=\"1\" /><path clip-path=\"url(#clip500)\" d=\"M 0 0 M1813.63 1558.07 Q1810.29 1558.07 1808.37 1559.85 Q1806.47 1561.63 1806.47 1564.76 Q1806.47 1567.88 1808.37 1569.67 Q1810.29 1571.45 1813.63 1571.45 Q1816.96 1571.45 1818.88 1569.67 Q1820.8 1567.86 1820.8 1564.76 Q1820.8 1561.63 1818.88 1559.85 Q1816.98 1558.07 1813.63 1558.07 M1808.95 1556.08 Q1805.94 1555.34 1804.25 1553.28 Q1802.59 1551.22 1802.59 1548.25 Q1802.59 1544.11 1805.53 1541.7 Q1808.49 1539.29 1813.63 1539.29 Q1818.79 1539.29 1821.73 1541.7 Q1824.67 1544.11 1824.67 1548.25 Q1824.67 1551.22 1822.98 1553.28 Q1821.31 1555.34 1818.33 1556.08 Q1821.71 1556.86 1823.58 1559.16 Q1825.48 1561.45 1825.48 1564.76 Q1825.48 1569.78 1822.4 1572.47 Q1819.35 1575.15 1813.63 1575.15 Q1807.91 1575.15 1804.83 1572.47 Q1801.78 1569.78 1801.78 1564.76 Q1801.78 1561.45 1803.67 1559.16 Q1805.57 1556.86 1808.95 1556.08 M1807.24 1548.69 Q1807.24 1551.38 1808.91 1552.88 Q1810.6 1554.39 1813.63 1554.39 Q1816.64 1554.39 1818.33 1552.88 Q1820.04 1551.38 1820.04 1548.69 Q1820.04 1546.01 1818.33 1544.5 Q1816.64 1543 1813.63 1543 Q1810.6 1543 1808.91 1544.5 Q1807.24 1546.01 1807.24 1548.69 Z\" fill=\"#000000\" fill-rule=\"evenodd\" fill-opacity=\"1\" /><path clip-path=\"url(#clip500)\" d=\"M 0 0 M2265.51 1570.54 L2273.14 1570.54 L2273.14 1544.18 L2264.83 1545.85 L2264.83 1541.59 L2273.1 1539.92 L2277.77 1539.92 L2277.77 1570.54 L2285.41 1570.54 L2285.41 1574.48 L2265.51 1574.48 L2265.51 1570.54 Z\" fill=\"#000000\" fill-rule=\"evenodd\" fill-opacity=\"1\" /><path clip-path=\"url(#clip500)\" d=\"M 0 0 M2300.48 1543 Q2296.87 1543 2295.04 1546.56 Q2293.24 1550.11 2293.24 1557.23 Q2293.24 1564.34 2295.04 1567.91 Q2296.87 1571.45 2300.48 1571.45 Q2304.12 1571.45 2305.92 1567.91 Q2307.75 1564.34 2307.75 1557.23 Q2307.75 1550.11 2305.92 1546.56 Q2304.12 1543 2300.48 1543 M2300.48 1539.29 Q2306.29 1539.29 2309.35 1543.9 Q2312.43 1548.48 2312.43 1557.23 Q2312.43 1565.96 2309.35 1570.57 Q2306.29 1575.15 2300.48 1575.15 Q2294.67 1575.15 2291.59 1570.57 Q2288.54 1565.96 2288.54 1557.23 Q2288.54 1548.48 2291.59 1543.9 Q2294.67 1539.29 2300.48 1539.29 Z\" fill=\"#000000\" fill-rule=\"evenodd\" fill-opacity=\"1\" /><path clip-path=\"url(#clip500)\" d=\"M 0 0 M51.0477 1479.14 Q47.4367 1479.14 45.608 1482.7 Q43.8024 1486.25 43.8024 1493.38 Q43.8024 1500.48 45.608 1504.05 Q47.4367 1507.59 51.0477 1507.59 Q54.682 1507.59 56.4875 1504.05 Q58.3162 1500.48 58.3162 1493.38 Q58.3162 1486.25 56.4875 1482.7 Q54.682 1479.14 51.0477 1479.14 M51.0477 1475.44 Q56.8579 1475.44 59.9134 1480.04 Q62.9921 1484.63 62.9921 1493.38 Q62.9921 1502.1 59.9134 1506.71 Q56.8579 1511.29 51.0477 1511.29 Q45.2376 1511.29 42.1589 1506.71 Q39.1034 1502.1 39.1034 1493.38 Q39.1034 1484.63 42.1589 1480.04 Q45.2376 1475.44 51.0477 1475.44 Z\" fill=\"#000000\" fill-rule=\"evenodd\" fill-opacity=\"1\" /><path clip-path=\"url(#clip500)\" d=\"M 0 0 M20.6544 1155.59 L36.9737 1155.59 L36.9737 1159.52 L15.0294 1159.52 L15.0294 1155.59 Q17.6914 1152.83 22.2748 1148.21 Q26.8812 1143.55 28.0618 1142.21 Q30.3071 1139.69 31.1867 1137.95 Q32.0895 1136.19 32.0895 1134.5 Q32.0895 1131.75 30.1451 1130.01 Q28.2238 1128.27 25.122 1128.27 Q22.9229 1128.27 20.4692 1129.04 Q18.0387 1129.8 15.2609 1131.35 L15.2609 1126.63 Q18.085 1125.5 20.5386 1124.92 Q22.9923 1124.34 25.0294 1124.34 Q30.3997 1124.34 33.5941 1127.02 Q36.7886 1129.71 36.7886 1134.2 Q36.7886 1136.33 35.9784 1138.25 Q35.1913 1140.15 33.0849 1142.74 Q32.5062 1143.41 29.4043 1146.63 Q26.3025 1149.83 20.6544 1155.59 Z\" fill=\"#000000\" fill-rule=\"evenodd\" fill-opacity=\"1\" /><path clip-path=\"url(#clip500)\" d=\"M 0 0 M42.0895 1124.96 L60.4458 1124.96 L60.4458 1128.9 L46.3718 1128.9 L46.3718 1137.37 Q47.3904 1137.02 48.4089 1136.86 Q49.4274 1136.68 50.4459 1136.68 Q56.2329 1136.68 59.6125 1139.85 Q62.9921 1143.02 62.9921 1148.44 Q62.9921 1154.02 59.5199 1157.12 Q56.0477 1160.2 49.7283 1160.2 Q47.5524 1160.2 45.2839 1159.83 Q43.0385 1159.46 40.6311 1158.71 L40.6311 1154.02 Q42.7145 1155.15 44.9367 1155.71 Q47.1589 1156.26 49.6357 1156.26 Q53.6403 1156.26 55.9783 1154.15 Q58.3162 1152.05 58.3162 1148.44 Q58.3162 1144.83 55.9783 1142.72 Q53.6403 1140.61 49.6357 1140.61 Q47.7607 1140.61 45.8857 1141.03 Q44.0339 1141.45 42.0895 1142.33 L42.0895 1124.96 Z\" fill=\"#000000\" fill-rule=\"evenodd\" fill-opacity=\"1\" /><path clip-path=\"url(#clip500)\" d=\"M 0 0 M15.0757 773.868 L33.4321 773.868 L33.4321 777.803 L19.3581 777.803 L19.3581 786.275 Q20.3766 785.928 21.3951 785.766 Q22.4136 785.581 23.4322 785.581 Q29.2192 785.581 32.5988 788.752 Q35.9784 791.923 35.9784 797.34 Q35.9784 802.919 32.5062 806.021 Q29.034 809.099 22.7146 809.099 Q20.5386 809.099 18.2701 808.729 Q16.0248 808.358 13.6174 807.618 L13.6174 802.919 Q15.7007 804.053 17.9229 804.608 Q20.1451 805.164 22.622 805.164 Q26.6266 805.164 28.9645 803.058 Q31.3025 800.951 31.3025 797.34 Q31.3025 793.729 28.9645 791.622 Q26.6266 789.516 22.622 789.516 Q20.747 789.516 18.872 789.933 Q17.0202 790.349 15.0757 791.229 L15.0757 773.868 Z\" fill=\"#000000\" fill-rule=\"evenodd\" fill-opacity=\"1\" /><path clip-path=\"url(#clip500)\" d=\"M 0 0 M51.0477 776.947 Q47.4367 776.947 45.608 780.511 Q43.8024 784.053 43.8024 791.183 Q43.8024 798.289 45.608 801.854 Q47.4367 805.396 51.0477 805.396 Q54.682 805.396 56.4875 801.854 Q58.3162 798.289 58.3162 791.183 Q58.3162 784.053 56.4875 780.511 Q54.682 776.947 51.0477 776.947 M51.0477 773.243 Q56.8579 773.243 59.9134 777.849 Q62.9921 782.433 62.9921 791.183 Q62.9921 799.909 59.9134 804.516 Q56.8579 809.099 51.0477 809.099 Q45.2376 809.099 42.1589 804.516 Q39.1034 799.909 39.1034 791.183 Q39.1034 782.433 42.1589 777.849 Q45.2376 773.243 51.0477 773.243 Z\" fill=\"#000000\" fill-rule=\"evenodd\" fill-opacity=\"1\" /><path clip-path=\"url(#clip500)\" d=\"M 0 0 M14.7516 422.771 L36.9737 422.771 L36.9737 424.762 L24.4275 457.331 L19.5433 457.331 L31.3488 426.706 L14.7516 426.706 L14.7516 422.771 Z\" fill=\"#000000\" fill-rule=\"evenodd\" fill-opacity=\"1\" /><path clip-path=\"url(#clip500)\" d=\"M 0 0 M42.0895 422.771 L60.4458 422.771 L60.4458 426.706 L46.3718 426.706 L46.3718 435.178 Q47.3904 434.831 48.4089 434.669 Q49.4274 434.484 50.4459 434.484 Q56.2329 434.484 59.6125 437.655 Q62.9921 440.827 62.9921 446.243 Q62.9921 451.822 59.5199 454.924 Q56.0477 458.002 49.7283 458.002 Q47.5524 458.002 45.2839 457.632 Q43.0385 457.262 40.6311 456.521 L40.6311 451.822 Q42.7145 452.956 44.9367 453.512 Q47.1589 454.067 49.6357 454.067 Q53.6403 454.067 55.9783 451.961 Q58.3162 449.854 58.3162 446.243 Q58.3162 442.632 55.9783 440.526 Q53.6403 438.419 49.6357 438.419 Q47.7607 438.419 45.8857 438.836 Q44.0339 439.253 42.0895 440.132 L42.0895 422.771 Z\" fill=\"#000000\" fill-rule=\"evenodd\" fill-opacity=\"1\" /><path clip-path=\"url(#clip500)\" d=\"M 0 0 M-10.9427 102.299 L-3.30382 102.299 L-3.30382 75.9336 L-11.614 77.6003 L-11.614 73.341 L-3.35011 71.6744 L1.32579 71.6744 L1.32579 102.299 L8.96464 102.299 L8.96464 106.234 L-10.9427 106.234 L-10.9427 102.299 Z\" fill=\"#000000\" fill-rule=\"evenodd\" fill-opacity=\"1\" /><path clip-path=\"url(#clip500)\" d=\"M 0 0 M24.034 74.7531 Q20.4229 74.7531 18.5942 78.3179 Q16.7887 81.8595 16.7887 88.9891 Q16.7887 96.0956 18.5942 99.6604 Q20.4229 103.202 24.034 103.202 Q27.6682 103.202 29.4738 99.6604 Q31.3025 96.0956 31.3025 88.9891 Q31.3025 81.8595 29.4738 78.3179 Q27.6682 74.7531 24.034 74.7531 M24.034 71.0494 Q29.8442 71.0494 32.8997 75.6559 Q35.9784 80.2392 35.9784 88.9891 Q35.9784 97.7159 32.8997 102.322 Q29.8442 106.906 24.034 106.906 Q18.2238 106.906 15.1452 102.322 Q12.0896 97.7159 12.0896 88.9891 Q12.0896 80.2392 15.1452 75.6559 Q18.2238 71.0494 24.034 71.0494 Z\" fill=\"#000000\" fill-rule=\"evenodd\" fill-opacity=\"1\" /><path clip-path=\"url(#clip500)\" d=\"M 0 0 M51.0477 74.7531 Q47.4367 74.7531 45.608 78.3179 Q43.8024 81.8595 43.8024 88.9891 Q43.8024 96.0956 45.608 99.6604 Q47.4367 103.202 51.0477 103.202 Q54.682 103.202 56.4875 99.6604 Q58.3162 96.0956 58.3162 88.9891 Q58.3162 81.8595 56.4875 78.3179 Q54.682 74.7531 51.0477 74.7531 M51.0477 71.0494 Q56.8579 71.0494 59.9134 75.6559 Q62.9921 80.2392 62.9921 88.9891 Q62.9921 97.7159 59.9134 102.322 Q56.8579 106.906 51.0477 106.906 Q45.2376 106.906 42.1589 102.322 Q39.1034 97.7159 39.1034 88.9891 Q39.1034 80.2392 42.1589 75.6559 Q45.2376 71.0494 51.0477 71.0494 Z\" fill=\"#000000\" fill-rule=\"evenodd\" fill-opacity=\"1\" /><polyline clip-path=\"url(#clip502)\" style=\"stroke:#009af9; stroke-width:4; stroke-opacity:1; fill:none\" points=\"\n",
       "  151.118,1479.3 388.619,1437.17 626.12,1366.95 863.622,1268.64 1101.12,1142.24 1338.62,987.762 1576.13,805.192 1813.63,594.534 2051.13,355.788 2288.63,88.9544 \n",
       "  \n",
       "  \"/>\n",
       "<path clip-path=\"url(#clip500)\" d=\"\n",
       "M1974.46 217.33 L2277.23 217.33 L2277.23 96.3696 L1974.46 96.3696  Z\n",
       "  \" fill=\"#ffffff\" fill-rule=\"evenodd\" fill-opacity=\"1\"/>\n",
       "<polyline clip-path=\"url(#clip500)\" style=\"stroke:#000000; stroke-width:4; stroke-opacity:1; fill:none\" points=\"\n",
       "  1974.46,217.33 2277.23,217.33 2277.23,96.3696 1974.46,96.3696 1974.46,217.33 \n",
       "  \"/>\n",
       "<polyline clip-path=\"url(#clip500)\" style=\"stroke:#009af9; stroke-width:4; stroke-opacity:1; fill:none\" points=\"\n",
       "  1999.64,156.85 2150.69,156.85 \n",
       "  \"/>\n",
       "<path clip-path=\"url(#clip500)\" d=\"M 0 0 M2189.7 176.537 Q2187.9 181.167 2186.19 182.579 Q2184.47 183.991 2181.6 183.991 L2178.2 183.991 L2178.2 180.426 L2180.7 180.426 Q2182.46 180.426 2183.43 179.592 Q2184.4 178.759 2185.58 175.657 L2186.35 173.713 L2175.86 148.204 L2180.38 148.204 L2188.48 168.481 L2196.58 148.204 L2201.09 148.204 L2189.7 176.537 Z\" fill=\"#000000\" fill-rule=\"evenodd\" fill-opacity=\"1\" /><path clip-path=\"url(#clip500)\" d=\"M 0 0 M2206.97 170.194 L2214.61 170.194 L2214.61 143.829 L2206.3 145.495 L2206.3 141.236 L2214.57 139.57 L2219.24 139.57 L2219.24 170.194 L2226.88 170.194 L2226.88 174.13 L2206.97 174.13 L2206.97 170.194 Z\" fill=\"#000000\" fill-rule=\"evenodd\" fill-opacity=\"1\" /></svg>\n"
      ]
     },
     "metadata": {},
     "execution_count": 3
    }
   ],
   "cell_type": "code",
   "source": [
    "using Plots\n",
    "plot(x)"
   ],
   "metadata": {},
   "execution_count": 3
  },
  {
   "cell_type": "markdown",
   "source": [
    "Please consider writing the comments in your tutorial as if they are meant to be read as an *article explaining the topic the tutorial is meant to explain.*\n",
    "If there are any specific nuances to writing Literate documentation for ClimateMachine, please let us know!"
   ],
   "metadata": {}
  },
  {
   "cell_type": "markdown",
   "source": [
    "---\n",
    "\n",
    "*This notebook was generated using [Literate.jl](https://github.com/fredrikekre/Literate.jl).*"
   ],
   "metadata": {}
  }
 ],
 "nbformat_minor": 3,
 "metadata": {
  "language_info": {
   "file_extension": ".jl",
   "mimetype": "application/julia",
   "name": "julia",
   "version": "1.4.2"
  },
  "kernelspec": {
   "name": "julia-1.4",
   "display_name": "Julia 1.4.2",
   "language": "julia"
  }
 },
 "nbformat": 4
}
