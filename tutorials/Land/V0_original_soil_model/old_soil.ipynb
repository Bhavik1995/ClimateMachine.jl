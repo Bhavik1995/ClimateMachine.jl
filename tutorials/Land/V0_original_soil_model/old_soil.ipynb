{
 "cells": [
  {
   "cell_type": "code",
   "execution_count": 1,
   "metadata": {},
   "outputs": [
    {
     "name": "stdout",
     "output_type": "stream",
     "text": [
      "\u001b[32m\u001b[1m  Updating\u001b[22m\u001b[39m registry at `C:\\Users\\annag\\.julia\\registries\\General`\n",
      "\u001b[32m\u001b[1m  Updating\u001b[22m\u001b[39m git-repo `https://github.com/JuliaRegistries/General.git`\n",
      "\u001b[2K\u001b[36m\u001b[1mFetching:\u001b[22m\u001b[39m [========================================>]  100.0 %.0 %\u001b[?25h"
     ]
    },
    {
     "name": "stderr",
     "output_type": "stream",
     "text": [
      "┌ Info: Precompiling CLIMA [777c4786-024f-11e9-21a3-85d5d4106250]\n",
      "└ @ Base loading.jl:1273\n",
      "ERROR: LoadError: LoadError: LoadError: ArgumentError: Package CLIMA does not have NCDatasets in its dependencies:\n",
      "- If you have CLIMA checked out for development and have\n",
      "  added NCDatasets as a dependency but haven't updated your primary\n",
      "  environment's manifest file, try `Pkg.resolve()`.\n",
      "- Otherwise you may need to report an issue with CLIMA\n",
      "Stacktrace:\n",
      " [1] require(::Module, ::Symbol) at .\\loading.jl:900\n",
      " [2] include at .\\boot.jl:328 [inlined]\n",
      " [3] include_relative(::Module, ::String) at .\\loading.jl:1105\n",
      " [4] include at .\\Base.jl:31 [inlined]\n",
      " [5] include(::String) at C:\\Users\\annag\\Documents\\CLIMA\\src\\InputOutput\\Writers\\Writers.jl:1\n",
      " [6] top-level scope at C:\\Users\\annag\\Documents\\CLIMA\\src\\InputOutput\\Writers\\Writers.jl:7\n",
      " [7] include at .\\boot.jl:328 [inlined]\n",
      " [8] include_relative(::Module, ::String) at .\\loading.jl:1105\n",
      " [9] include at .\\Base.jl:31 [inlined]\n",
      " [10] include(::String) at C:\\Users\\annag\\Documents\\CLIMA\\src\\CLIMA.jl:1\n",
      " [11] top-level scope at C:\\Users\\annag\\Documents\\CLIMA\\src\\CLIMA.jl:5\n",
      " [12] include at .\\boot.jl:328 [inlined]\n",
      " [13] include_relative(::Module, ::String) at .\\loading.jl:1105\n",
      " [14] include(::Module, ::String) at .\\Base.jl:31\n",
      " [15] top-level scope at none:2\n",
      " [16] eval at .\\boot.jl:330 [inlined]\n",
      " [17] eval(::Expr) at .\\client.jl:425\n",
      " [18] top-level scope at .\\none:3\n",
      "in expression starting at C:\\Users\\annag\\Documents\\CLIMA\\src\\InputOutput\\Writers\\netcdf.jl:1\n",
      "in expression starting at C:\\Users\\annag\\Documents\\CLIMA\\src\\InputOutput\\Writers\\Writers.jl:7\n",
      "in expression starting at C:\\Users\\annag\\Documents\\CLIMA\\src\\CLIMA.jl:5\n"
     ]
    },
    {
     "ename": "ErrorException",
     "evalue": "Failed to precompile CLIMA [777c4786-024f-11e9-21a3-85d5d4106250] to C:\\Users\\annag\\.julia\\compiled\\v1.3\\CLIMA\\QNtDh_C5s1k.ji.",
     "output_type": "error",
     "traceback": [
      "Failed to precompile CLIMA [777c4786-024f-11e9-21a3-85d5d4106250] to C:\\Users\\annag\\.julia\\compiled\\v1.3\\CLIMA\\QNtDh_C5s1k.ji.",
      "",
      "Stacktrace:",
      " [1] error(::String) at .\\error.jl:33",
      " [2] compilecache(::Base.PkgId, ::String) at .\\loading.jl:1283",
      " [3] _require(::Base.PkgId) at .\\loading.jl:1024",
      " [4] require(::Base.PkgId) at .\\loading.jl:922",
      " [5] require(::Module, ::Symbol) at .\\loading.jl:917",
      " [6] top-level scope at In[1]:5"
     ]
    }
   ],
   "source": [
    "# Load necessary CliMA subroutines\n",
    "using MPI\n",
    "using CLIMA\n",
    "using Logging\n",
    "using CLIMA.Mesh.Topologies\n",
    "using CLIMA.Mesh.Grids\n",
    "using CLIMA.Mesh.Elements: interpolationmatrix\n",
    "using CLIMA.DGmethods\n",
    "using CLIMA.DGmethods.NumericalFluxes\n",
    "using CLIMA.MPIStateArrays\n",
    "using CLIMA.LowStorageRungeKuttaMethod\n",
    "using LinearAlgebra\n",
    "using CLIMA.GenericCallbacks: EveryXWallTimeSeconds, EveryXSimulationSteps\n",
    "using CLIMA.ODESolvers\n",
    "ENV[\"GKS_ENCODING\"] = \"utf-8\"\n",
    "using Plots\n",
    "gr()"
   ]
  },
  {
   "cell_type": "code",
   "execution_count": 2,
   "metadata": {},
   "outputs": [
    {
     "ename": "UndefVarError",
     "evalue": "UndefVarError: CLIMA not defined",
     "output_type": "error",
     "traceback": [
      "UndefVarError: CLIMA not defined",
      "",
      "Stacktrace:",
      " [1] top-level scope at In[2]:1"
     ]
    }
   ],
   "source": [
    "# Initialize CliMA\n",
    "CLIMA.init()\n",
    "\n",
    "# Add soil model and other functions\n",
    "include(\"soilmodel.jl\")\n",
    "include(\"thermal_properties.jl\")\n",
    "include(\"kersten.jl\")"
   ]
  },
  {
   "cell_type": "code",
   "execution_count": 3,
   "metadata": {},
   "outputs": [
    {
     "ename": "UndefVarError",
     "evalue": "UndefVarError: StackedBrickTopology not defined",
     "output_type": "error",
     "traceback": [
      "UndefVarError: StackedBrickTopology not defined",
      "",
      "Stacktrace:",
      " [1] top-level scope at In[3]:6"
     ]
    }
   ],
   "source": [
    "# Set up domain\n",
    "# NOTE: this is using 5 vertical elements, each with a 5th degree polynomial, \n",
    "# giving an approximate resolution of 5cm\n",
    "const velems = 0.0:-0.2:-1 # Elements at: [0.0 -0.2 -0.4 -0.6 -0.8 -1.0] (m)\n",
    "const N = 5 # Order of polynomial function between each element\n",
    "\n",
    "# Set domain using Stached Brick Topology\n",
    "topl = StackedBrickTopology(MPI.COMM_WORLD, (0.0:1,0.0:1,velems); \n",
    "    periodicity = (true,true,false),\n",
    "    boundary=((0,0),(0,0),(1,2)))\n",
    "\n",
    "# Set up grid\n",
    "grid = DiscontinuousSpectralElementGrid(topl, FloatType = Float64, DeviceArray = Array, polynomialorder = N)\n",
    "\n",
    "# Define thermal conductivity\n",
    "κ_sand = (thermal_properties(\"Sand\",0.35,0.05 ))\n",
    "κ_clay = (thermal_properties(\"Clay\",0.35,0.05 ))\n",
    "κ_other = (thermal_properties(\"Other\",0.35,0.05 ))\n",
    "\n",
    "# Load Soil Model in 'm'\n",
    "m = SoilModel(\n",
    "    ρc = (state, aux, t) -> 2.49e6, # aux.z > -0.5 ? 2.49e6 : 2.61e6, \n",
    "    κ  = (state, aux, t) -> κ_sand, # aux.z > -0.5 ? κ_sand : κ_clay,\n",
    "    initialT = (aux, t) -> (273.15 + 2.0),\n",
    "    surfaceT = (state, aux, t) -> (273.15 + 12.0) + 0.5*10.0 * sinpi(2*(t/(60*60)-8)/24)\n",
    ")\n",
    "\n",
    "# Set up DG scheme\n",
    "dg = DGModel( # \n",
    "  m, # \"PDE part\"\n",
    "  grid,\n",
    "  CentralNumericalFluxNonDiffusive(), # penalty terms for discretizations\n",
    "  CentralNumericalFluxDiffusive(),\n",
    "  CentralNumericalFluxGradient())\n",
    "\n",
    "# Minimum spatial and temporal steps \n",
    "Δ = min_node_distance(grid)\n",
    "CFL_bound = (Δ^2 / (2 * 2.42/2.49e6))\n",
    "dt = CFL_bound*0.5 # TODO: provide a \"default\" timestep based on  Δx,Δy,Δz\n"
   ]
  },
  {
   "cell_type": "code",
   "execution_count": 4,
   "metadata": {},
   "outputs": [
    {
     "data": {
      "text/plain": [
       "plotstate (generic function with 1 method)"
      ]
     },
     "execution_count": 4,
     "metadata": {},
     "output_type": "execute_result"
    }
   ],
   "source": [
    "# Define time variables\n",
    "const minute = 60\n",
    "const hour = 60*minute\n",
    "const day = 24*hour\n",
    "\n",
    "# Create plot state function\n",
    "function plotstate(grid, Q, aux)\n",
    "    # TODO:\n",
    "    # this currently uses some internals: provide a better way to do this\n",
    "    gridg = reshape(grid.vgeo[(1:(N+1)^2:(N+1)^3),CLIMA.Mesh.Grids.vgeoid.x3id,:],:)*100\n",
    "    Tg = reshape(aux.data[(1:(N+1)^2:(N+1)^3),2,:],:)\n",
    "    plot(Tg, gridg, ylabel=\"depth (cm)\", xlabel=\"T (°K)\", yticks=-100:20:0, xlimits=(263.15,303.15), legend=false)\n",
    "end"
   ]
  },
  {
   "cell_type": "code",
   "execution_count": 5,
   "metadata": {},
   "outputs": [
    {
     "ename": "UndefVarError",
     "evalue": "UndefVarError: init_ode_state not defined",
     "output_type": "error",
     "traceback": [
      "UndefVarError: init_ode_state not defined",
      "",
      "Stacktrace:",
      " [1] top-level scope at In[5]:1"
     ]
    }
   ],
   "source": [
    "# state variable\n",
    "Q = init_ode_state(dg, Float64(0))\n",
    "\n",
    "# initialize ODE solver\n",
    "lsrk = LSRK54CarpenterKennedy(dg, Q; dt = dt, t0 = 0)\n",
    "\n",
    "# Plot initial state\n",
    "plotstate(grid, Q, dg.auxstate)\n"
   ]
  },
  {
   "cell_type": "code",
   "execution_count": 6,
   "metadata": {},
   "outputs": [
    {
     "ename": "UndefVarError",
     "evalue": "UndefVarError: dt not defined",
     "output_type": "error",
     "traceback": [
      "UndefVarError: dt not defined",
      "",
      "Stacktrace:",
      " [1] top-level scope at In[6]:1"
     ]
    }
   ],
   "source": [
    "# Solve for one timestep\n",
    "solve!(Q, lsrk; timeend=dt)"
   ]
  },
  {
   "cell_type": "code",
   "execution_count": 7,
   "metadata": {},
   "outputs": [
    {
     "ename": "UndefVarError",
     "evalue": "UndefVarError: solve! not defined",
     "output_type": "error",
     "traceback": [
      "UndefVarError: solve! not defined",
      "",
      "Stacktrace:",
      " [1] top-level scope at .\\In[7]:4"
     ]
    }
   ],
   "source": [
    "# run for 8 days (hours?) to get to steady state\n",
    "plots = Any[]\n",
    "for i = 1:8\n",
    "    t = solve!(Q, lsrk; timeend=i*hour)\n",
    "    push!(plots, plotstate(grid, Q, dg.auxstate))\n",
    "end\n",
    "plot(plots...)"
   ]
  },
  {
   "cell_type": "code",
   "execution_count": 8,
   "metadata": {},
   "outputs": [
    {
     "data": {
      "text/plain": [
       "interpolate (generic function with 1 method)"
      ]
     },
     "execution_count": 8,
     "metadata": {},
     "output_type": "execute_result"
    }
   ],
   "source": [
    "# a function for performing interpolation on the DG grid\n",
    "# TODO: use CLIMA interpolation once available\n",
    "function interpolate(grid, auxstate, Zprofile)\n",
    "    P = zeros(size(Zprofile))\n",
    "    nelems = size(grid.vgeo, 3)\n",
    "    for elem in 1:nelems\n",
    "        G = grid.vgeo[(1:(N+1)^2:(N+1)^3),CLIMA.Mesh.Grids.vgeoid.x3id,elem]\n",
    "        I = minimum(G) .< Zprofile .<= maximum(G)\n",
    "        M = interpolationmatrix(G, Zprofile[I])\n",
    "        P[I] .= M*auxstate.data[(1:(N+1)^2:(N+1)^3),2,elem]\n",
    "    end\n",
    "    return P\n",
    "end"
   ]
  },
  {
   "cell_type": "code",
   "execution_count": 9,
   "metadata": {},
   "outputs": [
    {
     "ename": "UndefVarError",
     "evalue": "UndefVarError: solve! not defined",
     "output_type": "error",
     "traceback": [
      "UndefVarError: solve! not defined",
      "",
      "Stacktrace:",
      " [1] top-level scope at .\\In[9]:7"
     ]
    }
   ],
   "source": [
    "t_plot = 24*4 # How many time steps to plot?\n",
    "Zprofile = -0.995:0.01:0 # needs to be in sorted order for contour function\n",
    "Tprofile = zeros(length(Zprofile),t_plot)\n",
    "hours = 0.5:1:t_plot\n",
    "\n",
    "for (i,h) in enumerate(hours)\n",
    "    t = solve!(Q, lsrk; timeend=day+h*hour)\n",
    "    Tprofile[:,i] = (interpolate(grid, dg.auxstate, Zprofile))\n",
    "end\n"
   ]
  },
  {
   "cell_type": "code",
   "execution_count": 10,
   "metadata": {},
   "outputs": [
    {
     "ename": "UndefVarError",
     "evalue": "UndefVarError: contour not defined",
     "output_type": "error",
     "traceback": [
      "UndefVarError: contour not defined",
      "",
      "Stacktrace:",
      " [1] top-level scope at In[10]:1"
     ]
    }
   ],
   "source": [
    "contour(hours, Zprofile.*100, Tprofile, \n",
    "    levels=263.15:323.15, xticks=0:4:t_plot, xlimits=(0,t_plot), \n",
    "    xlabel=\"Time of day (hours)\", ylabel=\"Soil depth (cm)\", title=\"Soil temperature (°K)\")"
   ]
  },
  {
   "cell_type": "code",
   "execution_count": 1,
   "metadata": {},
   "outputs": [
    {
     "ename": "UndefVarError",
     "evalue": "UndefVarError: Pkg not defined",
     "output_type": "error",
     "traceback": [
      "UndefVarError: Pkg not defined",
      "",
      "Stacktrace:",
      " [1] top-level scope at In[1]:1"
     ]
    }
   ],
   "source": [
    "Pkg.resolve"
   ]
  },
  {
   "cell_type": "code",
   "execution_count": 2,
   "metadata": {},
   "outputs": [],
   "source": [
    "using Pkg"
   ]
  },
  {
   "cell_type": "code",
   "execution_count": 3,
   "metadata": {},
   "outputs": [
    {
     "name": "stdout",
     "output_type": "stream",
     "text": [
      "\u001b[32m\u001b[1m Resolving\u001b[22m\u001b[39m package versions...\n"
     ]
    },
    {
     "ename": "Pkg.Types.ResolverError",
     "evalue": "Unsatisfiable requirements detected for package SpecialFunctions [276daf66]:\n SpecialFunctions [276daf66] log:\n ├─possible versions are: [0.7.0-0.7.2, 0.8.0, 0.9.0, 0.10.0] or uninstalled\n ├─restricted to versions 0.10 by CLIMA [777c4786], leaving only versions 0.10.0\n │ └─CLIMA [777c4786] log:\n │   ├─possible versions are: 0.1.0 or uninstalled\n │   └─CLIMA [777c4786] is fixed to version 0.1.0\n └─restricted to versions 0.9.0 by an explicit requirement — no versions left",
     "output_type": "error",
     "traceback": [
      "Unsatisfiable requirements detected for package SpecialFunctions [276daf66]:\n SpecialFunctions [276daf66] log:\n ├─possible versions are: [0.7.0-0.7.2, 0.8.0, 0.9.0, 0.10.0] or uninstalled\n ├─restricted to versions 0.10 by CLIMA [777c4786], leaving only versions 0.10.0\n │ └─CLIMA [777c4786] log:\n │   ├─possible versions are: 0.1.0 or uninstalled\n │   └─CLIMA [777c4786] is fixed to version 0.1.0\n └─restricted to versions 0.9.0 by an explicit requirement — no versions left",
      "",
      "Stacktrace:",
      " [1] check_constraints(::Pkg.GraphType.Graph) at D:\\buildbot\\worker\\package_win64\\build\\usr\\share\\julia\\stdlib\\v1.3\\Pkg\\src\\GraphType.jl:937",
      " [2] Pkg.GraphType.Graph(::Dict{Base.UUID,Set{VersionNumber}}, ::Dict{Base.UUID,Dict{Pkg.Types.VersionRange,Dict{String,Base.UUID}}}, ::Dict{Base.UUID,Dict{Pkg.Types.VersionRange,Dict{String,Pkg.Types.VersionSpec}}}, ::Dict{Base.UUID,String}, ::Dict{Base.UUID,Pkg.Types.VersionSpec}, ::Dict{Base.UUID,Pkg.Types.Fixed}, ::Bool) at D:\\buildbot\\worker\\package_win64\\build\\usr\\share\\julia\\stdlib\\v1.3\\Pkg\\src\\GraphType.jl:364",
      " [3] deps_graph(::Pkg.Types.Context, ::Dict{Base.UUID,String}, ::Dict{Base.UUID,Pkg.Types.VersionSpec}, ::Dict{Base.UUID,Pkg.Types.Fixed}) at D:\\buildbot\\worker\\package_win64\\build\\usr\\share\\julia\\stdlib\\v1.3\\Pkg\\src\\Operations.jl:437",
      " [4] resolve_versions!(::Pkg.Types.Context, ::Array{Pkg.Types.PackageSpec,1}) at D:\\buildbot\\worker\\package_win64\\build\\usr\\share\\julia\\stdlib\\v1.3\\Pkg\\src\\Operations.jl:320",
      " [5] up(::Pkg.Types.Context, ::Array{Pkg.Types.PackageSpec,1}, ::Pkg.Types.UpgradeLevel) at D:\\buildbot\\worker\\package_win64\\build\\usr\\share\\julia\\stdlib\\v1.3\\Pkg\\src\\Operations.jl:1099",
      " [6] #up#43(::Pkg.Types.UpgradeLevel, ::Pkg.Types.PackageMode, ::Bool, ::Base.Iterators.Pairs{Union{},Union{},Tuple{},NamedTuple{(),Tuple{}}}, ::typeof(Pkg.API.up), ::Pkg.Types.Context, ::Array{Pkg.Types.PackageSpec,1}) at D:\\buildbot\\worker\\package_win64\\build\\usr\\share\\julia\\stdlib\\v1.3\\Pkg\\src\\API.jl:170",
      " [7] #up#38 at .\\none:0 [inlined]",
      " [8] #up at .\\none:0 [inlined]",
      " [9] resolve at D:\\buildbot\\worker\\package_win64\\build\\usr\\share\\julia\\stdlib\\v1.3\\Pkg\\src\\API.jl:175 [inlined] (repeats 2 times)",
      " [10] top-level scope at In[3]:1"
     ]
    }
   ],
   "source": [
    "Pkg.resolve()"
   ]
  },
  {
   "cell_type": "code",
   "execution_count": null,
   "metadata": {},
   "outputs": [],
   "source": []
  }
 ],
 "metadata": {
  "kernelspec": {
   "display_name": "Julia 1.3.1",
   "language": "julia",
   "name": "julia-1.3"
  },
  "language_info": {
   "file_extension": ".jl",
   "mimetype": "application/julia",
   "name": "julia",
   "version": "1.3.1"
  }
 },
 "nbformat": 4,
 "nbformat_minor": 4
}
