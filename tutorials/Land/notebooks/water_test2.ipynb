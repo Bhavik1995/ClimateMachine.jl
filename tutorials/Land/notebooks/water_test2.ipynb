{
 "cells": [
  {
   "cell_type": "code",
   "execution_count": 202,
   "metadata": {},
   "outputs": [
    {
     "data": {
      "text/plain": [
       "heaviside (generic function with 1 method)"
      ]
     },
     "execution_count": 202,
     "metadata": {},
     "output_type": "execute_result"
    }
   ],
   "source": [
    "# Add soil model and other functions\n",
    "include(\"soil_water_properties.jl\")\n",
    "include(\"frozen_impedence_factor.jl\")\n",
    "include(\"temperature_dependence.jl\")\n",
    "include(\"matric_potential.jl\")\n",
    "include(\"pressure_head.jl\")\n",
    "include(\"hydraulic_head.jl\")\n",
    "include(\"effective_saturation.jl\")\n",
    "include(\"augmented_liquid.jl\")\n",
    "include(\"calculate_frozen_water.jl\")\n",
    "include(\"heaviside.jl\") "
   ]
  },
  {
   "cell_type": "code",
   "execution_count": 203,
   "metadata": {},
   "outputs": [
    {
     "data": {
      "text/plain": [
       "0.0"
      ]
     },
     "execution_count": 203,
     "metadata": {},
     "output_type": "execute_result"
    }
   ],
   "source": [
    "t= -100\n",
    "Hside = heaviside(t) "
   ]
  },
  {
   "cell_type": "code",
   "execution_count": 204,
   "metadata": {},
   "outputs": [
    {
     "data": {
      "text/plain": [
       "6.672616022796322e-19"
      ]
     },
     "execution_count": 204,
     "metadata": {},
     "output_type": "execute_result"
    }
   ],
   "source": [
    "mineral_properties = \"Clay\"\n",
    "soil_T = 300 # Read in from heat model {aux.T}\n",
    "soil_Tref = 298.42 # Soil reference temperature: annual mean temperature of site\n",
    "theta_liq = -0.01 # Read in from water model {state.θ}\n",
    "theta_ice = 0.00 # Read in from water model {state.θi}\n",
    "porosity = 0.5 # Read in from data base\n",
    "ψ = -1 # Soil pressure head {aux.h}\n",
    "S_s = 10e-4  # [ m-1]\n",
    "flag = \"van Genuchten\" # \"van Genuchten\" , \"Brooks and Corey\"\n",
    "\n",
    "# This function calculates soil hydraulic conductivity\n",
    "Ks = soil_water_properties(mineral_properties,soil_T,soil_Tref,theta_liq,theta_ice,porosity,ψ,S_s,flag)  "
   ]
  },
  {
   "cell_type": "code",
   "execution_count": 205,
   "metadata": {},
   "outputs": [
    {
     "name": "stdout",
     "output_type": "stream",
     "text": [
      "F_T = -0.0\n",
      "sourceθi = -0.0\n",
      "sourceθ = 0.0\n"
     ]
    },
    {
     "data": {
      "text/plain": [
       "0.0"
      ]
     },
     "execution_count": 205,
     "metadata": {},
     "output_type": "execute_result"
    }
   ],
   "source": [
    "# soil_T = 275 # Read in from heat model {aux.T}\n",
    "# theta_liq = 0.3 # Read in from water model {state.θ}\n",
    "# theta_ice = 0.12 # Read in from water model {state.θi}\n",
    "\n",
    "F_T = calculate_frozen_water(theta_liq,theta_ice,soil_T)\n",
    "\n",
    "# Source of ice\n",
    "sourceθi = F_T/917 # rho_i = 0.917 # g cm-3, density of ice\n",
    "sourceθ = -F_T/997 # rho_l = 0.997 # g cm-3, density of water\n",
    "\n",
    "@show F_T\n",
    "@show sourceθi\n",
    "@show sourceθ"
   ]
  },
  {
   "cell_type": "code",
   "execution_count": 206,
   "metadata": {},
   "outputs": [
    {
     "data": {
      "text/plain": [
       "1.0425941683876505"
      ]
     },
     "execution_count": 206,
     "metadata": {},
     "output_type": "execute_result"
    }
   ],
   "source": [
    "# soil_T = 290\n",
    "# soil_Tref = 280\n",
    "\n",
    "# This function calculates temperature dependence of hydraulic conductivity\n",
    "Theta_T = temperature_dependence(soil_T, soil_Tref) "
   ]
  },
  {
   "cell_type": "code",
   "execution_count": 207,
   "metadata": {},
   "outputs": [
    {
     "data": {
      "text/plain": [
       "1.0"
      ]
     },
     "execution_count": 207,
     "metadata": {},
     "output_type": "execute_result"
    }
   ],
   "source": [
    "# theta_ice = 0.01\n",
    "# porosity = 0.5\n",
    "\n",
    "# This function calculates frozen soil Impedence factor\n",
    "Gamma_thetai = frozen_impedence_factor(theta_ice, porosity)"
   ]
  },
  {
   "cell_type": "code",
   "execution_count": 208,
   "metadata": {},
   "outputs": [
    {
     "data": {
      "text/plain": [
       "-0.01"
      ]
     },
     "execution_count": 208,
     "metadata": {},
     "output_type": "execute_result"
    }
   ],
   "source": [
    "# porosity = 0.5               \n",
    "# S_s = 10e-4  # [ m-1]\n",
    "# ψ = -100\n",
    "# theta_liq = 0.4\n",
    "\n",
    "# Effective saturation\n",
    "\n",
    "theta_l = augmented_liquid(porosity,S_s,ψ,theta_liq) "
   ]
  },
  {
   "cell_type": "code",
   "execution_count": 209,
   "metadata": {},
   "outputs": [
    {
     "data": {
      "text/plain": [
       "0.0001"
      ]
     },
     "execution_count": 209,
     "metadata": {},
     "output_type": "execute_result"
    }
   ],
   "source": [
    "# porosity = 0.5               \n",
    "# S_s = 10e-4  # [ m-1]\n",
    "# ψ = -100\n",
    "# theta_liq = 0.4\n",
    "\n",
    "# Effective saturation\n",
    "\n",
    "S_l = effective_saturation(porosity,theta_l) "
   ]
  },
  {
   "cell_type": "code",
   "execution_count": 210,
   "metadata": {},
   "outputs": [
    {
     "data": {
      "text/plain": [
       "-499.998999996"
      ]
     },
     "execution_count": 210,
     "metadata": {},
     "output_type": "execute_result"
    }
   ],
   "source": [
    "# Soil Matric potential\n",
    "# flag = \"van Genuchten\"\n",
    "# alpha = 0.02 # m-1\n",
    "# n = 5\n",
    "# m = 1 - 1/n\n",
    "# S_l = 0.8\n",
    "\n",
    "# This function calculates matric potential ψ_m of a soil\n",
    "ψ_m = matric_potential(flag,S_l) \n",
    "\n"
   ]
  },
  {
   "cell_type": "code",
   "execution_count": 211,
   "metadata": {},
   "outputs": [
    {
     "data": {
      "text/plain": [
       "-499.998999996"
      ]
     },
     "execution_count": 211,
     "metadata": {},
     "output_type": "execute_result"
    }
   ],
   "source": [
    "# Soil Matric potential\n",
    "# ψ_m = -0.5\n",
    "# S_l = 0.8\n",
    "# porosity = 0.5\n",
    "# S_s = 10e-4  # [ m-1]\n",
    "\n",
    "# This function calculates pressure head ψ of a soil\n",
    "ψ = pressure_head(ψ_m,S_l,porosity,S_s,theta_l)  "
   ]
  },
  {
   "cell_type": "code",
   "execution_count": 195,
   "metadata": {},
   "outputs": [
    {
     "data": {
      "text/plain": [
       "-108.28632149319718"
      ]
     },
     "execution_count": 195,
     "metadata": {},
     "output_type": "execute_result"
    }
   ],
   "source": [
    "z = -100\n",
    "# ψ = -0.4\n",
    "\n",
    "# This function calculates pressure head ψ of a soil\n",
    "h = hydraulic_head(z,ψ) "
   ]
  },
  {
   "cell_type": "code",
   "execution_count": null,
   "metadata": {},
   "outputs": [],
   "source": []
  },
  {
   "cell_type": "code",
   "execution_count": null,
   "metadata": {},
   "outputs": [],
   "source": []
  }
 ],
 "metadata": {
  "kernelspec": {
   "display_name": "Julia 1.3.1",
   "language": "julia",
   "name": "julia-1.3"
  },
  "language_info": {
   "file_extension": ".jl",
   "mimetype": "application/julia",
   "name": "julia",
   "version": "1.3.1"
  }
 },
 "nbformat": 4,
 "nbformat_minor": 2
}
