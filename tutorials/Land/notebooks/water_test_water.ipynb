{
 "cells": [
  {
   "cell_type": "code",
   "execution_count": 18,
   "metadata": {},
   "outputs": [
    {
     "data": {
      "text/plain": [
       "effective_saturation (generic function with 1 method)"
      ]
     },
     "execution_count": 18,
     "metadata": {},
     "output_type": "execute_result"
    }
   ],
   "source": [
    "# Add soil model and other functions\n",
    "include(\"soil_water_properties.jl\")\n",
    "include(\"frozen_impedence_factor.jl\")\n",
    "include(\"temperature_dependence.jl\")\n",
    "include(\"matric_potential.jl\")\n",
    "include(\"pressure_head.jl\")\n",
    "include(\"hydraulic_head.jl\")\n",
    "include(\"effective_saturation.jl\")\n",
    "\n"
   ]
  },
  {
   "cell_type": "code",
   "execution_count": 28,
   "metadata": {},
   "outputs": [
    {
     "data": {
      "text/plain": [
       "3.889696921534746e-5"
      ]
     },
     "execution_count": 28,
     "metadata": {},
     "output_type": "execute_result"
    }
   ],
   "source": [
    "mineral_properties = \"Sand\"\n",
    "soil_T = 290\n",
    "soil_Tref = 280\n",
    "theta_liq = 0.25\n",
    "theta_ice = 0.01\n",
    "porosity = 0.5\n",
    "ψ = -100\n",
    "S_s = 10e-4  # [ m-1]\n",
    "flag = \"Brooks and Corey\" # \"van Genuchten\" , \"Brooks and Corey\"\n",
    "\n",
    "# This function calculates soil hydraulic conductivity\n",
    "Ks = soil_water_properties(mineral_properties,soil_T,soil_Tref,theta_liq,theta_ice,porosity,ψ,S_s,flag)  "
   ]
  },
  {
   "cell_type": "code",
   "execution_count": 29,
   "metadata": {},
   "outputs": [
    {
     "data": {
      "text/plain": [
       "1.3021281963008942"
      ]
     },
     "execution_count": 29,
     "metadata": {},
     "output_type": "execute_result"
    }
   ],
   "source": [
    "# soil_T = 290\n",
    "# soil_Tref = 280\n",
    "\n",
    "# This function calculates temperature dependence of hydraulic conductivity\n",
    "Theta_T = temperature_dependence(soil_T, soil_Tref) "
   ]
  },
  {
   "cell_type": "code",
   "execution_count": 30,
   "metadata": {},
   "outputs": [
    {
     "data": {
      "text/plain": [
       "0.72443596007499"
      ]
     },
     "execution_count": 30,
     "metadata": {},
     "output_type": "execute_result"
    }
   ],
   "source": [
    "# theta_ice = 0.01\n",
    "# porosity = 0.5\n",
    "\n",
    "# This function calculates frozen soil Impedence factor\n",
    "Gamma_thetai = frozen_impedence_factor(theta_ice, porosity)"
   ]
  },
  {
   "cell_type": "code",
   "execution_count": 31,
   "metadata": {},
   "outputs": [
    {
     "data": {
      "text/plain": [
       "0.5"
      ]
     },
     "execution_count": 31,
     "metadata": {},
     "output_type": "execute_result"
    }
   ],
   "source": [
    "# porosity = 0.5               \n",
    "# S_s = 10e-4  # [ m-1]\n",
    "# ψ = -100\n",
    "# theta_liq = 0.4\n",
    "\n",
    "# Effective saturation\n",
    "S_l = effective_saturation(porosity,S_s,ψ,theta_liq) "
   ]
  },
  {
   "cell_type": "code",
   "execution_count": 32,
   "metadata": {},
   "outputs": [
    {
     "data": {
      "text/plain": [
       "-3.4822022531844965"
      ]
     },
     "execution_count": 32,
     "metadata": {},
     "output_type": "execute_result"
    }
   ],
   "source": [
    "# Soil Matric potential\n",
    "# flag = \"van Genuchten\"\n",
    "alpha = 2 # m-1\n",
    "n = 5\n",
    "m = 1 - 1/n\n",
    "# S_l = 0.8\n",
    "\n",
    "# This function calculates matric potential ψ_m of a soil\n",
    "ψ_m = matric_potential(flag,alpha,S_l,n,m) \n",
    "\n"
   ]
  },
  {
   "cell_type": "code",
   "execution_count": 37,
   "metadata": {},
   "outputs": [
    {
     "data": {
      "text/plain": [
       "-3.4822022531844965"
      ]
     },
     "execution_count": 37,
     "metadata": {},
     "output_type": "execute_result"
    }
   ],
   "source": [
    "# Soil Matric potential\n",
    "# ψ_m = -0.5\n",
    "# S_l = 0.8\n",
    "# porosity = 0.5\n",
    "# S_s = 10e-4  # [ m-1]\n",
    "\n",
    "# This function calculates pressure head ψ of a soil\n",
    "ψ = pressure_head(ψ_m,S_l,porosity,S_s) "
   ]
  },
  {
   "cell_type": "code",
   "execution_count": 39,
   "metadata": {},
   "outputs": [
    {
     "data": {
      "text/plain": [
       "-5.9822022531844965"
      ]
     },
     "execution_count": 39,
     "metadata": {},
     "output_type": "execute_result"
    }
   ],
   "source": [
    "z = -2.5\n",
    "# ψ = -0.4\n",
    "\n",
    "# This function calculates pressure head ψ of a soil\n",
    "h = hydraulic_head(z,ψ) "
   ]
  },
  {
   "cell_type": "code",
   "execution_count": null,
   "metadata": {},
   "outputs": [],
   "source": []
  }
 ],
 "metadata": {
  "kernelspec": {
   "display_name": "Julia 1.3.1",
   "language": "julia",
   "name": "julia-1.3"
  },
  "language_info": {
   "file_extension": ".jl",
   "mimetype": "application/julia",
   "name": "julia",
   "version": "1.3.1"
  }
 },
 "nbformat": 4,
 "nbformat_minor": 2
}
