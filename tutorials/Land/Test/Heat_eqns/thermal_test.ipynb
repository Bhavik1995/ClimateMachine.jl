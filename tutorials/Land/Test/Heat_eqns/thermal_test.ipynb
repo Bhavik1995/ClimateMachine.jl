{
 "cells": [
  {
   "cell_type": "code",
   "execution_count": 5,
   "metadata": {},
   "outputs": [
    {
     "data": {
      "text/plain": [
       "temperature_calculator (generic function with 1 method)"
      ]
     },
     "execution_count": 5,
     "metadata": {},
     "output_type": "execute_result"
    }
   ],
   "source": [
    "# Add soil model and other functions\n",
    "include(\"thermal_properties.jl\")\n",
    "include(\"kersten.jl\")\n",
    "include(\"heat_capacity.jl\")\n",
    "include(\"internal_energy.jl\")\n",
    "include(\"temperature_calculator.jl\")"
   ]
  },
  {
   "cell_type": "code",
   "execution_count": 6,
   "metadata": {},
   "outputs": [
    {
     "data": {
      "text/plain": [
       "2.42"
      ]
     },
     "execution_count": 6,
     "metadata": {},
     "output_type": "execute_result"
    }
   ],
   "source": [
    "mineral_properties = \"Sand\"\n",
    "theta_liquid = 0.35\n",
    "theta_ice = 0.05\n",
    "\n",
    "# Define thermal conductivity of soil\n",
    "κ_sand = (thermal_properties(mineral_properties,theta_liquid,theta_ice ))"
   ]
  },
  {
   "cell_type": "code",
   "execution_count": 7,
   "metadata": {},
   "outputs": [
    {
     "data": {
      "text/plain": [
       "2.8045e6"
      ]
     },
     "execution_count": 7,
     "metadata": {},
     "output_type": "execute_result"
    }
   ],
   "source": [
    "# mineral_properties = \"Sand\"\n",
    "# theta_liquid = 0.35\n",
    "# theta_ice = 0.05\n",
    "porosity = 0.5\n",
    "\n",
    "# Define heat capacity of soil\n",
    "c_s = heat_capacity(mineral_properties,porosity,theta_liquid,theta_ice ) \n"
   ]
  },
  {
   "cell_type": "code",
   "execution_count": 8,
   "metadata": {},
   "outputs": [
    {
     "data": {
      "text/plain": [
       "-7.891680000000038e6"
      ]
     },
     "execution_count": 8,
     "metadata": {},
     "output_type": "execute_result"
    }
   ],
   "source": [
    "# c_s = 2.8045e6\n",
    "# theta_ice = 0.05\n",
    "T = 275.8\n",
    "T0 = 273.16\n",
    "\n",
    "# Define Internal Energy of soil\n",
    "I_soil = internal_energy(c_s,T,theta_ice) \n"
   ]
  },
  {
   "cell_type": "code",
   "execution_count": 9,
   "metadata": {},
   "outputs": [
    {
     "data": {
      "text/plain": [
       "275.8"
      ]
     },
     "execution_count": 9,
     "metadata": {},
     "output_type": "execute_result"
    }
   ],
   "source": [
    "# T0 = 273.16\n",
    "# I_soil = -8.7337e6\n",
    "# c_s = 2.8045e6\n",
    "# theta_ice = 0.05\n",
    "\n",
    "# Define Temperature of soil\n",
    "T_soil = temperature_calculator(c_s,I_soil,theta_ice)"
   ]
  },
  {
   "cell_type": "code",
   "execution_count": null,
   "metadata": {},
   "outputs": [],
   "source": []
  }
 ],
 "metadata": {
  "kernelspec": {
   "display_name": "Julia 1.3.1",
   "language": "julia",
   "name": "julia-1.3"
  },
  "language_info": {
   "file_extension": ".jl",
   "mimetype": "application/julia",
   "name": "julia",
   "version": "1.3.1"
  }
 },
 "nbformat": 4,
 "nbformat_minor": 2
}
