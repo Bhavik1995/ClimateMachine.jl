{
 "cells": [
  {
   "cell_type": "markdown",
   "metadata": {},
   "source": [
    "## Richards Equation Toy model -- Trying the Julia Solvers"
   ]
  },
  {
   "cell_type": "code",
   "execution_count": 2,
   "metadata": {},
   "outputs": [],
   "source": [
    "using DiffEqOperators,  DifferentialEquations,  Plots\n",
    "using Parameters\n",
    "using Revise\n",
    "#from jupyterthemes import jtplot\n",
    "#jtplot.style(theme=’monokai’, context=’notebook’, ticks=True, grid=False)"
   ]
  },
  {
   "cell_type": "code",
   "execution_count": 3,
   "metadata": {},
   "outputs": [
    {
     "data": {
      "text/plain": [
       "matric_potential"
      ]
     },
     "execution_count": 3,
     "metadata": {},
     "output_type": "execute_result"
    }
   ],
   "source": [
    "FT = Float64\n",
    "\n",
    "include(\"Water/water_functions.jl\")\n",
    "include(\"Water/hydraulic_conductivity_composable.jl\")\n",
    "include(\"Water/matric_potential_composable.jl\")"
   ]
  },
  {
   "cell_type": "code",
   "execution_count": 4,
   "metadata": {},
   "outputs": [],
   "source": [
    "hydraulic_model = Havercamp{FT}();\n",
    "matric_model    = vanGenuchten{FT}();"
   ]
  },
  {
   "cell_type": "code",
   "execution_count": 17,
   "metadata": {},
   "outputs": [
    {
     "name": "stdout",
     "output_type": "stream",
     "text": [
      "-1.938733644779751\n"
     ]
    },
    {
     "data": {
      "text/plain": [
       "1.3548894996468134e-9"
      ]
     },
     "execution_count": 17,
     "metadata": {},
     "output_type": "execute_result"
    }
   ],
   "source": [
    "K_sat  = 0.0443 / (3600*100)\n",
    "porosity = 0.495 # Read in from data base\n",
    "S_s = 10e-4  # [ m-1] ## Check this value !!\n",
    "\n",
    "#IC/BC values  - to be specified/calculated via a BC/IC struct, and treated as an attribute of the model.\n",
    "ν_0 = 0.24\n",
    "ν_surface = porosity-1e-3\n",
    "S_l_0 = effective_saturation(porosity, ν_0)\n",
    "ψ_0 = pressure_head(matric_model,S_l_0,porosity,S_s,ν_0)\n",
    "println(ψ_0)\n",
    "κ_0 = hydraulic_conductivity(hydraulic_model, K_sat, S_l_0, ψ_0,0.0)"
   ]
  },
  {
   "cell_type": "code",
   "execution_count": 18,
   "metadata": {},
   "outputs": [
    {
     "data": {
      "text/plain": [
       "2"
      ]
     },
     "execution_count": 18,
     "metadata": {},
     "output_type": "execute_result"
    }
   ],
   "source": [
    "L  = 1.0 # depth in meters\n",
    "nknots = 99 #99\n",
    "dz = -L/(nknots+1)#1000.0/(nknots+1)\n",
    "knots = range(dz, step=dz, length=nknots)\n",
    "\n",
    "z = collect(knots)\n",
    "ord_deriv = 2\n",
    "ord_approx = 2"
   ]
  },
  {
   "cell_type": "code",
   "execution_count": 19,
   "metadata": {},
   "outputs": [
    {
     "name": "stderr",
     "output_type": "stream",
     "text": [
      "WARNING: redefining constant bc\n"
     ]
    },
    {
     "data": {
      "text/plain": [
       "RobinBC{Float64,Array{Float64,1}}([-0.0, 0.0], 0.494, [-0.0, 0.0], 0.24)"
      ]
     },
     "execution_count": 19,
     "metadata": {},
     "output_type": "execute_result"
    }
   ],
   "source": [
    "const Δ = CenteredDifference(ord_deriv, ord_approx, dz, nknots)\n",
    "const ∇ = CenteredDifference(1, ord_approx, dz, nknots)\n",
    "const bc = DirichletBC(ν_surface, ν_0)"
   ]
  },
  {
   "cell_type": "code",
   "execution_count": 27,
   "metadata": {},
   "outputs": [
    {
     "data": {
      "text/plain": [
       "soil_water (generic function with 1 method)"
      ]
     },
     "execution_count": 27,
     "metadata": {},
     "output_type": "execute_result"
    }
   ],
   "source": [
    "function soil_water(ν,p,t; porosity=porosity, S_s=S_s, HM=hydraulic_model, MM=matric_model, K_sat=K_sat, z=z )\n",
    "    # Get effective saturation\n",
    "    ν_ext = bc*ν\n",
    "    S_l = map(x -> effective_saturation(porosity,x),ν_ext)\n",
    "    #@show S_l\n",
    "    # This function calculates pressure head ψ of a soil\n",
    "    ψ = similar(S_l)\n",
    "    K = similar(S_l)\n",
    "    for i in eachindex(ψ)\n",
    "        ψ[i] = pressure_head(MM, S_l[i],porosity,S_s,ν_ext[i])\n",
    "    end\n",
    "    \n",
    "    # Get hydraulic head\n",
    "    #h = hydraulic_head(z,ψ)\n",
    "    \n",
    "    # Conductivity\n",
    "    for i in eachindex(ψ)\n",
    "        K[i] = hydraulic_conductivity(HM,K_sat,S_l[i],ψ[i],0.0)\n",
    "    end\n",
    "    #@show K\n",
    "    dKdz = ∇*K\n",
    "   \n",
    "    K[2:end-1]*Δ*ψ + (∇*ψ) .* dKdz + dKdz\n",
    "\n",
    "end"
   ]
  },
  {
   "cell_type": "code",
   "execution_count": 28,
   "metadata": {},
   "outputs": [],
   "source": [
    "ν = ν_0*ones(99);\n",
    "soil_water(ν,1,0);"
   ]
  },
  {
   "cell_type": "code",
   "execution_count": null,
   "metadata": {},
   "outputs": [],
   "source": [
    "tmax = 11*86400.0\n",
    "prob = ODEProblem(soil_water, ν, (0.0, tmax))\n",
    "alg = KenCarp4(autodiff=false)\n",
    "sol = solve(prob, alg, saveat=10*60.0)\n",
    "#sol_times = [sol(t) for t in 0.0:dt:tmax]"
   ]
  },
  {
   "cell_type": "code",
   "execution_count": 11,
   "metadata": {},
   "outputs": [
    {
     "ename": "UndefVarError",
     "evalue": "UndefVarError: sol not defined",
     "output_type": "error",
     "traceback": [
      "UndefVarError: sol not defined",
      "",
      "Stacktrace:",
      " [1] top-level scope at In[11]:1"
     ]
    }
   ],
   "source": [
    "plot(sol[1],z)\n",
    "for i=1:20:length(sol.u)\n",
    "    plot!(sol[i],z)\n",
    "end\n",
    "plot!(sol[end],z)"
   ]
  },
  {
   "cell_type": "code",
   "execution_count": 12,
   "metadata": {},
   "outputs": [
    {
     "ename": "UndefVarError",
     "evalue": "UndefVarError: sol not defined",
     "output_type": "error",
     "traceback": [
      "UndefVarError: sol not defined",
      "",
      "Stacktrace:",
      " [1] top-level scope at In[12]:1"
     ]
    }
   ],
   "source": [
    "length(sol.u)"
   ]
  },
  {
   "cell_type": "code",
   "execution_count": null,
   "metadata": {},
   "outputs": [],
   "source": []
  }
 ],
 "metadata": {
  "kernelspec": {
   "display_name": "Julia 1.4.2",
   "language": "julia",
   "name": "julia-1.4"
  },
  "language_info": {
   "file_extension": ".jl",
   "mimetype": "application/julia",
   "name": "julia",
   "version": "1.4.2"
  }
 },
 "nbformat": 4,
 "nbformat_minor": 2
}
